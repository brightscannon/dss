{
 "cells": [
  {
   "cell_type": "code",
   "execution_count": 14,
   "metadata": {},
   "outputs": [],
   "source": [
    "%matplotlib inline\n",
    "%config InlineBackend.figure_formats = {'png','retina'}\n",
    "\n",
    "#https://github.com/jupyter-widgets/ipyleaflet\n",
    "\n",
    "from ipyleaflet import *\n",
    "import time"
   ]
  },
  {
   "cell_type": "code",
   "execution_count": 33,
   "metadata": {},
   "outputs": [
    {
     "data": {
      "application/vnd.jupyter.widget-view+json": {
       "model_id": "1f7452e0144f453b92e69e293a1e679f",
       "version_major": 2,
       "version_minor": 0
      },
      "text/plain": [
       "Map(basemap={'url': 'https://{s}.tile.openstreetmap.org/{z}/{x}/{y}.png', 'max_zoom': 19, 'attribution': 'Map …"
      ]
     },
     "metadata": {},
     "output_type": "display_data"
    }
   ],
   "source": [
    "center = [37.455887, 126.904063]\n",
    "zoom = 12\n",
    "m = Map(center=center, zoom=zoom)\n",
    "m"
   ]
  },
  {
   "cell_type": "markdown",
   "metadata": {},
   "source": [
    "### Add Marker"
   ]
  },
  {
   "cell_type": "code",
   "execution_count": 3,
   "metadata": {},
   "outputs": [],
   "source": [
    "marker = Marker(location=center)\n",
    "\n",
    "m+=marker"
   ]
  },
  {
   "cell_type": "code",
   "execution_count": 35,
   "metadata": {},
   "outputs": [
    {
     "data": {
      "text/html": [
       "<div>\n",
       "<style>\n",
       "    .dataframe thead tr:only-child th {\n",
       "        text-align: right;\n",
       "    }\n",
       "\n",
       "    .dataframe thead th {\n",
       "        text-align: left;\n",
       "    }\n",
       "\n",
       "    .dataframe tbody tr th {\n",
       "        vertical-align: top;\n",
       "    }\n",
       "</style>\n",
       "<table border=\"1\" class=\"dataframe\">\n",
       "  <thead>\n",
       "    <tr style=\"text-align: right;\">\n",
       "      <th></th>\n",
       "      <th>명칭</th>\n",
       "      <th>좌표주소</th>\n",
       "      <th>위도</th>\n",
       "      <th>경도</th>\n",
       "      <th>상세주소</th>\n",
       "      <th>상세내용</th>\n",
       "    </tr>\n",
       "  </thead>\n",
       "  <tbody>\n",
       "    <tr>\n",
       "      <th>15</th>\n",
       "      <td>자전거관리 CCTV</td>\n",
       "      <td>대한민국 서울특별시 금천구 시흥대로63길 72</td>\n",
       "      <td>37.455901</td>\n",
       "      <td>126.895816</td>\n",
       "      <td>시흥대로63길 72</td>\n",
       "      <td>관리번호: BC101</td>\n",
       "    </tr>\n",
       "    <tr>\n",
       "      <th>16</th>\n",
       "      <td>자전거관리 CCTV</td>\n",
       "      <td>대한민국 경기도 안양시 만안구 석수동 안양천교</td>\n",
       "      <td>37.423579</td>\n",
       "      <td>126.898342</td>\n",
       "      <td>안양천 자전거보관소(육교)</td>\n",
       "      <td>관리번호: BC102</td>\n",
       "    </tr>\n",
       "    <tr>\n",
       "      <th>17</th>\n",
       "      <td>자전거관리 CCTV</td>\n",
       "      <td>대한민국 경기도 안양시 만안구 석수동 안양천교</td>\n",
       "      <td>37.423579</td>\n",
       "      <td>126.898342</td>\n",
       "      <td>안양천 화장실앞(육교)</td>\n",
       "      <td>관리번호: BC103</td>\n",
       "    </tr>\n",
       "    <tr>\n",
       "      <th>18</th>\n",
       "      <td>자전거관리 CCTV</td>\n",
       "      <td>대한민국 경기도 안양시 만안구 석수동 안양천교</td>\n",
       "      <td>37.423579</td>\n",
       "      <td>126.898342</td>\n",
       "      <td>안양천 육교</td>\n",
       "      <td>관리번호: BC104</td>\n",
       "    </tr>\n",
       "    <tr>\n",
       "      <th>19</th>\n",
       "      <td>주정차단속 CCTV</td>\n",
       "      <td>대한민국 서울특별시 금천구 가산로 77</td>\n",
       "      <td>37.911063</td>\n",
       "      <td>127.781408</td>\n",
       "      <td>가산로77 기업은행</td>\n",
       "      <td>관리번호: N101</td>\n",
       "    </tr>\n",
       "  </tbody>\n",
       "</table>\n",
       "</div>"
      ],
      "text/plain": [
       "            명칭                       좌표주소         위도          경도  \\\n",
       "15  자전거관리 CCTV  대한민국 서울특별시 금천구 시흥대로63길 72  37.455901  126.895816   \n",
       "16  자전거관리 CCTV  대한민국 경기도 안양시 만안구 석수동 안양천교  37.423579  126.898342   \n",
       "17  자전거관리 CCTV  대한민국 경기도 안양시 만안구 석수동 안양천교  37.423579  126.898342   \n",
       "18  자전거관리 CCTV  대한민국 경기도 안양시 만안구 석수동 안양천교  37.423579  126.898342   \n",
       "19  주정차단속 CCTV      대한민국 서울특별시 금천구 가산로 77  37.911063  127.781408   \n",
       "\n",
       "              상세주소         상세내용  \n",
       "15      시흥대로63길 72  관리번호: BC101  \n",
       "16  안양천 자전거보관소(육교)  관리번호: BC102  \n",
       "17    안양천 화장실앞(육교)  관리번호: BC103  \n",
       "18          안양천 육교  관리번호: BC104  \n",
       "19      가산로77 기업은행   관리번호: N101  "
      ]
     },
     "execution_count": 35,
     "metadata": {},
     "output_type": "execute_result"
    }
   ],
   "source": [
    "df = pd.read_csv(\"cctv.csv\")[:20]\n",
    "\n",
    "df.tail()"
   ]
  },
  {
   "cell_type": "code",
   "execution_count": 36,
   "metadata": {},
   "outputs": [
    {
     "data": {
      "text/plain": [
       "[(37.475976600000003, 126.90681789999996),\n",
       " (37.470488000000003, 126.90656799999999),\n",
       " (37.468207299999996, 126.89078949999998),\n",
       " (37.464440000000003, 126.90033149999999),\n",
       " (37.466630500000001, 126.90800779999996),\n",
       " (37.462334999999996, 126.90740000000004),\n",
       " (37.4599209, 126.90767019999998),\n",
       " (37.455430900000003, 126.90415710000002),\n",
       " (37.453722300000003, 126.91252889999998),\n",
       " (37.452032899999999, 126.91322130000003),\n",
       " (37.458594599999998, 126.8883555),\n",
       " (37.447778100000001, 126.90423599999997),\n",
       " (37.449352300000001, 126.89842309999995),\n",
       " (37.450378299999997, 126.91573510000001),\n",
       " (37.448271900000002, 126.91645149999999),\n",
       " (37.455901099999998, 126.89581560000001),\n",
       " (37.423578599999999, 126.89834240000003),\n",
       " (37.423578599999999, 126.89834240000003),\n",
       " (37.423578599999999, 126.89834240000003),\n",
       " (37.911062999999999, 127.78140810000002)]"
      ]
     },
     "execution_count": 36,
     "metadata": {},
     "output_type": "execute_result"
    }
   ],
   "source": [
    "locs = list(zip(df[\"위도\"],df[\"경도\"]))\n",
    "locs"
   ]
  },
  {
   "cell_type": "code",
   "execution_count": 38,
   "metadata": {},
   "outputs": [],
   "source": [
    "for loc in locs:\n",
    "    marker = Marker(location=loc)\n",
    "    m+=marker\n",
    "    time.sleep(0.8)"
   ]
  },
  {
   "cell_type": "code",
   "execution_count": 37,
   "metadata": {},
   "outputs": [],
   "source": [
    "dc = DrawControl(circle={'shapeOptions':{'color':'#0000FF'}})#, rectangle={'shapeOption\n",
    "m.add_control(dc)"
   ]
  }
 ],
 "metadata": {
  "kernelspec": {
   "display_name": "Python 3",
   "language": "python",
   "name": "python3"
  },
  "language_info": {
   "codemirror_mode": {
    "name": "ipython",
    "version": 3
   },
   "file_extension": ".py",
   "mimetype": "text/x-python",
   "name": "python",
   "nbconvert_exporter": "python",
   "pygments_lexer": "ipython3",
   "version": "3.6.3"
  }
 },
 "nbformat": 4,
 "nbformat_minor": 2
}
