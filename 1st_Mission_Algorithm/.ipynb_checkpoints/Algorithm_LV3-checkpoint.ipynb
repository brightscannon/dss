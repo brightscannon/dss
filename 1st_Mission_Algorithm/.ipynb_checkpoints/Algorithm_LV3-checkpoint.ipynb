{
 "cells": [
  {
   "cell_type": "code",
   "execution_count": 1,
   "metadata": {},
   "outputs": [
    {
     "name": "stdout",
     "output_type": "stream",
     "text": [
      "s는 \"a B z\", n은 4인 경우: e F d\n",
      "B Hsfbuftu Tipx Nbo\n",
      "Btwqi Bfw E\n"
     ]
    }
   ],
   "source": [
    "#LV_3 시저암호\n",
    "\n",
    "def caesar(s, n):\n",
    "    result = \"\"\n",
    "\n",
    "    # 아스키코드상 A=65 ~ Z=90 , a=97 ~ z=122\n",
    "    # 코드값-->문자값 변환 chr(),,   문자값-->코드값 변환 ord()\n",
    "\n",
    "    k = [\"\".join([chr((ord(i)-65+n%26)%26+65) if ord(i) in range(65,91) else chr((ord(i)-97+n%26)%26+97) if ord(i) in range(97,123) else i for i in list(worda)]) for worda in s.split(\" \")]\n",
    "    return \" \".join(k)\n",
    "\n",
    "    # 주어진 문장을 암호화하여 반환하세요.\n",
    "\n",
    "\n",
    "# 실행을 위한 테스트코드입니다.\n",
    "print('s는 \"a B z\", n은 4인 경우: ' + caesar(\"a B z\", 4))\n",
    "print(caesar(\"A Greatest Show Man\", 1))\n",
    "print(caesar(\"World War Z\", 5))\n"
   ]
  },
  {
   "cell_type": "code",
   "execution_count": 1,
   "metadata": {},
   "outputs": [
    {
     "name": "stdout",
     "output_type": "stream",
     "text": [
      "168\n"
     ]
    }
   ],
   "source": [
    "#LV_3 N개의 최소공배수\n",
    " \n",
    "def nlcm(num):\n",
    "    answer = 0\n",
    "    now_dic = {}\n",
    "    total_dic = {}\n",
    "    \n",
    "    for i in num:\n",
    "        j = 2\n",
    "        now_dic[2] = 0\n",
    "        #특정숫자의 약수들 구하기\n",
    "        while 1 :\n",
    "            if i % j == 0:\n",
    "                i = i / j\n",
    "                now_dic[j] += 1\n",
    "            elif i == 1: \n",
    "                now_dic[1] = 1\n",
    "                break\n",
    "            else :\n",
    "                j += 1\n",
    "                now_dic[j] = 0\n",
    "        \n",
    "        \n",
    "        # 특정 숫자의 약수들을 모아서 가장 많은 약수갯수를 업데이트\n",
    "        for k in now_dic.keys():\n",
    "            if total_dic.get(k, 0) == 0:\n",
    "                total_dic[k] = now_dic[k]\n",
    "            elif total_dic.get(k) < now_dic.get(k):\n",
    "                total_dic[k] = now_dic[k]\n",
    "                \n",
    "        now_dic.clear()\n",
    "        \n",
    "    #약수의 최대갯수만 모아서 곱 \n",
    "    lcm = 1\n",
    "    for k in [i**j for i,j in total_dic.items()]:\n",
    "        if k > 1:\n",
    "            lcm *= k \n",
    "    return lcm\n",
    "\n",
    "# 아래는 테스트로 출력해 보기 위한 코드입니다.\n",
    "print(nlcm([2,6,8,14]))"
   ]
  },
  {
   "cell_type": "code",
   "execution_count": 2,
   "metadata": {},
   "outputs": [
    {
     "name": "stdout",
     "output_type": "stream",
     "text": [
      "83\n"
     ]
    }
   ],
   "source": [
    "#LV_3 다음 큰 숫자\n",
    "\n",
    "def nextBigNumber(n):\n",
    "    answer = 0\n",
    "\n",
    "    #입력값의 2진수화 후 1의 갯수 도출\n",
    "    num1 = bin(n).count('1')\n",
    "\n",
    "    #더 큰 모든 수 2진수화 후 1의 갯수 차례로 조회 후 최초숫자를 출력\n",
    "    while 1:\n",
    "        n += 1\n",
    "        if bin(n).count('1') == num1:\n",
    "            return n\n",
    "\n",
    "#아래 코드는 테스트를 위한 출력 코드입니다.\n",
    "print(nextBigNumber(78))"
   ]
  },
  {
   "cell_type": "code",
   "execution_count": 5,
   "metadata": {},
   "outputs": [
    {
     "name": "stdout",
     "output_type": "stream",
     "text": [
      "1\n",
      "-1\n",
      "30\n"
     ]
    }
   ],
   "source": [
    "#LV_4 공항건설하기\n",
    "\n",
    "def chooseCity(n,city):\n",
    "\n",
    "    city.sort()\n",
    "\n",
    "    left = 0\n",
    "    right = sum([i[1] for i in city])\n",
    "\n",
    "    for i in range(0,n):\n",
    "        left += city[i][1]\n",
    "        right -= city[i][1]\n",
    "        if left >= right :\n",
    "            return city[i][0]\n",
    "            break\n",
    "\n",
    "    '''\n",
    "    #방정식에 의한 풀이법 ... 시간초과\n",
    "    people_sum = 0\n",
    "    k_value = 0\n",
    "\n",
    "    for i in city:\n",
    "        people_sum += i[1]\n",
    "        k_value += i[0]*i[1]\n",
    "\n",
    "    a = [i for i in zip(*city)]\n",
    "\n",
    "\n",
    "    city_sort = list(a[0])\n",
    "    city_sort.sort()\n",
    "    # print(city_sort)\n",
    "\n",
    "    min_aircity = city_sort[0] \n",
    "    a = 0\n",
    "\n",
    "    for i in city_sort:\n",
    "        cal_value = 0\n",
    "        for j in city:\n",
    "            cal_value += abs(j[1]*(i - j[0]))\n",
    "            if a == 1 and cal_value > min_value:\n",
    "                break\n",
    "        # print(cal_value)\n",
    "        if a == 0:\n",
    "            min_value = cal_value\n",
    "            a = 1\n",
    "        elif cal_value < min_value:\n",
    "            min_value = cal_value\n",
    "            min_aircity = i\n",
    "\n",
    "    return min_aircity\n",
    "    '''\n",
    "\n",
    "#아래 코드는 출력을 위한 테스트 코드입니다.\n",
    "\n",
    "print(chooseCity(3,[[3,3],[2,2],[1,5]]))\n",
    "print(chooseCity(5,[[-3,7],[4,3],[-1,2],[9,2],[3,4]]))\n",
    "print(chooseCity(6,[[-15,21],[0,5],[-5,10],[35,5],[20,15],[30,61]]))\n"
   ]
  },
  {
   "cell_type": "code",
   "execution_count": 8,
   "metadata": {},
   "outputs": [
    {
     "name": "stdout",
     "output_type": "stream",
     "text": [
      "16\n",
      "-----\n",
      "80\n"
     ]
    }
   ],
   "source": [
    "#LV_4 땅따먹기게임\n",
    "\n",
    "def hopscotch(board, size):\n",
    "    # 땅따먹기 게임으로 얻을 수 있는 최대 점수는?\n",
    "    ls = [0, 0, 0, 0]\n",
    "\n",
    "    for row in board:\n",
    "        bf = ls[:]\n",
    "        # print(bf)\n",
    "        for i in range(0,4):\n",
    "            ls[i] = row[i] + max(bf[:i] + bf[i+1:])\n",
    "\n",
    "    return max(ls)\n",
    "\n",
    "#아래는 테스트로 출력해 보기 위한 코드입니다.\n",
    "board =  [[ 1, 2, 3, 5 ], [ 5, 6, 7, 8 ], [4, 3, 2, 1]]\n",
    "\n",
    "print(hopscotch(board, 3))\n",
    "print(\"-----\")\n",
    "board = [[9, 9, 3, 8], [5, 8, 2, 5], [1, 4, 7, 5], [7, 10, 8, 9], [10, 7, 9, 6], [8, 3, 7, 7], [4, 4, 7, 1], [3, 6, 4, 3], [10, 8, 2, 2], [6, 4, 5, 6]]\n",
    "\n",
    "print(hopscotch(board, 10))\n"
   ]
  },
  {
   "cell_type": "code",
   "execution_count": 10,
   "metadata": {},
   "outputs": [
    {
     "name": "stdout",
     "output_type": "stream",
     "text": [
      "9\n"
     ]
    }
   ],
   "source": [
    "#LV_4 가장 큰 정사각형 찾기\n",
    "\n",
    "def findLargestSquare(board):\n",
    "    answer = 0\n",
    "\n",
    "    for i in range(len(board)):\n",
    "        for j in range(len(board[i])):\n",
    "            if board[i][j] == 'X':\n",
    "                board[i][j] = 0\n",
    "            else:\n",
    "                board[i][j] = 1  \n",
    "                if i > 0 and j > 0 : #현재칸의 정사각형 최대 면적 계산\n",
    "                    board[i][j] = min(board[i-1][j-1],board[i][j-1],board[i-1][j]) + 1 \n",
    "            if answer < board[i][j]: #최대치인지 확인 후 값 반영\n",
    "                answer = board[i][j]\n",
    "\n",
    "    return int(answer) ** 2\n",
    "\n",
    "testBoard = [['X','O','O','O','X'],['X','O','O','O','O'],\n",
    "             ['X','X','O','O','O'],['X','X','O','O','O'],['X','X','X','X','X']]\n",
    "print(findLargestSquare(testBoard))\n"
   ]
  }
 ],
 "metadata": {
  "kernelspec": {
   "display_name": "Python 3",
   "language": "python",
   "name": "python3"
  },
  "language_info": {
   "codemirror_mode": {
    "name": "ipython",
    "version": 3
   },
   "file_extension": ".py",
   "mimetype": "text/x-python",
   "name": "python",
   "nbconvert_exporter": "python",
   "pygments_lexer": "ipython3",
   "version": "3.6.3"
  }
 },
 "nbformat": 4,
 "nbformat_minor": 2
}
