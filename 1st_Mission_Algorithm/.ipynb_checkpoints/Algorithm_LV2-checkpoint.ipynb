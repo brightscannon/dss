{
 "cells": [
  {
   "cell_type": "code",
   "execution_count": 1,
   "metadata": {},
   "outputs": [
    {
     "name": "stdout",
     "output_type": "stream",
     "text": [
      "결과 : [5, 4, 3, 2, 1]\n"
     ]
    }
   ],
   "source": [
    "#LV_2 자연수를 뒤집어 리스트 만들기\n",
    "\n",
    "def digit_reverse(n):\n",
    "    \n",
    "    return [int(i) for i in reversed(str(n))]\n",
    "\n",
    "# 아래는 테스트로 출력해 보기 위한 코드입니다.\n",
    "print(\"결과 : {}\".format(digit_reverse(12345)));"
   ]
  },
  {
   "cell_type": "code",
   "execution_count": 2,
   "metadata": {},
   "outputs": [
    {
     "name": "stdout",
     "output_type": "stream",
     "text": [
      "7\n",
      "3\n",
      "3\n",
      "5\n",
      "9\n",
      "9\n",
      "13\n",
      "7\n"
     ]
    }
   ],
   "source": [
    "#LV_2 가장 긴 팰린드롬\n",
    "\n",
    "def longest_palindrom(s):\n",
    "    # 함수를 완성하세요\n",
    "\n",
    "    max_len = 0\n",
    "    for i in range(0,len(s)):\n",
    "        for j in range(i,len(s)):\n",
    "            if s[::-1].find(s[i:j+1]) != -1 and max_len < abs(j-i)+1:\n",
    "                # print(\"같은글자발견!! i:{}, j:{}\".format(i,j) )\n",
    "                max_len = abs(j-i)+1\n",
    "\n",
    "    return max_len\n",
    "\n",
    "\n",
    "# 아래는 테스트로 출력해 보기 위한 코드입니다.\n",
    "print(longest_palindrom(\"토마토맛토마토\"))\n",
    "print(longest_palindrom(\"토마토맛있어\"))\n",
    "print(longest_palindrom(\"똑같은 단어라고는 삐약삐약 뿐이다\") )\n",
    "print(longest_palindrom(\"다시합시다 다시해볼까?\") )\n",
    "print(longest_palindrom(\"다이쁜이쁜이쁜이다\"))\n",
    "print(longest_palindrom(\"여보게저기저게보여 이런 다된장국청국장된다\"))\n",
    "print(longest_palindrom(\"어딜 나갔다오나 나오다갔나 \"))\n",
    "print(longest_palindrom(\"여보안경안보여 통술집술통 소주만병만주소\"))\n"
   ]
  },
  {
   "cell_type": "code",
   "execution_count": 3,
   "metadata": {},
   "outputs": [
    {
     "name": "stdout",
     "output_type": "stream",
     "text": [
      "3people Unfollowed Me For The Last Week\n"
     ]
    }
   ],
   "source": [
    "#LV_2 JadenCase문자열 만들기\n",
    "\n",
    "def Jaden_Case(s):\n",
    "    # 함수를 완성하세요\n",
    "\n",
    "    s_list = s.split(\" \")\n",
    "    s = \" \".join([text[0].upper() + text[1:].lower() for text in s_list])\n",
    "\n",
    "    return s\n",
    "\n",
    "# 아래는 테스트로 출력해 보기 위한 코드입니다.\n",
    "print(Jaden_Case(\"3people unFollowed me for the last week\"))\n"
   ]
  },
  {
   "cell_type": "code",
   "execution_count": 4,
   "metadata": {},
   "outputs": [
    {
     "name": "stdout",
     "output_type": "stream",
     "text": [
      "8\n"
     ]
    }
   ],
   "source": [
    "#LV_2 콜라츠 추측\n",
    "\n",
    "def collatz(num):\n",
    "    answer = -1\n",
    "    for i in range(500):\n",
    "        if num % 2 == 0:\n",
    "            num = num/2\n",
    "        elif num == 1:\n",
    "            answer = i\n",
    "            break\n",
    "        else:\n",
    "            num = num * 3 + 1\n",
    "    return answer\n",
    "\n",
    "# 아래는 테스트로 출력해 보기 위한 코드입니다.\n",
    "print(collatz(6))\n"
   ]
  },
  {
   "cell_type": "code",
   "execution_count": 5,
   "metadata": {},
   "outputs": [
    {
     "name": "stdout",
     "output_type": "stream",
     "text": [
      "21\n"
     ]
    }
   ],
   "source": [
    "#LV_3 멀리뛰기\n",
    "\n",
    "def jumpCase(num):\n",
    "\n",
    "    jc_list=[0,1,2,]\n",
    "    for i in range(3, num+1):\n",
    "        jc_list.append(jc_list[i-1] + jc_list[i-2]) \n",
    "    answer = jc_list[num]\n",
    "    return answer\n",
    "\n",
    "#아래는 테스트로 출력해 보기 위한 코드입니다.\n",
    "print(jumpCase(7))\n"
   ]
  },
  {
   "cell_type": "code",
   "execution_count": null,
   "metadata": {},
   "outputs": [],
   "source": []
  }
 ],
 "metadata": {
  "kernelspec": {
   "display_name": "Python 3",
   "language": "python",
   "name": "python3"
  },
  "language_info": {
   "codemirror_mode": {
    "name": "ipython",
    "version": 3
   },
   "file_extension": ".py",
   "mimetype": "text/x-python",
   "name": "python",
   "nbconvert_exporter": "python",
   "pygments_lexer": "ipython3",
   "version": "3.6.3"
  }
 },
 "nbformat": 4,
 "nbformat_minor": 2
}
