{
 "cells": [
  {
   "cell_type": "code",
   "execution_count": 2,
   "metadata": {},
   "outputs": [
    {
     "name": "stdout",
     "output_type": "stream",
     "text": [
      "['1', '3', '0', '3']\n"
     ]
    }
   ],
   "source": [
    "#LV_1. 같은숫자는 시러\n",
    "\n",
    "def no_continuous(s):\n",
    "    # 함수를 완성하세요\n",
    "    xs = list(s)+[0]\n",
    "    return [xs[i] for i in range(0,len(xs)-1) if xs[i] != xs[i+1]]\n",
    "\n",
    "# 아래는 테스트로 출력해 보기 위한 코드입니다.\n",
    "print( no_continuous( \"133303\" ))\n"
   ]
  },
  {
   "cell_type": "code",
   "execution_count": 4,
   "metadata": {},
   "outputs": [
    {
     "name": "stdout",
     "output_type": "stream",
     "text": [
      "-1234\n"
     ]
    }
   ],
   "source": [
    "#LV_1. 스트링을 숫자로 바꾸기\n",
    "\n",
    "def strToInt(str):\n",
    "    result = int(str)\n",
    "    #함수를 완성하세요\n",
    "    \n",
    "    return result\n",
    "\n",
    "\n",
    "# 아래는 테스트로 출력해 보기 위한 코드입니다.\n",
    "print(strToInt(\"-1234\"));"
   ]
  },
  {
   "cell_type": "code",
   "execution_count": 5,
   "metadata": {},
   "outputs": [
    {
     "name": "stdout",
     "output_type": "stream",
     "text": [
      "[[4, 6], [7, 9]]\n"
     ]
    }
   ],
   "source": [
    "#LV_1. 행렬의 덧샘\n",
    "\n",
    "def sumMatrix(A,B):\n",
    "    answer = [[sum(row) for row in zip(*mixture)] for mixture in zip(A,B)]\n",
    "    return answer\n",
    "\n",
    "# 아래는 테스트로 출력해 보기 위한 코드입니다.\n",
    "print(sumMatrix([[1,2], [2,3]], [[3,4],[5,6]]))"
   ]
  },
  {
   "cell_type": "code",
   "execution_count": 6,
   "metadata": {},
   "outputs": [
    {
     "name": "stdout",
     "output_type": "stream",
     "text": [
      "n이 3인 경우: 수박수\n",
      "n이 4인 경우: 수박수박\n"
     ]
    }
   ],
   "source": [
    "#LV_1. 수박수박수박수\n",
    "\n",
    "def water_melon(n):\n",
    "    k=\"\"\n",
    "    for i in range(0, int(n/2)):\n",
    "        k += \"수박\" \n",
    "    if i%2 == 0:\n",
    "        k += \"수\"\n",
    "    return str(k)\n",
    "\n",
    "\n",
    "# 실행을 위한 테스트코드입니다.\n",
    "print(\"n이 3인 경우: \" + water_melon(3));\n",
    "print(\"n이 4인 경우: \" + water_melon(4));\n"
   ]
  },
  {
   "cell_type": "code",
   "execution_count": 7,
   "metadata": {},
   "outputs": [
    {
     "name": "stdout",
     "output_type": "stream",
     "text": [
      "13\n"
     ]
    }
   ],
   "source": [
    "#LV_1. 피보나치의 수\n",
    "\n",
    "def fibonacci(num):\n",
    "    answer = [0,1]\n",
    "\n",
    "    for i in range(2,num+1):\n",
    "        answer.append(answer[i-1]+answer[i-2])\n",
    "\n",
    "    return answer[num]\n",
    "\n",
    "# 아래는 테스트로 출력해 보기 위한 코드입니다.\n",
    "print(fibonacci(7))"
   ]
  },
  {
   "cell_type": "code",
   "execution_count": 13,
   "metadata": {},
   "outputs": [
    {
     "name": "stdout",
     "output_type": "stream",
     "text": [
      "[('김민우', 100), ('김철수', 78), ('이하나', 97), ('정진원', 88), ('하동윤', 92)]\n"
     ]
    }
   ],
   "source": [
    "#LV_1. 딕셔너리 정렬\n",
    "\n",
    "def sort_dictionary(dic):\n",
    "    '''입력받은 dic의 각 키와 값을 튜플로 만든 다음, 키 값을 기준으로 정렬해서 리스트에 넣으세요. 그 리스트를 return하면 됩니다.'''\n",
    "    \n",
    "    a = [ str(name) + \" \" + str(score) for name, score in dic.items()]\n",
    "    a.sort()\n",
    "    b = [ tuple(int(i) if i.isdigit() else i for i in nsc.split(\" \")) for nsc in a]\n",
    "    return b\n",
    "\n",
    "# 아래는 테스트로 출력해 보기 위한 코드입니다.\n",
    "print( sort_dictionary( {\"김철수\":78, \"하동윤\":92, \"이하나\":97, \"김민우\":100, \"정진원\":88,} ))"
   ]
  },
  {
   "cell_type": "code",
   "execution_count": 14,
   "metadata": {},
   "outputs": [
    {
     "name": "stdout",
     "output_type": "stream",
     "text": [
      "김서방은 2에 있다\n"
     ]
    }
   ],
   "source": [
    "#LV_1. 서울에서 김서방 찾기\n",
    "\n",
    "def findKim(seoul):\n",
    "    kimIdx = seoul.index(\"Kim\")\n",
    "    # 함수를 완성하세요\n",
    "\n",
    "    return \"김서방은 {}에 있다\".format(kimIdx)\n",
    "\n",
    "\n",
    "# 실행을 위한 테스트코드입니다.\n",
    "print(findKim([\"Queen\", \"Tod\", \"Kim\"]))\n"
   ]
  }
 ],
 "metadata": {
  "kernelspec": {
   "display_name": "Python 3",
   "language": "python",
   "name": "python3"
  },
  "language_info": {
   "codemirror_mode": {
    "name": "ipython",
    "version": 3
   },
   "file_extension": ".py",
   "mimetype": "text/x-python",
   "name": "python",
   "nbconvert_exporter": "python",
   "pygments_lexer": "ipython3",
   "version": "3.6.3"
  }
 },
 "nbformat": 4,
 "nbformat_minor": 2
}
