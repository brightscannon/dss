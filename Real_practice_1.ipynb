{
 "cells": [
  {
   "cell_type": "code",
   "execution_count": 45,
   "metadata": {},
   "outputs": [],
   "source": [
    "#class 복습\n",
    "\n",
    "#1. 아이폰에 아이디와 비번설정 후 처음 켜졌을때 묻기\n",
    "#2. 아이폰에 시리를 부르면 처음에 설명 후 다음에부를땐 주인이름을 되물으며 묻기\n",
    "#3. 아이폰주인 이름 설정하기\n",
    "#4. 아이폰 끌때 아이폰이름이 화면에 표시되며 꺼짐표시전환\n",
    "\n",
    "\n",
    "class config_value:\n",
    "    def __init__(self, user_id='user', user_pw = '0000'):\n",
    "        self.user_id = user_id\n",
    "        self.user_pw = user_pw\n",
    "    \n",
    "        \n",
    "class siri(config_value):\n",
    "    \n",
    "    def __init__(self, voice_text):\n",
    "        self.voice_text = voice_text\n",
    "        super(config_value,self).__init__()\n",
    "        self.x == 0\n",
    "        \n",
    "    def hey(self):\n",
    "        if self.user_pw == \"0000\" :\n",
    "            print(\"Hello! My name is Siri. you can talk to me any questions!\")\n",
    "            print(\"i need to set your id/pw\")\n",
    "            self.user_id = str(input(\"your id : \"))\n",
    "            self.user_pw = str(input(\"your password : \"))\n",
    "        else :\n",
    "            print(\"i'm here~ \", self.user_id)\n",
    "\n",
    "\n",
    "class iphone(siri):\n",
    "    def __init__(self, iphone_name = 'Unknown iphone'):\n",
    "        self.iphone_name = iphone_name\n",
    "        self.__power = \"off\"\n",
    "        super(siri,self).__init__()\n",
    "        \n",
    "    def poweron(self):\n",
    "        print(\"//apple logo//\")\n",
    "        print(self.iphone_name,\"power on!\")\n",
    "        self.__power = \"on\"\n",
    "        print(\"Login id : \", self.user_id)\n",
    "        if str(input(\"input user's password\"))!=self.user_pw :\n",
    "            print(\"wrong password... good bye\")\n",
    "            self.poweroff()        \n",
    "        else :\n",
    "            print(\"Welcome\", self.user_id)\n",
    "            \n",
    "    def status(self):\n",
    "        print(\"=\"*20)\n",
    "        print(\"iphone owner : \", self.iphone_name)\n",
    "        print(\"Now iphone power : \",self.__power)\n",
    "        print(\"=\"*20)\n",
    "        \n",
    "    def poweroff(self):\n",
    "        print(\"//apple logo//\")\n",
    "        print(\"power off!\")\n",
    "        self.__power = \"off\"\n",
    "    \n",
    "\n",
    "    "
   ]
  },
  {
   "cell_type": "code",
   "execution_count": 46,
   "metadata": {},
   "outputs": [],
   "source": [
    "A = iphone()"
   ]
  },
  {
   "cell_type": "code",
   "execution_count": 48,
   "metadata": {},
   "outputs": [
    {
     "name": "stdout",
     "output_type": "stream",
     "text": [
      "//apple logo//\n",
      "bright iphone power on!\n",
      "Login id :  user\n",
      "input user's password0000\n",
      "Welcome user\n",
      "====================\n",
      "iphone owner :  bright iphone\n",
      "Now iphone power :  on\n",
      "====================\n",
      "//apple logo//\n",
      "power off!\n",
      "====================\n",
      "iphone owner :  bright iphone\n",
      "Now iphone power :  off\n",
      "====================\n"
     ]
    }
   ],
   "source": [
    "A.poweron()\n",
    "A.status()\n",
    "A.iphone_name = \"bright iphone\"\n",
    "A.poweroff()\n",
    "A.status()"
   ]
  },
  {
   "cell_type": "code",
   "execution_count": 49,
   "metadata": {},
   "outputs": [
    {
     "name": "stdout",
     "output_type": "stream",
     "text": [
      "Hello! My name is Siri. you can talk to me any questions!\n",
      "i need to set your id/pw\n",
      "your id : kim\n",
      "your password : 1234\n"
     ]
    }
   ],
   "source": [
    "A.hey()"
   ]
  },
  {
   "cell_type": "code",
   "execution_count": 50,
   "metadata": {},
   "outputs": [
    {
     "name": "stdout",
     "output_type": "stream",
     "text": [
      "i'm here~  kim\n"
     ]
    }
   ],
   "source": [
    "A.hey()"
   ]
  },
  {
   "cell_type": "code",
   "execution_count": null,
   "metadata": {},
   "outputs": [],
   "source": []
  }
 ],
 "metadata": {
  "kernelspec": {
   "display_name": "Python 3",
   "language": "python",
   "name": "python3"
  },
  "language_info": {
   "codemirror_mode": {
    "name": "ipython",
    "version": 3
   },
   "file_extension": ".py",
   "mimetype": "text/x-python",
   "name": "python",
   "nbconvert_exporter": "python",
   "pygments_lexer": "ipython3",
   "version": "3.6.3"
  }
 },
 "nbformat": 4,
 "nbformat_minor": 2
}
