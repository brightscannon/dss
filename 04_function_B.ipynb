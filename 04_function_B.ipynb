{
 "cells": [
  {
   "cell_type": "markdown",
   "metadata": {},
   "source": [
    "## Function\n",
    "- 선언, 호출\n",
    "- parameter, argument 개념\n",
    "- return\n",
    "- '*args', '**kwargs'\n",
    "- docstring\n",
    "- scope (global, local)\n",
    "- inner function\n",
    "- lambda function ★★★★★\n",
    "- map, filter, reduce ★★★★\n",
    "- decorlator\n"
   ]
  },
  {
   "cell_type": "code",
   "execution_count": 5,
   "metadata": {},
   "outputs": [
    {
     "name": "stdout",
     "output_type": "stream",
     "text": [
      "this is test function!\n"
     ]
    }
   ],
   "source": [
    "# 선언, 호출\n",
    "def test():\n",
    "    print(\"this is test function!\")\n",
    "test()\n"
   ]
  },
  {
   "cell_type": "code",
   "execution_count": 7,
   "metadata": {},
   "outputs": [
    {
     "name": "stdout",
     "output_type": "stream",
     "text": [
      "7\n"
     ]
    }
   ],
   "source": [
    "#parameter\n",
    "def sum_func(a, b):\n",
    "    print(a+b)\n",
    "\n",
    "#argument\n",
    "num1, num2 = 2,5\n",
    "sum_func(num1,num2)"
   ]
  },
  {
   "cell_type": "code",
   "execution_count": 10,
   "metadata": {},
   "outputs": [
    {
     "name": "stdout",
     "output_type": "stream",
     "text": [
      "5.0\n"
     ]
    }
   ],
   "source": [
    "#keyword argument\n",
    "def div_func(a, b):\n",
    "    print(a/b)\n",
    "    \n",
    "div_func(b=2,a=10)"
   ]
  },
  {
   "cell_type": "code",
   "execution_count": 17,
   "metadata": {},
   "outputs": [
    {
     "name": "stdout",
     "output_type": "stream",
     "text": [
      "1\n"
     ]
    }
   ],
   "source": [
    "#default parameter\n",
    "def sum_func(num1, num2=0):\n",
    "    print(num1 + num2)\n",
    "    \n",
    "sum_func(1)"
   ]
  },
  {
   "cell_type": "markdown",
   "metadata": {},
   "source": [
    "##### return\n",
    "- 함수 호출시 결과를 반환하는용도로 사용\n"
   ]
  },
  {
   "cell_type": "code",
   "execution_count": 18,
   "metadata": {},
   "outputs": [],
   "source": [
    "def sum_func(num1, num2):\n",
    "    return num1 + num2"
   ]
  },
  {
   "cell_type": "code",
   "execution_count": 22,
   "metadata": {},
   "outputs": [
    {
     "name": "stdout",
     "output_type": "stream",
     "text": [
      "3\n"
     ]
    },
    {
     "data": {
      "text/plain": [
       "19"
      ]
     },
     "execution_count": 22,
     "metadata": {},
     "output_type": "execute_result"
    }
   ],
   "source": [
    "print(sum_func(1,2))\n",
    "result = sum_func(10,9)\n",
    "result"
   ]
  },
  {
   "cell_type": "code",
   "execution_count": 23,
   "metadata": {},
   "outputs": [],
   "source": [
    "def calc_function(num1,num2):\n",
    "    return num1 + num2, num1 - num2"
   ]
  },
  {
   "cell_type": "code",
   "execution_count": 30,
   "metadata": {},
   "outputs": [
    {
     "name": "stdout",
     "output_type": "stream",
     "text": [
      "7 3\n"
     ]
    }
   ],
   "source": [
    "a, b = calc_function(5,2)\n",
    "print(a,b)\n"
   ]
  },
  {
   "cell_type": "code",
   "execution_count": 36,
   "metadata": {},
   "outputs": [
    {
     "data": {
      "text/plain": [
       "53"
      ]
     },
     "execution_count": 36,
     "metadata": {},
     "output_type": "execute_result"
    }
   ],
   "source": [
    "##### *args ★★★★★, **kwargs ★★★★\n",
    "def sum_func(*args):\n",
    "    return sum(args)\n",
    "\n",
    "sum_func(1,2,3,5,8,13,21)"
   ]
  },
  {
   "cell_type": "code",
   "execution_count": 41,
   "metadata": {},
   "outputs": [
    {
     "name": "stdout",
     "output_type": "stream",
     "text": [
      "{'num1': 1, 'num2': 2}\n",
      "1\n"
     ]
    }
   ],
   "source": [
    "def sum_func(**kwargs):\n",
    "    print(kwargs)\n",
    "    print(kwargs[\"num1\"])\n",
    "sum_func(num1=1, num2=2)"
   ]
  },
  {
   "cell_type": "code",
   "execution_count": 47,
   "metadata": {},
   "outputs": [
    {
     "name": "stdout",
     "output_type": "stream",
     "text": [
      "(1, 2, 3, 7, 8)\n",
      "{'i': 1, 'j': 2, 'k': 3}\n"
     ]
    }
   ],
   "source": [
    "def func(*args, **kwargs):\n",
    "    print(args)\n",
    "    print(kwargs)\n",
    "func(1,2,3,7,8,i=1,j=2,k=3)"
   ]
  },
  {
   "cell_type": "markdown",
   "metadata": {},
   "source": [
    "##### docstring\n",
    "\n",
    "- 함수를 설명할 때 사용\n",
    "\n",
    "- PEP20 : zen of python\n",
    "- PEP8 : coding convention\n"
   ]
  },
  {
   "cell_type": "code",
   "execution_count": 57,
   "metadata": {},
   "outputs": [],
   "source": [
    "def echo(anything):\n",
    "    \"\"\"\n",
    "    echo returns its input argument\n",
    "    the operation is:\n",
    "        1. print(anything)\n",
    "        2. return(anything)\n",
    "    \n",
    "    \"\"\"\n",
    "    print(anything)\n",
    "    return anything\n"
   ]
  },
  {
   "cell_type": "code",
   "execution_count": 58,
   "metadata": {},
   "outputs": [
    {
     "name": "stdout",
     "output_type": "stream",
     "text": [
      "dss\n"
     ]
    },
    {
     "data": {
      "text/plain": [
       "'dss'"
      ]
     },
     "execution_count": 58,
     "metadata": {},
     "output_type": "execute_result"
    }
   ],
   "source": [
    "echo(\"dss\")"
   ]
  },
  {
   "cell_type": "code",
   "execution_count": 62,
   "metadata": {},
   "outputs": [],
   "source": [
    "echo?\n",
    "\n",
    "echo??"
   ]
  },
  {
   "cell_type": "code",
   "execution_count": null,
   "metadata": {},
   "outputs": [],
   "source": []
  },
  {
   "cell_type": "code",
   "execution_count": 64,
   "metadata": {},
   "outputs": [
    {
     "name": "stdout",
     "output_type": "stream",
     "text": [
      "Help on function echo in module __main__:\n",
      "\n",
      "echo(anything)\n",
      "    echo returns its input argument\n",
      "    the operation is:\n",
      "        1. print(anything)\n",
      "        2. return(anything)\n",
      "\n"
     ]
    }
   ],
   "source": [
    "#help\n",
    "help(echo)"
   ]
  },
  {
   "cell_type": "markdown",
   "metadata": {},
   "source": [
    "---\n",
    "\n",
    "### Scope\n",
    "- global, local"
   ]
  },
  {
   "cell_type": "code",
   "execution_count": 67,
   "metadata": {},
   "outputs": [
    {
     "name": "stdout",
     "output_type": "stream",
     "text": [
      "10\n"
     ]
    }
   ],
   "source": [
    "# global\n",
    "gv = 10\n",
    "def print_gv():\n",
    "    print(gv)\n",
    "print_gv()"
   ]
  },
  {
   "cell_type": "code",
   "execution_count": 70,
   "metadata": {},
   "outputs": [
    {
     "name": "stdout",
     "output_type": "stream",
     "text": [
      "100\n"
     ]
    },
    {
     "data": {
      "text/plain": [
       "10"
      ]
     },
     "execution_count": 70,
     "metadata": {},
     "output_type": "execute_result"
    }
   ],
   "source": [
    "gv = 10\n",
    "def print_gv():\n",
    "    gv=100\n",
    "    print(gv)\n",
    "print_gv()\n",
    "gv"
   ]
  },
  {
   "cell_type": "code",
   "execution_count": 73,
   "metadata": {},
   "outputs": [
    {
     "name": "stdout",
     "output_type": "stream",
     "text": [
      "10 20\n"
     ]
    }
   ],
   "source": [
    "gv = 10\n",
    "gv2 = 20\n",
    "def print_gv():\n",
    "    gv=100\n",
    "    gv2=200\n",
    "    print(globals()[\"gv\"],globals()[\"gv2\"])\n",
    "print_gv()"
   ]
  },
  {
   "cell_type": "code",
   "execution_count": 76,
   "metadata": {},
   "outputs": [
    {
     "name": "stdout",
     "output_type": "stream",
     "text": [
      "{'gv2': 200, 'gv': 100, 'test': <function print_gv.<locals>.test at 0x000001DED33A91E0>}\n"
     ]
    }
   ],
   "source": [
    "gv = 10\n",
    "gv2 = 20\n",
    "def print_gv():\n",
    "    \n",
    "    def test():\n",
    "        print(1)\n",
    "    \n",
    "    gv=100\n",
    "    gv2=200\n",
    "    print(locals())\n",
    "print_gv()"
   ]
  },
  {
   "cell_type": "code",
   "execution_count": 77,
   "metadata": {},
   "outputs": [
    {
     "name": "stdout",
     "output_type": "stream",
     "text": [
      "100\n"
     ]
    }
   ],
   "source": [
    "#global (로컬영역에서 글로벌 변수/함수 사용가능)\n",
    "\n",
    "gv = 10\n",
    "def change_gv():\n",
    "    global gv\n",
    "    gv = 100\n",
    "    print(gv)\n",
    "change_gv()\n"
   ]
  },
  {
   "cell_type": "code",
   "execution_count": 79,
   "metadata": {},
   "outputs": [
    {
     "data": {
      "text/plain": [
       "100"
      ]
     },
     "execution_count": 79,
     "metadata": {},
     "output_type": "execute_result"
    }
   ],
   "source": [
    "gv"
   ]
  },
  {
   "cell_type": "markdown",
   "metadata": {},
   "source": [
    "### inner function\n",
    "- global :전역\n",
    "- local :지역\n",
    "- 지역함수, 익명함수"
   ]
  },
  {
   "cell_type": "code",
   "execution_count": 81,
   "metadata": {},
   "outputs": [
    {
     "data": {
      "text/plain": [
       "3"
      ]
     },
     "execution_count": 81,
     "metadata": {},
     "output_type": "execute_result"
    }
   ],
   "source": [
    "\n",
    "def outer(a,b):\n",
    "    \n",
    "    def inner(c,d):\n",
    "        return c+d\n",
    "    \n",
    "    return inner(a,b)\n",
    "\n",
    "outer(1,2)"
   ]
  },
  {
   "cell_type": "markdown",
   "metadata": {},
   "source": [
    "---\n",
    "\n",
    "### lambda function★★★★★\n",
    "- 간단한 함수를 선언하지 않고 함수처럼 사용하는 함수(???)\n",
    "- 쓰는이유는... map, reduce, filter와 함께 활용하거나 메모리를 그때그때 아껴서 쓸 경우.\n",
    "- 너무 복잡한 코딩의 함수는 그냥 선언해서 쓰고, 아주 간단한 함수를 사용하고자 한다면 쓰자.\n"
   ]
  },
  {
   "cell_type": "code",
   "execution_count": 85,
   "metadata": {},
   "outputs": [
    {
     "data": {
      "text/plain": [
       "8"
      ]
     },
     "execution_count": 85,
     "metadata": {},
     "output_type": "execute_result"
    }
   ],
   "source": [
    "# - lambda '<parameters> : <return_value>'\n",
    "\n",
    "def sum_func(x, y):\n",
    "    return x+y\n",
    "sum_func(3,5)"
   ]
  },
  {
   "cell_type": "code",
   "execution_count": 86,
   "metadata": {},
   "outputs": [
    {
     "data": {
      "text/plain": [
       "35"
      ]
     },
     "execution_count": 86,
     "metadata": {},
     "output_type": "execute_result"
    }
   ],
   "source": [
    "sum_func2 = lambda x, y : x + y\n",
    "sum_func2(10,25)"
   ]
  },
  {
   "cell_type": "code",
   "execution_count": 114,
   "metadata": {},
   "outputs": [
    {
     "data": {
      "text/plain": [
       "3"
      ]
     },
     "execution_count": 114,
     "metadata": {},
     "output_type": "execute_result"
    }
   ],
   "source": [
    "def test(func, num1, num2):\n",
    "    return func(num1,num2)\n",
    "\n",
    "test(lambda x , y : x-y,10,7)"
   ]
  },
  {
   "cell_type": "markdown",
   "metadata": {},
   "source": [
    "---\n",
    "\n",
    "### map & filter & reduce\n",
    "\n",
    "- 리스트 형태의 데이터를 함수와 함께 가공 해주기 위해서 사용되는 함수.\n",
    "- map : 리스트 안에 모든 value에 함수를 적용 -> 결과 데이터를 리스트형태로 반환\n",
    "- filter : 리스트 안에 잇는 value 데이터를 특정 함수로 필터링 해주는 함수.\n",
    "- reduce : 리스트 안에 있는 value 데이터를 하나씩 함수에 적용 -> 하나의 결과를 얻는 함수."
   ]
  },
  {
   "cell_type": "code",
   "execution_count": 102,
   "metadata": {},
   "outputs": [
    {
     "data": {
      "text/plain": [
       "[0, 1, 2, 3]"
      ]
     },
     "execution_count": 102,
     "metadata": {},
     "output_type": "execute_result"
    }
   ],
   "source": [
    "#★★★map(func, *iterable) ===> 각 값에대한 함수의 결과를 리스트로 뽑는다\n",
    "\n",
    "ls = [1,2,3,4]\n",
    "\n",
    "def sum_func(num):\n",
    "    return num -1\n",
    "\n",
    "list(map(sum_func, ls))"
   ]
  },
  {
   "cell_type": "code",
   "execution_count": 104,
   "metadata": {},
   "outputs": [
    {
     "data": {
      "text/plain": [
       "[1, 4, 9, 16, 25, 36, 49]"
      ]
     },
     "execution_count": 104,
     "metadata": {},
     "output_type": "execute_result"
    }
   ],
   "source": [
    "ls = [1,2,3,4,5,6,7]\n",
    "\n",
    "def ran_func(num):\n",
    "    return num**2\n",
    "\n",
    "list(map(ran_func, ls))"
   ]
  },
  {
   "cell_type": "code",
   "execution_count": 109,
   "metadata": {},
   "outputs": [
    {
     "data": {
      "text/plain": [
       "[0.25, 1.0, 2.25, 4.0, 6.25, 9.0, 12.25]"
      ]
     },
     "execution_count": 109,
     "metadata": {},
     "output_type": "execute_result"
    }
   ],
   "source": [
    "list(map(lambda num : (num / 2)**2 , ls))"
   ]
  },
  {
   "cell_type": "code",
   "execution_count": 116,
   "metadata": {},
   "outputs": [
    {
     "data": {
      "text/plain": [
       "[16, 30, 48, 70, 96, 126]"
      ]
     },
     "execution_count": 116,
     "metadata": {},
     "output_type": "execute_result"
    }
   ],
   "source": [
    "#map에는 여러개의 리스트를 넣을수 있다.\n",
    "ls1=[2,3,4,5,6,7]\n",
    "ls2=[8,10,12,14,16,18]\n",
    "list(map(lambda x,y:x*y,ls1,ls2))"
   ]
  },
  {
   "cell_type": "code",
   "execution_count": 123,
   "metadata": {},
   "outputs": [
    {
     "data": {
      "text/plain": [
       "['Kim', 'Lee', 'Park', 'Lee']"
      ]
     },
     "execution_count": 123,
     "metadata": {},
     "output_type": "execute_result"
    }
   ],
   "source": [
    "#퀴즈1 - map을 이용하여 사람의 성만 결과로 출력하는 코드를 작성하세요.\n",
    "\n",
    "names = [\"Kim python\",\"Lee data\",\"Park science\", \"Lee school\"]\n",
    "\n",
    "def f_name(ls):\n",
    "    return ls.split(\" \")[0]\n",
    "    \n",
    "\n",
    "list(map(f_name, names))\n",
    "list(map(lambda x : x.split(\" \")[0], names))"
   ]
  },
  {
   "cell_type": "code",
   "execution_count": 150,
   "metadata": {},
   "outputs": [
    {
     "name": "stdout",
     "output_type": "stream",
     "text": [
      "{1: 'odd', 2: 'even', 3: 'odd', 4: 'even', 5: 'odd', 6: 'even', 7: 'odd', 8: 'even', 9: 'odd', 10: 'even'}\n"
     ]
    }
   ],
   "source": [
    "#퀴즈2 - 1-10까지 숫자데이터에서 짝수는 even 홀수는 odd를 출력하고 출력된 데이터를 key:value 형태의 dict출력\n",
    "\n",
    "ls = list(range(1,11))\n",
    "\n",
    "a = dict(map(lambda x:(x,\"even\")if x % 2 ==0 else(x,\"odd\"),ls))\n",
    "\n",
    "print(a)"
   ]
  },
  {
   "cell_type": "code",
   "execution_count": 149,
   "metadata": {},
   "outputs": [
    {
     "data": {
      "text/plain": [
       "([15, 18, 21, 24, 27], [9, 5, 3, 3, 2])"
      ]
     },
     "execution_count": 149,
     "metadata": {},
     "output_type": "execute_result"
    }
   ],
   "source": [
    "#퀴즈3 - map 함수를 구현하세요\n",
    "ls1, ls2, ls3 = [1,2,3,4,5],[5,6,7,8,9],[9,10,11,12,13]\n",
    "def sum_func(*args):\n",
    "    return sum(args)\n",
    "\n",
    "def div_func(a, b):\n",
    "    return a//b\n",
    "\n",
    "def map_func(func, *args):\n",
    "    result = []\n",
    "    col = list(zip(*args))\n",
    "    for i in range(min([len(row) for row in args])):\n",
    "        result.append(func(*col[i]))\n",
    "    \n",
    "    return result\n",
    "\n",
    "\n",
    "\n",
    "result = map_func(sum_func, ls1, ls2, ls3)\n",
    "\n",
    "result2 = map_func(div_func, ls3, ls1)\n",
    "\n",
    "result, result2\n"
   ]
  },
  {
   "cell_type": "code",
   "execution_count": 151,
   "metadata": {},
   "outputs": [
    {
     "data": {
      "text/plain": [
       "[2, 4]"
      ]
     },
     "execution_count": 151,
     "metadata": {},
     "output_type": "execute_result"
    }
   ],
   "source": [
    "#★★★filter(self, /, *args, **kwargs) ===> 함수에 의해 True값이 리턴되는 값만 리스트로 뽑는다.\n",
    "\n",
    "# 그러나.... filter를 List Comprehension 으로 작성할 수 있다면 그것을 쓰는게 좋다. 속도면에서 유리하기때문\n",
    "ls = [1,2,3,4]\n",
    "\n",
    "def is_even(num):\n",
    "    return True if num % 2 == 0 else False\n",
    "\n",
    "list(filter(is_even, ls))"
   ]
  },
  {
   "cell_type": "code",
   "execution_count": 167,
   "metadata": {},
   "outputs": [
    {
     "data": {
      "text/plain": [
       "['Lee data', 'Lee school']"
      ]
     },
     "execution_count": 167,
     "metadata": {},
     "output_type": "execute_result"
    }
   ],
   "source": [
    "#퀴즈1 - 성이 Lee인 사람의 이름만 결과로 출력하는 코드로 작성\n",
    "\n",
    "names = [\"Kim python\",\"Lee data\",\"Park science\", \"Lee school\"]\n",
    "\n",
    "\n",
    "a = list(filter(lambda x : (x.split(\" \")[0]).lower() == \"lee\", names))\n",
    "\n",
    "a"
   ]
  },
  {
   "cell_type": "code",
   "execution_count": 170,
   "metadata": {},
   "outputs": [
    {
     "data": {
      "text/plain": [
       "([1, 3, 5, 7, 9], [2, 4, 6, 8, 10])"
      ]
     },
     "execution_count": 170,
     "metadata": {},
     "output_type": "execute_result"
    }
   ],
   "source": [
    "#퀴즈2 - 필터함수를 구현해서 even,odd를 필터링하는 함수를 만들자\n",
    "\n",
    "ls = list(range(1, 11))\n",
    "\n",
    "is_odd_even = {\n",
    "    \"odd\" : lambda num : num%2 == 1,\n",
    "    \"even\" : lambda num : num%2 == 0,\n",
    "}\n",
    "\n",
    "def filter_func(func, data_list):\n",
    "    result = [i for i in data_list if func(i) == True]\n",
    "    return result\n",
    "\n",
    "result_1 = filter_func(is_odd_even[\"odd\"], ls)\n",
    "result_2 = filter_func(is_odd_even[\"even\"], ls)\n",
    "result_1, result_2"
   ]
  },
  {
   "cell_type": "code",
   "execution_count": 173,
   "metadata": {},
   "outputs": [
    {
     "data": {
      "text/plain": [
       "15"
      ]
     },
     "execution_count": 173,
     "metadata": {},
     "output_type": "execute_result"
    }
   ],
   "source": [
    "#★★★reduce (내장함수가 아님 ㅜㅜ) reduce(function, sequence[, initial]) -> value\n",
    "#                            ====> 각 값에대한 함수의 지속연산 결과를 하나의 값으로 출력한다.\n",
    "from functools import reduce\n",
    "\n",
    "ls = [1,2,3,4,5]\n",
    "\n",
    "def sum_func2(num1,num2):\n",
    "    return num1 + num2\n",
    "\n",
    "reduce(sum_func2, ls)"
   ]
  },
  {
   "cell_type": "code",
   "execution_count": 174,
   "metadata": {},
   "outputs": [
    {
     "data": {
      "text/plain": [
       "7"
      ]
     },
     "execution_count": 174,
     "metadata": {},
     "output_type": "execute_result"
    }
   ],
   "source": [
    "#가장 큰 수를 구하는 코드를 작성\n",
    "\n",
    "ls = [1,3,7,5,2]\n",
    "reduce(lambda num1, num2 : num1 if num1 > num2 else num2, ls)"
   ]
  },
  {
   "cell_type": "code",
   "execution_count": 176,
   "metadata": {},
   "outputs": [
    {
     "data": {
      "text/plain": [
       "'Park science'"
      ]
     },
     "execution_count": 176,
     "metadata": {},
     "output_type": "execute_result"
    }
   ],
   "source": [
    "#퀴즈1 - 사람이름이 가장 김 사람을 출력하는 코드를 reduce를 이용해서 작성\n",
    "\n",
    "names = [\"Kim python\", \"Lee data\", \"Park science\", \"Lee school\"]\n",
    "\n",
    "reduce(lambda name1, name2 : name1 if len(name1) > len(name2) else name2 ,names)\n"
   ]
  },
  {
   "cell_type": "code",
   "execution_count": 206,
   "metadata": {},
   "outputs": [
    {
     "data": {
      "text/plain": [
       "15"
      ]
     },
     "execution_count": 206,
     "metadata": {},
     "output_type": "execute_result"
    }
   ],
   "source": [
    "#퀴즈 2 - reduce를 구현하자\n",
    "\n",
    "ls = [1,2,3,4,5]\n",
    "\n",
    "def reduce_func(func, data_list):\n",
    "    num1 = data_list[0]\n",
    "    \n",
    "    if len(data_list) > 1:\n",
    "        num2 = reduce_func(func, data_list[1:])\n",
    "        result = func(num1,num2)\n",
    "    else :\n",
    "        result = num1\n",
    "    \n",
    "    return result\n",
    "\n",
    "reduce_func(lambda num1, num2 : num1 + num2, ls)\n",
    "#결과값 15 나오도록 하면 됨"
   ]
  },
  {
   "cell_type": "markdown",
   "metadata": {},
   "source": [
    "### Decorator\n",
    "- 코드를 바꾸지 않고 함수의 기능을 추가할때 사용됩니다. (함수에 붙여쓸수있는 함수 라는거)\n",
    "- 여러개의 함수에서 공통된 기능을 뽑아서 하나의 함수로 만들어서 사용할때 사용됩니다.\n",
    "- inner function, *args, **kwargs\n",
    "\n",
    "\n"
   ]
  },
  {
   "cell_type": "code",
   "execution_count": 188,
   "metadata": {},
   "outputs": [],
   "source": [
    "# display를 해주는 데코레이터를 만들어보자\n",
    "\n",
    "#C\n",
    "def disp(func):\n",
    "    def wrapper(*args, **kwargs):\n",
    "        #code1\n",
    "        print(\"running function name : \", func.__name__)\n",
    "        print(\"args : \",args)\n",
    "        print(\"kwargs : \",kwargs)\n",
    "        \n",
    "        #code2(A), code4(B)\n",
    "        result = func(*args, **kwargs)\n",
    "        \n",
    "        #code3\n",
    "        print(\"result :\", result)\n",
    "        return result\n",
    "    return wrapper\n",
    "\n",
    "#A\n",
    "def sum_func(a,b):\n",
    "    print(\"{} + {} = {} \".format(a,b,a+b))\n",
    "    return a+b\n",
    "\n",
    "#B\n",
    "def subt_func(a,b):\n",
    "    print(\"{} - {} = {} \".format(a,b,a-b))\n",
    "    return a-b\n",
    "\n",
    "\n",
    "#etc...\n",
    "def multi_func(a,b):\n",
    "    print(\"{} x {} = {} \".format(a,b,a*b))\n",
    "    return a*b\n",
    "\n"
   ]
  },
  {
   "cell_type": "code",
   "execution_count": 190,
   "metadata": {},
   "outputs": [
    {
     "name": "stdout",
     "output_type": "stream",
     "text": [
      "running function name :  sum_func\n",
      "args :  (10, 15)\n",
      "kwargs :  {}\n",
      "10 + 15 = 25 \n",
      "result : 25\n"
     ]
    },
    {
     "data": {
      "text/plain": [
       "25"
      ]
     },
     "execution_count": 190,
     "metadata": {},
     "output_type": "execute_result"
    }
   ],
   "source": [
    "@disp\n",
    "def sum_func(a,b):\n",
    "    print(\"{} + {} = {} \".format(a,b,a+b))\n",
    "    return a+b\n",
    "sum_func(10,15)"
   ]
  },
  {
   "cell_type": "code",
   "execution_count": 193,
   "metadata": {},
   "outputs": [],
   "source": [
    "#timer decolator\n",
    "import time\n",
    "def timer(func):\n",
    "    def wrapper(*args, **kwargs):\n",
    "        start_time = time.time()\n",
    "        result = func(*args, **kwargs)\n",
    "        end_time = time.time()\n",
    "        print(\"running time : \", end_time - start_time)\n",
    "        return result\n",
    "    return wrapper\n"
   ]
  },
  {
   "cell_type": "code",
   "execution_count": 200,
   "metadata": {},
   "outputs": [
    {
     "name": "stdout",
     "output_type": "stream",
     "text": [
      "2 x 1000 = 10715086071862673209484250490600018105614048117055336074437503883703510511249361224931983788156958581275946729175531468251871452856923140435984577574698574803934567774824230985421074605062371141877954182153046474983581941267398767559165543946077062914571196477686542167660429831652624386837205668069376 \n",
      "running time :  0.0\n"
     ]
    },
    {
     "data": {
      "text/plain": [
       "10715086071862673209484250490600018105614048117055336074437503883703510511249361224931983788156958581275946729175531468251871452856923140435984577574698574803934567774824230985421074605062371141877954182153046474983581941267398767559165543946077062914571196477686542167660429831652624386837205668069376"
      ]
     },
     "execution_count": 200,
     "metadata": {},
     "output_type": "execute_result"
    }
   ],
   "source": [
    "@timer\n",
    "def multi_func(a,b):\n",
    "    print(\"{} x {} = {} \".format(a,b,a**b))\n",
    "    return a**b\n",
    "multi_func(2,1000)"
   ]
  },
  {
   "cell_type": "code",
   "execution_count": 205,
   "metadata": {},
   "outputs": [
    {
     "name": "stdout",
     "output_type": "stream",
     "text": [
      "insert user id : dss\n",
      "password : dss8\n"
     ]
    },
    {
     "data": {
      "text/plain": [
       "True"
      ]
     },
     "execution_count": 205,
     "metadata": {},
     "output_type": "execute_result"
    }
   ],
   "source": [
    "#데코레이터를 사용해서 관리자 계정이면 패스워드를 출력하고 관리자 계정이 아니면 패스워드를 출력하지 않는\n",
    "#데코레이터를 만들자.\n",
    "\n",
    "admin_ls = [\"pdj\", \"dss\"]\n",
    "pw = \"dss8\"\n",
    "\n",
    "def admin(func):\n",
    "    def wrapper(*args, **kwargs):\n",
    "        is_admin = False\n",
    "        user_id = func(*args, **kwargs)\n",
    "        \n",
    "        if user_id in admin_ls:\n",
    "            is_admin = True\n",
    "        \n",
    "        if is_admin:\n",
    "            print(\"password :\",pw)\n",
    "        else:\n",
    "            print(\"you are not admin!\")\n",
    "        return is_admin\n",
    "    return wrapper\n",
    "\n",
    "\n",
    "@admin\n",
    "def input_user():\n",
    "    return input(\"insert user id : \")\n",
    "\n",
    "input_user()\n",
    "        \n",
    "        \n",
    "        \n",
    "        \n",
    "    "
   ]
  }
 ],
 "metadata": {
  "kernelspec": {
   "display_name": "Python 3",
   "language": "python",
   "name": "python3"
  },
  "language_info": {
   "codemirror_mode": {
    "name": "ipython",
    "version": 3
   },
   "file_extension": ".py",
   "mimetype": "text/x-python",
   "name": "python",
   "nbconvert_exporter": "python",
   "pygments_lexer": "ipython3",
   "version": "3.6.3"
  }
 },
 "nbformat": 4,
 "nbformat_minor": 2
}
