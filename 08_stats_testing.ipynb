{
 "cells": [
  {
   "cell_type": "code",
   "execution_count": 1,
   "metadata": {},
   "outputs": [],
   "source": [
    "%matplotlib inline\n",
    "#주피터노트북에서 라인 아래에 보여지도록 설정\n",
    "\n",
    "%config InlineBackend.figure_formats = {'png','retina'} \n",
    "#png 이미지 압축기술설정, retina 그래프 해상도 2배 높히기\n",
    "\n",
    "import pandas as pd\n",
    "import numpy as np\n",
    "import matplotlib as mpl\n",
    "import matplotlib.pyplot as plt\n",
    "import seaborn as sns\n",
    "from matplotlib import font_manager, rc\n",
    "\n",
    "#그래프 한글폰트 설정\n",
    "font_name = font_manager.FontProperties(fname=\"c:/Windows/Fonts/malgun.ttf\").get_name()\n",
    "rc('font', family=font_name)\n",
    "#음수처리\n",
    "mpl.rcParams['axes.unicode_minus'] = False\n",
    "\n"
   ]
  },
  {
   "cell_type": "code",
   "execution_count": 2,
   "metadata": {},
   "outputs": [],
   "source": [
    "#Scipy를 사용하여 기초적인 검정하기\n",
    "# 이항 검정 (Binomial test)\n",
    "# 카이 제곱 검정 (Chi-square test)\n",
    "# 단일 표본 z-검정 (One-sample z-test)\n",
    "# 단일 표본 t-검정 (One-sample t-test)\n",
    "# 독립 표본 t-검정 (Independent-two-sample t-test)\n",
    "# 대응 표본 t-검정 (Paired-two-sample t-test)\n",
    "# 분산 검정 (Chi squared variance test)\n",
    "# 등분산 검정 (Equal-variance test)\n",
    "# 정규성 검정 (Normality test)"
   ]
  },
  {
   "cell_type": "markdown",
   "metadata": {},
   "source": [
    "# 이항검정--------------"
   ]
  },
  {
   "cell_type": "code",
   "execution_count": 5,
   "metadata": {},
   "outputs": [
    {
     "data": {
      "text/plain": [
       "7"
      ]
     },
     "execution_count": 5,
     "metadata": {},
     "output_type": "execute_result"
    }
   ],
   "source": [
    "# 이항검정---------------- 세타 = 0.5로 가정\n",
    "\n",
    "N = 10 # 데이터갯수\n",
    "theta_0 = 0.5 # 실제모수\n",
    "np.random.seed(0)\n",
    "x = sp.stats.bernoulli(theta_0).rvs(N)\n",
    "n = np.count_nonzero(x)\n",
    "n"
   ]
  },
  {
   "cell_type": "code",
   "execution_count": 7,
   "metadata": {},
   "outputs": [
    {
     "data": {
      "text/plain": [
       "0.34374999999999989"
      ]
     },
     "execution_count": 7,
     "metadata": {},
     "output_type": "execute_result"
    }
   ],
   "source": [
    "sp.stats.binom_test(n, N) \n",
    "#유의확률이 34%로 높으므로 귀무가설을 기각하지않고 채택한다. 따라서 세타 = 0.5이다\n",
    "# pvalue = "
   ]
  },
  {
   "cell_type": "code",
   "execution_count": 9,
   "metadata": {},
   "outputs": [
    {
     "data": {
      "text/plain": [
       "49"
      ]
     },
     "execution_count": 9,
     "metadata": {},
     "output_type": "execute_result"
    }
   ],
   "source": [
    "# 이번에는 N=100인경우로 검정해보기\n",
    "N = 100\n",
    "theta_0 = 0.5\n",
    "np.random.seed(0)\n",
    "x = sp.stats.bernoulli(theta_0).rvs(N)\n",
    "n = np.count_nonzero(x)\n",
    "n"
   ]
  },
  {
   "cell_type": "code",
   "execution_count": 10,
   "metadata": {},
   "outputs": [
    {
     "data": {
      "text/plain": [
       "0.92041076261282062"
      ]
     },
     "execution_count": 10,
     "metadata": {},
     "output_type": "execute_result"
    }
   ],
   "source": [
    "sp.stats.binom_test(n, N)"
   ]
  },
  {
   "cell_type": "code",
   "execution_count": 11,
   "metadata": {},
   "outputs": [
    {
     "data": {
      "text/plain": [
       "31"
      ]
     },
     "execution_count": 11,
     "metadata": {},
     "output_type": "execute_result"
    }
   ],
   "source": [
    "# 이번에는 모수가 0.35라면?\n",
    "\n",
    "N = 100\n",
    "theta_0 = 0.35\n",
    "np.random.seed(0)\n",
    "x = sp.stats.bernoulli(theta_0).rvs(N)\n",
    "n = np.count_nonzero(x)\n",
    "n"
   ]
  },
  {
   "cell_type": "code",
   "execution_count": 13,
   "metadata": {},
   "outputs": [
    {
     "data": {
      "text/plain": [
       "0.00018314322488235352"
      ]
     },
     "execution_count": 13,
     "metadata": {},
     "output_type": "execute_result"
    }
   ],
   "source": [
    "sp.stats.binom_test(n, N)\n",
    "#매우 낮은 p-value가 나오므로 기각할 수 있음. 결국 세타 != 0.5임"
   ]
  },
  {
   "cell_type": "code",
   "execution_count": 69,
   "metadata": {},
   "outputs": [
    {
     "data": {
      "text/plain": [
       "9"
      ]
     },
     "execution_count": 69,
     "metadata": {},
     "output_type": "execute_result"
    }
   ],
   "source": [
    "# 1번문제\n",
    "N = 10\n",
    "theta_0 = 0.90\n",
    "np.random.seed(0)\n",
    "x = sp.stats.bernoulli(theta_0).rvs(N)\n",
    "n = np.count_nonzero(x)\n",
    "n"
   ]
  },
  {
   "cell_type": "code",
   "execution_count": 70,
   "metadata": {},
   "outputs": [
    {
     "data": {
      "text/plain": [
       "0.021484374999999997"
      ]
     },
     "execution_count": 70,
     "metadata": {},
     "output_type": "execute_result"
    }
   ],
   "source": [
    "sp.stats.binom_test(n, N)"
   ]
  },
  {
   "cell_type": "code",
   "execution_count": 71,
   "metadata": {},
   "outputs": [
    {
     "data": {
      "text/plain": [
       "8"
      ]
     },
     "execution_count": 71,
     "metadata": {},
     "output_type": "execute_result"
    }
   ],
   "source": [
    "N = 10\n",
    "theta_0 = 0.80\n",
    "np.random.seed(0)\n",
    "x = sp.stats.bernoulli(theta_0).rvs(N)\n",
    "n = np.count_nonzero(x)\n",
    "n"
   ]
  },
  {
   "cell_type": "code",
   "execution_count": 72,
   "metadata": {},
   "outputs": [
    {
     "data": {
      "text/plain": [
       "0.10937500000000003"
      ]
     },
     "execution_count": 72,
     "metadata": {},
     "output_type": "execute_result"
    }
   ],
   "source": [
    "sp.stats.binom_test(n, N)"
   ]
  },
  {
   "cell_type": "code",
   "execution_count": 107,
   "metadata": {},
   "outputs": [
    {
     "data": {
      "text/plain": [
       "483"
      ]
     },
     "execution_count": 107,
     "metadata": {},
     "output_type": "execute_result"
    }
   ],
   "source": [
    "#2번문제\n",
    "N = 1000\n",
    "theta_0 = 0.5\n",
    "np.random.seed(0)\n",
    "x = sp.stats.bernoulli(theta_0).rvs(N)\n",
    "n = np.count_nonzero(x)\n",
    "n"
   ]
  },
  {
   "cell_type": "code",
   "execution_count": 124,
   "metadata": {},
   "outputs": [
    {
     "data": {
      "text/plain": [
       "(0.10937500000000003, 0.10937500000000003)"
      ]
     },
     "execution_count": 124,
     "metadata": {},
     "output_type": "execute_result"
    }
   ],
   "source": [
    "#1번문제 N=10, 세타 = 0.5일때 횟수에 따른 pvalue\n",
    "sp.stats.binom_test(8, 10),sp.stats.binom_test(2, 10)"
   ]
  },
  {
   "cell_type": "code",
   "execution_count": 122,
   "metadata": {},
   "outputs": [
    {
     "data": {
      "text/plain": [
       "(0.10674954203435372, 0.10674954203435372)"
      ]
     },
     "execution_count": 122,
     "metadata": {},
     "output_type": "execute_result"
    }
   ],
   "source": [
    "sp.stats.binom_test(474, 1000),sp.stats.binom_test(526, 1000)"
   ]
  },
  {
   "cell_type": "code",
   "execution_count": 110,
   "metadata": {},
   "outputs": [
    {
     "data": {
      "text/plain": [
       "0.29668935077328512"
      ]
     },
     "execution_count": 110,
     "metadata": {},
     "output_type": "execute_result"
    }
   ],
   "source": [
    "sp.stats.binom_test(n, N)"
   ]
  },
  {
   "cell_type": "code",
   "execution_count": null,
   "metadata": {},
   "outputs": [],
   "source": [
    "# 1번문제 : 앞면이 나온 횟수가 9번이 넘는경우거나 1번이하로 나온경우\n",
    "# 2번문제 : 앞면이 나온 횟수가 526번이 넘는경우거나 474번 이하로 나온경우"
   ]
  },
  {
   "cell_type": "code",
   "execution_count": 141,
   "metadata": {},
   "outputs": [],
   "source": [
    "#연습문제 3번\n",
    "tips = sns.load_dataset(\"tips\")"
   ]
  },
  {
   "cell_type": "code",
   "execution_count": 148,
   "metadata": {},
   "outputs": [
    {
     "data": {
      "text/html": [
       "<div>\n",
       "<style>\n",
       "    .dataframe thead tr:only-child th {\n",
       "        text-align: right;\n",
       "    }\n",
       "\n",
       "    .dataframe thead th {\n",
       "        text-align: left;\n",
       "    }\n",
       "\n",
       "    .dataframe tbody tr th {\n",
       "        vertical-align: top;\n",
       "    }\n",
       "</style>\n",
       "<table border=\"1\" class=\"dataframe\">\n",
       "  <thead>\n",
       "    <tr style=\"text-align: right;\">\n",
       "      <th></th>\n",
       "      <th>sex</th>\n",
       "      <th>smoker</th>\n",
       "      <th>time</th>\n",
       "      <th>counts</th>\n",
       "    </tr>\n",
       "  </thead>\n",
       "  <tbody>\n",
       "    <tr>\n",
       "      <th>0</th>\n",
       "      <td>Male</td>\n",
       "      <td>Yes</td>\n",
       "      <td>Lunch</td>\n",
       "      <td>13</td>\n",
       "    </tr>\n",
       "    <tr>\n",
       "      <th>1</th>\n",
       "      <td>Male</td>\n",
       "      <td>Yes</td>\n",
       "      <td>Dinner</td>\n",
       "      <td>47</td>\n",
       "    </tr>\n",
       "    <tr>\n",
       "      <th>2</th>\n",
       "      <td>Male</td>\n",
       "      <td>No</td>\n",
       "      <td>Lunch</td>\n",
       "      <td>20</td>\n",
       "    </tr>\n",
       "    <tr>\n",
       "      <th>3</th>\n",
       "      <td>Male</td>\n",
       "      <td>No</td>\n",
       "      <td>Dinner</td>\n",
       "      <td>77</td>\n",
       "    </tr>\n",
       "    <tr>\n",
       "      <th>4</th>\n",
       "      <td>Female</td>\n",
       "      <td>Yes</td>\n",
       "      <td>Lunch</td>\n",
       "      <td>10</td>\n",
       "    </tr>\n",
       "    <tr>\n",
       "      <th>5</th>\n",
       "      <td>Female</td>\n",
       "      <td>Yes</td>\n",
       "      <td>Dinner</td>\n",
       "      <td>23</td>\n",
       "    </tr>\n",
       "    <tr>\n",
       "      <th>6</th>\n",
       "      <td>Female</td>\n",
       "      <td>No</td>\n",
       "      <td>Lunch</td>\n",
       "      <td>25</td>\n",
       "    </tr>\n",
       "    <tr>\n",
       "      <th>7</th>\n",
       "      <td>Female</td>\n",
       "      <td>No</td>\n",
       "      <td>Dinner</td>\n",
       "      <td>29</td>\n",
       "    </tr>\n",
       "  </tbody>\n",
       "</table>\n",
       "</div>"
      ],
      "text/plain": [
       "      sex smoker    time  counts\n",
       "0    Male    Yes   Lunch      13\n",
       "1    Male    Yes  Dinner      47\n",
       "2    Male     No   Lunch      20\n",
       "3    Male     No  Dinner      77\n",
       "4  Female    Yes   Lunch      10\n",
       "5  Female    Yes  Dinner      23\n",
       "6  Female     No   Lunch      25\n",
       "7  Female     No  Dinner      29"
      ]
     },
     "execution_count": 148,
     "metadata": {},
     "output_type": "execute_result"
    }
   ],
   "source": [
    "result_df = tips.groupby([\"sex\",\"smoker\",\"time\"]).size().reset_index(name=\"counts\")\n",
    "result_df"
   ]
  },
  {
   "cell_type": "code",
   "execution_count": 149,
   "metadata": {},
   "outputs": [
    {
     "data": {
      "image/png": "[encoded data removed]",
      "text/plain": [
       "<matplotlib.figure.Figure at 0x12826fa80f0>"
      ]
     },
     "metadata": {
      "image/png": {
       "height": 250,
       "width": 367
      }
     },
     "output_type": "display_data"
    }
   ],
   "source": [
    "#1.----------------------------\n",
    "S = result_df[result_df[\"sex\"]==\"Female\"]\n",
    "F = pd.DataFrame(S , columns=[\"smoker\",\"counts\"])\n",
    "plt.bar(S['smoker'],S['counts'])\n",
    "plt.show()"
   ]
  },
  {
   "cell_type": "code",
   "execution_count": 150,
   "metadata": {},
   "outputs": [
    {
     "data": {
      "text/plain": [
       "0.031418110233846136"
      ]
     },
     "execution_count": 150,
     "metadata": {},
     "output_type": "execute_result"
    }
   ],
   "source": [
    "sp.stats.binom_test(54, 33+54)"
   ]
  },
  {
   "cell_type": "code",
   "execution_count": 151,
   "metadata": {},
   "outputs": [],
   "source": [
    "#1.유의수준을 5%로 본다면 3%를 기각해야한다."
   ]
  },
  {
   "cell_type": "code",
   "execution_count": 152,
   "metadata": {},
   "outputs": [
    {
     "data": {
      "image/png": "[encoded data removed]",
      "text/plain": [
       "<matplotlib.figure.Figure at 0x12826fa8cf8>"
      ]
     },
     "metadata": {
      "image/png": {
       "height": 250,
       "width": 367
      }
     },
     "output_type": "display_data"
    }
   ],
   "source": [
    "#2.-------------------------------\n",
    "S = result_df[result_df[\"sex\"]==\"Female\"]\n",
    "S2 = S[S[\"time\"]==\"Dinner\"]\n",
    "F = pd.DataFrame(S2 , columns=[\"smoker\",\"counts\"])\n",
    "plt.bar(S['smoker'],S['counts'])\n",
    "plt.show()"
   ]
  },
  {
   "cell_type": "code",
   "execution_count": 154,
   "metadata": {},
   "outputs": [
    {
     "data": {
      "text/plain": [
       "0.48845566937989221"
      ]
     },
     "execution_count": 154,
     "metadata": {},
     "output_type": "execute_result"
    }
   ],
   "source": [
    "sp.stats.binom_test(29, 23+29)"
   ]
  },
  {
   "cell_type": "code",
   "execution_count": null,
   "metadata": {},
   "outputs": [],
   "source": [
    "#2.유의수준을 10%로 맞추어도 거의 50%이기 때문에 채택된다."
   ]
  },
  {
   "cell_type": "markdown",
   "metadata": {},
   "source": [
    "# 카이제곱검정-------------"
   ]
  },
  {
   "cell_type": "code",
   "execution_count": 155,
   "metadata": {},
   "outputs": [
    {
     "data": {
      "text/plain": [
       "array([0, 3, 5, 2], dtype=int64)"
      ]
     },
     "execution_count": 155,
     "metadata": {},
     "output_type": "execute_result"
    }
   ],
   "source": [
    "# 4면체 주사위 10번 던질때 1이 한번도 안나올확률은??\n",
    "N = 10\n",
    "K = 4\n",
    "theta_0 = np.ones(K)/K\n",
    "np.random.seed(0)\n",
    "x = np.random.choice(K, N, p=theta_0)\n",
    "n = np.bincount(x, minlength=K)\n",
    "n"
   ]
  },
  {
   "cell_type": "code",
   "execution_count": 156,
   "metadata": {},
   "outputs": [
    {
     "data": {
      "text/plain": [
       "Power_divergenceResult(statistic=5.1999999999999993, pvalue=0.157724450396663)"
      ]
     },
     "execution_count": 156,
     "metadata": {},
     "output_type": "execute_result"
    }
   ],
   "source": [
    "sp.stats.chisquare(n)\n",
    "#16%의 유의확률로... 채택한다. (충분히 그럴 수 있다.) = 기각할수 없음"
   ]
  },
  {
   "cell_type": "code",
   "execution_count": 157,
   "metadata": {},
   "outputs": [
    {
     "data": {
      "text/plain": [
       "Power_divergenceResult(statistic=30.0, pvalue=1.3800570312932553e-06)"
      ]
     },
     "execution_count": 157,
     "metadata": {},
     "output_type": "execute_result"
    }
   ],
   "source": [
    "sp.stats.chisquare([10,0,0,0])"
   ]
  },
  {
   "cell_type": "code",
   "execution_count": 158,
   "metadata": {},
   "outputs": [],
   "source": [
    "#유의확률은 거의 0.00013%이다. 채택할수 없을정도로 가능성이 낮다 = 기각한다"
   ]
  },
  {
   "cell_type": "code",
   "execution_count": null,
   "metadata": {},
   "outputs": [],
   "source": [
    "# 카테고리X와 카테고리Y의 상관관계는?"
   ]
  },
  {
   "cell_type": "code",
   "execution_count": 159,
   "metadata": {},
   "outputs": [],
   "source": [
    "obs = np.array([[10, 10, 20], [20, 20, 20]])"
   ]
  },
  {
   "cell_type": "code",
   "execution_count": 160,
   "metadata": {},
   "outputs": [
    {
     "data": {
      "text/plain": [
       "(2.7777777777777777, 0.24935220877729622, 2, array([[ 12.,  12.,  16.],\n",
       "        [ 18.,  18.,  24.]]))"
      ]
     },
     "execution_count": 160,
     "metadata": {},
     "output_type": "execute_result"
    }
   ],
   "source": [
    "sp.stats.chi2_contingency(obs)\n",
    "#카이제곰분포계산시 자동으로 테스트statistics와 pvalue를 구해준다\n",
    "#카이제곰검정의 유의확률은 24.9%로 크기가 크므로 상관관계가 없다."
   ]
  },
  {
   "cell_type": "code",
   "execution_count": 165,
   "metadata": {},
   "outputs": [],
   "source": [
    "#연습문제5 - 이 결과에 따르면 성별에 따라 식당을 많이 방문하는 요일이 달라진다고 이야기할 수 있는가?\n",
    "import seaborn as sns\n",
    "tips = sns.load_dataset(\"tips\")\n",
    "obs = tips.pivot_table(index=\"sex\", columns=\"day\", aggfunc=\"size\")"
   ]
  },
  {
   "cell_type": "code",
   "execution_count": 166,
   "metadata": {},
   "outputs": [
    {
     "data": {
      "text/plain": [
       "(13.222001372406609,\n",
       " 0.0041803020928222571,\n",
       " 3,\n",
       " array([[ 39.89344262,  12.22540984,  55.9795082 ,  48.90163934],\n",
       "        [ 22.10655738,   6.77459016,  31.0204918 ,  27.09836066]]))"
      ]
     },
     "execution_count": 166,
     "metadata": {},
     "output_type": "execute_result"
    }
   ],
   "source": [
    "sp.stats.chi2_contingency(obs)"
   ]
  },
  {
   "cell_type": "code",
   "execution_count": 167,
   "metadata": {},
   "outputs": [
    {
     "data": {
      "text/html": [
       "<div>\n",
       "<style>\n",
       "    .dataframe thead tr:only-child th {\n",
       "        text-align: right;\n",
       "    }\n",
       "\n",
       "    .dataframe thead th {\n",
       "        text-align: left;\n",
       "    }\n",
       "\n",
       "    .dataframe tbody tr th {\n",
       "        vertical-align: top;\n",
       "    }\n",
       "</style>\n",
       "<table border=\"1\" class=\"dataframe\">\n",
       "  <thead>\n",
       "    <tr style=\"text-align: right;\">\n",
       "      <th>day</th>\n",
       "      <th>Thur</th>\n",
       "      <th>Fri</th>\n",
       "      <th>Sat</th>\n",
       "      <th>Sun</th>\n",
       "    </tr>\n",
       "    <tr>\n",
       "      <th>sex</th>\n",
       "      <th></th>\n",
       "      <th></th>\n",
       "      <th></th>\n",
       "      <th></th>\n",
       "    </tr>\n",
       "  </thead>\n",
       "  <tbody>\n",
       "    <tr>\n",
       "      <th>Male</th>\n",
       "      <td>30</td>\n",
       "      <td>10</td>\n",
       "      <td>59</td>\n",
       "      <td>58</td>\n",
       "    </tr>\n",
       "    <tr>\n",
       "      <th>Female</th>\n",
       "      <td>32</td>\n",
       "      <td>9</td>\n",
       "      <td>28</td>\n",
       "      <td>18</td>\n",
       "    </tr>\n",
       "  </tbody>\n",
       "</table>\n",
       "</div>"
      ],
      "text/plain": [
       "day     Thur  Fri  Sat  Sun\n",
       "sex                        \n",
       "Male      30   10   59   58\n",
       "Female    32    9   28   18"
      ]
     },
     "execution_count": 167,
     "metadata": {},
     "output_type": "execute_result"
    }
   ],
   "source": [
    "obs #이런경우는 0.4%확률이다... 그렇다고 이야기할 수 없다."
   ]
  },
  {
   "cell_type": "markdown",
   "metadata": {},
   "source": [
    "# 단일표본 z-검정 (One-sample z-test)\n",
    "- 시험빼고는 거의 쓸일이 없다는거...\n",
    "- 시그마제곱값도 모르는 경우에는 쓴다."
   ]
  },
  {
   "cell_type": "code",
   "execution_count": 168,
   "metadata": {},
   "outputs": [],
   "source": [
    "#여러개 썼으니 알아서 복습하자 ㅜㅜ"
   ]
  },
  {
   "cell_type": "code",
   "execution_count": null,
   "metadata": {},
   "outputs": [],
   "source": []
  },
  {
   "cell_type": "markdown",
   "metadata": {},
   "source": [
    "# MLE-------------------------\n"
   ]
  },
  {
   "cell_type": "code",
   "execution_count": 169,
   "metadata": {},
   "outputs": [
    {
     "data": {
      "text/plain": [
       "0.60999999999999999"
      ]
     },
     "execution_count": 169,
     "metadata": {},
     "output_type": "execute_result"
    }
   ],
   "source": [
    "# 베르누이분포의 모수추정(동전던지기)\n",
    "np.random.seed(0)\n",
    "theta0 = 0.6\n",
    "x = sp.stats.bernoulli(theta0).rvs(1000)\n",
    "N0, N1 = np.bincount(x, minlength=2)\n",
    "N = N0 + N1\n",
    "theta = N1/N\n",
    "theta"
   ]
  },
  {
   "cell_type": "code",
   "execution_count": 172,
   "metadata": {},
   "outputs": [
    {
     "data": {
      "text/plain": [
       "array([ 0.098,  0.317,  0.585])"
      ]
     },
     "execution_count": 172,
     "metadata": {},
     "output_type": "execute_result"
    }
   ],
   "source": [
    "# 카이제곱분포의 모수추정(주사위던지기)\n",
    "np.random.seed(0)\n",
    "theta0 = np.array([0.1, 0.3, 0.6])\n",
    "x = np.random.choice(np.arange(3), 1000, p=theta0)\n",
    "N0, N1, N2 = np.bincount(x, minlength=3)\n",
    "N = N0 + N1 + N2\n",
    "theta = np.array([N0, N1, N2]) / N\n",
    "theta"
   ]
  },
  {
   "cell_type": "code",
   "execution_count": null,
   "metadata": {},
   "outputs": [],
   "source": []
  }
 ],
 "metadata": {
  "kernelspec": {
   "display_name": "Python 3",
   "language": "python",
   "name": "python3"
  },
  "language_info": {
   "codemirror_mode": {
    "name": "ipython",
    "version": 3
   },
   "file_extension": ".py",
   "mimetype": "text/x-python",
   "name": "python",
   "nbconvert_exporter": "python",
   "pygments_lexer": "ipython3",
   "version": "3.6.3"
  }
 },
 "nbformat": 4,
 "nbformat_minor": 2
}
