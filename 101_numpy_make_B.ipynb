{
 "cells": [
  {
   "cell_type": "markdown",
   "metadata": {},
   "source": [
    "## numpy - make\n",
    "- array\n",
    "- reshape\n",
    "- index\n",
    "- zeros\n",
    "- ones\n",
    "- eye\n",
    "- like\n",
    "- empty\n",
    "- arange\n",
    "- linspace, logspace\n",
    "- random : rand, randn (numpy 전용)\n",
    "- unique : 집합,중복제거, 속성활용시 갯수파악용으로 사용가능\n",
    "- stack, concat (배열을 합치는 방법)\n",
    "- split (배열나누기)\n",
    "- sort"
   ]
  },
  {
   "cell_type": "code",
   "execution_count": 2,
   "metadata": {},
   "outputs": [],
   "source": [
    "import numpy as np"
   ]
  },
  {
   "cell_type": "markdown",
   "metadata": {},
   "source": [
    "---\n",
    "\n",
    "## array\n",
    "- ndim : 행렬의 차원\n",
    "- shape : 행렬의 모양\n"
   ]
  },
  {
   "cell_type": "code",
   "execution_count": 2,
   "metadata": {},
   "outputs": [
    {
     "name": "stdout",
     "output_type": "stream",
     "text": [
      "<class 'numpy.ndarray'> [0 1 2 3]\n",
      "[[0 1]\n",
      " [1 2]\n",
      " [2 3]]\n"
     ]
    }
   ],
   "source": [
    "#1차원배열\n",
    "array = np.array([0,1,2,3])\n",
    "print(type(array), array)\n",
    "\n",
    "#2차원배열\n",
    "array = np.array([\n",
    "    [0,1],\n",
    "    [1,2],\n",
    "    [2,3],\n",
    "])\n",
    "print(array)"
   ]
  },
  {
   "cell_type": "code",
   "execution_count": 15,
   "metadata": {},
   "outputs": [
    {
     "name": "stdout",
     "output_type": "stream",
     "text": [
      "[[[ 0  1  2  3]\n",
      "  [ 4  5  6  7]\n",
      "  [ 8  9 10 11]]\n",
      "\n",
      " [[ 0  1  2  3]\n",
      "  [ 4  5  6  7]\n",
      "  [ 8  9 10 11]]]\n",
      "3 (2, 3, 4)\n"
     ]
    }
   ],
   "source": [
    "#3차원배열\n",
    "array = np.array([\n",
    "    [[0,1,2,3],\n",
    "    [4,5,6,7],\n",
    "    [8,9,10,11]],\n",
    "    \n",
    "    [[0,1,2,3],\n",
    "    [4,5,6,7],\n",
    "    [8,9,10,11]]\n",
    "])\n",
    "print(array)\n",
    "print(array.ndim, array.shape)\n",
    "#차원값 보여줌, 차원별 항목갯수를 보여줌"
   ]
  },
  {
   "cell_type": "markdown",
   "metadata": {},
   "source": [
    "## reshape\n",
    "- 행렬의 모양을 바꿀 수 있음\n",
    "-"
   ]
  },
  {
   "cell_type": "code",
   "execution_count": 8,
   "metadata": {},
   "outputs": [
    {
     "data": {
      "text/plain": [
       "array([1, 2, 3, 4, 5, 6, 7, 8])"
      ]
     },
     "execution_count": 8,
     "metadata": {},
     "output_type": "execute_result"
    }
   ],
   "source": [
    "na = np.array(range(1,9))\n",
    "na"
   ]
  },
  {
   "cell_type": "code",
   "execution_count": 256,
   "metadata": {},
   "outputs": [
    {
     "data": {
      "text/plain": [
       "array([[1, 2, 3, 4],\n",
       "       [5, 6, 7, 8]])"
      ]
     },
     "execution_count": 256,
     "metadata": {},
     "output_type": "execute_result"
    }
   ],
   "source": [
    "na.reshape(2,4)"
   ]
  },
  {
   "cell_type": "code",
   "execution_count": 259,
   "metadata": {},
   "outputs": [
    {
     "data": {
      "text/plain": [
       "array([[1, 2],\n",
       "       [3, 4],\n",
       "       [5, 6],\n",
       "       [7, 8]])"
      ]
     },
     "execution_count": 259,
     "metadata": {},
     "output_type": "execute_result"
    }
   ],
   "source": [
    "rna = np.reshape(na, (4,2))\n",
    "rna"
   ]
  },
  {
   "cell_type": "code",
   "execution_count": 253,
   "metadata": {},
   "outputs": [
    {
     "data": {
      "text/plain": [
       "array([[ 0,  1,  2,  3],\n",
       "       [ 4,  5,  6,  7],\n",
       "       [ 8,  9, 10, 11]])"
      ]
     },
     "execution_count": 253,
     "metadata": {},
     "output_type": "execute_result"
    }
   ],
   "source": [
    "#추가사항\n",
    "rnb = np.arange(12).reshape(3,4)\n",
    "rnb"
   ]
  },
  {
   "cell_type": "code",
   "execution_count": 17,
   "metadata": {},
   "outputs": [
    {
     "data": {
      "text/plain": [
       "(array([[1, 3, 5, 7],\n",
       "        [2, 4, 6, 8]]), (2, 4))"
      ]
     },
     "execution_count": 17,
     "metadata": {},
     "output_type": "execute_result"
    }
   ],
   "source": [
    "#전치행렬\n",
    "rna.T, rna.T.shape"
   ]
  },
  {
   "cell_type": "markdown",
   "metadata": {},
   "source": [
    "## index\n",
    "- 행렬의 특정위치값 가져오기\n",
    "- 행렬자르기[1:,:3,a:]"
   ]
  },
  {
   "cell_type": "code",
   "execution_count": 23,
   "metadata": {},
   "outputs": [
    {
     "name": "stdout",
     "output_type": "stream",
     "text": [
      "[[[ 0  1  2  3]\n",
      "  [ 4  5  6  7]\n",
      "  [ 8  9 10 11]]\n",
      "\n",
      " [[ 0  1  2  3]\n",
      "  [ 4  5  6  7]\n",
      "  [ 8  9 10 11]]]\n",
      "6\n",
      "6\n"
     ]
    }
   ],
   "source": [
    "print(array)\n",
    "print(array[1][1][2])\n",
    "print(array[1,1,2]) #같은기능.."
   ]
  },
  {
   "cell_type": "code",
   "execution_count": 261,
   "metadata": {},
   "outputs": [
    {
     "data": {
      "text/plain": [
       "array([[[ 6,  7],\n",
       "        [10, 11]],\n",
       "\n",
       "       [[ 6,  7],\n",
       "        [10, 11]]])"
      ]
     },
     "execution_count": 261,
     "metadata": {},
     "output_type": "execute_result"
    }
   ],
   "source": [
    "#행렬자르기\n",
    "i = 2\n",
    "result = array[0:,1:,i:]\n",
    "result"
   ]
  },
  {
   "cell_type": "code",
   "execution_count": 29,
   "metadata": {},
   "outputs": [
    {
     "data": {
      "text/plain": [
       "(3, 2, 1)"
      ]
     },
     "execution_count": 29,
     "metadata": {},
     "output_type": "execute_result"
    }
   ],
   "source": [
    "#number of dimension(현재 차원 표시)\n",
    "array.ndim, array[0].ndim, array[0,1].ndim"
   ]
  },
  {
   "cell_type": "code",
   "execution_count": 30,
   "metadata": {},
   "outputs": [
    {
     "data": {
      "text/plain": [
       "array([0, 1, 2, 3, 4])"
      ]
     },
     "execution_count": 30,
     "metadata": {},
     "output_type": "execute_result"
    }
   ],
   "source": [
    "#데이터 수정\n",
    "data = np.array(range(5))\n",
    "data"
   ]
  },
  {
   "cell_type": "code",
   "execution_count": 31,
   "metadata": {},
   "outputs": [
    {
     "data": {
      "text/plain": [
       "array([0, 1, 0, 3, 4])"
      ]
     },
     "execution_count": 31,
     "metadata": {},
     "output_type": "execute_result"
    }
   ],
   "source": [
    "data[2] = 0\n",
    "data"
   ]
  },
  {
   "cell_type": "code",
   "execution_count": 32,
   "metadata": {},
   "outputs": [
    {
     "data": {
      "text/plain": [
       "array([0, 1, 0, 2, 2])"
      ]
     },
     "execution_count": 32,
     "metadata": {},
     "output_type": "execute_result"
    }
   ],
   "source": [
    "#슬라이싱으로 특정 범위에 해당하는 모든 요소들의 값 수정 가능\n",
    "data[3:]=2\n",
    "data"
   ]
  },
  {
   "cell_type": "code",
   "execution_count": 34,
   "metadata": {},
   "outputs": [
    {
     "data": {
      "text/plain": [
       "array([[0, 1, 2],\n",
       "       [3, 4, 5]])"
      ]
     },
     "execution_count": 34,
     "metadata": {},
     "output_type": "execute_result"
    }
   ],
   "source": [
    "#2차원 행렬 데이터 바꾸기\n",
    "data = np.array([range(3),range(3,6)])\n",
    "data"
   ]
  },
  {
   "cell_type": "code",
   "execution_count": 41,
   "metadata": {},
   "outputs": [
    {
     "data": {
      "text/plain": [
       "array([[ 0,  1,  2],\n",
       "       [ 3, 10, 10]])"
      ]
     },
     "execution_count": 41,
     "metadata": {},
     "output_type": "execute_result"
    }
   ],
   "source": [
    "data[1:,1:] = 10\n",
    "data"
   ]
  },
  {
   "cell_type": "markdown",
   "metadata": {},
   "source": [
    "## 영행렬, 일행렬, 단위행렬, \n",
    "- zeros\n",
    "- ones\n",
    "- eye, identity\n"
   ]
  },
  {
   "cell_type": "code",
   "execution_count": 42,
   "metadata": {},
   "outputs": [
    {
     "data": {
      "text/plain": [
       "array([ 0.,  0.,  0.,  0.,  0.])"
      ]
     },
     "execution_count": 42,
     "metadata": {},
     "output_type": "execute_result"
    }
   ],
   "source": [
    "#영행렬, 영벡터\n",
    "z = np.zeros(5)\n",
    "z"
   ]
  },
  {
   "cell_type": "code",
   "execution_count": 43,
   "metadata": {},
   "outputs": [
    {
     "data": {
      "text/plain": [
       "array([0, 0, 0, 0, 0])"
      ]
     },
     "execution_count": 43,
     "metadata": {},
     "output_type": "execute_result"
    }
   ],
   "source": [
    "z = np.zeros(5, dtype=int)\n",
    "z"
   ]
  },
  {
   "cell_type": "code",
   "execution_count": 44,
   "metadata": {},
   "outputs": [
    {
     "data": {
      "text/plain": [
       "array([[[0, 0, 0, 0],\n",
       "        [0, 0, 0, 0],\n",
       "        [0, 0, 0, 0]],\n",
       "\n",
       "       [[0, 0, 0, 0],\n",
       "        [0, 0, 0, 0],\n",
       "        [0, 0, 0, 0]]])"
      ]
     },
     "execution_count": 44,
     "metadata": {},
     "output_type": "execute_result"
    }
   ],
   "source": [
    "z = np.zeros((2,3,4), dtype = int)\n",
    "z"
   ]
  },
  {
   "cell_type": "code",
   "execution_count": 45,
   "metadata": {},
   "outputs": [
    {
     "data": {
      "text/plain": [
       "array([[[1, 1, 1, 1],\n",
       "        [1, 1, 1, 1],\n",
       "        [1, 1, 1, 1]],\n",
       "\n",
       "       [[1, 1, 1, 1],\n",
       "        [1, 1, 1, 1],\n",
       "        [1, 1, 1, 1]]])"
      ]
     },
     "execution_count": 45,
     "metadata": {},
     "output_type": "execute_result"
    }
   ],
   "source": [
    "#일행렬 일벡터\n",
    "one = np.ones((2,3,4), dtype=int)\n",
    "one"
   ]
  },
  {
   "cell_type": "code",
   "execution_count": 48,
   "metadata": {},
   "outputs": [
    {
     "data": {
      "text/plain": [
       "array([[ 1.,  0.,  0.],\n",
       "       [ 0.,  1.,  0.],\n",
       "       [ 0.,  0.,  1.]])"
      ]
     },
     "execution_count": 48,
     "metadata": {},
     "output_type": "execute_result"
    }
   ],
   "source": [
    "#단위행렬\n",
    "np.identity(3)"
   ]
  },
  {
   "cell_type": "code",
   "execution_count": 49,
   "metadata": {},
   "outputs": [
    {
     "data": {
      "text/plain": [
       "array([[ 1.,  0.,  0.],\n",
       "       [ 0.,  1.,  0.],\n",
       "       [ 0.,  0.,  1.]])"
      ]
     },
     "execution_count": 49,
     "metadata": {},
     "output_type": "execute_result"
    }
   ],
   "source": [
    "np.eye(3)"
   ]
  },
  {
   "cell_type": "markdown",
   "metadata": {},
   "source": [
    "## like\n",
    "- 행렬데이터를 모두 0이나 1로 바꿀 수 있음\n",
    "- ... 음 이게 왜 궂이 필요하냐면 행렬의 구조를 모를수도 있기때문에 같은 행렬의 구조에 영행렬이나 일행렬을 만들어준다고 생각하면 편하다."
   ]
  },
  {
   "cell_type": "code",
   "execution_count": 60,
   "metadata": {},
   "outputs": [
    {
     "name": "stdout",
     "output_type": "stream",
     "text": [
      "[[ 0  1  2]\n",
      " [ 3 10 10]]\n"
     ]
    },
    {
     "data": {
      "text/plain": [
       "array([[1, 1, 1],\n",
       "       [1, 1, 1]])"
      ]
     },
     "execution_count": 60,
     "metadata": {},
     "output_type": "execute_result"
    }
   ],
   "source": [
    "print(data)\n",
    "np.ones_like(data)"
   ]
  },
  {
   "cell_type": "code",
   "execution_count": 61,
   "metadata": {},
   "outputs": [
    {
     "data": {
      "text/plain": [
       "array([[0, 0, 0],\n",
       "       [0, 0, 0]])"
      ]
     },
     "execution_count": 61,
     "metadata": {},
     "output_type": "execute_result"
    }
   ],
   "source": [
    "np.zeros_like(data)"
   ]
  },
  {
   "cell_type": "markdown",
   "metadata": {},
   "source": [
    "## empty\n",
    "- 빈행렬데이터\n",
    "- 안에 어떤 데이터가 들어갈지 알수없음."
   ]
  },
  {
   "cell_type": "code",
   "execution_count": 262,
   "metadata": {},
   "outputs": [
    {
     "data": {
      "text/plain": [
       "array([[  2.67901935e-258,   3.38690424e-301,   2.49328460e-306,\n",
       "          1.45750815e-296,   8.88275722e-220,   1.45361876e-296],\n",
       "       [  2.51519906e-292,   2.65163193e+291,   3.48232260e-308,\n",
       "          3.39839301e-306,   4.56612585e-191,   2.50127148e-306],\n",
       "       [  3.49102684e-308,   4.60568421e-287,   1.69212152e-301,\n",
       "          2.15381464e-282,   5.79296597e-085,   4.08945097e-268],\n",
       "       [  3.93748462e-268,   3.93748420e-268,   3.12134919e-282,\n",
       "          2.50161371e-306,   1.63446183e-301,   3.47906307e-308],\n",
       "       [  4.27214454e-306,   3.47906307e-308,   1.63321223e-301,\n",
       "          1.39368485e-309,   5.34399107e-306,   3.02552632e-282],\n",
       "       [  2.36733809e-157,   8.85265423e-220,   2.21673429e-301,\n",
       "          2.60231353e-258,   7.76709751e+069,   4.59995726e-287]])"
      ]
     },
     "execution_count": 262,
     "metadata": {},
     "output_type": "execute_result"
    }
   ],
   "source": [
    "#말그대로 행렬의 구조만 형성하며 안의 내용물을 크게 신경쓰지 않는다. 단지 내부 내용물에 무언가를 기재하지 않을 뿐이다. 그래서 기존에 메모리에 쓰여있는 흔적이 그대로 남아있는 형태가 된다.\n",
    "np.empty((6,6))"
   ]
  },
  {
   "cell_type": "markdown",
   "metadata": {},
   "source": [
    "## arange\n",
    "- range와 사용법은 같음\n",
    "- 큰데이터를 만들때 range 보다 속도가 빠릅니다."
   ]
  },
  {
   "cell_type": "code",
   "execution_count": 263,
   "metadata": {},
   "outputs": [
    {
     "data": {
      "text/plain": [
       "1000000"
      ]
     },
     "execution_count": 263,
     "metadata": {},
     "output_type": "execute_result"
    }
   ],
   "source": [
    "size = int(1E6)\n",
    "size"
   ]
  },
  {
   "cell_type": "code",
   "execution_count": 63,
   "metadata": {},
   "outputs": [
    {
     "name": "stdout",
     "output_type": "stream",
     "text": [
      "610 ms ± 31 ms per loop (mean ± std. dev. of 7 runs, 1 loop each)\n",
      "368 ms ± 28.8 ms per loop (mean ± std. dev. of 7 runs, 1 loop each)\n"
     ]
    }
   ],
   "source": [
    "%timeit for x in range(size): x**2\n",
    "%timeit for x in np.arange(size): x**2"
   ]
  },
  {
   "cell_type": "code",
   "execution_count": 64,
   "metadata": {},
   "outputs": [
    {
     "data": {
      "text/plain": [
       "array([5, 6, 7, 8, 9])"
      ]
     },
     "execution_count": 64,
     "metadata": {},
     "output_type": "execute_result"
    }
   ],
   "source": [
    "np.arange(5,10)"
   ]
  },
  {
   "cell_type": "code",
   "execution_count": 66,
   "metadata": {},
   "outputs": [
    {
     "data": {
      "text/plain": [
       "array([2, 5, 8])"
      ]
     },
     "execution_count": 66,
     "metadata": {},
     "output_type": "execute_result"
    }
   ],
   "source": [
    "np.arange(2,10,3)"
   ]
  },
  {
   "cell_type": "markdown",
   "metadata": {},
   "source": [
    "## linspace, logspace ★★★★★★★\n",
    "- 첫값과 끝값을 주고 총 나눠야하는 갯수를 설정하여 균등하게 숫자배치"
   ]
  },
  {
   "cell_type": "code",
   "execution_count": 264,
   "metadata": {},
   "outputs": [
    {
     "data": {
      "text/plain": [
       "array([   0.,   50.,  100.])"
      ]
     },
     "execution_count": 264,
     "metadata": {},
     "output_type": "execute_result"
    }
   ],
   "source": [
    "# 이게 어떤용도로 사용될까? 첫값과 끝값을 먼저 주어주고 총 나눠지는 갯수를 설정한다. linspace는 일반적인 숫자에서 딱딱 나눠놓는다.\n",
    "np.linspace(0,100,3)"
   ]
  },
  {
   "cell_type": "code",
   "execution_count": 265,
   "metadata": {},
   "outputs": [
    {
     "data": {
      "text/plain": [
       "array([   0. ,   12.5,   25. ,   37.5,   50. ,   62.5,   75. ,   87.5,\n",
       "        100. ])"
      ]
     },
     "execution_count": 265,
     "metadata": {},
     "output_type": "execute_result"
    }
   ],
   "source": [
    "np.linspace(0,100,9)"
   ]
  },
  {
   "cell_type": "code",
   "execution_count": 266,
   "metadata": {},
   "outputs": [
    {
     "data": {
      "text/plain": [
       "array([   100.,   1000.,  10000.])"
      ]
     },
     "execution_count": 266,
     "metadata": {},
     "output_type": "execute_result"
    }
   ],
   "source": [
    "# log10(x)=2, log10(x2)=3, log10(x3)=4\n",
    "# x1:100, x2:1000, x3:10000\n",
    "np.logspace(2,4,3)"
   ]
  },
  {
   "cell_type": "code",
   "execution_count": 268,
   "metadata": {},
   "outputs": [
    {
     "data": {
      "text/plain": [
       "array([   100.        ,    316.22776602,   1000.        ,   3162.27766017,\n",
       "        10000.        ])"
      ]
     },
     "execution_count": 268,
     "metadata": {},
     "output_type": "execute_result"
    }
   ],
   "source": [
    "np.logspace(2,4,5)"
   ]
  },
  {
   "cell_type": "code",
   "execution_count": 76,
   "metadata": {},
   "outputs": [
    {
     "data": {
      "text/plain": [
       "array([  100.        ,   129.1549665 ,   166.81005372,   215.443469  ,\n",
       "         278.25594022,   359.38136638,   464.15888336,   599.48425032,\n",
       "         774.26368268,  1000.        ])"
      ]
     },
     "execution_count": 76,
     "metadata": {},
     "output_type": "execute_result"
    }
   ],
   "source": [
    "np.logspace(2,3,10)"
   ]
  },
  {
   "cell_type": "markdown",
   "metadata": {},
   "source": [
    "## random\n",
    "- seed : 랜덤값을 결정해주는 특정 값.(정해져있는 숫자모듬이랄까?)\n",
    "- rand : uniform(균등분포)하게 랜덤값 뽑아줌. (뽑히는 숫자의 횟수가 균등분포)\n",
    "- randn : gaussian(정규분포)하게 랜덤값 뽑아줌 (뽑하는 숫자의 횟수가 정규분포)\n",
    "- randint : 정수를 랜덤하게 뽑아줌 (특정숫자보다 작고 0을 포함하는 양수의 정수값)\n",
    "- shuffle : 섞어주는함수\n",
    "- choice : 어러개에서 선택해주는 함수 입니다"
   ]
  },
  {
   "cell_type": "code",
   "execution_count": 320,
   "metadata": {},
   "outputs": [
    {
     "data": {
      "text/plain": [
       "array([  4.17022005e-01,   7.20324493e-01,   1.14374817e-04,\n",
       "         3.02332573e-01,   1.46755891e-01,   9.23385948e-02,\n",
       "         1.86260211e-01,   3.45560727e-01,   3.96767474e-01,\n",
       "         5.38816734e-01])"
      ]
     },
     "execution_count": 320,
     "metadata": {},
     "output_type": "execute_result"
    }
   ],
   "source": [
    "np.random.seed(1)\n",
    "rd = np.random.rand(10)\n",
    "rd"
   ]
  },
  {
   "cell_type": "code",
   "execution_count": 285,
   "metadata": {},
   "outputs": [
    {
     "data": {
      "text/plain": [
       "array([[ 74.53215102,  26.45493143,  99.97691169,  57.37319011,\n",
       "         63.90589712],\n",
       "       [ 48.9699603 ,  88.93747539,  87.4510267 ,  84.77899824,\n",
       "         64.77238597]])"
      ]
     },
     "execution_count": 285,
     "metadata": {},
     "output_type": "execute_result"
    }
   ],
   "source": [
    "#rand 균등분포하게 뽑는다. 그냥 0~1사잇값을 균등한 확률로 뽑음을 의미함\n",
    "rd = np.random.rand(2,5)*100\n",
    "rd"
   ]
  },
  {
   "cell_type": "code",
   "execution_count": 4,
   "metadata": {},
   "outputs": [
    {
     "data": {
      "text/plain": [
       "array([[ 2.52227862, -1.49240904, -0.58108843, -1.35610389, -0.64275288],\n",
       "       [-0.45385963, -0.80388546,  0.78923246,  1.46104637, -0.20051015]])"
      ]
     },
     "execution_count": 4,
     "metadata": {},
     "output_type": "execute_result"
    }
   ],
   "source": [
    "#randn 정규분포하게 뽑는다는것은 대략 z값으로서의 확률적 뽑힘가능성을 보여주는 것일것이다. 그래서 대체로 -2~2사이값이 주로 나오고 범위를 초과하는 숫자는 드물게 나올것이다. 앞자리가 3이라면 아주 대박임\n",
    "rdn = np.random.randn(2,5)\n",
    "rdn"
   ]
  },
  {
   "cell_type": "code",
   "execution_count": 311,
   "metadata": {},
   "outputs": [
    {
     "data": {
      "text/plain": [
       "3"
      ]
     },
     "execution_count": 311,
     "metadata": {},
     "output_type": "execute_result"
    }
   ],
   "source": [
    "np.random.randint(10) # 10보다 작은 양의 정수"
   ]
  },
  {
   "cell_type": "code",
   "execution_count": 341,
   "metadata": {},
   "outputs": [
    {
     "data": {
      "text/plain": [
       "4"
      ]
     },
     "execution_count": 341,
     "metadata": {},
     "output_type": "execute_result"
    }
   ],
   "source": [
    "np.random.randint(3,9) # 3부터 9사이의 정수 "
   ]
  },
  {
   "cell_type": "code",
   "execution_count": 160,
   "metadata": {},
   "outputs": [
    {
     "data": {
      "text/plain": [
       "array([[10,  7,  9],\n",
       "       [ 8, 10,  8],\n",
       "       [10,  5,  8]])"
      ]
     },
     "execution_count": 160,
     "metadata": {},
     "output_type": "execute_result"
    }
   ],
   "source": [
    "np.random.randint(5,11,(3,3)) # 5를 포함하며 크고 11보다는 작은 수, 사이즈"
   ]
  },
  {
   "cell_type": "code",
   "execution_count": 162,
   "metadata": {},
   "outputs": [
    {
     "data": {
      "text/plain": [
       "array([[4, 3, 4],\n",
       "       [4, 4, 1],\n",
       "       [0, 4, 2]])"
      ]
     },
     "execution_count": 162,
     "metadata": {},
     "output_type": "execute_result"
    }
   ],
   "source": [
    "np.random.randint(5, size=(3,3)) #"
   ]
  },
  {
   "cell_type": "code",
   "execution_count": 411,
   "metadata": {},
   "outputs": [
    {
     "name": "stdout",
     "output_type": "stream",
     "text": [
      "[[ 1  2  3]\n",
      " [ 4  5  6]\n",
      " [ 7  8  9]\n",
      " [10 11 12]\n",
      " [13 14 15]]\n",
      "(5, 3)\n"
     ]
    },
    {
     "data": {
      "text/plain": [
       "array([[ 1,  2,  3],\n",
       "       [ 7,  8,  9],\n",
       "       [10, 11, 12],\n",
       "       [ 4,  5,  6],\n",
       "       [13, 14, 15]])"
      ]
     },
     "execution_count": 411,
     "metadata": {},
     "output_type": "execute_result"
    }
   ],
   "source": [
    "# data = np.array([range(4),range(4,8)])\n",
    "data = np.arange(1,16).reshape(5,3)\n",
    "print(data)\n",
    "\n",
    "np.random.shuffle(data[1:4])\n",
    "\n",
    "print(data.shape)\n",
    "data"
   ]
  },
  {
   "cell_type": "code",
   "execution_count": 590,
   "metadata": {},
   "outputs": [
    {
     "data": {
      "text/plain": [
       "array([2, 4, 3, 3, 3, 0, 1, 2, 3, 2, 2, 3, 2, 3, 0, 3, 0, 0, 2, 3], dtype=int64)"
      ]
     },
     "execution_count": 590,
     "metadata": {},
     "output_type": "execute_result"
    }
   ],
   "source": [
    "#choice 특정값, 횟수, replace, p=뽑기확률분포\n",
    "np.random.choice(5, 20, replace=True, p=[0.1, 0.1, 0.25, 0.50, 0.05])"
   ]
  },
  {
   "cell_type": "code",
   "execution_count": null,
   "metadata": {},
   "outputs": [],
   "source": [
    "np.random.choice(45, 6)"
   ]
  },
  {
   "cell_type": "markdown",
   "metadata": {},
   "source": [
    "## unique\n",
    "- 집합개념이며 중복을 제거한 내용물을 index형태로 반환한다.\n",
    "- 응용하면 인덱스와 인덱스 갯수를 반환하게 할 수 있다. 두개의 리스트를 반환하므로 받아주는 변수도 두개여야한다."
   ]
  },
  {
   "cell_type": "code",
   "execution_count": 488,
   "metadata": {},
   "outputs": [
    {
     "data": {
      "text/plain": [
       "array([[0, 1, 2, 3],\n",
       "       [1, 2, 3, 4],\n",
       "       [2, 3, 4, 5]])"
      ]
     },
     "execution_count": 488,
     "metadata": {},
     "output_type": "execute_result"
    }
   ],
   "source": [
    "data = np.array([range(4),range(1,5),range(2,6)])\n",
    "data"
   ]
  },
  {
   "cell_type": "code",
   "execution_count": 414,
   "metadata": {},
   "outputs": [
    {
     "name": "stdout",
     "output_type": "stream",
     "text": [
      "[0 1 2 3 4 5]\n",
      "[1 2 3 3 2 1]\n"
     ]
    }
   ],
   "source": [
    "#unique 속성을 활용하면 인덱스와 그 인덱스의 카운트를 각각 리스트로 반환한다. 행렬의 요소별 갯수를 셀때 유용하게 사용할 수 있다.\n",
    "index, count = np.unique(data, return_counts=True)\n",
    "print(index)\n",
    "print(count)"
   ]
  },
  {
   "cell_type": "markdown",
   "metadata": {},
   "source": [
    "## stack\n",
    "- 행렬을 쌓는것처럼 합치는 방법\n"
   ]
  },
  {
   "cell_type": "code",
   "execution_count": 427,
   "metadata": {},
   "outputs": [
    {
     "name": "stdout",
     "output_type": "stream",
     "text": [
      "[0 1 2 3 4 5] (6,)\n",
      "[ 6  7  8  9 10 11] (6,)\n"
     ]
    }
   ],
   "source": [
    "na1 = np.arange(6)\n",
    "na2 = np.arange(6,12)\n",
    "print(na1, na1.shape)\n",
    "print(na2, na2.shape)"
   ]
  },
  {
   "cell_type": "code",
   "execution_count": 428,
   "metadata": {},
   "outputs": [
    {
     "name": "stdout",
     "output_type": "stream",
     "text": [
      "[[ 0  1  2  3  4  5]\n",
      " [ 6  7  8  9 10 11]] (2, 6)\n"
     ]
    }
   ],
   "source": [
    "na3 = np.stack((na1,na2))\n",
    "print(na3,na3.shape)"
   ]
  },
  {
   "cell_type": "code",
   "execution_count": 440,
   "metadata": {},
   "outputs": [
    {
     "name": "stdout",
     "output_type": "stream",
     "text": [
      "[[ 0  6]\n",
      " [ 1  7]\n",
      " [ 2  8]\n",
      " [ 3  9]\n",
      " [ 4 10]\n",
      " [ 5 11]] (6, 2)\n",
      "[[ 6  7  8  9 10 11]\n",
      " [ 0  1  2  3  4  5]]\n"
     ]
    }
   ],
   "source": [
    "#axis 가 0이 아니면 세로로 쌓는다.\n",
    "na4 = np.stack((na1,na2),axis=1)\n",
    "print(na4, na4.shape)\n",
    "na5 = np.stack((na2,na1))\n",
    "print(na5)"
   ]
  },
  {
   "cell_type": "code",
   "execution_count": 193,
   "metadata": {},
   "outputs": [
    {
     "name": "stdout",
     "output_type": "stream",
     "text": [
      "[[4 0 0]\n",
      " [3 4 9]] (2, 3)\n",
      "[[3 9 1]\n",
      " [2 5 4]] (2, 3)\n"
     ]
    }
   ],
   "source": [
    "na1 = np.random.randint(10,size=(2,3))\n",
    "na2 = np.random.randint(10,size=(2,3))\n",
    "print(na1, na1.shape)\n",
    "print(na2, na2.shape)"
   ]
  },
  {
   "cell_type": "code",
   "execution_count": 194,
   "metadata": {},
   "outputs": [
    {
     "name": "stdout",
     "output_type": "stream",
     "text": [
      "[[[4 0 0]\n",
      "  [3 4 9]]\n",
      "\n",
      " [[3 9 1]\n",
      "  [2 5 4]]] (2, 2, 3)\n"
     ]
    }
   ],
   "source": [
    "na3 = np.stack((na1,na2))\n",
    "print(na3, na3.shape)"
   ]
  },
  {
   "cell_type": "code",
   "execution_count": 195,
   "metadata": {},
   "outputs": [
    {
     "name": "stdout",
     "output_type": "stream",
     "text": [
      "[[[4 0 0]\n",
      "  [3 9 1]]\n",
      "\n",
      " [[3 4 9]\n",
      "  [2 5 4]]] (2, 2, 3)\n"
     ]
    }
   ],
   "source": [
    "#axis 가 0이 아니면 세로로 쌓는다.\n",
    "na4 = np.stack((na1,na2),axis=1)\n",
    "print(na4, na4.shape)"
   ]
  },
  {
   "cell_type": "code",
   "execution_count": 442,
   "metadata": {},
   "outputs": [
    {
     "data": {
      "text/plain": [
       "[range(0, 3), range(1, 4), range(2, 5), range(3, 6), range(4, 7)]"
      ]
     },
     "execution_count": 442,
     "metadata": {},
     "output_type": "execute_result"
    }
   ],
   "source": [
    "#vstack\n",
    "#[[0,1,2],[1,2,3],[2,3,4],[3,4,5],[4,5,6]]\n",
    "\n",
    "ls = []\n",
    "for i in range(5):\n",
    "    ls.append(range(i,i+3))\n",
    "ls"
   ]
  },
  {
   "cell_type": "code",
   "execution_count": 443,
   "metadata": {},
   "outputs": [
    {
     "data": {
      "text/plain": [
       "array([[0, 1, 2],\n",
       "       [1, 2, 3],\n",
       "       [2, 3, 4],\n",
       "       [3, 4, 5],\n",
       "       [4, 5, 6]])"
      ]
     },
     "execution_count": 443,
     "metadata": {},
     "output_type": "execute_result"
    }
   ],
   "source": [
    "np.vstack(ls)"
   ]
  },
  {
   "cell_type": "code",
   "execution_count": 446,
   "metadata": {},
   "outputs": [
    {
     "data": {
      "text/plain": [
       "array([0, 1, 2, 1, 2, 3, 2, 3, 4, 3, 4, 5, 4, 5, 6])"
      ]
     },
     "execution_count": 446,
     "metadata": {},
     "output_type": "execute_result"
    }
   ],
   "source": [
    "#hstack\n",
    "np.hstack(ls)"
   ]
  },
  {
   "cell_type": "code",
   "execution_count": 447,
   "metadata": {},
   "outputs": [
    {
     "data": {
      "text/plain": [
       "[[0, 1, 2], [1, 2, 3], [2, 3, 4], [3, 4, 5], [4, 5, 6]]"
      ]
     },
     "execution_count": 447,
     "metadata": {},
     "output_type": "execute_result"
    }
   ],
   "source": [
    "ls = [list(range(i,i+3)) for i in range(5)]\n",
    "ls"
   ]
  },
  {
   "cell_type": "code",
   "execution_count": 459,
   "metadata": {},
   "outputs": [
    {
     "data": {
      "text/plain": [
       "array([[0],\n",
       "       [1],\n",
       "       [2],\n",
       "       [3],\n",
       "       [4]])"
      ]
     },
     "execution_count": 459,
     "metadata": {},
     "output_type": "execute_result"
    }
   ],
   "source": [
    "np.arange(5)[:, np.newaxis]"
   ]
  },
  {
   "cell_type": "markdown",
   "metadata": {},
   "source": [
    "## concatenate 결합\n",
    "- 가로결합 행의 갯수가 같아야한다.\n",
    "- 세로결함 행의 갯수가 같아야한다."
   ]
  },
  {
   "cell_type": "code",
   "execution_count": 212,
   "metadata": {},
   "outputs": [
    {
     "data": {
      "text/plain": [
       "array([[0, 8, 2],\n",
       "       [3, 9, 9]])"
      ]
     },
     "execution_count": 212,
     "metadata": {},
     "output_type": "execute_result"
    }
   ],
   "source": [
    "r1 = np.random.randint(10,size=(2,3))\n",
    "r1"
   ]
  },
  {
   "cell_type": "code",
   "execution_count": 213,
   "metadata": {},
   "outputs": [
    {
     "data": {
      "text/plain": [
       "array([[4, 4],\n",
       "       [8, 2],\n",
       "       [1, 6]])"
      ]
     },
     "execution_count": 213,
     "metadata": {},
     "output_type": "execute_result"
    }
   ],
   "source": [
    "r2 = np.random.randint(10,size=(3,2))\n",
    "r2"
   ]
  },
  {
   "cell_type": "code",
   "execution_count": 214,
   "metadata": {},
   "outputs": [
    {
     "data": {
      "text/plain": [
       "array([[3, 8, 9],\n",
       "       [7, 0, 5],\n",
       "       [2, 2, 8]])"
      ]
     },
     "execution_count": 214,
     "metadata": {},
     "output_type": "execute_result"
    }
   ],
   "source": [
    "r3 = np.random.randint(10,size=(3,3))\n",
    "r3"
   ]
  },
  {
   "cell_type": "code",
   "execution_count": 216,
   "metadata": {},
   "outputs": [
    {
     "data": {
      "text/plain": [
       "array([[0, 8, 2],\n",
       "       [3, 9, 9],\n",
       "       [3, 8, 9],\n",
       "       [7, 0, 5],\n",
       "       [2, 2, 8]])"
      ]
     },
     "execution_count": 216,
     "metadata": {},
     "output_type": "execute_result"
    }
   ],
   "source": [
    "np.concatenate((r1,r3))"
   ]
  },
  {
   "cell_type": "code",
   "execution_count": 219,
   "metadata": {},
   "outputs": [
    {
     "data": {
      "text/plain": [
       "array([[4, 4, 3, 8, 9],\n",
       "       [8, 2, 7, 0, 5],\n",
       "       [1, 6, 2, 2, 8]])"
      ]
     },
     "execution_count": 219,
     "metadata": {},
     "output_type": "execute_result"
    }
   ],
   "source": [
    "np.concatenate((r2,r3),axis=1)"
   ]
  },
  {
   "cell_type": "markdown",
   "metadata": {},
   "source": [
    "## split"
   ]
  },
  {
   "cell_type": "code",
   "execution_count": 223,
   "metadata": {},
   "outputs": [
    {
     "data": {
      "text/plain": [
       "array([10, 11, 12, 13, 14, 15, 16, 17, 18, 19])"
      ]
     },
     "execution_count": 223,
     "metadata": {},
     "output_type": "execute_result"
    }
   ],
   "source": [
    "r = np.arange(10,20)\n",
    "r"
   ]
  },
  {
   "cell_type": "code",
   "execution_count": 224,
   "metadata": {},
   "outputs": [
    {
     "data": {
      "text/plain": [
       "[array([10, 11, 12, 13, 14]), array([15, 16, 17, 18, 19])]"
      ]
     },
     "execution_count": 224,
     "metadata": {},
     "output_type": "execute_result"
    }
   ],
   "source": [
    "r1 = np.split(r, [5])\n",
    "r1"
   ]
  },
  {
   "cell_type": "code",
   "execution_count": 227,
   "metadata": {},
   "outputs": [
    {
     "data": {
      "text/plain": [
       "[array([10, 11]),\n",
       " array([12, 13]),\n",
       " array([14, 15]),\n",
       " array([16, 17]),\n",
       " array([18, 19])]"
      ]
     },
     "execution_count": 227,
     "metadata": {},
     "output_type": "execute_result"
    }
   ],
   "source": [
    "r2 = np.split(r,[2,4,6,8])\n",
    "r2"
   ]
  },
  {
   "cell_type": "code",
   "execution_count": 228,
   "metadata": {},
   "outputs": [],
   "source": [
    "#vsplit - 행렬을 수평단위로 나눠줍니다"
   ]
  },
  {
   "cell_type": "code",
   "execution_count": 230,
   "metadata": {},
   "outputs": [
    {
     "data": {
      "text/plain": [
       "array([[5, 0, 5, 9, 8, 6],\n",
       "       [6, 0, 4, 7, 3, 0],\n",
       "       [1, 6, 0, 6, 1, 6],\n",
       "       [4, 2, 5, 4, 6, 2]])"
      ]
     },
     "execution_count": 230,
     "metadata": {},
     "output_type": "execute_result"
    }
   ],
   "source": [
    "r = np.random.randint(10, size=(4,6))\n",
    "r"
   ]
  },
  {
   "cell_type": "code",
   "execution_count": 238,
   "metadata": {},
   "outputs": [
    {
     "name": "stdout",
     "output_type": "stream",
     "text": [
      "[[5 0 5 9 8 6]\n",
      " [6 0 4 7 3 0]]\n",
      "[[1 6 0 6 1 6]]\n",
      "[[4 2 5 4 6 2]]\n"
     ]
    }
   ],
   "source": [
    "r1, r2, r3= np.vsplit(r,[2,3])\n",
    "print(r1)\n",
    "print(r2)\n",
    "print(r3)"
   ]
  },
  {
   "cell_type": "code",
   "execution_count": 251,
   "metadata": {},
   "outputs": [
    {
     "name": "stdout",
     "output_type": "stream",
     "text": [
      "[[5 0]\n",
      " [6 0]\n",
      " [1 6]\n",
      " [4 2]]\n",
      "[[5 9 8]\n",
      " [4 7 3]\n",
      " [0 6 1]\n",
      " [5 4 6]]\n",
      "[[6]\n",
      " [0]\n",
      " [6]\n",
      " [2]]\n"
     ]
    }
   ],
   "source": [
    "# hsplit - 행렬을 수직단위로 나눠줍니다\n",
    "r1, r2 ,r3 = np.hsplit(r,[2,5])\n",
    "print(r1)\n",
    "print(r2)\n",
    "print(r3)"
   ]
  },
  {
   "cell_type": "markdown",
   "metadata": {},
   "source": [
    "## Sort"
   ]
  },
  {
   "cell_type": "code",
   "execution_count": 596,
   "metadata": {},
   "outputs": [
    {
     "data": {
      "text/plain": [
       "array([[0, 4, 7],\n",
       "       [3, 7, 6],\n",
       "       [5, 0, 2]])"
      ]
     },
     "execution_count": 596,
     "metadata": {},
     "output_type": "execute_result"
    }
   ],
   "source": [
    "r1 = np.random.randint(10,size=(3,3))\n",
    "r1"
   ]
  },
  {
   "cell_type": "code",
   "execution_count": 597,
   "metadata": {},
   "outputs": [
    {
     "data": {
      "text/plain": [
       "array([[0, 4, 7],\n",
       "       [3, 6, 7],\n",
       "       [0, 2, 5]])"
      ]
     },
     "execution_count": 597,
     "metadata": {},
     "output_type": "execute_result"
    }
   ],
   "source": [
    "r1.sort()\n",
    "r1"
   ]
  },
  {
   "cell_type": "code",
   "execution_count": 599,
   "metadata": {},
   "outputs": [
    {
     "data": {
      "text/plain": [
       "array([[0, 2, 5],\n",
       "       [0, 4, 7],\n",
       "       [3, 6, 7]])"
      ]
     },
     "execution_count": 599,
     "metadata": {},
     "output_type": "execute_result"
    }
   ],
   "source": [
    "r1.sort(axis = 0)\n",
    "r1"
   ]
  },
  {
   "cell_type": "code",
   "execution_count": 485,
   "metadata": {},
   "outputs": [
    {
     "data": {
      "text/plain": [
       "array([[ 1,  2,  3, 25, 26, 27],\n",
       "       [ 4,  5,  6, 28, 29, 30],\n",
       "       [ 7,  8,  9, 31, 32, 33]])"
      ]
     },
     "execution_count": 485,
     "metadata": {},
     "output_type": "execute_result"
    }
   ],
   "source": [
    "#가장 표면에 가까운 차원에서의 요소를 기준으로 배치하므로 기존에 알던 행렬이 붙는 방식을 생각해서는 안된다.\n",
    "np.c_[np.arange(1,10).reshape(3,3),np.arange(25,34).reshape(3,3)]"
   ]
  },
  {
   "cell_type": "code",
   "execution_count": 486,
   "metadata": {},
   "outputs": [
    {
     "data": {
      "text/plain": [
       "array([[ 1,  2,  3],\n",
       "       [ 4,  5,  6],\n",
       "       [ 7,  8,  9],\n",
       "       [25, 26, 27],\n",
       "       [28, 29, 30],\n",
       "       [31, 32, 33]])"
      ]
     },
     "execution_count": 486,
     "metadata": {},
     "output_type": "execute_result"
    }
   ],
   "source": [
    "np.r_[np.arange(1,10).reshape(3,3), np.arange(25,34).reshape(3,3)]"
   ]
  },
  {
   "cell_type": "code",
   "execution_count": 249,
   "metadata": {},
   "outputs": [
    {
     "data": {
      "text/plain": [
       "array([[1, 4],\n",
       "       [2, 5],\n",
       "       [3, 6]])"
      ]
     },
     "execution_count": 249,
     "metadata": {},
     "output_type": "execute_result"
    }
   ],
   "source": [
    "np.c_[np.array([1,2,3]),np.array([4,5,6])]\n",
    "#이렇게 병합할수 있긴하다. 그러나 stack과 concat이 더 빠르다는것 참고"
   ]
  },
  {
   "cell_type": "code",
   "execution_count": 248,
   "metadata": {},
   "outputs": [
    {
     "data": {
      "text/plain": [
       "array([1, 2, 3, 4, 5, 6])"
      ]
     },
     "execution_count": 248,
     "metadata": {},
     "output_type": "execute_result"
    }
   ],
   "source": [
    "np.r_[np.array([1,2,3]),np.array([4,5,6])]"
   ]
  }
 ],
 "metadata": {
  "kernelspec": {
   "display_name": "Python 3",
   "language": "python",
   "name": "python3"
  },
  "language_info": {
   "codemirror_mode": {
    "name": "ipython",
    "version": 3
   },
   "file_extension": ".py",
   "mimetype": "text/x-python",
   "name": "python",
   "nbconvert_exporter": "python",
   "pygments_lexer": "ipython3",
   "version": "3.6.3"
  }
 },
 "nbformat": 4,
 "nbformat_minor": 2
}
