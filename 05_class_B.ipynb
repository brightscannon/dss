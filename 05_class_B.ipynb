{
 "cells": [
  {
   "cell_type": "markdown",
   "metadata": {},
   "source": [
    "### Class\n",
    "- 객체지향\n",
    "    - 실제세계를 모델링해서 기능이 공통적인 부분을 묶어서 개발하는 방법을 이야기합니다.\n",
    "    - 다형성, 캡슐화, 추상화, 상속등의 특징이 있습니다.\n",
    "    \n",
    "- 공통적인 기능을 하는 변수와 함수를 묶은 사용자 정의 데이터 타입이라고도 합니다.\n",
    "- 클래스, 객체 : 클래스는 설계도, 청사진이고, 객체는 클래스를 이용해서 만든 실제 물건, 물체입니다.\n",
    "- 클래스의 구조 : 선언과 객체화\n",
    "- 생성자\n",
    "- 상속 : 단일상속, 다중상속 모두 가능\n",
    "- Super\n",
    "- getter & setter\n",
    "- private\n",
    "- is a / has a\n",
    "- magic method\n",
    "\n",
    "\n",
    "\n",
    "    \n",
    "    "
   ]
  },
  {
   "cell_type": "markdown",
   "metadata": {},
   "source": [
    "### 클래스의 선언과 객체화"
   ]
  },
  {
   "cell_type": "code",
   "execution_count": null,
   "metadata": {},
   "outputs": [],
   "source": [
    "'''\n",
    "#클래스의 선언\n",
    "class <class_name(CamelCase)>(<상속받을 클래스명1>, <상속받을 클래스명2>):   ##뒤에 괄호가 없을수도 있음\n",
    "    변수와 함수들을 정의\n",
    "    \n",
    "    \n",
    "#클래스의 객체화\n",
    "cls = <class_name>(<변수나 함수의 식별자가 올 수 있음(argument와 비슷)>)\n",
    "\n",
    "'''"
   ]
  },
  {
   "cell_type": "code",
   "execution_count": 6,
   "metadata": {},
   "outputs": [],
   "source": [
    "#계산기 클래스 선언하기\n",
    "class Calculator:              #상속받는 클래스가 없으면 괄호는 생략한다\n",
    "\n",
    "    #두개의 수를 입력받는 함수\n",
    "    def setdata(self, num1, num2):\n",
    "        self.num1 = num1\n",
    "        self.num2 = num2\n",
    "        self.result = 0\n",
    "        \n",
    "    def plus(self):\n",
    "        return self.num1 + self.num2\n",
    "    \n",
    "    def minus(self):\n",
    "        \n",
    "        self.result = self.num1 - self.num2\n",
    "        return self.result\n"
   ]
  },
  {
   "cell_type": "code",
   "execution_count": 7,
   "metadata": {},
   "outputs": [],
   "source": [
    "#클래스의 객체화\n",
    "cal = Calculator()"
   ]
  },
  {
   "cell_type": "code",
   "execution_count": 8,
   "metadata": {},
   "outputs": [
    {
     "name": "stdout",
     "output_type": "stream",
     "text": [
      "Variable     Type          Data/Info\n",
      "------------------------------------\n",
      "Calculator   type          <class '__main__.Calculator'>\n",
      "cal          Calculator    <__main__.Calculator obje<...>ct at 0x00000245D81FB860>\n"
     ]
    }
   ],
   "source": [
    "%whos"
   ]
  },
  {
   "cell_type": "code",
   "execution_count": 14,
   "metadata": {},
   "outputs": [],
   "source": [
    "cal.setdata(1,2)"
   ]
  },
  {
   "cell_type": "code",
   "execution_count": 16,
   "metadata": {},
   "outputs": [
    {
     "data": {
      "text/plain": [
       "(3, -1)"
      ]
     },
     "execution_count": 16,
     "metadata": {},
     "output_type": "execute_result"
    }
   ],
   "source": [
    "cal.plus(), cal.minus()"
   ]
  },
  {
   "cell_type": "code",
   "execution_count": 18,
   "metadata": {},
   "outputs": [
    {
     "data": {
      "text/plain": [
       "-1"
      ]
     },
     "execution_count": 18,
     "metadata": {},
     "output_type": "execute_result"
    }
   ],
   "source": [
    "cal.result"
   ]
  },
  {
   "cell_type": "code",
   "execution_count": 22,
   "metadata": {},
   "outputs": [
    {
     "data": {
      "text/plain": [
       "(5, 6, 0)"
      ]
     },
     "execution_count": 22,
     "metadata": {},
     "output_type": "execute_result"
    }
   ],
   "source": [
    "#self - 객체 자신\n",
    "Calculator.setdata(cal, 5, 6) #이렇게 쓸려면 먼저 cal을 선언해야한다. 이게 귀찮기때문에 cal = <클래스선언> 이렇게 쓰는것이다.\n",
    "\n",
    "cal.num1, cal.num2, cal.result"
   ]
  },
  {
   "cell_type": "markdown",
   "metadata": {},
   "source": [
    "#### Constructor - 생성자\n",
    "- 클래스가 객체화 될때, 변수의 초기값을 설정하는 역할을 합니다.\n",
    "- 글래스의 함수명을 '__inti__'으로 하여 함수를 작성합니다.\n",
    "- 생성자를 사용하는 이유는 변수가 선언되지 않은 상태의 객체에서 함수를 사용하게 되면 에러가 나는데..\n",
    "  이걸 예방하기위해 사용합니다"
   ]
  },
  {
   "cell_type": "code",
   "execution_count": 27,
   "metadata": {},
   "outputs": [],
   "source": [
    "class Calculator2:              \n",
    "\n",
    "    def __init__(self, num1, num2 = 2):     #보통 변수는 거의 대부분 init 내에서 선언하고 사용한다.\n",
    "        self.num1 = num1\n",
    "        self.num2 = num2\n",
    "        self.result = 0\n",
    "        \n",
    "    #두개의 수를 입력받는 함수\n",
    "    def setdata(self, num1, num2):\n",
    "        self.num1 = num1\n",
    "        self.num2 = num2\n",
    "        self.result = 0\n",
    "        \n",
    "    def plus(self):\n",
    "        return self.num1 + self.num2\n",
    "    \n",
    "    def minus(self):\n",
    "        \n",
    "        self.result = self.num1 - self.num2\n",
    "        return self.result\n"
   ]
  },
  {
   "cell_type": "code",
   "execution_count": 32,
   "metadata": {},
   "outputs": [
    {
     "data": {
      "text/plain": [
       "(0, -1, -1)"
      ]
     },
     "execution_count": 32,
     "metadata": {},
     "output_type": "execute_result"
    }
   ],
   "source": [
    "cal2 = Calculator2(3,4)\n",
    "\n",
    "cal2.result, cal2.minus(), cal2.result"
   ]
  },
  {
   "cell_type": "markdown",
   "metadata": {},
   "source": [
    "#### Inheritance - 상속\n",
    "- 기존 클래스에 기능을 추가할 때 상속을 사용합니다.\n",
    "- python 단일상속뿐 아니라 다중상속도 지원\n",
    "- overiding, overloading은 다형성의 특징을 구현합니다.\n",
    "- overiding - 함수를 재정의 합니다.\n",
    "- overloading - 같은 이름의 함수를 파라미터의 갯수에 따라서 다른 동작을 하게 하는 것을 의미합니다."
   ]
  },
  {
   "cell_type": "code",
   "execution_count": null,
   "metadata": {},
   "outputs": [],
   "source": [
    "'''\n",
    "class A():\n",
    "    maehod - send_mail\n",
    "\n",
    "class B(A):             #A가 B에 상속됨\n",
    "    method - call_phone\n",
    "    \n",
    "class C(B):             #B가 C에 상속됨\n",
    "    method - show_image \n",
    "    \n",
    "### 보통 상속을 3대까지만 주로 사용함 -- 그 이상 상속을 잘 사용하지 않는다. 복잡해지기때문...    \n",
    "\n",
    "\n",
    "class D:\n",
    "    method - wifi\n",
    "\n",
    "class E(A, D):          #A,D가 E에 상속됨 \n",
    "    method - game\n",
    "\n",
    "\n",
    "A - send_mail\n",
    "B - send_mail, call_phone\n",
    "C - send_mail, call_phone, show_image\n",
    "\n",
    "D - wifi\n",
    "E - send_mail, wifi, game\n",
    "'''"
   ]
  },
  {
   "cell_type": "code",
   "execution_count": 37,
   "metadata": {},
   "outputs": [],
   "source": [
    "def test():\n",
    "    return 10\n",
    "\n",
    "def test(a):\n",
    "    return a\n",
    "\n",
    "def test(a=None):  # 이것이 오버로딩\n",
    "    if a is None:\n",
    "        return 10\n",
    "    else:\n",
    "        return a"
   ]
  },
  {
   "cell_type": "code",
   "execution_count": 38,
   "metadata": {},
   "outputs": [],
   "source": [
    "class ImprovedCalc(Calculator2):\n",
    "    def pow_func(self):\n",
    "        return self.num1 ** self.num2\n"
   ]
  },
  {
   "cell_type": "code",
   "execution_count": 39,
   "metadata": {},
   "outputs": [
    {
     "data": {
      "text/plain": [
       "8"
      ]
     },
     "execution_count": 39,
     "metadata": {},
     "output_type": "execute_result"
    }
   ],
   "source": [
    "ical = ImprovedCalc(2,3)\n",
    "\n",
    "ical.pow_func()"
   ]
  },
  {
   "cell_type": "code",
   "execution_count": 42,
   "metadata": {},
   "outputs": [
    {
     "data": {
      "text/plain": [
       "5"
      ]
     },
     "execution_count": 42,
     "metadata": {},
     "output_type": "execute_result"
    }
   ],
   "source": [
    "ical.plus()"
   ]
  },
  {
   "cell_type": "code",
   "execution_count": 55,
   "metadata": {},
   "outputs": [
    {
     "name": "stdout",
     "output_type": "stream",
     "text": [
      "walking...\n",
      "walking...\n",
      "He doesn't eat kimchi.\n",
      "eat curry...\n",
      "program coding...\n",
      "talking english...\n",
      "eat curry on the seoul\n"
     ]
    }
   ],
   "source": [
    "#다중상속 - Human, Korean, Indian 클래스 생성\n",
    "\n",
    "class Human:\n",
    "    def walk(self):\n",
    "        print(\"walking...\")\n",
    "        \n",
    "class Korean:\n",
    "    def eat(self):\n",
    "        print(\"eat kimchi...\")\n",
    "        \n",
    "class Indian:\n",
    "    def eat(self):\n",
    "        print(\"eat curry...\")\n",
    "\n",
    "        \n",
    "class Jin(Human, Korean):  #다중상속됨\n",
    "    def skill(self):\n",
    "        print(\"program coding...\")\n",
    "        \n",
    "    def eat(self):         #오버라이딩(이미 쓰여있는 상속물을 다시 선언하여 덮어씀)\n",
    "        print(\"He doesn't eat kimchi.\")\n",
    "\n",
    "class Anchal(Human, Indian):\n",
    "    def skill(self):\n",
    "        print(\"talking english...\")\n",
    "        \n",
    "    def eat(self, place=None):    #오버로딩(파이썬에서는 별로 안쓰긴 하지만 이렇게 쓴다.)\n",
    "        if place is None:\n",
    "            print(\"eat curry...\")\n",
    "        else:\n",
    "            print(\"eat curry on the\", place)\n",
    "        \n",
    "        \n",
    "j,a = Jin(), Anchal()\n",
    "\n",
    "j.walk(), a.walk(), j.eat(), a.eat(), j.skill(), a.skill()\n",
    "a.eat(\"seoul\")"
   ]
  },
  {
   "cell_type": "markdown",
   "metadata": {},
   "source": [
    "#### Super\n",
    "- 부모클래스의 생성자 변수를 가져올때 사용함"
   ]
  },
  {
   "cell_type": "code",
   "execution_count": 57,
   "metadata": {},
   "outputs": [],
   "source": [
    "#starcraft예제 - Human 클래스, Marin(Human), Madic(Human)"
   ]
  },
  {
   "cell_type": "code",
   "execution_count": 75,
   "metadata": {},
   "outputs": [],
   "source": [
    "class Human:\n",
    "    \n",
    "    def __init__(self):\n",
    "        self.health = 40\n",
    "        \n",
    "    def set_health(self, val):\n",
    "        self.health += val\n",
    "\n",
    "class Marin(Human):\n",
    "    \n",
    "    def __init__(self):\n",
    "        self.health = 40\n",
    "        super(Marin,self).__init__()\n",
    "        self.attack_power = -5\n",
    "        self.kill = 0\n",
    "        \n",
    "    def attack(self, obj):\n",
    "        \n",
    "        obj.set_health(self.attack_power)\n",
    "        \n",
    "        if obj.health <= 0:\n",
    "            obj.health = 0\n",
    "            self.kill += 1\n",
    "            return \"dead\"\n",
    "        \n",
    "        return \"alive [health:{}]\".format(obj.health)\n",
    "    "
   ]
  },
  {
   "cell_type": "code",
   "execution_count": 76,
   "metadata": {},
   "outputs": [
    {
     "data": {
      "text/plain": [
       "(40, 40)"
      ]
     },
     "execution_count": 76,
     "metadata": {},
     "output_type": "execute_result"
    }
   ],
   "source": [
    "m1, m2 = Marin(), Marin()\n",
    "\n",
    "m1.health, m2.health"
   ]
  },
  {
   "cell_type": "code",
   "execution_count": 90,
   "metadata": {},
   "outputs": [
    {
     "data": {
      "text/plain": [
       "'dead'"
      ]
     },
     "execution_count": 90,
     "metadata": {},
     "output_type": "execute_result"
    }
   ],
   "source": [
    "m1.attack(m2)"
   ]
  },
  {
   "cell_type": "code",
   "execution_count": 91,
   "metadata": {},
   "outputs": [
    {
     "data": {
      "text/plain": [
       "5"
      ]
     },
     "execution_count": 91,
     "metadata": {},
     "output_type": "execute_result"
    }
   ],
   "source": [
    "m1.kill"
   ]
  },
  {
   "cell_type": "code",
   "execution_count": 175,
   "metadata": {},
   "outputs": [],
   "source": [
    "class Medic(Human):\n",
    "    def __init__(self):\n",
    "        self.health = 20\n",
    "        self.heal_power = 3\n",
    "        \n",
    "    def heal(self, obj):\n",
    "        if obj.health == 0:\n",
    "            print(\"already dead\")\n",
    "            return\n",
    "        obj.set_health(self.heal_power)\n",
    "        if obj.health > 40:\n",
    "            obj.health = 40\n",
    "            return \"Full health\",obj.health\n",
    "        return \"healing..\",obj.health"
   ]
  },
  {
   "cell_type": "code",
   "execution_count": 176,
   "metadata": {},
   "outputs": [],
   "source": [
    "m1, m2, medic = Marin(), Marin(), Medic()"
   ]
  },
  {
   "cell_type": "code",
   "execution_count": 177,
   "metadata": {},
   "outputs": [
    {
     "data": {
      "text/plain": [
       "(40, 40)"
      ]
     },
     "execution_count": 177,
     "metadata": {},
     "output_type": "execute_result"
    }
   ],
   "source": [
    "m1.health, m2.health"
   ]
  },
  {
   "cell_type": "code",
   "execution_count": 186,
   "metadata": {},
   "outputs": [
    {
     "data": {
      "text/plain": [
       "'dead'"
      ]
     },
     "execution_count": 186,
     "metadata": {},
     "output_type": "execute_result"
    }
   ],
   "source": [
    "m2.attack(m1)"
   ]
  },
  {
   "cell_type": "code",
   "execution_count": 188,
   "metadata": {},
   "outputs": [
    {
     "name": "stdout",
     "output_type": "stream",
     "text": [
      "already dead\n"
     ]
    }
   ],
   "source": [
    "medic.heal(m1)"
   ]
  },
  {
   "cell_type": "code",
   "execution_count": 190,
   "metadata": {},
   "outputs": [
    {
     "data": {
      "text/plain": [
       "0"
      ]
     },
     "execution_count": 190,
     "metadata": {},
     "output_type": "execute_result"
    }
   ],
   "source": [
    "m1.health"
   ]
  },
  {
   "cell_type": "code",
   "execution_count": 191,
   "metadata": {},
   "outputs": [],
   "source": [
    "# 문제 - 아래의 데이터에서 리스트, 딕셔너리, 클래스로 데이터를 나타내주세요.\n",
    "# 클래스로 나타낼때는 타율을 계산하는 기능을 추가해주세요.\n",
    "#ksb(김선빈) : 타석:476, 안타:176\n",
    "#pgu(박건우) : 타석:483, 안타:177\n",
    "#pmw(박민우) : 타석:388, 안타 141\n"
   ]
  },
  {
   "cell_type": "code",
   "execution_count": null,
   "metadata": {},
   "outputs": [],
   "source": [
    "#리스트\n",
    "ls = [[\"ksb\",476,176],[\"pgu\",483,177],[\"pmw\",388,141]]\n",
    "\n",
    "#딕셔너리\n",
    "data = { \"ksb\" : \"476 176\",\"pgu\":\"483 177\",\"pmw\":\"388 141\"}\n"
   ]
  },
  {
   "cell_type": "code",
   "execution_count": 193,
   "metadata": {},
   "outputs": [],
   "source": [
    "class Player:\n",
    "    def __init__(self, ab, hit):\n",
    "        self.ab = ab\n",
    "        self.hit = hit\n",
    "    \n",
    "    def avg(self):\n",
    "        return round(self.hit/self.ab, 3)"
   ]
  },
  {
   "cell_type": "code",
   "execution_count": 194,
   "metadata": {},
   "outputs": [],
   "source": [
    "ksb = Player(476,176)\n",
    "pgw = Player(483,177)\n",
    "pmw = Player(388,141)"
   ]
  },
  {
   "cell_type": "code",
   "execution_count": 199,
   "metadata": {},
   "outputs": [
    {
     "data": {
      "text/plain": [
       "0.363"
      ]
     },
     "execution_count": 199,
     "metadata": {},
     "output_type": "execute_result"
    }
   ],
   "source": [
    "pmw.avg()"
   ]
  },
  {
   "cell_type": "code",
   "execution_count": null,
   "metadata": {},
   "outputs": [],
   "source": [
    "def nCr_cal(n,r):\n",
    "    result = 1\n",
    "    \n",
    "    for i in range(max(r,n-r),n+1):\n",
    "        result *= i\n",
    "    for j in range(1,min(r,n-r)):    \n",
    "        result /= j\n",
    "    return int(result)\n",
    "  \n",
    "def tiling(n):\n",
    "    acum = 0\n",
    "    n = n\n",
    "    r = 0\n",
    "    while 0 <= n-r: \n",
    "        acum += nCr_cal(n,r)\n",
    "        r += 1\n",
    "        n -= 1\n",
    "    \n",
    "    acum = str(int(acum))\n",
    "    print(acum)\n",
    "    return int(acum[::-1][0:5][::-1])\n",
    "\n",
    "# 아래는 테스트로 출력해 보기 위한 코드입니다.\n",
    "\n",
    "# tiling(425)의 결과가 틀립니다.\n",
    "# 올바른 결과값: 30968\n",
    "# 실행결과: 83136\n",
    "\n",
    "print(tiling(425))\n"
   ]
  },
  {
   "cell_type": "markdown",
   "metadata": {},
   "source": [
    "## getter, setter\n",
    "\n",
    "- oop 객체지향 : 캡슐화, 은닉화의 기능을 제공하기 위해 사용된다.\n",
    "- 클래스 -> 변수 : 클래스의 변수에 접근할때(가져오거나, 설정하거나) 바로 접근하는게 아니라 특정 함수를 통해서 접근할 수 있게하는 기능입니다.\n",
    "\n",
    "\n"
   ]
  },
  {
   "cell_type": "code",
   "execution_count": 27,
   "metadata": {},
   "outputs": [],
   "source": [
    "#property 이용하는 방법\n",
    "class Person:\n",
    "    def __init__(self, input_name1, input_name2):\n",
    "        self.hidden_name1 = input_name1\n",
    "        self.hidden_name2 = input_name2\n",
    "        \n",
    "    def disp_name1(self):\n",
    "        print(\"getter_1\")\n",
    "        return self.hidden_name1.upper()\n",
    "    def disp_name2(self):\n",
    "        print(\"getter_2\")\n",
    "        return self.hidden_name2\n",
    "    def setter1(self, input_name1):\n",
    "        print(\"setter_1\")\n",
    "        self.hidden_name1 = \"Mr. \" + input_name1\n",
    "    def setter2(self, input_name2):\n",
    "        print(\"setter_2\")\n",
    "        self.hidden_name2 = input_name2\n",
    "        \n",
    "    name1 = property(disp_name1, setter1)\n",
    "    name2 = property(disp_name2, setter2)"
   ]
  },
  {
   "cell_type": "code",
   "execution_count": 28,
   "metadata": {},
   "outputs": [
    {
     "data": {
      "text/plain": [
       "('park', 'doojin')"
      ]
     },
     "execution_count": 28,
     "metadata": {},
     "output_type": "execute_result"
    }
   ],
   "source": [
    "p = Person(\"park\",\"doojin\")\n",
    "\n",
    "\n",
    "#다이렉트로 접근\n",
    "p.hidden_name1, p.hidden_name2"
   ]
  },
  {
   "cell_type": "code",
   "execution_count": 29,
   "metadata": {},
   "outputs": [
    {
     "name": "stdout",
     "output_type": "stream",
     "text": [
      "getter_1\n",
      "getter_2\n"
     ]
    },
    {
     "data": {
      "text/plain": [
       "('PARK', 'doojin')"
      ]
     },
     "execution_count": 29,
     "metadata": {},
     "output_type": "execute_result"
    }
   ],
   "source": [
    "#getter를 이용한 접근\n",
    "p.name1, p.name2"
   ]
  },
  {
   "cell_type": "code",
   "execution_count": 30,
   "metadata": {},
   "outputs": [
    {
     "data": {
      "text/plain": [
       "'lee'"
      ]
     },
     "execution_count": 30,
     "metadata": {},
     "output_type": "execute_result"
    }
   ],
   "source": [
    "p.hidden_name1 = 'lee'\n",
    "p.hidden_name1"
   ]
  },
  {
   "cell_type": "code",
   "execution_count": 31,
   "metadata": {},
   "outputs": [
    {
     "name": "stdout",
     "output_type": "stream",
     "text": [
      "setter_1\n",
      "getter_1\n"
     ]
    },
    {
     "data": {
      "text/plain": [
       "'MR. LEE'"
      ]
     },
     "execution_count": 31,
     "metadata": {},
     "output_type": "execute_result"
    }
   ],
   "source": [
    "p.name1 = 'lee'\n",
    "p.name1"
   ]
  },
  {
   "cell_type": "code",
   "execution_count": 33,
   "metadata": {},
   "outputs": [],
   "source": [
    "#decorator를 이용한 구현---------------\n",
    "class Person:\n",
    "    def __init__(self, input_name):\n",
    "        self.hidden_name = input_name\n",
    "    \n",
    "    @property\n",
    "    def name(self):\n",
    "        print(\"getter\")\n",
    "        return self.hidden_name\n",
    "    @name.setter\n",
    "    def name(self, input_name):\n",
    "        print(\"setter\")\n",
    "        self.hidden_name = input_name"
   ]
  },
  {
   "cell_type": "code",
   "execution_count": 41,
   "metadata": {},
   "outputs": [],
   "source": [
    "p = Person(\"park\")"
   ]
  },
  {
   "cell_type": "code",
   "execution_count": null,
   "metadata": {},
   "outputs": [],
   "source": []
  },
  {
   "cell_type": "code",
   "execution_count": 42,
   "metadata": {},
   "outputs": [
    {
     "name": "stdout",
     "output_type": "stream",
     "text": [
      "setter\n"
     ]
    }
   ],
   "source": [
    "p.name = 'lee'"
   ]
  },
  {
   "cell_type": "code",
   "execution_count": 44,
   "metadata": {},
   "outputs": [
    {
     "name": "stdout",
     "output_type": "stream",
     "text": [
      "getter\n"
     ]
    },
    {
     "data": {
      "text/plain": [
       "'lee'"
      ]
     },
     "execution_count": 44,
     "metadata": {},
     "output_type": "execute_result"
    }
   ],
   "source": [
    "p.name"
   ]
  },
  {
   "cell_type": "markdown",
   "metadata": {},
   "source": [
    "### private\n",
    "- 클래스 내부 변수에 다이렉트로 접근하지 못하도록 하는 기능입니다.\n",
    "- 맹글링(mangling) : 클래스 생성자에서 변수 선언시 앞에 '__'를 추가합니다.\n",
    "- 완벽하게 접근을 차단하지는 못하여 완벽한 방법은 아님\n",
    "    - (객체)._(클래스명)(변수명)"
   ]
  },
  {
   "cell_type": "code",
   "execution_count": 4,
   "metadata": {},
   "outputs": [],
   "source": [
    "#decorator를 이용한 구현---------------\n",
    "class Person:\n",
    "    def __init__(self, input_name):\n",
    "        self.__hidden_name = input_name\n",
    "    \n",
    "    @property     # getter위에다가 property라고 쓴다.\n",
    "    def name(self):\n",
    "        print(\"getter\")\n",
    "        return self.__hidden_name\n",
    "    @name.setter\n",
    "    def name(self, input_name):\n",
    "        print(\"setter\")\n",
    "        self.__hidden_name = input_name"
   ]
  },
  {
   "cell_type": "code",
   "execution_count": 5,
   "metadata": {},
   "outputs": [],
   "source": [
    "p = Person(\"park\")"
   ]
  },
  {
   "cell_type": "code",
   "execution_count": 6,
   "metadata": {},
   "outputs": [
    {
     "ename": "AttributeError",
     "evalue": "'Person' object has no attribute '__hidden_name'",
     "output_type": "error",
     "traceback": [
      "\u001b[1;31m---------------------------------------------------------------------------\u001b[0m",
      "\u001b[1;31mAttributeError\u001b[0m                            Traceback (most recent call last)",
      "\u001b[1;32m<ipython-input-6-55be1018e360>\u001b[0m in \u001b[0;36m<module>\u001b[1;34m()\u001b[0m\n\u001b[1;32m----> 1\u001b[1;33m \u001b[0mp\u001b[0m\u001b[1;33m.\u001b[0m\u001b[0m__hidden_name\u001b[0m\u001b[1;33m\u001b[0m\u001b[0m\n\u001b[0m",
      "\u001b[1;31mAttributeError\u001b[0m: 'Person' object has no attribute '__hidden_name'"
     ]
    }
   ],
   "source": [
    "p.__hidden_name"
   ]
  },
  {
   "cell_type": "code",
   "execution_count": 7,
   "metadata": {},
   "outputs": [
    {
     "name": "stdout",
     "output_type": "stream",
     "text": [
      "setter\n",
      "getter\n"
     ]
    },
    {
     "data": {
      "text/plain": [
       "'a'"
      ]
     },
     "execution_count": 7,
     "metadata": {},
     "output_type": "execute_result"
    }
   ],
   "source": [
    "p.name = \"a\"\n",
    "\n",
    "p.name"
   ]
  },
  {
   "cell_type": "code",
   "execution_count": 8,
   "metadata": {},
   "outputs": [
    {
     "data": {
      "text/plain": [
       "'a'"
      ]
     },
     "execution_count": 8,
     "metadata": {},
     "output_type": "execute_result"
    }
   ],
   "source": [
    "p._Person__hidden_name"
   ]
  },
  {
   "cell_type": "markdown",
   "metadata": {},
   "source": [
    "## is a / has a\n",
    "\n",
    "- 클래스들을 설계할때 사용되는 방법론, 개념\n",
    "- is a\n",
    "    - A is a B = A는 B이다.\n",
    "    - 상속을 이용\n",
    "- has a\n",
    "    - A has a B = A는 B를 가지고있다.\n",
    "    - 객체안의 변수로 객체를 가집니다."
   ]
  },
  {
   "cell_type": "code",
   "execution_count": 69,
   "metadata": {},
   "outputs": [],
   "source": [
    "#person - name, email"
   ]
  },
  {
   "cell_type": "code",
   "execution_count": 72,
   "metadata": {},
   "outputs": [],
   "source": [
    "# is-a\n",
    "class Info:\n",
    "    def __init__(self, name, email):\n",
    "        self.name = name\n",
    "        self.email = email\n",
    "        \n",
    "class Person(Info):\n",
    "    def about(self):\n",
    "        return self.name, self.email"
   ]
  },
  {
   "cell_type": "code",
   "execution_count": 73,
   "metadata": {},
   "outputs": [],
   "source": [
    "p = Person(\"doojin\", \"scan@nate.com\")"
   ]
  },
  {
   "cell_type": "code",
   "execution_count": 75,
   "metadata": {},
   "outputs": [
    {
     "data": {
      "text/plain": [
       "('doojin', 'scan@nate.com')"
      ]
     },
     "execution_count": 75,
     "metadata": {},
     "output_type": "execute_result"
    }
   ],
   "source": [
    "p.about()"
   ]
  },
  {
   "cell_type": "code",
   "execution_count": 81,
   "metadata": {},
   "outputs": [],
   "source": [
    "# has-a\n",
    "class Name:\n",
    "    def __init__(self, name):\n",
    "        self.name = name\n",
    "class Email:\n",
    "    def __init__(self, email):\n",
    "        self.email = email\n",
    "        \n",
    "class Person:\n",
    "    def __init__(self, name, email):\n",
    "        self.name_obj = name\n",
    "        self.email_obj = email\n",
    "    def about(self):\n",
    "        return self.name_obj.name, self.email_obj.email"
   ]
  },
  {
   "cell_type": "code",
   "execution_count": 79,
   "metadata": {},
   "outputs": [],
   "source": [
    "name = Name(\"goojin\")\n",
    "email = Email(\"google@gmail.com\")"
   ]
  },
  {
   "cell_type": "code",
   "execution_count": 80,
   "metadata": {},
   "outputs": [
    {
     "data": {
      "text/plain": [
       "('goojin', 'google@gmail.com')"
      ]
     },
     "execution_count": 80,
     "metadata": {},
     "output_type": "execute_result"
    }
   ],
   "source": [
    "p = Person(name, email)\n",
    "p.about()"
   ]
  },
  {
   "cell_type": "markdown",
   "metadata": {},
   "source": [
    "## Magic(spacial) Method\n",
    "- 비교\n",
    "    - '__eq__' : ==\n",
    "    - '__ne__' : !=\n",
    "    - '__lt__' : <\n",
    "    - '__gt__' : >\n",
    "    - '__le__' : <=\n",
    "    - '__ge__' : >=\n",
    "        \n",
    "- 연산\n",
    "    - '__add__' : +\n",
    "    - '__sub__' : -\n",
    "    - '__mul__' : *\n",
    "    - '__pow__' : **\n",
    "    - ...\n",
    "   \n",
    "- '__repr__', '__str__', '__len__'"
   ]
  },
  {
   "cell_type": "code",
   "execution_count": 83,
   "metadata": {},
   "outputs": [],
   "source": [
    "# '__eq__'\n",
    "class Txt:\n",
    "    def __init__(self,txt):\n",
    "        self.txt = txt\n",
    "    def equals(self, txt_obj):  # 이렇게 정의하면 '=='은 주소값을 비교하게된다.\n",
    "        return self.txt.lower() == txt_obj.txt.lower()\n",
    "        "
   ]
  },
  {
   "cell_type": "code",
   "execution_count": 85,
   "metadata": {},
   "outputs": [],
   "source": [
    "txt1 = Txt(\"fast\")\n",
    "txt2 = Txt(\"FASt\")\n",
    "txt3 = Txt(\"data\")\n",
    "txt4 = Txt(\"fast\")\n",
    "txt5 = txt1\n"
   ]
  },
  {
   "cell_type": "code",
   "execution_count": 90,
   "metadata": {},
   "outputs": [
    {
     "data": {
      "text/plain": [
       "(True, False, True, True)"
      ]
     },
     "execution_count": 90,
     "metadata": {},
     "output_type": "execute_result"
    }
   ],
   "source": [
    "txt1.equals(txt2), txt1.equals(txt3), txt1.equals(txt4), txt1.equals(txt5)"
   ]
  },
  {
   "cell_type": "code",
   "execution_count": 91,
   "metadata": {},
   "outputs": [
    {
     "data": {
      "text/plain": [
       "(False, False, False, True)"
      ]
     },
     "execution_count": 91,
     "metadata": {},
     "output_type": "execute_result"
    }
   ],
   "source": [
    "txt1 == txt2, txt1 == txt3, txt1 == txt4, txt1 == txt5"
   ]
  },
  {
   "cell_type": "code",
   "execution_count": 93,
   "metadata": {},
   "outputs": [],
   "source": [
    "\n",
    "\n",
    "class Txt:\n",
    "    def __init__(self,txt):\n",
    "        self.txt = txt\n",
    "    def __eq__(self, txt_obj):  # 새롭게 짜서 '=='이 주소값이 아닌 내용을 직접 비교하게 한다.\n",
    "        return self.txt.lower() == txt_obj.txt.lower()\n"
   ]
  },
  {
   "cell_type": "code",
   "execution_count": 94,
   "metadata": {},
   "outputs": [],
   "source": [
    "txt1 = Txt(\"fast\")\n",
    "txt2 = Txt(\"FASt\")\n",
    "txt3 = Txt(\"data\")\n",
    "txt4 = Txt(\"fast\")\n",
    "txt5 = txt1\n"
   ]
  },
  {
   "cell_type": "code",
   "execution_count": 95,
   "metadata": {},
   "outputs": [
    {
     "data": {
      "text/plain": [
       "(True, False, True, True)"
      ]
     },
     "execution_count": 95,
     "metadata": {},
     "output_type": "execute_result"
    }
   ],
   "source": [
    "txt1 == txt2, txt1 == txt3, txt1 == txt4, txt1 == txt5"
   ]
  },
  {
   "cell_type": "code",
   "execution_count": 96,
   "metadata": {},
   "outputs": [
    {
     "data": {
      "text/plain": [
       "['b', 'a', 'c', 'a']"
      ]
     },
     "execution_count": 96,
     "metadata": {},
     "output_type": "execute_result"
    }
   ],
   "source": [
    "## __ne__\n",
    "ls = [\"a\", \"b\", \"a\", \"c\", \"a\"]\n",
    "ls.remove(\"a\")\n",
    "ls"
   ]
  },
  {
   "cell_type": "code",
   "execution_count": 99,
   "metadata": {},
   "outputs": [
    {
     "data": {
      "text/plain": [
       "['b', 'c']"
      ]
     },
     "execution_count": 99,
     "metadata": {},
     "output_type": "execute_result"
    }
   ],
   "source": [
    "#comprehension\n",
    "ls = [\"a\", \"b\", \"a\", \"c\", \"a\"]\n",
    "s = \"a\"\n",
    "ls = [i for i in ls if i != s]\n",
    "ls # (\"b\",\"c\")"
   ]
  },
  {
   "cell_type": "code",
   "execution_count": 10,
   "metadata": {},
   "outputs": [
    {
     "data": {
      "text/plain": [
       "['b', 'c']"
      ]
     },
     "execution_count": 10,
     "metadata": {},
     "output_type": "execute_result"
    }
   ],
   "source": [
    "ls = [\"a\", \"b\", \"a\", \"c\", \"a\"]\n",
    "s = \"a\"\n",
    "list(filter(s.__ne__,ls))"
   ]
  },
  {
   "cell_type": "code",
   "execution_count": 102,
   "metadata": {},
   "outputs": [
    {
     "data": {
      "text/plain": [
       "<slot wrapper '__add__' of 'int' objects>"
      ]
     },
     "execution_count": 102,
     "metadata": {},
     "output_type": "execute_result"
    }
   ],
   "source": [
    "## __add__\n",
    "int.__add__"
   ]
  },
  {
   "cell_type": "code",
   "execution_count": 103,
   "metadata": {},
   "outputs": [
    {
     "data": {
      "text/plain": [
       "(5, 5)"
      ]
     },
     "execution_count": 103,
     "metadata": {},
     "output_type": "execute_result"
    }
   ],
   "source": [
    "2+3, (2).__add__(3)"
   ]
  },
  {
   "cell_type": "code",
   "execution_count": 111,
   "metadata": {},
   "outputs": [],
   "source": [
    "class Number:\n",
    "    def __init__(self,num):\n",
    "        self.num = num\n",
    "    def __add__(self, other_obj):\n",
    "        return self.num * other_obj.num"
   ]
  },
  {
   "cell_type": "code",
   "execution_count": 112,
   "metadata": {},
   "outputs": [
    {
     "data": {
      "text/plain": [
       "(6,)"
      ]
     },
     "execution_count": 112,
     "metadata": {},
     "output_type": "execute_result"
    }
   ],
   "source": [
    "n1 = Number(2)\n",
    "n2 = Number(3)\n",
    "n1 + n2,"
   ]
  },
  {
   "cell_type": "code",
   "execution_count": null,
   "metadata": {},
   "outputs": [],
   "source": [
    "## __str__, __repr__\n",
    "# __str__:값을 출력할떼 사용합니다. (사용자가 대상임)\n",
    "# __repr__:객체를 출력할때 사용합니다. (개발자가 대상임) 그냥 실행하면 같은 객체가 만들어 지도록 출력함."
   ]
  },
  {
   "cell_type": "code",
   "execution_count": 117,
   "metadata": {},
   "outputs": [],
   "source": [
    "class Number:\n",
    "    def __init__(self, num):\n",
    "        self.num = num"
   ]
  },
  {
   "cell_type": "code",
   "execution_count": 118,
   "metadata": {},
   "outputs": [],
   "source": [
    "n=Number(5)"
   ]
  },
  {
   "cell_type": "code",
   "execution_count": 124,
   "metadata": {},
   "outputs": [
    {
     "name": "stdout",
     "output_type": "stream",
     "text": [
      "<__main__.Number object at 0x0000020BD42E4E80>\n"
     ]
    },
    {
     "data": {
      "text/plain": [
       "<__main__.Number at 0x20bd42e4e80>"
      ]
     },
     "execution_count": 124,
     "metadata": {},
     "output_type": "execute_result"
    }
   ],
   "source": [
    "#__str__\n",
    "print(n)\n",
    "# __repr__\n",
    "n"
   ]
  },
  {
   "cell_type": "code",
   "execution_count": 128,
   "metadata": {},
   "outputs": [],
   "source": [
    "class Number:\n",
    "    def __init__(self, num):\n",
    "        self.num = num\n",
    "    def __str__(self):\n",
    "        return str(self.num)\n",
    "    def __repr__(self):\n",
    "        return str(\"Number(num=\"+str(self.num)+\")\")"
   ]
  },
  {
   "cell_type": "code",
   "execution_count": 129,
   "metadata": {},
   "outputs": [
    {
     "name": "stdout",
     "output_type": "stream",
     "text": [
      "5\n"
     ]
    },
    {
     "data": {
      "text/plain": [
       "Number(num=5)"
      ]
     },
     "execution_count": 129,
     "metadata": {},
     "output_type": "execute_result"
    }
   ],
   "source": [
    "n = Number(5)\n",
    "print(n)\n",
    "n"
   ]
  }
 ],
 "metadata": {
  "kernelspec": {
   "display_name": "Python 3",
   "language": "python",
   "name": "python3"
  },
  "language_info": {
   "codemirror_mode": {
    "name": "ipython",
    "version": 3
   },
   "file_extension": ".py",
   "mimetype": "text/x-python",
   "name": "python",
   "nbconvert_exporter": "python",
   "pygments_lexer": "ipython3",
   "version": "3.6.3"
  }
 },
 "nbformat": 4,
 "nbformat_minor": 2
}
