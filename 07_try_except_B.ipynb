{
 "cells": [
  {
   "cell_type": "markdown",
   "metadata": {},
   "source": [
    "## 예외처리\n",
    "- 예외처리는 코드에 에러가 발생하는 경우를 대비해서 예외처리를 설정해주면 에러가 발생해도 아래 코드를 수행함\n",
    "\n",
    "- try, except, finally\n",
    "- try : 코드구문\n",
    "- except : 에러가 발생했을때 실행되는 코드 구문\n",
    "- finally : try, except 구문이 실행되고 마지막에 실행되는 코드구문"
   ]
  },
  {
   "cell_type": "code",
   "execution_count": 5,
   "metadata": {},
   "outputs": [
    {
     "name": "stdout",
     "output_type": "stream",
     "text": [
      "error\n",
      "done\n"
     ]
    }
   ],
   "source": [
    "ls = [1,2,3]\n",
    "try:\n",
    "    print(ls[3])\n",
    "except :\n",
    "        print(\"error\")\n",
    "print(\"done\")"
   ]
  },
  {
   "cell_type": "code",
   "execution_count": 15,
   "metadata": {},
   "outputs": [
    {
     "name": "stdout",
     "output_type": "stream",
     "text": [
      "list index out of range\n",
      "done\n"
     ]
    }
   ],
   "source": [
    "# except 특정에러 검출하기\n",
    "ls = [1,2,3]\n",
    "try:\n",
    "    print(ls[3])\n",
    "    1/0\n",
    "except (ZeroDivisionError, IndexError) as e:\n",
    "        print(e)\n",
    "print(\"done\")\n"
   ]
  },
  {
   "cell_type": "code",
   "execution_count": 18,
   "metadata": {},
   "outputs": [
    {
     "name": "stdout",
     "output_type": "stream",
     "text": [
      "list index out of range\n",
      "done\n"
     ]
    }
   ],
   "source": [
    "#모든에러검출\n",
    "ls = [1,2,3]\n",
    "try:\n",
    "    print(ls[3])\n",
    "except Exception as e:\n",
    "        print(e)\n",
    "print(\"done\")"
   ]
  },
  {
   "cell_type": "code",
   "execution_count": 20,
   "metadata": {},
   "outputs": [
    {
     "name": "stdout",
     "output_type": "stream",
     "text": [
      "is error :  True\n"
     ]
    }
   ],
   "source": [
    "is_error = False\n",
    "ls = [1,2,3]\n",
    "try:\n",
    "    print(ls[3])\n",
    "except:\n",
    "    is_error = True\n",
    "finally:\n",
    "    print(\"is error : \", is_error)\n"
   ]
  },
  {
   "cell_type": "markdown",
   "metadata": {},
   "source": [
    "## 에러만들기\n",
    "- 'raise' 에러를 강제로 발생시킴"
   ]
  },
  {
   "cell_type": "code",
   "execution_count": 21,
   "metadata": {},
   "outputs": [],
   "source": [
    "#10이상의 숫자를 입력받잇을때 에러를 발생시키는 에러를 만들어보자\n",
    "class Upper10Error(Exception):\n",
    "    def __str__(self):\n",
    "        return \"insert under 10 number\"\n",
    "    "
   ]
  },
  {
   "cell_type": "code",
   "execution_count": 24,
   "metadata": {},
   "outputs": [],
   "source": [
    "def input_number(num):\n",
    "    if num>10:\n",
    "        raise Upper10Error()\n",
    "    print(num)\n",
    "    "
   ]
  },
  {
   "cell_type": "code",
   "execution_count": 25,
   "metadata": {},
   "outputs": [
    {
     "ename": "Upper10Error",
     "evalue": "insert under 10 number",
     "output_type": "error",
     "traceback": [
      "\u001b[1;31m---------------------------------------------------------------------------\u001b[0m",
      "\u001b[1;31mUpper10Error\u001b[0m                              Traceback (most recent call last)",
      "\u001b[1;32m<ipython-input-25-ef6c14d69241>\u001b[0m in \u001b[0;36m<module>\u001b[1;34m()\u001b[0m\n\u001b[1;32m----> 1\u001b[1;33m \u001b[0minput_number\u001b[0m\u001b[1;33m(\u001b[0m\u001b[1;36m15\u001b[0m\u001b[1;33m)\u001b[0m\u001b[1;33m\u001b[0m\u001b[0m\n\u001b[0m",
      "\u001b[1;32m<ipython-input-24-38ca4f5eb7ba>\u001b[0m in \u001b[0;36minput_number\u001b[1;34m(num)\u001b[0m\n\u001b[0;32m      1\u001b[0m \u001b[1;32mdef\u001b[0m \u001b[0minput_number\u001b[0m\u001b[1;33m(\u001b[0m\u001b[0mnum\u001b[0m\u001b[1;33m)\u001b[0m\u001b[1;33m:\u001b[0m\u001b[1;33m\u001b[0m\u001b[0m\n\u001b[0;32m      2\u001b[0m     \u001b[1;32mif\u001b[0m \u001b[0mnum\u001b[0m\u001b[1;33m>\u001b[0m\u001b[1;36m10\u001b[0m\u001b[1;33m:\u001b[0m\u001b[1;33m\u001b[0m\u001b[0m\n\u001b[1;32m----> 3\u001b[1;33m         \u001b[1;32mraise\u001b[0m \u001b[0mUpper10Error\u001b[0m\u001b[1;33m(\u001b[0m\u001b[1;33m)\u001b[0m\u001b[1;33m\u001b[0m\u001b[0m\n\u001b[0m\u001b[0;32m      4\u001b[0m     \u001b[0mprint\u001b[0m\u001b[1;33m(\u001b[0m\u001b[0mnum\u001b[0m\u001b[1;33m)\u001b[0m\u001b[1;33m\u001b[0m\u001b[0m\n\u001b[0;32m      5\u001b[0m \u001b[1;33m\u001b[0m\u001b[0m\n",
      "\u001b[1;31mUpper10Error\u001b[0m: insert under 10 number"
     ]
    }
   ],
   "source": [
    "input_number(15)"
   ]
  }
 ],
 "metadata": {
  "kernelspec": {
   "display_name": "Python 3",
   "language": "python",
   "name": "python3"
  },
  "language_info": {
   "codemirror_mode": {
    "name": "ipython",
    "version": 3
   },
   "file_extension": ".py",
   "mimetype": "text/x-python",
   "name": "python",
   "nbconvert_exporter": "python",
   "pygments_lexer": "ipython3",
   "version": "3.6.3"
  }
 },
 "nbformat": 4,
 "nbformat_minor": 2
}
