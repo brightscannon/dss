{
 "cells": [
  {
   "cell_type": "markdown",
   "metadata": {},
   "source": [
    "# 메일보내기(gmail)\n",
    "\n",
    "### Send Email\n",
    "\n",
    "- https://docs.python.org/3.5/library/email-examples.html (https://docs.python.org/3.5/library/email-examples.html)\n",
    "\n",
    "- https://myaccount.google.com/security#activity (https://myaccount.google.com/security#activity)\n",
    "- 위의 페이지에서 보안수준이 낮은 앱 허용"
   ]
  },
  {
   "cell_type": "code",
   "execution_count": 1,
   "metadata": {},
   "outputs": [],
   "source": [
    "import smtplib, os, pickle\n",
    "from email import encoders\n",
    "from email.mime.text import MIMEText\n",
    "from email.mime.multipart import MIMEMultipart\n",
    "from email.mime.base import MIMEBase"
   ]
  },
  {
   "cell_type": "code",
   "execution_count": null,
   "metadata": {},
   "outputs": [],
   "source": [
    "#보낼주소\n",
    "toAddr = [\"brightscannon@gmail.com\", \"1221pdj@naver.com\", \"pdj1224@daum.net\", \"radajin1224@gmail.com\"]"
   ]
  },
  {
   "cell_type": "code",
   "execution_count": 44,
   "metadata": {},
   "outputs": [],
   "source": [
    "#비밀번호를 피클화하여 보안\n",
    "pw = \"\" #비밀번호 실습해보고 git에 올라가지 않도록 다시 지우자\n",
    "pickle.dump(pw, open(\"pw.pickle\", 'wb'))"
   ]
  },
  {
   "cell_type": "code",
   "execution_count": null,
   "metadata": {},
   "outputs": [],
   "source": [
    "# Access smtp server 메일서버접속(위의 pw에 비번 입력하고 접속)\n",
    "smtp = smtplib.SMTP('smtp.gmail.com', 587)\n",
    "smtp.ehlo()\n",
    "smtp.starttls()\n",
    "smtp.login('brightscannon@gmail.com', pickle.load( open('pw.pickle', 'rb') ))\n",
    "# smtp.login(email, pw)"
   ]
  },
  {
   "cell_type": "code",
   "execution_count": 34,
   "metadata": {},
   "outputs": [],
   "source": [
    "#Make Msg\n",
    "msg = MIMEMultipart()\n",
    "msg['subject'] = 'SMTP Sent Text 테스트입니다. (제목입니다)'"
   ]
  },
  {
   "cell_type": "code",
   "execution_count": 35,
   "metadata": {},
   "outputs": [],
   "source": [
    "#Attach Text\n",
    "part = MIMEText('SMTP로 Text 샘플')\n",
    "msg.attach(part)"
   ]
  },
  {
   "cell_type": "code",
   "execution_count": 36,
   "metadata": {},
   "outputs": [
    {
     "data": {
      "text/plain": [
       "<email.mime.multipart.MIMEMultipart at 0x2268339dcf8>"
      ]
     },
     "execution_count": 36,
     "metadata": {},
     "output_type": "execute_result"
    }
   ],
   "source": [
    "msg"
   ]
  },
  {
   "cell_type": "code",
   "execution_count": 39,
   "metadata": {},
   "outputs": [],
   "source": [
    "#메일전송\n",
    "for addr in toAddr:\n",
    "    msg['To'] = addr\n",
    "    #보내는사람 메일, 받는사람 메일, 메세지\n",
    "    smtp.sendmail('brightscannon@gmail.com',addr,msg.as_string())"
   ]
  },
  {
   "cell_type": "code",
   "execution_count": 40,
   "metadata": {},
   "outputs": [
    {
     "data": {
      "text/plain": [
       "(221, b'2.0.0 closing connection p1-v6sm6278644pfh.58 - gsmtp')"
      ]
     },
     "execution_count": 40,
     "metadata": {},
     "output_type": "execute_result"
    }
   ],
   "source": [
    "#연결끊기\n",
    "smtp.quit()"
   ]
  },
  {
   "cell_type": "code",
   "execution_count": null,
   "metadata": {},
   "outputs": [],
   "source": []
  },
  {
   "cell_type": "markdown",
   "metadata": {},
   "source": [
    "# 메일로 HTML코드 전송(코드함수화해서 보내기)"
   ]
  },
  {
   "cell_type": "code",
   "execution_count": 65,
   "metadata": {},
   "outputs": [],
   "source": [
    "# Access smtp server(메일서버접속 함수화)\n",
    "def get_smtp():\n",
    "    smtp = smtplib.SMTP('smtp.gmail.com', 587)\n",
    "    smtp.ehlo()\n",
    "    smtp.starttls()\n",
    "    smtp.login('brightscannon@gmail.com', pickle.load( open('pw.pickle', 'rb') ))\n",
    "    return smtp"
   ]
  },
  {
   "cell_type": "code",
   "execution_count": 66,
   "metadata": {},
   "outputs": [
    {
     "data": {
      "text/plain": [
       "<smtplib.SMTP at 0x2268353d4e0>"
      ]
     },
     "execution_count": 66,
     "metadata": {},
     "output_type": "execute_result"
    }
   ],
   "source": [
    "smtp = get_smtp()\n",
    "smtp"
   ]
  },
  {
   "cell_type": "code",
   "execution_count": 59,
   "metadata": {},
   "outputs": [
    {
     "data": {
      "text/plain": [
       "<email.mime.multipart.MIMEMultipart at 0x2268353d7f0>"
      ]
     },
     "execution_count": 59,
     "metadata": {},
     "output_type": "execute_result"
    }
   ],
   "source": [
    "msg = MIMEMultipart()\n",
    "\n",
    "#제목\n",
    "msg['subject'] = \"HTML 전송 테스트\"\n",
    "\n",
    "#내용\n",
    "part = MIMEText(\"HTML 코드보내기\")\n",
    "msg.attach(part)\n",
    "\n",
    "#HTML\n",
    "part_html = MIMEText('<br><a href=\"http://www.fastcampus.co.kr/\">\\\n",
    "패스트캠퍼스</a>','html')\n",
    "msg.attach(part_html)\n",
    "\n",
    "msg\n"
   ]
  },
  {
   "cell_type": "code",
   "execution_count": 60,
   "metadata": {},
   "outputs": [],
   "source": [
    "#전송후 종료하는 함수 제작\n",
    "def send_mails(smtp, toAddr, msg):\n",
    "    for addr in toAddr:\n",
    "        msg[\"To\"]=addr\n",
    "        smtp.sendmail(\"brightscannon@gmail.com\",addr,msg.as_string())\n",
    "    smtp.quit()"
   ]
  },
  {
   "cell_type": "code",
   "execution_count": 61,
   "metadata": {},
   "outputs": [
    {
     "data": {
      "text/plain": [
       "(<smtplib.SMTP at 0x226834cc8d0>,\n",
       " ['brightscannon@gmail.com', 'pdj1224@daum.net'],\n",
       " <email.mime.multipart.MIMEMultipart at 0x2268353d7f0>)"
      ]
     },
     "execution_count": 61,
     "metadata": {},
     "output_type": "execute_result"
    }
   ],
   "source": [
    "smtp, toAddr, msg #확인작업"
   ]
  },
  {
   "cell_type": "code",
   "execution_count": 68,
   "metadata": {},
   "outputs": [],
   "source": [
    "toAddr = ['crealyzer@naver.com']"
   ]
  },
  {
   "cell_type": "code",
   "execution_count": 69,
   "metadata": {},
   "outputs": [],
   "source": [
    "send_mails(smtp, toAddr, msg)"
   ]
  },
  {
   "cell_type": "markdown",
   "metadata": {},
   "source": [
    "# 메일로 파일보내기"
   ]
  },
  {
   "cell_type": "code",
   "execution_count": 95,
   "metadata": {},
   "outputs": [
    {
     "data": {
      "text/plain": [
       "<smtplib.SMTP at 0x226834c7278>"
      ]
     },
     "execution_count": 95,
     "metadata": {},
     "output_type": "execute_result"
    }
   ],
   "source": [
    "#이전에 작성한 함수를 활용해보자\n",
    "smtp = get_smtp()\n",
    "smtp"
   ]
  },
  {
   "cell_type": "code",
   "execution_count": 96,
   "metadata": {},
   "outputs": [],
   "source": [
    "msg = MIMEMultipart()\n",
    "msg[\"subject\"] = \"파일전송테스트입니다!\"\n",
    "part = MIMEText(\"파일전송테스트\")\n",
    "msg.attach(part)"
   ]
  },
  {
   "cell_type": "code",
   "execution_count": 97,
   "metadata": {},
   "outputs": [],
   "source": [
    "#파일붙이기(동영상, 이미지 등 붙여넣자)\n",
    "\n",
    "file_path = \"iPhone8.mp4\"\n",
    "maintype, subtype = \"application\",\"octet-steam\"\n",
    "with open(file_path, \"rb\") as fp:\n",
    "    part = MIMEBase(maintype, subtype)\n",
    "    part.set_payload(fp.read()) #part - mp4\n",
    "    encoders.encode_base64(part) #문자열\n",
    "    \n",
    "part.add_header(\"Content-Disposition\", \"attachment\", filename = file_path)\n",
    "msg.attach(part)"
   ]
  },
  {
   "cell_type": "code",
   "execution_count": 98,
   "metadata": {},
   "outputs": [
    {
     "data": {
      "text/plain": [
       "<email.mime.multipart.MIMEMultipart at 0x22683552c88>"
      ]
     },
     "execution_count": 98,
     "metadata": {},
     "output_type": "execute_result"
    }
   ],
   "source": [
    "msg"
   ]
  },
  {
   "cell_type": "code",
   "execution_count": 99,
   "metadata": {},
   "outputs": [],
   "source": [
    "send_mails(smtp, toAddr, msg)"
   ]
  },
  {
   "cell_type": "code",
   "execution_count": null,
   "metadata": {},
   "outputs": [],
   "source": []
  },
  {
   "cell_type": "code",
   "execution_count": null,
   "metadata": {},
   "outputs": [],
   "source": []
  }
 ],
 "metadata": {
  "kernelspec": {
   "display_name": "Python 3",
   "language": "python",
   "name": "python3"
  },
  "language_info": {
   "codemirror_mode": {
    "name": "ipython",
    "version": 3
   },
   "file_extension": ".py",
   "mimetype": "text/x-python",
   "name": "python",
   "nbconvert_exporter": "python",
   "pygments_lexer": "ipython3",
   "version": "3.6.3"
  }
 },
 "nbformat": 4,
 "nbformat_minor": 2
}
