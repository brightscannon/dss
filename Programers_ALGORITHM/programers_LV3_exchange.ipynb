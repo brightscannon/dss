{
 "cells": [
  {
   "cell_type": "markdown",
   "metadata": {},
   "source": [
    "# 프로그래머스 알고리즘 - 거스름돈(LV3)\n",
    "- 재귀로 풀어낸 방법\n",
    "- 이중포문으로 풀어낸 방법"
   ]
  },
  {
   "cell_type": "code",
   "execution_count": 3,
   "metadata": {},
   "outputs": [
    {
     "name": "stdout",
     "output_type": "stream",
     "text": [
      "11\n",
      "24333\n"
     ]
    }
   ],
   "source": [
    "#거스름돈(LV3) - 재귀로 풀어낸 방법\n",
    "\n",
    "#문제점 : 갯수가 적을때는 매우 빠르고 정확하나 coin양이 많아지고 total값이 커질수록 효율성이 급격하게 떨어짐.\n",
    "\n",
    "def solution(total, coin):\n",
    "    coin.sort()\n",
    "\n",
    "    def recursive(rmn,idx):\n",
    "        count = 0\n",
    "        now_coin = coin[idx]  #현재동전 설정\n",
    "        maxcoin = rmn-(rmn%now_coin) #현재동전이 remain 이하로 가질 수 있는 최대값\n",
    "        if idx == 0 and rmn % now_coin == 0 :\n",
    "            return 1                       \n",
    "        for c in range(maxcoin,0,-now_coin):\n",
    "            if rmn - c == 0:\n",
    "                count += 1 \n",
    "            elif idx > 0:\n",
    "                count += recursive(rmn-c,idx-1)\n",
    "            \n",
    "        if idx > 0 :\n",
    "            count += recursive(rmn,idx-1)\n",
    "        return count    \n",
    "\n",
    "    return recursive(total, len(coin)-1) % 1000000007\n",
    "    \n",
    "# 아래는 테스트로 출력해 보기 위한 코드입니다.\n",
    "# print(solution(5, [1, 2, 5])) #4개\n",
    "\n",
    "print(solution(27, [2, 5, 8, 11])) #11개\n",
    "\n",
    "# print(solution(1000, [42, 28, 39])) #7개\n",
    "\n",
    "print(solution(1000, [22, 38, 14, 50, 35, 28])) #24333개"
   ]
  },
  {
   "cell_type": "markdown",
   "metadata": {},
   "source": [
    "### 위의 재귀적인 방식은 입력값이 많아질수록 급격히 느려진다는 단점이 있다.\n",
    "\n",
    "### 그래서 계산을 통한 누적식을 도출, 내용은 다음과 같으며 마지막에 간소화식이 있다.\n",
    "\n"
   ]
  },
  {
   "cell_type": "code",
   "execution_count": 20,
   "metadata": {},
   "outputs": [
    {
     "name": "stdout",
     "output_type": "stream",
     "text": [
      "4\n",
      "11\n",
      "7\n",
      "24333\n"
     ]
    }
   ],
   "source": [
    "#거스름돈(LV3) - 이중포문으로 작성 후 정리한 결과.\n",
    "\n",
    "def solution(total, coin):\n",
    "    \n",
    "    coin.sort()                            #---0. 입력된 화폐를 오름차순으로 재정렬\n",
    "    \n",
    "    ls = [0 for j in range(0,total+1)]     #---1. 계산에 사용될 리스트를 생성하고 초기화\n",
    "\n",
    "    for i in range(0,len(coin)):           #---2. 이전 경우의수를 현재에 누적하는 방법으로 경우의 수 계산 \n",
    "        now_coin = coin[i]        \n",
    "        ls[now_coin] += 1\n",
    "        for j in range(now_coin,total+1):\n",
    "            ls[j] += ls[j-now_coin]\n",
    "        \n",
    "    return ls[total]\n",
    "    \n",
    "    \n",
    "# 아래는 테스트로 출력해 보기 위한 코드입니다.\n",
    "print(solution(5, [1, 2, 5])) #4개\n",
    "\n",
    "print(solution(27, [2, 5, 8, 11])) #11개\n",
    "\n",
    "print(solution(1000, [42, 28, 39])) #7개\n",
    "\n",
    "print(solution(1000, [22, 38, 14, 50, 35, 28])) #24333개"
   ]
  },
  {
   "cell_type": "code",
   "execution_count": 21,
   "metadata": {},
   "outputs": [
    {
     "name": "stdout",
     "output_type": "stream",
     "text": [
      "4\n",
      "11\n",
      "7\n",
      "24333\n"
     ]
    }
   ],
   "source": [
    "#거스름돈(LV3) - 최적화 및 간소화 결과\n",
    "\n",
    "def solution(total, coin):\n",
    "    coin.sort()  #<------------0. 입력된 화폐를 오름차순으로 재정렬 \n",
    "    ls = [0]*(total+1)  #<-----1. 계산에 사용될 리스트를 생성하고 초기화\n",
    "        \n",
    "    for c in coin:   #<--------2. 누적하는 방법으로 경우의 수 계산        \n",
    "        ls[c] += 1\n",
    "        for j in range(c,total+1):       \n",
    "            ls[j] += ls[j-c]\n",
    "        \n",
    "    return ls[total]\n",
    "    \n",
    "# 아래는 테스트로 출력해 보기 위한 코드입니다.\n",
    "# print(solution(5, [1, 2, 5])) #4개\n",
    "\n",
    "# print(solution(27, [2, 5, 8, 11])) #11개\n",
    "\n",
    "# print(solution(1000, [42, 28, 39])) #7개\n",
    "\n",
    "# print(solution(1000, [22, 38, 14, 50, 35, 28])) #24333개"
   ]
  }
 ],
 "metadata": {
  "kernelspec": {
   "display_name": "Python 3",
   "language": "python",
   "name": "python3"
  },
  "language_info": {
   "codemirror_mode": {
    "name": "ipython",
    "version": 3
   },
   "file_extension": ".py",
   "mimetype": "text/x-python",
   "name": "python",
   "nbconvert_exporter": "python",
   "pygments_lexer": "ipython3",
   "version": "3.6.3"
  }
 },
 "nbformat": 4,
 "nbformat_minor": 2
}
