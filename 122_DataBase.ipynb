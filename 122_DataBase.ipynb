{
 "cells": [
  {
   "cell_type": "code",
   "execution_count": 1,
   "metadata": {},
   "outputs": [],
   "source": [
    "# DBMS : 데이터베이스 매니지먼트 시스템(데이터베이스를 관리하는 미들웨어 시스템)\n",
    "# RDBMS : 구조설계가 필요한 데이터베이스(스키마) -- oracle, mysql, postgresql, sqlite\n",
    "# NoSQL : 많은 데이터 저장이 가능, 데이터간의 관계가 없으므로 무조건 다 저장해야됨, 복잡성이 작음, 빠름 -- Mongodb"
   ]
  },
  {
   "cell_type": "code",
   "execution_count": null,
   "metadata": {},
   "outputs": [],
   "source": [
    "# 일단 MySQL, Mongobd 배운다. Redis는 아주 빠르므로 나중에 배운다."
   ]
  },
  {
   "cell_type": "code",
   "execution_count": null,
   "metadata": {},
   "outputs": [],
   "source": [
    "# MySQL은 데이터베이스 서버이다.\n",
    "# 다중사용자와 다중 스레드 지원\n",
    "# 표준SQL을 사용함(문법이 스탬다드임)\n",
    "# 세계적으로 많이 사용\n",
    "# 가격저렴하고 강력한 기능\n",
    "\n",
    "# 새로운걸 만들어 넣는경우 관계를 정리하다가 꼬일수가 있다.\n",
    "# 스키마 수정이 어렵다는 단점이 있다.\n",
    "\n",
    "# table : row와 colunm(field)로 이루어져있는 데이터베이스를 이루는 기본 단위\n",
    "# 저장엔진 : MylSAM, innoDB\n",
    "# column : 테이블의 세로축 데이터\n",
    "# row : 가로축 데이터"
   ]
  },
  {
   "cell_type": "code",
   "execution_count": 2,
   "metadata": {},
   "outputs": [],
   "source": [
    "# 트렌젝션이란? : 중복확인요청시 문제발생을 막기위해 실행단위(프로시저)를 묶어서 관리하는것.\n",
    "# RDBMS : value, key, relationship, 스키마 (데이터베이스 설계)"
   ]
  },
  {
   "cell_type": "code",
   "execution_count": 4,
   "metadata": {},
   "outputs": [],
   "source": [
    "# NoSQL == RDBMS의 한계를 극복하기 위해 만들어짐\n",
    "# --> Not only SQL\n",
    "# 확장성이 용이하고, 데이터 저장이 유연함, 스키마나 join이 없다.\n",
    "# collection별롸 관계가 없기때문에 모든 데이터가 들어있어야 한다.\n",
    "# json포멧(key-value형태)을 사용\n",
    "# insert가 빨라서 데이터베이스에 많이 사용됨(단 select는 느림..)\n",
    "# 트랜젝션이 지원되지 않음.(동시수정에 대한 신뢰성이 지원되지 않음)\n",
    "# Mongodb를 사용할거임~"
   ]
  },
  {
   "cell_type": "code",
   "execution_count": null,
   "metadata": {},
   "outputs": [],
   "source": [
    "# install 하는 방법\n",
    "\n",
    "# reference 참조\n",
    "# - https://www.cyberciti.biz/faq/howto-install-mysql-on-ubuntu-linux-16-04/\n",
    "\n",
    "\n",
    "# 1.1 install\n",
    "\n",
    "# # apt 업데이트 및 업그레이드\n",
    "# $ sudo apt update\n",
    "# $ sudo apt upgrade\n",
    "\n",
    "# # mysql-server, mysql-client 설치 ( 설치 중간에 패스워드 입력 )\n",
    "# $ sudo apt install mysql-server mysql-client\n",
    "\n",
    "# 1.2 mysql secure 설정\n",
    "\n",
    "# # mysql 보안 관련 설정 ( n-n-y-n-y-y 순으로 입력해줍니다. )\n",
    "# $ sudo mysql_secure_installation\n",
    "\n",
    "# # mysql root 사용자로 접속\n",
    "# $ mysql -u root -p\n",
    "\n",
    "\n",
    "\n",
    "\n",
    "\n",
    "# 3. 외부접속 설정---------------------------------------------\n",
    "\n",
    "# # mysql 설정파일 bind-address = 0.0.0.0 으로 수정\n",
    "# $ sudo vi /etc/mysql/mysql.conf.d/mysqld.cnf\n",
    "# bind-address = 0.0.0.0\n",
    "\n",
    "# # 외부접속이 허용되도록 mysql 설정\n",
    "# mysql> grant all privileges on *.* to root@'%' identified by '<password>';\n",
    "\n",
    "# 3\n",
    "\n",
    "# # 비밀번호가 qwer1234 인경우 아래와 같이 입력\n",
    "# mysql> grant all privileges on *.* to root@'%' identified by 'qwer1234';"
   ]
  },
  {
   "cell_type": "code",
   "execution_count": null,
   "metadata": {},
   "outputs": [],
   "source": [
    "# query 문 학습--------------------------------------------------------------\n",
    "\n",
    "# status 현재상태\n",
    "\n",
    "# 데이터베이스 생성/선택/삭제 ---------------------\n",
    "\n",
    "# create database test;\n",
    "# use test; # 데이터베이스 선택\n",
    "# select database(); #현재 선택된 데이터베이스 확인\n",
    "\n",
    "# drop database test;# 데이터베이스 삭제\n",
    "\n",
    "# 테이블 생성/선택/삭제 --------------------------\n",
    "\n",
    "# create table user(\n",
    "    # name char(20),\n",
    "    # age int(3));\n",
    "# show tables;\n",
    "# desc user;\n",
    "\n",
    "# rename table user to dss; # 테이블 명 변경\n",
    "# drop table dss; # 데이블 삭제\n",
    "\n",
    "# 열삽입 (테이블 이름이 dss인 경우 기준)\n",
    "# insert into dss(name,age)\n",
    "    # values(\"alice\",30),\n",
    "    # (peter, 22);\n",
    "    \n",
    "# 열 확인\n",
    "# select * from dss"
   ]
  }
 ],
 "metadata": {
  "kernelspec": {
   "display_name": "Python 3",
   "language": "python",
   "name": "python3"
  },
  "language_info": {
   "codemirror_mode": {
    "name": "ipython",
    "version": 3
   },
   "file_extension": ".py",
   "mimetype": "text/x-python",
   "name": "python",
   "nbconvert_exporter": "python",
   "pygments_lexer": "ipython3",
   "version": "3.6.3"
  }
 },
 "nbformat": 4,
 "nbformat_minor": 2
}
