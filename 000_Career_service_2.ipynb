{
 "cells": [
  {
   "cell_type": "markdown",
   "metadata": {},
   "source": [
    "# 오늘은 다른 자소서와 이력서를 평가하는 시간을 가졌음"
   ]
  },
  {
   "cell_type": "markdown",
   "metadata": {},
   "source": [
    "- 스타트업 지리지 : www.koreastartup.co.kr\n",
    "- 크레딧잡 : http://kreditjob.com 블락처리된 기업은 나쁜 내용이 많아서 블락되어있을 수 있다 참고하자\n",
    "- 구글알리미 : www.google.co.kr/alerts 크롤링대신에 쓰면 좋다. 바로바로 알랴줌\n",
    "- 블라인드 : www.teamblind.com 욕이 많으니까 대충 현실적인 회사를 보고 싶을때 실제내용만 골라보자"
   ]
  },
  {
   "cell_type": "markdown",
   "metadata": {},
   "source": [
    "---\n",
    "- 일정\n",
    "\n",
    ">- 일정\n",
    "- 월 면접특강"
   ]
  },
  {
   "cell_type": "code",
   "execution_count": null,
   "metadata": {},
   "outputs": [],
   "source": []
  }
 ],
 "metadata": {
  "kernelspec": {
   "display_name": "Python 3",
   "language": "python",
   "name": "python3"
  },
  "language_info": {
   "codemirror_mode": {
    "name": "ipython",
    "version": 3
   },
   "file_extension": ".py",
   "mimetype": "text/x-python",
   "name": "python",
   "nbconvert_exporter": "python",
   "pygments_lexer": "ipython3",
   "version": "3.6.3"
  }
 },
 "nbformat": 4,
 "nbformat_minor": 2
}
