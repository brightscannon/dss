{
 "cells": [
  {
   "cell_type": "markdown",
   "metadata": {},
   "source": [
    "### Quiz"
   ]
  },
  {
   "cell_type": "code",
   "execution_count": 1,
   "metadata": {},
   "outputs": [],
   "source": [
    "import numpy as np"
   ]
  },
  {
   "cell_type": "markdown",
   "metadata": {},
   "source": [
    "##### 1. 5개의 1로 이루어진 정수데이터 타입의 벡터를 만드세요"
   ]
  },
  {
   "cell_type": "code",
   "execution_count": 4,
   "metadata": {},
   "outputs": [
    {
     "data": {
      "text/plain": [
       "array([1, 1, 1, 1, 1])"
      ]
     },
     "execution_count": 4,
     "metadata": {},
     "output_type": "execute_result"
    }
   ],
   "source": [
    "np.ones(5, dtype=int)"
   ]
  },
  {
   "cell_type": "markdown",
   "metadata": {},
   "source": [
    "##### 2. 10개의 1로 이루어진 정수 데이터 타입의 벡터에서 마지막 3개의 데이터는 5가 들어있는 벡터를 만드세요"
   ]
  },
  {
   "cell_type": "code",
   "execution_count": 35,
   "metadata": {},
   "outputs": [
    {
     "data": {
      "text/plain": [
       "array([1, 1, 1, 1, 1, 1, 1, 5, 5, 5])"
      ]
     },
     "execution_count": 35,
     "metadata": {},
     "output_type": "execute_result"
    }
   ],
   "source": [
    "a=np.ones(7, dtype=int)\n",
    "b=np.ones(3, dtype=int)*5\n",
    "np.concatenate((a,b), axis=0)"
   ]
  },
  {
   "cell_type": "markdown",
   "metadata": {},
   "source": [
    "##### 3. 10에서 20까지의 데이터를 가지는 벡터를 만드세요"
   ]
  },
  {
   "cell_type": "code",
   "execution_count": 36,
   "metadata": {},
   "outputs": [
    {
     "data": {
      "text/plain": [
       "array([10, 11, 12, 13, 14, 15, 16, 17, 18, 19, 20])"
      ]
     },
     "execution_count": 36,
     "metadata": {},
     "output_type": "execute_result"
    }
   ],
   "source": [
    "np.arange(10,21)"
   ]
  },
  {
   "cell_type": "markdown",
   "metadata": {},
   "source": [
    "##### 4. 위 벡터의 순서를 바꾸세요"
   ]
  },
  {
   "cell_type": "code",
   "execution_count": 37,
   "metadata": {},
   "outputs": [
    {
     "data": {
      "text/plain": [
       "array([20, 19, 18, 17, 16, 15, 14, 13, 12, 11, 10])"
      ]
     },
     "execution_count": 37,
     "metadata": {},
     "output_type": "execute_result"
    }
   ],
   "source": [
    "np.arange(10,21)[::-1]"
   ]
  },
  {
   "cell_type": "markdown",
   "metadata": {},
   "source": [
    "##### 5. 0부터 8까지의 값을 가지는 3x3 행렬을 만드세요"
   ]
  },
  {
   "cell_type": "code",
   "execution_count": 38,
   "metadata": {},
   "outputs": [
    {
     "data": {
      "text/plain": [
       "array([[0, 1, 2],\n",
       "       [3, 4, 5],\n",
       "       [6, 7, 8]])"
      ]
     },
     "execution_count": 38,
     "metadata": {},
     "output_type": "execute_result"
    }
   ],
   "source": [
    "a = np.arange(9).reshape((3,3))\n",
    "a"
   ]
  },
  {
   "cell_type": "markdown",
   "metadata": {},
   "source": [
    "##### 6. 위의 벡터에서  `[[4,5],[7,8]]`  행렬을 만드세요"
   ]
  },
  {
   "cell_type": "code",
   "execution_count": 41,
   "metadata": {},
   "outputs": [
    {
     "data": {
      "text/plain": [
       "array([[4, 5],\n",
       "       [7, 8]])"
      ]
     },
     "execution_count": 41,
     "metadata": {},
     "output_type": "execute_result"
    }
   ],
   "source": [
    "a[1:,1:]"
   ]
  },
  {
   "cell_type": "markdown",
   "metadata": {},
   "source": [
    "##### 7. 1에서 10까지의 데이터를 랜덤하게 가지는 3*4 행렬을 만드세요"
   ]
  },
  {
   "cell_type": "code",
   "execution_count": 58,
   "metadata": {},
   "outputs": [
    {
     "data": {
      "text/plain": [
       "array([[ 6,  9,  2, 10],\n",
       "       [ 2,  4,  4,  3],\n",
       "       [ 5, 10,  3,  8]])"
      ]
     },
     "execution_count": 58,
     "metadata": {},
     "output_type": "execute_result"
    }
   ],
   "source": [
    "r = np.random.randint(1,11,size=(3,4))\n",
    "r"
   ]
  },
  {
   "cell_type": "markdown",
   "metadata": {},
   "source": [
    "##### 8. 위에서 만든 행렬의 unique 한 숫자들 리스트와 각숫자의 갯수를 리스트로 나타내세요"
   ]
  },
  {
   "cell_type": "code",
   "execution_count": 62,
   "metadata": {},
   "outputs": [
    {
     "data": {
      "text/plain": [
       "(array([ 2,  3,  4,  5,  6,  8,  9, 10]),\n",
       " array([2, 2, 2, 1, 1, 1, 1, 2], dtype=int64))"
      ]
     },
     "execution_count": 62,
     "metadata": {},
     "output_type": "execute_result"
    }
   ],
   "source": [
    "np.unique(r, return_counts=True)"
   ]
  },
  {
   "cell_type": "markdown",
   "metadata": {},
   "source": [
    "##### 9. 1에서 12까지에 숫자가 들어간 3*4 행렬을 만드시고 행과 열에 관계없이 데이터를 섞으세요"
   ]
  },
  {
   "cell_type": "code",
   "execution_count": 372,
   "metadata": {},
   "outputs": [
    {
     "data": {
      "text/plain": [
       "array([[ 1,  2,  3,  4],\n",
       "       [ 5,  6,  7,  8],\n",
       "       [ 9, 10, 11, 12]])"
      ]
     },
     "execution_count": 372,
     "metadata": {},
     "output_type": "execute_result"
    }
   ],
   "source": [
    "sh = np.arange(1,13).reshape(3,4)\n",
    "sh"
   ]
  },
  {
   "cell_type": "code",
   "execution_count": 373,
   "metadata": {},
   "outputs": [
    {
     "data": {
      "text/plain": [
       "array([[ 1,  3,  5, 11],\n",
       "       [12,  4,  8,  7],\n",
       "       [ 2, 10,  6,  9]])"
      ]
     },
     "execution_count": 373,
     "metadata": {},
     "output_type": "execute_result"
    }
   ],
   "source": [
    "# np.random.shuffle(sh)\n",
    "# np.random.shuffle(sh.T)\n",
    "sh = np.hstack(sh)\n",
    "np.random.shuffle(sh)\n",
    "sh.reshape(3,4)"
   ]
  },
  {
   "cell_type": "markdown",
   "metadata": {},
   "source": [
    "##### 10. 1부터 10까지의 랜덤한 데이터가 들어가는 `3*3`행렬을 만드시고 가장 아래에 위의 데이터를 모두 합한 `1*3`행렬을 추가해서 `4*3`행렬을 만드세요"
   ]
  },
  {
   "cell_type": "code",
   "execution_count": 475,
   "metadata": {},
   "outputs": [
    {
     "name": "stdout",
     "output_type": "stream",
     "text": [
      "[[ 7 10  8]\n",
      " [ 3  3  6]\n",
      " [ 5  8  8]]\n",
      "[array([15, 21, 22])]\n"
     ]
    }
   ],
   "source": [
    "A = np.random.randint(1,11,size=(3,3))\n",
    "print(A)\n",
    "a = np.sum(A, axis = 0)\n",
    "print([a])\n",
    "\n"
   ]
  },
  {
   "cell_type": "code",
   "execution_count": 477,
   "metadata": {},
   "outputs": [
    {
     "data": {
      "text/plain": [
       "array([[ 7, 10,  8],\n",
       "       [ 3,  3,  6],\n",
       "       [ 5,  8,  8],\n",
       "       [15, 21, 22]])"
      ]
     },
     "execution_count": 477,
     "metadata": {},
     "output_type": "execute_result"
    }
   ],
   "source": [
    "X=np.concatenate((A,[a]))\n",
    "X"
   ]
  },
  {
   "cell_type": "markdown",
   "metadata": {},
   "source": [
    "##### 11. 10번문제의 결과로 나온 행렬데이터에서 평균값을 출력하고 평균값보다 큰 숫자들만 유니크한 리스트로 나열하세요 (평균값은 소수 둘째 자리까지만 나타내세요)"
   ]
  },
  {
   "cell_type": "code",
   "execution_count": 480,
   "metadata": {},
   "outputs": [
    {
     "name": "stdout",
     "output_type": "stream",
     "text": [
      "avg : 9.67\n"
     ]
    }
   ],
   "source": [
    "xm = X.mean()\n",
    "print(\"avg : %.2f\"%xm)"
   ]
  },
  {
   "cell_type": "code",
   "execution_count": 488,
   "metadata": {},
   "outputs": [
    {
     "data": {
      "text/plain": [
       "array([10, 15, 21, 22])"
      ]
     },
     "execution_count": 488,
     "metadata": {},
     "output_type": "execute_result"
    }
   ],
   "source": [
    "X[np.array(X > xm)]"
   ]
  },
  {
   "cell_type": "markdown",
   "metadata": {},
   "source": [
    "##### 12. 1부터 20까지의 랜덤숫자를 가지는 5*5 행렬을 만드시고 최대값에는 숫자(MAX), 최소값에는 숫자(MIN)으로 행렬을 바꾸세요"
   ]
  },
  {
   "cell_type": "code",
   "execution_count": 530,
   "metadata": {},
   "outputs": [
    {
     "data": {
      "text/plain": [
       "array([[ 6, 17,  9, 19, 11],\n",
       "       [10,  7, 18,  9, 12],\n",
       "       [15, 16,  4,  6,  1],\n",
       "       [18,  6, 15, 14,  8],\n",
       "       [ 6, 16,  6, 11,  8]])"
      ]
     },
     "execution_count": 530,
     "metadata": {},
     "output_type": "execute_result"
    }
   ],
   "source": [
    "X = np.random.randint(1,21,size=(5,5))\n",
    "X"
   ]
  },
  {
   "cell_type": "code",
   "execution_count": 531,
   "metadata": {},
   "outputs": [
    {
     "name": "stdout",
     "output_type": "stream",
     "text": [
      "19 3\n",
      "1 14\n"
     ]
    }
   ],
   "source": [
    "print(X.max(),X.argmax())\n",
    "print(X.min(),X.argmin())"
   ]
  },
  {
   "cell_type": "code",
   "execution_count": 532,
   "metadata": {},
   "outputs": [
    {
     "data": {
      "text/plain": [
       "array([['6', '17', '9', '19(Max)', '11'],\n",
       "       ['10', '7', '18', '9', '12'],\n",
       "       ['15', '16', '4', '6', '1(Min)'],\n",
       "       ['18', '6', '15', '14', '8'],\n",
       "       ['6', '16', '6', '11', '8']],\n",
       "      dtype='<U7')"
      ]
     },
     "execution_count": 532,
     "metadata": {},
     "output_type": "execute_result"
    }
   ],
   "source": [
    "maxx = X.max()\n",
    "minn = X.min()\n",
    "X = np.array([[(str(y)+\"(Max)\" if maxx == y else str(y)+\"(Min)\") \n",
    "      if y in (maxx,minn) else str(y) for y in x] for x in X])\n",
    "X"
   ]
  },
  {
   "cell_type": "markdown",
   "metadata": {},
   "source": [
    "##### 13. 100에서 130까지의 랜덤 숫자를 가지는 8*8행렬을 만드시고 3의 배수에는 fiz, 5의 배수에는 buz, 3과 5의 배수는 fbz 문자를 출력하세요"
   ]
  },
  {
   "cell_type": "code",
   "execution_count": 559,
   "metadata": {},
   "outputs": [
    {
     "data": {
      "text/plain": [
       "array([[129, 126, 120, 109, 101, 126, 109, 104],\n",
       "       [102, 125, 129, 116, 124, 110, 105, 117],\n",
       "       [119, 124, 104, 110, 124, 103, 129, 126],\n",
       "       [106, 116, 115, 121, 118, 114, 130, 104],\n",
       "       [118, 109, 124, 119, 129, 114, 129, 123],\n",
       "       [125, 128, 101, 130, 113, 109, 129, 118],\n",
       "       [104, 109, 111, 122, 118, 111, 124, 103],\n",
       "       [114, 110, 120, 118, 112, 124, 122, 103]])"
      ]
     },
     "execution_count": 559,
     "metadata": {},
     "output_type": "execute_result"
    }
   ],
   "source": [
    "Z = np.random.randint(100,131,size=(8,8))\n",
    "Z"
   ]
  },
  {
   "cell_type": "code",
   "execution_count": 560,
   "metadata": {},
   "outputs": [
    {
     "data": {
      "text/plain": [
       "[['buz', 'buz', 'fbz', '109', '101', 'buz', '109', '104'],\n",
       " ['buz', 'fiz', 'buz', '116', '124', 'fiz', 'fbz', 'buz'],\n",
       " ['119', '124', '104', 'fiz', '124', '103', 'buz', 'buz'],\n",
       " ['106', '116', 'fiz', '121', '118', 'buz', 'fiz', '104'],\n",
       " ['118', '109', '124', '119', 'buz', 'buz', 'buz', 'buz'],\n",
       " ['fiz', '128', '101', 'fiz', '113', '109', 'buz', '118'],\n",
       " ['104', '109', 'buz', '122', '118', 'buz', '124', '103'],\n",
       " ['buz', 'fiz', 'fbz', '118', '112', '124', '122', '103']]"
      ]
     },
     "execution_count": 560,
     "metadata": {},
     "output_type": "execute_result"
    }
   ],
   "source": [
    "X = [[(\"fbz\" if (a%5==0 and a%3==0) else (\"fiz\" if a%5==0 else \"buz\"))\n",
    "      if (a%5==0 or a%3==0) else str(a)\n",
    "      for a in row] for row in Z]\n",
    "X"
   ]
  },
  {
   "cell_type": "markdown",
   "metadata": {},
   "source": [
    "##### 14. 리스트 컴프리헨션을 이용하여 아래와 같은 규칙은 갖는 행렬을 만드세요"
   ]
  },
  {
   "cell_type": "code",
   "execution_count": 563,
   "metadata": {},
   "outputs": [
    {
     "data": {
      "text/plain": [
       "array([[ 1,  2,  3,  4,  5],\n",
       "       [ 2,  4,  6,  8, 10],\n",
       "       [ 3,  6,  9, 12, 15],\n",
       "       [ 4,  8, 12, 16, 20],\n",
       "       [ 5, 10, 15, 20, 25]])"
      ]
     },
     "execution_count": 563,
     "metadata": {},
     "output_type": "execute_result"
    }
   ],
   "source": [
    "def sqr_arr(n):\n",
    "    ls = []\n",
    "    print(\"number : \", n)\n",
    "    return np.array([[i*j for j in range(1,n+1)]for i in range(1,n+1)])\n",
    "sqr_arr(5)"
   ]
  },
  {
   "cell_type": "code",
   "execution_count": 564,
   "metadata": {},
   "outputs": [
    {
     "data": {
      "text/plain": [
       "array([[ 1,  2,  3,  4,  5,  6,  7],\n",
       "       [ 2,  4,  6,  8, 10, 12, 14],\n",
       "       [ 3,  6,  9, 12, 15, 18, 21],\n",
       "       [ 4,  8, 12, 16, 20, 24, 28],\n",
       "       [ 5, 10, 15, 20, 25, 30, 35],\n",
       "       [ 6, 12, 18, 24, 30, 36, 42],\n",
       "       [ 7, 14, 21, 28, 35, 42, 49]])"
      ]
     },
     "execution_count": 564,
     "metadata": {},
     "output_type": "execute_result"
    }
   ],
   "source": [
    "sqr_arr(7)"
   ]
  }
 ],
 "metadata": {
  "kernelspec": {
   "display_name": "Python 3",
   "language": "python",
   "name": "python3"
  },
  "language_info": {
   "codemirror_mode": {
    "name": "ipython",
    "version": 3
   },
   "file_extension": ".py",
   "mimetype": "text/x-python",
   "name": "python",
   "nbconvert_exporter": "python",
   "pygments_lexer": "ipython3",
   "version": "3.6.3"
  }
 },
 "nbformat": 4,
 "nbformat_minor": 2
}
