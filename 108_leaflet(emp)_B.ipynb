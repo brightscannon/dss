{
 "cells": [
  {
   "cell_type": "code",
   "execution_count": 1,
   "metadata": {},
   "outputs": [],
   "source": [
    "from ipyleaflet import *\n",
    "import time"
   ]
  },
  {
   "cell_type": "code",
   "execution_count": 2,
   "metadata": {},
   "outputs": [
    {
     "data": {
      "application/vnd.jupyter.widget-view+json": {
       "model_id": "7decf06815a541e98ab5064c54ca0a2a",
       "version_major": 2,
       "version_minor": 0
      },
      "text/html": [
       "<p>Failed to display Jupyter Widget of type <code>Map</code>.</p>\n",
       "<p>\n",
       "  If you're reading this message in the Jupyter Notebook or JupyterLab Notebook, it may mean\n",
       "  that the widgets JavaScript is still loading. If this message persists, it\n",
       "  likely means that the widgets JavaScript library is either not installed or\n",
       "  not enabled. See the <a href=\"https://ipywidgets.readthedocs.io/en/stable/user_install.html\">Jupyter\n",
       "  Widgets Documentation</a> for setup instructions.\n",
       "</p>\n",
       "<p>\n",
       "  If you're reading this message in another frontend (for example, a static\n",
       "  rendering on GitHub or <a href=\"https://nbviewer.jupyter.org/\">NBViewer</a>),\n",
       "  it may mean that your frontend doesn't currently support widgets.\n",
       "</p>\n"
      ],
      "text/plain": [
       "Map(basemap={'url': 'https://{s}.tile.openstreetmap.org/{z}/{x}/{y}.png', 'max_zoom': 19, 'attribution': 'Map data (c) <a href=\"https://openstreetmap.org\">OpenStreetMap</a> contributors'}, center=[37.335887, 126.584063], layers=(TileLayer(base=True, max_zoom=19, min_zoom=1, options=['attribution', 'detect_retina', 'max_zoom', 'min_zoom', 'tile_size']),), options=['attribution_control', 'basemap', 'bounce_at_zoom_limits', 'box_zoom', 'center', 'close_popup_on_click', 'double_click_zoom', 'dragging', 'inertia', 'inertia_deceleration', 'inertia_max_speed', 'keyboard', 'keyboard_pan_offset', 'keyboard_zoom_offset', 'max_zoom', 'min_zoom', 'scroll_wheel_zoom', 'tap', 'tap_tolerance', 'touch_zoom', 'world_copy_jump', 'zoom', 'zoom_animation_threshold', 'zoom_control', 'zoom_start'], zoom=13)"
      ]
     },
     "metadata": {},
     "output_type": "display_data"
    }
   ],
   "source": [
    "center = [37.335887, 126.584063]\n",
    "zoom = 13\n",
    "m = Map(center=center, zoom=zoom)\n",
    "m"
   ]
  },
  {
   "cell_type": "code",
   "execution_count": 4,
   "metadata": {},
   "outputs": [
    {
     "data": {
      "text/html": [
       "<div>\n",
       "<style scoped>\n",
       "    .dataframe tbody tr th:only-of-type {\n",
       "        vertical-align: middle;\n",
       "    }\n",
       "\n",
       "    .dataframe tbody tr th {\n",
       "        vertical-align: top;\n",
       "    }\n",
       "\n",
       "    .dataframe thead th {\n",
       "        text-align: right;\n",
       "    }\n",
       "</style>\n",
       "<table border=\"1\" class=\"dataframe\">\n",
       "  <thead>\n",
       "    <tr style=\"text-align: right;\">\n",
       "      <th></th>\n",
       "      <th>명칭</th>\n",
       "      <th>좌표주소</th>\n",
       "      <th>위도</th>\n",
       "      <th>경도</th>\n",
       "      <th>상세주소</th>\n",
       "      <th>상세내용</th>\n",
       "    </tr>\n",
       "  </thead>\n",
       "  <tbody>\n",
       "    <tr>\n",
       "      <th>5</th>\n",
       "      <td>어린이보호 CCTV</td>\n",
       "      <td>대한민국 서울특별시 금천구 독산로50길 60</td>\n",
       "      <td>37.462335</td>\n",
       "      <td>126.907400</td>\n",
       "      <td>독산로50길 60 흥일초교</td>\n",
       "      <td>관리번호: SN108</td>\n",
       "    </tr>\n",
       "    <tr>\n",
       "      <th>6</th>\n",
       "      <td>어린이보호 CCTV</td>\n",
       "      <td>대한민국 서울특별시 금천구 독산로36나길 7</td>\n",
       "      <td>37.459921</td>\n",
       "      <td>126.907670</td>\n",
       "      <td>독산로36나길 7</td>\n",
       "      <td>관리번호: SN109</td>\n",
       "    </tr>\n",
       "    <tr>\n",
       "      <th>7</th>\n",
       "      <td>어린이보호 CCTV</td>\n",
       "      <td>대한민국 서울특별시 금천구 금하로11길 40</td>\n",
       "      <td>37.455431</td>\n",
       "      <td>126.904157</td>\n",
       "      <td>금하로11길 40</td>\n",
       "      <td>관리번호: SN110</td>\n",
       "    </tr>\n",
       "    <tr>\n",
       "      <th>8</th>\n",
       "      <td>어린이보호 CCTV</td>\n",
       "      <td>대한민국 서울특별시 금천구 탑골로5길 52</td>\n",
       "      <td>37.453722</td>\n",
       "      <td>126.912529</td>\n",
       "      <td>탑골로5길 52</td>\n",
       "      <td>관리번호: SN111</td>\n",
       "    </tr>\n",
       "    <tr>\n",
       "      <th>9</th>\n",
       "      <td>어린이보호 CCTV</td>\n",
       "      <td>대한민국 서울특별시 금천구 탑골로 35</td>\n",
       "      <td>37.452033</td>\n",
       "      <td>126.913221</td>\n",
       "      <td>탑골로35</td>\n",
       "      <td>관리번호: SN112</td>\n",
       "    </tr>\n",
       "  </tbody>\n",
       "</table>\n",
       "</div>"
      ],
      "text/plain": [
       "           명칭                      좌표주소         위도          경도  \\\n",
       "5  어린이보호 CCTV  대한민국 서울특별시 금천구 독산로50길 60  37.462335  126.907400   \n",
       "6  어린이보호 CCTV  대한민국 서울특별시 금천구 독산로36나길 7  37.459921  126.907670   \n",
       "7  어린이보호 CCTV  대한민국 서울특별시 금천구 금하로11길 40  37.455431  126.904157   \n",
       "8  어린이보호 CCTV   대한민국 서울특별시 금천구 탑골로5길 52  37.453722  126.912529   \n",
       "9  어린이보호 CCTV     대한민국 서울특별시 금천구 탑골로 35  37.452033  126.913221   \n",
       "\n",
       "             상세주소         상세내용  \n",
       "5  독산로50길 60 흥일초교  관리번호: SN108  \n",
       "6       독산로36나길 7  관리번호: SN109  \n",
       "7       금하로11길 40  관리번호: SN110  \n",
       "8        탑골로5길 52  관리번호: SN111  \n",
       "9           탑골로35  관리번호: SN112  "
      ]
     },
     "execution_count": 4,
     "metadata": {},
     "output_type": "execute_result"
    }
   ],
   "source": [
    "# 금천구 CCTV 위도 경도 정보\n",
    "df = pd.read_csv(\"cctv.csv\")[:10]\n",
    "df.tail()"
   ]
  },
  {
   "cell_type": "code",
   "execution_count": 6,
   "metadata": {},
   "outputs": [],
   "source": [
    "# [(위도,경도),(위도,경도)]\n",
    "locs = list(zip(df[\"위도\"],df[\"경도\"]))"
   ]
  },
  {
   "cell_type": "code",
   "execution_count": 7,
   "metadata": {},
   "outputs": [],
   "source": [
    "for loc in locs:\n",
    "    marker = Marker(location=loc)\n",
    "    m += marker\n",
    "    time.sleep(1)"
   ]
  },
  {
   "cell_type": "code",
   "execution_count": null,
   "metadata": {},
   "outputs": [],
   "source": []
  },
  {
   "cell_type": "code",
   "execution_count": null,
   "metadata": {},
   "outputs": [],
   "source": []
  },
  {
   "cell_type": "code",
   "execution_count": null,
   "metadata": {},
   "outputs": [],
   "source": []
  },
  {
   "cell_type": "code",
   "execution_count": null,
   "metadata": {},
   "outputs": [],
   "source": []
  },
  {
   "cell_type": "code",
   "execution_count": null,
   "metadata": {},
   "outputs": [],
   "source": []
  }
 ],
 "metadata": {
  "kernelspec": {
   "display_name": "Python 3",
   "language": "python",
   "name": "python3"
  },
  "language_info": {
   "codemirror_mode": {
    "name": "ipython",
    "version": 3
   },
   "file_extension": ".py",
   "mimetype": "text/x-python",
   "name": "python",
   "nbconvert_exporter": "python",
   "pygments_lexer": "ipython3",
   "version": "3.6.3"
  }
 },
 "nbformat": 4,
 "nbformat_minor": 2
}
