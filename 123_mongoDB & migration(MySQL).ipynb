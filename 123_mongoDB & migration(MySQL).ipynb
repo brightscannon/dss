{
 "cells": [
  {
   "cell_type": "markdown",
   "metadata": {},
   "source": [
    "# 일단 서버에 몽고db깔고, 아마존서버 연결하자\n",
    "- https://drive.google.com/drive/folders/1lx1ugXGKjiYcTZ5FynmQgPL8FM_WAD9v\n",
    "\n",
    "- boro3T로 연결 성공하면\n",
    "- open shell하고 이제부터 시작"
   ]
  },
  {
   "cell_type": "code",
   "execution_count": null,
   "metadata": {},
   "outputs": [],
   "source": [
    "#데이터베이스 사용(생성)\n",
    "use dss\n",
    "\n",
    "#데이터베이스 목록보기 (단 데이터가 1개라도 있어야 보임)\n",
    "show dbs\n",
    "\n",
    "#<database_name><collection_name><Function>({<query>})\n",
    "#데이터베이스 데이터 삽입하기\n",
    "db.user.insert({\"name\":\"alice\",\"age\":20,\"email\":\"alice@gmail.com\"})\n",
    "\n",
    "#데이터베이스 드랍(삭제)\n",
    "db.dropDatabase()\n",
    "\n",
    "#컬렉션 만들기\n",
    "db.createCollection(name,[option])\n",
    "# name : 컬렉션의 이름 \n",
    "# option : \n",
    "#     - capped : 최대용량을 설정을 사용\n",
    "#     - autoIndex : _id라는 column명으로 자동으로 index가 생성\n",
    "#     - size : 숫자데이터를 넣어서 byte단위를 지정\n",
    "#     - max : 숫자데이터를 넣어서 document갯수를 지정\n",
    "\n",
    "# 사용예시) \n",
    "db.createCollection(\"info1\", { capped:true, autoIndex:true, size:500, max:5})\n",
    "db.createCollection(\"info2\", { capped:true, autoIndex:true, size:50, max:5})\n",
    "\n",
    "#아티클이라는 컬렉션 이름으로 넣어보기 : 이렇게 체이닝으로 컬렉션과 데이터를 한꺼번에 넣을수도 있다.\n",
    "db.article.insert({\"title\":\"data science\", \"contents\":\"mongodb\"})\n",
    "\n",
    "#아티클 삭제\n",
    "db.article.drop()\n",
    "\n",
    "# 컬렉션 목록 보기\n",
    "show collections\n",
    "\n",
    "# 예제 1. max가 5라서 5개넘으면 예전거 지우면서 들어가고\n",
    "# db.info1.insert( [\n",
    "#     { \"subject\":\"python\", \"level\":3 },\n",
    "#     { \"subject\":\"web\", \"level\":1 },\n",
    "#     { \"subject\":\"sql\", \"level\":2 },\n",
    "#     { \"subject\":\"python\", \"level\":3 },\n",
    "#     { \"subject\":\"web\", \"level\":1 },\n",
    "#     { \"subject\":\"sql\", \"level\":2 },\n",
    "# ])\n",
    "\n",
    "# 예제 2. size가 50이라서 50바이트 넘어가면 예전거 지워진다.\n",
    "# db.info2.insert( [\n",
    "#     { \"subject\":\"python\", \"level\":3 },\n",
    "#     { \"subject\":\"web\", \"level\":1 },\n",
    "#     { \"subject\":\"sql\", \"level\":2 },\n",
    "#     { \"subject\":\"python\", \"level\":3 },\n",
    "#     { \"subject\":\"web\", \"level\":1 },\n",
    "#     { \"subject\":\"sql\", \"level\":2 },\n",
    "# ])\n",
    "\n",
    "# db.info.insert([\n",
    "#     { \"subject\":\"r\", \"level\":3, \"comments\": [{\"name\":\"jin\",\"msg\":\"bad\"},\n",
    "#     {\"name\":\"alice\",\"msg\":\"hi\"}] }, { \"subject\":\"java\", \"level\":1, \"comments\":\n",
    "#     [{\"name\":\"po\",\"msg\":\"check\"}] },\n",
    "#     { \"subject\":\"javascript\", \"comments\": [{\"name\":\"jin\",\"msg\":\"nice\"}] },\n",
    "#     { \"subject\":\"html\", \"level\":3, \"comments\": [] },\n",
    "#     { \"subject\":\"css\", \"level\":1, \"comments\": [{\"name\":\"alice\", \"msg\":\"hello\"}] },\n",
    "#     { \"subject\":\"python\", \"level\":2, \"comments\": [{\"name\":\"alice\", \"msg\":\"hello\"}] },\n",
    "#     { \"subject\":\"python\", \"level\":5, \"comments\": [{\"name\":\"jin\",\"msg\":\"nice\"}] }\n",
    "# ])\n",
    "\n",
    "\n",
    "\n",
    "# find 찾기기능 --> db.<collection_name>.find(query, projection)\n",
    "    # query : 조건을 작성 (mysql에서 where부분만)\n",
    "    # projection : 보여지는 컬럼을 정의 (select절 부분만)\n",
    "    # 예시 : db.info.find({\"subject\":\"python\"})\n",
    "\n",
    "    # 연산자사용해서 찾기 : $lte(작거나 같은), $lt(작은), $gte(크거나 같은), $gt(큰), $in(리스트안에) \n",
    "        # db.info.find({\"level\":{$lte:2}})\n",
    "        # db.info.find({\"subject\":{$in:[\"java\",\"python\"]}})\n",
    "\n",
    "    # 논리연산자 : $or, $and, $not, $nor(not or)\n",
    "        # db.info.find({$and:[{\"subject\":\"python\"},{\"level\":{$gte:4}}]})\n",
    "\n",
    "    # $where - 자바그크립트 코드 사용이 가능함!\n",
    "    # comments의 길이가 1인녀석 찾기\n",
    "        # db.info.find({$where:\"this.comments.length == 1\"})\n",
    "\n",
    "    # $elemMatch - list value데이터 안에 있는 element를 매치시켜서 검색\n",
    "        # db.info.find({\"comments\":{$elemMatch :{\"name\":\"alice\"}}})\n",
    "\n",
    "    # $exists - 키값이 존재하는지 안하는지에 따른 조건으로 검색\n",
    "        # db.info.find({ level : {$exists:true}})\n",
    "\n",
    "    # projection - 도큐먼트를 조회할때 보여지는 컬럼을 정의\n",
    "    # 설정을 true로 하던가 false설정 하여 보여지는값을 결정한다( _id 값은 설정을 하지 않으면 true)\n",
    "        # db.info.find({},{\"_id\":false, \"level\":false, \"subject\":true})\n",
    "    \n",
    "    # $slice - document를 읽어올때 출력갯수를 설정할때 사용\n",
    "        # db.info.find({}, {comments:{$slice:1}})\n",
    "\n",
    "    # find method - sort, skip. limit\n",
    "        # db.info.find().sort({level:1}) #오름차순\n",
    "        # db.info.find().sort({level:-1}) #내림차순\n",
    "\n",
    "        # db.info.find().skip(2) # 2개 스킵하고 보여준다\n",
    "        # db.info.find().limit(3) # 3개까지 보여준다\n",
    "        # db.info.find().skip(2).limit(3) # 2개 스킵한뒤 바로 나오는 3개만 보여준다.\n",
    "\n",
    "        \n",
    "#자바함수 쓰기\n",
    "# var showSkip = function(start){\n",
    "#     return db.info.find().skip(start);\n",
    "# }\n",
    "# showSkip(3)\n",
    "\n",
    "\n",
    "# quiz\n",
    "# var showPage = function(page, block){\n",
    "#     var x = (page-1)*block\n",
    "#     return db.info.find().skip(x).limit(block);\n",
    "# }\n",
    "# showPage(2,3)"
   ]
  },
  {
   "cell_type": "code",
   "execution_count": 1,
   "metadata": {},
   "outputs": [],
   "source": [
    "# update\n",
    "\n",
    "    # db.collection_name.update( query, update, {upsert :<bool>, multi:<bool>})\n",
    "\n",
    "    # query : mysql 에서 where절에 해당되는 구문\n",
    "    # update : mysql 에서 set절에 해당되는 구문\n",
    "    # upsert : insert + update 합성어 --> 데이터가 있으면 업데이트, 없으면 insert\n",
    "    # multi : (default : false) 여러개의 documents를 수정할때 true로 옵션을 설정\n",
    "\n",
    "    #사용 예제\n",
    "    # db.info.update(\n",
    "    #     {subject:\"css\"},\n",
    "    #     {subject:\"sass\", level:2, comment s :[{name:\"alice\",msg:\"hello\"}]}\n",
    "    # )\n",
    "    \n",
    "    # db.info.update(\n",
    "    # { subject:\"less\" },\n",
    "    # { subject:\"less\" , level:3 , comments:[{name:\"alice\", msg:\"hello\"}]},\n",
    "    # { upsert : true }\n",
    "    # )\n",
    "    \n",
    "    #---- $set : 특정필드를 수정할때 사용\n",
    "    #---- $unset : 특정필드를 제거할 때 사용\n",
    "    # db.info.update(\n",
    "    #     {subject :\"java\"},\n",
    "    #     {$set:{level:4}},\n",
    "    #     {multi:true}\n",
    "    # )\n",
    "    # level이 3이하 데이터의 레벨을 1로 변경\n",
    "    # db.info.update(\n",
    "    #     {level : {$lte:3}},\n",
    "    #     {$set:{level:1}},\n",
    "    #     {multi:true}\n",
    "    # )\n",
    "    # 값이 없으면 레벨 3을 넣어준다\n",
    "    # db.info.update(\n",
    "    #     {level : {$exists:false}},\n",
    "    #     {$set:{level:3}},\n",
    "    #     {multi:true}\n",
    "    # )\n",
    "\n",
    "\n",
    "    #---- $push : 특정필드의 배열에 엘리먼트를 추가\n",
    "    #---- $each : 배열에 여러개의 엘리먼트를 추가 할 수 있습니다.\n",
    "    # subject가 html인 document에 comment를 추가\n",
    "    # db.info.update(\n",
    "    #     {subject:\"html\"},\n",
    "    #     {$push : {comments:{name:\"peter\", msg:\"html is good\"}}}\n",
    "    # )\n",
    "    # 여러개 추가\n",
    "    # db.info.update(\n",
    "    #     {subject:\"html\"},\n",
    "    #     {$push : {comments:{$each :[{name:\"jin\", msg:\"html is good\"},{name:\"alice\", msg:\"html is not good\"}]}}}\n",
    "    # )\n",
    "\n",
    "\n",
    "    #---- $pull : 배열의 값을 제거할때 사용합니다.\n",
    "    #---- $in : 여러개의 배열값을 선택하여 제거할때 사용합니다.\n",
    "    # db.info.update(\n",
    "    #     {subject:\"html\"},\n",
    "    #     {$pull : {comments:{$in :[{name:\"jin\", msg:\"html is good\"},{name:\"alice\", msg:\"html is not good\"}]}}}\n",
    "    # )\n",
    "\n",
    "    \n",
    "    "
   ]
  },
  {
   "cell_type": "code",
   "execution_count": null,
   "metadata": {},
   "outputs": [],
   "source": []
  },
  {
   "cell_type": "markdown",
   "metadata": {},
   "source": [
    "# pymongo"
   ]
  },
  {
   "cell_type": "code",
   "execution_count": null,
   "metadata": {},
   "outputs": [],
   "source": [
    "# 설치하기\n",
    "# https://drive.google.com/drive/folders/1lx1ugXGKjiYcTZ5FynmQgPL8FM_WAD9v"
   ]
  },
  {
   "cell_type": "code",
   "execution_count": 3,
   "metadata": {},
   "outputs": [],
   "source": [
    "import pymongo\n",
    "import requests, pymongo\n",
    "import pandas as pd"
   ]
  },
  {
   "cell_type": "code",
   "execution_count": 7,
   "metadata": {},
   "outputs": [],
   "source": [
    "client = pymongo.MongoClient('mongodb://13.xx.xx.xx:27017/') #내 mongodb서버에로그인\n",
    "client"
   ]
  },
  {
   "cell_type": "code",
   "execution_count": 10,
   "metadata": {},
   "outputs": [
    {
     "data": {
      "text/plain": [
       "Database(MongoClient(host=['13.209.5.42:27017'], document_class=dict, tz_aware=False, connect=True), 'brightkim')"
      ]
     },
     "execution_count": 10,
     "metadata": {},
     "output_type": "execute_result"
    }
   ],
   "source": [
    "# 데이터베이스 선택\n",
    "db = client.brightkim\n",
    "db"
   ]
  },
  {
   "cell_type": "code",
   "execution_count": 9,
   "metadata": {},
   "outputs": [
    {
     "data": {
      "text/plain": [
       "['info2', 'info1', 'info']"
      ]
     },
     "execution_count": 9,
     "metadata": {},
     "output_type": "execute_result"
    }
   ],
   "source": [
    "# 데이터베이스의 컬렉션 리스트를 확인\n",
    "db.collection_names()"
   ]
  },
  {
   "cell_type": "code",
   "execution_count": 11,
   "metadata": {},
   "outputs": [
    {
     "data": {
      "text/plain": [
       "Collection(Database(MongoClient(host=['13.209.5.42:27017'], document_class=dict, tz_aware=False, connect=True), 'brightkim'), 'info')"
      ]
     },
     "execution_count": 11,
     "metadata": {},
     "output_type": "execute_result"
    }
   ],
   "source": [
    "# 컬렉션 선택\n",
    "collection = db.info\n",
    "collection"
   ]
  },
  {
   "cell_type": "markdown",
   "metadata": {},
   "source": [
    "### Find\n"
   ]
  },
  {
   "cell_type": "code",
   "execution_count": 14,
   "metadata": {},
   "outputs": [
    {
     "data": {
      "text/plain": [
       "{'_id': ObjectId('5b5186b8def974a5f238fe5b'),\n",
       " 'comments': [{'msg': 'check', 'name': 'po'}],\n",
       " 'level': 4.0,\n",
       " 'subject': 'java'}"
      ]
     },
     "execution_count": 14,
     "metadata": {},
     "output_type": "execute_result"
    }
   ],
   "source": [
    "# find_one : 한개의 도큐먼트를 가져옵니다.\n",
    "document = collection.find_one({ \"subject\":\"java\"})\n",
    "document\n",
    "# 찾아쓰기 참 좋다아~"
   ]
  },
  {
   "cell_type": "code",
   "execution_count": 16,
   "metadata": {},
   "outputs": [
    {
     "data": {
      "text/plain": [
       "<pymongo.cursor.Cursor at 0x2172ce6c048>"
      ]
     },
     "execution_count": 16,
     "metadata": {},
     "output_type": "execute_result"
    }
   ],
   "source": [
    "# find : 여러개의 도큐먼트를 가져옵니다.\n",
    "documents = collection.find({\"subject\":\"java\"})\n",
    "documents\n",
    "# 아래 output을 보면 오브젝트가 알아서 하나의 커서로 떨어지는걸 알 수 있다."
   ]
  },
  {
   "cell_type": "code",
   "execution_count": 17,
   "metadata": {},
   "outputs": [
    {
     "data": {
      "text/plain": [
       "1"
      ]
     },
     "execution_count": 17,
     "metadata": {},
     "output_type": "execute_result"
    }
   ],
   "source": [
    "datas = list(documents)\n",
    "len(datas)"
   ]
  },
  {
   "cell_type": "code",
   "execution_count": 18,
   "metadata": {},
   "outputs": [
    {
     "data": {
      "text/plain": [
       "[{'_id': ObjectId('5b5186b8def974a5f238fe5b'),\n",
       "  'comments': [{'msg': 'check', 'name': 'po'}],\n",
       "  'level': 4.0,\n",
       "  'subject': 'java'}]"
      ]
     },
     "execution_count": 18,
     "metadata": {},
     "output_type": "execute_result"
    }
   ],
   "source": [
    "datas"
   ]
  },
  {
   "cell_type": "code",
   "execution_count": 20,
   "metadata": {},
   "outputs": [
    {
     "data": {
      "text/plain": [
       "[]"
      ]
     },
     "execution_count": 20,
     "metadata": {},
     "output_type": "execute_result"
    }
   ],
   "source": [
    "list(documents) # 이미 앞에서 cursor를 사용했기때문에 또 사용할 수 없다."
   ]
  },
  {
   "cell_type": "code",
   "execution_count": 21,
   "metadata": {},
   "outputs": [
    {
     "data": {
      "text/plain": [
       "8"
      ]
     },
     "execution_count": 21,
     "metadata": {},
     "output_type": "execute_result"
    }
   ],
   "source": [
    "# count - documents 의 갯수를 가져오는 함수\n",
    "documents = collection.find()\n",
    "documents.count()"
   ]
  },
  {
   "cell_type": "code",
   "execution_count": 28,
   "metadata": {},
   "outputs": [
    {
     "data": {
      "text/plain": [
       "[{'_id': ObjectId('5b5186b8def974a5f238fe5c'),\n",
       "  'comments': [{'msg': 'nice', 'name': 'jin'}],\n",
       "  'level': 3.0,\n",
       "  'subject': 'javascript'},\n",
       " {'_id': ObjectId('5b5186b8def974a5f238fe5d'),\n",
       "  'comments': [{'msg': 'html is good', 'name': 'peter'}],\n",
       "  'level': 3.0,\n",
       "  'subject': 'html'},\n",
       " {'_id': ObjectId('5b5186b8def974a5f238fe5a'),\n",
       "  'comments': [{'msg': 'bad', 'name': 'jin'}, {'msg': 'hi', 'name': 'alice'}],\n",
       "  'level': 1.0,\n",
       "  'subject': 'r'},\n",
       " {'_id': ObjectId('5b5186b8def974a5f238fe5e'),\n",
       "  'comments': [{'msg': 'hello', 'name': 'alice'}],\n",
       "  'level': 1.0,\n",
       "  'subject': 'css'},\n",
       " {'_id': ObjectId('5b5186b8def974a5f238fe5f'),\n",
       "  'comments': [{'msg': 'hello', 'name': 'alice'}],\n",
       "  'level': 1.0,\n",
       "  'subject': 'python'},\n",
       " {'_id': ObjectId('5b595a10638351fe9bd415bf'),\n",
       "  'comments': [{'msg': 'hello', 'name': 'alice'}],\n",
       "  'level': 1.0,\n",
       "  'subject': 'less'}]"
      ]
     },
     "execution_count": 28,
     "metadata": {},
     "output_type": "execute_result"
    }
   ],
   "source": [
    "# sort - 정렬\n",
    "documents = collection.find({\"level\":{\"$lte\":3}}).sort(\"level\", pymongo.DESCENDING)\n",
    "list(documents)"
   ]
  },
  {
   "cell_type": "code",
   "execution_count": 29,
   "metadata": {},
   "outputs": [
    {
     "data": {
      "text/plain": [
       "(-1, 1)"
      ]
     },
     "execution_count": 29,
     "metadata": {},
     "output_type": "execute_result"
    }
   ],
   "source": [
    "pymongo.DESCENDING, pymongo.ASCENDING"
   ]
  },
  {
   "cell_type": "markdown",
   "metadata": {},
   "source": [
    "### insert"
   ]
  },
  {
   "cell_type": "code",
   "execution_count": 32,
   "metadata": {},
   "outputs": [
    {
     "data": {
      "text/plain": [
       "ObjectId('5b596811429ebb04e4cc4b33')"
      ]
     },
     "execution_count": 32,
     "metadata": {},
     "output_type": "execute_result"
    }
   ],
   "source": [
    "# insert_one\n",
    "data = {\"subject\":\"css\", \"level\":1, \"comments\":[{\"name\":\"peter\",\"msg\":\"easy\"}]}\n",
    "result = collection.insert_one(data)\n",
    "result.inserted_id"
   ]
  },
  {
   "cell_type": "code",
   "execution_count": 33,
   "metadata": {},
   "outputs": [
    {
     "data": {
      "text/plain": [
       "<pymongo.results.InsertManyResult at 0x2172d7cf8b8>"
      ]
     },
     "execution_count": 33,
     "metadata": {},
     "output_type": "execute_result"
    }
   ],
   "source": [
    "#insert_many\n",
    "datas = [\n",
    "    {\"subject\":\"webpack\", \"level\":2, \"comments\":[{\"name\":\"peter\",\"msg\":\"easy\"}]},\n",
    "    {\"subject\":\"gulp\", \"level\":3, \"comments\":[{\"name\":\"peter\",\"msg\":\"easy\"}]},\n",
    "    {\"subject\":\"hahaha\", \"level\":4, \"comments\":[{\"name\":\"peter\",\"msg\":\"easy\"}]},\n",
    "]\n",
    "result = collection.insert_many(datas)\n",
    "result"
   ]
  },
  {
   "cell_type": "markdown",
   "metadata": {},
   "source": [
    "## 보너스 : 직방데이터 크롤링 후 저장~!"
   ]
  },
  {
   "cell_type": "code",
   "execution_count": null,
   "metadata": {},
   "outputs": [],
   "source": [
    "url = 'https://api.zigbang.com/v3/items?detail=true&item_ids=[12247138,12268011,12269100,12227065,12253070,12150440,12229549,12248873,12274665,12231989,12217749,12087003,11932242,12203883,12251372,12253859,12270993,12206949,12211602,12217708,12254130,12193703,12247672,12247355,12168058,12066173,12230618,12007461,12039940,12271061,12077479,12251672,12234265,12214940,12216385,12269033,12226910,12254133,12153257,11881108,12251797,12243949,12195037,12038915,12239822,12251676,11892233,12229639,12115547,12257609,12137098,12205764,12088126,12268429,12257981,11616166,12259043,12229167,12254380,11997766]'\n"
   ]
  },
  {
   "cell_type": "code",
   "execution_count": null,
   "metadata": {},
   "outputs": [],
   "source": []
  }
 ],
 "metadata": {
  "kernelspec": {
   "display_name": "Python 3",
   "language": "python",
   "name": "python3"
  },
  "language_info": {
   "codemirror_mode": {
    "name": "ipython",
    "version": 3
   },
   "file_extension": ".py",
   "mimetype": "text/x-python",
   "name": "python",
   "nbconvert_exporter": "python",
   "pygments_lexer": "ipython3",
   "version": "3.6.3"
  }
 },
 "nbformat": 4,
 "nbformat_minor": 2
}
