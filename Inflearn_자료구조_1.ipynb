{
 "cells": [
  {
   "cell_type": "code",
   "execution_count": 1,
   "metadata": {},
   "outputs": [
    {
     "data": {
      "text/plain": [
       "'\\ncollections모듈\\n    deque(양쪽이 열린 큐구조), defaultdict, Counter, namedtuple, OrderedDict\\n\\narray모듈\\n\\n\\nheapq모듈\\n\\n\\nbisect모듈(정렬된상태로 요소를 추가, 중복값 처리)\\n\\nQueue\\n\\nstruct\\n\\ncopy\\n\\n\\ncollections\\n\\n\\n\\n'"
      ]
     },
     "execution_count": 1,
     "metadata": {},
     "output_type": "execute_result"
    }
   ],
   "source": [
    "'''\n",
    "collections모듈\n",
    "    deque(양쪽이 열린 큐구조), defaultdict, Counter, namedtuple, OrderedDict\n",
    "\n",
    "\n",
    "array모듈\n",
    "\n",
    "\n",
    "heapq모듈\n",
    "\n",
    "\n",
    "bisect모듈(정렬된상태로 요소를 추가, 중복값 처리)\n",
    "\n",
    "Queue\n",
    "\n",
    "struct\n",
    "\n",
    "copy\n",
    "\n",
    "Unpacking\n",
    "\n",
    "'''"
   ]
  },
  {
   "cell_type": "markdown",
   "metadata": {},
   "source": [
    "## Collections\n",
    "\n",
    "- Counter (동일자료값의 갯수 파악하는데 사용하는 자료형)\n",
    "    - .most_common(n)상위 n개의 value,key 가져옴\n",
    "    - .update(k) k를 추가하여 반영함\n",
    "    - 산술연산이 가능하다(즉 집합간의 차집합, 중복합집합, 교집합(&) 중복제거합집합(|)이 가능하다는 소리!)\n",
    "\n",
    "- defaultdict (기본값이 존재하는 dict형태 : 없는 key값을 찾는경우에 디폴트값 보여줌 => 그냥 dict쓰는것보다 유용할 수 있음 == 오오 좋다)\n",
    "   \n",
    "- Deque : 양방향 큐의 개념. 앞뒤에 아이템을 넣거나 뺄 수 있음 (동시진행되는 프로그램의 경우 FIFO를 구현할때나 순서대로처리하는게 필요한경우 매우 유용할듯)\n",
    "\n",
    "- namedtuple : 튜플의 내용에 이름을 지어주어 순서가 뒤바뀌어도 찾아쓸 수 있도록 함\n",
    "\n",
    "- OrderedDict : 자료의 입력순서를 기억하는 사전형 클래스.(일반 dict와는 입력순서를 기억한다는 차이가 있다.)\n",
    "    \n"
   ]
  },
  {
   "cell_type": "code",
   "execution_count": 13,
   "metadata": {},
   "outputs": [
    {
     "name": "stdout",
     "output_type": "stream",
     "text": [
      "a =  Counter({'aa': 2, 'cc': 1, 'dd': 1, 'bb': 1, 'ee': 1})\n",
      "b =  Counter({0: 6, 1: 6, 2: 6, 3: 6, 4: 6, 5: 6, 6: 6, 7: 6, 8: 6, 9: 6, 10: 6, 11: 6, 12: 6, 13: 6, 14: 6, 15: 6, 16: 6, 17: 6, 18: 6, 19: 6, 20: 6, 21: 6, 22: 6, 23: 6, 24: 6, 25: 5, 26: 5, 27: 5, 28: 5, 29: 5, 30: 5, 31: 5, 32: 5, 33: 5, 34: 5})\n",
      "c =  Counter({'다': 7, '나': 4, '가': 3})\n",
      "d =  Counter({'k': 9, 'j': 4, 'i': 1})\n",
      "Counter({'다': 3, '나': 2, '가라가': 1})\n"
     ]
    }
   ],
   "source": [
    "#Counter : 컨테이너에 동일한 값의 자료가 몇개인지를 파악하는데 사용하는 함수\n",
    "\n",
    "import collections\n",
    "\n",
    "a = collections.Counter(['aa','cc','dd','aa','bb','ee'])\n",
    "\n",
    "print(\"a = \", a)\n",
    "\n",
    "\n",
    "b = collections.Counter([i%35 for i in range(0,200)])\n",
    "\n",
    "print(\"b = \", b)\n",
    "\n",
    "\n",
    "c = collections.Counter({\"가\":3, \"나\":4, \"다\":7})\n",
    "\n",
    "print(\"c = \", c)\n",
    "\n",
    "\n",
    "d = collections.Counter(i=1, j=4, k=9)  ##응???\n",
    "\n",
    "print(\"d = \", d)\n",
    "\n",
    "\n",
    "e = collections.Counter(가라가=1,나=2,다=3) ## 오오오....\n",
    "\n",
    "print(e)\n",
    "\n"
   ]
  },
  {
   "cell_type": "code",
   "execution_count": 15,
   "metadata": {},
   "outputs": [
    {
     "name": "stdout",
     "output_type": "stream",
     "text": [
      "Counter({'ㅋ': 3, '가': 2, '니': 1, '라': 1, '하': 1, '와': 1, '이': 1})\n",
      "Counter({'ㅋ': 6, '가': 3, '라': 2, '니': 1, '하': 1, '와': 1, '이': 1, '어': 1, '딜': 1, '고': 1, '?': 1})\n"
     ]
    }
   ],
   "source": [
    "#Counter의 개쩌는 거 보여줄까? (이걸로 같은 글자수 측정가능 ㅋㅋㅋ)\n",
    "\n",
    "f = collections.Counter()\n",
    "\n",
    "f.update(\"니가가라하와이ㅋㅋㅋ\")\n",
    "\n",
    "print(f)\n",
    "\n",
    "f.update(\"어딜가라고?ㅋㅋㅋ\")\n",
    "\n",
    "print(f)"
   ]
  },
  {
   "cell_type": "code",
   "execution_count": 24,
   "metadata": {},
   "outputs": [
    {
     "name": "stdout",
     "output_type": "stream",
     "text": [
      "f: 1\n",
      "r: 3\n",
      "o: 1\n",
      "g: 1\n",
      "['r', 'r', 'r', 'e', 'e', 'f', 'i', 'd', 'g', 'a', 't', 'o']\n"
     ]
    }
   ],
   "source": [
    "#Counter 접근하기\n",
    "\n",
    "g = collections.Counter()\n",
    "\n",
    "g.update(\"refridgeator\")\n",
    "\n",
    "for n in \"frog\":   #와씨... 좋다이거.. 찾으려는 글자를 문자열로 정해놓고 차례로 카운터에서 찾기\n",
    "    print('%s: %d' %(n,g[n]))\n",
    "    \n",
    "print(list(g.elements()))"
   ]
  },
  {
   "cell_type": "code",
   "execution_count": 30,
   "metadata": {},
   "outputs": [
    {
     "name": "stdout",
     "output_type": "stream",
     "text": [
      "Counter({'o': 8, 'g': 7, 'n': 5, 'd': 4, 'e': 4, ' ': 4, '!': 3, 'i': 3, 'h': 2, 'l': 2, 'a': 1, 'b': 1, 'c': 1, 'f': 1, 'm': 1, 'r': 1, 't': 1, 'v': 1, '~': 1})\n",
      "o :  8\n",
      "g :  7\n",
      "n :  5\n",
      "d :  4\n",
      "e :  4\n"
     ]
    }
   ],
   "source": [
    "#Counter 외부자료 가져오기 응용\n",
    "\n",
    "h = collections.Counter()\n",
    "\n",
    "with open('text1.txt', 'rt') as f:\n",
    "    for li in f:\n",
    "        h.update(li.rstrip().lower())\n",
    "    \n",
    "print(h)    \n",
    "\n",
    "for item, cnt in h.most_common(5):   #잠깐!! most_common(5) 상위 5개의 아이템, 빈도수를 모두 출력(dict형을 출력할때 key,value값 출력된다고 보면 됨)\n",
    "    print('%s : %2d' %(item, cnt))\n",
    "    "
   ]
  },
  {
   "cell_type": "code",
   "execution_count": 34,
   "metadata": {},
   "outputs": [
    {
     "name": "stdout",
     "output_type": "stream",
     "text": [
      "하이하이\n",
      "없는 값을 찾으려고 호출했냐??\n"
     ]
    }
   ],
   "source": [
    "#defaultdict 기본값으로 주어지는 함수등을 넣을 수 있음(단 호출형식이 아닌 함수명만 기재)\n",
    "\n",
    "def default_aa():\n",
    "    return \"없는 값을 찾으려고 호출했냐??\"\n",
    "\n",
    "dic = collections.defaultdict(default_aa, n1 = '하이하이')\n",
    "\n",
    "print(dic['n1'])\n",
    "\n",
    "print(dic['뭐없냐'])"
   ]
  },
  {
   "cell_type": "code",
   "execution_count": 40,
   "metadata": {},
   "outputs": [
    {
     "name": "stdout",
     "output_type": "stream",
     "text": [
      "deque(['H', 'e', 'l', 'l', 'o', ' ', 'p', 'y', 't', 'h', 'o', 'n', '!', '!'])\n",
      "deque(['H', 'e', 'l', 'l', ' ', 'p', 'y', 't', 'h', 'o', 'n', '!', '!'])\n",
      "deque(['H', 'e', 'l', 'l', ' ', 'p', 'y', 't', 'h', 'o', 'n', '!', '!', 'k'])\n",
      "deque(['k', 'H', 'e', 'l', 'l', ' ', 'p', 'y', 't', 'h', 'o', 'n', '!', '!', 'k'])\n",
      "deque(['D', 'k', 'H', 'e', 'l', 'l', ' ', 'p', 'y', 't', 'h', 'o', 'n', '!', '!', 'k'])\n"
     ]
    }
   ],
   "source": [
    "#Deque : 양방향 큐(데트)는 컨테이너 양쪽(앞뒤)에 아이템을 넣거나 뺄 수 있다.\n",
    "\n",
    "import collections\n",
    "\n",
    "deq = collections.deque(\"Hello python!!\")\n",
    "\n",
    "print(deq)\n",
    "\n",
    "deq.remove('o')\n",
    "\n",
    "print(deq)\n",
    "\n",
    "deq.append('k')\n",
    "\n",
    "print(deq)\n",
    "\n",
    "deq.appendleft('k')\n",
    "\n",
    "print(deq)\n",
    "\n",
    "deq.extendleft('D')\n",
    "\n",
    "print(deq)"
   ]
  },
  {
   "cell_type": "code",
   "execution_count": 46,
   "metadata": {},
   "outputs": [
    {
     "name": "stdout",
     "output_type": "stream",
     "text": [
      "아 좋 가 티 키 차 자 아 사 바 마 라 다 나 가 \n",
      "가 나 다 라 마 바 사 아 자 차 키 티 가 좋 아 "
     ]
    }
   ],
   "source": [
    "#Deque 아이템 꺼내기\n",
    "\n",
    "deq1 = collections.deque()\n",
    "\n",
    "deq1.extend(\"가나다라마바사아자차키티가좋아\")\n",
    "\n",
    "while True:\n",
    "    try:\n",
    "        print(deq1.pop(), end = \" \")\n",
    "    except IndexError:\n",
    "        break\n",
    "\n",
    "print(\"\")\n",
    "\n",
    "deq1.extend(\"가나다라마바사아자차키티가좋아\")\n",
    "\n",
    "while True:\n",
    "    try:\n",
    "        print(deq1.popleft(), end = \" \")\n",
    "    except IndexError:\n",
    "        break"
   ]
  },
  {
   "cell_type": "code",
   "execution_count": 49,
   "metadata": {},
   "outputs": [
    {
     "name": "stdout",
     "output_type": "stream",
     "text": [
      "홍길동은(는) 24세의 남성 입니다.\n",
      "강복녀은(는) 21세의 여성 입니다.\n",
      "강길동은(는) 25세이며 성은 남자입니다\n",
      "강길녀은(는) 21세이며 성은 여자입니다\n"
     ]
    }
   ],
   "source": [
    "#namedtuple\n",
    "\n",
    "\n",
    "# 일반튜플사용시...\n",
    "aa = ('홍길동', 24, \"남\")\n",
    "bb = ('강복녀', 21, \"여\")\n",
    "\n",
    "for n in [aa,bb]:\n",
    "    print(\"%s은(는) %d세의 %s성 입니다.\" %n)\n",
    "# 일반적인 튜플은 이런 순서가 바뀔수도 있는 가능성이 있다.\n",
    "\n",
    "\n",
    "import collections\n",
    "\n",
    "Person = collections.namedtuple(\"Person\", 'name age gender')\n",
    "\n",
    "aa = Person(name=\"강길동\", age=\"25\", gender=\"남자\")\n",
    "bb = Person(name=\"강길녀\", age=\"21\", gender=\"여자\")\n",
    "\n",
    "for n in [aa, bb]:\n",
    "    print(\"%s은(는) %s세이며 성은 %s입니다\" %n)"
   ]
  },
  {
   "cell_type": "code",
   "execution_count": 57,
   "metadata": {},
   "outputs": [
    {
     "name": "stdout",
     "output_type": "stream",
     "text": [
      "서울 에는 LG트윈스\n",
      "대구 에는 삼성라이온즈\n",
      "광주 에는 기아타이거즈\n",
      "서울2 에는 넥센히어로즈\n",
      "-------------------\n",
      "서울 에는 두산베어스\n",
      "대구 에는 삼성라이온즈\n",
      "광주 에는 기아타이거즈\n",
      "서울2 에는 넥센히어로즈\n"
     ]
    }
   ],
   "source": [
    "#orderedDict 자료의 입력순서를 기억하는 사전형 클래스\n",
    "\n",
    "dic = {}\n",
    "\n",
    "dic[\"서울\"] = \"LG트윈스\"\n",
    "dic[\"대구\"] = \"삼성라이온즈\"\n",
    "dic[\"광주\"] = \"기아타이거즈\"\n",
    "dic[\"서울2\"] = \"넥센히어로즈\"\n",
    "\n",
    "for i,j in dic.items():\n",
    "    print(i,\"에는\",j)\n",
    "\n",
    "print(\"-------------------\")\n",
    "    \n",
    "dic1 = collections.OrderedDict()\n",
    "\n",
    "dic1[\"서울\"] = \"두산베어스\"\n",
    "dic1[\"대구\"] = \"삼성라이온즈\"\n",
    "dic1[\"광주\"] = \"기아타이거즈\"\n",
    "dic1[\"서울2\"] = \"넥센히어로즈\"\n",
    "for i,j in dic1.items():\n",
    "    print(i,\"에는\",j)\n",
    "    \n",
    "\n"
   ]
  },
  {
   "cell_type": "markdown",
   "metadata": {},
   "source": [
    "---\n",
    "- (참고)pprint : 자료구조볼때 활용하면 보기 편하다\n",
    "\n",
    "## Array\n",
    "\n",
    "## heapq\n",
    "\n",
    "## bisect\n"
   ]
  },
  {
   "cell_type": "code",
   "execution_count": 59,
   "metadata": {},
   "outputs": [
    {
     "name": "stdout",
     "output_type": "stream",
     "text": [
      "[(1, {'a': '가', 'b': '나', 'c': '다', 'd': '라'}), (2, {'e': '마', 'f': '바', 'g': '사', 'h': '아'})]\n",
      "[(1, {'a': '가', 'b': '나', 'c': '다', 'd': '라'}),\n",
      " (2, {'e': '마', 'f': '바', 'g': '사', 'h': '아'})]\n"
     ]
    }
   ],
   "source": [
    "# pprint : 사람이 자료구조를 보기 좋게 출력하는 모듈\n",
    "\n",
    "data = [(1,{\"a\":\"가\", \"b\":\"나\", \"c\":\"다\", \"d\":\"라\"}),\n",
    "        (2,{\"e\":\"마\",\"f\":\"바\",\"g\":\"사\",\"h\":\"아\"})\n",
    "       ]\n",
    "\n",
    "print(data)\n",
    "\n",
    "from pprint import pprint\n",
    "\n",
    "pprint(data)"
   ]
  },
  {
   "cell_type": "code",
   "execution_count": 67,
   "metadata": {},
   "outputs": [
    {
     "name": "stdout",
     "output_type": "stream",
     "text": [
      "array('u', 'abcdefg')\n",
      "bBuhHiIlLqQfd\n",
      "array('i', [0, 1, 2, 3, 4])\n",
      "array('i', [0, 1, 2, 3, 4, 0, 1, 2, 3, 4])\n",
      "array('i', [3, 4, 0])\n"
     ]
    },
    {
     "data": {
      "text/plain": [
       "[(0, 0),\n",
       " (1, 1),\n",
       " (2, 2),\n",
       " (3, 3),\n",
       " (4, 4),\n",
       " (5, 0),\n",
       " (6, 1),\n",
       " (7, 2),\n",
       " (8, 3),\n",
       " (9, 4)]"
      ]
     },
     "execution_count": 67,
     "metadata": {},
     "output_type": "execute_result"
    }
   ],
   "source": [
    "# Array\n",
    "\n",
    "# array : 시퀀스 자료구조를 정의하는데, list와의 차이점은 모든 자료형이 동일해야함\n",
    "\n",
    "import array\n",
    "\n",
    "s = \"abcdefg\"\n",
    "\n",
    "arr = array.array(\"u\", s) #array(타입코드, 값) __ 타입은 \n",
    "\n",
    "print(arr)\n",
    "\n",
    "print(array.typecodes) #어떤 타입코드가 있는지 알 수 있음.\n",
    "\n",
    "arr1 = array.array(\"i\", range(5))\n",
    "\n",
    "print(arr1)\n",
    "\n",
    "arr1.extend(range(5))\n",
    "\n",
    "print(arr1)\n",
    "\n",
    "print(arr1[3:6])\n",
    "\n",
    "list(enumerate(arr1))"
   ]
  },
  {
   "cell_type": "code",
   "execution_count": 72,
   "metadata": {},
   "outputs": [
    {
     "name": "stdout",
     "output_type": "stream",
     "text": [
      "array('i', [0, 1, 2, 3, 4])\n",
      "b'0000000001000000020000000300000004000000'\n",
      "array('i', [0, 1, 2, 3, 4])\n"
     ]
    }
   ],
   "source": [
    "import array\n",
    "\n",
    "import binascii\n",
    "\n",
    "arr = array.array('i',range(5))\n",
    "\n",
    "print(arr)\n",
    "\n",
    "f = open(\"text2.txt\",\"w+b\") #w+b바이너리모드로 열기\n",
    "arr.tofile(f) #tofile(파일객체) : 파일객체에 쓰는 함수\n",
    "f.flush() # 내용을 파일에 모두 쓰고 버퍼에 있는 모든 내용을 지움\n",
    "\n",
    "with open(\"text2.txt\", \"rb\") as f1:\n",
    "    data = f1.read()\n",
    "    print(binascii.hexlify(data))\n",
    "    \n",
    "    f1.seek(0)\n",
    "    arr2 = array.array('i')\n",
    "    arr2.fromfile(f1, len(arr))\n",
    "    \n",
    "    print(arr2)\n",
    "\n"
   ]
  },
  {
   "cell_type": "code",
   "execution_count": null,
   "metadata": {},
   "outputs": [],
   "source": [
    "#힙정렬 알고리즘(트리구조에서 정렬하는방식)\n",
    "\n",
    "#max_heap, min_heap(파이썬에서 제공하는건 min_heap구조 제공)\n",
    "\n",
    "\n",
    "# 그만 알아보자....\n",
    "\n"
   ]
  },
  {
   "cell_type": "code",
   "execution_count": 8,
   "metadata": {},
   "outputs": [
    {
     "name": "stdout",
     "output_type": "stream",
     "text": [
      "0.1071 / 0.9902 / 0.2291 / 0.2057 / 0.2030 / New Index List\n",
      "==============\n",
      " 65   0 [65]\n",
      " 59   0 [59, 65]\n",
      " 73   2 [59, 65, 73]\n",
      " 73   3 [59, 65, 73, 73]\n",
      " 95   4 [59, 65, 73, 73, 95]\n",
      " 98   5 [59, 65, 73, 73, 95, 98]\n",
      " 31   0 [31, 59, 65, 73, 73, 95, 98]\n",
      "100   7 [31, 59, 65, 73, 73, 95, 98, 100]\n",
      " 65   3 [31, 59, 65, 65, 73, 73, 95, 98, 100]\n",
      " 40   1 [31, 40, 59, 65, 65, 73, 73, 95, 98, 100]\n",
      "  3   0 [3, 31, 40, 59, 65, 65, 73, 73, 95, 98, 100]\n",
      " 25   1 [3, 25, 31, 40, 59, 65, 65, 73, 73, 95, 98, 100]\n",
      " 84   9 [3, 25, 31, 40, 59, 65, 65, 73, 73, 84, 95, 98, 100]\n",
      " 47   4 [3, 25, 31, 40, 47, 59, 65, 65, 73, 73, 84, 95, 98, 100]\n"
     ]
    }
   ],
   "source": [
    "# random.seed()사용하기\n",
    "# bisect 사용하기\n",
    "import random\n",
    "import bisect\n",
    "\n",
    "random.seed() #이 시드안에 아무것도 넣지 않으면 시간에 따른 랜덤값이 나옴,\n",
    "              # 시드값을 주게되면 특정한 규칙에 따라 난수를 발생시킨다. 어찌보면 난수라고 하기는 좀 곤란하지만\n",
    "              # 특정한 데이터를 받거나 검증하기위해 사용이 용이하다.\n",
    "\n",
    "for i in range(5):\n",
    "    print('%5.4f' %random.random(), end=\" / \")\n",
    "\n",
    "print('New Index List')\n",
    "print('==============')\n",
    "\n",
    "li=[]\n",
    "\n",
    "for i in range(1,15):\n",
    "    num = random.randint(1,100)\n",
    "    pos = bisect.bisect(li,num) #아이템이 추가되었을때 인덱스값 리턴\n",
    "    bisect.insort(li,num) #리스트를 정렬상태로 유지시키는 함수\n",
    "    \n",
    "#     pos = bisect.bisect_left(li,num) #왼쪽에 넣기~\n",
    "#     bisect.insort_left(li,num) #왼쪽에 넣기~\n",
    "    print('%3d %3d' %(num, pos), li)\n",
    "    "
   ]
  },
  {
   "cell_type": "markdown",
   "metadata": {},
   "source": [
    "## Queue\n",
    "\n",
    "- FIFO방식의 자료형 (stack은 LIFO)\n",
    "\n",
    "- heapq모듈을 활용한 Queue구현"
   ]
  },
  {
   "cell_type": "code",
   "execution_count": 120,
   "metadata": {},
   "outputs": [
    {
     "name": "stdout",
     "output_type": "stream",
     "text": [
      "0 1 2 3 4  <--(처음넣은게 먼저 나온다 FIFO)\n",
      "4 3 2 1 0  <--(마지막에 넣은게 먼저 나온다 LIFO)\n"
     ]
    }
   ],
   "source": [
    "import queue     #put으로 넣고 get으로 뺀다\n",
    "\n",
    "q = queue.Queue() #일반적인 큐 선언!\n",
    "\n",
    "for i in range(5):\n",
    "    q.put(i)\n",
    "    \n",
    "while not q.empty():\n",
    "    print(q.get(), end=' ')\n",
    "print(\" <--(처음넣은게 먼저 나온다 FIFO)\")\n",
    "    \n",
    "\n",
    "    \n",
    "#LIFO 큐도 작성가능----------------\n",
    "\n",
    "lq = queue.LifoQueue() #LIFO큐 선언!\n",
    "\n",
    "for i in range(5):\n",
    "    lq.put(i)\n",
    "    \n",
    "while not lq.empty():\n",
    "    print(lq.get(),end=\" \")\n",
    "print(\" <--(마지막에 넣은게 먼저 나온다 LIFO)\")\n",
    "    "
   ]
  },
  {
   "cell_type": "code",
   "execution_count": 6,
   "metadata": {
    "scrolled": true
   },
   "outputs": [
    {
     "name": "stdout",
     "output_type": "stream",
     "text": [
      "[(1, 1, Item('홍길동')), (3, 0, Item('임꺽정')), (2, 2, Item('장길산')), (3, 3, Item('일지매'))]\n",
      "(1, 1, Item('홍길동'))\n",
      "(2, 2, Item('장길산'))\n",
      "(3, 0, Item('임꺽정'))\n",
      "(3, 3, Item('일지매'))\n"
     ]
    }
   ],
   "source": [
    "#heapq로 큐 구현하기\n",
    "\n",
    "import heapq\n",
    "\n",
    "class PriorityQueue:\n",
    "    def __init__(self):\n",
    "        self.list=[]\n",
    "        self.idx=0\n",
    "        \n",
    "    def put(self,item,priority):\n",
    "        heapq.heappush(self.list,(priority, self.idx, item))\n",
    "        self.idx +=1\n",
    "        \n",
    "    def pop(self):\n",
    "        return heapq.heappop(self.list)\n",
    "        \n",
    "class Item:\n",
    "    def __init__(self, name):\n",
    "        self.name = name\n",
    "    def __repr__(self):\n",
    "        return \"Item({!r})\".format(self.name) #!r은 repr()호출하는것과 같음\n",
    "                                            #!s는 srt()호출하는것과 같음\n",
    "                                            #!a는 ascii로 변환하는것과 같음\n",
    "\n",
    "pQ = PriorityQueue()\n",
    "\n",
    "pQ.put(Item(\"임꺽정\"),3)\n",
    "pQ.put(Item(\"홍길동\"),1)\n",
    "pQ.put(Item(\"장길산\"),2)\n",
    "pQ.put(Item(\"일지매\"),3)\n",
    "\n",
    "print(pQ.list)\n",
    "\n",
    "print(pQ.pop())\n",
    "print(pQ.pop())\n",
    "print(pQ.pop())\n",
    "print(pQ.pop())"
   ]
  },
  {
   "cell_type": "markdown",
   "metadata": {},
   "source": [
    "# Unpacking과 특정값 가져오기"
   ]
  },
  {
   "cell_type": "code",
   "execution_count": 16,
   "metadata": {},
   "outputs": [
    {
     "name": "stdout",
     "output_type": "stream",
     "text": [
      "1\n",
      "2\n",
      "홍길동\n",
      "23\n",
      "서울\n",
      "1980\n",
      "11 21\n"
     ]
    }
   ],
   "source": [
    "#unpacking \n",
    "\n",
    "\n",
    "pa = (1,2)\n",
    "\n",
    "a, b = pa\n",
    "\n",
    "print(a)\n",
    "print(b)\n",
    "\n",
    "#위의 내용을 응용하여 아래와 같은 언패킹 가능\n",
    "\n",
    "li_data = [\"홍길동\", 23, \"서울\", (1980, 11, 21)]\n",
    "name, age, local, (year, month, day) = li_data\n",
    "\n",
    "print(name)\n",
    "print(age)\n",
    "print(local)\n",
    "print(year)\n",
    "print(month, day)\n"
   ]
  },
  {
   "cell_type": "code",
   "execution_count": 24,
   "metadata": {},
   "outputs": [
    {
     "name": "stdout",
     "output_type": "stream",
     "text": [
      "홍길동\n",
      "서울\n",
      "-------\n",
      "장길산\n",
      "ekerl@naver.com\n",
      "['010-1234-1233', '02-456-1186']\n",
      "-------\n",
      "[10, 5, 12, 11, 22, 14, 12, 15, 10, 10, 15, 14]\n",
      "15\n",
      "-------\n",
      "우 234 123\n",
      "도 서울\n",
      "도 경기\n",
      "우 123 455\n",
      "-------\n",
      "김민우\n",
      "31\n",
      "서울\n",
      "-------\n",
      "홍길동\n",
      "1980\n",
      "-------\n"
     ]
    }
   ],
   "source": [
    "#_을 이용하여 특정값을 무시하거나 *을 이룔하여 여러개를 언패킹하기\n",
    "\n",
    "li_data = [\"홍길동\", 23, \"서울\", (1980, 11, 21)]\n",
    "name, _, local, _ = li_data\n",
    "\n",
    "print(name)\n",
    "print(local)\n",
    "print(\"-------\")\n",
    "\n",
    "#나머지값 다 가져오기-----------\n",
    "\n",
    "person_info = (\"장길산\", \"ekerl@naver.com\", \"010-1234-1233\", \"02-456-1186\")\n",
    "\n",
    "name,email,*phone = person_info\n",
    "\n",
    "print(name)\n",
    "print(email)\n",
    "print(phone)\n",
    "print(\"-------\")\n",
    "\n",
    "#다 가져오고 마지막값 따로 가져오기-----------\n",
    "\n",
    "pointValue = [10, 5, 12, 11, 22, 14, 12, 15 ,10, 10, 15, 14, 15]\n",
    "\n",
    "*prePoint, curPoint = pointValue\n",
    "\n",
    "print(prePoint)\n",
    "print(curPoint)\n",
    "print(\"-------\")\n",
    "\n",
    "#---------------\n",
    "\n",
    "address = [(\"우\",234,123),(\"도\",\"서울\"),(\"도\", \"경기\"),(\"우\",123, 455)]\n",
    "\n",
    "def show_zipcode(num1,num2):\n",
    "    print(\"우\",num1,num2)\n",
    "def show_local(str):\n",
    "    print(\"도\",str)\n",
    "    \n",
    "for key, *arg in address:\n",
    "    if key == \"우\":\n",
    "        show_zipcode(*arg)\n",
    "    elif key == \"도\":\n",
    "        show_local(*arg)\n",
    "        \n",
    "print(\"-------\")\n",
    "\n",
    "str2 = \"김민우/31/1234567899000/881123-1992342/010-9922-4098/서울\"\n",
    "\n",
    "name,age,*num,local = str2.split(\"/\")\n",
    "\n",
    "print(name)\n",
    "print(age)\n",
    "print(local)\n",
    "print(\"-------\")\n",
    "#--------  *_  <-- 모두생략하기\n",
    "\n",
    "li_data = [\"홍길동\", 23, \"서울\", (1980, 11, 21)]\n",
    "name, *_, (year, *_) = li_data\n",
    "\n",
    "print(name)\n",
    "print(year)\n",
    "print(\"-------\")\n",
    "\n",
    "\n"
   ]
  },
  {
   "cell_type": "code",
   "execution_count": null,
   "metadata": {},
   "outputs": [],
   "source": []
  },
  {
   "cell_type": "code",
   "execution_count": null,
   "metadata": {},
   "outputs": [],
   "source": []
  }
 ],
 "metadata": {
  "kernelspec": {
   "display_name": "Python 3",
   "language": "python",
   "name": "python3"
  },
  "language_info": {
   "codemirror_mode": {
    "name": "ipython",
    "version": 3
   },
   "file_extension": ".py",
   "mimetype": "text/x-python",
   "name": "python",
   "nbconvert_exporter": "python",
   "pygments_lexer": "ipython3",
   "version": "3.6.3"
  }
 },
 "nbformat": 4,
 "nbformat_minor": 2
}
