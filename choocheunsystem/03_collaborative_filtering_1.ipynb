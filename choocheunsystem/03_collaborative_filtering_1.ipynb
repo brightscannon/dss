{
 "cells": [
  {
   "cell_type": "markdown",
   "metadata": {},
   "source": [
    "#### Dataframe\n",
    "- sample_df : 샘플 데이터\n",
    "- sm_df : 유사도\n",
    "- closer_count : 유사한 사용자 평균\n",
    "- ms_df : 유사도 평균값\n",
    "- pred_df : 예측값\n",
    "- recommend_df : 추천결과"
   ]
  },
  {
   "cell_type": "markdown",
   "metadata": {},
   "source": [
    "##### Process\n",
    "1. 샘플데이터\n",
    "2. 유사도 행렬\n",
    "3. 유사도 평균값 행렬\n",
    "4. 예측 행렬\n",
    "5. 기사 추천 리스트\n",
    "6. 성능측정"
   ]
  },
  {
   "cell_type": "code",
   "execution_count": 1,
   "metadata": {},
   "outputs": [],
   "source": [
    "import numpy as np\n",
    "import pandas as pd\n",
    "from scipy import spatial"
   ]
  },
  {
   "cell_type": "markdown",
   "metadata": {},
   "source": [
    "### 1. 샘플데이터"
   ]
  },
  {
   "cell_type": "code",
   "execution_count": 2,
   "metadata": {
    "scrolled": true
   },
   "outputs": [
    {
     "data": {
      "text/html": [
       "<div>\n",
       "<style scoped>\n",
       "    .dataframe tbody tr th:only-of-type {\n",
       "        vertical-align: middle;\n",
       "    }\n",
       "\n",
       "    .dataframe tbody tr th {\n",
       "        vertical-align: top;\n",
       "    }\n",
       "\n",
       "    .dataframe thead th {\n",
       "        text-align: right;\n",
       "    }\n",
       "</style>\n",
       "<table border=\"1\" class=\"dataframe\">\n",
       "  <thead>\n",
       "    <tr style=\"text-align: right;\">\n",
       "      <th></th>\n",
       "      <th>article_1</th>\n",
       "      <th>article_2</th>\n",
       "      <th>article_3</th>\n",
       "      <th>article_4</th>\n",
       "      <th>article_5</th>\n",
       "      <th>article_6</th>\n",
       "    </tr>\n",
       "  </thead>\n",
       "  <tbody>\n",
       "    <tr>\n",
       "      <th>user_1</th>\n",
       "      <td>5</td>\n",
       "      <td>3</td>\n",
       "      <td>0</td>\n",
       "      <td>0</td>\n",
       "      <td>2</td>\n",
       "      <td>3</td>\n",
       "    </tr>\n",
       "    <tr>\n",
       "      <th>user_2</th>\n",
       "      <td>2</td>\n",
       "      <td>0</td>\n",
       "      <td>0</td>\n",
       "      <td>1</td>\n",
       "      <td>4</td>\n",
       "      <td>1</td>\n",
       "    </tr>\n",
       "    <tr>\n",
       "      <th>user_3</th>\n",
       "      <td>0</td>\n",
       "      <td>0</td>\n",
       "      <td>5</td>\n",
       "      <td>3</td>\n",
       "      <td>1</td>\n",
       "      <td>2</td>\n",
       "    </tr>\n",
       "    <tr>\n",
       "      <th>user_4</th>\n",
       "      <td>4</td>\n",
       "      <td>0</td>\n",
       "      <td>4</td>\n",
       "      <td>5</td>\n",
       "      <td>0</td>\n",
       "      <td>5</td>\n",
       "    </tr>\n",
       "    <tr>\n",
       "      <th>user_5</th>\n",
       "      <td>0</td>\n",
       "      <td>0</td>\n",
       "      <td>1</td>\n",
       "      <td>2</td>\n",
       "      <td>0</td>\n",
       "      <td>0</td>\n",
       "    </tr>\n",
       "  </tbody>\n",
       "</table>\n",
       "</div>"
      ],
      "text/plain": [
       "        article_1  article_2  article_3  article_4  article_5  article_6\n",
       "user_1          5          3          0          0          2          3\n",
       "user_2          2          0          0          1          4          1\n",
       "user_3          0          0          5          3          1          2\n",
       "user_4          4          0          4          5          0          5\n",
       "user_5          0          0          1          2          0          0"
      ]
     },
     "execution_count": 2,
     "metadata": {},
     "output_type": "execute_result"
    }
   ],
   "source": [
    "# 샘플 데이터에 대한 인덱스와 컬럼을 정의\n",
    "columns = [\"article_1\",\"article_2\",\"article_3\",\"article_4\",\"article_5\",\"article_6\"]\n",
    "index = [\"user_1\", \"user_2\", \"user_3\", \"user_4\", \"user_5\"]\n",
    "\n",
    "# 샘플 데이터에 대한 행렬을 만듦\n",
    "data = np.array([\n",
    "    [5,3,0,0,2,3],\n",
    "    [2,0,0,1,4,1],\n",
    "    [0,0,5,3,1,2],\n",
    "    [4,0,4,5,0,5],\n",
    "    [0,0,1,2,0,0],\n",
    "])\n",
    "\n",
    "# 샘플 데이터 프레임을 만듦\n",
    "sample_df = pd.DataFrame(data, columns=columns, index=index)\n",
    "sample_df"
   ]
  },
  {
   "cell_type": "markdown",
   "metadata": {},
   "source": [
    "### 2. 유사도 행렬"
   ]
  },
  {
   "cell_type": "markdown",
   "metadata": {},
   "source": [
    "- 0이 아닌 벡터 값에 대한 인덱스 교집합"
   ]
  },
  {
   "cell_type": "code",
   "execution_count": 3,
   "metadata": {},
   "outputs": [],
   "source": [
    "def intersect_nonzero(vector_1, vector_2):\n",
    "    \n",
    "    # vector_1과 vector_2에서 0이 아닌 위치 값을 구함\n",
    "    idx = np.intersect1d(vector_1.nonzero(), vector_2.nonzero())\n",
    "    \n",
    "    # vector_1과 vector_2에서 0 아닌 위치값에 있는 데이터를 대입\n",
    "    vector_1 = vector_1[idx]\n",
    "    vector_2 = vector_2[idx]\n",
    "    \n",
    "    return vector_1, vector_2"
   ]
  },
  {
   "cell_type": "code",
   "execution_count": 4,
   "metadata": {},
   "outputs": [
    {
     "data": {
      "text/plain": [
       "(array([5, 2, 3]), array([2, 4, 1]))"
      ]
     },
     "execution_count": 4,
     "metadata": {},
     "output_type": "execute_result"
    }
   ],
   "source": [
    "# test code 1\n",
    "intersect_nonzero(\n",
    "    sample_df.loc[\"user_1\"].values, \n",
    "    sample_df.loc[\"user_2\"].values,\n",
    ")"
   ]
  },
  {
   "cell_type": "code",
   "execution_count": 5,
   "metadata": {},
   "outputs": [
    {
     "data": {
      "text/plain": [
       "(array([], dtype=int64), array([], dtype=int64))"
      ]
     },
     "execution_count": 5,
     "metadata": {},
     "output_type": "execute_result"
    }
   ],
   "source": [
    "# test code 2\n",
    "intersect_nonzero(\n",
    "    sample_df.loc[\"user_1\"].values, \n",
    "    sample_df.loc[\"user_5\"].values,\n",
    ")"
   ]
  },
  {
   "cell_type": "markdown",
   "metadata": {},
   "source": [
    "- 유클리디안 거리 유사도"
   ]
  },
  {
   "cell_type": "code",
   "execution_count": 6,
   "metadata": {},
   "outputs": [],
   "source": [
    "def euclidean_similarity(vector_1, vector_2):  \n",
    "    \n",
    "    # 0이 아닌 벡터데이터 추출\n",
    "    vector_1, vector_2 = intersect_nonzero(vector_1, vector_2)\n",
    "    \n",
    "    # vector_1이나 vector_2의 데이터가 없을때 None을 return\n",
    "    if not(len(vector_1) or len(vector_2)):\n",
    "        return None\n",
    "    \n",
    "    # 유클리디안 거리 유사도 리턴\n",
    "    return np.linalg.norm(vector_1 - vector_2)"
   ]
  },
  {
   "cell_type": "code",
   "execution_count": 7,
   "metadata": {},
   "outputs": [
    {
     "name": "stdout",
     "output_type": "stream",
     "text": [
      "4.123105625617661\n"
     ]
    }
   ],
   "source": [
    "# test code 1\n",
    "result = euclidean_similarity(\n",
    "    sample_df.loc[\"user_1\"].values, \n",
    "    sample_df.loc[\"user_2\"].values,\n",
    ")\n",
    "print(result)"
   ]
  },
  {
   "cell_type": "code",
   "execution_count": 8,
   "metadata": {},
   "outputs": [
    {
     "name": "stdout",
     "output_type": "stream",
     "text": [
      "None\n"
     ]
    }
   ],
   "source": [
    "# test code 2\n",
    "result = euclidean_similarity(\n",
    "    sample_df.loc[\"user_1\"].values, \n",
    "    sample_df.loc[\"user_5\"].values,\n",
    ")\n",
    "print(result)"
   ]
  },
  {
   "cell_type": "markdown",
   "metadata": {},
   "source": [
    "- 코사인 유사도"
   ]
  },
  {
   "cell_type": "code",
   "execution_count": 9,
   "metadata": {},
   "outputs": [],
   "source": [
    "def cosine_similarity(vector_1, vector_2):\n",
    "    \n",
    "    # 0이 아닌 벡터데이터 추출\n",
    "    vector_1, vector_2 = intersect_nonzero(vector_1, vector_2)\n",
    "    \n",
    "    # vector_1이나 vector_2의 데이터가 없을때 가장 먼 거리 값이 -1을 대입\n",
    "    if not(len(vector_1) or len(vector_2)):\n",
    "        return -1\n",
    "    \n",
    "    return 1 - spatial.distance.cosine(vector_1, vector_2)"
   ]
  },
  {
   "cell_type": "code",
   "execution_count": 10,
   "metadata": {},
   "outputs": [
    {
     "name": "stdout",
     "output_type": "stream",
     "text": [
      "0.7433919416750282\n"
     ]
    }
   ],
   "source": [
    "# test code 1\n",
    "result = cosine_similarity(\n",
    "    sample_df.loc[\"user_1\"].values, \n",
    "    sample_df.loc[\"user_2\"].values,\n",
    ")\n",
    "print(result)"
   ]
  },
  {
   "cell_type": "code",
   "execution_count": 11,
   "metadata": {},
   "outputs": [
    {
     "name": "stdout",
     "output_type": "stream",
     "text": [
      "-1\n"
     ]
    }
   ],
   "source": [
    "# test code 2\n",
    "result = cosine_similarity(\n",
    "    sample_df.loc[\"user_1\"].values, \n",
    "    sample_df.loc[\"user_5\"].values,\n",
    ")\n",
    "print(result)"
   ]
  },
  {
   "cell_type": "markdown",
   "metadata": {},
   "source": [
    "- 유사도 행렬 함수 - similarity matrix"
   ]
  },
  {
   "cell_type": "code",
   "execution_count": 12,
   "metadata": {},
   "outputs": [],
   "source": [
    "def similarity_matrix(sample_df, similarity_func=cosine_similarity):\n",
    "\n",
    "    matrix = []\n",
    "    \n",
    "    for idx1, row1 in sample_df.iterrows():\n",
    "        row = []\n",
    "        for idx2, row2 in sample_df.iterrows():\n",
    "            row.append(similarity_func(row1.values, row2.values))\n",
    "        matrix.append(row)\n",
    "    \n",
    "    sm_df = pd.DataFrame(matrix, columns=sample_df.index, index=sample_df.index) \n",
    "    \n",
    "    # NaN 값은 최대 값으로 채움\n",
    "    sm_df.fillna(sm_df.max().max(), inplace=True)\n",
    "    \n",
    "    return sm_df"
   ]
  },
  {
   "cell_type": "code",
   "execution_count": 13,
   "metadata": {},
   "outputs": [
    {
     "data": {
      "text/html": [
       "<div>\n",
       "<style scoped>\n",
       "    .dataframe tbody tr th:only-of-type {\n",
       "        vertical-align: middle;\n",
       "    }\n",
       "\n",
       "    .dataframe tbody tr th {\n",
       "        vertical-align: top;\n",
       "    }\n",
       "\n",
       "    .dataframe thead th {\n",
       "        text-align: right;\n",
       "    }\n",
       "</style>\n",
       "<table border=\"1\" class=\"dataframe\">\n",
       "  <thead>\n",
       "    <tr style=\"text-align: right;\">\n",
       "      <th></th>\n",
       "      <th>user_1</th>\n",
       "      <th>user_2</th>\n",
       "      <th>user_3</th>\n",
       "      <th>user_4</th>\n",
       "      <th>user_5</th>\n",
       "    </tr>\n",
       "  </thead>\n",
       "  <tbody>\n",
       "    <tr>\n",
       "      <th>user_1</th>\n",
       "      <td>0.000000</td>\n",
       "      <td>4.123106</td>\n",
       "      <td>1.414214</td>\n",
       "      <td>2.236068</td>\n",
       "      <td>6.000000</td>\n",
       "    </tr>\n",
       "    <tr>\n",
       "      <th>user_2</th>\n",
       "      <td>4.123106</td>\n",
       "      <td>0.000000</td>\n",
       "      <td>3.741657</td>\n",
       "      <td>6.000000</td>\n",
       "      <td>1.000000</td>\n",
       "    </tr>\n",
       "    <tr>\n",
       "      <th>user_3</th>\n",
       "      <td>1.414214</td>\n",
       "      <td>3.741657</td>\n",
       "      <td>0.000000</td>\n",
       "      <td>3.741657</td>\n",
       "      <td>4.123106</td>\n",
       "    </tr>\n",
       "    <tr>\n",
       "      <th>user_4</th>\n",
       "      <td>2.236068</td>\n",
       "      <td>6.000000</td>\n",
       "      <td>3.741657</td>\n",
       "      <td>0.000000</td>\n",
       "      <td>4.242641</td>\n",
       "    </tr>\n",
       "    <tr>\n",
       "      <th>user_5</th>\n",
       "      <td>6.000000</td>\n",
       "      <td>1.000000</td>\n",
       "      <td>4.123106</td>\n",
       "      <td>4.242641</td>\n",
       "      <td>0.000000</td>\n",
       "    </tr>\n",
       "  </tbody>\n",
       "</table>\n",
       "</div>"
      ],
      "text/plain": [
       "          user_1    user_2    user_3    user_4    user_5\n",
       "user_1  0.000000  4.123106  1.414214  2.236068  6.000000\n",
       "user_2  4.123106  0.000000  3.741657  6.000000  1.000000\n",
       "user_3  1.414214  3.741657  0.000000  3.741657  4.123106\n",
       "user_4  2.236068  6.000000  3.741657  0.000000  4.242641\n",
       "user_5  6.000000  1.000000  4.123106  4.242641  0.000000"
      ]
     },
     "execution_count": 13,
     "metadata": {},
     "output_type": "execute_result"
    }
   ],
   "source": [
    "# 유클리디안 거리 유사도로 행렬 구함\n",
    "sm_df = similarity_matrix(sample_df, euclidean_similarity)   \n",
    "sm_df"
   ]
  },
  {
   "cell_type": "code",
   "execution_count": 14,
   "metadata": {},
   "outputs": [
    {
     "data": {
      "text/html": [
       "<div>\n",
       "<style scoped>\n",
       "    .dataframe tbody tr th:only-of-type {\n",
       "        vertical-align: middle;\n",
       "    }\n",
       "\n",
       "    .dataframe tbody tr th {\n",
       "        vertical-align: top;\n",
       "    }\n",
       "\n",
       "    .dataframe thead th {\n",
       "        text-align: right;\n",
       "    }\n",
       "</style>\n",
       "<table border=\"1\" class=\"dataframe\">\n",
       "  <thead>\n",
       "    <tr style=\"text-align: right;\">\n",
       "      <th></th>\n",
       "      <th>user_1</th>\n",
       "      <th>user_2</th>\n",
       "      <th>user_3</th>\n",
       "      <th>user_4</th>\n",
       "      <th>user_5</th>\n",
       "    </tr>\n",
       "  </thead>\n",
       "  <tbody>\n",
       "    <tr>\n",
       "      <th>user_1</th>\n",
       "      <td>1.000000</td>\n",
       "      <td>0.743392</td>\n",
       "      <td>0.992278</td>\n",
       "      <td>0.937425</td>\n",
       "      <td>-1.000000</td>\n",
       "    </tr>\n",
       "    <tr>\n",
       "      <th>user_2</th>\n",
       "      <td>0.743392</td>\n",
       "      <td>1.000000</td>\n",
       "      <td>0.566947</td>\n",
       "      <td>0.904534</td>\n",
       "      <td>1.000000</td>\n",
       "    </tr>\n",
       "    <tr>\n",
       "      <th>user_3</th>\n",
       "      <td>0.992278</td>\n",
       "      <td>0.566947</td>\n",
       "      <td>1.000000</td>\n",
       "      <td>0.898563</td>\n",
       "      <td>0.843661</td>\n",
       "    </tr>\n",
       "    <tr>\n",
       "      <th>user_4</th>\n",
       "      <td>0.937425</td>\n",
       "      <td>0.904534</td>\n",
       "      <td>0.898563</td>\n",
       "      <td>1.000000</td>\n",
       "      <td>0.977802</td>\n",
       "    </tr>\n",
       "    <tr>\n",
       "      <th>user_5</th>\n",
       "      <td>-1.000000</td>\n",
       "      <td>1.000000</td>\n",
       "      <td>0.843661</td>\n",
       "      <td>0.977802</td>\n",
       "      <td>1.000000</td>\n",
       "    </tr>\n",
       "  </tbody>\n",
       "</table>\n",
       "</div>"
      ],
      "text/plain": [
       "          user_1    user_2    user_3    user_4    user_5\n",
       "user_1  1.000000  0.743392  0.992278  0.937425 -1.000000\n",
       "user_2  0.743392  1.000000  0.566947  0.904534  1.000000\n",
       "user_3  0.992278  0.566947  1.000000  0.898563  0.843661\n",
       "user_4  0.937425  0.904534  0.898563  1.000000  0.977802\n",
       "user_5 -1.000000  1.000000  0.843661  0.977802  1.000000"
      ]
     },
     "execution_count": 14,
     "metadata": {},
     "output_type": "execute_result"
    }
   ],
   "source": [
    "# 코사인 유사도로 행렬 구함\n",
    "sm_df = similarity_matrix(sample_df)   \n",
    "sm_df"
   ]
  },
  {
   "cell_type": "markdown",
   "metadata": {},
   "source": [
    "### 3. 유사도 평균값 행렬 \n",
    "- ms_df : mean score  \n",
    "- pred_df : prediction"
   ]
  },
  {
   "cell_type": "code",
   "execution_count": 15,
   "metadata": {},
   "outputs": [],
   "source": [
    "def pred_score(sample_df, sm_df, user, closer_count=2):\n",
    "    \"\"\"\n",
    "    returns : ms_df : mean score dateframe\n",
    "              pred_df : prediction dataframe\n",
    "    \"\"\"\n",
    "    \n",
    "    # user 데이터 백업\n",
    "    user_vec = sample_df.loc[user]\n",
    "    \n",
    "    # user 데이터 제거\n",
    "    ms_df = sm_df.drop(user)\n",
    "    \n",
    "    # 유사도 순으로 정렬\n",
    "    ms_df = ms_df.sort_values(user, ascending=False)\n",
    "    \n",
    "    # 유사도가 가까운 샘플만 남기기\n",
    "    ms_df = ms_df[:closer_count]\n",
    "    \n",
    "    # 유사도가 가까운 샘플\n",
    "    ms_df = sample_df.loc[ms_df.index]\n",
    "\n",
    "    # 유사도가 가까운 샘플의 평균\n",
    "    # 컬럼 데이터를 합쳐서 나눠줄때 0인 데이터는 제외\n",
    "    mean_vec = []\n",
    "    for idx, column in ms_df.items():\n",
    "\n",
    "        # 0이 아닌 컬럼 데이터의 갯수 구하기\n",
    "        non_zero_count = len(np.nonzero(column.values)[0])\n",
    "        \n",
    "        # 컬럼 값을 다 더해서 0이 아닌 컬럼의 갯수로 나눠 평균을 구함\n",
    "        # 0이 아닌 컬럼의 데이터 갯수가 0개이면 0을 리턴\n",
    "        mean = 0 if non_zero_count == 0 else sum(column.values) / non_zero_count\n",
    "        \n",
    "        # mean_vec에 평균값 추가하기\n",
    "        mean_vec.append(mean)\n",
    "        \n",
    "    pred_df = pd.DataFrame(columns=sample_df.columns)\n",
    "    pred_df.loc[\"user\"] = sample_df.loc[user]\n",
    "    pred_df.loc[\"pred\"] = mean_vec\n",
    "    \n",
    "    return ms_df, pred_df"
   ]
  },
  {
   "cell_type": "code",
   "execution_count": 16,
   "metadata": {},
   "outputs": [],
   "source": [
    "ms_df, pred_df = pred_score(sample_df, sm_df, \"user_1\")"
   ]
  },
  {
   "cell_type": "code",
   "execution_count": 17,
   "metadata": {},
   "outputs": [
    {
     "data": {
      "text/html": [
       "<div>\n",
       "<style scoped>\n",
       "    .dataframe tbody tr th:only-of-type {\n",
       "        vertical-align: middle;\n",
       "    }\n",
       "\n",
       "    .dataframe tbody tr th {\n",
       "        vertical-align: top;\n",
       "    }\n",
       "\n",
       "    .dataframe thead th {\n",
       "        text-align: right;\n",
       "    }\n",
       "</style>\n",
       "<table border=\"1\" class=\"dataframe\">\n",
       "  <thead>\n",
       "    <tr style=\"text-align: right;\">\n",
       "      <th></th>\n",
       "      <th>article_1</th>\n",
       "      <th>article_2</th>\n",
       "      <th>article_3</th>\n",
       "      <th>article_4</th>\n",
       "      <th>article_5</th>\n",
       "      <th>article_6</th>\n",
       "    </tr>\n",
       "  </thead>\n",
       "  <tbody>\n",
       "    <tr>\n",
       "      <th>user_3</th>\n",
       "      <td>0</td>\n",
       "      <td>0</td>\n",
       "      <td>5</td>\n",
       "      <td>3</td>\n",
       "      <td>1</td>\n",
       "      <td>2</td>\n",
       "    </tr>\n",
       "    <tr>\n",
       "      <th>user_4</th>\n",
       "      <td>4</td>\n",
       "      <td>0</td>\n",
       "      <td>4</td>\n",
       "      <td>5</td>\n",
       "      <td>0</td>\n",
       "      <td>5</td>\n",
       "    </tr>\n",
       "  </tbody>\n",
       "</table>\n",
       "</div>"
      ],
      "text/plain": [
       "        article_1  article_2  article_3  article_4  article_5  article_6\n",
       "user_3          0          0          5          3          1          2\n",
       "user_4          4          0          4          5          0          5"
      ]
     },
     "execution_count": 17,
     "metadata": {},
     "output_type": "execute_result"
    }
   ],
   "source": [
    "ms_df"
   ]
  },
  {
   "cell_type": "code",
   "execution_count": 18,
   "metadata": {},
   "outputs": [
    {
     "data": {
      "text/html": [
       "<div>\n",
       "<style scoped>\n",
       "    .dataframe tbody tr th:only-of-type {\n",
       "        vertical-align: middle;\n",
       "    }\n",
       "\n",
       "    .dataframe tbody tr th {\n",
       "        vertical-align: top;\n",
       "    }\n",
       "\n",
       "    .dataframe thead th {\n",
       "        text-align: right;\n",
       "    }\n",
       "</style>\n",
       "<table border=\"1\" class=\"dataframe\">\n",
       "  <thead>\n",
       "    <tr style=\"text-align: right;\">\n",
       "      <th></th>\n",
       "      <th>article_1</th>\n",
       "      <th>article_2</th>\n",
       "      <th>article_3</th>\n",
       "      <th>article_4</th>\n",
       "      <th>article_5</th>\n",
       "      <th>article_6</th>\n",
       "    </tr>\n",
       "  </thead>\n",
       "  <tbody>\n",
       "    <tr>\n",
       "      <th>user</th>\n",
       "      <td>5</td>\n",
       "      <td>3</td>\n",
       "      <td>0</td>\n",
       "      <td>0</td>\n",
       "      <td>2</td>\n",
       "      <td>3</td>\n",
       "    </tr>\n",
       "    <tr>\n",
       "      <th>pred</th>\n",
       "      <td>4</td>\n",
       "      <td>0</td>\n",
       "      <td>4.5</td>\n",
       "      <td>4</td>\n",
       "      <td>1</td>\n",
       "      <td>3.5</td>\n",
       "    </tr>\n",
       "  </tbody>\n",
       "</table>\n",
       "</div>"
      ],
      "text/plain": [
       "     article_1 article_2 article_3 article_4 article_5 article_6\n",
       "user         5         3         0         0         2         3\n",
       "pred         4         0       4.5         4         1       3.5"
      ]
     },
     "execution_count": 18,
     "metadata": {},
     "output_type": "execute_result"
    }
   ],
   "source": [
    "pred_df"
   ]
  },
  {
   "cell_type": "markdown",
   "metadata": {},
   "source": [
    "### 4. 예측 행렬\n",
    "- 모든 User에 대한 예측 행렬 구하기"
   ]
  },
  {
   "cell_type": "code",
   "execution_count": 19,
   "metadata": {},
   "outputs": [],
   "source": [
    "def pred_matrix(sample_df, similarity_func=cosine_similarity):\n",
    "    \"\"\"\n",
    "    non_zero_df : not removed zero datas\n",
    "    is_zero_df : removed zero datas\n",
    "    \"\"\"\n",
    "    \n",
    "    # 유사도 데이터 프레임\n",
    "    sm_df = similarity_matrix(sample_df, similarity_func)\n",
    "    \n",
    "    # 사용자 리스트\n",
    "    users = sample_df.index\n",
    "    \n",
    "    # 예측 매트릭스의 벡터 데이터\n",
    "    pred_vecs_1 = []\n",
    "    pred_vecs_2 = []\n",
    "    \n",
    "    # 사용자 별로 예측 벡터 를 만들어 pred_vecs에 저장\n",
    "    for user in users:\n",
    "        \n",
    "        # 한 사용자에 대한 예측 벡터\n",
    "        ms_df, pred_df = pred_score(sample_df, sm_df, user)\n",
    "        \n",
    "        # 예측 벡터를 깊은 복사하여 pred_vecs_1 변수에 저장\n",
    "        pred_vecs_1.append(pred_df.loc[\"pred\"].copy())\n",
    "        \n",
    "        # 사용자 벡터에서 0이 아닌 위치 값의 데이터를 예측 벡터에서 제거\n",
    "        # 사용자 벡터에서 0이 아닌 데이터는 이미 컨텐츠를 소비한 데이터 이므로 추천에서 제거하기 위함\n",
    "        idx = pred_df.loc[\"user\"].nonzero()[0]\n",
    "        pred_df.loc[\"pred\"][idx] = 0\n",
    "        \n",
    "        # 예측 벡터를 pred_vecs_2 변수에 저장\n",
    "        pred_vecs_2.append(pred_df.loc[\"pred\"])\n",
    "    \n",
    "    # pred_vecs를 이용하여 데이터 프레임으로 만듦\n",
    "    non_zero_df = pd.DataFrame(pred_vecs_1, columns=sample_df.columns, index=sample_df.index) \n",
    "    is_zero_df = pd.DataFrame(pred_vecs_2, columns=sample_df.columns, index=sample_df.index)\n",
    "    \n",
    "    return non_zero_df, is_zero_df"
   ]
  },
  {
   "cell_type": "code",
   "execution_count": 20,
   "metadata": {},
   "outputs": [],
   "source": [
    "# test code - euclidean_similarity\n",
    "non_zero_df, is_zero_df = pred_matrix(sample_df, euclidean_similarity) "
   ]
  },
  {
   "cell_type": "code",
   "execution_count": 21,
   "metadata": {},
   "outputs": [
    {
     "data": {
      "text/html": [
       "<div>\n",
       "<style scoped>\n",
       "    .dataframe tbody tr th:only-of-type {\n",
       "        vertical-align: middle;\n",
       "    }\n",
       "\n",
       "    .dataframe tbody tr th {\n",
       "        vertical-align: top;\n",
       "    }\n",
       "\n",
       "    .dataframe thead th {\n",
       "        text-align: right;\n",
       "    }\n",
       "</style>\n",
       "<table border=\"1\" class=\"dataframe\">\n",
       "  <thead>\n",
       "    <tr style=\"text-align: right;\">\n",
       "      <th></th>\n",
       "      <th>article_1</th>\n",
       "      <th>article_2</th>\n",
       "      <th>article_3</th>\n",
       "      <th>article_4</th>\n",
       "      <th>article_5</th>\n",
       "      <th>article_6</th>\n",
       "    </tr>\n",
       "  </thead>\n",
       "  <tbody>\n",
       "    <tr>\n",
       "      <th>user_1</th>\n",
       "      <td>2.0</td>\n",
       "      <td>0.0</td>\n",
       "      <td>1.0</td>\n",
       "      <td>1.5</td>\n",
       "      <td>4.0</td>\n",
       "      <td>1.0</td>\n",
       "    </tr>\n",
       "    <tr>\n",
       "      <th>user_2</th>\n",
       "      <td>4.5</td>\n",
       "      <td>3.0</td>\n",
       "      <td>4.0</td>\n",
       "      <td>5.0</td>\n",
       "      <td>2.0</td>\n",
       "      <td>4.0</td>\n",
       "    </tr>\n",
       "    <tr>\n",
       "      <th>user_3</th>\n",
       "      <td>2.0</td>\n",
       "      <td>0.0</td>\n",
       "      <td>1.0</td>\n",
       "      <td>1.5</td>\n",
       "      <td>4.0</td>\n",
       "      <td>1.0</td>\n",
       "    </tr>\n",
       "    <tr>\n",
       "      <th>user_4</th>\n",
       "      <td>2.0</td>\n",
       "      <td>0.0</td>\n",
       "      <td>1.0</td>\n",
       "      <td>1.5</td>\n",
       "      <td>4.0</td>\n",
       "      <td>1.0</td>\n",
       "    </tr>\n",
       "    <tr>\n",
       "      <th>user_5</th>\n",
       "      <td>4.5</td>\n",
       "      <td>3.0</td>\n",
       "      <td>4.0</td>\n",
       "      <td>5.0</td>\n",
       "      <td>2.0</td>\n",
       "      <td>4.0</td>\n",
       "    </tr>\n",
       "  </tbody>\n",
       "</table>\n",
       "</div>"
      ],
      "text/plain": [
       "        article_1  article_2  article_3  article_4  article_5  article_6\n",
       "user_1        2.0        0.0        1.0        1.5        4.0        1.0\n",
       "user_2        4.5        3.0        4.0        5.0        2.0        4.0\n",
       "user_3        2.0        0.0        1.0        1.5        4.0        1.0\n",
       "user_4        2.0        0.0        1.0        1.5        4.0        1.0\n",
       "user_5        4.5        3.0        4.0        5.0        2.0        4.0"
      ]
     },
     "execution_count": 21,
     "metadata": {},
     "output_type": "execute_result"
    }
   ],
   "source": [
    "non_zero_df"
   ]
  },
  {
   "cell_type": "code",
   "execution_count": 22,
   "metadata": {},
   "outputs": [
    {
     "data": {
      "text/html": [
       "<div>\n",
       "<style scoped>\n",
       "    .dataframe tbody tr th:only-of-type {\n",
       "        vertical-align: middle;\n",
       "    }\n",
       "\n",
       "    .dataframe tbody tr th {\n",
       "        vertical-align: top;\n",
       "    }\n",
       "\n",
       "    .dataframe thead th {\n",
       "        text-align: right;\n",
       "    }\n",
       "</style>\n",
       "<table border=\"1\" class=\"dataframe\">\n",
       "  <thead>\n",
       "    <tr style=\"text-align: right;\">\n",
       "      <th></th>\n",
       "      <th>article_1</th>\n",
       "      <th>article_2</th>\n",
       "      <th>article_3</th>\n",
       "      <th>article_4</th>\n",
       "      <th>article_5</th>\n",
       "      <th>article_6</th>\n",
       "    </tr>\n",
       "  </thead>\n",
       "  <tbody>\n",
       "    <tr>\n",
       "      <th>user_1</th>\n",
       "      <td>0.0</td>\n",
       "      <td>0.0</td>\n",
       "      <td>1.0</td>\n",
       "      <td>1.5</td>\n",
       "      <td>0.0</td>\n",
       "      <td>0.0</td>\n",
       "    </tr>\n",
       "    <tr>\n",
       "      <th>user_2</th>\n",
       "      <td>0.0</td>\n",
       "      <td>3.0</td>\n",
       "      <td>4.0</td>\n",
       "      <td>0.0</td>\n",
       "      <td>0.0</td>\n",
       "      <td>0.0</td>\n",
       "    </tr>\n",
       "    <tr>\n",
       "      <th>user_3</th>\n",
       "      <td>2.0</td>\n",
       "      <td>0.0</td>\n",
       "      <td>0.0</td>\n",
       "      <td>0.0</td>\n",
       "      <td>0.0</td>\n",
       "      <td>0.0</td>\n",
       "    </tr>\n",
       "    <tr>\n",
       "      <th>user_4</th>\n",
       "      <td>0.0</td>\n",
       "      <td>0.0</td>\n",
       "      <td>0.0</td>\n",
       "      <td>0.0</td>\n",
       "      <td>4.0</td>\n",
       "      <td>0.0</td>\n",
       "    </tr>\n",
       "    <tr>\n",
       "      <th>user_5</th>\n",
       "      <td>4.5</td>\n",
       "      <td>3.0</td>\n",
       "      <td>0.0</td>\n",
       "      <td>0.0</td>\n",
       "      <td>2.0</td>\n",
       "      <td>4.0</td>\n",
       "    </tr>\n",
       "  </tbody>\n",
       "</table>\n",
       "</div>"
      ],
      "text/plain": [
       "        article_1  article_2  article_3  article_4  article_5  article_6\n",
       "user_1        0.0        0.0        1.0        1.5        0.0        0.0\n",
       "user_2        0.0        3.0        4.0        0.0        0.0        0.0\n",
       "user_3        2.0        0.0        0.0        0.0        0.0        0.0\n",
       "user_4        0.0        0.0        0.0        0.0        4.0        0.0\n",
       "user_5        4.5        3.0        0.0        0.0        2.0        4.0"
      ]
     },
     "execution_count": 22,
     "metadata": {},
     "output_type": "execute_result"
    }
   ],
   "source": [
    "is_zero_df"
   ]
  },
  {
   "cell_type": "code",
   "execution_count": 23,
   "metadata": {},
   "outputs": [],
   "source": [
    "# test code - cosine_similarity\n",
    "non_zero_df, is_zero_df = pred_matrix(sample_df) "
   ]
  },
  {
   "cell_type": "code",
   "execution_count": 24,
   "metadata": {
    "scrolled": true
   },
   "outputs": [
    {
     "data": {
      "text/html": [
       "<div>\n",
       "<style scoped>\n",
       "    .dataframe tbody tr th:only-of-type {\n",
       "        vertical-align: middle;\n",
       "    }\n",
       "\n",
       "    .dataframe tbody tr th {\n",
       "        vertical-align: top;\n",
       "    }\n",
       "\n",
       "    .dataframe thead th {\n",
       "        text-align: right;\n",
       "    }\n",
       "</style>\n",
       "<table border=\"1\" class=\"dataframe\">\n",
       "  <thead>\n",
       "    <tr style=\"text-align: right;\">\n",
       "      <th></th>\n",
       "      <th>article_1</th>\n",
       "      <th>article_2</th>\n",
       "      <th>article_3</th>\n",
       "      <th>article_4</th>\n",
       "      <th>article_5</th>\n",
       "      <th>article_6</th>\n",
       "    </tr>\n",
       "  </thead>\n",
       "  <tbody>\n",
       "    <tr>\n",
       "      <th>user_1</th>\n",
       "      <td>4.0</td>\n",
       "      <td>0.0</td>\n",
       "      <td>4.5</td>\n",
       "      <td>4.0</td>\n",
       "      <td>1.0</td>\n",
       "      <td>3.5</td>\n",
       "    </tr>\n",
       "    <tr>\n",
       "      <th>user_2</th>\n",
       "      <td>4.0</td>\n",
       "      <td>0.0</td>\n",
       "      <td>2.5</td>\n",
       "      <td>3.5</td>\n",
       "      <td>0.0</td>\n",
       "      <td>5.0</td>\n",
       "    </tr>\n",
       "    <tr>\n",
       "      <th>user_3</th>\n",
       "      <td>4.5</td>\n",
       "      <td>3.0</td>\n",
       "      <td>4.0</td>\n",
       "      <td>5.0</td>\n",
       "      <td>2.0</td>\n",
       "      <td>4.0</td>\n",
       "    </tr>\n",
       "    <tr>\n",
       "      <th>user_4</th>\n",
       "      <td>5.0</td>\n",
       "      <td>3.0</td>\n",
       "      <td>1.0</td>\n",
       "      <td>2.0</td>\n",
       "      <td>2.0</td>\n",
       "      <td>3.0</td>\n",
       "    </tr>\n",
       "    <tr>\n",
       "      <th>user_5</th>\n",
       "      <td>3.0</td>\n",
       "      <td>0.0</td>\n",
       "      <td>4.0</td>\n",
       "      <td>3.0</td>\n",
       "      <td>4.0</td>\n",
       "      <td>3.0</td>\n",
       "    </tr>\n",
       "  </tbody>\n",
       "</table>\n",
       "</div>"
      ],
      "text/plain": [
       "        article_1  article_2  article_3  article_4  article_5  article_6\n",
       "user_1        4.0        0.0        4.5        4.0        1.0        3.5\n",
       "user_2        4.0        0.0        2.5        3.5        0.0        5.0\n",
       "user_3        4.5        3.0        4.0        5.0        2.0        4.0\n",
       "user_4        5.0        3.0        1.0        2.0        2.0        3.0\n",
       "user_5        3.0        0.0        4.0        3.0        4.0        3.0"
      ]
     },
     "execution_count": 24,
     "metadata": {},
     "output_type": "execute_result"
    }
   ],
   "source": [
    "non_zero_df"
   ]
  },
  {
   "cell_type": "code",
   "execution_count": 25,
   "metadata": {},
   "outputs": [
    {
     "data": {
      "text/html": [
       "<div>\n",
       "<style scoped>\n",
       "    .dataframe tbody tr th:only-of-type {\n",
       "        vertical-align: middle;\n",
       "    }\n",
       "\n",
       "    .dataframe tbody tr th {\n",
       "        vertical-align: top;\n",
       "    }\n",
       "\n",
       "    .dataframe thead th {\n",
       "        text-align: right;\n",
       "    }\n",
       "</style>\n",
       "<table border=\"1\" class=\"dataframe\">\n",
       "  <thead>\n",
       "    <tr style=\"text-align: right;\">\n",
       "      <th></th>\n",
       "      <th>article_1</th>\n",
       "      <th>article_2</th>\n",
       "      <th>article_3</th>\n",
       "      <th>article_4</th>\n",
       "      <th>article_5</th>\n",
       "      <th>article_6</th>\n",
       "    </tr>\n",
       "  </thead>\n",
       "  <tbody>\n",
       "    <tr>\n",
       "      <th>user_1</th>\n",
       "      <td>0.0</td>\n",
       "      <td>0.0</td>\n",
       "      <td>4.5</td>\n",
       "      <td>4.0</td>\n",
       "      <td>0.0</td>\n",
       "      <td>0.0</td>\n",
       "    </tr>\n",
       "    <tr>\n",
       "      <th>user_2</th>\n",
       "      <td>0.0</td>\n",
       "      <td>0.0</td>\n",
       "      <td>2.5</td>\n",
       "      <td>0.0</td>\n",
       "      <td>0.0</td>\n",
       "      <td>0.0</td>\n",
       "    </tr>\n",
       "    <tr>\n",
       "      <th>user_3</th>\n",
       "      <td>4.5</td>\n",
       "      <td>3.0</td>\n",
       "      <td>0.0</td>\n",
       "      <td>0.0</td>\n",
       "      <td>0.0</td>\n",
       "      <td>0.0</td>\n",
       "    </tr>\n",
       "    <tr>\n",
       "      <th>user_4</th>\n",
       "      <td>0.0</td>\n",
       "      <td>3.0</td>\n",
       "      <td>0.0</td>\n",
       "      <td>0.0</td>\n",
       "      <td>2.0</td>\n",
       "      <td>0.0</td>\n",
       "    </tr>\n",
       "    <tr>\n",
       "      <th>user_5</th>\n",
       "      <td>3.0</td>\n",
       "      <td>0.0</td>\n",
       "      <td>0.0</td>\n",
       "      <td>0.0</td>\n",
       "      <td>4.0</td>\n",
       "      <td>3.0</td>\n",
       "    </tr>\n",
       "  </tbody>\n",
       "</table>\n",
       "</div>"
      ],
      "text/plain": [
       "        article_1  article_2  article_3  article_4  article_5  article_6\n",
       "user_1        0.0        0.0        4.5        4.0        0.0        0.0\n",
       "user_2        0.0        0.0        2.5        0.0        0.0        0.0\n",
       "user_3        4.5        3.0        0.0        0.0        0.0        0.0\n",
       "user_4        0.0        3.0        0.0        0.0        2.0        0.0\n",
       "user_5        3.0        0.0        0.0        0.0        4.0        3.0"
      ]
     },
     "execution_count": 25,
     "metadata": {},
     "output_type": "execute_result"
    }
   ],
   "source": [
    "is_zero_df"
   ]
  },
  {
   "cell_type": "markdown",
   "metadata": {},
   "source": [
    "### 5. 기사 추천 리스트 구하기"
   ]
  },
  {
   "cell_type": "code",
   "execution_count": 26,
   "metadata": {},
   "outputs": [],
   "source": [
    "def recommand_result(target):\n",
    "    \n",
    "    # 데이터 프레임의 row 데이터를 소팅\n",
    "    # 0을 초과 하는 데이터를 비교연산\n",
    "    idx = is_zero_df.loc[target].sort_values(ascending=False) > 0\n",
    "    \n",
    "    # 0을 초과하는 데이터에 대한 index 값을 리스트로 리턴\n",
    "    return list(idx[idx == True].index)"
   ]
  },
  {
   "cell_type": "code",
   "execution_count": 27,
   "metadata": {},
   "outputs": [
    {
     "data": {
      "text/plain": [
       "['article_5', 'article_6', 'article_1']"
      ]
     },
     "execution_count": 27,
     "metadata": {},
     "output_type": "execute_result"
    }
   ],
   "source": [
    "# test code - one user\n",
    "recommand_result(sample_df.index[4])"
   ]
  },
  {
   "cell_type": "code",
   "execution_count": 28,
   "metadata": {},
   "outputs": [
    {
     "name": "stdout",
     "output_type": "stream",
     "text": [
      "user_1 ['article_3', 'article_4']\n",
      "user_2 ['article_3']\n",
      "user_3 ['article_1', 'article_2']\n",
      "user_4 ['article_2', 'article_5']\n",
      "user_5 ['article_5', 'article_6', 'article_1']\n"
     ]
    }
   ],
   "source": [
    "# test code - all user\n",
    "for user in sample_df.index:\n",
    "    print(user, recommand_result(user))"
   ]
  },
  {
   "cell_type": "markdown",
   "metadata": {},
   "source": [
    "### 6. 성능 측정"
   ]
  },
  {
   "cell_type": "code",
   "execution_count": 29,
   "metadata": {},
   "outputs": [],
   "source": [
    "def remove_zero_datas(value, pred):\n",
    "    \n",
    "    # user 데이터에서 0인 데이터 제거\n",
    "    idx = value.nonzero()[0]\n",
    "    value, pred = np.array(value)[idx], np.array(pred)[idx]\n",
    "    \n",
    "    return value, pred, idx"
   ]
  },
  {
   "cell_type": "markdown",
   "metadata": {},
   "source": [
    "- MSE : Mean Squared Error"
   ]
  },
  {
   "cell_type": "markdown",
   "metadata": {},
   "source": [
    "- $ {\\displaystyle MSE = \\frac{1}{n}\\sum_{i=1}^n{(Y_i-\\hat{Y}_i)^2} } $"
   ]
  },
  {
   "cell_type": "markdown",
   "metadata": {},
   "source": [
    "- mean : $ {\\displaystyle {\\frac {1}{n}}\\sum _{i=1}^{n} } $"
   ]
  },
  {
   "cell_type": "markdown",
   "metadata": {},
   "source": [
    "squares of the errors : $ {\\displaystyle (Y_i-\\hat{Y}_i)^{2}}$"
   ]
  },
  {
   "cell_type": "code",
   "execution_count": 30,
   "metadata": {},
   "outputs": [
    {
     "data": {
      "text/plain": [
       "2.8125"
      ]
     },
     "execution_count": 30,
     "metadata": {},
     "output_type": "execute_result"
    }
   ],
   "source": [
    "# 한명의 user에 대한 MSE 값\n",
    "def mse(value, pred):\n",
    "    \n",
    "    # user 데이터에서 0인 데이터 제거\n",
    "    value, pred, idx = remove_zero_datas(value, pred)\n",
    "    \n",
    "    # 수식 계산후 결과 리턴\n",
    "    return sum((value - pred)**2) / len(idx)\n",
    "\n",
    "# test code\n",
    "mse(pred_df.loc[\"user\"], pred_df.loc[\"pred\"])"
   ]
  },
  {
   "cell_type": "markdown",
   "metadata": {},
   "source": [
    "- RMSE : Root Mean Square Error"
   ]
  },
  {
   "cell_type": "markdown",
   "metadata": {},
   "source": [
    "- $ {\\displaystyle RMSE = \\sqrt {\\frac{1}{n}\\sum_{i=1}^n{(Y_i-\\hat{Y}_i)^2}} } $"
   ]
  },
  {
   "cell_type": "code",
   "execution_count": 31,
   "metadata": {},
   "outputs": [
    {
     "data": {
      "text/plain": [
       "1.6770509831248424"
      ]
     },
     "execution_count": 31,
     "metadata": {},
     "output_type": "execute_result"
    }
   ],
   "source": [
    "# 한명의 user에 대한 RMSE 값\n",
    "def rmse(value, pred):\n",
    "\n",
    "    # user 데이터에서 0인 데이터 제거\n",
    "    value, pred, idx  = remove_zero_datas(value, pred)\n",
    "    \n",
    "    # 수식 계산후 결과 리턴\n",
    "    return np.sqrt(sum((value - pred)**2) / len(idx))\n",
    "\n",
    "# test code\n",
    "rmse(pred_df.loc[\"user\"], pred_df.loc[\"pred\"])"
   ]
  },
  {
   "cell_type": "markdown",
   "metadata": {},
   "source": [
    "- MAE : Mean Absolute Error"
   ]
  },
  {
   "cell_type": "markdown",
   "metadata": {},
   "source": [
    "- ${\\displaystyle MAE ={\\frac {\\sum _{i=1}^{n} |y_{i}-x_{i}|}{n}} }$"
   ]
  },
  {
   "cell_type": "code",
   "execution_count": 32,
   "metadata": {},
   "outputs": [
    {
     "data": {
      "text/plain": [
       "1.375"
      ]
     },
     "execution_count": 32,
     "metadata": {},
     "output_type": "execute_result"
    }
   ],
   "source": [
    "# 한명의 user에 대한 MAE 값\n",
    "def mae(value, pred):\n",
    "    \n",
    "    # user 데이터에서 0인 데이터 제거\n",
    "    value, pred, idx  = remove_zero_datas(value, pred)\n",
    "\n",
    "    # 수식 계산후 결과 리턴\n",
    "    return sum(np.absolute(value - pred)) / len(idx)\n",
    "\n",
    "# test code\n",
    "mae(pred_df.loc[\"user\"], pred_df.loc[\"pred\"])"
   ]
  },
  {
   "cell_type": "markdown",
   "metadata": {},
   "source": [
    "- Evaluate"
   ]
  },
  {
   "cell_type": "code",
   "execution_count": 33,
   "metadata": {},
   "outputs": [],
   "source": [
    "# 전체 user에 대한 평가\n",
    "def evaluate(sample_df, closer_count=2, similarity_func=cosine_similarity):\n",
    "    \n",
    "    # user 리스트\n",
    "    users = sample_df.index\n",
    "    evaluate_results = {}\n",
    "    \n",
    "    # 유사도 행렬\n",
    "    sm_df = similarity_matrix(sample_df, similarity_func)\n",
    "    \n",
    "    # 모든 user에 대해서 mae 값을 구함\n",
    "    # 유사도 행렬 함수\n",
    "    algorithms = [mse,rmse, mae]\n",
    "    for algorithm in algorithms:\n",
    "        evaluate_list = []\n",
    "        for user in users:\n",
    "            ms_df, pred_df = pred_score(sample_df, sm_df, user, closer_count)\n",
    "            evaluate_value = algorithm(pred_df.loc[\"user\"], pred_df.loc[\"pred\"])\n",
    "            evaluate_list.append(evaluate_value)\n",
    "        \n",
    "        # evaluate_results에 결과 데이터 저장     \n",
    "        evaluate_results[algorithm.__name__] = sum(evaluate_list) / len(users)\n",
    "        \n",
    "    return evaluate_results"
   ]
  },
  {
   "cell_type": "code",
   "execution_count": 34,
   "metadata": {},
   "outputs": [
    {
     "data": {
      "text/plain": [
       "{'mae': 2.35, 'mse': 7.85, 'rmse': 2.637156150769204}"
      ]
     },
     "execution_count": 34,
     "metadata": {},
     "output_type": "execute_result"
    }
   ],
   "source": [
    "# test code 1\n",
    "# closer_count : 1, similarity : cosine\n",
    "evaluate(sample_df, 1)"
   ]
  },
  {
   "cell_type": "code",
   "execution_count": 35,
   "metadata": {},
   "outputs": [
    {
     "data": {
      "text/plain": [
       "{'mae': 2.05, 'mse': 5.325, 'rmse': 2.2284347104730364}"
      ]
     },
     "execution_count": 35,
     "metadata": {},
     "output_type": "execute_result"
    }
   ],
   "source": [
    "# test code 2\n",
    "# closer_count : 2, similarity : cosine\n",
    "evaluate(sample_df, 2)"
   ]
  },
  {
   "cell_type": "code",
   "execution_count": 36,
   "metadata": {},
   "outputs": [
    {
     "data": {
      "text/plain": [
       "{'mae': 2.75, 'mse': 9.15, 'rmse': 2.913055312224881}"
      ]
     },
     "execution_count": 36,
     "metadata": {},
     "output_type": "execute_result"
    }
   ],
   "source": [
    "# test code 3\n",
    "# closer_count : 1, similarity : euclidean\n",
    "evaluate(sample_df, 1, euclidean_similarity)"
   ]
  },
  {
   "cell_type": "code",
   "execution_count": 37,
   "metadata": {},
   "outputs": [
    {
     "data": {
      "text/plain": [
       "{'mae': 2.775, 'mse': 8.3375, 'rmse': 2.877387975281163}"
      ]
     },
     "execution_count": 37,
     "metadata": {},
     "output_type": "execute_result"
    }
   ],
   "source": [
    "# test code 4\n",
    "# closer_count : 2, similarity : euclidean\n",
    "evaluate(sample_df, 2, euclidean_similarity)"
   ]
  },
  {
   "cell_type": "markdown",
   "metadata": {},
   "source": [
    "#### 6. Process"
   ]
  },
  {
   "cell_type": "markdown",
   "metadata": {},
   "source": [
    "- 샘플 데이터"
   ]
  },
  {
   "cell_type": "code",
   "execution_count": 38,
   "metadata": {},
   "outputs": [
    {
     "data": {
      "text/html": [
       "<div>\n",
       "<style scoped>\n",
       "    .dataframe tbody tr th:only-of-type {\n",
       "        vertical-align: middle;\n",
       "    }\n",
       "\n",
       "    .dataframe tbody tr th {\n",
       "        vertical-align: top;\n",
       "    }\n",
       "\n",
       "    .dataframe thead th {\n",
       "        text-align: right;\n",
       "    }\n",
       "</style>\n",
       "<table border=\"1\" class=\"dataframe\">\n",
       "  <thead>\n",
       "    <tr style=\"text-align: right;\">\n",
       "      <th></th>\n",
       "      <th>article_1</th>\n",
       "      <th>article_2</th>\n",
       "      <th>article_3</th>\n",
       "      <th>article_4</th>\n",
       "      <th>article_5</th>\n",
       "      <th>article_6</th>\n",
       "    </tr>\n",
       "  </thead>\n",
       "  <tbody>\n",
       "    <tr>\n",
       "      <th>user_1</th>\n",
       "      <td>5</td>\n",
       "      <td>3</td>\n",
       "      <td>0</td>\n",
       "      <td>0</td>\n",
       "      <td>2</td>\n",
       "      <td>3</td>\n",
       "    </tr>\n",
       "    <tr>\n",
       "      <th>user_2</th>\n",
       "      <td>2</td>\n",
       "      <td>0</td>\n",
       "      <td>0</td>\n",
       "      <td>1</td>\n",
       "      <td>4</td>\n",
       "      <td>1</td>\n",
       "    </tr>\n",
       "    <tr>\n",
       "      <th>user_3</th>\n",
       "      <td>0</td>\n",
       "      <td>0</td>\n",
       "      <td>5</td>\n",
       "      <td>3</td>\n",
       "      <td>1</td>\n",
       "      <td>2</td>\n",
       "    </tr>\n",
       "    <tr>\n",
       "      <th>user_4</th>\n",
       "      <td>4</td>\n",
       "      <td>0</td>\n",
       "      <td>4</td>\n",
       "      <td>5</td>\n",
       "      <td>0</td>\n",
       "      <td>5</td>\n",
       "    </tr>\n",
       "    <tr>\n",
       "      <th>user_5</th>\n",
       "      <td>0</td>\n",
       "      <td>0</td>\n",
       "      <td>1</td>\n",
       "      <td>2</td>\n",
       "      <td>0</td>\n",
       "      <td>0</td>\n",
       "    </tr>\n",
       "  </tbody>\n",
       "</table>\n",
       "</div>"
      ],
      "text/plain": [
       "        article_1  article_2  article_3  article_4  article_5  article_6\n",
       "user_1          5          3          0          0          2          3\n",
       "user_2          2          0          0          1          4          1\n",
       "user_3          0          0          5          3          1          2\n",
       "user_4          4          0          4          5          0          5\n",
       "user_5          0          0          1          2          0          0"
      ]
     },
     "execution_count": 38,
     "metadata": {},
     "output_type": "execute_result"
    }
   ],
   "source": [
    "sample_df"
   ]
  },
  {
   "cell_type": "markdown",
   "metadata": {},
   "source": [
    "- 유사도 행렬"
   ]
  },
  {
   "cell_type": "code",
   "execution_count": 39,
   "metadata": {},
   "outputs": [
    {
     "data": {
      "text/html": [
       "<div>\n",
       "<style scoped>\n",
       "    .dataframe tbody tr th:only-of-type {\n",
       "        vertical-align: middle;\n",
       "    }\n",
       "\n",
       "    .dataframe tbody tr th {\n",
       "        vertical-align: top;\n",
       "    }\n",
       "\n",
       "    .dataframe thead th {\n",
       "        text-align: right;\n",
       "    }\n",
       "</style>\n",
       "<table border=\"1\" class=\"dataframe\">\n",
       "  <thead>\n",
       "    <tr style=\"text-align: right;\">\n",
       "      <th></th>\n",
       "      <th>user_1</th>\n",
       "      <th>user_2</th>\n",
       "      <th>user_3</th>\n",
       "      <th>user_4</th>\n",
       "      <th>user_5</th>\n",
       "    </tr>\n",
       "  </thead>\n",
       "  <tbody>\n",
       "    <tr>\n",
       "      <th>user_1</th>\n",
       "      <td>1.000000</td>\n",
       "      <td>0.743392</td>\n",
       "      <td>0.992278</td>\n",
       "      <td>0.937425</td>\n",
       "      <td>-1.000000</td>\n",
       "    </tr>\n",
       "    <tr>\n",
       "      <th>user_2</th>\n",
       "      <td>0.743392</td>\n",
       "      <td>1.000000</td>\n",
       "      <td>0.566947</td>\n",
       "      <td>0.904534</td>\n",
       "      <td>1.000000</td>\n",
       "    </tr>\n",
       "    <tr>\n",
       "      <th>user_3</th>\n",
       "      <td>0.992278</td>\n",
       "      <td>0.566947</td>\n",
       "      <td>1.000000</td>\n",
       "      <td>0.898563</td>\n",
       "      <td>0.843661</td>\n",
       "    </tr>\n",
       "    <tr>\n",
       "      <th>user_4</th>\n",
       "      <td>0.937425</td>\n",
       "      <td>0.904534</td>\n",
       "      <td>0.898563</td>\n",
       "      <td>1.000000</td>\n",
       "      <td>0.977802</td>\n",
       "    </tr>\n",
       "    <tr>\n",
       "      <th>user_5</th>\n",
       "      <td>-1.000000</td>\n",
       "      <td>1.000000</td>\n",
       "      <td>0.843661</td>\n",
       "      <td>0.977802</td>\n",
       "      <td>1.000000</td>\n",
       "    </tr>\n",
       "  </tbody>\n",
       "</table>\n",
       "</div>"
      ],
      "text/plain": [
       "          user_1    user_2    user_3    user_4    user_5\n",
       "user_1  1.000000  0.743392  0.992278  0.937425 -1.000000\n",
       "user_2  0.743392  1.000000  0.566947  0.904534  1.000000\n",
       "user_3  0.992278  0.566947  1.000000  0.898563  0.843661\n",
       "user_4  0.937425  0.904534  0.898563  1.000000  0.977802\n",
       "user_5 -1.000000  1.000000  0.843661  0.977802  1.000000"
      ]
     },
     "execution_count": 39,
     "metadata": {},
     "output_type": "execute_result"
    }
   ],
   "source": [
    "sm_df"
   ]
  },
  {
   "cell_type": "markdown",
   "metadata": {},
   "source": [
    "- 예측 행렬"
   ]
  },
  {
   "cell_type": "code",
   "execution_count": 40,
   "metadata": {},
   "outputs": [
    {
     "data": {
      "text/html": [
       "<div>\n",
       "<style scoped>\n",
       "    .dataframe tbody tr th:only-of-type {\n",
       "        vertical-align: middle;\n",
       "    }\n",
       "\n",
       "    .dataframe tbody tr th {\n",
       "        vertical-align: top;\n",
       "    }\n",
       "\n",
       "    .dataframe thead th {\n",
       "        text-align: right;\n",
       "    }\n",
       "</style>\n",
       "<table border=\"1\" class=\"dataframe\">\n",
       "  <thead>\n",
       "    <tr style=\"text-align: right;\">\n",
       "      <th></th>\n",
       "      <th>article_1</th>\n",
       "      <th>article_2</th>\n",
       "      <th>article_3</th>\n",
       "      <th>article_4</th>\n",
       "      <th>article_5</th>\n",
       "      <th>article_6</th>\n",
       "    </tr>\n",
       "  </thead>\n",
       "  <tbody>\n",
       "    <tr>\n",
       "      <th>user_1</th>\n",
       "      <td>4.0</td>\n",
       "      <td>0.0</td>\n",
       "      <td>4.5</td>\n",
       "      <td>4.0</td>\n",
       "      <td>1.0</td>\n",
       "      <td>3.5</td>\n",
       "    </tr>\n",
       "    <tr>\n",
       "      <th>user_2</th>\n",
       "      <td>4.0</td>\n",
       "      <td>0.0</td>\n",
       "      <td>2.5</td>\n",
       "      <td>3.5</td>\n",
       "      <td>0.0</td>\n",
       "      <td>5.0</td>\n",
       "    </tr>\n",
       "    <tr>\n",
       "      <th>user_3</th>\n",
       "      <td>4.5</td>\n",
       "      <td>3.0</td>\n",
       "      <td>4.0</td>\n",
       "      <td>5.0</td>\n",
       "      <td>2.0</td>\n",
       "      <td>4.0</td>\n",
       "    </tr>\n",
       "    <tr>\n",
       "      <th>user_4</th>\n",
       "      <td>5.0</td>\n",
       "      <td>3.0</td>\n",
       "      <td>1.0</td>\n",
       "      <td>2.0</td>\n",
       "      <td>2.0</td>\n",
       "      <td>3.0</td>\n",
       "    </tr>\n",
       "    <tr>\n",
       "      <th>user_5</th>\n",
       "      <td>3.0</td>\n",
       "      <td>0.0</td>\n",
       "      <td>4.0</td>\n",
       "      <td>3.0</td>\n",
       "      <td>4.0</td>\n",
       "      <td>3.0</td>\n",
       "    </tr>\n",
       "  </tbody>\n",
       "</table>\n",
       "</div>"
      ],
      "text/plain": [
       "        article_1  article_2  article_3  article_4  article_5  article_6\n",
       "user_1        4.0        0.0        4.5        4.0        1.0        3.5\n",
       "user_2        4.0        0.0        2.5        3.5        0.0        5.0\n",
       "user_3        4.5        3.0        4.0        5.0        2.0        4.0\n",
       "user_4        5.0        3.0        1.0        2.0        2.0        3.0\n",
       "user_5        3.0        0.0        4.0        3.0        4.0        3.0"
      ]
     },
     "execution_count": 40,
     "metadata": {},
     "output_type": "execute_result"
    }
   ],
   "source": [
    "non_zero_df"
   ]
  },
  {
   "cell_type": "markdown",
   "metadata": {},
   "source": [
    "- 추천 행렬"
   ]
  },
  {
   "cell_type": "code",
   "execution_count": 41,
   "metadata": {},
   "outputs": [
    {
     "data": {
      "text/html": [
       "<div>\n",
       "<style scoped>\n",
       "    .dataframe tbody tr th:only-of-type {\n",
       "        vertical-align: middle;\n",
       "    }\n",
       "\n",
       "    .dataframe tbody tr th {\n",
       "        vertical-align: top;\n",
       "    }\n",
       "\n",
       "    .dataframe thead th {\n",
       "        text-align: right;\n",
       "    }\n",
       "</style>\n",
       "<table border=\"1\" class=\"dataframe\">\n",
       "  <thead>\n",
       "    <tr style=\"text-align: right;\">\n",
       "      <th></th>\n",
       "      <th>article_1</th>\n",
       "      <th>article_2</th>\n",
       "      <th>article_3</th>\n",
       "      <th>article_4</th>\n",
       "      <th>article_5</th>\n",
       "      <th>article_6</th>\n",
       "    </tr>\n",
       "  </thead>\n",
       "  <tbody>\n",
       "    <tr>\n",
       "      <th>user_1</th>\n",
       "      <td>0.0</td>\n",
       "      <td>0.0</td>\n",
       "      <td>4.5</td>\n",
       "      <td>4.0</td>\n",
       "      <td>0.0</td>\n",
       "      <td>0.0</td>\n",
       "    </tr>\n",
       "    <tr>\n",
       "      <th>user_2</th>\n",
       "      <td>0.0</td>\n",
       "      <td>0.0</td>\n",
       "      <td>2.5</td>\n",
       "      <td>0.0</td>\n",
       "      <td>0.0</td>\n",
       "      <td>0.0</td>\n",
       "    </tr>\n",
       "    <tr>\n",
       "      <th>user_3</th>\n",
       "      <td>4.5</td>\n",
       "      <td>3.0</td>\n",
       "      <td>0.0</td>\n",
       "      <td>0.0</td>\n",
       "      <td>0.0</td>\n",
       "      <td>0.0</td>\n",
       "    </tr>\n",
       "    <tr>\n",
       "      <th>user_4</th>\n",
       "      <td>0.0</td>\n",
       "      <td>3.0</td>\n",
       "      <td>0.0</td>\n",
       "      <td>0.0</td>\n",
       "      <td>2.0</td>\n",
       "      <td>0.0</td>\n",
       "    </tr>\n",
       "    <tr>\n",
       "      <th>user_5</th>\n",
       "      <td>3.0</td>\n",
       "      <td>0.0</td>\n",
       "      <td>0.0</td>\n",
       "      <td>0.0</td>\n",
       "      <td>4.0</td>\n",
       "      <td>3.0</td>\n",
       "    </tr>\n",
       "  </tbody>\n",
       "</table>\n",
       "</div>"
      ],
      "text/plain": [
       "        article_1  article_2  article_3  article_4  article_5  article_6\n",
       "user_1        0.0        0.0        4.5        4.0        0.0        0.0\n",
       "user_2        0.0        0.0        2.5        0.0        0.0        0.0\n",
       "user_3        4.5        3.0        0.0        0.0        0.0        0.0\n",
       "user_4        0.0        3.0        0.0        0.0        2.0        0.0\n",
       "user_5        3.0        0.0        0.0        0.0        4.0        3.0"
      ]
     },
     "execution_count": 41,
     "metadata": {},
     "output_type": "execute_result"
    }
   ],
   "source": [
    "is_zero_df"
   ]
  },
  {
   "cell_type": "markdown",
   "metadata": {},
   "source": [
    "- 추천"
   ]
  },
  {
   "cell_type": "code",
   "execution_count": 42,
   "metadata": {},
   "outputs": [
    {
     "data": {
      "text/plain": [
       "['article_5', 'article_6', 'article_1']"
      ]
     },
     "execution_count": 42,
     "metadata": {},
     "output_type": "execute_result"
    }
   ],
   "source": [
    "recommand_result(sample_df.index[4])"
   ]
  },
  {
   "cell_type": "markdown",
   "metadata": {},
   "source": [
    "- 평가 지표"
   ]
  },
  {
   "cell_type": "code",
   "execution_count": 43,
   "metadata": {
    "scrolled": true
   },
   "outputs": [
    {
     "data": {
      "text/plain": [
       "{'mae': 2.05, 'mse': 5.325, 'rmse': 2.2284347104730364}"
      ]
     },
     "execution_count": 43,
     "metadata": {},
     "output_type": "execute_result"
    }
   ],
   "source": [
    "evaluate(sample_df)"
   ]
  }
 ],
 "metadata": {
  "kernelspec": {
   "display_name": "Python 3",
   "language": "python",
   "name": "python3"
  },
  "language_info": {
   "codemirror_mode": {
    "name": "ipython",
    "version": 3
   },
   "file_extension": ".py",
   "mimetype": "text/x-python",
   "name": "python",
   "nbconvert_exporter": "python",
   "pygments_lexer": "ipython3",
   "version": "3.6.3"
  }
 },
 "nbformat": 4,
 "nbformat_minor": 2
}
