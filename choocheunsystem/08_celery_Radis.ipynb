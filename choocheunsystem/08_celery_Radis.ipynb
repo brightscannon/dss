{
 "cells": [
  {
   "cell_type": "markdown",
   "metadata": {},
   "source": [
    "##### Celery\n",
    "- python에서 사용하는 비동기 작업큐\n",
    "- message broker 가 python process를 연결해서 process를 컨트롤해 줌\n",
    "- message broker(asynchronous queue) - redis\n",
    "- install package\n",
    "    - mac\n",
    "        - `$ pip3 install celery redis`\n",
    "    - windows\n",
    "        - 관리자 권한으로 cmd 창에서 실행\n",
    "        - celery 4.x 버전은 windows를 지원하지 않습니다.\n",
    "        - `> conda install -c conda-forge celery==3.1.25`\n",
    "        - `> conda install -c conda-forge redis-py`\n",
    "- reference : http://www.celeryproject.org/"
   ]
  },
  {
   "cell_type": "markdown",
   "metadata": {},
   "source": [
    "##### Redis\n",
    "- mac\n",
    "    - `$ brew install redis`\n",
    "    - `$ redis-server`\n",
    "- window\n",
    "    - https://github.com/MSOpenTech/redis/releases download\n",
    "        - radis-x64-3.x.msi\n",
    "        - 설치후 재부팅\n",
    "    - `C:\\ProgramFiles\\Redis> redis-cli.exe`\n",
    "    - `127.0.0.1:6379> shutdown`\n",
    "    - `not connected> exit`\n",
    "    - `C:\\ProgramFiles\\Redis> redis-server.exe`"
   ]
  },
  {
   "cell_type": "code",
   "execution_count": 2,
   "metadata": {},
   "outputs": [
    {
     "name": "stdout",
     "output_type": "stream",
     "text": [
      "set True\n"
     ]
    }
   ],
   "source": [
    "import redis\n",
    "\n",
    "r = redis.StrictRedis(host='localhost', port=6379, db=0)\n",
    "\n",
    "# set key and value\n",
    "result = r.set('foo', 'bar')\n",
    "print(\"set\", result)"
   ]
  },
  {
   "cell_type": "code",
   "execution_count": 3,
   "metadata": {},
   "outputs": [
    {
     "name": "stdout",
     "output_type": "stream",
     "text": [
      "get b'bar'\n"
     ]
    }
   ],
   "source": [
    "# get value \n",
    "result = r.get('foo')\n",
    "print(\"get\", result)"
   ]
  },
  {
   "cell_type": "code",
   "execution_count": 4,
   "metadata": {},
   "outputs": [
    {
     "name": "stdout",
     "output_type": "stream",
     "text": [
      "get(after decode) bar\n"
     ]
    }
   ],
   "source": [
    "# decode ascii\n",
    "result = result.decode('ascii')\n",
    "print(\"get(after decode)\", result)"
   ]
  },
  {
   "cell_type": "markdown",
   "metadata": {},
   "source": [
    "##### start celery\n",
    "- make task.py\n",
    "- start celery\n",
    "    - mac\n",
    "        - `$ celery -A task worker`\n",
    "    - windows\n",
    "        - `$ celery -A task worker -l info`\n",
    "- run celery"
   ]
  },
  {
   "cell_type": "markdown",
   "metadata": {},
   "source": [
    "- make task.py"
   ]
  },
  {
   "cell_type": "code",
   "execution_count": null,
   "metadata": {},
   "outputs": [],
   "source": [
    "%%time\n",
    "# prime_number\n",
    "def prime_number(n):\n",
    "    prime_list = []\n",
    "    for num1 in range(1, n+1):\n",
    "        is_prime = True\n",
    "        for num2 in range(2, num1):\n",
    "            if num1 % num2 == 0:\n",
    "                is_prime = False\n",
    "        if is_prime:\n",
    "            prime_list.append(num1)\n",
    "    return prime_list\n",
    "\n",
    "len(prime_number(10000))"
   ]
  },
  {
   "cell_type": "code",
   "execution_count": null,
   "metadata": {},
   "outputs": [],
   "source": [
    "%%writefile task.py\n",
    "\n",
    "from celery import Celery\n",
    "\n",
    "BROKER_URL = 'redis://localhost:6379/0'\n",
    "CELERY_RESULT_BACKEND = 'redis://localhost:6379/0'\n",
    "\n",
    "app = Celery('task', broker=BROKER_URL, backend=CELERY_RESULT_BACKEND)\n",
    "\n",
    "@app.task \n",
    "def prime_number(n):\n",
    "    prime_count = 0\n",
    "    for num1 in range(1, n+1):\n",
    "        is_prime = True\n",
    "        for num2 in range(2, num1):\n",
    "            if num1 % num2 == 0:\n",
    "                is_prime = False\n",
    "        if is_prime:\n",
    "            prime_count += 1\n",
    "    return prime_count"
   ]
  },
  {
   "cell_type": "markdown",
   "metadata": {},
   "source": [
    "- run celery"
   ]
  },
  {
   "cell_type": "code",
   "execution_count": null,
   "metadata": {},
   "outputs": [],
   "source": [
    "import task"
   ]
  },
  {
   "cell_type": "code",
   "execution_count": null,
   "metadata": {},
   "outputs": [],
   "source": [
    "result_1 = task.prime_number.delay(20000)\n",
    "result_2 = task.prime_number.delay(10000)"
   ]
  },
  {
   "cell_type": "code",
   "execution_count": null,
   "metadata": {},
   "outputs": [],
   "source": [
    "import time\n",
    "\n",
    "is_done_1, is_done_2 = False, False\n",
    "r_1, r_2 = 0, 0\n",
    "count = 0\n",
    "\n",
    "while (not is_done_1) or (not is_done_2):\n",
    "    is_done_1 = result_1.ready()\n",
    "    is_done_2 = result_2.ready()\n",
    "    time.sleep(1)\n",
    "    count += 1\n",
    "    \n",
    "    if is_done_1:\n",
    "        r_1 = result_1.get()\n",
    "    if is_done_2:\n",
    "        r_2 = result_2.get()\n",
    "        \n",
    "    print(\"{} sec : done1-{}, done2-{}, r_1-{}, r_2-{}\".format(count, is_done_1, is_done_2, r_1, r_2))\n",
    "\n",
    "result_1.get(), result_2.get()"
   ]
  }
 ],
 "metadata": {
  "kernelspec": {
   "display_name": "Python 3",
   "language": "python",
   "name": "python3"
  },
  "language_info": {
   "codemirror_mode": {
    "name": "ipython",
    "version": 3
   },
   "file_extension": ".py",
   "mimetype": "text/x-python",
   "name": "python",
   "nbconvert_exporter": "python",
   "pygments_lexer": "ipython3",
   "version": "3.6.3"
  }
 },
 "nbformat": 4,
 "nbformat_minor": 2
}
