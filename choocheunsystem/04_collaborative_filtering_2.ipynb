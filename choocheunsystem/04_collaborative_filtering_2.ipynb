{
 "cells": [
  {
   "cell_type": "markdown",
   "metadata": {},
   "source": [
    "### Make Class\n",
    "- DssSm : 유사도 클래스\n",
    "- DssEvaluate : 성능평가 클래스\n",
    "- DssRecommend : 추천 클래스"
   ]
  },
  {
   "cell_type": "markdown",
   "metadata": {},
   "source": [
    "### structure\n",
    "\n",
    "\n",
    "- DssSm\n",
    "\n",
    "    - `intersect_nonzeroc` : 두개의 벡터에서 0이 아닌 index를 찾고 index에 해당하는 데이터만 남김\n",
    "    - `euclidean_similarity` : 두벡터의 유클리디안 거리 유사도를 구함 (두 벡터중에서 0인 index 데이터는 제거)\n",
    "    - `cosine_similarity` : 두벡터의 코사인 유사도를 구함 (두 벡터중에서 0인 index 데이터는 제거)\n",
    "    \n",
    "    \n",
    "- DssEvaluate\n",
    "\n",
    "    - `__preprocessing` : 샘플 데이터 프레임과 예측 데이터 프레임에서 0인 데이터를 제외하고 계산하도록 전처리\n",
    "    - `mse` : mse 값을 구함\n",
    "    - `rmse` : rmse 값을 구함\n",
    "    - `mae` : mae 값을 구함\n",
    "    \n",
    "    \n",
    "- DssRecommend(DssSm, DssEvaluate)\n",
    "\n",
    "    - `similarity_matrix` : 유사도 매트릭스를 구함\n",
    "    - `__pred_score` : 한 user에 대한 예측 벡터를 구함\n",
    "    - `pred_matrix` : 전체 user에 대한 예측 매트릭스를 만듦\n",
    "    - `recommand_matrix` : 예측 데이터가 순서대로 들어있는 데이터 프레임을 만듦\n",
    "    - `recommand_user` : 사용자를 넣으면 사용자에 맞는 컨텐츠를 추천순으로 출력\n",
    "    - `auto` : 위의 과정을 자동으로 수행\n",
    "    - `__repr__` : 객체 정보를 보여줌"
   ]
  },
  {
   "cell_type": "code",
   "execution_count": 1,
   "metadata": {},
   "outputs": [],
   "source": [
    "import numpy as np\n",
    "import pandas as pd\n",
    "from scipy import spatial"
   ]
  },
  {
   "cell_type": "code",
   "execution_count": 2,
   "metadata": {},
   "outputs": [
    {
     "data": {
      "text/html": [
       "<div>\n",
       "<style scoped>\n",
       "    .dataframe tbody tr th:only-of-type {\n",
       "        vertical-align: middle;\n",
       "    }\n",
       "\n",
       "    .dataframe tbody tr th {\n",
       "        vertical-align: top;\n",
       "    }\n",
       "\n",
       "    .dataframe thead th {\n",
       "        text-align: right;\n",
       "    }\n",
       "</style>\n",
       "<table border=\"1\" class=\"dataframe\">\n",
       "  <thead>\n",
       "    <tr style=\"text-align: right;\">\n",
       "      <th></th>\n",
       "      <th>article_1</th>\n",
       "      <th>article_2</th>\n",
       "      <th>article_3</th>\n",
       "      <th>article_4</th>\n",
       "      <th>article_5</th>\n",
       "      <th>article_6</th>\n",
       "    </tr>\n",
       "  </thead>\n",
       "  <tbody>\n",
       "    <tr>\n",
       "      <th>user_1</th>\n",
       "      <td>5</td>\n",
       "      <td>3</td>\n",
       "      <td>0</td>\n",
       "      <td>0</td>\n",
       "      <td>2</td>\n",
       "      <td>3</td>\n",
       "    </tr>\n",
       "    <tr>\n",
       "      <th>user_2</th>\n",
       "      <td>2</td>\n",
       "      <td>0</td>\n",
       "      <td>0</td>\n",
       "      <td>1</td>\n",
       "      <td>4</td>\n",
       "      <td>1</td>\n",
       "    </tr>\n",
       "    <tr>\n",
       "      <th>user_3</th>\n",
       "      <td>0</td>\n",
       "      <td>0</td>\n",
       "      <td>5</td>\n",
       "      <td>3</td>\n",
       "      <td>1</td>\n",
       "      <td>2</td>\n",
       "    </tr>\n",
       "    <tr>\n",
       "      <th>user_4</th>\n",
       "      <td>4</td>\n",
       "      <td>0</td>\n",
       "      <td>4</td>\n",
       "      <td>5</td>\n",
       "      <td>0</td>\n",
       "      <td>5</td>\n",
       "    </tr>\n",
       "    <tr>\n",
       "      <th>user_5</th>\n",
       "      <td>0</td>\n",
       "      <td>0</td>\n",
       "      <td>1</td>\n",
       "      <td>2</td>\n",
       "      <td>0</td>\n",
       "      <td>0</td>\n",
       "    </tr>\n",
       "  </tbody>\n",
       "</table>\n",
       "</div>"
      ],
      "text/plain": [
       "        article_1  article_2  article_3  article_4  article_5  article_6\n",
       "user_1          5          3          0          0          2          3\n",
       "user_2          2          0          0          1          4          1\n",
       "user_3          0          0          5          3          1          2\n",
       "user_4          4          0          4          5          0          5\n",
       "user_5          0          0          1          2          0          0"
      ]
     },
     "execution_count": 2,
     "metadata": {},
     "output_type": "execute_result"
    }
   ],
   "source": [
    "columns = [\"article_1\",\"article_2\",\"article_3\",\"article_4\",\"article_5\",\"article_6\"]\n",
    "index = [\"user_1\", \"user_2\", \"user_3\", \"user_4\", \"user_5\"]\n",
    "\n",
    "data = np.array([\n",
    "    [5,3,0,0,2,3],\n",
    "    [2,0,0,1,4,1],\n",
    "    [0,0,5,3,1,2],\n",
    "    [4,0,4,5,0,5],\n",
    "    [0,0,1,2,0,0],\n",
    "])\n",
    "\n",
    "sample_df = pd.DataFrame(data, columns=columns, index=index)\n",
    "sample_df"
   ]
  },
  {
   "cell_type": "code",
   "execution_count": 3,
   "metadata": {},
   "outputs": [],
   "source": [
    "class DssSm:\n",
    "    \n",
    "    def intersect_nonzero(self, vector_1, vector_2):\n",
    "        idx = np.intersect1d(vector_1.nonzero(), vector_2.nonzero())\n",
    "        vector_1 = vector_1[idx]\n",
    "        vector_2 = vector_2[idx]\n",
    "        return vector_1, vector_2\n",
    "    \n",
    "    def euclidean_similarity(self, vector_1, vector_2):  \n",
    "        vector_1, vector_2 = self.intersect_nonzero(vector_1, vector_2)\n",
    "        if not(len(vector_1) or len(vector_2)):\n",
    "            return None\n",
    "        return np.linalg.norm(vector_1 - vector_2)\n",
    "    \n",
    "    def cosine_similarity(self, vector_1, vector_2):\n",
    "        vector_1, vector_2 = self.intersect_nonzero(vector_1, vector_2)\n",
    "        if not(len(vector_1) or len(vector_2)):\n",
    "            return -1\n",
    "        return 1 - spatial.distance.cosine(vector_1, vector_2)"
   ]
  },
  {
   "cell_type": "code",
   "execution_count": 4,
   "metadata": {},
   "outputs": [
    {
     "name": "stdout",
     "output_type": "stream",
     "text": [
      "[5 3 0 0 2 3] [2 0 0 1 4 1]\n"
     ]
    },
    {
     "data": {
      "text/plain": [
       "0.7433919416750282"
      ]
     },
     "execution_count": 4,
     "metadata": {},
     "output_type": "execute_result"
    }
   ],
   "source": [
    "# test code\n",
    "DS = DssSm()\n",
    "v1, v2 = sample_df.loc[\"user_1\"].values, sample_df.loc[\"user_2\"].values\n",
    "print(v1, v2)\n",
    "DS.cosine_similarity(v1, v2)"
   ]
  },
  {
   "cell_type": "code",
   "execution_count": 5,
   "metadata": {},
   "outputs": [],
   "source": [
    "class DssEvaluate:\n",
    "\n",
    "    # preprocessing - filtering prediction able datas \n",
    "    def __preprocessing(self, sample, pred):\n",
    "        zero_matrix = np.logical_and(sample != 0, pred != 0)\n",
    "        counts = np.sum(zero_matrix, axis=1)\n",
    "        c_sample = sample.copy()\n",
    "        c_pred = pred.copy()\n",
    "        c_sample[zero_matrix == False] = 0\n",
    "        c_pred[zero_matrix == False] = 0\n",
    "        return c_sample, c_pred, counts\n",
    "        \n",
    "    def mse(self, sample, pred):\n",
    "        sample, pred, counts = self.__preprocessing(sample, pred)\n",
    "        return np.average(((sample - pred) ** 2).sum(axis=1) / counts)\n",
    "    \n",
    "    def rmse(self, sample, pred):\n",
    "        sample, pred, counts = self.__preprocessing(sample, pred)\n",
    "        return np.average(np.sqrt(((sample - pred) ** 2).sum(axis=1)) / counts)\n",
    "    \n",
    "    def mae(self, sample, pred):\n",
    "        sample, pred, counts = self.__preprocessing(sample, pred)\n",
    "        return np.average(np.absolute(sample - pred).sum(axis=1) / counts) "
   ]
  },
  {
   "cell_type": "code",
   "execution_count": 6,
   "metadata": {},
   "outputs": [],
   "source": [
    "class DssRecommend(DssSm, DssEvaluate):\n",
    "    \n",
    "    def __init__(self, sample_df):\n",
    "        self.sample_df = sample_df    \n",
    "        self.pred_df = None\n",
    "        self.evaluate_df = None\n",
    "        self.rm_df = None\n",
    "        self.is_pred = False\n",
    "        self.is_evaluate = False\n",
    "        self.is_rm = False\n",
    "        \n",
    "    def similarity_matrix(self, similarity=\"cosin\"):\n",
    "        \n",
    "        if similarity == \"cosin\":\n",
    "            similarity_func = self.cosine_similarity\n",
    "        elif similarity == \"euclidean\":\n",
    "            similarity_func = self.euclidean_similarity\n",
    "            \n",
    "        matrix = []\n",
    "\n",
    "        for idx1, row1 in self.sample_df.iterrows():\n",
    "            row = []\n",
    "            for idx2, row2 in self.sample_df.iterrows():\n",
    "                row.append(similarity_func(row1.values, row2.values))\n",
    "            matrix.append(row)\n",
    "\n",
    "        sm_df = pd.DataFrame(matrix, columns=self.sample_df.index, index=self.sample_df.index) \n",
    "        sm_df.fillna(sm_df.max().max(), inplace=True)\n",
    "        \n",
    "        return sm_df\n",
    "    \n",
    "    def __pred_score(self, sm_df, user, closer_count):\n",
    "\n",
    "        user_vec = self.sample_df.loc[user]\n",
    "\n",
    "        ms_df = sm_df.drop(user)\n",
    "        ms_df = ms_df.sort_values(user, ascending=False)\n",
    "        ms_df = ms_df[:closer_count]\n",
    "        ms_df = self.sample_df.loc[ms_df.index]\n",
    "\n",
    "        mean_vec = []\n",
    "        for idx, column in ms_df.items():\n",
    "            non_zero_count = len(np.nonzero(column.values)[0])\n",
    "            mean = 0 if non_zero_count == 0 else sum(column.values) / non_zero_count\n",
    "            mean_vec.append(mean)\n",
    "\n",
    "        pred_df = pd.DataFrame(columns=self.sample_df.columns)\n",
    "        pred_df.loc[\"user\"] = self.sample_df.loc[user]\n",
    "        pred_df.loc[\"pred\"] = mean_vec\n",
    "\n",
    "        return pred_df\n",
    "\n",
    "      \n",
    "    def pred_matrix(self, similarity=\"cosin\", closer_count=2):\n",
    "        \n",
    "        sm_df = self.similarity_matrix(similarity)\n",
    "        users = self.sample_df.index\n",
    "        \n",
    "        pred_vecs_1 = []\n",
    "        pred_vecs_2 = []\n",
    "\n",
    "        for user in users:\n",
    "            pred_df = self.__pred_score(sm_df, user, closer_count)\n",
    "            pred_vecs_1.append(pred_df.loc[\"pred\"].copy())\n",
    "            idx = pred_df.loc[\"user\"].nonzero()[0]\n",
    "            pred_df.loc[\"pred\"][idx] = 0\n",
    "            pred_vecs_2.append(pred_df.loc[\"pred\"])\n",
    "            \n",
    "        non_zero_df = pd.DataFrame(pred_vecs_1, columns=self.sample_df.columns, index=self.sample_df.index) \n",
    "        is_zero_df = pd.DataFrame(pred_vecs_2, columns=self.sample_df.columns, index=self.sample_df.index)\n",
    "        \n",
    "        self.evaluate_df = non_zero_df\n",
    "        self.pred_df = is_zero_df\n",
    "        self.is_pred = True\n",
    "        self.is_evaluate = True\n",
    "        \n",
    "        return non_zero_df, is_zero_df\n",
    "    \n",
    "    def recommand_matrix(self):\n",
    "        \n",
    "        def recommand_result(user):\n",
    "            idx = self.pred_df.loc[user].sort_values(ascending=False) > 0\n",
    "            return list(idx[idx == True].index)\n",
    "        \n",
    "        recommand_dict = {}\n",
    "        for user in self.sample_df.index:\n",
    "            recommand_dict[user] = str(recommand_result(user))[1:-1].replace(\"'\",\"\")\n",
    "        \n",
    "        self.rm_df = pd.DataFrame(recommand_dict, index=[\"recommend\"]).T\n",
    "        self.is_rm = True\n",
    "            \n",
    "        return self.rm_df\n",
    "    \n",
    "    def recommand_user(self, user):\n",
    "        return self.rm_df.loc[user].values[0].split(\",\")        \n",
    "\n",
    "    def auto(self, similarity=\"cosin\", closer_count=2):\n",
    "        self.pred_matrix(similarity, closer_count)\n",
    "        self.recommand_matrix()\n",
    "        \n",
    "    def evaluate(self):\n",
    "        return {\n",
    "            \"mse\": self.mse(self.sample_df, self.evaluate_df),\n",
    "            \"rmse\": self.rmse(self.sample_df, self.evaluate_df),\n",
    "            \"mae\": self.mae(self.sample_df, self.evaluate_df),\n",
    "        }\n",
    "        \n",
    "    def __repr__(self):\n",
    "        return \"<DssRecommend sample_df:{}, pred_df:{}, evaluate_df:{}, rm_df:{}>\".format(\n",
    "            len(self.sample_df), self.is_pred, self.is_evaluate, self.is_rm\n",
    "        )"
   ]
  },
  {
   "cell_type": "code",
   "execution_count": 7,
   "metadata": {},
   "outputs": [
    {
     "data": {
      "text/plain": [
       "<DssRecommend sample_df:5, pred_df:False, evaluate_df:False, rm_df:False>"
      ]
     },
     "execution_count": 7,
     "metadata": {},
     "output_type": "execute_result"
    }
   ],
   "source": [
    "DR = DssRecommend(sample_df)\n",
    "DR"
   ]
  },
  {
   "cell_type": "code",
   "execution_count": 8,
   "metadata": {
    "scrolled": true
   },
   "outputs": [
    {
     "data": {
      "text/html": [
       "<div>\n",
       "<style scoped>\n",
       "    .dataframe tbody tr th:only-of-type {\n",
       "        vertical-align: middle;\n",
       "    }\n",
       "\n",
       "    .dataframe tbody tr th {\n",
       "        vertical-align: top;\n",
       "    }\n",
       "\n",
       "    .dataframe thead th {\n",
       "        text-align: right;\n",
       "    }\n",
       "</style>\n",
       "<table border=\"1\" class=\"dataframe\">\n",
       "  <thead>\n",
       "    <tr style=\"text-align: right;\">\n",
       "      <th></th>\n",
       "      <th>user_1</th>\n",
       "      <th>user_2</th>\n",
       "      <th>user_3</th>\n",
       "      <th>user_4</th>\n",
       "      <th>user_5</th>\n",
       "    </tr>\n",
       "  </thead>\n",
       "  <tbody>\n",
       "    <tr>\n",
       "      <th>user_1</th>\n",
       "      <td>0.000000</td>\n",
       "      <td>4.123106</td>\n",
       "      <td>1.414214</td>\n",
       "      <td>2.236068</td>\n",
       "      <td>6.000000</td>\n",
       "    </tr>\n",
       "    <tr>\n",
       "      <th>user_2</th>\n",
       "      <td>4.123106</td>\n",
       "      <td>0.000000</td>\n",
       "      <td>3.741657</td>\n",
       "      <td>6.000000</td>\n",
       "      <td>1.000000</td>\n",
       "    </tr>\n",
       "    <tr>\n",
       "      <th>user_3</th>\n",
       "      <td>1.414214</td>\n",
       "      <td>3.741657</td>\n",
       "      <td>0.000000</td>\n",
       "      <td>3.741657</td>\n",
       "      <td>4.123106</td>\n",
       "    </tr>\n",
       "    <tr>\n",
       "      <th>user_4</th>\n",
       "      <td>2.236068</td>\n",
       "      <td>6.000000</td>\n",
       "      <td>3.741657</td>\n",
       "      <td>0.000000</td>\n",
       "      <td>4.242641</td>\n",
       "    </tr>\n",
       "    <tr>\n",
       "      <th>user_5</th>\n",
       "      <td>6.000000</td>\n",
       "      <td>1.000000</td>\n",
       "      <td>4.123106</td>\n",
       "      <td>4.242641</td>\n",
       "      <td>0.000000</td>\n",
       "    </tr>\n",
       "  </tbody>\n",
       "</table>\n",
       "</div>"
      ],
      "text/plain": [
       "          user_1    user_2    user_3    user_4    user_5\n",
       "user_1  0.000000  4.123106  1.414214  2.236068  6.000000\n",
       "user_2  4.123106  0.000000  3.741657  6.000000  1.000000\n",
       "user_3  1.414214  3.741657  0.000000  3.741657  4.123106\n",
       "user_4  2.236068  6.000000  3.741657  0.000000  4.242641\n",
       "user_5  6.000000  1.000000  4.123106  4.242641  0.000000"
      ]
     },
     "execution_count": 8,
     "metadata": {},
     "output_type": "execute_result"
    }
   ],
   "source": [
    "euclidean_sm = DR.similarity_matrix(\"euclidean\")\n",
    "euclidean_sm"
   ]
  },
  {
   "cell_type": "code",
   "execution_count": 9,
   "metadata": {},
   "outputs": [
    {
     "data": {
      "text/html": [
       "<div>\n",
       "<style scoped>\n",
       "    .dataframe tbody tr th:only-of-type {\n",
       "        vertical-align: middle;\n",
       "    }\n",
       "\n",
       "    .dataframe tbody tr th {\n",
       "        vertical-align: top;\n",
       "    }\n",
       "\n",
       "    .dataframe thead th {\n",
       "        text-align: right;\n",
       "    }\n",
       "</style>\n",
       "<table border=\"1\" class=\"dataframe\">\n",
       "  <thead>\n",
       "    <tr style=\"text-align: right;\">\n",
       "      <th></th>\n",
       "      <th>user_1</th>\n",
       "      <th>user_2</th>\n",
       "      <th>user_3</th>\n",
       "      <th>user_4</th>\n",
       "      <th>user_5</th>\n",
       "    </tr>\n",
       "  </thead>\n",
       "  <tbody>\n",
       "    <tr>\n",
       "      <th>user_1</th>\n",
       "      <td>1.000000</td>\n",
       "      <td>0.743392</td>\n",
       "      <td>0.992278</td>\n",
       "      <td>0.937425</td>\n",
       "      <td>-1.000000</td>\n",
       "    </tr>\n",
       "    <tr>\n",
       "      <th>user_2</th>\n",
       "      <td>0.743392</td>\n",
       "      <td>1.000000</td>\n",
       "      <td>0.566947</td>\n",
       "      <td>0.904534</td>\n",
       "      <td>1.000000</td>\n",
       "    </tr>\n",
       "    <tr>\n",
       "      <th>user_3</th>\n",
       "      <td>0.992278</td>\n",
       "      <td>0.566947</td>\n",
       "      <td>1.000000</td>\n",
       "      <td>0.898563</td>\n",
       "      <td>0.843661</td>\n",
       "    </tr>\n",
       "    <tr>\n",
       "      <th>user_4</th>\n",
       "      <td>0.937425</td>\n",
       "      <td>0.904534</td>\n",
       "      <td>0.898563</td>\n",
       "      <td>1.000000</td>\n",
       "      <td>0.977802</td>\n",
       "    </tr>\n",
       "    <tr>\n",
       "      <th>user_5</th>\n",
       "      <td>-1.000000</td>\n",
       "      <td>1.000000</td>\n",
       "      <td>0.843661</td>\n",
       "      <td>0.977802</td>\n",
       "      <td>1.000000</td>\n",
       "    </tr>\n",
       "  </tbody>\n",
       "</table>\n",
       "</div>"
      ],
      "text/plain": [
       "          user_1    user_2    user_3    user_4    user_5\n",
       "user_1  1.000000  0.743392  0.992278  0.937425 -1.000000\n",
       "user_2  0.743392  1.000000  0.566947  0.904534  1.000000\n",
       "user_3  0.992278  0.566947  1.000000  0.898563  0.843661\n",
       "user_4  0.937425  0.904534  0.898563  1.000000  0.977802\n",
       "user_5 -1.000000  1.000000  0.843661  0.977802  1.000000"
      ]
     },
     "execution_count": 9,
     "metadata": {},
     "output_type": "execute_result"
    }
   ],
   "source": [
    "cosin_sm = DR.similarity_matrix(\"cosin\")\n",
    "cosin_sm"
   ]
  },
  {
   "cell_type": "code",
   "execution_count": 10,
   "metadata": {},
   "outputs": [],
   "source": [
    "pred_df_1, pred_df_2 = DR.pred_matrix()"
   ]
  },
  {
   "cell_type": "code",
   "execution_count": 11,
   "metadata": {},
   "outputs": [
    {
     "data": {
      "text/html": [
       "<div>\n",
       "<style scoped>\n",
       "    .dataframe tbody tr th:only-of-type {\n",
       "        vertical-align: middle;\n",
       "    }\n",
       "\n",
       "    .dataframe tbody tr th {\n",
       "        vertical-align: top;\n",
       "    }\n",
       "\n",
       "    .dataframe thead th {\n",
       "        text-align: right;\n",
       "    }\n",
       "</style>\n",
       "<table border=\"1\" class=\"dataframe\">\n",
       "  <thead>\n",
       "    <tr style=\"text-align: right;\">\n",
       "      <th></th>\n",
       "      <th>article_1</th>\n",
       "      <th>article_2</th>\n",
       "      <th>article_3</th>\n",
       "      <th>article_4</th>\n",
       "      <th>article_5</th>\n",
       "      <th>article_6</th>\n",
       "    </tr>\n",
       "  </thead>\n",
       "  <tbody>\n",
       "    <tr>\n",
       "      <th>user_1</th>\n",
       "      <td>4.0</td>\n",
       "      <td>0.0</td>\n",
       "      <td>4.5</td>\n",
       "      <td>4.0</td>\n",
       "      <td>1.0</td>\n",
       "      <td>3.5</td>\n",
       "    </tr>\n",
       "    <tr>\n",
       "      <th>user_2</th>\n",
       "      <td>4.0</td>\n",
       "      <td>0.0</td>\n",
       "      <td>2.5</td>\n",
       "      <td>3.5</td>\n",
       "      <td>0.0</td>\n",
       "      <td>5.0</td>\n",
       "    </tr>\n",
       "    <tr>\n",
       "      <th>user_3</th>\n",
       "      <td>4.5</td>\n",
       "      <td>3.0</td>\n",
       "      <td>4.0</td>\n",
       "      <td>5.0</td>\n",
       "      <td>2.0</td>\n",
       "      <td>4.0</td>\n",
       "    </tr>\n",
       "    <tr>\n",
       "      <th>user_4</th>\n",
       "      <td>5.0</td>\n",
       "      <td>3.0</td>\n",
       "      <td>1.0</td>\n",
       "      <td>2.0</td>\n",
       "      <td>2.0</td>\n",
       "      <td>3.0</td>\n",
       "    </tr>\n",
       "    <tr>\n",
       "      <th>user_5</th>\n",
       "      <td>3.0</td>\n",
       "      <td>0.0</td>\n",
       "      <td>4.0</td>\n",
       "      <td>3.0</td>\n",
       "      <td>4.0</td>\n",
       "      <td>3.0</td>\n",
       "    </tr>\n",
       "  </tbody>\n",
       "</table>\n",
       "</div>"
      ],
      "text/plain": [
       "        article_1  article_2  article_3  article_4  article_5  article_6\n",
       "user_1        4.0        0.0        4.5        4.0        1.0        3.5\n",
       "user_2        4.0        0.0        2.5        3.5        0.0        5.0\n",
       "user_3        4.5        3.0        4.0        5.0        2.0        4.0\n",
       "user_4        5.0        3.0        1.0        2.0        2.0        3.0\n",
       "user_5        3.0        0.0        4.0        3.0        4.0        3.0"
      ]
     },
     "execution_count": 11,
     "metadata": {},
     "output_type": "execute_result"
    }
   ],
   "source": [
    "pred_df_1"
   ]
  },
  {
   "cell_type": "code",
   "execution_count": 12,
   "metadata": {},
   "outputs": [
    {
     "data": {
      "text/html": [
       "<div>\n",
       "<style scoped>\n",
       "    .dataframe tbody tr th:only-of-type {\n",
       "        vertical-align: middle;\n",
       "    }\n",
       "\n",
       "    .dataframe tbody tr th {\n",
       "        vertical-align: top;\n",
       "    }\n",
       "\n",
       "    .dataframe thead th {\n",
       "        text-align: right;\n",
       "    }\n",
       "</style>\n",
       "<table border=\"1\" class=\"dataframe\">\n",
       "  <thead>\n",
       "    <tr style=\"text-align: right;\">\n",
       "      <th></th>\n",
       "      <th>article_1</th>\n",
       "      <th>article_2</th>\n",
       "      <th>article_3</th>\n",
       "      <th>article_4</th>\n",
       "      <th>article_5</th>\n",
       "      <th>article_6</th>\n",
       "    </tr>\n",
       "  </thead>\n",
       "  <tbody>\n",
       "    <tr>\n",
       "      <th>user_1</th>\n",
       "      <td>0.0</td>\n",
       "      <td>0.0</td>\n",
       "      <td>4.5</td>\n",
       "      <td>4.0</td>\n",
       "      <td>0.0</td>\n",
       "      <td>0.0</td>\n",
       "    </tr>\n",
       "    <tr>\n",
       "      <th>user_2</th>\n",
       "      <td>0.0</td>\n",
       "      <td>0.0</td>\n",
       "      <td>2.5</td>\n",
       "      <td>0.0</td>\n",
       "      <td>0.0</td>\n",
       "      <td>0.0</td>\n",
       "    </tr>\n",
       "    <tr>\n",
       "      <th>user_3</th>\n",
       "      <td>4.5</td>\n",
       "      <td>3.0</td>\n",
       "      <td>0.0</td>\n",
       "      <td>0.0</td>\n",
       "      <td>0.0</td>\n",
       "      <td>0.0</td>\n",
       "    </tr>\n",
       "    <tr>\n",
       "      <th>user_4</th>\n",
       "      <td>0.0</td>\n",
       "      <td>3.0</td>\n",
       "      <td>0.0</td>\n",
       "      <td>0.0</td>\n",
       "      <td>2.0</td>\n",
       "      <td>0.0</td>\n",
       "    </tr>\n",
       "    <tr>\n",
       "      <th>user_5</th>\n",
       "      <td>3.0</td>\n",
       "      <td>0.0</td>\n",
       "      <td>0.0</td>\n",
       "      <td>0.0</td>\n",
       "      <td>4.0</td>\n",
       "      <td>3.0</td>\n",
       "    </tr>\n",
       "  </tbody>\n",
       "</table>\n",
       "</div>"
      ],
      "text/plain": [
       "        article_1  article_2  article_3  article_4  article_5  article_6\n",
       "user_1        0.0        0.0        4.5        4.0        0.0        0.0\n",
       "user_2        0.0        0.0        2.5        0.0        0.0        0.0\n",
       "user_3        4.5        3.0        0.0        0.0        0.0        0.0\n",
       "user_4        0.0        3.0        0.0        0.0        2.0        0.0\n",
       "user_5        3.0        0.0        0.0        0.0        4.0        3.0"
      ]
     },
     "execution_count": 12,
     "metadata": {},
     "output_type": "execute_result"
    }
   ],
   "source": [
    "pred_df_2"
   ]
  },
  {
   "cell_type": "code",
   "execution_count": 13,
   "metadata": {
    "scrolled": true
   },
   "outputs": [
    {
     "data": {
      "text/html": [
       "<div>\n",
       "<style scoped>\n",
       "    .dataframe tbody tr th:only-of-type {\n",
       "        vertical-align: middle;\n",
       "    }\n",
       "\n",
       "    .dataframe tbody tr th {\n",
       "        vertical-align: top;\n",
       "    }\n",
       "\n",
       "    .dataframe thead th {\n",
       "        text-align: right;\n",
       "    }\n",
       "</style>\n",
       "<table border=\"1\" class=\"dataframe\">\n",
       "  <thead>\n",
       "    <tr style=\"text-align: right;\">\n",
       "      <th></th>\n",
       "      <th>recommend</th>\n",
       "    </tr>\n",
       "  </thead>\n",
       "  <tbody>\n",
       "    <tr>\n",
       "      <th>user_1</th>\n",
       "      <td>article_3, article_4</td>\n",
       "    </tr>\n",
       "    <tr>\n",
       "      <th>user_2</th>\n",
       "      <td>article_3</td>\n",
       "    </tr>\n",
       "    <tr>\n",
       "      <th>user_3</th>\n",
       "      <td>article_1, article_2</td>\n",
       "    </tr>\n",
       "    <tr>\n",
       "      <th>user_4</th>\n",
       "      <td>article_2, article_5</td>\n",
       "    </tr>\n",
       "    <tr>\n",
       "      <th>user_5</th>\n",
       "      <td>article_5, article_6, article_1</td>\n",
       "    </tr>\n",
       "  </tbody>\n",
       "</table>\n",
       "</div>"
      ],
      "text/plain": [
       "                              recommend\n",
       "user_1             article_3, article_4\n",
       "user_2                        article_3\n",
       "user_3             article_1, article_2\n",
       "user_4             article_2, article_5\n",
       "user_5  article_5, article_6, article_1"
      ]
     },
     "execution_count": 13,
     "metadata": {},
     "output_type": "execute_result"
    }
   ],
   "source": [
    "rm_df = DR.recommand_matrix()\n",
    "rm_df"
   ]
  },
  {
   "cell_type": "code",
   "execution_count": 14,
   "metadata": {},
   "outputs": [
    {
     "data": {
      "text/plain": [
       "['article_5', ' article_6', ' article_1']"
      ]
     },
     "execution_count": 14,
     "metadata": {},
     "output_type": "execute_result"
    }
   ],
   "source": [
    "DR.recommand_user(\"user_5\")"
   ]
  },
  {
   "cell_type": "code",
   "execution_count": 15,
   "metadata": {},
   "outputs": [],
   "source": [
    "DR = DssRecommend(sample_df)\n",
    "DR.auto()"
   ]
  },
  {
   "cell_type": "code",
   "execution_count": 16,
   "metadata": {},
   "outputs": [
    {
     "data": {
      "text/plain": [
       "<DssRecommend sample_df:5, pred_df:True, evaluate_df:True, rm_df:True>"
      ]
     },
     "execution_count": 16,
     "metadata": {},
     "output_type": "execute_result"
    }
   ],
   "source": [
    "DR"
   ]
  },
  {
   "cell_type": "code",
   "execution_count": 17,
   "metadata": {},
   "outputs": [
    {
     "data": {
      "text/plain": [
       "{'mae': 1.8833333333333335, 'mse': 4.55, 'rmse': 1.1556982507228795}"
      ]
     },
     "execution_count": 17,
     "metadata": {},
     "output_type": "execute_result"
    }
   ],
   "source": [
    "DR.evaluate()"
   ]
  }
 ],
 "metadata": {
  "kernelspec": {
   "display_name": "Python 3",
   "language": "python",
   "name": "python3"
  },
  "language_info": {
   "codemirror_mode": {
    "name": "ipython",
    "version": 3
   },
   "file_extension": ".py",
   "mimetype": "text/x-python",
   "name": "python",
   "nbconvert_exporter": "python",
   "pygments_lexer": "ipython3",
   "version": "3.6.4"
  }
 },
 "nbformat": 4,
 "nbformat_minor": 2
}
