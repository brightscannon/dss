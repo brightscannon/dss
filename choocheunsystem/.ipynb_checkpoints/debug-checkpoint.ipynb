{
 "cells": [
  {
   "cell_type": "markdown",
   "metadata": {},
   "source": [
    "##### pdb\n",
    "- jupyter notebook debug\n",
    "- https://pypi.python.org/pypi/ipdb\n",
    "- http://frid.github.io/blog/2014/06/05/python-ipdb-cheatsheet/\n",
    "- mac\n",
    "    - `$ pip3 install ipdb`\n",
    "- windows\n",
    "    - `$conda install -c conda-forge ipdb`"
   ]
  },
  {
   "cell_type": "code",
   "execution_count": null,
   "metadata": {},
   "outputs": [],
   "source": [
    "import ipdb"
   ]
  },
  {
   "cell_type": "code",
   "execution_count": null,
   "metadata": {},
   "outputs": [],
   "source": [
    "# h : help\n",
    "# q : quit\n",
    "# n : next line\n",
    "# u : one level up (실행되고 있는 함수 확인)\n",
    "# enter : 현재 변수 출력"
   ]
  },
  {
   "cell_type": "code",
   "execution_count": null,
   "metadata": {},
   "outputs": [],
   "source": [
    "def test(total=0, start=1, end=3):\n",
    "    for idx in range(start, end):\n",
    "        ipdb.set_trace()\n",
    "        total += idx\n",
    "        print(idx, total)\n",
    "    return idx, total"
   ]
  },
  {
   "cell_type": "code",
   "execution_count": null,
   "metadata": {},
   "outputs": [],
   "source": [
    "test()"
   ]
  }
 ],
 "metadata": {
  "kernelspec": {
   "display_name": "Python 3",
   "language": "python",
   "name": "python3"
  },
  "language_info": {
   "codemirror_mode": {
    "name": "ipython",
    "version": 3
   },
   "file_extension": ".py",
   "mimetype": "text/x-python",
   "name": "python",
   "nbconvert_exporter": "python",
   "pygments_lexer": "ipython3",
   "version": "3.6.3"
  }
 },
 "nbformat": 4,
 "nbformat_minor": 2
}
