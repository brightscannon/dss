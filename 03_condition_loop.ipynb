{
 "cells": [
  {
   "cell_type": "markdown",
   "metadata": {},
   "source": [
    "## input, Output, Condition, Loop\n",
    "\n",
    "\n",
    "### input\n",
    "- 데이터를 받을 때 사용합니다."
   ]
  },
  {
   "cell_type": "code",
   "execution_count": 2,
   "metadata": {},
   "outputs": [
    {
     "name": "stdout",
     "output_type": "stream",
     "text": [
      "insert string : a\n",
      "<class 'str'> a\n"
     ]
    }
   ],
   "source": [
    "s = input(\"insert string : \")\n",
    "print(type(s), s)"
   ]
  },
  {
   "cell_type": "code",
   "execution_count": 6,
   "metadata": {},
   "outputs": [
    {
     "name": "stdout",
     "output_type": "stream",
     "text": [
      "insert integer : 12345\n",
      "<class 'int'> 12345\n"
     ]
    }
   ],
   "source": [
    "n= int(input(\"insert integer : \"))\n",
    "print(type(n), n)"
   ]
  },
  {
   "cell_type": "code",
   "execution_count": 8,
   "metadata": {},
   "outputs": [
    {
     "name": "stdout",
     "output_type": "stream",
     "text": [
      "insert list (sep=',') : 1,23,4,567\n",
      "<class 'list'> ['1', '23', '4', '567']\n"
     ]
    }
   ],
   "source": [
    "ls = input(\"insert list (sep=',') : \")\n",
    "ls = ls.split(\",\")\n",
    "print(type(ls), ls)"
   ]
  },
  {
   "cell_type": "code",
   "execution_count": 9,
   "metadata": {},
   "outputs": [
    {
     "name": "stdout",
     "output_type": "stream",
     "text": [
      "0 1\n"
     ]
    }
   ],
   "source": [
    "#출력하기\n",
    "a,b=0,1\n",
    "print(a,b)"
   ]
  },
  {
   "cell_type": "code",
   "execution_count": 10,
   "metadata": {},
   "outputs": [],
   "source": [
    "#pprint : 딕셔너리형태의 큰 데이터를 보기 편하게 출력해줌 ★★★★★★★ 주피터노트북은 잘 안되고 다른거 사용하세요\n",
    "from pprint import pprint"
   ]
  },
  {
   "cell_type": "markdown",
   "metadata": {},
   "source": [
    "### 조건 : if, elif, else"
   ]
  },
  {
   "cell_type": "code",
   "execution_count": 11,
   "metadata": {},
   "outputs": [],
   "source": [
    "#뭔지는 잘 알지??? ㅋㅋㅋ"
   ]
  },
  {
   "cell_type": "markdown",
   "metadata": {},
   "source": [
    "## 반복문★★\n",
    "- while, for, break, continue , BONUS --> range, zip(행열변환), enumerate(인덱스,값을 내보냄)\n",
    "- List Comprehension (일반 포문보다 리스트 만들때 더 빠르다) 함수형 for문 이라고도 함\n"
   ]
  },
  {
   "cell_type": "code",
   "execution_count": null,
   "metadata": {},
   "outputs": [],
   "source": []
  },
  {
   "cell_type": "code",
   "execution_count": 13,
   "metadata": {},
   "outputs": [
    {
     "name": "stdout",
     "output_type": "stream",
     "text": [
      "3\n",
      "2\n",
      "1\n"
     ]
    },
    {
     "data": {
      "text/plain": [
       "0"
      ]
     },
     "execution_count": 13,
     "metadata": {},
     "output_type": "execute_result"
    }
   ],
   "source": [
    "a = 3\n",
    "while a>0:\n",
    "    print(a)\n",
    "    a -= 1\n",
    "a"
   ]
  },
  {
   "cell_type": "code",
   "execution_count": 20,
   "metadata": {},
   "outputs": [
    {
     "name": "stdout",
     "output_type": "stream",
     "text": [
      "even 4\n",
      "even 2\n",
      "even 0\n"
     ]
    }
   ],
   "source": [
    "# continue\n",
    "a = 5\n",
    "while a > 0:\n",
    "    a -= 1\n",
    "    if a % 2 != 0:\n",
    "        continue\n",
    "    print(\"even\",a)"
   ]
  },
  {
   "cell_type": "code",
   "execution_count": 22,
   "metadata": {},
   "outputs": [
    {
     "name": "stdout",
     "output_type": "stream",
     "text": [
      "1\n"
     ]
    }
   ],
   "source": [
    "# for\n",
    "ls = [1,2,3]\n",
    "for value in ls:\n",
    "    if value == 2:\n",
    "        break\n",
    "    print(value)"
   ]
  },
  {
   "cell_type": "code",
   "execution_count": 25,
   "metadata": {},
   "outputs": [
    {
     "name": "stdout",
     "output_type": "stream",
     "text": [
      "1\n",
      "3\n"
     ]
    }
   ],
   "source": [
    "# for\n",
    "ls = [1,2,3]\n",
    "for value in ls:\n",
    "    if value % 2 == 0:\n",
    "        continue\n",
    "    print(value)"
   ]
  },
  {
   "cell_type": "code",
   "execution_count": 35,
   "metadata": {},
   "outputs": [
    {
     "name": "stdout",
     "output_type": "stream",
     "text": [
      "[0, 3, 6, 9]\n",
      "[5, 4, 3, 2, 1]\n"
     ]
    }
   ],
   "source": [
    "# range\n",
    "k = list(range(0,10,3))\n",
    "print(k) \n",
    "k = list(range(5,0,-1))\n",
    "print(k) "
   ]
  },
  {
   "cell_type": "markdown",
   "metadata": {},
   "source": [
    "### zip \n",
    "- 2개의 리스트를 key value 형태로 묶어주는 함수..? 그게 아니고 사실... 행과 열을 바꾸는 함수다."
   ]
  },
  {
   "cell_type": "code",
   "execution_count": 45,
   "metadata": {},
   "outputs": [
    {
     "data": {
      "text/plain": [
       "{'korean': 80, 'math': 100, 'science': 90}"
      ]
     },
     "execution_count": 45,
     "metadata": {},
     "output_type": "execute_result"
    }
   ],
   "source": [
    "subs = [\"math\", \"korean\", \"science\"]\n",
    "points = [100, 80, 90]\n",
    "\n",
    "dic = {}\n",
    "\n",
    "for sub, point in zip(subs, points):\n",
    "    dic[sub] = point\n",
    "dic"
   ]
  },
  {
   "cell_type": "code",
   "execution_count": 61,
   "metadata": {},
   "outputs": [
    {
     "data": {
      "text/plain": [
       "{'korean': 80, 'math': 100, 'science': 90}"
      ]
     },
     "execution_count": 61,
     "metadata": {},
     "output_type": "execute_result"
    }
   ],
   "source": [
    "dict(zip(subs,points))"
   ]
  },
  {
   "cell_type": "markdown",
   "metadata": {},
   "source": [
    "### enumerate"
   ]
  },
  {
   "cell_type": "code",
   "execution_count": 51,
   "metadata": {},
   "outputs": [
    {
     "name": "stdout",
     "output_type": "stream",
     "text": [
      "0 data\n",
      "1 science\n",
      "2 dss\n"
     ]
    }
   ],
   "source": [
    "#enumerate : 리스트 데이터를 index와 value 모두 동시에 사용하고 싶을때\n",
    "ls = [\"data\",\"science\",\"dss\"]\n",
    "for idx, value in enumerate(ls):\n",
    "    print(idx, value)"
   ]
  },
  {
   "cell_type": "code",
   "execution_count": 57,
   "metadata": {},
   "outputs": [
    {
     "name": "stdout",
     "output_type": "stream",
     "text": [
      "0 data\n",
      "1 science\n",
      "2 dss\n"
     ]
    },
    {
     "data": {
      "text/plain": [
       "[2]"
      ]
     },
     "execution_count": 57,
     "metadata": {},
     "output_type": "execute_result"
    }
   ],
   "source": [
    "dss_idx = []\n",
    "for idx, value in enumerate(ls):\n",
    "    if value == \"dss\":\n",
    "        dss_idx.append(idx)\n",
    "    print(idx,value)\n",
    "dss_idx"
   ]
  },
  {
   "cell_type": "code",
   "execution_count": 60,
   "metadata": {},
   "outputs": [
    {
     "data": {
      "text/plain": [
       "25"
      ]
     },
     "execution_count": 60,
     "metadata": {},
     "output_type": "execute_result"
    }
   ],
   "source": [
    "# for문을 이용해서 리스트 안에 있는 모든 숫자를 더하는 코딩을 하자.\n",
    "ls = list(range(1,10,2))\n",
    "\n",
    "result =0\n",
    "\n",
    "for i in ls:\n",
    "    result += i\n",
    "result\n"
   ]
  },
  {
   "cell_type": "code",
   "execution_count": 62,
   "metadata": {},
   "outputs": [],
   "source": [
    "# List comprehension\n",
    "- 속도가 일반 for 문을 사용하여 리스트를 만들때보다 더 빠르다\n",
    "'''\n",
    "ls = [<value> for <value> in <list> (if <condition>)]\n",
    "\n",
    "or\n",
    "\n",
    "ls = [<value> (if <condition> else <value>) for <value> in <list>]\n",
    "\n",
    "'''"
   ]
  },
  {
   "cell_type": "code",
   "execution_count": 66,
   "metadata": {},
   "outputs": [
    {
     "name": "stdout",
     "output_type": "stream",
     "text": [
      "[1, 2, 3, 4, 5]\n",
      "[1, 2, 3]\n",
      "[1, 2, 3, 4, 5]\n"
     ]
    },
    {
     "data": {
      "text/plain": [
       "[1, 2, 3, 4, 5]"
      ]
     },
     "execution_count": 66,
     "metadata": {},
     "output_type": "execute_result"
    }
   ],
   "source": [
    "# method 1\n",
    "\n",
    "ls = []\n",
    "ls = [1,2,3,4,5]\n",
    "print(ls)\n",
    "\n",
    "ls = []\n",
    "ls.append(1)\n",
    "ls.append(2)\n",
    "ls.append(3)\n",
    "print(ls)\n",
    "\n",
    "ls = []\n",
    "for num in range(1,6):\n",
    "    ls.append(num)\n",
    "print(ls)\n",
    "\n",
    "#여기부터 함축리스트(Lise comprehension)\n",
    "ls = [num for num in range(1,6)]\n",
    "\n",
    "ls\n",
    "\n"
   ]
  },
  {
   "cell_type": "code",
   "execution_count": 75,
   "metadata": {},
   "outputs": [
    {
     "name": "stdout",
     "output_type": "stream",
     "text": [
      "1 ms ± 18.3 µs per loop (mean ± std. dev. of 7 runs, 1000 loops each)\n"
     ]
    }
   ],
   "source": [
    "%%timeit\n",
    "ls = []\n",
    "for num in range(1,10000):\n",
    "    ls.append(num)\n",
    "len(ls)\n"
   ]
  },
  {
   "cell_type": "code",
   "execution_count": 76,
   "metadata": {},
   "outputs": [
    {
     "name": "stdout",
     "output_type": "stream",
     "text": [
      "386 µs ± 19.5 µs per loop (mean ± std. dev. of 7 runs, 1000 loops each)\n"
     ]
    }
   ],
   "source": [
    "%%timeit\n",
    "ls = [num for num in range(1,10000)]\n",
    "\n",
    "len(ls)"
   ]
  },
  {
   "cell_type": "code",
   "execution_count": 80,
   "metadata": {},
   "outputs": [
    {
     "name": "stdout",
     "output_type": "stream",
     "text": [
      "['0:even', '1:odd', '2:even', '3:odd', '4:even', '5:odd', '6:even', '7:odd', '8:even', '9:odd', '10:even']\n"
     ]
    }
   ],
   "source": [
    "# 0~10까지 숫자를 출력하고 출력되는 숫자 뒤에 홀수인지 짝수인지 문자열을 붙여서 출력하는 코드\n",
    "\n",
    "ls = [str(i) + \":even\" if i % 2 == 0 else str(i)+\":odd\" for i in range(11)]\n",
    "print(ls)\n"
   ]
  },
  {
   "cell_type": "code",
   "execution_count": 86,
   "metadata": {},
   "outputs": [
    {
     "data": {
      "text/plain": [
       "[1, 3, 5, 7, 9]"
      ]
     },
     "execution_count": 86,
     "metadata": {},
     "output_type": "execute_result"
    }
   ],
   "source": [
    "# 필터링기능과 삼학연산★★★★★★★★★★★★\n",
    "\n",
    "ls = [num for num in range(11) if num % 2 != 0]\n",
    "ls"
   ]
  },
  {
   "cell_type": "code",
   "execution_count": 91,
   "metadata": {},
   "outputs": [
    {
     "data": {
      "text/plain": [
       "['kim dss', 'park python', 'data', 'school', 'jung science']"
      ]
     },
     "execution_count": 91,
     "metadata": {},
     "output_type": "execute_result"
    }
   ],
   "source": [
    "#퀴즈 1(lee의 성을 없애라)\n",
    "names = [\"kim dss\",\"park python\", \"lee data\", \"lee school\", \"jung science\"]\n",
    "\n",
    "re_name = [i if i.split(\" \")[0] != \"lee\" else i.split(\" \")[1] for i in names]\n",
    "\n",
    "re_name"
   ]
  },
  {
   "cell_type": "code",
   "execution_count": 93,
   "metadata": {},
   "outputs": [
    {
     "data": {
      "text/plain": [
       "['kim dss', 'python', 'lee data', 'lee school', 'jung science']"
      ]
     },
     "execution_count": 93,
     "metadata": {},
     "output_type": "execute_result"
    }
   ],
   "source": [
    "#퀴즈 2(park의 성을 없애라)\n",
    "names = [\"kim dss\",\"park python\", \"lee data\", \"lee school\", \"jung science\"]\n",
    "\n",
    "re_name = [i if i.split(\" \")[0] != \"park\" else i.split(\" \")[1] for i in names]\n",
    "\n",
    "re_name"
   ]
  },
  {
   "cell_type": "code",
   "execution_count": null,
   "metadata": {},
   "outputs": [],
   "source": []
  },
  {
   "cell_type": "code",
   "execution_count": null,
   "metadata": {},
   "outputs": [],
   "source": []
  }
 ],
 "metadata": {
  "kernelspec": {
   "display_name": "Python 3",
   "language": "python",
   "name": "python3"
  },
  "language_info": {
   "codemirror_mode": {
    "name": "ipython",
    "version": 3
   },
   "file_extension": ".py",
   "mimetype": "text/x-python",
   "name": "python",
   "nbconvert_exporter": "python",
   "pygments_lexer": "ipython3",
   "version": "3.6.3"
  }
 },
 "nbformat": 4,
 "nbformat_minor": 2
}
