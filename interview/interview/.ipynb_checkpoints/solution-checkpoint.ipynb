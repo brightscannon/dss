{
 "cells": [
  {
   "cell_type": "markdown",
   "metadata": {},
   "source": [
    "#### 1. Arrays: Left Rotation\n",
    "- https://www.hackerrank.com/challenges/ctci-array-left-rotation/problem"
   ]
  },
  {
   "cell_type": "code",
   "execution_count": 1,
   "metadata": {},
   "outputs": [],
   "source": [
    "def array_left_rotation(a, n, k):\n",
    "    \"\"\"\n",
    "        1. a: 리스트, n: 리스트의 길이, k: 왼쪽 쉬프트 횟수\n",
    "        2. 리스트의 길이보다 쉬프트의 횟수가 많으면 쉬프트 횟수에서 리스트 길이를 빼줌 (리스트의 길이 만큼 쉬프트 하면 원래의 리스트가 되므로)\n",
    "        3. 리스트에서 쉬프트 횟수 만큼의 위치에서 리스트를 나눠 서로 자리를 바꿔줌 ( [1,2,3,4,5], k=3 -> [4,5] + [1,2,3] = [4,5,1,2,3])\n",
    "    \"\"\"\n",
    "    k = k % n\n",
    "    return a[k:] + a[:k]"
   ]
  },
  {
   "cell_type": "code",
   "execution_count": 2,
   "metadata": {},
   "outputs": [
    {
     "name": "stdout",
     "output_type": "stream",
     "text": [
      "5 1 2 3 4\n"
     ]
    }
   ],
   "source": [
    "n, k = map(int, input().strip().split(' '))\n",
    "a = list(map(int, input().strip().split(' ')))\n",
    "answer = array_left_rotation(a, n, k)\n",
    "print(*answer, sep=' ')"
   ]
  },
  {
   "cell_type": "markdown",
   "metadata": {},
   "source": [
    "#### 2. Strings: Making Anagrams\n",
    "- https://www.hackerrank.com/challenges/ctci-making-anagrams/problem"
   ]
  },
  {
   "cell_type": "code",
   "execution_count": 3,
   "metadata": {},
   "outputs": [
    {
     "name": "stdout",
     "output_type": "stream",
     "text": [
      "9\n"
     ]
    }
   ],
   "source": [
    "def number_needed(a, b):\n",
    "    \"\"\"\n",
    "        1. a: anagram을 만들 첫번째 문자열 , b: anagram을 만들 두번째 문자열\n",
    "        2. total_count: 문자들이 제거된 후의 문자열 길이\n",
    "        3. a의 문자를 하나씩 확인하며 b의 문자열에 해당 문자가 있는지 확인하여 해당 문자가 있으면 a문자열과 b문자열에서 제거\n",
    "        4. 제거할때는 a의 문자열과 b의 문자열에서 각각 삭제됨으로 total_count 2씩 줄임\n",
    "        5. 삭제되는 문자열의 수를 리턴\n",
    "    \"\"\"\n",
    "    \n",
    "    def remove(data, char):\n",
    "        \"\"\"\n",
    "            1. data: 문자열, char: 제거할 문자\n",
    "            2. 문자열을 입력받아 가장 앞에 있는 제거할 문자를 제거 후 문자열로 리턴\n",
    "            3. data = asdfa, char = a -> return 'sdfa'\n",
    "        \"\"\"\n",
    "        l = list(data)\n",
    "        l.remove(char)\n",
    "        return \"\".join(l)\n",
    "\n",
    "    list_a = list(a)\n",
    "    total_count = len(a) + len(b)\n",
    "    for idx, c in enumerate(list_a):\n",
    "        if c in b:\n",
    "            a = remove(a, c)\n",
    "            b = remove(b, c)\n",
    "            total_count -= 2\n",
    "    \n",
    "    return total_count\n",
    "        \n",
    "a = \"asdfqwerrr\"\n",
    "b = \"qwerrzxcv\"\n",
    "\n",
    "print(number_needed(a, b))"
   ]
  },
  {
   "cell_type": "markdown",
   "metadata": {},
   "source": [
    "#### 3. Hash Tables: Ransom Note\n",
    "- https://www.hackerrank.com/challenges/ctci-ransom-note/problem"
   ]
  },
  {
   "cell_type": "code",
   "execution_count": 4,
   "metadata": {},
   "outputs": [
    {
     "name": "stdout",
     "output_type": "stream",
     "text": [
      "Yes\n",
      "No\n"
     ]
    }
   ],
   "source": [
    "from collections import Counter \n",
    "\n",
    "def ransom_note(magazine, ransom):\n",
    "    \"\"\"\n",
    "       1. magazine: 매거진 단어 리스트, ransom: 랜섬 단어 리스트\n",
    "       2. magazine에 있는 단어로 ransom에 있는 문장을 만들수 있어야 한다.\n",
    "       3. magazine과 ransom에 있는 단어 리스트를 각 단어가 몇개 있는지 Counter를 사용하여 dict형태의 magazine_count와 ransom_count를 만듦\n",
    "       4. ransom_count에 있는 단어수와 magazine_count에 있는 단어수를 비교하여 ransom_count에 있는 단어수가 많은 경우가 있으면 Fasle를 리턴\n",
    "       5. magazine_count에 있는 각 단어수가 ransom_count에 있는 각 단어수보다 많거나 같으면 True를 리턴\n",
    "    \"\"\"\n",
    "    \n",
    "    magazine, ransom = \" \".join(magazine), \" \".join(ransom)\n",
    "    magazine_count = Counter(magazine.split(\" \"))\n",
    "    ransom_count = Counter(ransom.split(\" \"))\n",
    "\n",
    "    for word in ransom_count:\n",
    "        if ransom_count.get(word) > magazine_count.get(word, 0):\n",
    "            return False\n",
    "        \n",
    "    return True\n",
    "\n",
    "# Case 1\n",
    "m,n = 6,4\n",
    "magazine = \"give me one grand today night\"\n",
    "ransom = \"give one grand today\"\n",
    "\n",
    "answer = ransom_note(magazine.split(\" \"), ransom.split(\" \"))\n",
    "if(answer):\n",
    "    print(\"Yes\")\n",
    "else:\n",
    "    print(\"No\")\n",
    "\n",
    "# Case 2\n",
    "m,n = 6,5\n",
    "magazine = \"two times three is not four\"\n",
    "ransom = \"two times two is four\"\n",
    "\n",
    "answer = ransom_note(magazine.split(\" \"), ransom.split(\" \"))\n",
    "if(answer):\n",
    "    print(\"Yes\")\n",
    "else:\n",
    "    print(\"No\")"
   ]
  },
  {
   "cell_type": "markdown",
   "metadata": {},
   "source": [
    "#### 4. Stacks: Balanced Brackets\n",
    "- https://www.hackerrank.com/challenges/ctci-balanced-brackets/problem"
   ]
  },
  {
   "cell_type": "code",
   "execution_count": 5,
   "metadata": {},
   "outputs": [
    {
     "name": "stdout",
     "output_type": "stream",
     "text": [
      "NO\n",
      "YES\n"
     ]
    }
   ],
   "source": [
    "def is_matched(expression):\n",
    "    \"\"\"\n",
    "        1. expression: Bracket 문자열\n",
    "        2. '(){}[]'로 매칭되는 dict d를 만듦\n",
    "        3. expression의 bracket이 매칭되면 하나씩 삭제하는 remove_matched 함수 생성\n",
    "        4. 최대 문자열이 expression 1000개 이므로 remove_matched 함수를 최대 500번 반복 - error가 나오면 break\n",
    "        5. 남은 문자열의 길이가 0이면 True 리턴, 그렇지 않으면 False 리턴\n",
    "    \"\"\"\n",
    "    \n",
    "    iparens = iter('(){}[]')\n",
    "    d = dict(zip(iparens, iparens))\n",
    "\n",
    "    def remove_matched(expression_str):\n",
    "        \"\"\"\n",
    "            1. expression_str: expression 문자열\n",
    "            2. expression 문자가 매칭 dict인 d의 키값으로 없거나, idx가 expression_str 문자열 길이보다 1작은것과 같으면, error 리턴\n",
    "            3. expression 문자의 매칭 문자가 다음 idx에 오는 문자와 같으면 expression_str에서 해당 expression 문자 2개를 제거 후 expression_str 리턴\n",
    "        \"\"\"\n",
    "        for idx,e in enumerate(expression_str):\n",
    "            \n",
    "            if d.get(e) == None or idx == (len(expression_str)-1): \n",
    "                expression_str = \"error\"\n",
    "                break\n",
    "\n",
    "            if d[e] == expression_str[idx+1]:\n",
    "                expression_str = expression_str[:idx] + expression_str[idx+2:]\n",
    "                break\n",
    "                \n",
    "        return expression_str\n",
    "    \n",
    "    for _ in range(500):\n",
    "        expression = remove_matched(expression)\n",
    "        if expression == \"error\":\n",
    "            break\n",
    "    \n",
    "    if len(expression) == 0:\n",
    "        return True\n",
    "    return False\n",
    "        \n",
    "expression_list = []\n",
    "expression_list.append(\"({()[]{[}]}})\")\n",
    "expression_list.append(\"({()[]{[]}})\")\n",
    "\n",
    "for expression in expression_list:\n",
    "    if is_matched(expression) == True:\n",
    "        print(\"YES\")\n",
    "    else:\n",
    "        print(\"NO\")"
   ]
  },
  {
   "cell_type": "markdown",
   "metadata": {},
   "source": [
    "#### 5. Linked Lists: Detect a Cycle\n",
    "- https://www.hackerrank.com/challenges/ctci-linked-list-cycle/problem"
   ]
  },
  {
   "cell_type": "code",
   "execution_count": 6,
   "metadata": {},
   "outputs": [],
   "source": [
    "class Node(object):\n",
    "        def __init__(self, data = None, next_node = None):\n",
    "            self.data = data\n",
    "            self.next = next_node"
   ]
  },
  {
   "cell_type": "code",
   "execution_count": 7,
   "metadata": {},
   "outputs": [
    {
     "name": "stdout",
     "output_type": "stream",
     "text": [
      "0\n",
      "1\n"
     ]
    }
   ],
   "source": [
    "def has_cycle(head):\n",
    "    \"\"\"\n",
    "        1. head: 가장 처음 node\n",
    "        2. head에서 다음 노드로 100번 이동해서 다음 노드가 None이 상태가 나오면 0 리턴, 그렇지 않으면 head에 다음노드를 대입\n",
    "        3. 100번을 다 검색해도 None인 경우가 나오지 않으면 1 리턴\n",
    "    \"\"\"\n",
    "    node = head\n",
    "    for _ in range(100):\n",
    "        if head.next == None:\n",
    "            return 0\n",
    "        else:\n",
    "            head = head.next\n",
    "    return 1\n",
    "            \n",
    "\n",
    "# exam 1\n",
    "n1 = Node(1)\n",
    "result1 = has_cycle(n1)\n",
    "print(result1)\n",
    "\n",
    "# exam 2\n",
    "n1 = Node(1)\n",
    "n2 = Node(2)\n",
    "n3 = Node(3)\n",
    "n1.next = n2\n",
    "n2.next = n3\n",
    "n3.next = n2\n",
    "\n",
    "result2 = has_cycle(n1)\n",
    "print(result2)"
   ]
  }
 ],
 "metadata": {
  "kernelspec": {
   "display_name": "Python 3",
   "language": "python",
   "name": "python3"
  },
  "language_info": {
   "codemirror_mode": {
    "name": "ipython",
    "version": 3
   },
   "file_extension": ".py",
   "mimetype": "text/x-python",
   "name": "python",
   "nbconvert_exporter": "python",
   "pygments_lexer": "ipython3",
   "version": "3.6.4"
  }
 },
 "nbformat": 4,
 "nbformat_minor": 2
}
