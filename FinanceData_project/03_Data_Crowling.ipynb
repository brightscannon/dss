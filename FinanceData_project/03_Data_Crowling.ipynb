{
 "cells": [
  {
   "cell_type": "markdown",
   "metadata": {},
   "source": [
    "# 데이터 크롤링"
   ]
  },
  {
   "cell_type": "code",
   "execution_count": 19,
   "metadata": {},
   "outputs": [],
   "source": [
    "%matplotlib inline\n",
    "#주피터노트북에서 라인 아래에 보여지도록 설정\n",
    "\n",
    "%config InlineBackend.figure_formats = {'png','retina'} \n",
    "#png 이미지 압축기술설정, retina 그래프 해상도 2배 높히기"
   ]
  },
  {
   "cell_type": "markdown",
   "metadata": {},
   "source": [
    "------"
   ]
  },
  {
   "cell_type": "code",
   "execution_count": 5,
   "metadata": {},
   "outputs": [
    {
     "data": {
      "text/plain": [
       "'<!doctype html><html itemscope=\"\" itemtype=\"http://schema.org/SearchResultsPage\" lang=\"ko\"><head><meta content=\"text/html; charset=UTF-8\" http-equiv=\"Content-Type\"><meta content=\"/images/branding/googleg/1x/googleg_standard_color_128dp.png\" itemprop=\"image\"><link href=\"/images/branding/product/ico/googleg_lodp.ico\" rel=\"shortcut icon\"><title>KB금융 - Google 검색</title><style>#gbar,#guser{font-size:13px;padding-top:1px !important;}#gbar{height:22px}#guser{padding-bottom:7px !important;text-align:right}.gbh,.gbd{border-top:1px solid #c9d7f1;font-size:1px}.gbh{height:0;position:absolute;top:24px;width:100%}@media all{.gb1{height:22px;margin-right:.5em;vertical-align:top}#gbar{float:left}}a.gb1,a.gb4{text-decoration:underline !important}a.gb1,a.gb4{color:#00c !important}.gbi .gb4{color:#dd8e27 !important}.gbf .gb4{color:#900 !important} </style><style>.star{float:left;margin-top:1px;overflow:hidden}.ybhkme{font-size:11px}.j{width:34em}body,td,div,.p,a{font-family:arial,sans-serif;tap-highligh'"
      ]
     },
     "execution_count": 5,
     "metadata": {},
     "output_type": "execute_result"
    }
   ],
   "source": [
    "#get하여 html가져오기\n",
    "\n",
    "import requests\n",
    "\n",
    "r = requests.get('https://www.google.co.kr/search?q=KB금융')\n",
    "r.text[:1000]"
   ]
  },
  {
   "cell_type": "code",
   "execution_count": 6,
   "metadata": {},
   "outputs": [
    {
     "name": "stdout",
     "output_type": "stream",
     "text": [
      "검색결과 약 17,400,000개\n"
     ]
    }
   ],
   "source": [
    "# 구글 검색결과 갯수 가져오기\n",
    "\n",
    "import requests\n",
    "from bs4 import BeautifulSoup\n",
    "r = requests.get(\"https://www.google.co.kr/search?q=검색\")\n",
    "\n",
    "soup = BeautifulSoup(r.content, 'lxml')\n",
    "res_stat = soup.find(id='resultStats').text\n",
    "\n",
    "print(res_stat)"
   ]
  },
  {
   "cell_type": "markdown",
   "metadata": {},
   "source": [
    "---"
   ]
  },
  {
   "cell_type": "code",
   "execution_count": 10,
   "metadata": {},
   "outputs": [
    {
     "data": {
      "text/plain": [
       "<td class=\"cmp-table-cell td0101\">\n",
       "<dl>\n",
       "<dt>\n",
       "<span class=\"name\">삼성전자</span>\n",
       "<a class=\"cEm\" href=\"http://www.samsung.com\" target=\"comPage\" title=\"[홈페이지] www.samsung.com\"><img align=\"absmiddle\" hspace=\"3\" src=\"/images/icon_home.gif\"/></a>\n",
       "<a class=\"cEm\" title=\"[대표전화] 031-200-1114       \n",
       "[주식담당] 02-2255-8126\"><img align=\"absmiddle\" hspace=\"1\" src=\"/images/icon_tel.gif\"/></a>\n",
       "<b class=\"num\">005930</b>\n",
       "</dt>\n",
       "<dt class=\"line-left\">Samsung Electronics</dt>\n",
       "<dt class=\"line-left\">KOSPI : 전기전자</dt>\n",
       "<dt class=\"line-left\">WICS : 반도체와반도체장비</dt>\n",
       "</dl>\n",
       "</td>"
      ]
     },
     "execution_count": 10,
     "metadata": {},
     "output_type": "execute_result"
    }
   ],
   "source": [
    "#삼성전자 주식정보 가져오기\n",
    "\n",
    "code = '005930'\n",
    "url = 'http://companyinfo.stock.naver.com/v1/company/c1010001.aspx?cmp_cd='+code\n",
    "\n",
    "r = requests.get(url)\n",
    "soup = BeautifulSoup(r.text,\"lxml\")\n",
    "td = soup.find('td', {'class':'cmp-table-cell td0101'})\n",
    "td"
   ]
  },
  {
   "cell_type": "code",
   "execution_count": 8,
   "metadata": {},
   "outputs": [
    {
     "data": {
      "text/plain": [
       "'삼성전자'"
      ]
     },
     "execution_count": 8,
     "metadata": {},
     "output_type": "execute_result"
    }
   ],
   "source": [
    "td.find('span',{\"class\":'name'}).text"
   ]
  },
  {
   "cell_type": "code",
   "execution_count": 9,
   "metadata": {},
   "outputs": [
    {
     "name": "stdout",
     "output_type": "stream",
     "text": [
      "http://www.samsung.com\n",
      "[대표전화] 031-200-1114       \r",
      "[주식담당] 02-2255-8126\n"
     ]
    }
   ],
   "source": [
    "anchors = td.find_all('a', {'class':'cEm'})\n",
    "print(anchors[0]['href'])\n",
    "print(anchors[1]['title'])"
   ]
  },
  {
   "cell_type": "code",
   "execution_count": 25,
   "metadata": {},
   "outputs": [
    {
     "name": "stdout",
     "output_type": "stream",
     "text": [
      "Samsung Electronics\n",
      "KOSPI : 전기전자\n",
      "WICS : 반도체와반도체장비\n"
     ]
    }
   ],
   "source": [
    "dts = td.find_all('dt',{\"class\":\"line-left\"})\n",
    "print(dts[0].text)\n",
    "print(dts[1].text)\n",
    "print(dts[2].text)"
   ]
  },
  {
   "cell_type": "markdown",
   "metadata": {},
   "source": [
    "---"
   ]
  },
  {
   "cell_type": "code",
   "execution_count": 11,
   "metadata": {},
   "outputs": [
    {
     "data": {
      "text/plain": [
       "['아파트투유',\n",
       " '배그 점검',\n",
       " '포항지진',\n",
       " '2018 워터밤',\n",
       " '히든싱어',\n",
       " '로맨스 패키지 107호',\n",
       " '한상규',\n",
       " 'kt 요금제',\n",
       " '헥터',\n",
       " '주진우',\n",
       " '농협은행인터넷뱅킹',\n",
       " '서울시장 후보',\n",
       " '국민은행 주택청약',\n",
       " '농협',\n",
       " '손은서',\n",
       " '배틀그라운드',\n",
       " '아이수당',\n",
       " '슈츠',\n",
       " '한국교직원공제회',\n",
       " '로맨스 패키지']"
      ]
     },
     "execution_count": 11,
     "metadata": {},
     "output_type": "execute_result"
    }
   ],
   "source": [
    "# 네이버 실시간 급상승 검색어 크롤링\n",
    "import re\n",
    "import requests\n",
    "\n",
    "html_text= requests.get('http://naver.com').text\n",
    "re.findall('<span class=\"ah_k\">(.*?)</span>', html_text)[:20]"
   ]
  },
  {
   "cell_type": "code",
   "execution_count": 14,
   "metadata": {},
   "outputs": [
    {
     "data": {
      "text/html": [
       "<div>\n",
       "<style>\n",
       "    .dataframe thead tr:only-child th {\n",
       "        text-align: right;\n",
       "    }\n",
       "\n",
       "    .dataframe thead th {\n",
       "        text-align: left;\n",
       "    }\n",
       "\n",
       "    .dataframe tbody tr th {\n",
       "        vertical-align: top;\n",
       "    }\n",
       "</style>\n",
       "<table border=\"1\" class=\"dataframe\">\n",
       "  <thead>\n",
       "    <tr style=\"text-align: right;\">\n",
       "      <th></th>\n",
       "      <th>change</th>\n",
       "      <th>cvalue</th>\n",
       "      <th>delta</th>\n",
       "      <th>keyword</th>\n",
       "      <th>rank</th>\n",
       "      <th>ratio</th>\n",
       "      <th>score</th>\n",
       "      <th>tvalue</th>\n",
       "    </tr>\n",
       "  </thead>\n",
       "  <tbody>\n",
       "    <tr>\n",
       "      <th>0</th>\n",
       "      <td>+</td>\n",
       "      <td>3450</td>\n",
       "      <td>0</td>\n",
       "      <td>아파트투유</td>\n",
       "      <td>1</td>\n",
       "      <td>.</td>\n",
       "      <td>39</td>\n",
       "      <td>32.13850</td>\n",
       "    </tr>\n",
       "    <tr>\n",
       "      <th>1</th>\n",
       "      <td>+</td>\n",
       "      <td>365</td>\n",
       "      <td>0</td>\n",
       "      <td>배그 점검</td>\n",
       "      <td>2</td>\n",
       "      <td>.</td>\n",
       "      <td>267</td>\n",
       "      <td>24.56000</td>\n",
       "    </tr>\n",
       "    <tr>\n",
       "      <th>2</th>\n",
       "      <td>+</td>\n",
       "      <td>354</td>\n",
       "      <td>0</td>\n",
       "      <td>포항지진</td>\n",
       "      <td>3</td>\n",
       "      <td>.</td>\n",
       "      <td>345</td>\n",
       "      <td>25.28483</td>\n",
       "    </tr>\n",
       "    <tr>\n",
       "      <th>3</th>\n",
       "      <td>+</td>\n",
       "      <td>346</td>\n",
       "      <td>0</td>\n",
       "      <td>2018 워터밤</td>\n",
       "      <td>4</td>\n",
       "      <td>.</td>\n",
       "      <td>549</td>\n",
       "      <td>31.33095</td>\n",
       "    </tr>\n",
       "    <tr>\n",
       "      <th>4</th>\n",
       "      <td>+</td>\n",
       "      <td>165</td>\n",
       "      <td>0</td>\n",
       "      <td>히든싱어</td>\n",
       "      <td>5</td>\n",
       "      <td>.</td>\n",
       "      <td>204</td>\n",
       "      <td>19.34039</td>\n",
       "    </tr>\n",
       "    <tr>\n",
       "      <th>5</th>\n",
       "      <td>+</td>\n",
       "      <td>190</td>\n",
       "      <td>0</td>\n",
       "      <td>로맨스 패키지 107호</td>\n",
       "      <td>6</td>\n",
       "      <td>.</td>\n",
       "      <td>456</td>\n",
       "      <td>17.98706</td>\n",
       "    </tr>\n",
       "    <tr>\n",
       "      <th>6</th>\n",
       "      <td>+</td>\n",
       "      <td>248</td>\n",
       "      <td>1</td>\n",
       "      <td>kt 요금제</td>\n",
       "      <td>7</td>\n",
       "      <td>+</td>\n",
       "      <td>186</td>\n",
       "      <td>14.61466</td>\n",
       "    </tr>\n",
       "    <tr>\n",
       "      <th>7</th>\n",
       "      <td>+</td>\n",
       "      <td>122</td>\n",
       "      <td>1</td>\n",
       "      <td>헥터</td>\n",
       "      <td>8</td>\n",
       "      <td>+</td>\n",
       "      <td>633</td>\n",
       "      <td>14.91738</td>\n",
       "    </tr>\n",
       "    <tr>\n",
       "      <th>8</th>\n",
       "      <td>+</td>\n",
       "      <td>280</td>\n",
       "      <td>3</td>\n",
       "      <td>서울시장 후보</td>\n",
       "      <td>9</td>\n",
       "      <td>+</td>\n",
       "      <td>129</td>\n",
       "      <td>15.14479</td>\n",
       "    </tr>\n",
       "    <tr>\n",
       "      <th>9</th>\n",
       "      <td>+</td>\n",
       "      <td>269</td>\n",
       "      <td>0</td>\n",
       "      <td>주진우</td>\n",
       "      <td>10</td>\n",
       "      <td>.</td>\n",
       "      <td>174</td>\n",
       "      <td>13.36418</td>\n",
       "    </tr>\n",
       "    <tr>\n",
       "      <th>10</th>\n",
       "      <td>+</td>\n",
       "      <td>505</td>\n",
       "      <td>0</td>\n",
       "      <td>농협은행인터넷뱅킹</td>\n",
       "      <td>11</td>\n",
       "      <td>.</td>\n",
       "      <td>120</td>\n",
       "      <td>28.05630</td>\n",
       "    </tr>\n",
       "    <tr>\n",
       "      <th>11</th>\n",
       "      <td>+</td>\n",
       "      <td>214</td>\n",
       "      <td>1</td>\n",
       "      <td>국민은행 주택청약</td>\n",
       "      <td>12</td>\n",
       "      <td>+</td>\n",
       "      <td>189</td>\n",
       "      <td>10.99400</td>\n",
       "    </tr>\n",
       "    <tr>\n",
       "      <th>12</th>\n",
       "      <td>+</td>\n",
       "      <td>1162</td>\n",
       "      <td>1</td>\n",
       "      <td>농협</td>\n",
       "      <td>13</td>\n",
       "      <td>+</td>\n",
       "      <td>21</td>\n",
       "      <td>10.05790</td>\n",
       "    </tr>\n",
       "    <tr>\n",
       "      <th>13</th>\n",
       "      <td>+</td>\n",
       "      <td>211</td>\n",
       "      <td>2</td>\n",
       "      <td>배틀그라운드</td>\n",
       "      <td>14</td>\n",
       "      <td>+</td>\n",
       "      <td>30</td>\n",
       "      <td>8.70044</td>\n",
       "    </tr>\n",
       "    <tr>\n",
       "      <th>14</th>\n",
       "      <td>+</td>\n",
       "      <td>352</td>\n",
       "      <td>0</td>\n",
       "      <td>손은서</td>\n",
       "      <td>15</td>\n",
       "      <td>.</td>\n",
       "      <td>609</td>\n",
       "      <td>23.47090</td>\n",
       "    </tr>\n",
       "    <tr>\n",
       "      <th>15</th>\n",
       "      <td>+</td>\n",
       "      <td>691</td>\n",
       "      <td>2</td>\n",
       "      <td>슈츠</td>\n",
       "      <td>16</td>\n",
       "      <td>+</td>\n",
       "      <td>48</td>\n",
       "      <td>12.32846</td>\n",
       "    </tr>\n",
       "    <tr>\n",
       "      <th>16</th>\n",
       "      <td>+</td>\n",
       "      <td>193</td>\n",
       "      <td>2</td>\n",
       "      <td>한국교직원공제회</td>\n",
       "      <td>17</td>\n",
       "      <td>+</td>\n",
       "      <td>75</td>\n",
       "      <td>8.24582</td>\n",
       "    </tr>\n",
       "    <tr>\n",
       "      <th>17</th>\n",
       "      <td>new</td>\n",
       "      <td>229</td>\n",
       "      <td>1</td>\n",
       "      <td>아이수당</td>\n",
       "      <td>18</td>\n",
       "      <td>-</td>\n",
       "      <td>0</td>\n",
       "      <td>20.86960</td>\n",
       "    </tr>\n",
       "    <tr>\n",
       "      <th>18</th>\n",
       "      <td>+</td>\n",
       "      <td>82</td>\n",
       "      <td>0</td>\n",
       "      <td>한끼줍쇼</td>\n",
       "      <td>19</td>\n",
       "      <td>new</td>\n",
       "      <td>105</td>\n",
       "      <td>7.05238</td>\n",
       "    </tr>\n",
       "    <tr>\n",
       "      <th>19</th>\n",
       "      <td>+</td>\n",
       "      <td>118</td>\n",
       "      <td>0</td>\n",
       "      <td>로맨스 패키지</td>\n",
       "      <td>20</td>\n",
       "      <td>.</td>\n",
       "      <td>81</td>\n",
       "      <td>6.80834</td>\n",
       "    </tr>\n",
       "  </tbody>\n",
       "</table>\n",
       "</div>"
      ],
      "text/plain": [
       "   change  cvalue  delta       keyword  rank ratio  score    tvalue\n",
       "0       +    3450      0         아파트투유     1     .     39  32.13850\n",
       "1       +     365      0         배그 점검     2     .    267  24.56000\n",
       "2       +     354      0          포항지진     3     .    345  25.28483\n",
       "3       +     346      0      2018 워터밤     4     .    549  31.33095\n",
       "4       +     165      0          히든싱어     5     .    204  19.34039\n",
       "5       +     190      0  로맨스 패키지 107호     6     .    456  17.98706\n",
       "6       +     248      1        kt 요금제     7     +    186  14.61466\n",
       "7       +     122      1            헥터     8     +    633  14.91738\n",
       "8       +     280      3       서울시장 후보     9     +    129  15.14479\n",
       "9       +     269      0           주진우    10     .    174  13.36418\n",
       "10      +     505      0     농협은행인터넷뱅킹    11     .    120  28.05630\n",
       "11      +     214      1     국민은행 주택청약    12     +    189  10.99400\n",
       "12      +    1162      1            농협    13     +     21  10.05790\n",
       "13      +     211      2        배틀그라운드    14     +     30   8.70044\n",
       "14      +     352      0           손은서    15     .    609  23.47090\n",
       "15      +     691      2            슈츠    16     +     48  12.32846\n",
       "16      +     193      2      한국교직원공제회    17     +     75   8.24582\n",
       "17    new     229      1          아이수당    18     -      0  20.86960\n",
       "18      +      82      0          한끼줍쇼    19   new    105   7.05238\n",
       "19      +     118      0       로맨스 패키지    20     .     81   6.80834"
      ]
     },
     "execution_count": 14,
     "metadata": {},
     "output_type": "execute_result"
    }
   ],
   "source": [
    "# JSON 데이터 받기 - 네이버 실시간 검색어 순위\n",
    "import json, requests\n",
    "from pandas.io.json import json_normalize\n",
    "\n",
    "r = requests.get('http://rank.search.naver.com/rank.js')\n",
    "json_normalize(json.loads(r.text), ['data','data'])\n"
   ]
  },
  {
   "cell_type": "code",
   "execution_count": 15,
   "metadata": {},
   "outputs": [
    {
     "data": {
      "text/plain": [
       "'2018-05-31T12:18:00+0900'"
      ]
     },
     "execution_count": 15,
     "metadata": {},
     "output_type": "execute_result"
    }
   ],
   "source": [
    "# time stamp\n",
    "r = requests.get('http://rank.search.naver.com/rank.js')\n",
    "json.loads(r.text)['ts']"
   ]
  },
  {
   "cell_type": "markdown",
   "metadata": {},
   "source": [
    "---\n",
    "### 한글인코딩 전화번호부 사이트 \n",
    "- 한국 사이트중 euc-kr 인코딩이 되어있어 재처리 해야하는 경우"
   ]
  },
  {
   "cell_type": "code",
   "execution_count": 17,
   "metadata": {},
   "outputs": [
    {
     "name": "stdout",
     "output_type": "stream",
     "text": [
      "휴일진료\n",
      "서울\n",
      "서울+중구\n"
     ]
    }
   ],
   "source": [
    "# searchWord:%C8%DE%C0%CF%C1%F8%B7%E1\n",
    "# x:37.5640907\n",
    "# y:126.9979403\n",
    "# dong:\n",
    "# city:%BC%AD%BF%EF\n",
    "# gu:%C1%DF%B1%B8\n",
    "# addr4:\n",
    "# addr:%BC%AD%BF%EF+%C1%DF%B1%B8\n",
    "\n",
    "from urllib.parse import quote, unquote\n",
    "\n",
    "# 이걸 euc-kr인코딩으로 바꿔주면 '휴일진료'라는 글자로 바뀐다.\n",
    "u = '%C8%DE%C0%CF%C1%F8%B7%E1' \n",
    "print (unquote(u, encoding='euc-kr'))\n",
    "\n",
    "u = '%BC%AD%BF%EF'\n",
    "print (unquote(u, encoding='euc-kr'))\n",
    "\n",
    "u = '%BC%AD%BF%EF+%C1%DF%B1%B8'\n",
    "print (unquote(u, encoding='euc-kr'))"
   ]
  },
  {
   "cell_type": "code",
   "execution_count": 18,
   "metadata": {},
   "outputs": [
    {
     "name": "stdout",
     "output_type": "stream",
     "text": [
      "<class 'bytes'>\n",
      "%C8%DE%C0%CF%C1%F8%B7%E1\n"
     ]
    }
   ],
   "source": [
    "#str(유니코드) -> bytes(EUC-KR) -> URL Quot\n",
    "\n",
    "b = '휴일진료'.encode('euc-kr')\n",
    "print( type(b) )\n",
    "print( quote(b) )"
   ]
  },
  {
   "cell_type": "code",
   "execution_count": 20,
   "metadata": {},
   "outputs": [
    {
     "name": "stdout",
     "output_type": "stream",
     "text": [
      "<class 'str'>\n",
      "휴일진료\n"
     ]
    }
   ],
   "source": [
    "# URL Quot (EUC-KR) -> str(유니코드)\n",
    "\n",
    "u = '%C8%DE%C0%CF%C1%F8%B7%E1'\n",
    "s = unquote(u, encoding='euc-kr')\n",
    "print(type(s))\n",
    "print(s)"
   ]
  },
  {
   "cell_type": "code",
   "execution_count": 34,
   "metadata": {},
   "outputs": [
    {
     "data": {
      "text/plain": [
       "'\\r\\n<!DOCTYPE html>\\r\\n<html lang=\"ko\">\\r\\n<head>\\r\\n<meta charset=\"euc-kr\">\\r\\n<meta http-equiv=\"X-UA-Compatible\" content=\"IE=edge\" />\\r\\n<title>:: 대한민국 모든 전화번호 검색은 한국전화번호부 ::</title>\\r\\n<link rel=\"stylesheet\" type=\\'text/css\\' href=\"/css3/base_n_n.css\"/>\\r\\n<link href=\"/css3/dcaccordion.css\" rel=\"stylesheet\" type=\"text/css\" />\\r\\n<link href=\"/jqy/jquery-ui.css\" rel=\"stylesheet\" type=\"text/css\" />\\r\\n<script type=\"text/javascript\" src=\"/jqy/jquery-1.11.2.min.js\"></script>\\r\\n<script src=\"/jqy/jquery-ui-1.10.3.custom.min.js\"></script>\\r\\n<script src=\"/jqy/jquery.ba-dotimeout.min.js\"></script>\\r\\n<script src=\"/jqy/common_web.js\"></script>\\r\\n<script src=\"/jqy/placeholders.min.js\"></script>\\r\\n\\r\\n  \\r\\n\\r\\n\\r\\n<script language=\"javascript\">\\r\\n\\r\\n\\r\\n$(function() {\\r\\n\\t$(\"img.lmimg\").mouseover(function() {\\r\\n\\t\\r\\n\\t\\t$(this).attr(\"src\",$(this).attr(\"src\").replace(\"off\",\"on\"));\\r\\n\\t});\\r\\n  $(\"img.lmimg\").mouseout(function() {\\r\\n        $(this).css(\"display\",\"\");\\r\\n\\t\\t$(this).attr(\"src\",$(this).attr(\"src\").replace(\"on\",\"off\"));\\r\\n\\t});\\t\\r\\n\\t\\r\\n});\\r\\n\\r'"
      ]
     },
     "execution_count": 34,
     "metadata": {},
     "output_type": "execute_result"
    }
   ],
   "source": [
    "# 해결책 ------str.encode('euc-kr')--------------\n",
    "import requests\n",
    "\n",
    "url = 'http://www.isuperpage.co.kr/search.asp'\n",
    "\n",
    "data = {\n",
    "    'searchWord':'휴일진료'.encode('euc-kr'),\n",
    "    'dong':''.encode('euc-kr'),\n",
    "    'city':'서울'.encode('euc-kr'),\n",
    "    'gu':'중구'.encode('euc-kr')\n",
    "}\n",
    "\n",
    "r = requests.post(url, data=data)\n",
    "r.text[:1000]"
   ]
  },
  {
   "cell_type": "code",
   "execution_count": 38,
   "metadata": {},
   "outputs": [],
   "source": [
    "from bs4 import  BeautifulSoup\n",
    "\n",
    "soup = BeautifulSoup(r.text, 'lxml')\n",
    "search_result = soup.find('div', {'id':'search_result'})\n"
   ]
  },
  {
   "cell_type": "code",
   "execution_count": 39,
   "metadata": {},
   "outputs": [
    {
     "ename": "AttributeError",
     "evalue": "'NoneType' object has no attribute 'find_all'",
     "output_type": "error",
     "traceback": [
      "\u001b[1;31m---------------------------------------------------------------------------\u001b[0m",
      "\u001b[1;31mAttributeError\u001b[0m                            Traceback (most recent call last)",
      "\u001b[1;32m<ipython-input-39-050cc04ee696>\u001b[0m in \u001b[0;36m<module>\u001b[1;34m()\u001b[0m\n\u001b[1;32m----> 1\u001b[1;33m \u001b[0mlis\u001b[0m \u001b[1;33m=\u001b[0m \u001b[0msearch_result\u001b[0m\u001b[1;33m.\u001b[0m\u001b[0mfind_all\u001b[0m\u001b[1;33m(\u001b[0m\u001b[1;34m'li'\u001b[0m\u001b[1;33m)\u001b[0m\u001b[1;33m[\u001b[0m\u001b[1;36m2\u001b[0m\u001b[1;33m:\u001b[0m\u001b[1;33m]\u001b[0m\u001b[1;33m\u001b[0m\u001b[0m\n\u001b[0m\u001b[0;32m      2\u001b[0m \u001b[1;32mfor\u001b[0m \u001b[0mli\u001b[0m \u001b[1;32min\u001b[0m \u001b[0mlis\u001b[0m\u001b[1;33m:\u001b[0m\u001b[1;33m\u001b[0m\u001b[0m\n\u001b[0;32m      3\u001b[0m     \u001b[0mdivs\u001b[0m \u001b[1;33m=\u001b[0m \u001b[0mli\u001b[0m\u001b[1;33m.\u001b[0m\u001b[0mfind_all\u001b[0m\u001b[1;33m(\u001b[0m\u001b[1;34m'div'\u001b[0m\u001b[1;33m)\u001b[0m\u001b[1;33m\u001b[0m\u001b[0m\n\u001b[0;32m      4\u001b[0m \u001b[1;33m\u001b[0m\u001b[0m\n\u001b[0;32m      5\u001b[0m     \u001b[1;31m#div[0]\u001b[0m\u001b[1;33m\u001b[0m\u001b[1;33m\u001b[0m\u001b[0m\n",
      "\u001b[1;31mAttributeError\u001b[0m: 'NoneType' object has no attribute 'find_all'"
     ]
    }
   ],
   "source": [
    "lis = search_result.find_all('li')[2:]\n",
    "for li in lis:\n",
    "    divs = li.find_all('div')\n",
    "    \n",
    "    #div[0]\n",
    "    title = divs[0].a.text #상호\n",
    "    spans - divs[0].find_all('span')\n",
    "    search = spans[1].text #검색어\n",
    "    \n",
    "    #div[1]\n",
    "    spans = divs[1].find_all('span')\n",
    "    phone = spans[0].text #전화번호\n",
    "    addr = spans[1].text #주소\n",
    "    print(spans[2])\n",
    "    print(\"%s %s %s %s\"%(title, search, phone, addr))   \n",
    "    "
   ]
  },
  {
   "cell_type": "code",
   "execution_count": null,
   "metadata": {},
   "outputs": [],
   "source": []
  }
 ],
 "metadata": {
  "kernelspec": {
   "display_name": "Python 3",
   "language": "python",
   "name": "python3"
  },
  "language_info": {
   "codemirror_mode": {
    "name": "ipython",
    "version": 3
   },
   "file_extension": ".py",
   "mimetype": "text/x-python",
   "name": "python",
   "nbconvert_exporter": "python",
   "pygments_lexer": "ipython3",
   "version": "3.6.3"
  }
 },
 "nbformat": 4,
 "nbformat_minor": 2
}
