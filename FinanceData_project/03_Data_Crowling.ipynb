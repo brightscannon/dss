{
 "cells": [
  {
   "cell_type": "code",
   "execution_count": 19,
   "metadata": {},
   "outputs": [],
   "source": [
    "%matplotlib inline\n",
    "#주피터노트북에서 라인 아래에 보여지도록 설정\n",
    "\n",
    "%config InlineBackend.figure_formats = {'png','retina'} \n",
    "#png 이미지 압축기술설정, retina 그래프 해상도 2배 높히기"
   ]
  },
  {
   "cell_type": "code",
   "execution_count": 5,
   "metadata": {},
   "outputs": [
    {
     "data": {
      "text/plain": [
       "'<!doctype html><html itemscope=\"\" itemtype=\"http://schema.org/SearchResultsPage\" lang=\"ko\"><head><meta content=\"text/html; charset=UTF-8\" http-equiv=\"Content-Type\"><meta content=\"/images/branding/googleg/1x/googleg_standard_color_128dp.png\" itemprop=\"image\"><link href=\"/images/branding/product/ico/googleg_lodp.ico\" rel=\"shortcut icon\"><title>KB금융 - Google 검색</title><style>#gbar,#guser{font-size:13px;padding-top:1px !important;}#gbar{height:22px}#guser{padding-bottom:7px !important;text-align:right}.gbh,.gbd{border-top:1px solid #c9d7f1;font-size:1px}.gbh{height:0;position:absolute;top:24px;width:100%}@media all{.gb1{height:22px;margin-right:.5em;vertical-align:top}#gbar{float:left}}a.gb1,a.gb4{text-decoration:underline !important}a.gb1,a.gb4{color:#00c !important}.gbi .gb4{color:#dd8e27 !important}.gbf .gb4{color:#900 !important} </style><style>.star{float:left;margin-top:1px;overflow:hidden}.ybhkme{font-size:11px}.j{width:34em}body,td,div,.p,a{font-family:arial,sans-serif;tap-highligh'"
      ]
     },
     "execution_count": 5,
     "metadata": {},
     "output_type": "execute_result"
    }
   ],
   "source": [
    "#get하여 html가져오기\n",
    "\n",
    "import requests\n",
    "\n",
    "r = requests.get('https://www.google.co.kr/search?q=KB금융')\n",
    "r.text[:1000]"
   ]
  },
  {
   "cell_type": "code",
   "execution_count": 4,
   "metadata": {},
   "outputs": [
    {
     "name": "stdout",
     "output_type": "stream",
     "text": [
      "검색결과 약 587,000,000개\n"
     ]
    }
   ],
   "source": [
    "# 구글 검색결과 갯수 가져오기\n",
    "\n",
    "import requests\n",
    "from bs4 import BeautifulSoup\n",
    "r = requests.get(\"https://www.google.co.kr/search?q=검색\")\n",
    "\n",
    "soup = BeautifulSoup(r.content, 'lxml')\n",
    "res_stat = soup.find(id='resultStats').text\n",
    "\n",
    "print(res_stat)"
   ]
  },
  {
   "cell_type": "code",
   "execution_count": 21,
   "metadata": {},
   "outputs": [
    {
     "data": {
      "text/plain": [
       "<td class=\"cmp-table-cell td0101\">\n",
       "<dl>\n",
       "<dt>\n",
       "<span class=\"name\">삼성전자</span>\n",
       "<a class=\"cEm\" href=\"http://www.samsung.com\" target=\"comPage\" title=\"[홈페이지] www.samsung.com\"><img align=\"absmiddle\" hspace=\"3\" src=\"/images/icon_home.gif\"/></a>\n",
       "<a class=\"cEm\" title=\"[대표전화] 031-200-1114       \n",
       "[주식담당] 02-2255-8126\"><img align=\"absmiddle\" hspace=\"1\" src=\"/images/icon_tel.gif\"/></a>\n",
       "<b class=\"num\">005930</b>\n",
       "</dt>\n",
       "<dt class=\"line-left\">Samsung Electronics</dt>\n",
       "<dt class=\"line-left\">KOSPI : 전기전자</dt>\n",
       "<dt class=\"line-left\">WICS : 반도체와반도체장비</dt>\n",
       "</dl>\n",
       "</td>"
      ]
     },
     "execution_count": 21,
     "metadata": {},
     "output_type": "execute_result"
    }
   ],
   "source": [
    "#삼성전자 주식정보 가져오기\n",
    "\n",
    "code = '005930'\n",
    "url = 'http://companyinfo.stock.naver.com/v1/company/c1010001.aspx?cmp_cd='+code\n",
    "\n",
    "r = requests.get(url)\n",
    "soup = BeautifulSoup(r.text,\"lxml\")\n",
    "td = soup.find('td', {'class':'cmp-table-cell td0101'})\n",
    "td"
   ]
  },
  {
   "cell_type": "code",
   "execution_count": 23,
   "metadata": {},
   "outputs": [
    {
     "data": {
      "text/plain": [
       "'삼성전자'"
      ]
     },
     "execution_count": 23,
     "metadata": {},
     "output_type": "execute_result"
    }
   ],
   "source": [
    "td.find('span',{\"class\":'name'}).text"
   ]
  },
  {
   "cell_type": "code",
   "execution_count": 24,
   "metadata": {},
   "outputs": [
    {
     "name": "stdout",
     "output_type": "stream",
     "text": [
      "http://www.samsung.com\n",
      "[대표전화] 031-200-1114       \r",
      "[주식담당] 02-2255-8126\n"
     ]
    }
   ],
   "source": [
    "anchors = td.find_all('a', {'class':'cEm'})\n",
    "print(anchors[0]['href'])\n",
    "print(anchors[1]['title'])"
   ]
  },
  {
   "cell_type": "code",
   "execution_count": 25,
   "metadata": {},
   "outputs": [
    {
     "name": "stdout",
     "output_type": "stream",
     "text": [
      "Samsung Electronics\n",
      "KOSPI : 전기전자\n",
      "WICS : 반도체와반도체장비\n"
     ]
    }
   ],
   "source": [
    "dts = td.find_all('dt',{\"class\":\"line-left\"})\n",
    "print(dts[0].text)\n",
    "print(dts[1].text)\n",
    "print(dts[2].text)"
   ]
  },
  {
   "cell_type": "code",
   "execution_count": 2,
   "metadata": {},
   "outputs": [
    {
     "data": {
      "text/plain": [
       "['바스코',\n",
       " '저스트뮤직',\n",
       " '이천희 가구',\n",
       " '최할리',\n",
       " '붉은불개미',\n",
       " '스윙스',\n",
       " '씨잼',\n",
       " '코카인',\n",
       " '글로리데이',\n",
       " '만물상꽈리고추찜',\n",
       " '허준호',\n",
       " '이혜영',\n",
       " '청년내일채움공제',\n",
       " '컨트롤러',\n",
       " '이상민',\n",
       " '김영란',\n",
       " '기름진 멜로',\n",
       " '방시혁',\n",
       " '신한은행 채용',\n",
       " '쑥 비슷한 풀']"
      ]
     },
     "execution_count": 2,
     "metadata": {},
     "output_type": "execute_result"
    }
   ],
   "source": [
    "# 네이버 실시간 급상승 검색어 크롤링\n",
    "import re\n",
    "import requests\n",
    "\n",
    "html_text= requests.get('http://naver.com').text\n",
    "re.findall('<span class=\"ah_k\">(.*?)</span>', html_text)[:20]"
   ]
  },
  {
   "cell_type": "code",
   "execution_count": 3,
   "metadata": {},
   "outputs": [
    {
     "data": {
      "text/html": [
       "<div>\n",
       "<style>\n",
       "    .dataframe thead tr:only-child th {\n",
       "        text-align: right;\n",
       "    }\n",
       "\n",
       "    .dataframe thead th {\n",
       "        text-align: left;\n",
       "    }\n",
       "\n",
       "    .dataframe tbody tr th {\n",
       "        vertical-align: top;\n",
       "    }\n",
       "</style>\n",
       "<table border=\"1\" class=\"dataframe\">\n",
       "  <thead>\n",
       "    <tr style=\"text-align: right;\">\n",
       "      <th></th>\n",
       "      <th>change</th>\n",
       "      <th>cvalue</th>\n",
       "      <th>delta</th>\n",
       "      <th>keyword</th>\n",
       "      <th>rank</th>\n",
       "      <th>ratio</th>\n",
       "      <th>score</th>\n",
       "      <th>tvalue</th>\n",
       "    </tr>\n",
       "  </thead>\n",
       "  <tbody>\n",
       "    <tr>\n",
       "      <th>0</th>\n",
       "      <td>+</td>\n",
       "      <td>378</td>\n",
       "      <td>0</td>\n",
       "      <td>바스코</td>\n",
       "      <td>1</td>\n",
       "      <td>.</td>\n",
       "      <td>726</td>\n",
       "      <td>33.82590</td>\n",
       "    </tr>\n",
       "    <tr>\n",
       "      <th>1</th>\n",
       "      <td>+</td>\n",
       "      <td>301</td>\n",
       "      <td>0</td>\n",
       "      <td>저스트뮤직</td>\n",
       "      <td>2</td>\n",
       "      <td>.</td>\n",
       "      <td>807</td>\n",
       "      <td>26.58921</td>\n",
       "    </tr>\n",
       "    <tr>\n",
       "      <th>2</th>\n",
       "      <td>new</td>\n",
       "      <td>606</td>\n",
       "      <td>0</td>\n",
       "      <td>붉은불개미</td>\n",
       "      <td>3</td>\n",
       "      <td>.</td>\n",
       "      <td>0</td>\n",
       "      <td>40.69720</td>\n",
       "    </tr>\n",
       "    <tr>\n",
       "      <th>3</th>\n",
       "      <td>+</td>\n",
       "      <td>611</td>\n",
       "      <td>1</td>\n",
       "      <td>씨잼</td>\n",
       "      <td>4</td>\n",
       "      <td>+</td>\n",
       "      <td>162</td>\n",
       "      <td>21.93702</td>\n",
       "    </tr>\n",
       "    <tr>\n",
       "      <th>4</th>\n",
       "      <td>+</td>\n",
       "      <td>218</td>\n",
       "      <td>1</td>\n",
       "      <td>스윙스</td>\n",
       "      <td>5</td>\n",
       "      <td>+</td>\n",
       "      <td>216</td>\n",
       "      <td>14.89446</td>\n",
       "    </tr>\n",
       "    <tr>\n",
       "      <th>5</th>\n",
       "      <td>+</td>\n",
       "      <td>148</td>\n",
       "      <td>1</td>\n",
       "      <td>코카인</td>\n",
       "      <td>6</td>\n",
       "      <td>+</td>\n",
       "      <td>699</td>\n",
       "      <td>16.11277</td>\n",
       "    </tr>\n",
       "    <tr>\n",
       "      <th>6</th>\n",
       "      <td>+</td>\n",
       "      <td>412</td>\n",
       "      <td>1</td>\n",
       "      <td>글로리데이</td>\n",
       "      <td>7</td>\n",
       "      <td>+</td>\n",
       "      <td>993</td>\n",
       "      <td>39.66270</td>\n",
       "    </tr>\n",
       "    <tr>\n",
       "      <th>7</th>\n",
       "      <td>+</td>\n",
       "      <td>486</td>\n",
       "      <td>1</td>\n",
       "      <td>만물상꽈리고추찜</td>\n",
       "      <td>8</td>\n",
       "      <td>+</td>\n",
       "      <td>237</td>\n",
       "      <td>36.29330</td>\n",
       "    </tr>\n",
       "    <tr>\n",
       "      <th>8</th>\n",
       "      <td>+</td>\n",
       "      <td>263</td>\n",
       "      <td>1</td>\n",
       "      <td>허준호</td>\n",
       "      <td>9</td>\n",
       "      <td>+</td>\n",
       "      <td>150</td>\n",
       "      <td>24.40820</td>\n",
       "    </tr>\n",
       "    <tr>\n",
       "      <th>9</th>\n",
       "      <td>new</td>\n",
       "      <td>293</td>\n",
       "      <td>1</td>\n",
       "      <td>이천희 가구</td>\n",
       "      <td>10</td>\n",
       "      <td>+</td>\n",
       "      <td>0</td>\n",
       "      <td>21.15650</td>\n",
       "    </tr>\n",
       "    <tr>\n",
       "      <th>10</th>\n",
       "      <td>+</td>\n",
       "      <td>253</td>\n",
       "      <td>1</td>\n",
       "      <td>컨트롤러</td>\n",
       "      <td>11</td>\n",
       "      <td>+</td>\n",
       "      <td>975</td>\n",
       "      <td>19.43570</td>\n",
       "    </tr>\n",
       "    <tr>\n",
       "      <th>11</th>\n",
       "      <td>+</td>\n",
       "      <td>540</td>\n",
       "      <td>8</td>\n",
       "      <td>방시혁</td>\n",
       "      <td>12</td>\n",
       "      <td>-</td>\n",
       "      <td>63</td>\n",
       "      <td>17.10350</td>\n",
       "    </tr>\n",
       "    <tr>\n",
       "      <th>12</th>\n",
       "      <td>+</td>\n",
       "      <td>250</td>\n",
       "      <td>2</td>\n",
       "      <td>김영란</td>\n",
       "      <td>13</td>\n",
       "      <td>+</td>\n",
       "      <td>231</td>\n",
       "      <td>16.10430</td>\n",
       "    </tr>\n",
       "    <tr>\n",
       "      <th>13</th>\n",
       "      <td>+</td>\n",
       "      <td>241</td>\n",
       "      <td>1</td>\n",
       "      <td>청년내일채움공제</td>\n",
       "      <td>14</td>\n",
       "      <td>-</td>\n",
       "      <td>78</td>\n",
       "      <td>9.28777</td>\n",
       "    </tr>\n",
       "    <tr>\n",
       "      <th>14</th>\n",
       "      <td>+</td>\n",
       "      <td>192</td>\n",
       "      <td>2</td>\n",
       "      <td>이파니</td>\n",
       "      <td>15</td>\n",
       "      <td>+</td>\n",
       "      <td>405</td>\n",
       "      <td>14.23490</td>\n",
       "    </tr>\n",
       "    <tr>\n",
       "      <th>15</th>\n",
       "      <td>+</td>\n",
       "      <td>364</td>\n",
       "      <td>0</td>\n",
       "      <td>크러쉬</td>\n",
       "      <td>16</td>\n",
       "      <td>.</td>\n",
       "      <td>69</td>\n",
       "      <td>13.98210</td>\n",
       "    </tr>\n",
       "    <tr>\n",
       "      <th>16</th>\n",
       "      <td>+</td>\n",
       "      <td>120</td>\n",
       "      <td>0</td>\n",
       "      <td>더 울버린</td>\n",
       "      <td>17</td>\n",
       "      <td>new</td>\n",
       "      <td>888</td>\n",
       "      <td>13.95430</td>\n",
       "    </tr>\n",
       "    <tr>\n",
       "      <th>17</th>\n",
       "      <td>+</td>\n",
       "      <td>126</td>\n",
       "      <td>1</td>\n",
       "      <td>우리가 만난 기적</td>\n",
       "      <td>18</td>\n",
       "      <td>+</td>\n",
       "      <td>51</td>\n",
       "      <td>5.83565</td>\n",
       "    </tr>\n",
       "    <tr>\n",
       "      <th>18</th>\n",
       "      <td>+</td>\n",
       "      <td>186</td>\n",
       "      <td>5</td>\n",
       "      <td>이혜영</td>\n",
       "      <td>19</td>\n",
       "      <td>-</td>\n",
       "      <td>87</td>\n",
       "      <td>13.31810</td>\n",
       "    </tr>\n",
       "    <tr>\n",
       "      <th>19</th>\n",
       "      <td>+</td>\n",
       "      <td>79</td>\n",
       "      <td>0</td>\n",
       "      <td>신한은행 채용</td>\n",
       "      <td>20</td>\n",
       "      <td>.</td>\n",
       "      <td>117</td>\n",
       "      <td>5.28188</td>\n",
       "    </tr>\n",
       "  </tbody>\n",
       "</table>\n",
       "</div>"
      ],
      "text/plain": [
       "   change  cvalue  delta    keyword  rank ratio  score    tvalue\n",
       "0       +     378      0        바스코     1     .    726  33.82590\n",
       "1       +     301      0      저스트뮤직     2     .    807  26.58921\n",
       "2     new     606      0      붉은불개미     3     .      0  40.69720\n",
       "3       +     611      1         씨잼     4     +    162  21.93702\n",
       "4       +     218      1        스윙스     5     +    216  14.89446\n",
       "5       +     148      1        코카인     6     +    699  16.11277\n",
       "6       +     412      1      글로리데이     7     +    993  39.66270\n",
       "7       +     486      1   만물상꽈리고추찜     8     +    237  36.29330\n",
       "8       +     263      1        허준호     9     +    150  24.40820\n",
       "9     new     293      1     이천희 가구    10     +      0  21.15650\n",
       "10      +     253      1       컨트롤러    11     +    975  19.43570\n",
       "11      +     540      8        방시혁    12     -     63  17.10350\n",
       "12      +     250      2        김영란    13     +    231  16.10430\n",
       "13      +     241      1   청년내일채움공제    14     -     78   9.28777\n",
       "14      +     192      2        이파니    15     +    405  14.23490\n",
       "15      +     364      0        크러쉬    16     .     69  13.98210\n",
       "16      +     120      0      더 울버린    17   new    888  13.95430\n",
       "17      +     126      1  우리가 만난 기적    18     +     51   5.83565\n",
       "18      +     186      5        이혜영    19     -     87  13.31810\n",
       "19      +      79      0    신한은행 채용    20     .    117   5.28188"
      ]
     },
     "execution_count": 3,
     "metadata": {},
     "output_type": "execute_result"
    }
   ],
   "source": [
    "# JSON 데이터 받기 - 네이버 실시간 검색어 순위\n",
    "import json, requests\n",
    "from pandas.io.json import json_normalize\n",
    "\n",
    "r = requests.get('http://rank.search.naver.com/rank.js')\n",
    "json_normalize(json.loads(r.text), ['data','data'])\n"
   ]
  },
  {
   "cell_type": "code",
   "execution_count": null,
   "metadata": {},
   "outputs": [],
   "source": []
  },
  {
   "cell_type": "code",
   "execution_count": null,
   "metadata": {},
   "outputs": [],
   "source": []
  }
 ],
 "metadata": {
  "kernelspec": {
   "display_name": "Python 3",
   "language": "python",
   "name": "python3"
  },
  "language_info": {
   "codemirror_mode": {
    "name": "ipython",
    "version": 3
   },
   "file_extension": ".py",
   "mimetype": "text/x-python",
   "name": "python",
   "nbconvert_exporter": "python",
   "pygments_lexer": "ipython3",
   "version": "3.6.3"
  }
 },
 "nbformat": 4,
 "nbformat_minor": 2
}
