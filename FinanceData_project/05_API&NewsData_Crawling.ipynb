{
 "cells": [
  {
   "cell_type": "markdown",
   "metadata": {},
   "source": [
    "# DART 오픈 API 01 - 개요와 활용\n",
    "\n",
    "- DART 오픈AP 사용법\n",
    "- json_normalize() 활용 \n",
    "- 기업개황 API\n",
    "- 정보검색 API\n",
    "- 개별 보고서와 하위 보고서 URL 얻기\n",
    "- 첨부파일과 재무제표 엑셀 파일 가져오기\n",
    "\n",
    "### 오픈 API\n",
    "\n",
    "- 공시 보고서 목록를 실시간 제공\n",
    "- https://dart.fss.or.kr/dsap001/intro.do 오픈API 소개\n",
    "- https://dart.fss.or.kr/dsap001/guide.do API 개발 가이드\n",
    "\n",
    "### API 인증키 발급\n",
    "\n",
    "- 계정을 만들고, API 인증키 발급 받는다\n",
    "\n",
    "- 계정 신청: https://dart.fss.or.kr/dsag002/insertForm.do\n",
    "\n",
    "### 개인용, 기업용\n",
    "- 개인용: 1만건/일\n",
    "- 기업용: 조회 건수 제한이 없는 대신 조회 서버 IP 제한\n",
    "\n",
    "### 인증키\n",
    "- 알파벳과 숫자로 이루어진 40 바이트 문자열\n",
    "- auth 파라미터로 제공\n",
    "\n",
    "http://dart.fss.or.kr/api/search.xml?auth=e81e78aa519d1a1c4ec7867ef12a937ab6cbd4c7\n",
    "\n",
    "### 오픈 API가 제공하는 주요정보\n",
    "\n",
    " - 주요하게 다음 2가지 API를 제공한다\n",
    "    1. 기업 개황 API : http://dart.fss.or.kr/api/company.json?auth=xxx&crp_cd=xxx\n",
    "    2. 정보 검색 API : http://dart.fss.or.kr/api/search.json?auth=xxx\n",
    "\n"
   ]
  },
  {
   "cell_type": "markdown",
   "metadata": {},
   "source": [
    "## API 개발 가이드 사이트에서 테스트\n",
    "\n",
    "- https://dart.fss.or.kr/dsap001/guide.do API 개발 가이드\n",
    "\n",
    "![](http://i.imgur.com/9NpoJgx.png)"
   ]
  },
  {
   "cell_type": "code",
   "execution_count": null,
   "metadata": {},
   "outputs": [],
   "source": []
  }
 ],
 "metadata": {
  "kernelspec": {
   "display_name": "Python 3",
   "language": "python",
   "name": "python3"
  },
  "language_info": {
   "codemirror_mode": {
    "name": "ipython",
    "version": 3
   },
   "file_extension": ".py",
   "mimetype": "text/x-python",
   "name": "python",
   "nbconvert_exporter": "python",
   "pygments_lexer": "ipython3",
   "version": "3.6.3"
  }
 },
 "nbformat": 4,
 "nbformat_minor": 2
}
