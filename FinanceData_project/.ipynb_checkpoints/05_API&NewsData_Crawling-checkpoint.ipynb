{
 "cells": [
  {
   "cell_type": "markdown",
   "metadata": {},
   "source": [
    "# DART 오픈 API 01 - 개요와 활용\n",
    "\n",
    "- DART 오픈AP 사용법\n",
    "- json_normalize() 활용 \n",
    "- 기업개황 API\n",
    "- 정보검색 API\n",
    "- 개별 보고서와 하위 보고서 URL 얻기\n",
    "- 첨부파일과 재무제표 엑셀 파일 가져오기\n",
    "\n",
    "### 오픈 API\n",
    "\n",
    "- 공시 보고서 목록를 실시간 제공\n",
    "- https://dart.fss.or.kr/dsap001/intro.do 오픈API 소개\n",
    "- https://dart.fss.or.kr/dsap001/guide.do API 개발 가이드\n",
    "\n",
    "### API 인증키 발급\n",
    "\n",
    "- 계정을 만들고, API 인증키 발급 받는다\n",
    "\n",
    "- 계정 신청: https://dart.fss.or.kr/dsag002/insertForm.do\n",
    "\n",
    "### 개인용, 기업용\n",
    "- 개인용: 1만건/일\n",
    "- 기업용: 조회 건수 제한이 없는 대신 조회 서버 IP 제한\n",
    "\n",
    "### 인증키\n",
    "- 알파벳과 숫자로 이루어진 40 바이트 문자열\n",
    "- auth 파라미터로 제공\n",
    "\n",
    "http://dart.fss.or.kr/api/search.xml?auth=e81e78aa519d1a1c4ec7867ef12a937ab6cbd4c7\n",
    "\n",
    "### 오픈 API가 제공하는 주요정보\n",
    "\n",
    " - 주요하게 다음 2가지 API를 제공한다\n",
    "    1. 기업 개황 API : http://dart.fss.or.kr/api/company.json?auth=xxx&crp_cd=xxx\n",
    "    2. 정보 검색 API : http://dart.fss.or.kr/api/search.json?auth=xxx\n",
    "\n"
   ]
  },
  {
   "cell_type": "markdown",
   "metadata": {},
   "source": [
    "## API 개발 가이드 사이트에서 테스트\n",
    "\n",
    "- https://dart.fss.or.kr/dsap001/guide.do API 개발 가이드\n",
    "\n",
    "![](http://i.imgur.com/9NpoJgx.png)"
   ]
  },
  {
   "cell_type": "code",
   "execution_count": 2,
   "metadata": {},
   "outputs": [],
   "source": [
    "## 현재 발급받은 API인증키(2018-06-03)\n",
    "auth = '9daed961201d085d01dfb40c8a1acb5c3fd41b85'\n",
    "\n",
    "# 헤더: 실제 인증키를 사용시에는 사용하지 않아도 된다\n",
    "headers={'Referer':'https://dart.fss.or.kr/dsap001/guide.do'}"
   ]
  },
  {
   "cell_type": "code",
   "execution_count": 9,
   "metadata": {},
   "outputs": [
    {
     "data": {
      "text/plain": [
       "'{\"err_code\":\"000\",\"err_msg\":\"정상\",\"page_no\":1,\"page_set\":10,\"total_count\":0,\"total_page\":0,\"list\":[]}'"
      ]
     },
     "execution_count": 9,
     "metadata": {},
     "output_type": "execute_result"
    }
   ],
   "source": [
    "import requests\n",
    "\n",
    "url_tmpl = 'http://dart.fss.or.kr/api/search.json?auth={auth}'\n",
    "url = url_tmpl.format(auth=auth)\n",
    "\n",
    "r = requests.get(url, headers=headers)\n",
    "r.text"
   ]
  },
  {
   "cell_type": "code",
   "execution_count": 25,
   "metadata": {},
   "outputs": [
    {
     "data": {
      "text/html": [
       "<div>\n",
       "<style>\n",
       "    .dataframe thead tr:only-child th {\n",
       "        text-align: right;\n",
       "    }\n",
       "\n",
       "    .dataframe thead th {\n",
       "        text-align: left;\n",
       "    }\n",
       "\n",
       "    .dataframe tbody tr th {\n",
       "        vertical-align: top;\n",
       "    }\n",
       "</style>\n",
       "<table border=\"1\" class=\"dataframe\">\n",
       "  <thead>\n",
       "    <tr style=\"text-align: right;\">\n",
       "      <th></th>\n",
       "      <th>A</th>\n",
       "      <th>B</th>\n",
       "      <th>C</th>\n",
       "    </tr>\n",
       "  </thead>\n",
       "  <tbody>\n",
       "    <tr>\n",
       "      <th>0</th>\n",
       "      <td>1</td>\n",
       "      <td>2</td>\n",
       "      <td>3</td>\n",
       "    </tr>\n",
       "    <tr>\n",
       "      <th>1</th>\n",
       "      <td>4</td>\n",
       "      <td>5</td>\n",
       "      <td>6</td>\n",
       "    </tr>\n",
       "    <tr>\n",
       "      <th>2</th>\n",
       "      <td>7</td>\n",
       "      <td>8</td>\n",
       "      <td>9</td>\n",
       "    </tr>\n",
       "  </tbody>\n",
       "</table>\n",
       "</div>"
      ],
      "text/plain": [
       "   A  B  C\n",
       "0  1  2  3\n",
       "1  4  5  6\n",
       "2  7  8  9"
      ]
     },
     "execution_count": 25,
     "metadata": {},
     "output_type": "execute_result"
    }
   ],
   "source": [
    "from pandas.io.json import json_normalize\n",
    "import json\n",
    "import pandas as pd\n",
    "\n",
    "\n",
    "json_str = '''\n",
    "[\n",
    "    {\"A\":1, \"B\":2, \"C\":3},\n",
    "    {\"A\":4, \"B\":5, \"C\":6},\n",
    "    {\"A\":7, \"B\":8, \"C\":9}\n",
    "]\n",
    "'''\n",
    "\n",
    "jo = json.loads(json_str)\n",
    "result = json_normalize(jo)\n",
    "result"
   ]
  },
  {
   "cell_type": "code",
   "execution_count": 14,
   "metadata": {
    "scrolled": true
   },
   "outputs": [
    {
     "data": {
      "text/plain": [
       "{'acc_mt': '12',\n",
       " 'adr': '경기도 수원시 영통구  삼성로 129 (매탄동)',\n",
       " 'bsn_no': '1248100998',\n",
       " 'ceo_nm': '김기남, 김현석, 고동진',\n",
       " 'crp_cls': 'Y',\n",
       " 'crp_nm': '삼성전자(주)',\n",
       " 'crp_nm_e': 'SAMSUNG ELECTRONICS CO,.LTD',\n",
       " 'crp_nm_i': '삼성전자',\n",
       " 'crp_no': '1301110006246',\n",
       " 'err_code': '000',\n",
       " 'err_msg': '정상',\n",
       " 'est_dt': '19690113',\n",
       " 'fax_no': '031-200-7538',\n",
       " 'hm_url': 'www.sec.co.kr',\n",
       " 'ind_cd': '264',\n",
       " 'ir_url': '',\n",
       " 'phn_no': '031-200-1114',\n",
       " 'stock_cd': '005930'}"
      ]
     },
     "execution_count": 14,
     "metadata": {},
     "output_type": "execute_result"
    }
   ],
   "source": [
    "url = 'http://dart.fss.or.kr/api/company.json?auth={auth}&crp_cd={code}'\n",
    "url = url.format(auth=auth, code ='005930')\n",
    "r = requests.get(url)\n",
    "jo = json.loads(r.text)\n",
    "jo"
   ]
  },
  {
   "cell_type": "markdown",
   "metadata": {},
   "source": [
    "### 위 결과물의 내용\n",
    "- err_code: 에러코드(오류 메시지 참조)\n",
    "- err_msg: 에러메시지(오류 메시지 참조)\n",
    "- crp_nm: 정식명칭\n",
    "- crp_nm_e: 영문명칭\n",
    "- crp_nm_i: 종목명(상장사) 또는 약식명칭(기타법인)\n",
    "- stock_cd: 상장회사인 경우 주식의 종목코드\n",
    "- ceo_nm: 대표자명\n",
    "- crp_cls: 법인구분 : Y(유가), K(코스닥), N(코넥스), E(기타)\n",
    "- crp_no: 법인등록번호\n",
    "- bsn_no: 사업자등록번호\n",
    "- adr: 주소\n",
    "- hm_url: 홈페이지\n",
    "- ir_url: IR홈페이지\n",
    "- phn_no: 전화번호\n",
    "- fax_no: 팩스번호\n",
    "- ind_cd: 업종코드\n",
    "- est_dt: 설립일(YYYYMMDD)\n",
    "- acc_mt: 결산월(MM)\n"
   ]
  },
  {
   "cell_type": "code",
   "execution_count": 16,
   "metadata": {},
   "outputs": [
    {
     "data": {
      "text/plain": [
       "'1248100998'"
      ]
     },
     "execution_count": 16,
     "metadata": {},
     "output_type": "execute_result"
    }
   ],
   "source": [
    "jo['bsn_no'] #사업자 등록번호"
   ]
  },
  {
   "cell_type": "markdown",
   "metadata": {},
   "source": [
    "### 정보 검색 API\n",
    "\n",
    "- http://dart.fss.or.kr/api/search.json?auth={auth}&crp_cd={code}&start_dt=19990101&bsn_tp=A001&bsn_tp=A002&bsn_tp=A003 \n",
    "    - (회사의 전체 사업+반기+분기보고서)\n",
    "- crp_cd: 공시대상회사의 종목코드(상장사:숫자 6자리) 또는 고유번호(기타법인:숫자 8자리)\n",
    "- end_dt: 검색종료 접수일자(YYYYMMDD) : 없으면 당일\n",
    "- start_dt: 검색시작 접수일자(YYYYMMDD) : 없으면 end_dt crp_cd가 없는 경우 검색기간은 3개월로 제한\n",
    "- fin_rpt: 최종보고서만 검색여부(Y or N) 기본값 : N (정정이 있는 경우 최종정정만 검색)\n",
    "- dsp_tp: 정기공시(A), 주요사항보고(B), 발행공시(C), 지분공시(D), 기타공시(E), 외부감사관련(F), 펀드공시(G), 자산유동화(H), 거래소공시(I), 공정위공시(J)\n",
    "- bsn_tp: 정기공시(5), 주요사항보고(3), 발행공시(11), 지분공시(4), 기타공시(9), 외부감사관련(3), 펀드공시(3), 자산유동화(6), 거래소공시(6), 공정위공시(5) \n",
    "- sort: 접수일자(date), 회사명(crp), 보고서명(rpt) 기본값 : date\n",
    "- series: 오름차순(asc), 내림차순(desc) 기본값 : desc\n",
    "- page_no: 페이지 번호(1~n) 기본값 : 1\n",
    "- page_set: 페이지당 건수(1~100) 기본값 : 10, 최대값 : 100\n",
    "- callback: 콜백함수명(JSONP용)\n"
   ]
  },
  {
   "cell_type": "code",
   "execution_count": 22,
   "metadata": {},
   "outputs": [
    {
     "data": {
      "text/plain": [
       "{'err_code': '000',\n",
       " 'err_msg': '정상',\n",
       " 'list': [{'crp_cd': '005930',\n",
       "   'crp_cls': 'Y',\n",
       "   'crp_nm': '삼성전자',\n",
       "   'flr_nm': '삼성전자',\n",
       "   'rcp_dt': '20180515',\n",
       "   'rcp_no': '20180515001699',\n",
       "   'rmk': '',\n",
       "   'rpt_nm': '분기보고서 (2018.03)'},\n",
       "  {'crp_cd': '005930',\n",
       "   'crp_cls': 'Y',\n",
       "   'crp_nm': '삼성전자',\n",
       "   'flr_nm': '삼성전자',\n",
       "   'rcp_dt': '20180402',\n",
       "   'rcp_no': '20180402005019',\n",
       "   'rmk': '연',\n",
       "   'rpt_nm': '사업보고서 (2017.12)'},\n",
       "  {'crp_cd': '005930',\n",
       "   'crp_cls': 'Y',\n",
       "   'crp_nm': '삼성전자',\n",
       "   'flr_nm': '삼성전자',\n",
       "   'rcp_dt': '20171114',\n",
       "   'rcp_no': '20171114001694',\n",
       "   'rmk': '',\n",
       "   'rpt_nm': '분기보고서 (2017.09)'},\n",
       "  {'crp_cd': '005930',\n",
       "   'crp_cls': 'Y',\n",
       "   'crp_nm': '삼성전자',\n",
       "   'flr_nm': '삼성전자',\n",
       "   'rcp_dt': '20170814',\n",
       "   'rcp_no': '20170814001832',\n",
       "   'rmk': '',\n",
       "   'rpt_nm': '반기보고서 (2017.06)'},\n",
       "  {'crp_cd': '005930',\n",
       "   'crp_cls': 'Y',\n",
       "   'crp_nm': '삼성전자',\n",
       "   'flr_nm': '삼성전자',\n",
       "   'rcp_dt': '20170515',\n",
       "   'rcp_no': '20170515003806',\n",
       "   'rmk': '',\n",
       "   'rpt_nm': '분기보고서 (2017.03)'},\n",
       "  {'crp_cd': '005930',\n",
       "   'crp_cls': 'Y',\n",
       "   'crp_nm': '삼성전자',\n",
       "   'flr_nm': '삼성전자',\n",
       "   'rcp_dt': '20170331',\n",
       "   'rcp_no': '20170331004518',\n",
       "   'rmk': '연',\n",
       "   'rpt_nm': '사업보고서 (2016.12)'},\n",
       "  {'crp_cd': '005930',\n",
       "   'crp_cls': 'Y',\n",
       "   'crp_nm': '삼성전자',\n",
       "   'flr_nm': '삼성전자',\n",
       "   'rcp_dt': '20161114',\n",
       "   'rcp_no': '20161114001491',\n",
       "   'rmk': '',\n",
       "   'rpt_nm': '분기보고서 (2016.09)'},\n",
       "  {'crp_cd': '005930',\n",
       "   'crp_cls': 'Y',\n",
       "   'crp_nm': '삼성전자',\n",
       "   'flr_nm': '삼성전자',\n",
       "   'rcp_dt': '20160816',\n",
       "   'rcp_no': '20160816001779',\n",
       "   'rmk': '',\n",
       "   'rpt_nm': '반기보고서 (2016.06)'},\n",
       "  {'crp_cd': '005930',\n",
       "   'crp_cls': 'Y',\n",
       "   'crp_nm': '삼성전자',\n",
       "   'flr_nm': '삼성전자',\n",
       "   'rcp_dt': '20160516',\n",
       "   'rcp_no': '20160516003174',\n",
       "   'rmk': '',\n",
       "   'rpt_nm': '분기보고서 (2016.03)'},\n",
       "  {'crp_cd': '005930',\n",
       "   'crp_cls': 'Y',\n",
       "   'crp_nm': '삼성전자',\n",
       "   'flr_nm': '삼성전자',\n",
       "   'rcp_dt': '20160330',\n",
       "   'rcp_no': '20160330003536',\n",
       "   'rmk': '연',\n",
       "   'rpt_nm': '사업보고서 (2015.12)'}],\n",
       " 'page_no': 1,\n",
       " 'page_set': 10,\n",
       " 'total_count': 81,\n",
       " 'total_page': 9}"
      ]
     },
     "execution_count": 22,
     "metadata": {},
     "output_type": "execute_result"
    }
   ],
   "source": [
    "url = 'http://dart.fss.or.kr/api/search.json?auth={auth}&crp_cd={code}&start_dt=19990101&bsn_tp=A001&bsn_tp=A002&bsn_tp=A003' \n",
    "url = url.format(auth=auth, code ='005930')\n",
    "r = requests.get(url)\n",
    "jo = json.loads(r.text)\n",
    "jo"
   ]
  },
  {
   "cell_type": "code",
   "execution_count": 30,
   "metadata": {},
   "outputs": [
    {
     "data": {
      "text/plain": [
       "{'err_code': '000',\n",
       " 'err_msg': '정상',\n",
       " 'list': [],\n",
       " 'page_no': 1,\n",
       " 'page_set': 10,\n",
       " 'total_count': 0,\n",
       " 'total_page': 0}"
      ]
     },
     "execution_count": 30,
     "metadata": {},
     "output_type": "execute_result"
    }
   ],
   "source": [
    "# 당일접수 10건보기(주말 공휴일에는 접수가 없을 수 있음...)\n",
    "\n",
    "url = 'http://dart.fss.or.kr/api/search.json?auth={auth}&page_set=10'.format(auth=auth)\n",
    "r = requests.get(url, headers=headers)\n",
    "jo = json.loads(r.text)\n",
    "result = json_normalize(jo,'list')\n",
    "result.head()\n",
    "jo\n"
   ]
  },
  {
   "cell_type": "code",
   "execution_count": null,
   "metadata": {},
   "outputs": [],
   "source": []
  }
 ],
 "metadata": {
  "kernelspec": {
   "display_name": "Python 3",
   "language": "python",
   "name": "python3"
  },
  "language_info": {
   "codemirror_mode": {
    "name": "ipython",
    "version": 3
   },
   "file_extension": ".py",
   "mimetype": "text/x-python",
   "name": "python",
   "nbconvert_exporter": "python",
   "pygments_lexer": "ipython3",
   "version": "3.6.3"
  }
 },
 "nbformat": 4,
 "nbformat_minor": 2
}
