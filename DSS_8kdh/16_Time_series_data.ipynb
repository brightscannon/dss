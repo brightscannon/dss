{
 "cells": [
  {
   "cell_type": "markdown",
   "metadata": {},
   "source": [
    "# 시계열 자료와 확률과정\n",
    "- https://datascienceschool.net/view-notebook/77e0ff1a3ed94d12afcc39ea3d1248d5/\n",
    "\n",
    "- ### 확률과정\n",
    "\n",
    ">- data - random variable\n",
    "- time series - random process (data가 한줄로 연결되어 있는것) <-- 시간을 나타내는 인덱스를 사용한다.\n",
    "- 그 이상 복잡도└--> random field\n",
    "\n",
    "- ex ) 삼성전자 주식은 sample이 몇개 ; 1개 (주식시게열자료는 1가지밖에 없다)\n",
    "-   └---> 평행우주를 가서 여러개의 샘플을 가져오는게 가능하다면 여러개의 샘플도 get가능\n",
    "\n",
    "- 동시간대 여러 샘플의 기댓값을 앙상블 평균이라고 한다."
   ]
  },
  {
   "cell_type": "markdown",
   "metadata": {},
   "source": [
    "### 정상확률 과정\n",
    "- E[Yt, Yt+k, Yt+k2, ] = E[Ys, Ys+k1, ...]\n",
    "\n",
    "### 에르고딕 확률 과정\n",
    "- 모멘트에 대한 시간 평균값이 앙상블 기댓값으로 수렴하는 정상확률과정\n",
    "\n",
    "- 랜덤워크 : 내일의 위치가 상승인지 하강인지 알 수 없음. ==> 주식분석에 적합\n",
    "\n",
    "### 비정상확률 과정\n",
    "- 시간이 지나면서 기댓값이 변화함\n",
    "- 추세는 0이지만 분산이 변화함\n",
    "\n",
    "### 자연계에서 생기는 시그널은 대부분 물리법칙(변하지 않는 규칙)에 의해 결정 --> 정상확률임\n",
    "### ---> 그러나 시간이 지나면 진동 자체가 없어짐 --> 분산이 줄어듬 --> 비정상확률임\n",
    "\n",
    "- 순간적인 상황인것은 대부분 정상확률\n",
    "- 시간을 길게 보면 비정상확률이다.\n",
    "\n",
    "- 우리는 시계열에서 정상확률만 예측이 가능함.\n",
    "\n",
    "- 비정상확률은 정상인 신호로 바꿔서 예측함\n",
    "\n",
    "> ### 잠깐 주식이야기\n",
    "- 가격을 움직이는 것은 정보다\n",
    "- 주식이든 치킨집이든 가치는 미래에 벌어들이는 돈과 현재 실물 가치의 합이다\n",
    "- 정보를 얻고 가격이 떨어지는걸 예상할 수 있다.\n",
    "- 정보없이 예측하는건 어렵다 --> 과거 데이터만으로 (과거의 가치정보) 주식을 분석하는건 불가능 --> 입증됨\n",
    "- 내가 뭔가를(정보를) 남들보다 일찍 알았다면 그것이 곧 시그널이 되고 가치의 변동을 아는것이 된다.\n",
    "\n",
    "\n"
   ]
  },
  {
   "cell_type": "markdown",
   "metadata": {},
   "source": [
    "## 랜덤워크\n",
    "- w1 = e1\n",
    "- w2 = e1+e2\n",
    "- w3 = e1+e2+e3\n",
    "-  └-> wt=wt-1+et\n",
    "\n",
    "- 기댓값 : E[wt]=0\n",
    "- 분산 : ~\n",
    "\n",
    "## 일반선형확률과정의 모형\n",
    "\n",
    "- MA모형 --> 선형확률모형의 차수가 유한한 경우\n",
    "- AR모형 -- > 자기자신의 과거값에 의존적으로 Y값 예측\n",
    "- ARMA모형"
   ]
  },
  {
   "cell_type": "code",
   "execution_count": null,
   "metadata": {},
   "outputs": [],
   "source": []
  }
 ],
 "metadata": {
  "kernelspec": {
   "display_name": "Python 3",
   "language": "python",
   "name": "python3"
  },
  "language_info": {
   "codemirror_mode": {
    "name": "ipython",
    "version": 3
   },
   "file_extension": ".py",
   "mimetype": "text/x-python",
   "name": "python",
   "nbconvert_exporter": "python",
   "pygments_lexer": "ipython3",
   "version": "3.6.3"
  }
 },
 "nbformat": 4,
 "nbformat_minor": 2
}
