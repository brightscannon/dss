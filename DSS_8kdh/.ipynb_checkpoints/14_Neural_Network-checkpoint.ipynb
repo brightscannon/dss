{
 "cells": [
  {
   "cell_type": "markdown",
   "metadata": {},
   "source": [
    "- neuralnetworksanddeeplearning.com\n",
    "\n",
    "- 텐서플로우 \n",
    "    - https://datascienceschool.net/view-notebook/5cbab09d777841f591a67928d7043f51/"
   ]
  },
  {
   "cell_type": "code",
   "execution_count": 37,
   "metadata": {},
   "outputs": [],
   "source": [
    "%matplotlib inline\n",
    "#주피터노트북에서 라인 아래에 보여지도록 설정\n",
    "\n",
    "%config InlineBackend.figure_formats = {'png','retina'} \n",
    "#png 이미지 압축기술설정, retina 그래프 해상도 2배 높히기\n",
    "\n",
    "#그래프 한글폰트 설정\n",
    "from matplotlib import font_manager, rc\n",
    "font_name = font_manager.FontProperties(fname=\"c:/Windows/Fonts/malgun.ttf\").get_name()\n",
    "rc('font', family=font_name)\n",
    "#음수처리\n",
    "mpl.rcParams['axes.unicode_minus'] = False\n",
    "\n",
    "import numpy as np\n",
    "import matplotlib as mpl\n",
    "import matplotlib.pyplot as plt"
   ]
  },
  {
   "cell_type": "markdown",
   "metadata": {},
   "source": [
    "# Theano\n",
    "- https://datascienceschool.net/view-notebook/a7ce18eb02b54cbfa760636cc76a4640/\n",
    "\n",
    ">스칼라, 벡터, 행렬을 정의하기 위해 `theano.tensor.T` 서브패키지의 `dscalar`, `dvector`, `dmatrix` 명령을 사용하거나 이미 심볼로 정의된 변수의 연산을 통해 자동으로 정의된다. 명령어 앞에 붙은 d는 double 자료형을 나타낸다."
   ]
  },
  {
   "cell_type": "code",
   "execution_count": 1,
   "metadata": {},
   "outputs": [],
   "source": [
    "# MKL 라이브러리가 설치되어 있으면 다음 코드를 우선 실행한다.\n",
    "import os\n",
    "os.environ['MKL_THREADING_LAYER'] = 'GNU'"
   ]
  },
  {
   "cell_type": "code",
   "execution_count": 2,
   "metadata": {},
   "outputs": [],
   "source": [
    "import theano\n",
    "import theano.tensor as T"
   ]
  },
  {
   "cell_type": "code",
   "execution_count": 3,
   "metadata": {},
   "outputs": [],
   "source": [
    "x1 = T.dscalar('x1')\n",
    "y1 = T.dscalar('y1')"
   ]
  },
  {
   "cell_type": "code",
   "execution_count": 4,
   "metadata": {},
   "outputs": [
    {
     "data": {
      "text/plain": [
       "(theano.tensor.var.TensorVariable, theano.tensor.var.TensorVariable)"
      ]
     },
     "execution_count": 4,
     "metadata": {},
     "output_type": "execute_result"
    }
   ],
   "source": [
    "type(x1), type(y1)"
   ]
  },
  {
   "cell_type": "code",
   "execution_count": 5,
   "metadata": {},
   "outputs": [],
   "source": [
    "x2 = T.dvector('x2')\n",
    "y2 = T.dvector('y2')\n",
    "\n",
    "x3 = T.dmatrix('x3')\n",
    "y3 = T.dmatrix('y3')"
   ]
  },
  {
   "cell_type": "code",
   "execution_count": 6,
   "metadata": {},
   "outputs": [
    {
     "data": {
      "text/plain": [
       "theano.tensor.var.TensorVariable"
      ]
     },
     "execution_count": 6,
     "metadata": {},
     "output_type": "execute_result"
    }
   ],
   "source": [
    "# 심볼관계정의 (수식사용시 numpy사용하면 안되고,,, Theano에 있는 수식으로 사용가능함)----------\n",
    "\n",
    "z1 = x1 + y1\n",
    "\n",
    "type(z1)"
   ]
  },
  {
   "cell_type": "code",
   "execution_count": 7,
   "metadata": {},
   "outputs": [
    {
     "data": {
      "text/plain": [
       "theano.tensor.var.TensorVariable"
      ]
     },
     "execution_count": 7,
     "metadata": {},
     "output_type": "execute_result"
    }
   ],
   "source": [
    "u1 = T.exp(z1)\n",
    "type(u1)"
   ]
  },
  {
   "cell_type": "code",
   "execution_count": 8,
   "metadata": {},
   "outputs": [],
   "source": [
    "z2 = T.dot(x2,y2)\n",
    "z3 = T.sum(x3) + T.mean(y3)"
   ]
  },
  {
   "cell_type": "code",
   "execution_count": 9,
   "metadata": {},
   "outputs": [
    {
     "data": {
      "text/plain": [
       "'x1'"
      ]
     },
     "execution_count": 9,
     "metadata": {},
     "output_type": "execute_result"
    }
   ],
   "source": [
    "# 심볼 프린트-------------------------------------------------------------------------------------\n",
    "theano.printing.pprint(x1)\n"
   ]
  },
  {
   "cell_type": "code",
   "execution_count": 10,
   "metadata": {},
   "outputs": [
    {
     "data": {
      "text/plain": [
       "'y1'"
      ]
     },
     "execution_count": 10,
     "metadata": {},
     "output_type": "execute_result"
    }
   ],
   "source": [
    "theano.printing.pprint(y1)"
   ]
  },
  {
   "cell_type": "code",
   "execution_count": 11,
   "metadata": {},
   "outputs": [
    {
     "data": {
      "text/plain": [
       "'(x1 + y1)'"
      ]
     },
     "execution_count": 11,
     "metadata": {},
     "output_type": "execute_result"
    }
   ],
   "source": [
    "theano.printing.pprint(z1)"
   ]
  },
  {
   "cell_type": "code",
   "execution_count": 12,
   "metadata": {},
   "outputs": [
    {
     "data": {
      "text/plain": [
       "'exp((x1 + y1))'"
      ]
     },
     "execution_count": 12,
     "metadata": {},
     "output_type": "execute_result"
    }
   ],
   "source": [
    "theano.printing.pprint(u1)"
   ]
  },
  {
   "cell_type": "code",
   "execution_count": 46,
   "metadata": {},
   "outputs": [
    {
     "ename": "AttributeError",
     "evalue": "module 'pydot' has no attribute 'find_graphviz'",
     "output_type": "error",
     "traceback": [
      "\u001b[1;31m---------------------------------------------------------------------------\u001b[0m",
      "\u001b[1;31mAttributeError\u001b[0m                            Traceback (most recent call last)",
      "\u001b[1;32m<ipython-input-46-b450a62ed049>\u001b[0m in \u001b[0;36m<module>\u001b[1;34m()\u001b[0m\n\u001b[0;32m      1\u001b[0m \u001b[1;32mfrom\u001b[0m \u001b[0mIPython\u001b[0m\u001b[1;33m.\u001b[0m\u001b[0mdisplay\u001b[0m \u001b[1;32mimport\u001b[0m \u001b[0mSVG\u001b[0m\u001b[1;33m\u001b[0m\u001b[0m\n\u001b[0;32m      2\u001b[0m \u001b[1;32mimport\u001b[0m \u001b[0mpydot\u001b[0m\u001b[1;33m\u001b[0m\u001b[0m\n\u001b[1;32m----> 3\u001b[1;33m \u001b[0mprint\u001b[0m\u001b[1;33m(\u001b[0m\u001b[0mpydot\u001b[0m\u001b[1;33m.\u001b[0m\u001b[0mfind_graphviz\u001b[0m\u001b[1;33m(\u001b[0m\u001b[1;33m)\u001b[0m\u001b[1;33m)\u001b[0m\u001b[1;33m\u001b[0m\u001b[0m\n\u001b[0m\u001b[0;32m      4\u001b[0m \u001b[1;33m\u001b[0m\u001b[0m\n\u001b[0;32m      5\u001b[0m \u001b[1;32mimport\u001b[0m \u001b[0mos\u001b[0m\u001b[1;33m\u001b[0m\u001b[0m\n",
      "\u001b[1;31mAttributeError\u001b[0m: module 'pydot' has no attribute 'find_graphviz'"
     ]
    }
   ],
   "source": [
    "from IPython.display import SVG\n",
    "import pydot\n",
    "print(pydot.find_graphviz())\n",
    "\n",
    "import os\n",
    "os.environ[\"PATH\"] += os.pathsep + 'C:/Users/creal/graphviz-2.38/release/bin'\n"
   ]
  },
  {
   "cell_type": "code",
   "execution_count": 47,
   "metadata": {},
   "outputs": [
    {
     "ename": "RuntimeError",
     "evalue": "('Failed to import pydot. You must install graphviz and either pydot or pydot-ng for `pydotprint` to work.', \"pydot-ng can't find graphviz. Install graphviz.\")",
     "output_type": "error",
     "traceback": [
      "\u001b[1;31m---------------------------------------------------------------------------\u001b[0m",
      "\u001b[1;31mRuntimeError\u001b[0m                              Traceback (most recent call last)",
      "\u001b[1;32m<ipython-input-47-88c1ac48c267>\u001b[0m in \u001b[0;36m<module>\u001b[1;34m()\u001b[0m\n\u001b[1;32m----> 1\u001b[1;33m \u001b[0mSVG\u001b[0m\u001b[1;33m(\u001b[0m\u001b[0mtheano\u001b[0m\u001b[1;33m.\u001b[0m\u001b[0mprinting\u001b[0m\u001b[1;33m.\u001b[0m\u001b[0mpydotprint\u001b[0m\u001b[1;33m(\u001b[0m\u001b[0mz1\u001b[0m\u001b[1;33m,\u001b[0m \u001b[0mreturn_image\u001b[0m\u001b[1;33m=\u001b[0m\u001b[1;32mTrue\u001b[0m\u001b[1;33m,\u001b[0m \u001b[0mformat\u001b[0m\u001b[1;33m=\u001b[0m\u001b[1;34m'svg'\u001b[0m\u001b[1;33m)\u001b[0m\u001b[1;33m)\u001b[0m\u001b[1;33m\u001b[0m\u001b[0m\n\u001b[0m",
      "\u001b[1;32m~\\Anaconda3\\lib\\site-packages\\theano\\printing.py\u001b[0m in \u001b[0;36mpydotprint\u001b[1;34m(fct, outfile, compact, format, with_ids, high_contrast, cond_highlight, colorCodes, max_label_size, scan_graphs, var_with_name_simple, print_output_file, return_image)\u001b[0m\n\u001b[0;32m    781\u001b[0m                            \u001b[1;34m\" and either pydot or pydot-ng for \"\u001b[0m\u001b[1;33m\u001b[0m\u001b[0m\n\u001b[0;32m    782\u001b[0m                            \u001b[1;34m\"`pydotprint` to work.\"\u001b[0m\u001b[1;33m,\u001b[0m\u001b[1;33m\u001b[0m\u001b[0m\n\u001b[1;32m--> 783\u001b[1;33m                            pydot_imported_msg)\n\u001b[0m\u001b[0;32m    784\u001b[0m \u001b[1;33m\u001b[0m\u001b[0m\n\u001b[0;32m    785\u001b[0m     \u001b[0mg\u001b[0m \u001b[1;33m=\u001b[0m \u001b[0mpd\u001b[0m\u001b[1;33m.\u001b[0m\u001b[0mDot\u001b[0m\u001b[1;33m(\u001b[0m\u001b[1;33m)\u001b[0m\u001b[1;33m\u001b[0m\u001b[0m\n",
      "\u001b[1;31mRuntimeError\u001b[0m: ('Failed to import pydot. You must install graphviz and either pydot or pydot-ng for `pydotprint` to work.', \"pydot-ng can't find graphviz. Install graphviz.\")"
     ]
    }
   ],
   "source": [
    "SVG(theano.printing.pydotprint(z1, return_image=True, format='svg'))"
   ]
  },
  {
   "cell_type": "code",
   "execution_count": 15,
   "metadata": {},
   "outputs": [
    {
     "name": "stdout",
     "output_type": "stream",
     "text": [
      "Wall time: 2.65 s\n"
     ]
    }
   ],
   "source": [
    "#심볼함수\n",
    "\n",
    "%time f1 = theano.function(inputs=[x1, y1], outputs=z1)"
   ]
  },
  {
   "cell_type": "code",
   "execution_count": 16,
   "metadata": {},
   "outputs": [
    {
     "data": {
      "text/plain": [
       "array(3.0)"
      ]
     },
     "execution_count": 16,
     "metadata": {},
     "output_type": "execute_result"
    }
   ],
   "source": [
    "f1(1, 2)"
   ]
  },
  {
   "cell_type": "code",
   "execution_count": 17,
   "metadata": {},
   "outputs": [
    {
     "data": {
      "text/plain": [
       "array(11.0)"
      ]
     },
     "execution_count": 17,
     "metadata": {},
     "output_type": "execute_result"
    }
   ],
   "source": [
    "f2 = theano.function([x2, y2], z2)\n",
    "f2([1, 2], [3, 4])"
   ]
  },
  {
   "cell_type": "code",
   "execution_count": 18,
   "metadata": {},
   "outputs": [
    {
     "data": {
      "text/plain": [
       "array(6.5)"
      ]
     },
     "execution_count": 18,
     "metadata": {},
     "output_type": "execute_result"
    }
   ],
   "source": [
    "f3 = theano.function([x3, y3],z3)\n",
    "f3([[1],[2]],[[3],[4]])"
   ]
  },
  {
   "cell_type": "code",
   "execution_count": 20,
   "metadata": {},
   "outputs": [
    {
     "data": {
      "text/plain": [
       "array(0.7310585786300049)"
      ]
     },
     "execution_count": 20,
     "metadata": {},
     "output_type": "execute_result"
    }
   ],
   "source": [
    "# 로지스틱함수나 난수를 사용하는 함수는 다음과 같이 정의한다.\n",
    "s1 = 1 / (1 + T.exp(-x1))\n",
    "logistic = theano.function([x1], s1)\n",
    "logistic(1)"
   ]
  },
  {
   "cell_type": "code",
   "execution_count": 22,
   "metadata": {},
   "outputs": [
    {
     "data": {
      "text/plain": [
       "array([ 0.5       ,  0.73105858])"
      ]
     },
     "execution_count": 22,
     "metadata": {},
     "output_type": "execute_result"
    }
   ],
   "source": [
    "s2 = 1/(1+T.exp(-x2))\n",
    "logistic2 = theano.function([x2],s2)\n",
    "logistic2([0,1])"
   ]
  },
  {
   "cell_type": "code",
   "execution_count": 23,
   "metadata": {},
   "outputs": [],
   "source": [
    "# 난수발생도 theano의 Randomstream명령을 사용해야한다\n",
    "from theano.tensor.shared_randomstreams import RandomStreams\n",
    "\n",
    "srng = RandomStreams(0)\n",
    "rv_u = srng.uniform()\n",
    "f_rv_u = theano.function([],rv_u)"
   ]
  },
  {
   "cell_type": "code",
   "execution_count": 24,
   "metadata": {
    "scrolled": true
   },
   "outputs": [
    {
     "data": {
      "text/plain": [
       "(array(0.4860473230215504),\n",
       " array(0.6857123175110225),\n",
       " array(0.9855760506615988),\n",
       " array(0.1955964101622225))"
      ]
     },
     "execution_count": 24,
     "metadata": {},
     "output_type": "execute_result"
    }
   ],
   "source": [
    "f_rv_u(),f_rv_u(),f_rv_u(),f_rv_u()"
   ]
  },
  {
   "cell_type": "markdown",
   "metadata": {},
   "source": [
    "### 변수갱신"
   ]
  },
  {
   "cell_type": "code",
   "execution_count": 26,
   "metadata": {},
   "outputs": [],
   "source": [
    "x = T.dscalar('x')\n",
    "y = x\n",
    "w = theano.shared(0.0, name=\"w\")\n",
    "update = theano.function([x],y,updates=[(w,w+x)])"
   ]
  },
  {
   "cell_type": "code",
   "execution_count": 27,
   "metadata": {},
   "outputs": [
    {
     "data": {
      "text/plain": [
       "array(0.583411673483624)"
      ]
     },
     "execution_count": 27,
     "metadata": {},
     "output_type": "execute_result"
    }
   ],
   "source": [
    "w.set_value(f_rv_u())\n",
    "w.get_value()"
   ]
  },
  {
   "cell_type": "code",
   "execution_count": 28,
   "metadata": {},
   "outputs": [
    {
     "data": {
      "text/plain": [
       "array(1.5834116734836239)"
      ]
     },
     "execution_count": 28,
     "metadata": {},
     "output_type": "execute_result"
    }
   ],
   "source": [
    "update(1)\n",
    "w.get_value()"
   ]
  },
  {
   "cell_type": "code",
   "execution_count": 29,
   "metadata": {},
   "outputs": [
    {
     "data": {
      "text/plain": [
       "array(3.583411673483624)"
      ]
     },
     "execution_count": 29,
     "metadata": {},
     "output_type": "execute_result"
    }
   ],
   "source": [
    "update(2)\n",
    "w.get_value()"
   ]
  },
  {
   "cell_type": "code",
   "execution_count": 30,
   "metadata": {},
   "outputs": [
    {
     "data": {
      "text/plain": [
       "array(4.583411673483624)"
      ]
     },
     "execution_count": 30,
     "metadata": {},
     "output_type": "execute_result"
    }
   ],
   "source": [
    "update(1)\n",
    "w.get_value()"
   ]
  },
  {
   "cell_type": "code",
   "execution_count": 42,
   "metadata": {},
   "outputs": [],
   "source": [
    "x1 = T.dvector('x1')\n",
    "y1 = x1 ** 10\n",
    "f1 = theano.function([x1], y1)"
   ]
  },
  {
   "cell_type": "code",
   "execution_count": 43,
   "metadata": {},
   "outputs": [
    {
     "ename": "RuntimeError",
     "evalue": "('Failed to import pydot. You must install graphviz and either pydot or pydot-ng for `pydotprint` to work.', \"pydot-ng can't find graphviz. Install graphviz.\")",
     "output_type": "error",
     "traceback": [
      "\u001b[1;31m---------------------------------------------------------------------------\u001b[0m",
      "\u001b[1;31mRuntimeError\u001b[0m                              Traceback (most recent call last)",
      "\u001b[1;32m<ipython-input-43-7660eccfa04b>\u001b[0m in \u001b[0;36m<module>\u001b[1;34m()\u001b[0m\n\u001b[1;32m----> 1\u001b[1;33m \u001b[0mSVG\u001b[0m\u001b[1;33m(\u001b[0m\u001b[0mtheano\u001b[0m\u001b[1;33m.\u001b[0m\u001b[0mprinting\u001b[0m\u001b[1;33m.\u001b[0m\u001b[0mpydotprint\u001b[0m\u001b[1;33m(\u001b[0m\u001b[0mf1\u001b[0m\u001b[1;33m,\u001b[0m \u001b[0mreturn_image\u001b[0m\u001b[1;33m=\u001b[0m\u001b[1;32mTrue\u001b[0m\u001b[1;33m,\u001b[0m \u001b[0mformat\u001b[0m\u001b[1;33m=\u001b[0m\u001b[1;34m'svg'\u001b[0m\u001b[1;33m)\u001b[0m\u001b[1;33m)\u001b[0m\u001b[1;33m\u001b[0m\u001b[0m\n\u001b[0m",
      "\u001b[1;32m~\\Anaconda3\\lib\\site-packages\\theano\\printing.py\u001b[0m in \u001b[0;36mpydotprint\u001b[1;34m(fct, outfile, compact, format, with_ids, high_contrast, cond_highlight, colorCodes, max_label_size, scan_graphs, var_with_name_simple, print_output_file, return_image)\u001b[0m\n\u001b[0;32m    781\u001b[0m                            \u001b[1;34m\" and either pydot or pydot-ng for \"\u001b[0m\u001b[1;33m\u001b[0m\u001b[0m\n\u001b[0;32m    782\u001b[0m                            \u001b[1;34m\"`pydotprint` to work.\"\u001b[0m\u001b[1;33m,\u001b[0m\u001b[1;33m\u001b[0m\u001b[0m\n\u001b[1;32m--> 783\u001b[1;33m                            pydot_imported_msg)\n\u001b[0m\u001b[0;32m    784\u001b[0m \u001b[1;33m\u001b[0m\u001b[0m\n\u001b[0;32m    785\u001b[0m     \u001b[0mg\u001b[0m \u001b[1;33m=\u001b[0m \u001b[0mpd\u001b[0m\u001b[1;33m.\u001b[0m\u001b[0mDot\u001b[0m\u001b[1;33m(\u001b[0m\u001b[1;33m)\u001b[0m\u001b[1;33m\u001b[0m\u001b[0m\n",
      "\u001b[1;31mRuntimeError\u001b[0m: ('Failed to import pydot. You must install graphviz and either pydot or pydot-ng for `pydotprint` to work.', \"pydot-ng can't find graphviz. Install graphviz.\")"
     ]
    }
   ],
   "source": [
    "SVG(theano.printing.pydotprint(f1, return_image=True, format='svg'))"
   ]
  },
  {
   "cell_type": "code",
   "execution_count": 48,
   "metadata": {},
   "outputs": [],
   "source": [
    "x1 = np.ones(10000000)"
   ]
  },
  {
   "cell_type": "code",
   "execution_count": 49,
   "metadata": {},
   "outputs": [
    {
     "name": "stdout",
     "output_type": "stream",
     "text": [
      "120 ms ± 7.34 ms per loop (mean ± std. dev. of 7 runs, 10 loops each)\n"
     ]
    }
   ],
   "source": [
    "%timeit x1 ** 10"
   ]
  },
  {
   "cell_type": "code",
   "execution_count": 50,
   "metadata": {},
   "outputs": [
    {
     "name": "stdout",
     "output_type": "stream",
     "text": [
      "46.3 ms ± 3.26 ms per loop (mean ± std. dev. of 7 runs, 10 loops each)\n"
     ]
    }
   ],
   "source": [
    "%timeit f1(x1)"
   ]
  },
  {
   "cell_type": "code",
   "execution_count": 51,
   "metadata": {},
   "outputs": [],
   "source": [
    "#미분\n",
    "x1 = T.dscalar('x1')\n",
    "y1 = x1 ** 2\n",
    "gy1 = T.grad(y1, x1)\n",
    "fy1 = theano.function([x1], y1)\n",
    "fgy1 = theano.function([x1], gy1)"
   ]
  },
  {
   "cell_type": "code",
   "execution_count": null,
   "metadata": {},
   "outputs": [],
   "source": []
  },
  {
   "cell_type": "code",
   "execution_count": null,
   "metadata": {},
   "outputs": [],
   "source": []
  },
  {
   "cell_type": "code",
   "execution_count": 52,
   "metadata": {},
   "outputs": [],
   "source": [
    "x1 = T.dscalar('x1')\n",
    "s1 = 1 / (1 + T.exp(-x1))\n",
    "logistic = theano.function([x1], s1)\n",
    "gs1 = T.grad(s1, x1)\n",
    "dlogistic = theano.function([x1], gs1)"
   ]
  },
  {
   "cell_type": "code",
   "execution_count": null,
   "metadata": {},
   "outputs": [],
   "source": []
  },
  {
   "cell_type": "code",
   "execution_count": 53,
   "metadata": {},
   "outputs": [
    {
     "data": {
      "image/png": "[encoded data removed]",
      "text/plain": [
       "<matplotlib.figure.Figure at 0x1edcb1e0860>"
      ]
     },
     "metadata": {
      "image/png": {
       "height": 249,
       "width": 369
      }
     },
     "output_type": "display_data"
    }
   ],
   "source": [
    "xx = np.linspace(-5, 5, 100)\n",
    "y1 = np.hstack([logistic(xi) for xi in xx])\n",
    "y2 = np.hstack([dlogistic(xi) for xi in xx])\n",
    "plt.plot(xx, y1, label=\"logistic\")\n",
    "plt.plot(xx, y2, label=\"derivative of logistic\")\n",
    "plt.legend(loc=0)\n",
    "plt.show()"
   ]
  },
  {
   "cell_type": "code",
   "execution_count": 54,
   "metadata": {},
   "outputs": [
    {
     "data": {
      "image/png": "[encoded data removed]",
      "text/plain": [
       "<matplotlib.figure.Figure at 0x1edcb63ab70>"
      ]
     },
     "metadata": {
      "image/png": {
       "height": 388,
       "width": 586
      }
     },
     "output_type": "display_data"
    }
   ],
   "source": [
    "#퍼셉트론구현\n",
    "\n",
    "from sklearn.datasets import load_iris\n",
    "iris = load_iris()\n",
    "\n",
    "idx = np.in1d(iris.target, [0, 2])\n",
    "X_data = iris.data[idx, 0:2]\n",
    "y_data = iris.target[idx] - 1  # y=1 또는 y=-1\n",
    "\n",
    "plt.figure(figsize=(12, 8), dpi=60)\n",
    "plt.scatter(X_data[:, 0], X_data[:, 1], c=y_data, s=100, edgecolor='k')\n",
    "plt.show()"
   ]
  },
  {
   "cell_type": "code",
   "execution_count": 55,
   "metadata": {},
   "outputs": [],
   "source": [
    "X = T.dmatrix('X')\n",
    "y = T.dvector('y')\n",
    "np.random.seed(0)\n",
    "w = theano.shared(0.001 * np.random.randn(2), name=\"w\")\n",
    "b = theano.shared(0.001 * np.random.randn(1)[0], name=\"b\")\n",
    "z = T.tanh(T.dot(X, w) + b)\n",
    "cost = T.sum(T.maximum(0, -y * z))"
   ]
  },
  {
   "cell_type": "code",
   "execution_count": 56,
   "metadata": {},
   "outputs": [],
   "source": [
    "gw, gb = T.grad(cost, [w, b])\n",
    "mu = 1e-7\n",
    "train = theano.function([X, y], cost, updates=[(w, w - mu * gw), (b, b - mu * gb)])"
   ]
  },
  {
   "cell_type": "code",
   "execution_count": 57,
   "metadata": {},
   "outputs": [
    {
     "name": "stdout",
     "output_type": "stream",
     "text": [
      "   0:  0.5588424928848522\n",
      "  10:  0.4645058718722919\n",
      "  20:  0.3701625011442721\n",
      "  30:  0.27581374670328085\n",
      "  40:  0.18146097498533956\n",
      "  50:  0.08710555275029427\n",
      "  60:  0.0017481157550485488\n",
      "  70:  0.0003194822026270444\n",
      "  80:  0.00029294220762885446\n",
      "  90:  0.00029210620994642254\n"
     ]
    }
   ],
   "source": [
    "for i in range(100):\n",
    "    cost_i = train(X_data, y_data)\n",
    "    if i % 10 == 0:\n",
    "        print(\"{:4d}: \".format(i), cost_i)"
   ]
  },
  {
   "cell_type": "code",
   "execution_count": 58,
   "metadata": {},
   "outputs": [
    {
     "data": {
      "text/plain": [
       "array([-1., -1., -1., -1., -1., -1., -1., -1., -1., -1., -1., -1., -1.,\n",
       "       -1., -1., -1., -1., -1., -1., -1., -1., -1., -1., -1., -1., -1.,\n",
       "       -1., -1., -1., -1., -1., -1., -1., -1., -1., -1., -1., -1., -1.,\n",
       "       -1., -1.,  1., -1., -1., -1., -1., -1., -1., -1., -1.,  1.,  1.,\n",
       "        1.,  1.,  1.,  1.,  1.,  1.,  1.,  1.,  1.,  1.,  1.,  1.,  1.,\n",
       "        1.,  1.,  1.,  1.,  1.,  1.,  1.,  1.,  1.,  1.,  1.,  1.,  1.,\n",
       "        1.,  1.,  1.,  1.,  1.,  1.,  1.,  1.,  1.,  1.,  1.,  1.,  1.,\n",
       "        1.,  1.,  1.,  1.,  1.,  1.,  1., -1.,  1.])"
      ]
     },
     "execution_count": 58,
     "metadata": {},
     "output_type": "execute_result"
    }
   ],
   "source": [
    "y_pred = T.sgn(z) # -1 ~ 1 => -1 또는 1 \n",
    "y_pred_func = theano.function([X], y_pred)\n",
    "y_pred = y_pred_func(X_data)\n",
    "y_pred"
   ]
  },
  {
   "cell_type": "code",
   "execution_count": 59,
   "metadata": {},
   "outputs": [
    {
     "data": {
      "text/plain": [
       "array([[49,  1],\n",
       "       [ 1, 49]], dtype=int64)"
      ]
     },
     "execution_count": 59,
     "metadata": {},
     "output_type": "execute_result"
    }
   ],
   "source": [
    "from sklearn.metrics import confusion_matrix\n",
    "\n",
    "confusion_matrix(y_data, y_pred)"
   ]
  },
  {
   "cell_type": "markdown",
   "metadata": {},
   "source": [
    "# 연습문제 1\n",
    "- 위코드를 아래와 같이 고쳐라"
   ]
  },
  {
   "cell_type": "code",
   "execution_count": 66,
   "metadata": {},
   "outputs": [
    {
     "data": {
      "image/png": "[encoded data removed]",
      "text/plain": [
       "<matplotlib.figure.Figure at 0x1edcb1ca240>"
      ]
     },
     "metadata": {
      "image/png": {
       "height": 388,
       "width": 586
      }
     },
     "output_type": "display_data"
    }
   ],
   "source": [
    "#퍼셉트론구현\n",
    "\n",
    "from sklearn.datasets import load_iris\n",
    "iris = load_iris()\n",
    "\n",
    "idx = np.in1d(iris.target, [0, 2])\n",
    "X_data = iris.data[idx, 0:2]\n",
    "y_data = iris.target[idx] / 2  # y=1 또는 y=0\n",
    "\n",
    "plt.figure(figsize=(12, 8), dpi=60)\n",
    "plt.scatter(X_data[:, 0], X_data[:, 1], c=y_data, s=100, edgecolor='k')\n",
    "plt.show()"
   ]
  },
  {
   "cell_type": "code",
   "execution_count": 136,
   "metadata": {},
   "outputs": [],
   "source": [
    "X = T.dmatrix('X')\n",
    "y = T.dvector('y')\n",
    "np.random.seed(0)\n",
    "w = theano.shared(0.001 * np.random.randn(2), name=\"w\")\n",
    "b = theano.shared(0.001 * np.random.randn(1)[0], name=\"b\")\n",
    "\n",
    "z = 1 / (1 + T.exp(-(T.dot(X, w) + b)))\n",
    "\n",
    "cost = T.sum((y - z)**2)\n"
   ]
  },
  {
   "cell_type": "code",
   "execution_count": 137,
   "metadata": {},
   "outputs": [],
   "source": [
    "gw, gb = T.grad(cost, [w, b])\n",
    "mu = 3e-3\n",
    "train = theano.function([X, y], cost, updates=[(w, w - mu * gw), (b, b - mu * gb)])"
   ]
  },
  {
   "cell_type": "code",
   "execution_count": 138,
   "metadata": {},
   "outputs": [
    {
     "name": "stdout",
     "output_type": "stream",
     "text": [
      "   0:  24.9683287358724\n",
      " 100:  6.2927007228728655\n",
      " 200:  3.946278197220355\n",
      " 300:  3.0454748976610317\n",
      " 400:  2.5619432017221064\n",
      " 500:  2.2570973957582954\n",
      " 600:  2.045743897530579\n",
      " 700:  1.889701392291189\n",
      " 800:  1.769227643059599\n",
      " 900:  1.6730521971510077\n"
     ]
    }
   ],
   "source": [
    "for i in range(1000):\n",
    "    cost_i = train(X_data, y_data)\n",
    "    if i % 100 == 0:\n",
    "        print(\"{:4d}: \".format(i), cost_i)"
   ]
  },
  {
   "cell_type": "code",
   "execution_count": 139,
   "metadata": {},
   "outputs": [
    {
     "data": {
      "text/plain": [
       "array([ 0.,  0.,  0.,  0.,  0.,  0.,  0.,  0.,  0.,  0.,  0.,  0.,  0.,\n",
       "        0.,  0.,  0.,  0.,  0.,  0.,  0.,  0.,  0.,  0.,  0.,  0.,  0.,\n",
       "        0.,  0.,  0.,  0.,  0.,  0.,  0.,  0.,  0.,  0.,  0.,  0.,  0.,\n",
       "        0.,  0.,  1.,  0.,  0.,  0.,  0.,  0.,  0.,  0.,  0.,  1.,  1.,\n",
       "        1.,  1.,  1.,  1.,  1.,  1.,  1.,  1.,  1.,  1.,  1.,  1.,  1.,\n",
       "        1.,  1.,  1.,  1.,  1.,  1.,  1.,  1.,  1.,  1.,  1.,  1.,  1.,\n",
       "        1.,  1.,  1.,  1.,  1.,  1.,  1.,  1.,  1.,  1.,  1.,  1.,  1.,\n",
       "        1.,  1.,  1.,  1.,  1.,  1.,  1.,  1.,  1.])"
      ]
     },
     "execution_count": 139,
     "metadata": {},
     "output_type": "execute_result"
    }
   ],
   "source": [
    "y_pred = T.round(z) # -1 ~ 1 => -1 또는 1 \n",
    "y_pred_func = theano.function([X], y_pred)\n",
    "y_pred = y_pred_func(X_data)\n",
    "y_pred"
   ]
  },
  {
   "cell_type": "code",
   "execution_count": 140,
   "metadata": {},
   "outputs": [
    {
     "data": {
      "text/plain": [
       "array([[49,  1],\n",
       "       [ 0, 50]], dtype=int64)"
      ]
     },
     "execution_count": 140,
     "metadata": {},
     "output_type": "execute_result"
    }
   ],
   "source": [
    "from sklearn.metrics import confusion_matrix\n",
    "\n",
    "confusion_matrix(y_data, y_pred)"
   ]
  },
  {
   "cell_type": "markdown",
   "metadata": {},
   "source": [
    "# Tensorflow"
   ]
  },
  {
   "cell_type": "code",
   "execution_count": 142,
   "metadata": {},
   "outputs": [],
   "source": [
    "import tensorflow as tf"
   ]
  },
  {
   "cell_type": "code",
   "execution_count": 143,
   "metadata": {},
   "outputs": [],
   "source": [
    "x = tf.Variable(1.0)\n",
    "y = tf.Variable(2.0)"
   ]
  },
  {
   "cell_type": "code",
   "execution_count": 144,
   "metadata": {},
   "outputs": [
    {
     "data": {
      "text/plain": [
       "(tensorflow.python.ops.variables.Variable,\n",
       " tensorflow.python.ops.variables.Variable)"
      ]
     },
     "execution_count": 144,
     "metadata": {},
     "output_type": "execute_result"
    }
   ],
   "source": [
    "type(x), type(y)"
   ]
  },
  {
   "cell_type": "code",
   "execution_count": 145,
   "metadata": {},
   "outputs": [],
   "source": [
    "z = x + y"
   ]
  },
  {
   "cell_type": "code",
   "execution_count": 146,
   "metadata": {},
   "outputs": [
    {
     "data": {
      "text/plain": [
       "tensorflow.python.framework.ops.Tensor"
      ]
     },
     "execution_count": 146,
     "metadata": {},
     "output_type": "execute_result"
    }
   ],
   "source": [
    "type(z)"
   ]
  },
  {
   "cell_type": "code",
   "execution_count": 147,
   "metadata": {},
   "outputs": [],
   "source": [
    "u = tf.log(z)"
   ]
  },
  {
   "cell_type": "code",
   "execution_count": 148,
   "metadata": {},
   "outputs": [
    {
     "data": {
      "text/plain": [
       "tensorflow.python.framework.ops.Tensor"
      ]
     },
     "execution_count": 148,
     "metadata": {},
     "output_type": "execute_result"
    }
   ],
   "source": [
    "type(u)"
   ]
  },
  {
   "cell_type": "code",
   "execution_count": 149,
   "metadata": {},
   "outputs": [
    {
     "name": "stdout",
     "output_type": "stream",
     "text": [
      "3.0\n",
      "1.09861\n"
     ]
    }
   ],
   "source": [
    "# 세션\n",
    "sess = tf.Session()\n",
    "init = tf.global_variables_initializer()\n",
    "sess.run(init)\n",
    "print(sess.run(z)) \n",
    "print(sess.run(u)) \n",
    "sess.close()"
   ]
  },
  {
   "cell_type": "code",
   "execution_count": 150,
   "metadata": {},
   "outputs": [
    {
     "name": "stdout",
     "output_type": "stream",
     "text": [
      "1.0\n",
      "[2.0]\n"
     ]
    }
   ],
   "source": [
    "# 미분\n",
    "f = x ** 2\n",
    "fx = tf.gradients(f, [x])\n",
    "\n",
    "with tf.Session() as sess:\n",
    "    init = tf.global_variables_initializer()\n",
    "    sess.run(init)\n",
    "    print(sess.run(f))    \n",
    "    print(sess.run(fx))"
   ]
  },
  {
   "cell_type": "markdown",
   "metadata": {},
   "source": [
    "## 연습문제\n",
    "- $ tensorboard --host=0.0.0.0 --logdir=c:/home/dockeruser/logs 로 텐서보드 그래프 확인 가능"
   ]
  },
  {
   "cell_type": "code",
   "execution_count": 204,
   "metadata": {},
   "outputs": [],
   "source": [
    "from sklearn.datasets import load_iris\n",
    "iris = load_iris()\n",
    "\n",
    "idx = np.in1d(iris.target, [0, 2])\n",
    "X_data = iris.data[idx, 0:2]\n",
    "y_data = (iris.target[idx] / 2 )[:, np.newaxis] # y=1 또는 y=-1. 2차원임을 명시\n"
   ]
  },
  {
   "cell_type": "code",
   "execution_count": 205,
   "metadata": {},
   "outputs": [
    {
     "name": "stdout",
     "output_type": "stream",
     "text": [
      "   0:  33.7712183742\n",
      "1000:  0.902999224458\n",
      "2000:  0.713769512371\n",
      "3000:  0.597542199063\n",
      "4000:  0.51528855633\n",
      "5000:  0.456918070683\n",
      "6000:  0.414897193202\n",
      "7000:  0.383751979664\n",
      "8000:  0.359870342328\n",
      "9000:  0.340949321563\n",
      "10000:  0.325516197071\n"
     ]
    }
   ],
   "source": [
    "np.random.seed(0)\n",
    "w = tf.Variable(1e-3 * np.random.randn(2, 1))\n",
    "b = tf.Variable(1e-3 * np.random.randn(1)[0])\n",
    "d = tf.sigmoid(tf.matmul(X_data, w) + b)\n",
    "\n",
    "zero = np.zeros(1, dtype=np.float64)[0] # float64 자료형의 0 값 생성 \n",
    "cost = tf.reduce_sum((y_data - d)**2)\n",
    "optimizer = tf.train.GradientDescentOptimizer(2e-2)\n",
    "train = optimizer.minimize(cost)\n",
    "\n",
    "sess = tf.Session()\n",
    "\n",
    "w_summary = tf.summary.histogram(\"w\", w)\n",
    "b_summary = tf.summary.scalar(\"b\", b)\n",
    "d_summary = tf.summary.histogram(\"d\", d)\n",
    "cost_summary = tf.summary.scalar(\"cost\", cost)\n",
    "merged = tf.summary.merge_all() #([w_summary, b_summary, d_summary, cost_summary])\n",
    "\n",
    "init = tf.global_variables_initializer()\n",
    "sess.run(init)\n",
    "\n",
    "writer = tf.summary.FileWriter(\"c:/home/dockeruser/logs\", sess.graph)\n",
    "\n",
    "for i in range(10001):\n",
    "    sess.run(train)\n",
    "    summary = sess.run(merged)\n",
    "    writer.add_summary(summary, i)\n",
    "    if i % 1000 == 0:\n",
    "        print(\"{:4d}: \".format(i), sess.run(cost))\n"
   ]
  },
  {
   "cell_type": "code",
   "execution_count": 206,
   "metadata": {},
   "outputs": [],
   "source": [
    "y_pred = sess.run(tf.round(d))"
   ]
  },
  {
   "cell_type": "code",
   "execution_count": 207,
   "metadata": {},
   "outputs": [],
   "source": [
    "sess.close()"
   ]
  },
  {
   "cell_type": "code",
   "execution_count": 208,
   "metadata": {},
   "outputs": [
    {
     "data": {
      "text/plain": [
       "array([[50,  0],\n",
       "       [ 0, 50]], dtype=int64)"
      ]
     },
     "execution_count": 208,
     "metadata": {},
     "output_type": "execute_result"
    }
   ],
   "source": [
    "from sklearn.metrics import confusion_matrix\n",
    "\n",
    "confusion_matrix(y_data, y_pred)"
   ]
  },
  {
   "cell_type": "markdown",
   "metadata": {},
   "source": [
    "# Keras로 뉴럴넷 사용하기(Higher level)\n",
    "- https://datascienceschool.net/view-notebook/51e147088d474fe1bf32e394394eaea7/"
   ]
  },
  {
   "cell_type": "code",
   "execution_count": 209,
   "metadata": {},
   "outputs": [
    {
     "name": "stderr",
     "output_type": "stream",
     "text": [
      "Using TensorFlow backend.\n"
     ]
    },
    {
     "name": "stdout",
     "output_type": "stream",
     "text": [
      "Wall time: 602 ms\n"
     ]
    }
   ],
   "source": [
    "%%time\n",
    "from keras.datasets import mnist\n",
    "(X_train0, y_train0), (X_test0, y_test0) = mnist.load_data()"
   ]
  },
  {
   "cell_type": "code",
   "execution_count": 210,
   "metadata": {},
   "outputs": [
    {
     "name": "stdout",
     "output_type": "stream",
     "text": [
      "(60000, 28, 28) uint8\n",
      "(60000,) uint8\n",
      "(10000, 28, 28) uint8\n",
      "(10000,) uint8\n"
     ]
    }
   ],
   "source": [
    "print(X_train0.shape, X_train0.dtype)\n",
    "print(y_train0.shape, y_train0.dtype)\n",
    "print(X_test0.shape, X_test0.dtype)\n",
    "print(y_test0.shape, y_test0.dtype)"
   ]
  },
  {
   "cell_type": "code",
   "execution_count": 211,
   "metadata": {},
   "outputs": [
    {
     "data": {
      "image/png": "[encoded data removed]",
      "text/plain": [
       "<matplotlib.figure.Figure at 0x1edcf921128>"
      ]
     },
     "metadata": {
      "image/png": {
       "height": 123,
       "width": 123
      }
     },
     "output_type": "display_data"
    }
   ],
   "source": [
    "plt.figure(figsize=(2, 2))\n",
    "plt.imshow(X_train0[0], cmap=mpl.cm.bone_r)\n",
    "plt.grid(False)\n",
    "plt.xticks([])\n",
    "plt.yticks([])\n",
    "plt.show()"
   ]
  },
  {
   "cell_type": "code",
   "execution_count": 212,
   "metadata": {},
   "outputs": [
    {
     "name": "stdout",
     "output_type": "stream",
     "text": [
      "(60000, 784) float32\n"
     ]
    }
   ],
   "source": [
    "#데이터를 float타입으로 바구고 스케일링한다.\n",
    "\n",
    "X_train = X_train0.reshape(60000, 784).astype('float32') / 255.0\n",
    "X_test = X_test0.reshape(10000, 784).astype('float32') / 255.0\n",
    "print(X_train.shape, X_train.dtype)"
   ]
  },
  {
   "cell_type": "code",
   "execution_count": 213,
   "metadata": {},
   "outputs": [
    {
     "data": {
      "text/plain": [
       "array([5, 0, 4, 1, 9], dtype=uint8)"
      ]
     },
     "execution_count": 213,
     "metadata": {},
     "output_type": "execute_result"
    }
   ],
   "source": [
    "# y데이터는 OHE한다\n",
    "y_train0[:5]\n"
   ]
  },
  {
   "cell_type": "code",
   "execution_count": 214,
   "metadata": {},
   "outputs": [
    {
     "data": {
      "text/plain": [
       "array([[ 0.,  0.,  0.,  0.,  0.,  1.,  0.,  0.,  0.,  0.],\n",
       "       [ 1.,  0.,  0.,  0.,  0.,  0.,  0.,  0.,  0.,  0.],\n",
       "       [ 0.,  0.,  0.,  0.,  1.,  0.,  0.,  0.,  0.,  0.],\n",
       "       [ 0.,  1.,  0.,  0.,  0.,  0.,  0.,  0.,  0.,  0.],\n",
       "       [ 0.,  0.,  0.,  0.,  0.,  0.,  0.,  0.,  0.,  1.]], dtype=float32)"
      ]
     },
     "execution_count": 214,
     "metadata": {},
     "output_type": "execute_result"
    }
   ],
   "source": [
    "from keras.utils import np_utils\n",
    "\n",
    "Y_train = np_utils.to_categorical(y_train0, 10)\n",
    "Y_test = np_utils.to_categorical(y_test0, 10)\n",
    "Y_train[:5]"
   ]
  },
  {
   "cell_type": "markdown",
   "metadata": {},
   "source": [
    "# 신경망 구현 순서¶\n",
    "Keras 를 사용하면 다음과 같은 순서로 신경망을 구성할 수 있다.\n",
    "\n",
    "1. Sequential 모형 클래스 객체 생성\n",
    "2. add 메서드로 layer 추가.\n",
    "    - Dense layer 가 가장 일반적인 신경망\n",
    "    - 입력단부터 순차적으로 추가한다.\n",
    "    - 레이어는 출력 뉴런 갯수를 첫번째 인수로 받는다.\n",
    "    - 최초의 레이어는 input_dim 인수로 입력 크기를 설정해야 한다.\n",
    "    - activation 인수로 activation 함수 설정\n",
    "3. compile 메서드로 모형 완성.\n",
    "    - loss인수로 Loss 함수 설정\n",
    "    - optimizer 인수로 최적화 알고리즘 설정\n",
    "    - metrics 인수로 트레이닝 단계에서 기록할 성능 기준 설정\n",
    "4. fit 메서드로 트레이닝\n",
    "    - nb_epoch 로 epoch 횟수 설정\n",
    "    - batch_size 로 mini batch size 설정\n",
    "    - metrics 인수로 설정한 성능 기준 기록을 출력으로 반환\n",
    "    - Jupyter Notebook을 사용할 때는 verbose=2로 설정하여 progress bar 가 나오지 않도록 설정한다."
   ]
  },
  {
   "cell_type": "code",
   "execution_count": 215,
   "metadata": {},
   "outputs": [],
   "source": [
    "from keras.models import Sequential\n",
    "from keras.layers.core import Dense\n",
    "from keras.optimizers import SGD\n",
    "\n",
    "np.random.seed(0)\n",
    "\n",
    "model = Sequential()\n",
    "model.add(Dense(15, input_dim=784, activation=\"sigmoid\")) # 레이어 1\n",
    "model.add(Dense(10, activation=\"sigmoid\")) # 레이어 2 --> dim 안서줘도 된다. 이전에 이미 했기때문에\n",
    "model.compile(optimizer=SGD(lr=0.2), loss='mean_squared_error', metrics=[\"accuracy\"])"
   ]
  },
  {
   "cell_type": "code",
   "execution_count": 216,
   "metadata": {},
   "outputs": [
    {
     "data": {
      "image/svg+xml": [
       "<svg height=\"211pt\" viewBox=\"0.00 0.00 251.00 211.00\" width=\"251pt\" xmlns=\"http://www.w3.org/2000/svg\" xmlns:xlink=\"http://www.w3.org/1999/xlink\">\n",
       "<g class=\"graph\" id=\"graph0\" transform=\"scale(1 1) rotate(0) translate(4 207)\">\n",
       "<title>G</title>\n",
       "<polygon fill=\"white\" points=\"-4,4 -4,-207 247,-207 247,4 -4,4\" stroke=\"none\"/>\n",
       "<!-- 2120962697088 -->\n",
       "<g class=\"node\" id=\"node1\"><title>2120962697088</title>\n",
       "<polygon fill=\"none\" points=\"0,-83.5 0,-129.5 243,-129.5 243,-83.5 0,-83.5\" stroke=\"black\"/>\n",
       "<text font-family=\"Times New Roman,serif\" font-size=\"14.00\" text-anchor=\"middle\" x=\"52\" y=\"-102.8\">dense_1: Dense</text>\n",
       "<polyline fill=\"none\" points=\"104,-83.5 104,-129.5 \" stroke=\"black\"/>\n",
       "<text font-family=\"Times New Roman,serif\" font-size=\"14.00\" text-anchor=\"middle\" x=\"132\" y=\"-114.3\">input:</text>\n",
       "<polyline fill=\"none\" points=\"104,-106.5 160,-106.5 \" stroke=\"black\"/>\n",
       "<text font-family=\"Times New Roman,serif\" font-size=\"14.00\" text-anchor=\"middle\" x=\"132\" y=\"-91.3\">output:</text>\n",
       "<polyline fill=\"none\" points=\"160,-83.5 160,-129.5 \" stroke=\"black\"/>\n",
       "<text font-family=\"Times New Roman,serif\" font-size=\"14.00\" text-anchor=\"middle\" x=\"201.5\" y=\"-114.3\">(None, 784)</text>\n",
       "<polyline fill=\"none\" points=\"160,-106.5 243,-106.5 \" stroke=\"black\"/>\n",
       "<text font-family=\"Times New Roman,serif\" font-size=\"14.00\" text-anchor=\"middle\" x=\"201.5\" y=\"-91.3\">(None, 15)</text>\n",
       "</g>\n",
       "<!-- 2120962674304 -->\n",
       "<g class=\"node\" id=\"node2\"><title>2120962674304</title>\n",
       "<polygon fill=\"none\" points=\"3,-0.5 3,-46.5 240,-46.5 240,-0.5 3,-0.5\" stroke=\"black\"/>\n",
       "<text font-family=\"Times New Roman,serif\" font-size=\"14.00\" text-anchor=\"middle\" x=\"55\" y=\"-19.8\">dense_2: Dense</text>\n",
       "<polyline fill=\"none\" points=\"107,-0.5 107,-46.5 \" stroke=\"black\"/>\n",
       "<text font-family=\"Times New Roman,serif\" font-size=\"14.00\" text-anchor=\"middle\" x=\"135\" y=\"-31.3\">input:</text>\n",
       "<polyline fill=\"none\" points=\"107,-23.5 163,-23.5 \" stroke=\"black\"/>\n",
       "<text font-family=\"Times New Roman,serif\" font-size=\"14.00\" text-anchor=\"middle\" x=\"135\" y=\"-8.3\">output:</text>\n",
       "<polyline fill=\"none\" points=\"163,-0.5 163,-46.5 \" stroke=\"black\"/>\n",
       "<text font-family=\"Times New Roman,serif\" font-size=\"14.00\" text-anchor=\"middle\" x=\"201.5\" y=\"-31.3\">(None, 15)</text>\n",
       "<polyline fill=\"none\" points=\"163,-23.5 240,-23.5 \" stroke=\"black\"/>\n",
       "<text font-family=\"Times New Roman,serif\" font-size=\"14.00\" text-anchor=\"middle\" x=\"201.5\" y=\"-8.3\">(None, 10)</text>\n",
       "</g>\n",
       "<!-- 2120962697088&#45;&gt;2120962674304 -->\n",
       "<g class=\"edge\" id=\"edge2\"><title>2120962697088-&gt;2120962674304</title>\n",
       "<path d=\"M121.5,-83.3664C121.5,-75.1516 121.5,-65.6579 121.5,-56.7252\" fill=\"none\" stroke=\"black\"/>\n",
       "<polygon fill=\"black\" points=\"125,-56.6068 121.5,-46.6068 118,-56.6069 125,-56.6068\" stroke=\"black\"/>\n",
       "</g>\n",
       "<!-- 2120962673800 -->\n",
       "<g class=\"node\" id=\"node3\"><title>2120962673800</title>\n",
       "<polygon fill=\"none\" points=\"69.5,-166.5 69.5,-202.5 173.5,-202.5 173.5,-166.5 69.5,-166.5\" stroke=\"black\"/>\n",
       "<text font-family=\"Times New Roman,serif\" font-size=\"14.00\" text-anchor=\"middle\" x=\"121.5\" y=\"-180.8\">2120962673800</text>\n",
       "</g>\n",
       "<!-- 2120962673800&#45;&gt;2120962697088 -->\n",
       "<g class=\"edge\" id=\"edge1\"><title>2120962673800-&gt;2120962697088</title>\n",
       "<path d=\"M121.5,-166.254C121.5,-158.363 121.5,-148.749 121.5,-139.602\" fill=\"none\" stroke=\"black\"/>\n",
       "<polygon fill=\"black\" points=\"125,-139.591 121.5,-129.591 118,-139.591 125,-139.591\" stroke=\"black\"/>\n",
       "</g>\n",
       "</g>\n",
       "</svg>"
      ],
      "text/plain": [
       "<IPython.core.display.SVG object>"
      ]
     },
     "execution_count": 216,
     "metadata": {},
     "output_type": "execute_result"
    }
   ],
   "source": [
    "from IPython.display import SVG\n",
    "from keras.utils.vis_utils import model_to_dot\n",
    "\n",
    "SVG(model_to_dot(model, show_shapes=True).create(prog='dot', format='svg'))"
   ]
  },
  {
   "cell_type": "code",
   "execution_count": 217,
   "metadata": {},
   "outputs": [
    {
     "name": "stdout",
     "output_type": "stream",
     "text": [
      "_________________________________________________________________\n",
      "Layer (type)                 Output Shape              Param #   \n",
      "=================================================================\n",
      "dense_1 (Dense)              (None, 15)                11775     \n",
      "_________________________________________________________________\n",
      "dense_2 (Dense)              (None, 10)                160       \n",
      "=================================================================\n",
      "Total params: 11,935\n",
      "Trainable params: 11,935\n",
      "Non-trainable params: 0\n",
      "_________________________________________________________________\n"
     ]
    }
   ],
   "source": [
    "model.summary()"
   ]
  },
  {
   "cell_type": "code",
   "execution_count": 218,
   "metadata": {},
   "outputs": [],
   "source": [
    "l1 = model.layers[0]\n",
    "l2 = model.layers[1]"
   ]
  },
  {
   "cell_type": "code",
   "execution_count": 219,
   "metadata": {},
   "outputs": [
    {
     "data": {
      "text/plain": [
       "('dense_1', keras.layers.core.Dense, (None, 15), 'sigmoid', 11775)"
      ]
     },
     "execution_count": 219,
     "metadata": {},
     "output_type": "execute_result"
    }
   ],
   "source": [
    "l1.name, type(l1), l1.output_shape, l1.activation.__name__, l1.count_params()"
   ]
  },
  {
   "cell_type": "code",
   "execution_count": 220,
   "metadata": {},
   "outputs": [
    {
     "data": {
      "text/plain": [
       "('dense_2', keras.layers.core.Dense, (None, 10), 'sigmoid', 160)"
      ]
     },
     "execution_count": 220,
     "metadata": {},
     "output_type": "execute_result"
    }
   ],
   "source": [
    "l2.name, type(l1), l2.output_shape, l2.activation.__name__, l2.count_params()"
   ]
  },
  {
   "cell_type": "code",
   "execution_count": 222,
   "metadata": {},
   "outputs": [
    {
     "name": "stdout",
     "output_type": "stream",
     "text": [
      "Train on 60000 samples, validate on 10000 samples\n",
      "Epoch 1/30\n",
      " - 2s - loss: 0.1019 - acc: 0.2441 - val_loss: 0.0864 - val_acc: 0.3213\n",
      "Epoch 2/30\n",
      " - 1s - loss: 0.0845 - acc: 0.3921 - val_loss: 0.0821 - val_acc: 0.4409\n",
      "Epoch 3/30\n",
      " - 1s - loss: 0.0796 - acc: 0.4997 - val_loss: 0.0765 - val_acc: 0.5340\n",
      "Epoch 4/30\n",
      " - 1s - loss: 0.0740 - acc: 0.5620 - val_loss: 0.0707 - val_acc: 0.5852\n",
      "Epoch 5/30\n",
      " - 1s - loss: 0.0682 - acc: 0.6149 - val_loss: 0.0649 - val_acc: 0.6522\n",
      "Epoch 6/30\n",
      " - 1s - loss: 0.0625 - acc: 0.6759 - val_loss: 0.0594 - val_acc: 0.6998\n",
      "Epoch 7/30\n",
      " - 1s - loss: 0.0576 - acc: 0.7101 - val_loss: 0.0551 - val_acc: 0.7317\n",
      "Epoch 8/30\n",
      " - 1s - loss: 0.0537 - acc: 0.7325 - val_loss: 0.0516 - val_acc: 0.7485\n",
      "Epoch 9/30\n",
      " - 1s - loss: 0.0505 - acc: 0.7474 - val_loss: 0.0486 - val_acc: 0.7638\n",
      "Epoch 10/30\n",
      " - 1s - loss: 0.0478 - acc: 0.7608 - val_loss: 0.0461 - val_acc: 0.7759\n",
      "Epoch 11/30\n",
      " - 1s - loss: 0.0455 - acc: 0.7739 - val_loss: 0.0439 - val_acc: 0.7893\n",
      "Epoch 12/30\n",
      " - 1s - loss: 0.0435 - acc: 0.7858 - val_loss: 0.0420 - val_acc: 0.8023\n",
      "Epoch 13/30\n",
      " - 1s - loss: 0.0417 - acc: 0.7977 - val_loss: 0.0402 - val_acc: 0.8132\n",
      "Epoch 14/30\n",
      " - 1s - loss: 0.0400 - acc: 0.8083 - val_loss: 0.0386 - val_acc: 0.8256\n",
      "Epoch 15/30\n",
      " - 1s - loss: 0.0385 - acc: 0.8192 - val_loss: 0.0371 - val_acc: 0.8359\n",
      "Epoch 16/30\n",
      " - 1s - loss: 0.0371 - acc: 0.8288 - val_loss: 0.0358 - val_acc: 0.8432\n",
      "Epoch 17/30\n",
      " - 1s - loss: 0.0359 - acc: 0.8372 - val_loss: 0.0345 - val_acc: 0.8503\n",
      "Epoch 18/30\n",
      " - 1s - loss: 0.0347 - acc: 0.8440 - val_loss: 0.0334 - val_acc: 0.8557\n",
      "Epoch 19/30\n",
      " - 1s - loss: 0.0336 - acc: 0.8506 - val_loss: 0.0323 - val_acc: 0.8618\n",
      "Epoch 20/30\n",
      " - 1s - loss: 0.0326 - acc: 0.8564 - val_loss: 0.0313 - val_acc: 0.8650\n",
      "Epoch 21/30\n",
      " - 1s - loss: 0.0316 - acc: 0.8609 - val_loss: 0.0304 - val_acc: 0.8706\n",
      "Epoch 22/30\n",
      " - 1s - loss: 0.0308 - acc: 0.8646 - val_loss: 0.0295 - val_acc: 0.8742\n",
      "Epoch 23/30\n",
      " - 1s - loss: 0.0300 - acc: 0.8679 - val_loss: 0.0287 - val_acc: 0.8775\n",
      "Epoch 24/30\n",
      " - 1s - loss: 0.0292 - acc: 0.8709 - val_loss: 0.0280 - val_acc: 0.8790\n",
      "Epoch 25/30\n",
      " - 1s - loss: 0.0285 - acc: 0.8738 - val_loss: 0.0273 - val_acc: 0.8814\n",
      "Epoch 26/30\n",
      " - 1s - loss: 0.0278 - acc: 0.8765 - val_loss: 0.0267 - val_acc: 0.8845\n",
      "Epoch 27/30\n",
      " - 1s - loss: 0.0272 - acc: 0.8787 - val_loss: 0.0261 - val_acc: 0.8863\n",
      "Epoch 28/30\n",
      " - 1s - loss: 0.0266 - acc: 0.8814 - val_loss: 0.0255 - val_acc: 0.8878\n",
      "Epoch 29/30\n",
      " - 1s - loss: 0.0261 - acc: 0.8829 - val_loss: 0.0250 - val_acc: 0.8893\n",
      "Epoch 30/30\n",
      " - 1s - loss: 0.0256 - acc: 0.8844 - val_loss: 0.0245 - val_acc: 0.8904\n",
      "Wall time: 37.2 s\n"
     ]
    }
   ],
   "source": [
    "%%time\n",
    "# fit 메서드로 트레이닝 실시 (hist로 반환하면 그래프로 뿌리기 용이하다.)\n",
    "hist = model.fit(X_train, Y_train, \n",
    "                 epochs=30, batch_size=100, \n",
    "                 validation_data=(X_test, Y_test), \n",
    "                 verbose=2)"
   ]
  },
  {
   "cell_type": "code",
   "execution_count": 223,
   "metadata": {},
   "outputs": [
    {
     "data": {
      "image/png": "[encoded data removed]",
      "text/plain": [
       "<matplotlib.figure.Figure at 0x1edd2bf8278>"
      ]
     },
     "metadata": {
      "image/png": {
       "height": 249,
       "width": 375
      }
     },
     "output_type": "display_data"
    }
   ],
   "source": [
    "plt.plot(hist.history['loss'])\n",
    "plt.show()"
   ]
  },
  {
   "cell_type": "code",
   "execution_count": 224,
   "metadata": {},
   "outputs": [
    {
     "data": {
      "image/png": "[encoded data removed]",
      "text/plain": [
       "<matplotlib.figure.Figure at 0x1edcb807470>"
      ]
     },
     "metadata": {
      "image/png": {
       "height": 249,
       "width": 370
      }
     },
     "output_type": "display_data"
    }
   ],
   "source": [
    "#자료가 좋으면 테스트가 더 높게 나올수도 있다.\n",
    "plt.plot(hist.history['acc'], 'b-', label=\"training\")\n",
    "plt.plot(hist.history['val_acc'], 'r:', label=\"test\")\n",
    "plt.legend()\n",
    "plt.show()"
   ]
  },
  {
   "cell_type": "code",
   "execution_count": 226,
   "metadata": {},
   "outputs": [
    {
     "data": {
      "text/plain": [
       "((784, 15), (15,))"
      ]
     },
     "execution_count": 226,
     "metadata": {},
     "output_type": "execute_result"
    }
   ],
   "source": [
    "# 가중치정보 - get_weights로 w값과 b값을 출력\n",
    "\n",
    "w1 = l1.get_weights()\n",
    "w1[0].shape, w1[1].shape"
   ]
  },
  {
   "cell_type": "code",
   "execution_count": 227,
   "metadata": {},
   "outputs": [
    {
     "data": {
      "text/plain": [
       "((15, 10), (10,))"
      ]
     },
     "execution_count": 227,
     "metadata": {},
     "output_type": "execute_result"
    }
   ],
   "source": [
    "w2 = l2.get_weights()\n",
    "w2[0].shape, w2[1].shape"
   ]
  },
  {
   "cell_type": "code",
   "execution_count": 228,
   "metadata": {},
   "outputs": [
    {
     "data": {
      "image/png": "[encoded data removed]",
      "text/plain": [
       "<matplotlib.figure.Figure at 0x1edd305e518>"
      ]
     },
     "metadata": {
      "image/png": {
       "height": 123,
       "width": 123
      }
     },
     "output_type": "display_data"
    }
   ],
   "source": [
    "# 모형의 사용\n",
    "plt.figure(figsize=(2, 2))\n",
    "plt.imshow(X_test0[0], cmap=mpl.cm.bone_r)\n",
    "plt.grid(False)\n",
    "plt.xticks([])\n",
    "plt.yticks([])\n",
    "plt.show()"
   ]
  },
  {
   "cell_type": "code",
   "execution_count": 229,
   "metadata": {},
   "outputs": [
    {
     "data": {
      "text/plain": [
       "array([[ 0.01766611,  0.01916033,  0.01319778,  0.02870286,  0.01252115,\n",
       "         0.0572134 ,  0.01232443,  0.94186294,  0.0076276 ,  0.05535609]], dtype=float32)"
      ]
     },
     "execution_count": 229,
     "metadata": {},
     "output_type": "execute_result"
    }
   ],
   "source": [
    "model.predict(X_test[:1, :])\n",
    "# 7번 array값이 가장 큰것을 알 수 있다."
   ]
  },
  {
   "cell_type": "code",
   "execution_count": 230,
   "metadata": {},
   "outputs": [
    {
     "data": {
      "text/plain": [
       "array([7], dtype=int64)"
      ]
     },
     "execution_count": 230,
     "metadata": {},
     "output_type": "execute_result"
    }
   ],
   "source": [
    "model.predict_classes(X_test[:1, :], verbose=0)"
   ]
  },
  {
   "cell_type": "code",
   "execution_count": 232,
   "metadata": {},
   "outputs": [],
   "source": [
    "# 모형의 저장\n",
    "model.save('my_model.hdf5')\n",
    "del model #저장하고 지움"
   ]
  },
  {
   "cell_type": "code",
   "execution_count": 233,
   "metadata": {},
   "outputs": [
    {
     "data": {
      "text/plain": [
       "array([7], dtype=int64)"
      ]
     },
     "execution_count": 233,
     "metadata": {},
     "output_type": "execute_result"
    }
   ],
   "source": [
    "from keras.models import load_model\n",
    "\n",
    "model2 = load_model('my_model.hdf5') #저장된 모형을 다시 불러옴\n",
    "model2.predict_classes(X_test[:1, :], verbose=0)"
   ]
  },
  {
   "cell_type": "code",
   "execution_count": null,
   "metadata": {},
   "outputs": [],
   "source": []
  }
 ],
 "metadata": {
  "kernelspec": {
   "display_name": "Python 3",
   "language": "python",
   "name": "python3"
  },
  "language_info": {
   "codemirror_mode": {
    "name": "ipython",
    "version": 3
   },
   "file_extension": ".py",
   "mimetype": "text/x-python",
   "name": "python",
   "nbconvert_exporter": "python",
   "pygments_lexer": "ipython3",
   "version": "3.6.3"
  }
 },
 "nbformat": 4,
 "nbformat_minor": 2
}
