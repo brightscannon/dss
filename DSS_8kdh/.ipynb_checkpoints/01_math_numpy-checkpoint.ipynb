{
 "cells": [
  {
   "cell_type": "code",
   "execution_count": 2,
   "metadata": {},
   "outputs": [
    {
     "data": {
      "text/plain": [
       "array([[ 5.1],\n",
       "       [ 3.5],\n",
       "       [ 1.4],\n",
       "       [ 0.2]])"
      ]
     },
     "execution_count": 2,
     "metadata": {},
     "output_type": "execute_result"
    }
   ],
   "source": [
    "x1 = np.array([[5.1], [3.5], [1.4], [0.2]])\n",
    "x1\n"
   ]
  },
  {
   "cell_type": "code",
   "execution_count": 10,
   "metadata": {},
   "outputs": [
    {
     "data": {
      "text/plain": [
       "array([[ 4.9],\n",
       "       [ 3. ],\n",
       "       [ 1.4],\n",
       "       [ 0.2]])"
      ]
     },
     "execution_count": 10,
     "metadata": {},
     "output_type": "execute_result"
    }
   ],
   "source": [
    "#연습문제1\n",
    "\n",
    "x2 = np.array([[4.9], [3], [1.4], [0.2]])\n",
    "x2\n"
   ]
  },
  {
   "cell_type": "code",
   "execution_count": 17,
   "metadata": {},
   "outputs": [
    {
     "data": {
      "image/png": "[encoded data removed]",
      "text/plain": [
       "<matplotlib.figure.Figure at 0x18d3e46c2b0>"
      ]
     },
     "metadata": {},
     "output_type": "display_data"
    }
   ],
   "source": [
    "%matplotlib inline\n",
    "\n",
    "from sklearn.datasets import load_digits\n",
    "\n",
    "digits = load_digits()\n",
    "d0 = digits.images[0]\n",
    "d1 = digits.images[10]\n",
    "d2 = digits.images[1]\n",
    "d3 = digits.images[11]\n",
    "\n",
    "f, ax = plt.subplots(1, 4)\n",
    "ax[0].imshow(d0, interpolation='nearest', cmap=plt.cm.bone_r)\n",
    "ax[0].grid(False)\n",
    "ax[1].imshow(d1, interpolation='nearest', cmap=plt.cm.bone_r)\n",
    "ax[1].grid(False)\n",
    "ax[2].imshow(d2, interpolation='nearest', cmap=plt.cm.bone_r)\n",
    "ax[2].grid(False)\n",
    "ax[3].imshow(d3, interpolation='nearest', cmap=plt.cm.bone_r)\n",
    "ax[3].grid(False)\n",
    "plt.show()"
   ]
  },
  {
   "cell_type": "code",
   "execution_count": 18,
   "metadata": {},
   "outputs": [
    {
     "data": {
      "image/png": "[encoded data removed]",
      "text/plain": [
       "<matplotlib.figure.Figure at 0x18d3f530908>"
      ]
     },
     "metadata": {},
     "output_type": "display_data"
    }
   ],
   "source": [
    "v0 = d0.reshape(64, 1)\n",
    "v1 = d1.reshape(64, 1)\n",
    "v2 = d2.reshape(64, 1)\n",
    "v3 = d3.reshape(64, 1)\n",
    "\n",
    "f, ax = plt.subplots(4, 1, figsize=(12, 2))\n",
    "ax[0].imshow(v0.T, interpolation='nearest', cmap=plt.cm.bone_r)\n",
    "ax[0].grid(False); ax[0].set_xticks([]); ax[0].set_yticks([])\n",
    "ax[1].imshow(v1.T, interpolation='nearest', cmap=plt.cm.bone_r)\n",
    "ax[1].grid(False); ax[1].set_xticks([]); ax[1].set_yticks([])\n",
    "ax[2].imshow(v2.T, interpolation='nearest', cmap=plt.cm.bone_r)\n",
    "ax[2].grid(False); ax[2].set_xticks([]); ax[2].set_yticks([])\n",
    "ax[3].imshow(v3.T, interpolation='nearest', cmap=plt.cm.bone_r)\n",
    "ax[3].grid(False); ax[3].set_xticks([]); ax[3].set_yticks([])\n",
    "plt.tight_layout()\n",
    "plt.show()"
   ]
  },
  {
   "cell_type": "code",
   "execution_count": 10,
   "metadata": {},
   "outputs": [
    {
     "data": {
      "text/plain": [
       "array([[ 5.1,  3.5,  1.4,  0.2],\n",
       "       [ 4.9,  3. ,  1.4,  0.2]])"
      ]
     },
     "execution_count": 10,
     "metadata": {},
     "output_type": "execute_result"
    }
   ],
   "source": [
    "#연습문제2\n",
    "\n",
    "X = np.array([[5.1, 3.5, 1.4, 0.2],[4.9, 3.0, 1.4, 0.2]])\n",
    "X"
   ]
  },
  {
   "cell_type": "code",
   "execution_count": 16,
   "metadata": {},
   "outputs": [
    {
     "name": "stdout",
     "output_type": "stream",
     "text": [
      "[[ 5.1  4.9]\n",
      " [ 3.5  3. ]\n",
      " [ 1.4  1.4]\n",
      " [ 0.2  0.2]]\n",
      "--------------------\n",
      "[[ 5.1  3.5  1.4  0.2]\n",
      " [ 4.9  3.   1.4  0.2]]\n"
     ]
    }
   ],
   "source": [
    "#연습문제3\n",
    "\n",
    "X = np.array([[5.1, 3.5, 1.4, 0.2],[4.9, 3.0, 1.4, 0.2]])\n",
    "print(X.T)\n",
    "print(\"-\"*20)\n",
    "print((X.T).T)"
   ]
  },
  {
   "cell_type": "code",
   "execution_count": 28,
   "metadata": {},
   "outputs": [
    {
     "name": "stdout",
     "output_type": "stream",
     "text": [
      "[[0]\n",
      " [0]\n",
      " [0]\n",
      " [0]]\n",
      "[[1]\n",
      " [1]\n",
      " [1]\n",
      " [1]]\n",
      "[[ 1  2  3  4]\n",
      " [ 5  6  7  8]\n",
      " [ 9 10 11 12]\n",
      " [13 14 15 16]]\n",
      "[[1 0 0 0 0]\n",
      " [0 2 0 0 0]\n",
      " [0 0 3 0 0]\n",
      " [0 0 0 4 0]\n",
      " [0 0 0 0 5]]\n",
      "[[ 1.  0.  0.  0.  0.]\n",
      " [ 0.  1.  0.  0.  0.]\n",
      " [ 0.  0.  1.  0.  0.]\n",
      " [ 0.  0.  0.  1.  0.]\n",
      " [ 0.  0.  0.  0.  1.]]\n",
      "[[1 1 3]\n",
      " [1 2 1]\n",
      " [3 1 1]]\n"
     ]
    }
   ],
   "source": [
    "#연습문제4\n",
    "z = np.array([[0],[0],[0],[0]])\n",
    "o = np.array([[1],[1],[1],[1]])\n",
    "X = np.array([[1,2,3,4],[5,6,7,8],[9,10,11,12],[13,14,15,16]])\n",
    "D = np.diag([1,2,3,4,5])\n",
    "I = np.identity(5)\n",
    "\n",
    "S = np.array([[1,1,3],[1,2,1],[3,1,1]])\n",
    "print(z)\n",
    "print(o)\n",
    "print(X)\n",
    "print(D)\n",
    "print(I)\n",
    "print(S)\n"
   ]
  },
  {
   "cell_type": "code",
   "execution_count": 30,
   "metadata": {},
   "outputs": [
    {
     "name": "stdout",
     "output_type": "stream",
     "text": [
      "[10 12 14 16 18]\n",
      "[10 10 10 10 10]\n"
     ]
    }
   ],
   "source": [
    "x = np.array([10,11,12,13,14])\n",
    "y = np.array([0,1,2,3,4])\n",
    "\n",
    "print(x+y)\n",
    "print(x-y)\n",
    "\n"
   ]
  },
  {
   "cell_type": "code",
   "execution_count": 31,
   "metadata": {},
   "outputs": [
    {
     "data": {
      "text/plain": [
       "array([[14, 24],\n",
       "       [34, 44]])"
      ]
     },
     "execution_count": 31,
     "metadata": {},
     "output_type": "execute_result"
    }
   ],
   "source": [
    "np.array([[5,6],[7,8]]) + np.array([[10,20],[30,40]])-np.array([[1,2],[3,4]])"
   ]
  },
  {
   "cell_type": "code",
   "execution_count": 94,
   "metadata": {},
   "outputs": [
    {
     "data": {
      "text/plain": [
       "870"
      ]
     },
     "execution_count": 94,
     "metadata": {},
     "output_type": "execute_result"
    }
   ],
   "source": [
    "#연습문제1-벡터와 행렬연산\n",
    "\n",
    "p = np.array([[100],[80],[50]])\n",
    "n = np.array([[3],[4],[5]])\n",
    "\n",
    "np.dot(p.T,n)[0,0]"
   ]
  },
  {
   "cell_type": "code",
   "execution_count": 97,
   "metadata": {},
   "outputs": [
    {
     "data": {
      "text/plain": [
       "array([[ 74,  86],\n",
       "       [ 86, 100]])"
      ]
     },
     "execution_count": 97,
     "metadata": {},
     "output_type": "execute_result"
    }
   ],
   "source": [
    "X = np.array([[5,6],[7,8]])\n",
    "\n",
    "np.dot(X.T, X)"
   ]
  },
  {
   "cell_type": "code",
   "execution_count": 130,
   "metadata": {},
   "outputs": [
    {
     "name": "stdout",
     "output_type": "stream",
     "text": [
      "1번문제 유사도  2807.0\n",
      "------------------------------\n",
      "2번문제 유사도\n",
      "[[ 3070.  1866.  2264. ...,  2812.  3006.  2898.]\n",
      " [ 1866.  4209.  3432. ...,  3906.  3083.  3307.]\n",
      " [ 2264.  3432.  4388. ...,  4005.  3063.  3697.]\n",
      " ..., \n",
      " [ 2812.  3906.  4005. ...,  5092.  3729.  4598.]\n",
      " [ 3006.  3083.  3063. ...,  3729.  4316.  3850.]\n",
      " [ 2898.  3307.  3697. ...,  4598.  3850.  4938.]]\n",
      "--2번문제에서 맨앞의 10개 이미지 데이터만 비교하는경우의 유사도\n",
      "[[ 3070.  1866.  2264.  1880.  1805.  2798.  2301.  1657.  2783.  2807.]\n",
      " [ 1866.  4209.  3432.  2547.  2494.  3221.  3238.  2496.  3156.  2814.]\n",
      " [ 2264.  3432.  4388.  2215.  2374.  2884.  3097.  2667.  3520.  2795.]\n",
      " [ 1880.  2547.  2215.  2953.  1702.  3137.  2305.  1552.  2809.  2561.]\n",
      " [ 1805.  2494.  2374.  1702.  3074.  2298.  2799.  1458.  2392.  2126.]\n",
      " [ 2798.  3221.  2884.  3137.  2298.  4454.  2876.  1967.  3624.  3848.]\n",
      " [ 2301.  3238.  3097.  2305.  2799.  2876.  3890.  1835.  3205.  2681.]\n",
      " [ 1657.  2496.  2667.  1552.  1458.  1967.  1835.  3380.  2504.  2223.]\n",
      " [ 2783.  3156.  3520.  2809.  2392.  3624.  3205.  2504.  4467.  3418.]\n",
      " [ 2807.  2814.  2795.  2561.  2126.  3848.  2681.  2223.  3418.  4209.]]\n"
     ]
    }
   ],
   "source": [
    "#연습문제2-벡터와 행렬연산_과제★★★★★★★★★★★★★★★★★★★★★★★★★\n",
    "\n",
    "from sklearn.datasets import load_digits\n",
    "X = load_digits().data\n",
    "\n",
    "#★1번----------------------첫번째 데이터와 10번째 데이터에 대한 유사도를 구하라.\n",
    "print(\"1번문제 유사도 \",np.dot(X[0].T,X[9]))\n",
    "\n",
    "print(\"-\"*30)\n",
    "\n",
    "\n",
    "#★2번----------------------내적을 이용하여 모든 이미지의 조합에 대해 유사도를 구하라.\n",
    "#  어떻게 구현하는 것이 효율적일까? (힌트: 이 문제는 뒤에서 배울 행렬과 행렬의 곱셈을 이용한다.)\n",
    "\n",
    "print(\"2번문제 유사도\")\n",
    "print(np.dot(X, X.T))\n",
    "\n",
    "#설명1 : n행m열 데이터의 해석 ==> n번째 이미지와 m번째 이미지의 유사도\n",
    "#설명2 : 이미지데이터가 행단위로 들어가있으므로 행렬곱셉으로 유사도를 구할때\n",
    "#       뒤쪽의 행렬의 데이터가 열벡터 단위로 계산되도록 전치시킨다.\n",
    "\n",
    "\n",
    "print(\"--2번문제에서 맨앞의 10개 이미지 데이터만 비교하는경우의 유사도\")\n",
    "print(np.dot(X[:10], X[:10].T))\n",
    "# 위 코드는 맨앞10개 데이터만으로 상호비교한 결과값을 출력. 1번문제에서 구했던 1번째데이터와\n",
    "# 10번째데이터의 유사도인 2807.0값이 1행10열과 10행1열에 위치해 있음을 알 수 있다.\n"
   ]
  },
  {
   "cell_type": "markdown",
   "metadata": {},
   "source": [
    "# 연습문제 10번 증명\n",
    "\n",
    "### $$x^TAx = \\dfrac{1}{2}x^T(A + A^T)x$$\n",
    "\n",
    "\\begin{eqnarray}\n",
    "\\dfrac{1}{2}x^T(A + A^T)x&=& \n",
    "\\dfrac{1}{2}x^T\n",
    "\\begin{bmatrix}\n",
    "2a_{1,1} & a_{1,2}+a_{2,1} & \\cdots & a_{1,N} \\\\\n",
    "a_{2,1}+a_{1,2} & 2a_{2,2} & \\cdots & a_{2,N} \\\\\n",
    "\\vdots & \\vdots & \\ddots & \\vdots \\\\\n",
    "a_{N,1} & a_{N,2} & \\cdots & 2a_{N,N} \\\\\n",
    "\\end{bmatrix}\n",
    "x\n",
    "\\end{eqnarray}\n",
    "\n",
    "\\begin{eqnarray}\n",
    "&=& \\dfrac{1}{2} \\sum_{i=1}^{N} \\sum_{j=1}^{N} (a_{i,j}+a_{j,i}) x_i x_j \n",
    "\\end{eqnarray}\n",
    "\n",
    "\n",
    "\\begin{eqnarray}\n",
    "&=& \\dfrac{1}{2} \\sum_{i=1}^{N} \\sum_{j=1}^{N} a_{i,j} x_i x_j + \\dfrac{1}{2} \\sum_{i=1}^{N} \\sum_{j=1}^{N} a_{j,i} x_i x_j \n",
    "\\end{eqnarray}\n",
    "\n",
    "\n",
    "\\begin{eqnarray}\n",
    "&=& \\dfrac{1}{2}(a_{1,1}x_{1}^2+a_{1,2}x_{1}x_{2}+ ... + a_{2,1}x_{2}x_{1}+...+a_{N,N}x_{N}^2) + \\dfrac{1}{2}(a_{1,1}x_{1}^2+a_{2,1}x_{2}x_{1}+ ... + a_{1,2}x_{1}x_{2}+...+a_{N,N}x_{N}^2)\n",
    "\\end{eqnarray}\n",
    "\n",
    "\n",
    "\\begin{eqnarray}\n",
    "&=& 2\\dfrac{1}{2}(a_{1,1}x_{1}^2+a_{1,2}x_{1}x_{2}+ ... + a_{2,1}x_{2}x_{1}+...+a_{N,N}x_{N}^2)\n",
    "\\end{eqnarray}\n",
    "\n",
    "\n",
    "\\begin{eqnarray}\n",
    "&=& \\sum_{i=1}^{N} \\sum_{j=1}^{N} a_{i,j} x_i x_j \n",
    "\\end{eqnarray}\n",
    "\n",
    "아래와 같은 식이 성립하므로\n",
    "\n",
    "\\begin{eqnarray}\n",
    "(x^TAx &=& \\sum_{i=1}^{N} \\sum_{j=1}^{N} a_{i,j} x_i x_j)\n",
    "\\end{eqnarray}\n",
    "\n",
    "$$ then $$\n",
    "\n",
    "### $$x^TAx = \\dfrac{1}{2}x^T(A + A^T)x$$\n",
    "\n",
    "![텍스트](김민우B_증명.jpg)"
   ]
  },
  {
   "cell_type": "code",
   "execution_count": 52,
   "metadata": {},
   "outputs": [
    {
     "name": "stdout",
     "output_type": "stream",
     "text": [
      "[[22 28]\n",
      " [49 64]]\n",
      "[[ 9 12 15]\n",
      " [19 26 33]\n",
      " [29 40 51]]\n"
     ]
    }
   ],
   "source": [
    "#연습문제3-1,2\n",
    "\n",
    "A = np.array([[1,2,3],[4,5,6]])\n",
    "B = np.array([[1,2],[3,4],[5,6]])\n",
    "C = np.dot(A,B)\n",
    "print(C)\n",
    "\n",
    "D = np.dot(B,A)\n",
    "print(D)\n",
    "\n"
   ]
  },
  {
   "cell_type": "code",
   "execution_count": 56,
   "metadata": {},
   "outputs": [
    {
     "name": "stdout",
     "output_type": "stream",
     "text": [
      "[[32 50]]\n"
     ]
    },
    {
     "ename": "ValueError",
     "evalue": "shapes (3,2) and (1,3) not aligned: 2 (dim 1) != 1 (dim 0)",
     "output_type": "error",
     "traceback": [
      "\u001b[1;31m---------------------------------------------------------------------------\u001b[0m",
      "\u001b[1;31mValueError\u001b[0m                                Traceback (most recent call last)",
      "\u001b[1;32m<ipython-input-56-cbf992a3d366>\u001b[0m in \u001b[0;36m<module>\u001b[1;34m()\u001b[0m\n\u001b[0;32m      5\u001b[0m \u001b[0mprint\u001b[0m\u001b[1;33m(\u001b[0m\u001b[0mC\u001b[0m\u001b[1;33m)\u001b[0m\u001b[1;33m\u001b[0m\u001b[0m\n\u001b[0;32m      6\u001b[0m \u001b[1;33m\u001b[0m\u001b[0m\n\u001b[1;32m----> 7\u001b[1;33m \u001b[0mD\u001b[0m \u001b[1;33m=\u001b[0m \u001b[0mnp\u001b[0m\u001b[1;33m.\u001b[0m\u001b[0mdot\u001b[0m\u001b[1;33m(\u001b[0m\u001b[0mB\u001b[0m\u001b[1;33m,\u001b[0m\u001b[0mA\u001b[0m\u001b[1;33m)\u001b[0m\u001b[1;33m\u001b[0m\u001b[0m\n\u001b[0m\u001b[0;32m      8\u001b[0m \u001b[0mprint\u001b[0m\u001b[1;33m(\u001b[0m\u001b[0mD\u001b[0m\u001b[1;33m)\u001b[0m\u001b[1;33m\u001b[0m\u001b[0m\n\u001b[0;32m      9\u001b[0m \u001b[1;33m\u001b[0m\u001b[0m\n",
      "\u001b[1;31mValueError\u001b[0m: shapes (3,2) and (1,3) not aligned: 2 (dim 1) != 1 (dim 0)"
     ]
    }
   ],
   "source": [
    "#연습문제3-3\n",
    "A = np.array([[1, 2, 3]])\n",
    "B = np.array([[4,7],[5,8],[6,9]])\n",
    "C = np.dot(A,B)\n",
    "print(C)\n",
    "\n",
    "D = np.dot(B,A)\n",
    "print(D)\n",
    "\n"
   ]
  },
  {
   "cell_type": "code",
   "execution_count": 57,
   "metadata": {},
   "outputs": [
    {
     "name": "stdout",
     "output_type": "stream",
     "text": [
      "[[19 22]\n",
      " [43 50]]\n",
      "[[23 34]\n",
      " [31 46]]\n"
     ]
    }
   ],
   "source": [
    "#연습문제3-4\n",
    "A = np.array([[1,2],[3,4]])\n",
    "B = np.array([[5,6],[7,8]])\n",
    "C = np.dot(A,B)\n",
    "print(C)\n",
    "D = np.dot(B,A)\n",
    "print(D)"
   ]
  },
  {
   "cell_type": "code",
   "execution_count": 59,
   "metadata": {},
   "outputs": [
    {
     "name": "stdout",
     "output_type": "stream",
     "text": [
      "[[14]]\n",
      "[[1 2 3]\n",
      " [2 4 6]\n",
      " [3 6 9]]\n"
     ]
    }
   ],
   "source": [
    "#연습문제3-5\n",
    "x = np.array([[1],[2],[3]])\n",
    "print(np.dot(x.T,x))\n",
    "print(np.dot(x,x.T))"
   ]
  },
  {
   "cell_type": "code",
   "execution_count": null,
   "metadata": {},
   "outputs": [],
   "source": [
    "#연습문제4-2"
   ]
  },
  {
   "cell_type": "code",
   "execution_count": 118,
   "metadata": {},
   "outputs": [
    {
     "data": {
      "text/plain": [
       "7.5"
      ]
     },
     "execution_count": 118,
     "metadata": {},
     "output_type": "execute_result"
    }
   ],
   "source": [
    "a = np.arange(16)\n",
    "a.mean()\n",
    "\n",
    "N = len(a)\n",
    "np.dot(np.ones(N),a)/N"
   ]
  }
 ],
 "metadata": {
  "kernelspec": {
   "display_name": "Python 3",
   "language": "python",
   "name": "python3"
  },
  "language_info": {
   "codemirror_mode": {
    "name": "ipython",
    "version": 3
   },
   "file_extension": ".py",
   "mimetype": "text/x-python",
   "name": "python",
   "nbconvert_exporter": "python",
   "pygments_lexer": "ipython3",
   "version": "3.6.3"
  }
 },
 "nbformat": 4,
 "nbformat_minor": 2
}
