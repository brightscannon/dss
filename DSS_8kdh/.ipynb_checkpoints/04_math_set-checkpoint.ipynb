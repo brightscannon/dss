{
 "cells": [
  {
   "cell_type": "code",
   "execution_count": 2,
   "metadata": {},
   "outputs": [],
   "source": [
    "import numpy as np\n",
    "import pandas as pd"
   ]
  },
  {
   "cell_type": "code",
   "execution_count": 3,
   "metadata": {},
   "outputs": [],
   "source": [
    "A = set([1,2,3,3,2])\n",
    "B = frozenset(['H','T'])\n",
    "C = set([\"\\u2660\", \"\\u2663\", \"\\u2665\", \"\\u2666\"])"
   ]
  },
  {
   "cell_type": "code",
   "execution_count": 5,
   "metadata": {},
   "outputs": [
    {
     "data": {
      "text/plain": [
       "(3, 2, 4)"
      ]
     },
     "execution_count": 5,
     "metadata": {},
     "output_type": "execute_result"
    }
   ],
   "source": [
    "len(A),len(B),len(C)"
   ]
  },
  {
   "cell_type": "code",
   "execution_count": 7,
   "metadata": {},
   "outputs": [],
   "source": [
    "# 합집합, 교집합, 차집합, 여집합\n",
    "A1 = set([1, 2, 3, 4])\n",
    "A2 = set([2, 4, 6])\n",
    "A3 = set([1, 2, 3])\n",
    "A4 = set([2, 3, 4, 5, 6])"
   ]
  },
  {
   "cell_type": "code",
   "execution_count": 8,
   "metadata": {},
   "outputs": [
    {
     "data": {
      "text/plain": [
       "{1, 2, 3, 4, 6}"
      ]
     },
     "execution_count": 8,
     "metadata": {},
     "output_type": "execute_result"
    }
   ],
   "source": [
    "A1.union(A2)"
   ]
  },
  {
   "cell_type": "code",
   "execution_count": 10,
   "metadata": {},
   "outputs": [
    {
     "data": {
      "text/plain": [
       "{1, 2, 3, 4, 6}"
      ]
     },
     "execution_count": 10,
     "metadata": {},
     "output_type": "execute_result"
    }
   ],
   "source": [
    "A2 | A1"
   ]
  },
  {
   "cell_type": "code",
   "execution_count": 11,
   "metadata": {},
   "outputs": [
    {
     "data": {
      "text/plain": [
       "{2, 3}"
      ]
     },
     "execution_count": 11,
     "metadata": {},
     "output_type": "execute_result"
    }
   ],
   "source": [
    "A3.intersection(A4)"
   ]
  },
  {
   "cell_type": "code",
   "execution_count": 12,
   "metadata": {},
   "outputs": [
    {
     "data": {
      "text/plain": [
       "{2, 3}"
      ]
     },
     "execution_count": 12,
     "metadata": {},
     "output_type": "execute_result"
    }
   ],
   "source": [
    "A4 & A3"
   ]
  },
  {
   "cell_type": "code",
   "execution_count": 13,
   "metadata": {},
   "outputs": [
    {
     "data": {
      "text/plain": [
       "True"
      ]
     },
     "execution_count": 13,
     "metadata": {},
     "output_type": "execute_result"
    }
   ],
   "source": [
    "# 전체집합 ,부분집합, \n",
    "A3.issubset(A1)"
   ]
  },
  {
   "cell_type": "code",
   "execution_count": 14,
   "metadata": {},
   "outputs": [
    {
     "data": {
      "text/plain": [
       "True"
      ]
     },
     "execution_count": 14,
     "metadata": {},
     "output_type": "execute_result"
    }
   ],
   "source": [
    "A3 <= A1"
   ]
  },
  {
   "cell_type": "code",
   "execution_count": 16,
   "metadata": {},
   "outputs": [
    {
     "data": {
      "text/plain": [
       "False"
      ]
     },
     "execution_count": 16,
     "metadata": {},
     "output_type": "execute_result"
    }
   ],
   "source": [
    "A3.issubset(A2)"
   ]
  },
  {
   "cell_type": "code",
   "execution_count": 17,
   "metadata": {},
   "outputs": [
    {
     "data": {
      "text/plain": [
       "True"
      ]
     },
     "execution_count": 17,
     "metadata": {},
     "output_type": "execute_result"
    }
   ],
   "source": [
    "A3 <= A3"
   ]
  },
  {
   "cell_type": "code",
   "execution_count": 18,
   "metadata": {},
   "outputs": [
    {
     "data": {
      "text/plain": [
       "False"
      ]
     },
     "execution_count": 18,
     "metadata": {},
     "output_type": "execute_result"
    }
   ],
   "source": [
    "A3<A3"
   ]
  },
  {
   "cell_type": "code",
   "execution_count": 19,
   "metadata": {},
   "outputs": [
    {
     "data": {
      "text/plain": [
       "False"
      ]
     },
     "execution_count": 19,
     "metadata": {},
     "output_type": "execute_result"
    }
   ],
   "source": [
    "A3 <= A2"
   ]
  },
  {
   "cell_type": "code",
   "execution_count": 20,
   "metadata": {},
   "outputs": [
    {
     "data": {
      "text/plain": [
       "{1, 3}"
      ]
     },
     "execution_count": 20,
     "metadata": {},
     "output_type": "execute_result"
    }
   ],
   "source": [
    "A1.difference(A2)"
   ]
  },
  {
   "cell_type": "code",
   "execution_count": 21,
   "metadata": {},
   "outputs": [
    {
     "data": {
      "text/plain": [
       "{1, 3}"
      ]
     },
     "execution_count": 21,
     "metadata": {},
     "output_type": "execute_result"
    }
   ],
   "source": [
    "A1-A2"
   ]
  },
  {
   "cell_type": "code",
   "execution_count": 22,
   "metadata": {},
   "outputs": [
    {
     "data": {
      "text/plain": [
       "set()"
      ]
     },
     "execution_count": 22,
     "metadata": {},
     "output_type": "execute_result"
    }
   ],
   "source": [
    "#공집합\n",
    "nullset = set([])\n",
    "nullset"
   ]
  },
  {
   "cell_type": "code",
   "execution_count": 23,
   "metadata": {},
   "outputs": [
    {
     "data": {
      "text/plain": [
       "True"
      ]
     },
     "execution_count": 23,
     "metadata": {},
     "output_type": "execute_result"
    }
   ],
   "source": [
    "nullset < A1"
   ]
  },
  {
   "cell_type": "code",
   "execution_count": 24,
   "metadata": {},
   "outputs": [
    {
     "data": {
      "text/plain": [
       "set()"
      ]
     },
     "execution_count": 24,
     "metadata": {},
     "output_type": "execute_result"
    }
   ],
   "source": [
    "nullset.intersection(A1)"
   ]
  },
  {
   "cell_type": "code",
   "execution_count": 26,
   "metadata": {},
   "outputs": [
    {
     "data": {
      "text/plain": [
       "{1, 2, 3, 4}"
      ]
     },
     "execution_count": 26,
     "metadata": {},
     "output_type": "execute_result"
    }
   ],
   "source": [
    "nullset.union(A1)"
   ]
  },
  {
   "cell_type": "code",
   "execution_count": 42,
   "metadata": {},
   "outputs": [
    {
     "name": "stdout",
     "output_type": "stream",
     "text": [
      "{\"frozenset({'TT', 'HT'})\", \"frozenset({'HH'})\", \"frozenset({'TH', 'HH', 'HT'})\", \"frozenset({'TH'})\", \"frozenset({'TH', 'TT'})\", \"frozenset({'TT', 'HH'})\", \"frozenset({'HH', 'HT'})\", \"frozenset({'HT'})\", \"frozenset({'TT'})\", \"frozenset({'TH', 'TT', 'HH'})\", \"frozenset({'TH', 'TT', 'HT'})\", \"frozenset({'TH', 'HT'})\", \"frozenset({'TT', 'HH', 'HT'})\", \"frozenset({'TH', 'TT', 'HH', 'HT'})\", \"frozenset({'TH', 'HH'})\"}\n"
     ]
    }
   ],
   "source": [
    "G = ['HH','HT','TH','TT']\n",
    "ls = []\n",
    "for i in G:\n",
    "    for j in G:\n",
    "        for k in G:\n",
    "            for l in G:\n",
    "                ls.append(str(frozenset([i,j,k,l])))\n",
    "\n",
    "print(set(ls))\n",
    "\n",
    "\n",
    "A0 = frozenset([])\n",
    "A1 = frozenset({'HH', 'HT'})\n",
    "A2 = frozenset({'HH'})\n",
    "A3 = frozenset({'HT'})\n",
    "A4 = frozenset({'TH', 'HH', 'HT'})\n",
    "A5 = frozenset({'TH', 'HH'})\n",
    "A6 = frozenset({'TH', 'HT'})\n",
    "A7 = frozenset({'TH', 'TT', 'HH', 'HT'})\n",
    "A8 = frozenset({'TH', 'TT', 'HH'})\n",
    "A9 = frozenset({'TH', 'TT', 'HT'})\n",
    "A10 = frozenset({'TH', 'TT'})\n",
    "A11 = frozenset({'TH'})\n",
    "A12 = frozenset({'TT', 'HH', 'HT'})\n",
    "A13 = frozenset({'TT', 'HH'})\n",
    "A14 = frozenset({'TT', 'HT'})\n",
    "A15 = frozenset({'TT'})\n",
    "\n"
   ]
  },
  {
   "cell_type": "code",
   "execution_count": 57,
   "metadata": {},
   "outputs": [
    {
     "name": "stdout",
     "output_type": "stream",
     "text": [
      "{frozenset({'C', 'D'}), frozenset({'D'}), frozenset({'H', 'D'}), frozenset({'H', 'C', 'D', 'S'}), frozenset({'H', 'C', 'S'}), frozenset({'H', 'D', 'S'}), frozenset(), frozenset({'C'}), frozenset({'S'}), frozenset({'H', 'S'}), frozenset({'H', 'C'}), frozenset({'D', 'S'}), frozenset({'H', 'C', 'D'}), frozenset({'C', 'S'}), frozenset({'C', 'D', 'S'}), frozenset({'H'})}\n"
     ]
    }
   ],
   "source": [
    "G = \"HSDC\"\n",
    "ls = []\n",
    "for i in G:\n",
    "    for j in G:\n",
    "        for k in G:\n",
    "            for l in G:\n",
    "                ls.append(str(frozenset([i,j,k,l])))\n",
    "\n",
    "# print(set(ls))\n",
    "\n",
    "B0 = frozenset([])\n",
    "B1 = frozenset({'H'})\n",
    "B2 = frozenset({'S'})\n",
    "B3 = frozenset({'D'})\n",
    "B4 = frozenset({'C'})\n",
    "B5 = frozenset({'H', 'S'})\n",
    "B6 = frozenset({'H', 'D'})\n",
    "B7 = frozenset({'H', 'C'})\n",
    "B8 = frozenset({'S', 'D'})\n",
    "B9 = frozenset({'S', 'C'})\n",
    "B10 = frozenset({'D', 'C'})\n",
    "B11 = frozenset({'H', 'S', 'D'})\n",
    "B12 = frozenset({'H', 'S', 'C'})\n",
    "B13 = frozenset({'H', 'D', 'C'})\n",
    "B14 = frozenset({'S', 'D', 'C'})\n",
    "B15 = frozenset({'H', 'S', 'D', 'C'})\n",
    "B = set([B0,B1,B2,B3,B4,B5,B6,B7,B8,B9,B10,B11,B12,B13,B14,B15])\n",
    "print(B)"
   ]
  },
  {
   "cell_type": "code",
   "execution_count": 71,
   "metadata": {},
   "outputs": [
    {
     "data": {
      "text/plain": [
       "{frozenset(): 0,\n",
       " frozenset({'H'}): 0.15,\n",
       " frozenset({'S'}): 0.35,\n",
       " frozenset({'D'}): 0.4,\n",
       " frozenset({'C'}): 0.1,\n",
       " frozenset({'H', 'S'}): 0.5,\n",
       " frozenset({'D', 'H'}): 0.55,\n",
       " frozenset({'C', 'H'}): 0.25,\n",
       " frozenset({'D', 'S'}): 0.75,\n",
       " frozenset({'C', 'S'}): 0.45,\n",
       " frozenset({'C', 'D'}): 0.5,\n",
       " frozenset({'D', 'H', 'S'}): 0.9,\n",
       " frozenset({'C', 'H', 'S'}): 0.6,\n",
       " frozenset({'C', 'D', 'H'}): 0.65,\n",
       " frozenset({'C', 'D', 'S'}): 0.85,\n",
       " frozenset({'C', 'D', 'H', 'S'}): 1.0}"
      ]
     },
     "execution_count": 71,
     "metadata": {},
     "output_type": "execute_result"
    }
   ],
   "source": [
    "P = {frozenset([]) : 0,\n",
    "     frozenset({'H'}) : 0.15,\n",
    "     frozenset({'S'}) : 0.35,\n",
    "     frozenset({'D'}) : 0.40,\n",
    "     frozenset({'C'}) : 0.10, \n",
    "     frozenset({'H', 'S'}) : 0.50,\n",
    "     frozenset({'H', 'D'}) : 0.55,\n",
    "     frozenset({'H', 'C'}) : 0.25,\n",
    "     frozenset({'S', 'D'}) : 0.75,\n",
    "     frozenset({'S', 'C'}) : 0.45,\n",
    "     frozenset({'D', 'C'}) : 0.50,\n",
    "     frozenset({'H', 'S', 'D'}) : 0.90,\n",
    "     frozenset({'H', 'S', 'C'}) : 0.60,\n",
    "     frozenset({'H', 'D', 'C'}) : 0.65,\n",
    "     frozenset({'S', 'D', 'C'}) : 0.85,\n",
    "     frozenset({'H', 'S', 'D', 'C'}) : 1.0\n",
    "}\n",
    "P"
   ]
  }
 ],
 "metadata": {
  "kernelspec": {
   "display_name": "Python 3",
   "language": "python",
   "name": "python3"
  },
  "language_info": {
   "codemirror_mode": {
    "name": "ipython",
    "version": 3
   },
   "file_extension": ".py",
   "mimetype": "text/x-python",
   "name": "python",
   "nbconvert_exporter": "python",
   "pygments_lexer": "ipython3",
   "version": "3.6.3"
  }
 },
 "nbformat": 4,
 "nbformat_minor": 2
}
