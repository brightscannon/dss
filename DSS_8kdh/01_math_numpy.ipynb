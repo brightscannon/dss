{
 "cells": [
  {
   "cell_type": "code",
   "execution_count": 2,
   "metadata": {},
   "outputs": [
    {
     "data": {
      "text/plain": [
       "array([[ 5.1],\n",
       "       [ 3.5],\n",
       "       [ 1.4],\n",
       "       [ 0.2]])"
      ]
     },
     "execution_count": 2,
     "metadata": {},
     "output_type": "execute_result"
    }
   ],
   "source": [
    "x1 = np.array([[5.1], [3.5], [1.4], [0.2]])\n",
    "x1\n"
   ]
  },
  {
   "cell_type": "code",
   "execution_count": 10,
   "metadata": {},
   "outputs": [
    {
     "data": {
      "text/plain": [
       "array([[ 4.9],\n",
       "       [ 3. ],\n",
       "       [ 1.4],\n",
       "       [ 0.2]])"
      ]
     },
     "execution_count": 10,
     "metadata": {},
     "output_type": "execute_result"
    }
   ],
   "source": [
    "#연습문제1\n",
    "\n",
    "x2 = np.array([[4.9], [3], [1.4], [0.2]])\n",
    "x2\n"
   ]
  },
  {
   "cell_type": "code",
   "execution_count": 17,
   "metadata": {},
   "outputs": [
    {
     "data": {
      "image/png": "[encoded data removed]",
      "text/plain": [
       "<matplotlib.figure.Figure at 0x18d3e46c2b0>"
      ]
     },
     "metadata": {},
     "output_type": "display_data"
    }
   ],
   "source": [
    "%matplotlib inline\n",
    "\n",
    "from sklearn.datasets import load_digits\n",
    "\n",
    "digits = load_digits()\n",
    "d0 = digits.images[0]\n",
    "d1 = digits.images[10]\n",
    "d2 = digits.images[1]\n",
    "d3 = digits.images[11]\n",
    "\n",
    "f, ax = plt.subplots(1, 4)\n",
    "ax[0].imshow(d0, interpolation='nearest', cmap=plt.cm.bone_r)\n",
    "ax[0].grid(False)\n",
    "ax[1].imshow(d1, interpolation='nearest', cmap=plt.cm.bone_r)\n",
    "ax[1].grid(False)\n",
    "ax[2].imshow(d2, interpolation='nearest', cmap=plt.cm.bone_r)\n",
    "ax[2].grid(False)\n",
    "ax[3].imshow(d3, interpolation='nearest', cmap=plt.cm.bone_r)\n",
    "ax[3].grid(False)\n",
    "plt.show()"
   ]
  },
  {
   "cell_type": "code",
   "execution_count": 18,
   "metadata": {},
   "outputs": [
    {
     "data": {
      "image/png": "[encoded data removed]",
      "text/plain": [
       "<matplotlib.figure.Figure at 0x18d3f530908>"
      ]
     },
     "metadata": {},
     "output_type": "display_data"
    }
   ],
   "source": [
    "v0 = d0.reshape(64, 1)\n",
    "v1 = d1.reshape(64, 1)\n",
    "v2 = d2.reshape(64, 1)\n",
    "v3 = d3.reshape(64, 1)\n",
    "\n",
    "f, ax = plt.subplots(4, 1, figsize=(12, 2))\n",
    "ax[0].imshow(v0.T, interpolation='nearest', cmap=plt.cm.bone_r)\n",
    "ax[0].grid(False); ax[0].set_xticks([]); ax[0].set_yticks([])\n",
    "ax[1].imshow(v1.T, interpolation='nearest', cmap=plt.cm.bone_r)\n",
    "ax[1].grid(False); ax[1].set_xticks([]); ax[1].set_yticks([])\n",
    "ax[2].imshow(v2.T, interpolation='nearest', cmap=plt.cm.bone_r)\n",
    "ax[2].grid(False); ax[2].set_xticks([]); ax[2].set_yticks([])\n",
    "ax[3].imshow(v3.T, interpolation='nearest', cmap=plt.cm.bone_r)\n",
    "ax[3].grid(False); ax[3].set_xticks([]); ax[3].set_yticks([])\n",
    "plt.tight_layout()\n",
    "plt.show()"
   ]
  },
  {
   "cell_type": "code",
   "execution_count": 10,
   "metadata": {},
   "outputs": [
    {
     "data": {
      "text/plain": [
       "array([[ 5.1,  3.5,  1.4,  0.2],\n",
       "       [ 4.9,  3. ,  1.4,  0.2]])"
      ]
     },
     "execution_count": 10,
     "metadata": {},
     "output_type": "execute_result"
    }
   ],
   "source": [
    "#연습문제2\n",
    "\n",
    "X = np.array([[5.1, 3.5, 1.4, 0.2],[4.9, 3.0, 1.4, 0.2]])\n",
    "X"
   ]
  },
  {
   "cell_type": "code",
   "execution_count": 16,
   "metadata": {},
   "outputs": [
    {
     "name": "stdout",
     "output_type": "stream",
     "text": [
      "[[ 5.1  4.9]\n",
      " [ 3.5  3. ]\n",
      " [ 1.4  1.4]\n",
      " [ 0.2  0.2]]\n",
      "--------------------\n",
      "[[ 5.1  3.5  1.4  0.2]\n",
      " [ 4.9  3.   1.4  0.2]]\n"
     ]
    }
   ],
   "source": [
    "#연습문제3\n",
    "\n",
    "X = np.array([[5.1, 3.5, 1.4, 0.2],[4.9, 3.0, 1.4, 0.2]])\n",
    "print(X.T)\n",
    "print(\"-\"*20)\n",
    "print((X.T).T)"
   ]
  },
  {
   "cell_type": "code",
   "execution_count": 28,
   "metadata": {},
   "outputs": [
    {
     "name": "stdout",
     "output_type": "stream",
     "text": [
      "[[0]\n",
      " [0]\n",
      " [0]\n",
      " [0]]\n",
      "[[1]\n",
      " [1]\n",
      " [1]\n",
      " [1]]\n",
      "[[ 1  2  3  4]\n",
      " [ 5  6  7  8]\n",
      " [ 9 10 11 12]\n",
      " [13 14 15 16]]\n",
      "[[1 0 0 0 0]\n",
      " [0 2 0 0 0]\n",
      " [0 0 3 0 0]\n",
      " [0 0 0 4 0]\n",
      " [0 0 0 0 5]]\n",
      "[[ 1.  0.  0.  0.  0.]\n",
      " [ 0.  1.  0.  0.  0.]\n",
      " [ 0.  0.  1.  0.  0.]\n",
      " [ 0.  0.  0.  1.  0.]\n",
      " [ 0.  0.  0.  0.  1.]]\n",
      "[[1 1 3]\n",
      " [1 2 1]\n",
      " [3 1 1]]\n"
     ]
    }
   ],
   "source": [
    "#연습문제4\n",
    "z = np.array([[0],[0],[0],[0]])\n",
    "o = np.array([[1],[1],[1],[1]])\n",
    "X = np.array([[1,2,3,4],[5,6,7,8],[9,10,11,12],[13,14,15,16]])\n",
    "D = np.diag([1,2,3,4,5])\n",
    "I = np.identity(5)\n",
    "\n",
    "S = np.array([[1,1,3],[1,2,1],[3,1,1]])\n",
    "print(z)\n",
    "print(o)\n",
    "print(X)\n",
    "print(D)\n",
    "print(I)\n",
    "print(S)\n"
   ]
  },
  {
   "cell_type": "code",
   "execution_count": 30,
   "metadata": {},
   "outputs": [
    {
     "name": "stdout",
     "output_type": "stream",
     "text": [
      "[10 12 14 16 18]\n",
      "[10 10 10 10 10]\n"
     ]
    }
   ],
   "source": [
    "x = np.array([10,11,12,13,14])\n",
    "y = np.array([0,1,2,3,4])\n",
    "\n",
    "print(x+y)\n",
    "print(x-y)\n",
    "\n"
   ]
  },
  {
   "cell_type": "code",
   "execution_count": 31,
   "metadata": {},
   "outputs": [
    {
     "data": {
      "text/plain": [
       "array([[14, 24],\n",
       "       [34, 44]])"
      ]
     },
     "execution_count": 31,
     "metadata": {},
     "output_type": "execute_result"
    }
   ],
   "source": [
    "np.array([[5,6],[7,8]]) + np.array([[10,20],[30,40]])-np.array([[1,2],[3,4]])"
   ]
  },
  {
   "cell_type": "code",
   "execution_count": 94,
   "metadata": {},
   "outputs": [
    {
     "data": {
      "text/plain": [
       "870"
      ]
     },
     "execution_count": 94,
     "metadata": {},
     "output_type": "execute_result"
    }
   ],
   "source": [
    "#연습문제1-벡터와 행렬연산\n",
    "\n",
    "p = np.array([[100],[80],[50]])\n",
    "n = np.array([[3],[4],[5]])\n",
    "\n",
    "np.dot(p.T,n)[0,0]"
   ]
  },
  {
   "cell_type": "code",
   "execution_count": 97,
   "metadata": {},
   "outputs": [
    {
     "data": {
      "text/plain": [
       "array([[ 74,  86],\n",
       "       [ 86, 100]])"
      ]
     },
     "execution_count": 97,
     "metadata": {},
     "output_type": "execute_result"
    }
   ],
   "source": [
    "X = np.array([[5,6],[7,8]])\n",
    "\n",
    "np.dot(X.T, X)"
   ]
  },
  {
   "cell_type": "code",
   "execution_count": 130,
   "metadata": {},
   "outputs": [
    {
     "name": "stdout",
     "output_type": "stream",
     "text": [
      "1번문제 유사도  2807.0\n",
      "------------------------------\n",
      "2번문제 유사도\n",
      "[[ 3070.  1866.  2264. ...,  2812.  3006.  2898.]\n",
      " [ 1866.  4209.  3432. ...,  3906.  3083.  3307.]\n",
      " [ 2264.  3432.  4388. ...,  4005.  3063.  3697.]\n",
      " ..., \n",
      " [ 2812.  3906.  4005. ...,  5092.  3729.  4598.]\n",
      " [ 3006.  3083.  3063. ...,  3729.  4316.  3850.]\n",
      " [ 2898.  3307.  3697. ...,  4598.  3850.  4938.]]\n",
      "--2번문제에서 맨앞의 10개 이미지 데이터만 비교하는경우의 유사도\n",
      "[[ 3070.  1866.  2264.  1880.  1805.  2798.  2301.  1657.  2783.  2807.]\n",
      " [ 1866.  4209.  3432.  2547.  2494.  3221.  3238.  2496.  3156.  2814.]\n",
      " [ 2264.  3432.  4388.  2215.  2374.  2884.  3097.  2667.  3520.  2795.]\n",
      " [ 1880.  2547.  2215.  2953.  1702.  3137.  2305.  1552.  2809.  2561.]\n",
      " [ 1805.  2494.  2374.  1702.  3074.  2298.  2799.  1458.  2392.  2126.]\n",
      " [ 2798.  3221.  2884.  3137.  2298.  4454.  2876.  1967.  3624.  3848.]\n",
      " [ 2301.  3238.  3097.  2305.  2799.  2876.  3890.  1835.  3205.  2681.]\n",
      " [ 1657.  2496.  2667.  1552.  1458.  1967.  1835.  3380.  2504.  2223.]\n",
      " [ 2783.  3156.  3520.  2809.  2392.  3624.  3205.  2504.  4467.  3418.]\n",
      " [ 2807.  2814.  2795.  2561.  2126.  3848.  2681.  2223.  3418.  4209.]]\n"
     ]
    }
   ],
   "source": [
    "#연습문제2-벡터와 행렬연산_과제★★★★★★★★★★★★★★★★★★★★★★★★★\n",
    "\n",
    "from sklearn.datasets import load_digits\n",
    "X = load_digits().data\n",
    "\n",
    "#★1번----------------------첫번째 데이터와 10번째 데이터에 대한 유사도를 구하라.\n",
    "print(\"1번문제 유사도 \",np.dot(X[0].T,X[9]))\n",
    "\n",
    "print(\"-\"*30)\n",
    "\n",
    "\n",
    "#★2번----------------------내적을 이용하여 모든 이미지의 조합에 대해 유사도를 구하라.\n",
    "#  어떻게 구현하는 것이 효율적일까? (힌트: 이 문제는 뒤에서 배울 행렬과 행렬의 곱셈을 이용한다.)\n",
    "\n",
    "print(\"2번문제 유사도\")\n",
    "print(np.dot(X, X.T))\n",
    "\n",
    "#설명1 : n행m열 데이터의 해석 ==> n번째 이미지와 m번째 이미지의 유사도\n",
    "#설명2 : 이미지데이터가 행단위로 들어가있으므로 행렬곱셉으로 유사도를 구할때\n",
    "#       뒤쪽의 행렬의 데이터가 열벡터 단위로 계산되도록 전치시킨다.\n",
    "\n",
    "\n",
    "print(\"--2번문제에서 맨앞의 10개 이미지 데이터만 비교하는경우의 유사도\")\n",
    "print(np.dot(X[:10], X[:10].T))\n",
    "# 위 코드는 맨앞10개 데이터만으로 상호비교한 결과값을 출력. 1번문제에서 구했던 1번째데이터와\n",
    "# 10번째데이터의 유사도인 2807.0값이 1행10열과 10행1열에 위치해 있음을 알 수 있다.\n"
   ]
  },
  {
   "cell_type": "markdown",
   "metadata": {},
   "source": [
    "# 연습문제 10번 증명\n",
    "\n",
    "### $$x^TAx = \\dfrac{1}{2}x^T(A + A^T)x$$\n",
    "\n",
    "\\begin{eqnarray}\n",
    "\\dfrac{1}{2}x^T(A + A^T)x&=& \n",
    "\\dfrac{1}{2}x^T\n",
    "\\begin{bmatrix}\n",
    "2a_{1,1} & a_{1,2}+a_{2,1} & \\cdots & a_{1,N} \\\\\n",
    "a_{2,1}+a_{1,2} & 2a_{2,2} & \\cdots & a_{2,N} \\\\\n",
    "\\vdots & \\vdots & \\ddots & \\vdots \\\\\n",
    "a_{N,1} & a_{N,2} & \\cdots & 2a_{N,N} \\\\\n",
    "\\end{bmatrix}\n",
    "x\n",
    "\\end{eqnarray}\n",
    "\n",
    "위 식은 행렬의 이차형식 계산법에 따라서 다음과 같이 정리가 가능하다.\n",
    "\n",
    "\\begin{eqnarray}\n",
    "&=& \\dfrac{1}{2} \\sum_{i=1}^{N} \\sum_{j=1}^{N} (a_{i,j}+a_{j,i}) x_i x_j \n",
    "\\end{eqnarray}\n",
    "\n",
    "\n",
    "\\begin{eqnarray}\n",
    "&=& \\dfrac{1}{2} \\sum_{i=1}^{N} \\sum_{j=1}^{N} a_{i,j} x_i x_j + \\dfrac{1}{2} \\sum_{i=1}^{N} \\sum_{j=1}^{N} a_{j,i} x_i x_j \n",
    "\\end{eqnarray}\n",
    "\n",
    "\n",
    "\\begin{eqnarray}\n",
    "&=& \\dfrac{1}{2}(a_{1,1}x_{1}^2+a_{1,2}x_{1}x_{2}+ ... + a_{2,1}x_{2}x_{1}+...+a_{N,N}x_{N}^2) + \\dfrac{1}{2}(a_{1,1}x_{1}^2+a_{2,1}x_{2}x_{1}+ ... + a_{1,2}x_{1}x_{2}+...+a_{N,N}x_{N}^2)\n",
    "\\end{eqnarray}\n",
    "\n",
    "\n",
    "\\begin{eqnarray}\n",
    "&=& 2\\dfrac{1}{2}(a_{1,1}x_{1}^2+a_{1,2}x_{1}x_{2}+ ... + a_{2,1}x_{2}x_{1}+...+a_{N,N}x_{N}^2)\n",
    "\\end{eqnarray}\n",
    "\n",
    "\n",
    "\\begin{eqnarray}\n",
    "&=& \\sum_{i=1}^{N} \\sum_{j=1}^{N} a_{i,j} x_i x_j \n",
    "\\end{eqnarray}\n",
    "\n",
    "여기서 아래와 같은 식이 성립하므로\n",
    "\n",
    "\\begin{eqnarray}\n",
    "(x^TAx &=& \\sum_{i=1}^{N} \\sum_{j=1}^{N} a_{i,j} x_i x_j)\n",
    "\\end{eqnarray}\n",
    "\n",
    "$$ then $$\n",
    "\n",
    "### $$x^TAx = \\dfrac{1}{2}x^T(A + A^T)x$$\n",
    "\n",
    "![텍스트](https://image.ibb.co/mZ6UWJ/B.jpg)"
   ]
  },
  {
   "cell_type": "code",
   "execution_count": 52,
   "metadata": {},
   "outputs": [
    {
     "name": "stdout",
     "output_type": "stream",
     "text": [
      "[[22 28]\n",
      " [49 64]]\n",
      "[[ 9 12 15]\n",
      " [19 26 33]\n",
      " [29 40 51]]\n"
     ]
    }
   ],
   "source": [
    "#연습문제3-1,2\n",
    "\n",
    "A = np.array([[1,2,3],[4,5,6]])\n",
    "B = np.array([[1,2],[3,4],[5,6]])\n",
    "C = np.dot(A,B)\n",
    "print(C)\n",
    "\n",
    "D = np.dot(B,A)\n",
    "print(D)\n",
    "\n"
   ]
  },
  {
   "cell_type": "code",
   "execution_count": 56,
   "metadata": {},
   "outputs": [
    {
     "name": "stdout",
     "output_type": "stream",
     "text": [
      "[[32 50]]\n"
     ]
    },
    {
     "ename": "ValueError",
     "evalue": "shapes (3,2) and (1,3) not aligned: 2 (dim 1) != 1 (dim 0)",
     "output_type": "error",
     "traceback": [
      "\u001b[1;31m---------------------------------------------------------------------------\u001b[0m",
      "\u001b[1;31mValueError\u001b[0m                                Traceback (most recent call last)",
      "\u001b[1;32m<ipython-input-56-cbf992a3d366>\u001b[0m in \u001b[0;36m<module>\u001b[1;34m()\u001b[0m\n\u001b[0;32m      5\u001b[0m \u001b[0mprint\u001b[0m\u001b[1;33m(\u001b[0m\u001b[0mC\u001b[0m\u001b[1;33m)\u001b[0m\u001b[1;33m\u001b[0m\u001b[0m\n\u001b[0;32m      6\u001b[0m \u001b[1;33m\u001b[0m\u001b[0m\n\u001b[1;32m----> 7\u001b[1;33m \u001b[0mD\u001b[0m \u001b[1;33m=\u001b[0m \u001b[0mnp\u001b[0m\u001b[1;33m.\u001b[0m\u001b[0mdot\u001b[0m\u001b[1;33m(\u001b[0m\u001b[0mB\u001b[0m\u001b[1;33m,\u001b[0m\u001b[0mA\u001b[0m\u001b[1;33m)\u001b[0m\u001b[1;33m\u001b[0m\u001b[0m\n\u001b[0m\u001b[0;32m      8\u001b[0m \u001b[0mprint\u001b[0m\u001b[1;33m(\u001b[0m\u001b[0mD\u001b[0m\u001b[1;33m)\u001b[0m\u001b[1;33m\u001b[0m\u001b[0m\n\u001b[0;32m      9\u001b[0m \u001b[1;33m\u001b[0m\u001b[0m\n",
      "\u001b[1;31mValueError\u001b[0m: shapes (3,2) and (1,3) not aligned: 2 (dim 1) != 1 (dim 0)"
     ]
    }
   ],
   "source": [
    "#연습문제3-3\n",
    "A = np.array([[1, 2, 3]])\n",
    "B = np.array([[4,7],[5,8],[6,9]])\n",
    "C = np.dot(A,B)\n",
    "print(C)\n",
    "\n",
    "D = np.dot(B,A)\n",
    "print(D)\n",
    "\n"
   ]
  },
  {
   "cell_type": "code",
   "execution_count": 57,
   "metadata": {},
   "outputs": [
    {
     "name": "stdout",
     "output_type": "stream",
     "text": [
      "[[19 22]\n",
      " [43 50]]\n",
      "[[23 34]\n",
      " [31 46]]\n"
     ]
    }
   ],
   "source": [
    "#연습문제3-4\n",
    "A = np.array([[1,2],[3,4]])\n",
    "B = np.array([[5,6],[7,8]])\n",
    "C = np.dot(A,B)\n",
    "print(C)\n",
    "D = np.dot(B,A)\n",
    "print(D)"
   ]
  },
  {
   "cell_type": "code",
   "execution_count": 59,
   "metadata": {},
   "outputs": [
    {
     "name": "stdout",
     "output_type": "stream",
     "text": [
      "[[14]]\n",
      "[[1 2 3]\n",
      " [2 4 6]\n",
      " [3 6 9]]\n"
     ]
    }
   ],
   "source": [
    "#연습문제3-5\n",
    "x = np.array([[1],[2],[3]])\n",
    "print(np.dot(x.T,x))\n",
    "print(np.dot(x,x.T))"
   ]
  },
  {
   "cell_type": "code",
   "execution_count": null,
   "metadata": {},
   "outputs": [],
   "source": [
    "#연습문제4-2"
   ]
  },
  {
   "cell_type": "code",
   "execution_count": 131,
   "metadata": {},
   "outputs": [
    {
     "data": {
      "text/plain": [
       "7.5"
      ]
     },
     "execution_count": 131,
     "metadata": {},
     "output_type": "execute_result"
    }
   ],
   "source": [
    "a = np.arange(16)\n",
    "a.mean()\n",
    "\n",
    "N = len(a)\n",
    "np.dot(np.ones(N),a)/N"
   ]
  },
  {
   "cell_type": "markdown",
   "metadata": {},
   "source": [
    "# 행렬의성질\n",
    "\n",
    "## 행렬의부호"
   ]
  },
  {
   "cell_type": "code",
   "execution_count": null,
   "metadata": {},
   "outputs": [],
   "source": [
    "#양정부호, 앙준정부호"
   ]
  },
  {
   "cell_type": "markdown",
   "metadata": {},
   "source": [
    "## 행렬의크기"
   ]
  },
  {
   "cell_type": "code",
   "execution_count": 135,
   "metadata": {},
   "outputs": [
    {
     "data": {
      "text/plain": [
       "array([[-4, -3, -2],\n",
       "       [-1,  0,  1],\n",
       "       [ 2,  3,  4]])"
      ]
     },
     "execution_count": 135,
     "metadata": {},
     "output_type": "execute_result"
    }
   ],
   "source": [
    "#에제행렬생성\n",
    "a = (np.arange(9) - 4).reshape((3,3))\n",
    "a"
   ]
  },
  {
   "cell_type": "code",
   "execution_count": 143,
   "metadata": {},
   "outputs": [
    {
     "data": {
      "text/plain": [
       "7.745966692414834"
      ]
     },
     "execution_count": 143,
     "metadata": {},
     "output_type": "execute_result"
    }
   ],
   "source": [
    "#행렬 놈(norm)\n",
    "np.linalg.norm(a)"
   ]
  },
  {
   "cell_type": "code",
   "execution_count": 144,
   "metadata": {},
   "outputs": [
    {
     "data": {
      "text/plain": [
       "9.0"
      ]
     },
     "execution_count": 144,
     "metadata": {},
     "output_type": "execute_result"
    }
   ],
   "source": [
    "#대각합(trace)\n",
    "np.trace(np.eye(3)*3)"
   ]
  },
  {
   "cell_type": "code",
   "execution_count": 154,
   "metadata": {},
   "outputs": [
    {
     "name": "stdout",
     "output_type": "stream",
     "text": [
      "[[1 2 3]\n",
      " [4 5 6]\n",
      " [7 8 9]]\n",
      "거의 0에 근접하는 값이다▼\n"
     ]
    },
    {
     "data": {
      "text/plain": [
       "-9.5161973539299405e-16"
      ]
     },
     "execution_count": 154,
     "metadata": {},
     "output_type": "execute_result"
    }
   ],
   "source": [
    "#행렬식(determinant)\n",
    "a=(np.arange(9)+1).reshape((3,3))\n",
    "print(a)\n",
    "\n",
    "print(\"거의 0에 근접하는 값이다▼\")\n",
    "np.linalg.det(a)\n"
   ]
  },
  {
   "cell_type": "code",
   "execution_count": 162,
   "metadata": {},
   "outputs": [
    {
     "name": "stdout",
     "output_type": "stream",
     "text": [
      "[[ 2 -1  0]\n",
      " [-1  2 -1]\n",
      " [ 0 -1  2]]\n",
      "A대각합 6\n",
      "A행렬식 4.0\n"
     ]
    }
   ],
   "source": [
    "A = np.array([[2,-1,0],[-1,2,-1],[0,-1,2]])\n",
    "print(A)\n",
    "print(\"A대각합\",np.trace(A))\n",
    "print(\"A행렬식\",np.linalg.det(A))\n"
   ]
  },
  {
   "cell_type": "code",
   "execution_count": 163,
   "metadata": {},
   "outputs": [
    {
     "name": "stdout",
     "output_type": "stream",
     "text": [
      "[[ 1.  1.]\n",
      " [ 1.  1.]]\n",
      "B대각합 2.0\n",
      "B행렬식 0.0\n"
     ]
    }
   ],
   "source": [
    "B = np.ones((2,2))\n",
    "print(B)\n",
    "print(\"B대각합\",np.trace(B))\n",
    "print(\"B행렬식\",np.linalg.det(B))"
   ]
  },
  {
   "cell_type": "code",
   "execution_count": 164,
   "metadata": {},
   "outputs": [
    {
     "name": "stdout",
     "output_type": "stream",
     "text": [
      "[[1 2]\n",
      " [3 4]]\n",
      "C대각합 5\n",
      "C행렬식 -2.0\n"
     ]
    }
   ],
   "source": [
    "C = np.arange(1,5).reshape((2,2))\n",
    "print(C)\n",
    "print(\"C대각합\",np.trace(C))\n",
    "print(\"C행렬식\",np.linalg.det(C))"
   ]
  },
  {
   "cell_type": "markdown",
   "metadata": {},
   "source": [
    "# 연립방정식과 역행렬\n",
    "\n",
    "## 역행렬"
   ]
  },
  {
   "cell_type": "code",
   "execution_count": 166,
   "metadata": {},
   "outputs": [
    {
     "data": {
      "text/plain": [
       "array([[ 2,  3, -2],\n",
       "       [ 3,  5,  6],\n",
       "       [ 2,  4,  3]])"
      ]
     },
     "execution_count": 166,
     "metadata": {},
     "output_type": "execute_result"
    }
   ],
   "source": [
    "A = np.array([[2,3,-2],[3,5,6],[2,4,3]])\n",
    "A"
   ]
  },
  {
   "cell_type": "code",
   "execution_count": 167,
   "metadata": {},
   "outputs": [
    {
     "data": {
      "text/plain": [
       "array([[-5],\n",
       "       [12],\n",
       "       [ 7]])"
      ]
     },
     "execution_count": 167,
     "metadata": {},
     "output_type": "execute_result"
    }
   ],
   "source": [
    "b = np.array([[-5],[12],[7]])\n",
    "b"
   ]
  },
  {
   "cell_type": "code",
   "execution_count": 169,
   "metadata": {},
   "outputs": [
    {
     "data": {
      "text/plain": [
       "array([[ 0.69230769,  1.30769231, -2.15384615],\n",
       "       [-0.23076923, -0.76923077,  1.38461538],\n",
       "       [-0.15384615,  0.15384615, -0.07692308]])"
      ]
     },
     "execution_count": 169,
     "metadata": {},
     "output_type": "execute_result"
    }
   ],
   "source": [
    "#역행렬 구하기\n",
    "Ainv = np.linalg.inv(A)\n",
    "Ainv"
   ]
  },
  {
   "cell_type": "code",
   "execution_count": 172,
   "metadata": {},
   "outputs": [
    {
     "data": {
      "text/plain": [
       "array([[-2.84615385],\n",
       "       [ 1.61538462],\n",
       "       [ 2.07692308]])"
      ]
     },
     "execution_count": 172,
     "metadata": {},
     "output_type": "execute_result"
    }
   ],
   "source": [
    "x = np.dot(Ainv, b)\n",
    "x"
   ]
  },
  {
   "cell_type": "code",
   "execution_count": null,
   "metadata": {},
   "outputs": [],
   "source": []
  },
  {
   "cell_type": "code",
   "execution_count": 194,
   "metadata": {},
   "outputs": [
    {
     "name": "stdout",
     "output_type": "stream",
     "text": [
      "w 1 = -312.7100432703901\n",
      "w 2 = -115.19394234554954\n",
      "w 3 = 14.4996465318047\n",
      "w 4 = -0.1132593173503273\n"
     ]
    },
    {
     "data": {
      "text/plain": [
       "array([ -3.12710043e+02,  -1.15193942e+02,   1.44996465e+01,\n",
       "        -1.13259317e-01])"
      ]
     },
     "execution_count": 194,
     "metadata": {},
     "output_type": "execute_result"
    }
   ],
   "source": [
    "#연습문제 2-2 부동산 가치추정의 식에서 가중치 w 구하기\n",
    "\n",
    "from sklearn.datasets import load_boston\n",
    "boston = load_boston()\n",
    "X = boston.data\n",
    "y = boston.target\n",
    "A = X[:4, [0, 4, 5, 6]]  # 'CRIM', 'NOX', 'RM', 'AGE'\n",
    "b = y[:4]\n",
    "\n",
    "Ainv = np.linalg.inv(A)\n",
    "w = np.dot(Ainv, b)\n",
    "\n",
    "for i in range(4):\n",
    "    print(\"w\",i+1,\"=\",float(w[i]))\n",
    "\n",
    "w"
   ]
  },
  {
   "cell_type": "code",
   "execution_count": 206,
   "metadata": {},
   "outputs": [
    {
     "name": "stdout",
     "output_type": "stream",
     "text": [
      "[-0.09162978  0.04867512 -0.0037793   2.85636751]\n",
      "[ 24.   21.6  34.7  33.4  36.2  28.7  22.9  27.1  16.5  18.9]\n"
     ]
    },
    {
     "data": {
      "text/plain": [
       "array([ 29.10255504,  24.50656965,  31.2317794 ,  29.71046643,\n",
       "        29.56672407,  25.29781053,  21.53145517,  19.10111623,\n",
       "        11.0850584 ,  18.25808349,  19.3302171 ,  20.4175895 ,\n",
       "        19.66355409,  20.6684377 ,  20.52557495,  20.1210164 ,\n",
       "        21.53356062,  18.3637896 ,  15.74830589,  18.82204774,\n",
       "        13.35884553,  18.82985907,  17.88644962,  15.26588981,\n",
       "        17.18299426,  13.80678526,  16.64639802,  16.15276987,\n",
       "        21.87236648,  23.39844184,  12.92041834,  19.27495299,\n",
       "        10.58162959,  15.02358719,  14.84977199,  22.55150254,\n",
       "        21.02428612,  22.07505264,  22.30036181,  31.18536954,\n",
       "        34.74565335,  28.28231053,  24.25820865,  23.99265201,\n",
       "        21.95683448,  20.14206621,  19.11747639,  17.61096024,\n",
       "         8.67876503,  16.00652073,  20.25927731,  22.69148936,\n",
       "        27.11397974,  22.75906096,  17.51472273,  33.22187991,\n",
       "        25.77475227,  32.47531522,  22.47256451,  21.01920223,\n",
       "        17.82609647,  18.56153077,  24.75833107,  24.84022119,\n",
       "        26.10076361,  28.67165662,  23.27192228,  20.37038347,\n",
       "        16.49889559,  20.04424449,  24.84856352,  20.64208958,\n",
       "        23.36185559,  23.38229274,  24.56249548,  23.03740964,\n",
       "        21.81139234,  22.06751101,  20.79279779,  20.78345677,\n",
       "        28.68493098,  26.95431892,  25.58025187,  24.25248868,\n",
       "        24.43577724,  27.35490281,  21.21688178,  24.24691206,\n",
       "        30.629638  ,  31.13517853,  26.14854784,  26.29685728,\n",
       "        27.72050365,  27.36431508,  25.4699795 ,  27.4261937 ,\n",
       "        23.1557173 ,  37.45138827,  36.478426  ,  32.85893382,\n",
       "        26.08074269,  27.13217565,  18.82833234,  20.90541998,\n",
       "        21.79146072,  18.46948637,  17.42208503,  21.0701576 ,\n",
       "        23.61197519,  20.65413425,  21.60469431,  26.65572428,\n",
       "        19.60146233,  20.1088682 ,  24.08558589,  19.05158154,\n",
       "        22.6558232 ,  22.38958585,  18.88717964,  19.36084838,\n",
       "        21.23422189,  21.85198449,  20.1188061 ,  16.36419432,\n",
       "        19.85477274,  21.78825978,  14.15746238,  16.37010063,\n",
       "        21.51550185,  15.39746074,  22.51269795,  21.68311001,\n",
       "        22.26330855,  17.32194522,  14.1383093 ,  19.95301002,\n",
       "        17.59809344,  21.90742595,  15.71952193,  18.70196046,\n",
       "        16.43863106,   5.45135673,  16.04440606,  13.58151657,\n",
       "         9.23748069,  13.72285607,  15.26927645,   9.13754392,\n",
       "        10.61299593,  15.79475052,  22.27616954,  17.91704246,\n",
       "        19.06215423,  17.40464549,  23.87731123,  20.47027237,\n",
       "        11.96816965,  31.52002868,  25.49989429,  27.10437858,\n",
       "        29.63002093,  36.04765894,  40.75187106,  43.48836458,\n",
       "        22.02232088,  21.99029653,  37.59473555,  19.56818773,\n",
       "        23.8093675 ,  24.53866114,  19.51365069,  21.29579032,\n",
       "        19.74590222,  27.06923586,  23.54280229,  29.21876472,\n",
       "        23.63171675,  27.04998464,  30.33264447,  32.33653546,\n",
       "        35.82153387,  25.73944244,  33.30058695,  29.30880996,\n",
       "        19.98432487,  23.39639492,  37.23741715,  31.3982774 ,\n",
       "        30.1070825 ,  33.63167577,  30.35131505,  29.38116521,\n",
       "        32.78381526,  31.30865291,  30.10496052,  40.94257834,\n",
       "        35.12920635,  31.51698549,  33.89252685,  31.37517563,\n",
       "        32.19165989,  27.08036696,  37.65067954,  41.85511799,\n",
       "        43.29272094,  21.6601556 ,  23.54239102,  17.13917725,\n",
       "        23.17761309,  15.65940637,  21.76040922,  15.9100709 ,\n",
       "        21.82638341,  24.91046427,  10.73690496,  23.76830312,\n",
       "        24.7629658 ,  27.45515508,  23.29545603,  28.39344472,\n",
       "        32.58921406,  22.8745699 ,  31.70767081,  28.35232523,\n",
       "        39.80199921,  42.21831329,  38.54257462,  31.81500765,\n",
       "        36.32325128,  29.66823152,  22.33218159,  33.38988403,\n",
       "        40.02179174,  38.9909431 ,  30.86204278,  23.32836295,\n",
       "        29.54200794,  33.05938406,  27.20141341,  27.4142557 ,\n",
       "        27.34751717,  22.14330924,  23.27740331,  26.35206134,\n",
       "        15.64321041,  13.52534252,  20.54333986,  20.31243044,\n",
       "        22.22229294,  25.6562285 ,  25.05393868,  25.46184147,\n",
       "        27.26277735,  35.09737299,  23.70568171,  21.3422173 ,\n",
       "        37.48892038,  45.21647518,  35.69364003,  33.1731647 ,\n",
       "        34.24755545,  36.94984833,  42.53464358,  34.21375218,\n",
       "        34.91751534,  24.38638698,  30.76576267,  41.51371061,\n",
       "        38.15601921,  24.58968222,  21.21074797,  26.4813857 ,\n",
       "        27.93584832,  37.64611581,  35.20921662,  32.89222504,\n",
       "        36.25213346,  34.57552367,  29.1343178 ,  32.72773118,\n",
       "        38.21881709,  32.56287914,  39.80151117,  44.72854922,\n",
       "        32.12194355,  26.3105587 ,  21.15696374,  25.5725844 ,\n",
       "        25.90488084,  26.37675363,  33.5916348 ,  35.19369546,\n",
       "        31.68406442,  23.58386808,  21.95319804,  27.27278926,\n",
       "        25.84390535,  17.47726838,  27.24158343,  31.58527671,\n",
       "        30.0431457 ,  27.57502506,  27.33000988,  31.91082501,\n",
       "        33.81493357,  29.81091055,  35.81415679,  31.9219558 ,\n",
       "        28.51731094,  22.57802075,  15.49533079,  25.72007539,\n",
       "        22.32037178,  24.94855819,  25.82079584,  19.54673872,\n",
       "        17.75393299,  18.11899959,  24.47687963,  21.50963319,\n",
       "        25.24961984,  25.07522923,  22.5855303 ,  18.67129347,\n",
       "        25.53209797,  25.53691959,  24.32108991,  20.09431668,\n",
       "        19.77695386,  23.58252039,  20.88918575,  18.99539359,\n",
       "        22.40141724,  23.68155482,  23.19354066,  21.64959785,\n",
       "        20.55308331,  19.89157952,  22.67600586,  21.67552503,\n",
       "        21.66719413,  31.20563447,  22.95624487,  28.40982129,\n",
       "        29.89648722,  17.45009055,  15.52510055,  26.62022313,\n",
       "        28.39559272,  25.73836995,  23.07149569,  22.98563745,\n",
       "        18.35781749,  27.36534329,  17.13379482,  19.69569686,\n",
       "        22.02743252,  25.26701369,  24.20719578,  21.00359071,\n",
       "        24.40767506,  20.76757819,  17.78299487,  21.17575796,\n",
       "        42.99885867,   8.60492757,  13.3826745 ,   3.90043615,\n",
       "        19.27857772,  32.01499006,  34.62437303,  23.66762334,\n",
       "        24.59599061,   5.55853252,  -0.96748832,  27.80458159,\n",
       "        19.67776581,  22.3267948 ,  17.57700093,  17.89811762,\n",
       "        17.7786572 ,  20.2054803 ,  13.63964529,  13.29978976,\n",
       "         1.32488781,   8.56307339,   5.16650704,   5.8724401 ,\n",
       "         5.98586156,  13.88107522,  17.24806666,  18.34642072,\n",
       "         9.42880079,  20.96685068,  18.22330666,  21.73926174,\n",
       "        20.81194934,  16.48301632,   7.66891078,  12.16692547,\n",
       "        13.54898394,  19.352572  ,  19.76906306,  12.62844635,\n",
       "         8.159395  ,   9.37886624,   4.51597666,  18.02846695,\n",
       "        12.31650192,  19.69738446,  11.28120355,  15.75480002,\n",
       "        -2.30618506,   8.56814219,  -5.99470475,  10.14849512,\n",
       "        14.23022714,   5.49798809,   5.62567535,  16.07962178,\n",
       "        20.73532293,  18.46171429,  16.40225664,  11.34331972,\n",
       "        10.71974896,   8.77514271,  13.0849539 ,  13.03886932,\n",
       "        13.94394244,  13.1063034 ,  16.28066803,  18.03035979,\n",
       "        19.41971135,  17.27244261,  15.64172856,  15.16865582,\n",
       "        14.94463401,   9.30678582,   6.07336314,  14.16002022,\n",
       "        14.33447539,  19.71850395,  20.38796312,  20.51899386,\n",
       "        12.37451685,  13.95663522,  19.35056895,  19.9800292 ,\n",
       "        19.06547512,  18.80155745,  16.97629847,  21.66292343,\n",
       "        20.24581581,  26.39736227,  15.98360243,  16.23503465,\n",
       "        11.86660983,  11.92720048,  18.42483649,  19.77310272,\n",
       "        20.86482894,  21.86141085,  21.47465987,  24.09415227,\n",
       "        21.11984445,  17.59049823,  12.66324718,  16.25568804,\n",
       "        16.49370429,  17.47318727,  19.92463947,  21.74904806,\n",
       "        22.54533394,  26.81719677,  14.25525378,  15.7332044 ,\n",
       "        21.28563771,  10.23707655,  19.15446657,  21.42030859,\n",
       "        22.44747184,  26.67747623,  28.76406891,  19.47632396,\n",
       "        18.81627622,  22.39814296,  19.49615588,  20.31449084,\n",
       "        12.51818043,   9.07208832,   4.3402217 ,  15.48820833,\n",
       "        17.4340171 ,  20.13772833,  20.849156  ,  17.31150825,\n",
       "        13.90171983,  19.15846602,  21.49276026,  17.85576329,\n",
       "        20.76330033,  25.67232227,  23.32094585,  29.83874516,\n",
       "        28.15190026,  23.04768829])"
      ]
     },
     "execution_count": 206,
     "metadata": {},
     "output_type": "execute_result"
    }
   ],
   "source": [
    "#연습문제 2-3\n",
    "from sklearn.datasets import load_boston\n",
    "boston = load_boston()\n",
    "X = boston.data\n",
    "y = boston.target\n",
    "\n",
    "Xpinv = np.dot(np.linalg.inv(np.dot(X.T, X)), X.T)\n",
    "Xpinv\n",
    "\n",
    "w = np.dot(Xpinv, y)\n",
    "print(w[0:4])\n",
    "\n",
    "\n",
    "print(y[0:10])\n",
    "np.dot(X, w)"
   ]
  },
  {
   "cell_type": "code",
   "execution_count": 213,
   "metadata": {},
   "outputs": [
    {
     "name": "stdout",
     "output_type": "stream",
     "text": [
      "[ -9.16297843e-02   4.86751203e-02  -3.77930006e-03   2.85636751e+00\n",
      "  -2.88077933e+00   5.92521432e+00  -7.22447929e-03  -9.67995240e-01\n",
      "   1.70443393e-01  -9.38925373e-03  -3.92425680e-01   1.49832102e-02\n",
      "  -4.16972624e-01]\n",
      "x 1 = -0.0916297843121869\n",
      "x 5 = -2.8807793263209094\n",
      "x 6 = 5.925214318082783\n",
      "x 7 = -0.0072244792886887454\n"
     ]
    }
   ],
   "source": [
    "from sklearn.datasets import load_boston\n",
    "boston = load_boston()\n",
    "X = boston.data\n",
    "y = boston.target\n",
    "A = X\n",
    "b = y\n",
    "\n",
    "x, resid, rank, s = np.linalg.lstsq(A, b)\n",
    "print(x)\n",
    "\n",
    "\n",
    "for i in [0,4,5,6]:\n",
    "    print(\"x\",i+1,\"=\",float(x[i]))"
   ]
  },
  {
   "cell_type": "markdown",
   "metadata": {},
   "source": [
    "------\n",
    "\n",
    "# 선형대수와 해석기하의 기초\n",
    "\n",
    "## 벡터의 기하학적 의미"
   ]
  },
  {
   "cell_type": "code",
   "execution_count": 214,
   "metadata": {},
   "outputs": [
    {
     "data": {
      "image/png": "[encoded data removed]",
      "text/plain": [
       "<matplotlib.figure.Figure at 0x18d3ea79160>"
      ]
     },
     "metadata": {},
     "output_type": "display_data"
    }
   ],
   "source": [
    "a = np.array([1, 2])\n",
    "\n",
    "plt.annotate('', xy=a, xytext=(0, 0), arrowprops=dict(facecolor='black'))\n",
    "plt.plot(0, 0, 'kP', ms=20)\n",
    "plt.plot(a[0], a[1], 'ro', ms=20)\n",
    "plt.text(0.35, 1.15, \"$a$\", fontdict={\"size\": 18})\n",
    "plt.text(1.15, 2.25, \"$(1,2)$\", fontdict={\"size\": 18})\n",
    "\n",
    "plt.annotate('', xy=a + [-1, 1], xytext=(-1, 1),\n",
    "             arrowprops=dict(facecolor='black'))\n",
    "plt.text(-0.7, 2.1, \"$a$\", fontdict={\"size\": 18})\n",
    "\n",
    "plt.xticks(np.arange(-2, 4))\n",
    "plt.yticks(np.arange(-1, 4))\n",
    "plt.xlim(-2.4, 3.4)\n",
    "plt.ylim(-0.8, 3.4)\n",
    "plt.show()"
   ]
  },
  {
   "cell_type": "code",
   "execution_count": 215,
   "metadata": {},
   "outputs": [
    {
     "data": {
      "text/plain": [
       "2.2360679774997898"
      ]
     },
     "execution_count": 215,
     "metadata": {},
     "output_type": "execute_result"
    }
   ],
   "source": [
    "#벡터의 길이\n",
    "\n",
    "a = np.array([1, 2])\n",
    "np.linalg.norm(a)"
   ]
  },
  {
   "cell_type": "markdown",
   "metadata": {},
   "source": [
    "## 스칼라와 벡터의 곱"
   ]
  },
  {
   "cell_type": "code",
   "execution_count": 216,
   "metadata": {},
   "outputs": [
    {
     "data": {
      "image/png": "[encoded data removed]",
      "text/plain": [
       "<matplotlib.figure.Figure at 0x18d3f6427b8>"
      ]
     },
     "metadata": {},
     "output_type": "display_data"
    }
   ],
   "source": [
    "a = np.array([1, 2])\n",
    "b = 2 * a\n",
    "c = -1 * a\n",
    "\n",
    "plt.annotate('', xy=b, xytext=(0,0), arrowprops=dict(facecolor='red'))\n",
    "plt.text(0.8, 3.1, \"$2a$\", fontdict={\"size\": 18})\n",
    "plt.text(2.2, 3.8, \"$(2, 4)$\", fontdict={\"size\": 18})\n",
    "\n",
    "plt.annotate('', xy=a, xytext=(0,0), arrowprops=dict(facecolor='gray'))\n",
    "plt.text(0.1, 1.3, \"$a$\", fontdict={\"size\": 18})\n",
    "plt.text(1.1, 1.4, \"$(1, 2)$\", fontdict={\"size\": 18})\n",
    "\n",
    "plt.plot(c[0], c[1], 'ro', ms=10)\n",
    "plt.annotate('', xy=c, xytext=(0,0), arrowprops=dict(facecolor='blue'))\n",
    "plt.text(-1.3, -0.8, \"$-a$\", fontdict={\"size\": 18})\n",
    "plt.text(-3, -2.5, \"$(-1, -2)$\", fontdict={\"size\": 18})\n",
    "\n",
    "plt.plot(0, 0, 'kP', ms=20)\n",
    "\n",
    "plt.xticks(np.arange(-5, 6))\n",
    "plt.yticks(np.arange(-5, 6))\n",
    "plt.xlim(-4.4, 5.4)\n",
    "plt.ylim(-3.2, 5.2)\n",
    "plt.show()"
   ]
  },
  {
   "cell_type": "code",
   "execution_count": 218,
   "metadata": {},
   "outputs": [
    {
     "data": {
      "text/plain": [
       "(1.0, 1.0, 0.99999999999999989)"
      ]
     },
     "execution_count": 218,
     "metadata": {},
     "output_type": "execute_result"
    }
   ],
   "source": [
    "#단위벡터\n",
    "a = np.array([1, 0])\n",
    "b = np.array([0, 1])\n",
    "c = np.array([1/np.sqrt(2), 1/np.sqrt(2)])\n",
    "np.linalg.norm(a), np.linalg.norm(b), np.linalg.norm(c)"
   ]
  },
  {
   "cell_type": "code",
   "execution_count": 220,
   "metadata": {},
   "outputs": [
    {
     "data": {
      "image/png": "[encoded data removed]",
      "text/plain": [
       "<matplotlib.figure.Figure at 0x18d3eba4ef0>"
      ]
     },
     "metadata": {},
     "output_type": "display_data"
    }
   ],
   "source": [
    "#벡터의 합\n",
    "a = np.array([1, 2])\n",
    "b = np.array([2, 1])\n",
    "c = a + b\n",
    "\n",
    "plt.annotate('', xy=a, xytext=(0,0), arrowprops=dict(facecolor='gray'))\n",
    "plt.annotate('', xy=b, xytext=(0,0), arrowprops=dict(facecolor='gray'))\n",
    "plt.annotate('', xy=c, xytext=(0,0), arrowprops=dict(facecolor='black'))\n",
    "\n",
    "plt.plot(0, 0, 'kP', ms=10)\n",
    "plt.plot(a[0], a[1], 'ro', ms=10)\n",
    "plt.plot(b[0], b[1], 'ro', ms=10)\n",
    "plt.plot(c[0], c[1], 'ro', ms=10)\n",
    "plt.plot([a[0], c[0]], [a[1], c[1]], 'k--')\n",
    "plt.plot([b[0], c[0]], [b[1], c[1]], 'k--')\n",
    "\n",
    "plt.text(0.35, 1.15, \"$a$\", fontdict={\"size\": 18})\n",
    "plt.text(1.15, 0.25, \"$b$\", fontdict={\"size\": 18})\n",
    "plt.text(1.25, 1.45, \"$c$\", fontdict={\"size\": 18})\n",
    "\n",
    "plt.xticks(np.arange(-2, 5))\n",
    "plt.yticks(np.arange(-1, 4))\n",
    "plt.xlim(-1.4, 4.4)\n",
    "plt.ylim(-0.6, 3.8)\n",
    "plt.show()"
   ]
  },
  {
   "cell_type": "code",
   "execution_count": 221,
   "metadata": {},
   "outputs": [
    {
     "data": {
      "image/png": "[encoded data removed]",
      "text/plain": [
       "<matplotlib.figure.Figure at 0x18d3ea7c2e8>"
      ]
     },
     "metadata": {},
     "output_type": "display_data"
    }
   ],
   "source": [
    "a = np.array([1, 2])\n",
    "b = np.array([2, 1])\n",
    "c = a + b\n",
    "\n",
    "plt.annotate('', xy=a, xytext=(0,0), arrowprops=dict(facecolor='gray'))\n",
    "plt.annotate('', xy=c, xytext=a, arrowprops=dict(facecolor='gray'))\n",
    "plt.annotate('', xy=c, xytext=(0,0), arrowprops=dict(facecolor='black'))\n",
    "\n",
    "plt.plot(0, 0, 'kP', ms=10)\n",
    "plt.plot(a[0], a[1], 'ro', ms=10)\n",
    "plt.plot(c[0], c[1], 'ro', ms=10)\n",
    "\n",
    "plt.text(0.35, 1.15, \"$a$\", fontdict={\"size\": 18})\n",
    "plt.text(1.45, 2.45, \"$b$\", fontdict={\"size\": 18})\n",
    "plt.text(1.25, 1.45, \"$c$\", fontdict={\"size\": 18})\n",
    "\n",
    "plt.xticks(np.arange(-2, 5))\n",
    "plt.yticks(np.arange(-1, 4))\n",
    "plt.xlim(-1.4, 4.4)\n",
    "plt.ylim(-0.6, 3.8)\n",
    "plt.show()"
   ]
  },
  {
   "cell_type": "code",
   "execution_count": 222,
   "metadata": {},
   "outputs": [
    {
     "data": {
      "image/png": "[encoded data removed]",
      "text/plain": [
       "<matplotlib.figure.Figure at 0x18d3f2d9da0>"
      ]
     },
     "metadata": {},
     "output_type": "display_data"
    }
   ],
   "source": [
    "#벡터의 차\n",
    "a = np.array([1, 2])\n",
    "b = np.array([2, 1])\n",
    "c = a - b\n",
    "\n",
    "plt.annotate('', xy=a, xytext=(0,0), arrowprops=dict(facecolor='gray'))\n",
    "plt.annotate('', xy=b, xytext=(0,0), arrowprops=dict(facecolor='gray'))\n",
    "plt.annotate('', xy=a, xytext=b, arrowprops=dict(facecolor='black'))\n",
    "\n",
    "plt.plot(0, 0, 'kP', ms=10)\n",
    "plt.plot(a[0], a[1], 'ro', ms=10)\n",
    "plt.plot(b[0], b[1], 'ro', ms=10)\n",
    "\n",
    "plt.text(0.35, 1.15, \"$a$\", fontdict={\"size\": 18})\n",
    "plt.text(1.15, 0.25, \"$b$\", fontdict={\"size\": 18})\n",
    "plt.text(1.55, 1.65, \"$a-b$\", fontdict={\"size\": 18})\n",
    "\n",
    "plt.xticks(np.arange(-2, 5))\n",
    "plt.yticks(np.arange(-1, 4))\n",
    "plt.xlim(-0.8, 2.8)\n",
    "plt.ylim(-0.8, 2.8)\n",
    "plt.show()"
   ]
  },
  {
   "cell_type": "markdown",
   "metadata": {},
   "source": [
    "## Word2Vec ★★★★★\n",
    "\n",
    "- 책의 첫 몇 단어를 입력하면 그 다음 단어를 뱉어내는 트레이닝 툴\n",
    "- http://w.elnn.kr/search/\n"
   ]
  },
  {
   "cell_type": "code",
   "execution_count": 223,
   "metadata": {},
   "outputs": [
    {
     "data": {
      "image/png": "[encoded data removed]",
      "text/plain": [
       "<matplotlib.figure.Figure at 0x18d3f31c1d0>"
      ]
     },
     "metadata": {},
     "output_type": "display_data"
    }
   ],
   "source": [
    "a = np.array([3, 4])\n",
    "b = np.array([4, 3])\n",
    "c = a + b\n",
    "\n",
    "plt.annotate('', xy=a, xytext=(2,2), arrowprops=dict(facecolor='gray', ls=\"dashed\"))\n",
    "plt.annotate('', xy=(5,5), xytext=b, arrowprops=dict(facecolor='gray', ls=\"dashed\"))\n",
    "\n",
    "plt.plot(0, 0, 'kP', ms=10)\n",
    "plt.plot(2, 2, 'ro', ms=10)\n",
    "plt.plot(a[0], a[1], 'ro', ms=10)\n",
    "plt.plot(b[0], b[1], 'ro', ms=10)\n",
    "plt.plot(c[0], c[1], 'ro', ms=10)\n",
    "\n",
    "plt.text(1.6, 1.6, \"$king$\", fontdict={\"size\": 18})\n",
    "plt.text(2.5, 4.3, \"$queen$\", fontdict={\"size\": 18})\n",
    "plt.text(4, 2.6, \"$man$\", fontdict={\"size\": 18})\n",
    "plt.text(4.9, 5.1, \"$woman$\", fontdict={\"size\": 18})\n",
    "\n",
    "plt.xticks(np.arange(-2, 7))\n",
    "plt.yticks(np.arange(-1, 6))\n",
    "plt.xlim(-1.4, 6.4)\n",
    "plt.ylim(-0.6, 5.8)\n",
    "plt.show()"
   ]
  },
  {
   "cell_type": "code",
   "execution_count": 225,
   "metadata": {},
   "outputs": [
    {
     "data": {
      "image/png": "[encoded data removed]",
      "text/plain": [
       "<matplotlib.figure.Figure at 0x18d3eb35668>"
      ]
     },
     "metadata": {},
     "output_type": "display_data"
    }
   ],
   "source": [
    "#벡터의 내적과 코사인유사도\n",
    "a = np.array([1, 2])\n",
    "b = np.array([2, 0])\n",
    "a2 = np.dot(a, b)/np.linalg.norm(b) * np.array([1, 0])\n",
    "\n",
    "plt.annotate('', xy=a, xytext=(0,0), arrowprops=dict(fc='green'))\n",
    "plt.annotate('', xy=a2, xytext=(0,0), arrowprops=dict(fc='green'))\n",
    "\n",
    "plt.text(0.35, 1.15, \"$a$\", fontdict={\"size\": 18})\n",
    "plt.text(0.50, -0.35, \"$b$\", fontdict={\"size\": 18})\n",
    "plt.text(0.20, 0.125, r\"$\\theta$\", fontdict={\"size\": 18})\n",
    "\n",
    "plt.xticks(np.arange(-2, 4))\n",
    "plt.yticks(np.arange(-1, 4))\n",
    "plt.xlim(-1.1, 2.1)\n",
    "plt.ylim(-0.5, 2.3)\n",
    "plt.show()"
   ]
  },
  {
   "cell_type": "code",
   "execution_count": 227,
   "metadata": {},
   "outputs": [
    {
     "data": {
      "image/png": "[encoded data removed]",
      "text/plain": [
       "<matplotlib.figure.Figure at 0x18d3f3aa978>"
      ]
     },
     "metadata": {},
     "output_type": "display_data"
    }
   ],
   "source": [
    "x = np.linspace(-2, 7, 100)\n",
    "y = np.cos(x)\n",
    "plt.plot(x, y)\n",
    "plt.xticks([-np.pi/2, 0, np.pi/2, np.pi, 3*np.pi/2, 2*np.pi], \n",
    "           [r'$-90^{\\circ}$', r'$0^{\\circ}$', r'$90^{\\circ}$', r'$180^{\\circ}$', r'$270^{\\circ}$', r'$360^{\\circ}$'])\n",
    "plt.xlabel(r\"$\\theta$\")\n",
    "plt.ylabel(r\"$\\cos\\theta$\")\n",
    "plt.title(r\"Graph of $\\cos\\theta$\")\n",
    "plt.show()"
   ]
  },
  {
   "cell_type": "code",
   "execution_count": null,
   "metadata": {},
   "outputs": [],
   "source": []
  },
  {
   "cell_type": "code",
   "execution_count": null,
   "metadata": {},
   "outputs": [],
   "source": []
  },
  {
   "cell_type": "code",
   "execution_count": null,
   "metadata": {},
   "outputs": [],
   "source": []
  },
  {
   "cell_type": "code",
   "execution_count": null,
   "metadata": {},
   "outputs": [],
   "source": []
  }
 ],
 "metadata": {
  "kernelspec": {
   "display_name": "Python 3",
   "language": "python",
   "name": "python3"
  },
  "language_info": {
   "codemirror_mode": {
    "name": "ipython",
    "version": 3
   },
   "file_extension": ".py",
   "mimetype": "text/x-python",
   "name": "python",
   "nbconvert_exporter": "python",
   "pygments_lexer": "ipython3",
   "version": "3.6.3"
  }
 },
 "nbformat": 4,
 "nbformat_minor": 2
}
