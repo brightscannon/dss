{
 "cells": [
  {
   "cell_type": "markdown",
   "metadata": {},
   "source": [
    "Google spredsheet\n",
    "- https://developers.google.com/sheets/api/quickstart/python"
   ]
  },
  {
   "cell_type": "markdown",
   "metadata": {},
   "source": [
    "##### google api 사용자 인증 설정\n",
    "\n",
    "go to site\n",
    "- https://console.developers.google.com/apis/library\n",
    "- google drive api 검색후 이동\n",
    "\n",
    "\n",
    "google drive api\n",
    "- https://console.developers.google.com/apis/library/drive.googleapis.com/\n",
    "- 사용 설정\n",
    "\n",
    "사용자 인증정보 만들기\n",
    "- 웹서버, 애플리케이션 데이터, 아니요 사용하지 않습니다.\n",
    "- 서비스 계정이름 : python, 역할 : 편집자 설정\n",
    "- downlaod json file\n",
    "- 다운로드 받은 json 파일 spreadsheet 디렉토리로 이동\n",
    "\n",
    "스프레드시트 생성 & api 연결\n",
    "- 우측 상단의 공유 버튼 클릭\n",
    "- json file : client email 추가\n",
    "- 전송\n",
    "\n",
    "패키지 인스톨\n",
    "- pip3 install gspread oauth2client\n",
    "\n"
   ]
  },
  {
   "cell_type": "markdown",
   "metadata": {},
   "source": [
    "gspread\n",
    "- https://github.com/burnash/gspread"
   ]
  },
  {
   "cell_type": "markdown",
   "metadata": {},
   "source": [
    "##### import"
   ]
  },
  {
   "cell_type": "code",
   "execution_count": 1,
   "metadata": {},
   "outputs": [],
   "source": [
    "import gspread\n",
    "from oauth2client.service_account import ServiceAccountCredentials"
   ]
  },
  {
   "cell_type": "markdown",
   "metadata": {},
   "source": [
    "##### access"
   ]
  },
  {
   "cell_type": "code",
   "execution_count": 2,
   "metadata": {},
   "outputs": [],
   "source": [
    "scope = ['https://spreadsheets.google.com/feeds']\n",
    "creds = ServiceAccountCredentials.from_json_keyfile_name('client_secret.json', scope)\n",
    "client = gspread.authorize(creds)"
   ]
  },
  {
   "cell_type": "markdown",
   "metadata": {},
   "source": [
    "##### open sheet"
   ]
  },
  {
   "cell_type": "code",
   "execution_count": 3,
   "metadata": {},
   "outputs": [],
   "source": [
    "sheet = client.open('email').sheet1"
   ]
  },
  {
   "cell_type": "markdown",
   "metadata": {},
   "source": [
    "##### get records"
   ]
  },
  {
   "cell_type": "code",
   "execution_count": 4,
   "metadata": {},
   "outputs": [
    {
     "data": {
      "text/plain": [
       "[{'': 1, '이름': '박두진', '이메일': 'radajin@gmail.com'},\n",
       " {'': 2, '이름': '김상진', '이메일': '1221pdj@naver.com'},\n",
       " {'': 3, '이름': '최운성', '이메일': 'pdj1224@daum.net'}]"
      ]
     },
     "execution_count": 4,
     "metadata": {},
     "output_type": "execute_result"
    }
   ],
   "source": [
    "result = sheet.get_all_records()\n",
    "result"
   ]
  },
  {
   "cell_type": "code",
   "execution_count": 5,
   "metadata": {},
   "outputs": [
    {
     "data": {
      "text/plain": [
       "['3', '최운성', 'pdj1224@daum.net']"
      ]
     },
     "execution_count": 5,
     "metadata": {},
     "output_type": "execute_result"
    }
   ],
   "source": [
    "# get second row values\n",
    "result = sheet.row_values(4)[:3]\n",
    "result"
   ]
  },
  {
   "cell_type": "code",
   "execution_count": 6,
   "metadata": {},
   "outputs": [
    {
     "data": {
      "text/plain": [
       "['이름', '박두진', '김상진', '최운성']"
      ]
     },
     "execution_count": 6,
     "metadata": {},
     "output_type": "execute_result"
    }
   ],
   "source": [
    "# get second column values\n",
    "result = sheet.col_values(2)[:4]\n",
    "result"
   ]
  },
  {
   "cell_type": "code",
   "execution_count": 7,
   "metadata": {},
   "outputs": [
    {
     "data": {
      "text/plain": [
       "'radajin@gmail.com'"
      ]
     },
     "execution_count": 7,
     "metadata": {},
     "output_type": "execute_result"
    }
   ],
   "source": [
    "# get cell vaules\n",
    "result = sheet.cell(2,3).value\n",
    "result"
   ]
  },
  {
   "cell_type": "code",
   "execution_count": 8,
   "metadata": {},
   "outputs": [
    {
     "name": "stdout",
     "output_type": "stream",
     "text": [
      "\n",
      "이름\n",
      "이메일\n",
      "1\n",
      "박두진\n",
      "radajin@gmail.com\n",
      "2\n",
      "김상진\n",
      "1221pdj@naver.com\n",
      "3\n",
      "최운성\n",
      "pdj1224@daum.net\n"
     ]
    }
   ],
   "source": [
    "cell_list = sheet.range('A1:C4')\n",
    "for cell in cell_list:\n",
    "    print(cell.value)"
   ]
  },
  {
   "cell_type": "markdown",
   "metadata": {},
   "source": [
    "##### update cells"
   ]
  },
  {
   "cell_type": "code",
   "execution_count": 9,
   "metadata": {},
   "outputs": [
    {
     "name": "stdout",
     "output_type": "stream",
     "text": [
      "CPU times: user 14.9 ms, sys: 2.87 ms, total: 17.8 ms\n",
      "Wall time: 1.79 s\n"
     ]
    }
   ],
   "source": [
    "%%time\n",
    "sheet.update_cell(2, 3, 'radajin1224@gmail.com')\n",
    "result = sheet.cell(2,3).value\n",
    "result"
   ]
  },
  {
   "cell_type": "markdown",
   "metadata": {},
   "source": [
    "##### insert row"
   ]
  },
  {
   "cell_type": "code",
   "execution_count": 10,
   "metadata": {},
   "outputs": [
    {
     "name": "stdout",
     "output_type": "stream",
     "text": [
      "CPU times: user 3.44 s, sys: 365 ms, total: 3.8 s\n",
      "Wall time: 1min 39s\n"
     ]
    }
   ],
   "source": [
    "%%time\n",
    "rows = [\"3\", \"이민성\", \"pdj1224@gmail.com\"]\n",
    "index = 4\n",
    "sheet.insert_row(rows, index)"
   ]
  },
  {
   "cell_type": "code",
   "execution_count": 11,
   "metadata": {},
   "outputs": [
    {
     "data": {
      "text/plain": [
       "[{'': 1, '이름': '박두진', '이메일': 'radajin1224@gmail.com'},\n",
       " {'': 2, '이름': '김상진', '이메일': '1221pdj@naver.com'},\n",
       " {'': 3, '이름': '이민성', '이메일': 'pdj1224@gmail.com'},\n",
       " {'': 3, '이름': '최운성', '이메일': 'pdj1224@daum.net'}]"
      ]
     },
     "execution_count": 11,
     "metadata": {},
     "output_type": "execute_result"
    }
   ],
   "source": [
    "result = sheet.get_all_records()\n",
    "result"
   ]
  },
  {
   "cell_type": "markdown",
   "metadata": {},
   "source": [
    "##### delete row"
   ]
  },
  {
   "cell_type": "code",
   "execution_count": 12,
   "metadata": {},
   "outputs": [
    {
     "name": "stdout",
     "output_type": "stream",
     "text": [
      "CPU times: user 3.25 s, sys: 296 ms, total: 3.55 s\n",
      "Wall time: 1min 15s\n"
     ]
    }
   ],
   "source": [
    "%%time\n",
    "sheet.delete_row(4)"
   ]
  },
  {
   "cell_type": "code",
   "execution_count": 13,
   "metadata": {},
   "outputs": [
    {
     "data": {
      "text/plain": [
       "[{'': 1, '이름': '박두진', '이메일': 'radajin1224@gmail.com'},\n",
       " {'': 2, '이름': '김상진', '이메일': '1221pdj@naver.com'},\n",
       " {'': 3, '이름': '최운성', '이메일': 'pdj1224@daum.net'}]"
      ]
     },
     "execution_count": 13,
     "metadata": {},
     "output_type": "execute_result"
    }
   ],
   "source": [
    "result = sheet.get_all_records()\n",
    "result"
   ]
  },
  {
   "cell_type": "code",
   "execution_count": 14,
   "metadata": {},
   "outputs": [
    {
     "data": {
      "text/plain": [
       "(994, 26)"
      ]
     },
     "execution_count": 14,
     "metadata": {},
     "output_type": "execute_result"
    }
   ],
   "source": [
    "sheet = client.open('email').sheet1\n",
    "sheet.row_count, sheet.col_count"
   ]
  },
  {
   "cell_type": "code",
   "execution_count": null,
   "metadata": {},
   "outputs": [],
   "source": []
  }
 ],
 "metadata": {
  "kernelspec": {
   "display_name": "Python 3",
   "language": "python",
   "name": "python3"
  },
  "language_info": {
   "codemirror_mode": {
    "name": "ipython",
    "version": 3
   },
   "file_extension": ".py",
   "mimetype": "text/x-python",
   "name": "python",
   "nbconvert_exporter": "python",
   "pygments_lexer": "ipython3",
   "version": "3.6.4"
  }
 },
 "nbformat": 4,
 "nbformat_minor": 2
}
