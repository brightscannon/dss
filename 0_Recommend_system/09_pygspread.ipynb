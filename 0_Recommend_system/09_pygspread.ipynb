{
 "cells": [
  {
   "cell_type": "markdown",
   "metadata": {},
   "source": [
    "#### 0. oauth\n",
    "- https://oauth.net/2/\n",
    "- 2006년에 IETF(Internet Engineering Task Force) OAuth Working Group에서 개발되고 유지보수 되는 인증을 위한 표준 프로토콜\n",
    "- secret key, request token, access token, refresh token\n",
    "- https://confluence.atlassian.com/bitbucket/oauth-endpoint-300220600.html"
   ]
  },
  {
   "cell_type": "markdown",
   "metadata": {},
   "source": [
    "#### 1. Install Package\n",
    "- mac\n",
    "    - `$ pip install pygsheets oauth2client`\n",
    "- windows\n",
    "    - `$ pip install pygsheets oauth2client`\n",
    "    - `$ conda install -c marta-sd pygsheets`"
   ]
  },
  {
   "cell_type": "markdown",
   "metadata": {},
   "source": [
    "windows에서 아래의 에러가 발생하면 pip로 설치합니다.\n",
    "- TypeError: parse() got an unexpected keyword argument 'transport_encoding'\n",
    "    - `$ conda install pip`\n",
    "    - `$ pip install pygsheets`"
   ]
  },
  {
   "cell_type": "code",
   "execution_count": 1,
   "metadata": {},
   "outputs": [],
   "source": [
    "import pygsheets"
   ]
  },
  {
   "cell_type": "markdown",
   "metadata": {},
   "source": [
    "#### 2. authorizing - secret token 받기\n",
    "- reference\n",
    "    - http://pygsheets.readthedocs.io/en/latest/authorizing.html\n",
    "\n",
    "1. 콘솔 페이지로 이동 - https://console.developers.google.com\n",
    "2. 왼쪽 상단의 프로젝트 만들기로 DSS8 프로젝트를 만듦\n",
    "3. 좌측의 라이브러리 탭에서 Google Sheets API, Google Drive API를 추가(사용설정 클릭)\n",
    "4. 사용자 인정 정보 탭으로 이동\n",
    "5. Oauth 동의 화면으로 이동\n",
    "6. 저장 클릭\n",
    "7. 사용자 인증정보 클릭\n",
    "8. Oauth 클라이언트 ID 클릭\n",
    "9. 기타 선택후 dss8로 이름 설정후 확인 클릭\n",
    "10. 우측의 다운로드 버튼 클릭 (json 확장자의 키 파일이 다운로드 된다.)\n",
    "11. 다운로드 받은 파일을 노트북과 같은 디렉토리에 위치하도록 파일을 이동 및 파일이름을 \"client_secret.json\"으로 변경"
   ]
  },
  {
   "cell_type": "markdown",
   "metadata": {},
   "source": [
    "windows에서 아래의 에러가 발생하면 `no_cache = True` 옵션을 설정해 줍니다.\n",
    "- FileNotFoundError: [Errno 2] No such file or directory:\n",
    "    - gc = pygsheets.authorize(outh_file='client_secret.json', no_cache = True)"
   ]
  },
  {
   "cell_type": "code",
   "execution_count": 2,
   "metadata": {},
   "outputs": [
    {
     "name": "stdout",
     "output_type": "stream",
     "text": [
      "\n",
      "Your browser has been opened to visit:\n",
      "\n",
      "    https://accounts.google.com/o/oauth2/auth?client_id=332221537165-5ej1bu4pnl7ade057ldloann361brfg1.apps.googleusercontent.com&redirect_uri=http%3A%2F%2Flocalhost%3A8080%2F&scope=https%3A%2F%2Fwww.googleapis.com%2Fauth%2Fspreadsheets+https%3A%2F%2Fwww.googleapis.com%2Fauth%2Fdrive&access_type=offline&response_type=code\n",
      "\n",
      "If your browser is on a different machine then exit and re-run this\n",
      "application with the command-line parameter\n",
      "\n",
      "  --noauth_local_webserver\n",
      "\n",
      "Authentication successful.\n",
      "Storing credentials to C:\\dss\\0_Recommend_system\\sheets.googleapis.com-python.json\n"
     ]
    },
    {
     "data": {
      "text/plain": [
       "<pygsheets.client.Client at 0x1827bd1f400>"
      ]
     },
     "execution_count": 2,
     "metadata": {},
     "output_type": "execute_result"
    }
   ],
   "source": [
    "# 아래 코드를 실행하면 auth 인증창이 실행되고 로그인후에 허용을 하면 access_token을 받아온다.\n",
    "gc = pygsheets.authorize(outh_file='client_secret.json', no_cash=True)\n",
    "gc"
   ]
  },
  {
   "cell_type": "markdown",
   "metadata": {},
   "source": [
    "#### 3. open sheet\n",
    "- 구글 드라이브로 가서 새로운 시트를 만듭니다.\n",
    "- 시트 파일 이름으로 시트를 오픈합니다.\n",
    "- open 함수에 시트의 이름을 파라미터로 넣어 구글 드라이버에 있는 시트 파일을 아래와 같이 열수 있습니다.\n",
    "- sh로 오픈한 시트 파일의 시트는 sh.sheet1으로 첫번째 시트를 가져올수 있습니다.\n",
    "- 처음에는 항상 첫번째 시트를 가져오고 selecting기능으로 다른 시트에 접근할수 있습니다."
   ]
  },
  {
   "cell_type": "code",
   "execution_count": 3,
   "metadata": {},
   "outputs": [
    {
     "data": {
      "text/html": [
       "<div>\n",
       "<style>\n",
       "    .dataframe thead tr:only-child th {\n",
       "        text-align: right;\n",
       "    }\n",
       "\n",
       "    .dataframe thead th {\n",
       "        text-align: left;\n",
       "    }\n",
       "\n",
       "    .dataframe tbody tr th {\n",
       "        vertical-align: top;\n",
       "    }\n",
       "</style>\n",
       "<table border=\"1\" class=\"dataframe\">\n",
       "  <thead>\n",
       "    <tr style=\"text-align: right;\">\n",
       "      <th></th>\n",
       "      <th>이름</th>\n",
       "      <th>이메일</th>\n",
       "    </tr>\n",
       "  </thead>\n",
       "  <tbody>\n",
       "    <tr>\n",
       "      <th>1</th>\n",
       "      <td>박두진</td>\n",
       "      <td>pdj1224@gmail.com</td>\n",
       "    </tr>\n",
       "    <tr>\n",
       "      <th>2</th>\n",
       "      <td>김상진</td>\n",
       "      <td>1221pdj@naver.com</td>\n",
       "    </tr>\n",
       "    <tr>\n",
       "      <th>3</th>\n",
       "      <td>최윤성</td>\n",
       "      <td>pdj1224@daum.net</td>\n",
       "    </tr>\n",
       "  </tbody>\n",
       "</table>\n",
       "</div>"
      ],
      "text/plain": [
       "    이름                이메일\n",
       "1  박두진  pdj1224@gmail.com\n",
       "2  김상진  1221pdj@naver.com\n",
       "3  최윤성   pdj1224@daum.net"
      ]
     },
     "execution_count": 3,
     "metadata": {},
     "output_type": "execute_result"
    }
   ],
   "source": [
    "# 아래의 내용을 데이터 시트에 입력\n",
    "datas = [[\"박두진\", \"pdj1224@gmail.com\"],\n",
    "[\"김상진\", \"1221pdj@naver.com\"],\n",
    "[\"최윤성\", \"pdj1224@daum.net\"]]\n",
    "pd.DataFrame(datas, index=[1,2,3], columns=[\"이름\",\"이메일\"])"
   ]
  },
  {
   "cell_type": "code",
   "execution_count": 4,
   "metadata": {},
   "outputs": [
    {
     "data": {
      "text/plain": [
       "<Worksheet 'Sheet1' index:0>"
      ]
     },
     "execution_count": 4,
     "metadata": {},
     "output_type": "execute_result"
    }
   ],
   "source": [
    "sh = gc.open('email3') # 파일 열기 (sh : 전체 시트에 대한 객체)\n",
    "sheet1 = sh.sheet1    # 시트 접근 (sheet1 : 첫번째 시트에 대한 객체)\n",
    "sheet1"
   ]
  },
  {
   "cell_type": "markdown",
   "metadata": {},
   "source": [
    "#### 4. create sheet\n",
    "- 시트 생성\n",
    "- add_worksheet 함수를 이용하여 생성할 시트이름, 행과 열의 크기를 파라미터로 넘겨 새로운 시트를 생성할수 있습니다."
   ]
  },
  {
   "cell_type": "code",
   "execution_count": 5,
   "metadata": {},
   "outputs": [
    {
     "data": {
      "text/plain": [
       "<Worksheet 'new_sheet' index:1>"
      ]
     },
     "execution_count": 5,
     "metadata": {},
     "output_type": "execute_result"
    }
   ],
   "source": [
    "# 5칸, 20줄을 가지는 new_sheet라는 이름의 새로운 시트를 생성하여 sheet2라는 변수에 넣어줌\n",
    "sheet2 = sh.add_worksheet(\"new_sheet\", rows=20, cols=5)\n",
    "sheet2"
   ]
  },
  {
   "cell_type": "markdown",
   "metadata": {},
   "source": [
    "#### 5. copy sheet\n",
    "- 시트 복사\n",
    "- add_worksheet를 이용하여 src_worksheet 파라미터에 복사할 시트를 파라미터로 넘기면 새로운 시트를 생성할때 src_worksheet에 설정한 시트가 복사 됩니다."
   ]
  },
  {
   "cell_type": "code",
   "execution_count": 6,
   "metadata": {},
   "outputs": [
    {
     "data": {
      "text/plain": [
       "<Worksheet 'email_copied' index:2>"
      ]
     },
     "execution_count": 6,
     "metadata": {},
     "output_type": "execute_result"
    }
   ],
   "source": [
    "# sheet1을 복사하여 email_copied라는 title의 새로운 시트를 생성하여 sheet3이라는 변수에 넣어줌\n",
    "sheet3 = sh.add_worksheet(\"email_copied\", src_worksheet=sheet1)\n",
    "sheet3"
   ]
  },
  {
   "cell_type": "markdown",
   "metadata": {},
   "source": [
    "#### 6. delete sheet\n",
    "- 시트 삭제\n",
    "- del_worksheet에 삭제한 시트 객체를 파라미터로 넘기면 해당 시트가 삭제됩니다."
   ]
  },
  {
   "cell_type": "code",
   "execution_count": 7,
   "metadata": {},
   "outputs": [],
   "source": [
    "# sheet3 변수가 가지는 sheet를 삭제\n",
    "sh.del_worksheet(sheet3)"
   ]
  },
  {
   "cell_type": "markdown",
   "metadata": {},
   "source": [
    "#### 7. selecting  sheet\n",
    "- 시트가 모여있는 객체인 sh 객체에서 원하는 시트하나에 대한객체를 선택해서 가져오는 방법입니다.\n",
    "- 제목과 순서에 대한 값으로 시트를 가져올수 있습니다."
   ]
  },
  {
   "cell_type": "code",
   "execution_count": 8,
   "metadata": {},
   "outputs": [
    {
     "data": {
      "text/plain": [
       "[<Worksheet 'Sheet1' index:0>, <Worksheet 'new_sheet' index:1>]"
      ]
     },
     "execution_count": 8,
     "metadata": {},
     "output_type": "execute_result"
    }
   ],
   "source": [
    "# 모든 시트 리스트로 가져오기\n",
    "sheet_list = sh.worksheets()\n",
    "sheet_list"
   ]
  },
  {
   "cell_type": "code",
   "execution_count": 9,
   "metadata": {},
   "outputs": [
    {
     "name": "stdout",
     "output_type": "stream",
     "text": [
      "<Worksheet 'new_sheet' index:1>\n"
     ]
    }
   ],
   "source": [
    "# 시트 제목으로 가져오기\n",
    "new_sheet = sh.worksheet_by_title(\"new_sheet\")\n",
    "print(new_sheet)"
   ]
  },
  {
   "cell_type": "code",
   "execution_count": 10,
   "metadata": {},
   "outputs": [
    {
     "name": "stdout",
     "output_type": "stream",
     "text": [
      "<Worksheet 'Sheet1' index:0>\n"
     ]
    }
   ],
   "source": [
    "# index로 시트 가져오기\n",
    "sheet0 = sh.worksheet(\"index\", 0)\n",
    "print(sheet0)"
   ]
  },
  {
   "cell_type": "code",
   "execution_count": 11,
   "metadata": {},
   "outputs": [
    {
     "data": {
      "text/plain": [
       "True"
      ]
     },
     "execution_count": 11,
     "metadata": {},
     "output_type": "execute_result"
    }
   ],
   "source": [
    "# 위에 저장한 첫번째 시트인 sheet1과 같은지 확인하기\n",
    "sheet0 == sheet1"
   ]
  },
  {
   "cell_type": "code",
   "execution_count": 12,
   "metadata": {},
   "outputs": [
    {
     "name": "stdout",
     "output_type": "stream",
     "text": [
      "<Worksheet 'Sheet1' index:0>\n"
     ]
    }
   ],
   "source": [
    "# offset으로 가져오기\n",
    "sheet0 = sh[0]\n",
    "print(sheet0)"
   ]
  },
  {
   "cell_type": "code",
   "execution_count": 13,
   "metadata": {},
   "outputs": [
    {
     "data": {
      "text/plain": [
       "True"
      ]
     },
     "execution_count": 13,
     "metadata": {},
     "output_type": "execute_result"
    }
   ],
   "source": [
    "# 위에 저장한 첫번째 시트인 sheet1과 같은지 확인하기\n",
    "sheet0 == sheet1"
   ]
  },
  {
   "cell_type": "markdown",
   "metadata": {},
   "source": [
    "#### 8. get values"
   ]
  },
  {
   "cell_type": "code",
   "execution_count": 19,
   "metadata": {},
   "outputs": [
    {
     "data": {
      "text/plain": [
       "[{'순번': 1, '이름': '박두진', '이메일': 'pdj1224@gmail.com'},\n",
       " {'순번': 2, '이름': '김기성', '이메일': 'brscon@gmail.com'},\n",
       " {'순번': 3, '이름': '장성민', '이메일': 'jsjlife@gmail.com'},\n",
       " {'순번': 4, '이름': '관리자', '이메일': 'rija@gmail.com'},\n",
       " {'순번': 5, '이름': '애드민', '이메일': 'admin@naver.com'}]"
      ]
     },
     "execution_count": 19,
     "metadata": {},
     "output_type": "execute_result"
    }
   ],
   "source": [
    "# 전체 데이터 리스트로 가져오기 (딕셔너리타입)\n",
    "sheet1.get_all_records()"
   ]
  },
  {
   "cell_type": "code",
   "execution_count": 20,
   "metadata": {},
   "outputs": [],
   "source": [
    "# rows와 columns 설정\n",
    "sh[0].rows = 10\n",
    "sh[0].cols = 3"
   ]
  },
  {
   "cell_type": "code",
   "execution_count": 21,
   "metadata": {},
   "outputs": [
    {
     "data": {
      "text/plain": [
       "[['순번', '이름', '이메일'],\n",
       " ['1', '박두진', 'pdj1224@gmail.com'],\n",
       " ['2', '김기성', 'brscon@gmail.com'],\n",
       " ['3', '장성민', 'jsjlife@gmail.com'],\n",
       " ['4', '관리자', 'rija@gmail.com'],\n",
       " ['5', '애드민', 'admin@naver.com']]"
      ]
     },
     "execution_count": 21,
     "metadata": {},
     "output_type": "execute_result"
    }
   ],
   "source": [
    "# 모든 데이터 행렬로 가져오기 (리스트타입)\n",
    "all_data_sheet1 = sheet1.get_all_values(returnas='matrix')\n",
    "all_data_sheet1"
   ]
  },
  {
   "cell_type": "code",
   "execution_count": 22,
   "metadata": {},
   "outputs": [
    {
     "data": {
      "text/plain": [
       "[['박두진', 'pdj1224@gmail.com'], ['김기성', 'brscon@gmail.com']]"
      ]
     },
     "execution_count": 22,
     "metadata": {},
     "output_type": "execute_result"
    }
   ],
   "source": [
    "# 위치를 지정하여 행렬 형태로 데이터 가져오기\n",
    "some_data_sheet1 = sheet1.get_values(start=(2,2), end=(3,3), returnas='matrix')\n",
    "some_data_sheet1"
   ]
  },
  {
   "cell_type": "code",
   "execution_count": 23,
   "metadata": {},
   "outputs": [
    {
     "data": {
      "text/plain": [
       "'김기성'"
      ]
     },
     "execution_count": 23,
     "metadata": {},
     "output_type": "execute_result"
    }
   ],
   "source": [
    "# \"시트[열][행]\"과 같은 방법으로 특정 셀의 데이터를 가져올수 있습니다.\n",
    "value = sheet1[2][1]\n",
    "value"
   ]
  },
  {
   "cell_type": "code",
   "execution_count": 24,
   "metadata": {},
   "outputs": [
    {
     "name": "stdout",
     "output_type": "stream",
     "text": [
      "[<Cell C2 'pdj1224@gmail.com'>]\n"
     ]
    }
   ],
   "source": [
    "# 문자열 찾기 (C2 - 3번째 열, 2번째 줄)\n",
    "cell_list = sh[0].find(\"pdj1224@gmail.com\")\n",
    "print(cell_list)"
   ]
  },
  {
   "cell_type": "code",
   "execution_count": 25,
   "metadata": {},
   "outputs": [
    {
     "data": {
      "text/plain": [
       "[<Cell C2 'radajin1224@gmail.com'>]"
      ]
     },
     "execution_count": 25,
     "metadata": {},
     "output_type": "execute_result"
    }
   ],
   "source": [
    "# 특정 문자열이 있는 셀을 찾아서 다른 문자열로 바꾸기\n",
    "cell_list = sh[0].find(\"pdj1224@gmail.com\", replace=\"radajin1224@gmail.com\")\n",
    "cell_list"
   ]
  },
  {
   "cell_type": "code",
   "execution_count": 26,
   "metadata": {},
   "outputs": [
    {
     "name": "stdout",
     "output_type": "stream",
     "text": [
      "sheet1.csv\n"
     ]
    }
   ],
   "source": [
    "# csv 파일로 export하기\n",
    "sheet1.export(pygsheets.ExportType.CSV, filename=\"sheet1.csv\")"
   ]
  },
  {
   "cell_type": "markdown",
   "metadata": {},
   "source": [
    "#### 9. Update & Insert"
   ]
  },
  {
   "cell_type": "code",
   "execution_count": 27,
   "metadata": {},
   "outputs": [],
   "source": [
    "# A1에서 C4까지의 위치에 some_data_sheet1 데이터로 업데이트함\n",
    "# some_data_sheet1에는 [['박두진', 'pdj1224@gmail.com'], ['김상진', 'pdj1224@daum.net']] 데이터가 들어있음으로 4개의 value가 들어감\n",
    "sh[1].update_cells(crange='A1:C4', values=some_data_sheet1)"
   ]
  },
  {
   "cell_type": "code",
   "execution_count": 28,
   "metadata": {},
   "outputs": [
    {
     "data": {
      "text/plain": [
       "[['박두진', 'pdj1224@gmail.com', '', '', ''],\n",
       " ['김기성', 'brscon@gmail.com', '', '', '']]"
      ]
     },
     "execution_count": 28,
     "metadata": {},
     "output_type": "execute_result"
    }
   ],
   "source": [
    "# sh[1] 위치에 있는 두번째 시트에 대한 모든 데이터를 가져옴\n",
    "all_data_sheet2 = sh[1].get_all_values()\n",
    "all_data_sheet2"
   ]
  },
  {
   "cell_type": "code",
   "execution_count": 29,
   "metadata": {},
   "outputs": [],
   "source": [
    "# 4번째줄 아래로 2줄 삽입 (5,6번째줄에 데이터 삽입)\n",
    "sh[1].insert_rows(row=4, number=2, values=all_data_sheet2)"
   ]
  },
  {
   "cell_type": "code",
   "execution_count": 30,
   "metadata": {},
   "outputs": [],
   "source": [
    "# 시트의 열과 행을 재설정해줌\n",
    "sh[1].rows = 7\n",
    "sh[1].cols = 2"
   ]
  },
  {
   "cell_type": "code",
   "execution_count": 31,
   "metadata": {},
   "outputs": [
    {
     "name": "stdout",
     "output_type": "stream",
     "text": [
      "['박두진', 'pdj1224@gmail.com']\n",
      "['김기성', 'brscon@gmail.com']\n",
      "['', '']\n",
      "['', '']\n",
      "['박두진', 'pdj1224@gmail.com']\n",
      "['김기성', 'brscon@gmail.com']\n"
     ]
    }
   ],
   "source": [
    "# 반복문을 통해 한줄씩 읽어 올수 있음\n",
    "for row in sh[1]:\n",
    "    print(row)"
   ]
  },
  {
   "cell_type": "code",
   "execution_count": 32,
   "metadata": {},
   "outputs": [],
   "source": [
    "# 시트의 제목을 업데이트\n",
    "sh[1].title = \"NewSheet\""
   ]
  },
  {
   "cell_type": "code",
   "execution_count": 33,
   "metadata": {},
   "outputs": [],
   "source": [
    "# 시트의 마지막 데이터를 찾아 마지막 데이터의 아래에 데이터를 추가\n",
    "sh[1].append_table(values=[\"이민성\",\"pdj1224@gmail.com\"])"
   ]
  },
  {
   "cell_type": "code",
   "execution_count": 34,
   "metadata": {},
   "outputs": [
    {
     "data": {
      "text/plain": [
       "7"
      ]
     },
     "execution_count": 34,
     "metadata": {},
     "output_type": "execute_result"
    }
   ],
   "source": [
    "sh[1].rows"
   ]
  },
  {
   "cell_type": "code",
   "execution_count": 35,
   "metadata": {},
   "outputs": [],
   "source": [
    "# 시트 내용 모두 삭제하기\n",
    "sh[1].clear()"
   ]
  },
  {
   "cell_type": "markdown",
   "metadata": {},
   "source": [
    "#### 10. change to pandas\n",
    "- google sheet를 데이터 분석을 위한 파이썬 패키지인 pandas의 DataFrame으로 변환할수 있다."
   ]
  },
  {
   "cell_type": "code",
   "execution_count": 36,
   "metadata": {},
   "outputs": [
    {
     "data": {
      "text/plain": [
       "<Worksheet 'Sheet1' index:0>"
      ]
     },
     "execution_count": 36,
     "metadata": {},
     "output_type": "execute_result"
    }
   ],
   "source": [
    "sheet1"
   ]
  },
  {
   "cell_type": "code",
   "execution_count": 37,
   "metadata": {},
   "outputs": [
    {
     "data": {
      "text/html": [
       "<div>\n",
       "<style>\n",
       "    .dataframe thead tr:only-child th {\n",
       "        text-align: right;\n",
       "    }\n",
       "\n",
       "    .dataframe thead th {\n",
       "        text-align: left;\n",
       "    }\n",
       "\n",
       "    .dataframe tbody tr th {\n",
       "        vertical-align: top;\n",
       "    }\n",
       "</style>\n",
       "<table border=\"1\" class=\"dataframe\">\n",
       "  <thead>\n",
       "    <tr style=\"text-align: right;\">\n",
       "      <th></th>\n",
       "      <th>순번</th>\n",
       "      <th>이름</th>\n",
       "      <th>이메일</th>\n",
       "    </tr>\n",
       "  </thead>\n",
       "  <tbody>\n",
       "    <tr>\n",
       "      <th>0</th>\n",
       "      <td>1</td>\n",
       "      <td>박두진</td>\n",
       "      <td>radajin1224@gmail.com</td>\n",
       "    </tr>\n",
       "    <tr>\n",
       "      <th>1</th>\n",
       "      <td>2</td>\n",
       "      <td>김기성</td>\n",
       "      <td>brscon@gmail.com</td>\n",
       "    </tr>\n",
       "    <tr>\n",
       "      <th>2</th>\n",
       "      <td>3</td>\n",
       "      <td>장성민</td>\n",
       "      <td>jsjlife@gmail.com</td>\n",
       "    </tr>\n",
       "    <tr>\n",
       "      <th>3</th>\n",
       "      <td>4</td>\n",
       "      <td>관리자</td>\n",
       "      <td>rija@gmail.com</td>\n",
       "    </tr>\n",
       "    <tr>\n",
       "      <th>4</th>\n",
       "      <td>5</td>\n",
       "      <td>애드민</td>\n",
       "      <td>admin@naver.com</td>\n",
       "    </tr>\n",
       "  </tbody>\n",
       "</table>\n",
       "</div>"
      ],
      "text/plain": [
       "   순번   이름                    이메일\n",
       "0   1  박두진  radajin1224@gmail.com\n",
       "1   2  김기성       brscon@gmail.com\n",
       "2   3  장성민      jsjlife@gmail.com\n",
       "3   4  관리자         rija@gmail.com\n",
       "4   5  애드민        admin@naver.com"
      ]
     },
     "execution_count": 37,
     "metadata": {},
     "output_type": "execute_result"
    }
   ],
   "source": [
    "df = pd.DataFrame()\n",
    "df = sheet1.get_as_df()\n",
    "df"
   ]
  },
  {
   "cell_type": "code",
   "execution_count": 63,
   "metadata": {},
   "outputs": [],
   "source": [
    "# csv 파일로 저장\n",
    "df.to_csv(\"email.csv\", encoding=\"utf8\", index=False)"
   ]
  },
  {
   "cell_type": "code",
   "execution_count": 64,
   "metadata": {},
   "outputs": [
    {
     "data": {
      "text/html": [
       "<div>\n",
       "<style>\n",
       "    .dataframe thead tr:only-child th {\n",
       "        text-align: right;\n",
       "    }\n",
       "\n",
       "    .dataframe thead th {\n",
       "        text-align: left;\n",
       "    }\n",
       "\n",
       "    .dataframe tbody tr th {\n",
       "        vertical-align: top;\n",
       "    }\n",
       "</style>\n",
       "<table border=\"1\" class=\"dataframe\">\n",
       "  <thead>\n",
       "    <tr style=\"text-align: right;\">\n",
       "      <th></th>\n",
       "      <th>순번</th>\n",
       "      <th>이름</th>\n",
       "      <th>이메일</th>\n",
       "    </tr>\n",
       "  </thead>\n",
       "  <tbody>\n",
       "    <tr>\n",
       "      <th>0</th>\n",
       "      <td>1</td>\n",
       "      <td>박두진</td>\n",
       "      <td>radajin1224@gmail.com</td>\n",
       "    </tr>\n",
       "    <tr>\n",
       "      <th>1</th>\n",
       "      <td>2</td>\n",
       "      <td>김기성</td>\n",
       "      <td>brscon@gmail.com</td>\n",
       "    </tr>\n",
       "    <tr>\n",
       "      <th>2</th>\n",
       "      <td>3</td>\n",
       "      <td>장성민</td>\n",
       "      <td>jsjlife@gmail.com</td>\n",
       "    </tr>\n",
       "    <tr>\n",
       "      <th>3</th>\n",
       "      <td>4</td>\n",
       "      <td>관리자</td>\n",
       "      <td>rija@gmail.com</td>\n",
       "    </tr>\n",
       "    <tr>\n",
       "      <th>4</th>\n",
       "      <td>5</td>\n",
       "      <td>애드민</td>\n",
       "      <td>admin@naver.com</td>\n",
       "    </tr>\n",
       "  </tbody>\n",
       "</table>\n",
       "</div>"
      ],
      "text/plain": [
       "   순번   이름                    이메일\n",
       "0   1  박두진  radajin1224@gmail.com\n",
       "1   2  김기성       brscon@gmail.com\n",
       "2   3  장성민      jsjlife@gmail.com\n",
       "3   4  관리자         rija@gmail.com\n",
       "4   5  애드민        admin@naver.com"
      ]
     },
     "execution_count": 64,
     "metadata": {},
     "output_type": "execute_result"
    }
   ],
   "source": [
    "# csv 파일 읽어오기\n",
    "df = pd.read_csv(\"email.csv\")\n",
    "df"
   ]
  },
  {
   "cell_type": "markdown",
   "metadata": {},
   "source": [
    "#### 11. Cell"
   ]
  },
  {
   "cell_type": "code",
   "execution_count": 41,
   "metadata": {},
   "outputs": [
    {
     "data": {
      "text/plain": [
       "<Worksheet 'cell_test' index:2>"
      ]
     },
     "execution_count": 41,
     "metadata": {},
     "output_type": "execute_result"
    }
   ],
   "source": [
    "# sheet1을 cell_test 시트를 만들어 복사한다.\n",
    "test_sheet = sh.add_worksheet(\"cell_test\", src_worksheet=sheet1)\n",
    "test_sheet"
   ]
  },
  {
   "cell_type": "code",
   "execution_count": 42,
   "metadata": {},
   "outputs": [
    {
     "name": "stdout",
     "output_type": "stream",
     "text": [
      "박두진\n"
     ]
    }
   ],
   "source": [
    "# 특정 셀의 객체 가져오기\n",
    "b2 = test_sheet.cell('B2')\n",
    "\n",
    "# 셀 값 확인\n",
    "print(b2.value)"
   ]
  },
  {
   "cell_type": "code",
   "execution_count": 43,
   "metadata": {},
   "outputs": [
    {
     "name": "stdout",
     "output_type": "stream",
     "text": [
      "radajin1224@gmail.com\n"
     ]
    }
   ],
   "source": [
    "# b2 객체의 3번째 칸의 데이터를 b2에 할당\n",
    "b2.col = 3\n",
    "\n",
    "# 셀 값 확인\n",
    "print(b2.value)"
   ]
  },
  {
   "cell_type": "code",
   "execution_count": 44,
   "metadata": {},
   "outputs": [
    {
     "data": {
      "text/plain": [
       "'pdj1224@gmail.com'"
      ]
     },
     "execution_count": 44,
     "metadata": {},
     "output_type": "execute_result"
    }
   ],
   "source": [
    "# b2에 해당하는 위치의 데이터를 \"radajin1224@gmail.com\"로 바꿈\n",
    "b2.value = \"pdj1224@gmail.com\"\n",
    "b2.value"
   ]
  },
  {
   "cell_type": "code",
   "execution_count": 45,
   "metadata": {},
   "outputs": [],
   "source": [
    "# C2 위치의 데이터를 'radajin1224@gmail.com'로 업데이트함\n",
    "test_sheet.update_cell('C2', 'radajin1224@gmail.com')"
   ]
  },
  {
   "cell_type": "code",
   "execution_count": 46,
   "metadata": {},
   "outputs": [
    {
     "name": "stdout",
     "output_type": "stream",
     "text": [
      "[[<Cell A1 '순번'>, <Cell B1 '이름'>, <Cell C1 '이메일'>], [<Cell A2 '1'>, <Cell B2 '박두진'>, <Cell C2 'radajin1224@gmail.com'>], [<Cell A3 '2'>, <Cell B3 '김기성'>, <Cell C3 'brscon@gmail.com'>], [<Cell A4 '3'>, <Cell B4 '장성민'>, <Cell C4 'jsjlife@gmail.com'>]]\n"
     ]
    }
   ],
   "source": [
    "# A1에서 C4의 셀 리스트 가져옴\n",
    "cell_list = test_sheet.range('A1:C4')\n",
    "print(cell_list)"
   ]
  },
  {
   "cell_type": "code",
   "execution_count": 47,
   "metadata": {},
   "outputs": [
    {
     "data": {
      "text/plain": [
       "'jsjlife@gmail.com'"
      ]
     },
     "execution_count": 47,
     "metadata": {},
     "output_type": "execute_result"
    }
   ],
   "source": [
    "cell_list[3][2].value"
   ]
  },
  {
   "cell_type": "code",
   "execution_count": 48,
   "metadata": {},
   "outputs": [
    {
     "name": "stdout",
     "output_type": "stream",
     "text": [
      "[[<Cell A1 '순번'>, <Cell B1 '이름'>, <Cell C1 '이메일'>], [<Cell A2 '1'>, <Cell B2 '박두진'>, <Cell C2 'radajin1224@gmail.com'>], [<Cell A3 '2'>, <Cell B3 '김기성'>, <Cell C3 'brscon@gmail.com'>], [<Cell A4 '3'>, <Cell B4 '장성민'>, <Cell C4 'jsjlife@gmail.com'>]]\n"
     ]
    }
   ],
   "source": [
    "# A1에서 C4의 셀 리스트 가져옴\n",
    "cell_list = test_sheet.get_values('A1','C4', returnas='cells')\n",
    "print(cell_list)"
   ]
  },
  {
   "cell_type": "code",
   "execution_count": 49,
   "metadata": {},
   "outputs": [
    {
     "name": "stdout",
     "output_type": "stream",
     "text": [
      "[<Cell A2 '1'>, <Cell B2 '박두진'>, <Cell C2 'radajin1224@gmail.com'>]\n"
     ]
    }
   ],
   "source": [
    "# 두번째 줄의 셀 리스트 가져옴\n",
    "cell_list = test_sheet.get_row(2, returnas='cells')\n",
    "print(cell_list)"
   ]
  },
  {
   "cell_type": "code",
   "execution_count": 50,
   "metadata": {},
   "outputs": [
    {
     "name": "stdout",
     "output_type": "stream",
     "text": [
      "Wall time: 3.31 s\n"
     ]
    }
   ],
   "source": [
    "%%time\n",
    "cell = test_sheet.cell('C2')\n",
    "\n",
    "# 노트 추가\n",
    "cell.note = \"this is email data.\"\n",
    "\n",
    "# 셀 배경 색상 변경 (Red, Green, Blue, Alpha\n",
    "cell.color = (1.0,1.0,0.0,1.0) \n",
    "\n",
    "# 텍스트 포멧 변경\n",
    "cell.text_format['fontSize'] = 12\n",
    "cell.text_format['bold'] = True\n",
    "\n",
    "# sync the changes\n",
    "cell.update()"
   ]
  },
  {
   "cell_type": "markdown",
   "metadata": {},
   "source": [
    "#### 12. Share"
   ]
  },
  {
   "cell_type": "code",
   "execution_count": 52,
   "metadata": {},
   "outputs": [],
   "source": [
    "# add\n",
    "# 'writer','commenter','reader'\n",
    "sh.share(\"radajin1224@gmail.com\", role='writer')"
   ]
  },
  {
   "cell_type": "code",
   "execution_count": 53,
   "metadata": {},
   "outputs": [
    {
     "data": {
      "text/plain": [
       "''"
      ]
     },
     "execution_count": 53,
     "metadata": {},
     "output_type": "execute_result"
    }
   ],
   "source": [
    "# remove\n",
    "sh.remove_permissions(\"radajin1224@gmail.com\")"
   ]
  },
  {
   "cell_type": "markdown",
   "metadata": {},
   "source": [
    "#### 13. all clear"
   ]
  },
  {
   "cell_type": "code",
   "execution_count": 54,
   "metadata": {},
   "outputs": [],
   "source": [
    "sh.del_worksheet(sh[1])"
   ]
  },
  {
   "cell_type": "code",
   "execution_count": 55,
   "metadata": {},
   "outputs": [],
   "source": [
    "sh.del_worksheet(sh[1])"
   ]
  },
  {
   "cell_type": "markdown",
   "metadata": {},
   "source": [
    "#### 14. seaborn에서 iris 데이터를 가져와서 구글 데이터 시트에 넣기"
   ]
  },
  {
   "cell_type": "code",
   "execution_count": 71,
   "metadata": {},
   "outputs": [
    {
     "data": {
      "text/plain": [
       "sepal_length    float64\n",
       "sepal_width     float64\n",
       "petal_length    float64\n",
       "petal_width     float64\n",
       "species          object\n",
       "dtype: object"
      ]
     },
     "execution_count": 71,
     "metadata": {},
     "output_type": "execute_result"
    }
   ],
   "source": [
    "import seaborn as sns\n",
    "iris = sns.load_dataset(\"iris\")\n",
    "iris.iloc[:,:3].astype(np.float32)\n"
   ]
  },
  {
   "cell_type": "code",
   "execution_count": 57,
   "metadata": {},
   "outputs": [],
   "source": [
    "# 새로운 시트 만들기\n",
    "iris_sheet = sh.add_worksheet(\"iris\")"
   ]
  },
  {
   "cell_type": "code",
   "execution_count": 72,
   "metadata": {},
   "outputs": [
    {
     "ename": "TypeError",
     "evalue": "Object of type 'int64' is not JSON serializable",
     "output_type": "error",
     "traceback": [
      "\u001b[1;31m---------------------------------------------------------------------------\u001b[0m",
      "\u001b[1;31mTypeError\u001b[0m                                 Traceback (most recent call last)",
      "\u001b[1;32m<ipython-input-72-63f11eea2b3e>\u001b[0m in \u001b[0;36m<module>\u001b[1;34m()\u001b[0m\n\u001b[1;32m----> 1\u001b[1;33m \u001b[0miris_sheet\u001b[0m\u001b[1;33m.\u001b[0m\u001b[0mset_dataframe\u001b[0m\u001b[1;33m(\u001b[0m\u001b[0miris\u001b[0m\u001b[1;33m.\u001b[0m\u001b[0miloc\u001b[0m\u001b[1;33m[\u001b[0m\u001b[1;33m:\u001b[0m\u001b[1;33m,\u001b[0m\u001b[1;33m:\u001b[0m\u001b[1;36m3\u001b[0m\u001b[1;33m]\u001b[0m\u001b[1;33m.\u001b[0m\u001b[0mastype\u001b[0m\u001b[1;33m(\u001b[0m\u001b[0mnp\u001b[0m\u001b[1;33m.\u001b[0m\u001b[0mfloat32\u001b[0m\u001b[1;33m)\u001b[0m\u001b[1;33m,\u001b[0m \u001b[1;34m'A1'\u001b[0m\u001b[1;33m,\u001b[0m \u001b[0mcopy_index\u001b[0m\u001b[1;33m=\u001b[0m\u001b[1;32mTrue\u001b[0m\u001b[1;33m)\u001b[0m \u001b[1;31m# (df, cell_start)\u001b[0m\u001b[1;33m\u001b[0m\u001b[0m\n\u001b[0m",
      "\u001b[1;32m~\\Anaconda3\\lib\\site-packages\\pygsheets\\worksheet.py\u001b[0m in \u001b[0;36mset_dataframe\u001b[1;34m(self, df, start, copy_index, copy_head, fit, escape_formulae, nan)\u001b[0m\n\u001b[0;32m    999\u001b[0m                         \u001b[0mrow\u001b[0m\u001b[1;33m[\u001b[0m\u001b[0mi\u001b[0m\u001b[1;33m]\u001b[0m \u001b[1;33m=\u001b[0m \u001b[1;34m\"'\"\u001b[0m \u001b[1;33m+\u001b[0m \u001b[0mstr\u001b[0m\u001b[1;33m(\u001b[0m\u001b[0mrow\u001b[0m\u001b[1;33m[\u001b[0m\u001b[0mi\u001b[0m\u001b[1;33m]\u001b[0m\u001b[1;33m)\u001b[0m\u001b[1;33m\u001b[0m\u001b[0m\n\u001b[0;32m   1000\u001b[0m         \u001b[0mcrange\u001b[0m \u001b[1;33m=\u001b[0m \u001b[0mformat_addr\u001b[0m\u001b[1;33m(\u001b[0m\u001b[0mstart\u001b[0m\u001b[1;33m)\u001b[0m \u001b[1;33m+\u001b[0m \u001b[1;34m':'\u001b[0m \u001b[1;33m+\u001b[0m \u001b[0mend\u001b[0m\u001b[1;33m\u001b[0m\u001b[0m\n\u001b[1;32m-> 1001\u001b[1;33m         \u001b[0mself\u001b[0m\u001b[1;33m.\u001b[0m\u001b[0mupdate_cells\u001b[0m\u001b[1;33m(\u001b[0m\u001b[0mcrange\u001b[0m\u001b[1;33m=\u001b[0m\u001b[0mcrange\u001b[0m\u001b[1;33m,\u001b[0m \u001b[0mvalues\u001b[0m\u001b[1;33m=\u001b[0m\u001b[0mvalues\u001b[0m\u001b[1;33m)\u001b[0m\u001b[1;33m\u001b[0m\u001b[0m\n\u001b[0m\u001b[0;32m   1002\u001b[0m \u001b[1;33m\u001b[0m\u001b[0m\n\u001b[0;32m   1003\u001b[0m     \u001b[1;32mdef\u001b[0m \u001b[0mget_as_df\u001b[0m\u001b[1;33m(\u001b[0m\u001b[0mself\u001b[0m\u001b[1;33m,\u001b[0m \u001b[0mhas_header\u001b[0m\u001b[1;33m=\u001b[0m\u001b[1;32mTrue\u001b[0m\u001b[1;33m,\u001b[0m \u001b[0mindex_colum\u001b[0m\u001b[1;33m=\u001b[0m\u001b[1;32mNone\u001b[0m\u001b[1;33m,\u001b[0m \u001b[0mstart\u001b[0m\u001b[1;33m=\u001b[0m\u001b[1;32mNone\u001b[0m\u001b[1;33m,\u001b[0m \u001b[0mend\u001b[0m\u001b[1;33m=\u001b[0m\u001b[1;32mNone\u001b[0m\u001b[1;33m,\u001b[0m \u001b[0mnumerize\u001b[0m\u001b[1;33m=\u001b[0m\u001b[1;32mTrue\u001b[0m\u001b[1;33m,\u001b[0m \u001b[0mempty_value\u001b[0m\u001b[1;33m=\u001b[0m\u001b[1;34m''\u001b[0m\u001b[1;33m)\u001b[0m\u001b[1;33m:\u001b[0m\u001b[1;33m\u001b[0m\u001b[0m\n",
      "\u001b[1;32m~\\Anaconda3\\lib\\site-packages\\pygsheets\\worksheet.py\u001b[0m in \u001b[0;36mupdate_cells\u001b[1;34m(self, crange, values, cell_list, extend, majordim, parse)\u001b[0m\n\u001b[0;32m    518\u001b[0m         \u001b[0mbody\u001b[0m\u001b[1;33m[\u001b[0m\u001b[1;34m'values'\u001b[0m\u001b[1;33m]\u001b[0m \u001b[1;33m=\u001b[0m \u001b[0mvalues\u001b[0m\u001b[1;33m\u001b[0m\u001b[0m\n\u001b[0;32m    519\u001b[0m         \u001b[0mparse\u001b[0m \u001b[1;33m=\u001b[0m \u001b[0mparse\u001b[0m \u001b[1;32mif\u001b[0m \u001b[0mparse\u001b[0m \u001b[1;32mis\u001b[0m \u001b[1;32mnot\u001b[0m \u001b[1;32mNone\u001b[0m \u001b[1;32melse\u001b[0m \u001b[0mself\u001b[0m\u001b[1;33m.\u001b[0m\u001b[0mspreadsheet\u001b[0m\u001b[1;33m.\u001b[0m\u001b[0mdefault_parse\u001b[0m\u001b[1;33m\u001b[0m\u001b[0m\n\u001b[1;32m--> 520\u001b[1;33m         \u001b[0mself\u001b[0m\u001b[1;33m.\u001b[0m\u001b[0mclient\u001b[0m\u001b[1;33m.\u001b[0m\u001b[0msh_update_range\u001b[0m\u001b[1;33m(\u001b[0m\u001b[0mself\u001b[0m\u001b[1;33m.\u001b[0m\u001b[0mspreadsheet\u001b[0m\u001b[1;33m.\u001b[0m\u001b[0mid\u001b[0m\u001b[1;33m,\u001b[0m \u001b[0mbody\u001b[0m\u001b[1;33m,\u001b[0m \u001b[0mself\u001b[0m\u001b[1;33m.\u001b[0m\u001b[0mspreadsheet\u001b[0m\u001b[1;33m.\u001b[0m\u001b[0mbatch_mode\u001b[0m\u001b[1;33m,\u001b[0m \u001b[0mparse\u001b[0m\u001b[1;33m=\u001b[0m\u001b[0mparse\u001b[0m\u001b[1;33m)\u001b[0m\u001b[1;33m\u001b[0m\u001b[0m\n\u001b[0m\u001b[0;32m    521\u001b[0m \u001b[1;33m\u001b[0m\u001b[0m\n\u001b[0;32m    522\u001b[0m     \u001b[1;32mdef\u001b[0m \u001b[0mupdate_cells_prop\u001b[0m\u001b[1;33m(\u001b[0m\u001b[0mself\u001b[0m\u001b[1;33m,\u001b[0m \u001b[0mcell_list\u001b[0m\u001b[1;33m,\u001b[0m \u001b[0mfields\u001b[0m\u001b[1;33m=\u001b[0m\u001b[1;34m'*'\u001b[0m\u001b[1;33m)\u001b[0m\u001b[1;33m:\u001b[0m\u001b[1;33m\u001b[0m\u001b[0m\n",
      "\u001b[1;32m~\\Anaconda3\\lib\\site-packages\\pygsheets\\client.py\u001b[0m in \u001b[0;36msh_update_range\u001b[1;34m(self, spreadsheet_id, body, batch, parse)\u001b[0m\n\u001b[0;32m    386\u001b[0m         \u001b[1;32mif\u001b[0m \u001b[0mlen\u001b[0m\u001b[1;33m(\u001b[0m\u001b[0mbody\u001b[0m\u001b[1;33m[\u001b[0m\u001b[1;34m'values'\u001b[0m\u001b[1;33m]\u001b[0m\u001b[1;33m)\u001b[0m\u001b[1;33m*\u001b[0m\u001b[0mlen\u001b[0m\u001b[1;33m(\u001b[0m\u001b[0mbody\u001b[0m\u001b[1;33m[\u001b[0m\u001b[1;34m'values'\u001b[0m\u001b[1;33m]\u001b[0m\u001b[1;33m[\u001b[0m\u001b[1;36m0\u001b[0m\u001b[1;33m]\u001b[0m\u001b[1;33m)\u001b[0m \u001b[1;33m<=\u001b[0m \u001b[0mbatch_limit\u001b[0m\u001b[1;33m:\u001b[0m\u001b[1;33m\u001b[0m\u001b[0m\n\u001b[0;32m    387\u001b[0m             final_request = self.service.spreadsheets().values().update(spreadsheetId=spreadsheet_id, range=body['range'],\n\u001b[1;32m--> 388\u001b[1;33m                                                                         valueInputOption=cformat, body=body)\n\u001b[0m\u001b[0;32m    389\u001b[0m             \u001b[0mself\u001b[0m\u001b[1;33m.\u001b[0m\u001b[0m_execute_request\u001b[0m\u001b[1;33m(\u001b[0m\u001b[0mspreadsheet_id\u001b[0m\u001b[1;33m,\u001b[0m \u001b[0mfinal_request\u001b[0m\u001b[1;33m,\u001b[0m \u001b[0mbatch\u001b[0m\u001b[1;33m)\u001b[0m\u001b[1;33m\u001b[0m\u001b[0m\n\u001b[0;32m    390\u001b[0m         \u001b[1;32melse\u001b[0m\u001b[1;33m:\u001b[0m\u001b[1;33m\u001b[0m\u001b[0m\n",
      "\u001b[1;32m~\\Anaconda3\\lib\\site-packages\\googleapiclient\\discovery.py\u001b[0m in \u001b[0;36mmethod\u001b[1;34m(self, **kwargs)\u001b[0m\n\u001b[0;32m    786\u001b[0m     \u001b[0mheaders\u001b[0m \u001b[1;33m=\u001b[0m \u001b[1;33m{\u001b[0m\u001b[1;33m}\u001b[0m\u001b[1;33m\u001b[0m\u001b[0m\n\u001b[0;32m    787\u001b[0m     headers, params, query, body = model.request(headers,\n\u001b[1;32m--> 788\u001b[1;33m         actual_path_params, actual_query_params, body_value)\n\u001b[0m\u001b[0;32m    789\u001b[0m \u001b[1;33m\u001b[0m\u001b[0m\n\u001b[0;32m    790\u001b[0m     \u001b[0mexpanded_url\u001b[0m \u001b[1;33m=\u001b[0m \u001b[0muritemplate\u001b[0m\u001b[1;33m.\u001b[0m\u001b[0mexpand\u001b[0m\u001b[1;33m(\u001b[0m\u001b[0mpathUrl\u001b[0m\u001b[1;33m,\u001b[0m \u001b[0mparams\u001b[0m\u001b[1;33m)\u001b[0m\u001b[1;33m\u001b[0m\u001b[0m\n",
      "\u001b[1;32m~\\Anaconda3\\lib\\site-packages\\googleapiclient\\model.py\u001b[0m in \u001b[0;36mrequest\u001b[1;34m(self, headers, path_params, query_params, body_value)\u001b[0m\n\u001b[0;32m    149\u001b[0m     \u001b[1;32mif\u001b[0m \u001b[0mbody_value\u001b[0m \u001b[1;32mis\u001b[0m \u001b[1;32mnot\u001b[0m \u001b[1;32mNone\u001b[0m\u001b[1;33m:\u001b[0m\u001b[1;33m\u001b[0m\u001b[0m\n\u001b[0;32m    150\u001b[0m       \u001b[0mheaders\u001b[0m\u001b[1;33m[\u001b[0m\u001b[1;34m'content-type'\u001b[0m\u001b[1;33m]\u001b[0m \u001b[1;33m=\u001b[0m \u001b[0mself\u001b[0m\u001b[1;33m.\u001b[0m\u001b[0mcontent_type\u001b[0m\u001b[1;33m\u001b[0m\u001b[0m\n\u001b[1;32m--> 151\u001b[1;33m       \u001b[0mbody_value\u001b[0m \u001b[1;33m=\u001b[0m \u001b[0mself\u001b[0m\u001b[1;33m.\u001b[0m\u001b[0mserialize\u001b[0m\u001b[1;33m(\u001b[0m\u001b[0mbody_value\u001b[0m\u001b[1;33m)\u001b[0m\u001b[1;33m\u001b[0m\u001b[0m\n\u001b[0m\u001b[0;32m    152\u001b[0m     \u001b[0mself\u001b[0m\u001b[1;33m.\u001b[0m\u001b[0m_log_request\u001b[0m\u001b[1;33m(\u001b[0m\u001b[0mheaders\u001b[0m\u001b[1;33m,\u001b[0m \u001b[0mpath_params\u001b[0m\u001b[1;33m,\u001b[0m \u001b[0mquery\u001b[0m\u001b[1;33m,\u001b[0m \u001b[0mbody_value\u001b[0m\u001b[1;33m)\u001b[0m\u001b[1;33m\u001b[0m\u001b[0m\n\u001b[0;32m    153\u001b[0m     \u001b[1;32mreturn\u001b[0m \u001b[1;33m(\u001b[0m\u001b[0mheaders\u001b[0m\u001b[1;33m,\u001b[0m \u001b[0mpath_params\u001b[0m\u001b[1;33m,\u001b[0m \u001b[0mquery\u001b[0m\u001b[1;33m,\u001b[0m \u001b[0mbody_value\u001b[0m\u001b[1;33m)\u001b[0m\u001b[1;33m\u001b[0m\u001b[0m\n",
      "\u001b[1;32m~\\Anaconda3\\lib\\site-packages\\googleapiclient\\model.py\u001b[0m in \u001b[0;36mserialize\u001b[1;34m(self, body_value)\u001b[0m\n\u001b[0;32m    258\u001b[0m         self._data_wrapper):\n\u001b[0;32m    259\u001b[0m       \u001b[0mbody_value\u001b[0m \u001b[1;33m=\u001b[0m \u001b[1;33m{\u001b[0m\u001b[1;34m'data'\u001b[0m\u001b[1;33m:\u001b[0m \u001b[0mbody_value\u001b[0m\u001b[1;33m}\u001b[0m\u001b[1;33m\u001b[0m\u001b[0m\n\u001b[1;32m--> 260\u001b[1;33m     \u001b[1;32mreturn\u001b[0m \u001b[0mjson\u001b[0m\u001b[1;33m.\u001b[0m\u001b[0mdumps\u001b[0m\u001b[1;33m(\u001b[0m\u001b[0mbody_value\u001b[0m\u001b[1;33m)\u001b[0m\u001b[1;33m\u001b[0m\u001b[0m\n\u001b[0m\u001b[0;32m    261\u001b[0m \u001b[1;33m\u001b[0m\u001b[0m\n\u001b[0;32m    262\u001b[0m   \u001b[1;32mdef\u001b[0m \u001b[0mdeserialize\u001b[0m\u001b[1;33m(\u001b[0m\u001b[0mself\u001b[0m\u001b[1;33m,\u001b[0m \u001b[0mcontent\u001b[0m\u001b[1;33m)\u001b[0m\u001b[1;33m:\u001b[0m\u001b[1;33m\u001b[0m\u001b[0m\n",
      "\u001b[1;32m~\\Anaconda3\\lib\\json\\__init__.py\u001b[0m in \u001b[0;36mdumps\u001b[1;34m(obj, skipkeys, ensure_ascii, check_circular, allow_nan, cls, indent, separators, default, sort_keys, **kw)\u001b[0m\n\u001b[0;32m    229\u001b[0m         \u001b[0mcls\u001b[0m \u001b[1;32mis\u001b[0m \u001b[1;32mNone\u001b[0m \u001b[1;32mand\u001b[0m \u001b[0mindent\u001b[0m \u001b[1;32mis\u001b[0m \u001b[1;32mNone\u001b[0m \u001b[1;32mand\u001b[0m \u001b[0mseparators\u001b[0m \u001b[1;32mis\u001b[0m \u001b[1;32mNone\u001b[0m \u001b[1;32mand\u001b[0m\u001b[1;33m\u001b[0m\u001b[0m\n\u001b[0;32m    230\u001b[0m         default is None and not sort_keys and not kw):\n\u001b[1;32m--> 231\u001b[1;33m         \u001b[1;32mreturn\u001b[0m \u001b[0m_default_encoder\u001b[0m\u001b[1;33m.\u001b[0m\u001b[0mencode\u001b[0m\u001b[1;33m(\u001b[0m\u001b[0mobj\u001b[0m\u001b[1;33m)\u001b[0m\u001b[1;33m\u001b[0m\u001b[0m\n\u001b[0m\u001b[0;32m    232\u001b[0m     \u001b[1;32mif\u001b[0m \u001b[0mcls\u001b[0m \u001b[1;32mis\u001b[0m \u001b[1;32mNone\u001b[0m\u001b[1;33m:\u001b[0m\u001b[1;33m\u001b[0m\u001b[0m\n\u001b[0;32m    233\u001b[0m         \u001b[0mcls\u001b[0m \u001b[1;33m=\u001b[0m \u001b[0mJSONEncoder\u001b[0m\u001b[1;33m\u001b[0m\u001b[0m\n",
      "\u001b[1;32m~\\Anaconda3\\lib\\json\\encoder.py\u001b[0m in \u001b[0;36mencode\u001b[1;34m(self, o)\u001b[0m\n\u001b[0;32m    197\u001b[0m         \u001b[1;31m# exceptions aren't as detailed.  The list call should be roughly\u001b[0m\u001b[1;33m\u001b[0m\u001b[1;33m\u001b[0m\u001b[0m\n\u001b[0;32m    198\u001b[0m         \u001b[1;31m# equivalent to the PySequence_Fast that ''.join() would do.\u001b[0m\u001b[1;33m\u001b[0m\u001b[1;33m\u001b[0m\u001b[0m\n\u001b[1;32m--> 199\u001b[1;33m         \u001b[0mchunks\u001b[0m \u001b[1;33m=\u001b[0m \u001b[0mself\u001b[0m\u001b[1;33m.\u001b[0m\u001b[0miterencode\u001b[0m\u001b[1;33m(\u001b[0m\u001b[0mo\u001b[0m\u001b[1;33m,\u001b[0m \u001b[0m_one_shot\u001b[0m\u001b[1;33m=\u001b[0m\u001b[1;32mTrue\u001b[0m\u001b[1;33m)\u001b[0m\u001b[1;33m\u001b[0m\u001b[0m\n\u001b[0m\u001b[0;32m    200\u001b[0m         \u001b[1;32mif\u001b[0m \u001b[1;32mnot\u001b[0m \u001b[0misinstance\u001b[0m\u001b[1;33m(\u001b[0m\u001b[0mchunks\u001b[0m\u001b[1;33m,\u001b[0m \u001b[1;33m(\u001b[0m\u001b[0mlist\u001b[0m\u001b[1;33m,\u001b[0m \u001b[0mtuple\u001b[0m\u001b[1;33m)\u001b[0m\u001b[1;33m)\u001b[0m\u001b[1;33m:\u001b[0m\u001b[1;33m\u001b[0m\u001b[0m\n\u001b[0;32m    201\u001b[0m             \u001b[0mchunks\u001b[0m \u001b[1;33m=\u001b[0m \u001b[0mlist\u001b[0m\u001b[1;33m(\u001b[0m\u001b[0mchunks\u001b[0m\u001b[1;33m)\u001b[0m\u001b[1;33m\u001b[0m\u001b[0m\n",
      "\u001b[1;32m~\\Anaconda3\\lib\\json\\encoder.py\u001b[0m in \u001b[0;36miterencode\u001b[1;34m(self, o, _one_shot)\u001b[0m\n\u001b[0;32m    255\u001b[0m                 \u001b[0mself\u001b[0m\u001b[1;33m.\u001b[0m\u001b[0mkey_separator\u001b[0m\u001b[1;33m,\u001b[0m \u001b[0mself\u001b[0m\u001b[1;33m.\u001b[0m\u001b[0mitem_separator\u001b[0m\u001b[1;33m,\u001b[0m \u001b[0mself\u001b[0m\u001b[1;33m.\u001b[0m\u001b[0msort_keys\u001b[0m\u001b[1;33m,\u001b[0m\u001b[1;33m\u001b[0m\u001b[0m\n\u001b[0;32m    256\u001b[0m                 self.skipkeys, _one_shot)\n\u001b[1;32m--> 257\u001b[1;33m         \u001b[1;32mreturn\u001b[0m \u001b[0m_iterencode\u001b[0m\u001b[1;33m(\u001b[0m\u001b[0mo\u001b[0m\u001b[1;33m,\u001b[0m \u001b[1;36m0\u001b[0m\u001b[1;33m)\u001b[0m\u001b[1;33m\u001b[0m\u001b[0m\n\u001b[0m\u001b[0;32m    258\u001b[0m \u001b[1;33m\u001b[0m\u001b[0m\n\u001b[0;32m    259\u001b[0m def _make_iterencode(markers, _default, _encoder, _indent, _floatstr,\n",
      "\u001b[1;32m~\\Anaconda3\\lib\\json\\encoder.py\u001b[0m in \u001b[0;36mdefault\u001b[1;34m(self, o)\u001b[0m\n\u001b[0;32m    178\u001b[0m         \"\"\"\n\u001b[0;32m    179\u001b[0m         raise TypeError(\"Object of type '%s' is not JSON serializable\" %\n\u001b[1;32m--> 180\u001b[1;33m                         o.__class__.__name__)\n\u001b[0m\u001b[0;32m    181\u001b[0m \u001b[1;33m\u001b[0m\u001b[0m\n\u001b[0;32m    182\u001b[0m     \u001b[1;32mdef\u001b[0m \u001b[0mencode\u001b[0m\u001b[1;33m(\u001b[0m\u001b[0mself\u001b[0m\u001b[1;33m,\u001b[0m \u001b[0mo\u001b[0m\u001b[1;33m)\u001b[0m\u001b[1;33m:\u001b[0m\u001b[1;33m\u001b[0m\u001b[0m\n",
      "\u001b[1;31mTypeError\u001b[0m: Object of type 'int64' is not JSON serializable"
     ]
    }
   ],
   "source": [
    "iris_sheet.set_dataframe(iris.iloc[:,:3].astype(np.float32), 'A1', copy_index=True) # (df, cell_start)"
   ]
  },
  {
   "cell_type": "code",
   "execution_count": 65,
   "metadata": {},
   "outputs": [
    {
     "data": {
      "text/plain": [
       "0.1669793621013133"
      ]
     },
     "execution_count": 65,
     "metadata": {},
     "output_type": "execute_result"
    }
   ],
   "source": [
    "267/1599\n"
   ]
  },
  {
   "cell_type": "code",
   "execution_count": null,
   "metadata": {},
   "outputs": [],
   "source": []
  }
 ],
 "metadata": {
  "kernelspec": {
   "display_name": "Python 3",
   "language": "python",
   "name": "python3"
  },
  "language_info": {
   "codemirror_mode": {
    "name": "ipython",
    "version": 3
   },
   "file_extension": ".py",
   "mimetype": "text/x-python",
   "name": "python",
   "nbconvert_exporter": "python",
   "pygments_lexer": "ipython3",
   "version": "3.6.3"
  }
 },
 "nbformat": 4,
 "nbformat_minor": 2
}
