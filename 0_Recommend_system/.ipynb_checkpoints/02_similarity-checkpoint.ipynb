{
 "cells": [
  {
   "cell_type": "markdown",
   "metadata": {},
   "source": [
    "### Similarity - 유사도\n",
    "- Euclidean Distance Similarity\n",
    "- Cosine Similarity\n",
    "- Compare Euclidean Distance & Cosine Similarity"
   ]
  },
  {
   "cell_type": "code",
   "execution_count": 1,
   "metadata": {},
   "outputs": [],
   "source": [
    "import numpy as np\n",
    "import pandas as pd\n",
    "from scipy import spatial"
   ]
  },
  {
   "cell_type": "code",
   "execution_count": 2,
   "metadata": {},
   "outputs": [],
   "source": [
    "# 샘플 데이터\n",
    "vector_1 = np.array([1,2,3,4,5])\n",
    "vector_2 = np.array([5,4,3,2,1])\n",
    "vector_3 = np.array([2,3,4,5,6])"
   ]
  },
  {
   "cell_type": "markdown",
   "metadata": {},
   "source": [
    "##### 1. Euclidean Distance Similarity\n",
    "- 벡터 사이의 거리\n",
    "- 거리가 작으면 가까운 위치에 있기 때문에 비슷한 특징을 가짐"
   ]
  },
  {
   "cell_type": "markdown",
   "metadata": {},
   "source": [
    "$ {\\sqrt{\\sum_{i=1}^n{(x_i-y_i)^2}}} $  "
   ]
  },
  {
   "cell_type": "code",
   "execution_count": 3,
   "metadata": {},
   "outputs": [
    {
     "name": "stdout",
     "output_type": "stream",
     "text": [
      "[-4 -2  0  2  4]\n",
      "[16  4  0  4 16]\n",
      "40\n",
      "6.324555320336759\n"
     ]
    },
    {
     "data": {
      "text/plain": [
       "(6.324555320336759, 2.23606797749979)"
      ]
     },
     "execution_count": 3,
     "metadata": {},
     "output_type": "execute_result"
    }
   ],
   "source": [
    "# 벡터 사이의 거리\n",
    "\n",
    "# 계산과정\n",
    "print((vector_1 - vector_2))\n",
    "print((vector_1 - vector_2) ** 2)\n",
    "print(sum((vector_1 - vector_2) ** 2))\n",
    "print(np.sqrt(sum((vector_1 - vector_2) ** 2)))\n",
    "\n",
    "# numpy 함수 사용\n",
    "np.linalg.norm(vector_1 - vector_2), np.linalg.norm(vector_1 - vector_3)"
   ]
  },
  {
   "cell_type": "code",
   "execution_count": 4,
   "metadata": {},
   "outputs": [
    {
     "data": {
      "text/plain": [
       "6.324555320336759"
      ]
     },
     "execution_count": 4,
     "metadata": {},
     "output_type": "execute_result"
    }
   ],
   "source": [
    "def euclidean_smimilarity(vector_1, vector_2):\n",
    "    return np.linalg.norm(vector_1 - vector_2)\n",
    "\n",
    "euclidean_smimilarity(vector_1, vector_2)"
   ]
  },
  {
   "cell_type": "markdown",
   "metadata": {},
   "source": [
    "##### 2. Cosine Similarity\n",
    "- 벡터 사이의 cosine 각\n",
    "- 각이 작으면 같은 방향성을 가지기 때문에 비슷한 특징을 가짐\n",
    "- 벡터의 내적 / 벡터의 크기\n",
    "- 내적이 클수록, 벡터의 크기가 작을수록 유사도가 높다"
   ]
  },
  {
   "cell_type": "markdown",
   "metadata": {},
   "source": [
    "<img src=\"img/cf1.png\" style=\"width:150px; float:left;\">"
   ]
  },
  {
   "cell_type": "markdown",
   "metadata": {},
   "source": [
    "<img src=\"img/cf2.png\" style=\"width:400px; float:left;\">"
   ]
  },
  {
   "cell_type": "markdown",
   "metadata": {},
   "source": [
    "내적\n",
    "- A벡터의 크기가 1일때, B벡터가 A벡터와 $\\theta$ 30도 일때 C의 크기는 0.866(벡터의 내적) \n",
    "- A벡터와 B벡터의 $\\theta$가 커질수록 내적의 크기는 작아진다."
   ]
  },
  {
   "cell_type": "markdown",
   "metadata": {},
   "source": [
    "<img src=\"img/cf3.png\" style=\"width:400px; float:left;\">"
   ]
  },
  {
   "cell_type": "code",
   "execution_count": 5,
   "metadata": {},
   "outputs": [],
   "source": [
    "import numpy as np\n",
    "from scipy import spatial"
   ]
  },
  {
   "cell_type": "code",
   "execution_count": 6,
   "metadata": {},
   "outputs": [],
   "source": [
    "# 샘플 데이터\n",
    "vector_1 = np.array([1,2,3,4,5])\n",
    "vector_2 = np.array([5,4,3,2,1])\n",
    "vector_3 = np.array([11,19,28,32,47])"
   ]
  },
  {
   "cell_type": "code",
   "execution_count": 7,
   "metadata": {},
   "outputs": [
    {
     "name": "stdout",
     "output_type": "stream",
     "text": [
      "35\n",
      "35\n"
     ]
    }
   ],
   "source": [
    "# 벡터의 내적 (분자)\n",
    "print(sum(vector_1 * vector_2))\n",
    "print(np.dot(vector_1, vector_2)) # 내적 numpy 함수\n",
    "inner = np.dot(vector_1, vector_2)"
   ]
  },
  {
   "cell_type": "code",
   "execution_count": 8,
   "metadata": {},
   "outputs": [
    {
     "name": "stdout",
     "output_type": "stream",
     "text": [
      "[ 1  4  9 16 25] [25 16  9  4  1]\n",
      "55 55\n",
      "7.416198487095663 7.416198487095663\n",
      "55.0\n"
     ]
    }
   ],
   "source": [
    "# 벡터의 크기 (분모)\n",
    "print(vector_1 * vector_1, vector_2 * vector_2)\n",
    "print(sum(vector_1 * vector_1), sum(vector_2 * vector_2))\n",
    "print(np.sqrt(sum(vector_1 * vector_1)), np.sqrt(sum(vector_2 * vector_2)))\n",
    "print(np.sqrt(sum(vector_1 * vector_1)) * np.sqrt(sum(vector_2 * vector_2)))\n",
    "size = np.sqrt(sum(vector_1 * vector_1)) * np.sqrt(sum(vector_2 * vector_2))"
   ]
  },
  {
   "cell_type": "code",
   "execution_count": 9,
   "metadata": {},
   "outputs": [
    {
     "data": {
      "text/plain": [
       "0.6363636363636364"
      ]
     },
     "execution_count": 9,
     "metadata": {},
     "output_type": "execute_result"
    }
   ],
   "source": [
    "# 벡터의 내적 / 벡터의 크기\n",
    "inner / size"
   ]
  },
  {
   "cell_type": "code",
   "execution_count": 10,
   "metadata": {},
   "outputs": [
    {
     "data": {
      "text/plain": [
       "(0.6363636363636364, 0.9971083087048903)"
      ]
     },
     "execution_count": 10,
     "metadata": {},
     "output_type": "execute_result"
    }
   ],
   "source": [
    "# scipy 함수 사용\n",
    "1 - spatial.distance.cosine(vector_1, vector_2), 1 - spatial.distance.cosine(vector_1, vector_3)"
   ]
  },
  {
   "cell_type": "markdown",
   "metadata": {},
   "source": [
    "##### 3. Compare Euclidean Distance & Cosine Similarity"
   ]
  },
  {
   "cell_type": "markdown",
   "metadata": {},
   "source": [
    "<img src=\"img/cf4.png\" style=\"width:300px; float:left;\">"
   ]
  }
 ],
 "metadata": {
  "kernelspec": {
   "display_name": "Python 3",
   "language": "python",
   "name": "python3"
  },
  "language_info": {
   "codemirror_mode": {
    "name": "ipython",
    "version": 3
   },
   "file_extension": ".py",
   "mimetype": "text/x-python",
   "name": "python",
   "nbconvert_exporter": "python",
   "pygments_lexer": "ipython3",
   "version": "3.6.3"
  }
 },
 "nbformat": 4,
 "nbformat_minor": 2
}
