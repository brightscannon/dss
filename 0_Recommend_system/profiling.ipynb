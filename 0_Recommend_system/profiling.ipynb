{
 "cells": [
  {
   "cell_type": "markdown",
   "metadata": {},
   "source": [
    "### Profiling"
   ]
  },
  {
   "cell_type": "markdown",
   "metadata": {},
   "source": [
    "#### 1. time function"
   ]
  },
  {
   "cell_type": "code",
   "execution_count": 1,
   "metadata": {},
   "outputs": [
    {
     "name": "stdout",
     "output_type": "stream",
     "text": [
      "0.2008829116821289\n"
     ]
    }
   ],
   "source": [
    "def main():\n",
    "    x = range(10000000)\n",
    "    start= time.time()\n",
    "    sum(x)\n",
    "    finish= time.time()\n",
    "    runtime = finish - start\n",
    "    print(runtime)\n",
    "    \n",
    "main()"
   ]
  },
  {
   "cell_type": "code",
   "execution_count": 2,
   "metadata": {},
   "outputs": [
    {
     "name": "stdout",
     "output_type": "stream",
     "text": [
      "0.5981061458587646\n"
     ]
    }
   ],
   "source": [
    "def main():\n",
    "    x = range(10000000)\n",
    "    start= time.time()\n",
    "    total = 0\n",
    "    for number in x:\n",
    "        total += number\n",
    "    finish= time.time()\n",
    "    runtime = finish - start\n",
    "    print(runtime)\n",
    "    \n",
    "main()"
   ]
  },
  {
   "cell_type": "markdown",
   "metadata": {},
   "source": [
    "#### 2. timeit"
   ]
  },
  {
   "cell_type": "code",
   "execution_count": 3,
   "metadata": {},
   "outputs": [
    {
     "name": "stdout",
     "output_type": "stream",
     "text": [
      "0.5732910633087158\n",
      "0.5737342834472656\n",
      "0.5701701641082764\n",
      "0.5639679431915283\n",
      "0.5647950172424316\n",
      "0.5733780860900879\n",
      "0.6085290908813477\n",
      "0.5957751274108887\n",
      "579 ms ± 15.7 ms per loop (mean ± std. dev. of 7 runs, 1 loop each)\n"
     ]
    }
   ],
   "source": [
    "%%timeit\n",
    "def main():\n",
    "    x = range(10000000)\n",
    "    start= time.time()\n",
    "    total = 0\n",
    "    for number in x:\n",
    "        total += number\n",
    "    finish= time.time()\n",
    "    runtime = finish - start\n",
    "    print(runtime)\n",
    "    \n",
    "main()"
   ]
  },
  {
   "cell_type": "markdown",
   "metadata": {},
   "source": [
    "#### 3. cProfile"
   ]
  },
  {
   "cell_type": "markdown",
   "metadata": {},
   "source": [
    "- ncalls: 호출 횟수\n",
    "- tottime: 함수가 실행된 타임 (인터널 타임)\n",
    "- cumtime: 누적 시간    \n",
    "- percall: 호출당 실행시간\n",
    "- filename: 파일명    \n",
    "- line: 행 번호\n",
    "- function : 함수이름"
   ]
  },
  {
   "cell_type": "code",
   "execution_count": 4,
   "metadata": {
    "scrolled": false
   },
   "outputs": [
    {
     "name": "stdout",
     "output_type": "stream",
     "text": [
      "         10 function calls in 3.005 seconds\n",
      "\n",
      "   Ordered by: standard name\n",
      "\n",
      "   ncalls  tottime  percall  cumtime  percall filename:lineno(function)\n",
      "        1    0.000    0.000    3.005    3.005 <ipython-input-4-5c3c7d5fd6b6>:12(main)\n",
      "        1    0.000    0.000    0.502    0.502 <ipython-input-4-5c3c7d5fd6b6>:3(delay1)\n",
      "        1    0.000    0.000    1.002    1.002 <ipython-input-4-5c3c7d5fd6b6>:6(delay2)\n",
      "        1    0.000    0.000    1.500    1.500 <ipython-input-4-5c3c7d5fd6b6>:9(delay3)\n",
      "        1    0.000    0.000    3.005    3.005 <string>:1(<module>)\n",
      "        1    0.000    0.000    3.005    3.005 {built-in method builtins.exec}\n",
      "        3    3.005    1.002    3.005    1.002 {built-in method time.sleep}\n",
      "        1    0.000    0.000    0.000    0.000 {method 'disable' of '_lsprof.Profiler' objects}\n",
      "\n",
      "\n"
     ]
    }
   ],
   "source": [
    "import cProfile\n",
    "\n",
    "def delay1():\n",
    "    time.sleep(0.5)\n",
    "\n",
    "def delay2():\n",
    "    time.sleep(1)\n",
    "\n",
    "def delay3():\n",
    "    time.sleep(1.5)\n",
    "    \n",
    "def main():\n",
    "    delay1()\n",
    "    delay2()\n",
    "    delay3()\n",
    "\n",
    "cProfile.run(\"main()\")"
   ]
  },
  {
   "cell_type": "markdown",
   "metadata": {},
   "source": [
    "#### 4. cProfile - decorater"
   ]
  },
  {
   "cell_type": "code",
   "execution_count": 5,
   "metadata": {},
   "outputs": [],
   "source": [
    "import cProfile"
   ]
  },
  {
   "cell_type": "code",
   "execution_count": 6,
   "metadata": {},
   "outputs": [],
   "source": [
    "# decorater function\n",
    "def profile_this(fn):\n",
    "    def profile_fu(*args, **kwargs):\n",
    "        fpath = fn.__name__ + \".profile\"\n",
    "        prof = cProfile.Profile()\n",
    "        ret = prof.runcall(fn, *args, **kwargs)\n",
    "        prof.dump_stats(fpath)\n",
    "        return ret\n",
    "    return profile_fu"
   ]
  },
  {
   "cell_type": "code",
   "execution_count": 7,
   "metadata": {},
   "outputs": [
    {
     "name": "stdout",
     "output_type": "stream",
     "text": [
      "         5 function calls in 3.011 seconds\n",
      "\n",
      "   Ordered by: standard name\n",
      "\n",
      "   ncalls  tottime  percall  cumtime  percall filename:lineno(function)\n",
      "        1    0.000    0.000    3.011    3.011 <ipython-input-6-4d265bf74471>:3(profile_fu)\n",
      "        1    0.000    0.000    3.011    3.011 <string>:1(<module>)\n",
      "        1    0.000    0.000    3.011    3.011 cProfile.py:106(runcall)\n",
      "        1    0.000    0.000    3.011    3.011 {built-in method builtins.exec}\n",
      "        1    3.011    3.011    3.011    3.011 {method 'enable' of '_lsprof.Profiler' objects}\n",
      "\n",
      "\n"
     ]
    }
   ],
   "source": [
    "import cProfile\n",
    "\n",
    "def delay1():\n",
    "    time.sleep(0.5)\n",
    "\n",
    "def delay2():\n",
    "    time.sleep(1)\n",
    "\n",
    "def delay3():\n",
    "    time.sleep(1.5)\n",
    "\n",
    "@profile_this\n",
    "def main():\n",
    "    delay1()\n",
    "    delay2()\n",
    "    delay3()\n",
    "\n",
    "cProfile.run(\"main()\")"
   ]
  },
  {
   "cell_type": "markdown",
   "metadata": {},
   "source": [
    "#### 5. pstats"
   ]
  },
  {
   "cell_type": "code",
   "execution_count": 8,
   "metadata": {},
   "outputs": [],
   "source": [
    "import pstats"
   ]
  },
  {
   "cell_type": "code",
   "execution_count": 9,
   "metadata": {},
   "outputs": [],
   "source": [
    "p = pstats.Stats(\"main.profile\")"
   ]
  },
  {
   "cell_type": "code",
   "execution_count": 10,
   "metadata": {},
   "outputs": [
    {
     "data": {
      "text/plain": [
       "<pstats.Stats at 0x1135433c8>"
      ]
     },
     "execution_count": 10,
     "metadata": {},
     "output_type": "execute_result"
    }
   ],
   "source": [
    "p.sort_stats(\"time\")"
   ]
  },
  {
   "cell_type": "code",
   "execution_count": 11,
   "metadata": {
    "scrolled": false
   },
   "outputs": [
    {
     "name": "stdout",
     "output_type": "stream",
     "text": [
      "Thu Aug  9 00:53:19 2018    main.profile\n",
      "\n",
      "         8 function calls in 3.008 seconds\n",
      "\n",
      "   Ordered by: internal time\n",
      "   List reduced from 6 to 5 due to restriction <5>\n",
      "\n",
      "   ncalls  tottime  percall  cumtime  percall filename:lineno(function)\n",
      "        3    3.008    1.003    3.008    1.003 {built-in method time.sleep}\n",
      "        1    0.000    0.000    3.008    3.008 <ipython-input-7-cb169eef2bd0>:12(main)\n",
      "        1    0.000    0.000    1.502    1.502 <ipython-input-7-cb169eef2bd0>:9(delay3)\n",
      "        1    0.000    0.000    1.003    1.003 <ipython-input-7-cb169eef2bd0>:6(delay2)\n",
      "        1    0.000    0.000    0.503    0.503 <ipython-input-7-cb169eef2bd0>:3(delay1)\n",
      "\n",
      "\n"
     ]
    },
    {
     "data": {
      "text/plain": [
       "<pstats.Stats at 0x1135433c8>"
      ]
     },
     "execution_count": 11,
     "metadata": {},
     "output_type": "execute_result"
    }
   ],
   "source": [
    "p.print_stats(5)"
   ]
  }
 ],
 "metadata": {
  "kernelspec": {
   "display_name": "Python 3",
   "language": "python",
   "name": "python3"
  },
  "language_info": {
   "codemirror_mode": {
    "name": "ipython",
    "version": 3
   },
   "file_extension": ".py",
   "mimetype": "text/x-python",
   "name": "python",
   "nbconvert_exporter": "python",
   "pygments_lexer": "ipython3",
   "version": "3.6.4"
  }
 },
 "nbformat": 4,
 "nbformat_minor": 2
}
