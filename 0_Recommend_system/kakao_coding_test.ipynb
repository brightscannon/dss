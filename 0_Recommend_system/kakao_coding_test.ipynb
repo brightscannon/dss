{
 "cells": [
  {
   "cell_type": "markdown",
   "metadata": {},
   "source": [
    "### 1. Complement"
   ]
  },
  {
   "cell_type": "code",
   "execution_count": 8,
   "metadata": {},
   "outputs": [],
   "source": [
    "def getIntegerComplement(n):\n",
    "    n = bin(n)[2:] # change binary 10진수를 2진수로 변환\n",
    "    print(n)\n",
    "    result = [ \"0\" if c == \"1\" else \"1\" for c in n ] # complement\n",
    "    print(\"\".join(result))\n",
    "    return int(\"0b\" + \"\".join(result), 2) # change decimal : 2진수를 10진수로 변환"
   ]
  },
  {
   "cell_type": "code",
   "execution_count": 9,
   "metadata": {},
   "outputs": [
    {
     "name": "stdout",
     "output_type": "stream",
     "text": [
      "110010\n",
      "001101\n",
      "13\n"
     ]
    }
   ],
   "source": [
    "n = 50\n",
    "print(getIntegerComplement(n))"
   ]
  },
  {
   "cell_type": "code",
   "execution_count": 3,
   "metadata": {},
   "outputs": [
    {
     "name": "stdout",
     "output_type": "stream",
     "text": [
      "1100100\n",
      "27\n"
     ]
    }
   ],
   "source": [
    "n = 100\n",
    "print(getIntegerComplement(n))"
   ]
  },
  {
   "cell_type": "markdown",
   "metadata": {},
   "source": [
    "### 2. Arrange"
   ]
  },
  {
   "cell_type": "code",
   "execution_count": 28,
   "metadata": {},
   "outputs": [],
   "source": [
    "def arrange(sentence):\n",
    "    s = sentence.lower()[:-1]\n",
    "    s = s.split(\" \")\n",
    "    s.sort(key=len) # length로 오름차순으로 소팅\n",
    "    s = \" \".join(s)\n",
    "    s = s[:1].upper() + s[1:] + \".\"\n",
    "    return s"
   ]
  },
  {
   "cell_type": "code",
   "execution_count": 29,
   "metadata": {},
   "outputs": [
    {
     "data": {
      "text/plain": [
       "'In the are lines order printed reverse.'"
      ]
     },
     "execution_count": 29,
     "metadata": {},
     "output_type": "execute_result"
    }
   ],
   "source": [
    "s = \"The lines are printed in reverse order.\"\n",
    "arrange(s)"
   ]
  },
  {
   "cell_type": "markdown",
   "metadata": {},
   "source": [
    "### 3. String Transformation"
   ]
  },
  {
   "cell_type": "code",
   "execution_count": 30,
   "metadata": {},
   "outputs": [],
   "source": [
    "def strTransformation1(s):                \n",
    "    q = ''    \n",
    "    for idx, char in enumerate(s):\n",
    "        if char in s[:idx]:\n",
    "            c = s[:idx].count(char)\n",
    "            char = chr(97 + (ord(char) - 97 + c) % 26)\n",
    "        q += char\n",
    "    return q"
   ]
  },
  {
   "cell_type": "code",
   "execution_count": 31,
   "metadata": {},
   "outputs": [],
   "source": [
    "from collections import Counter\n",
    "\n",
    "def strTransformation2(s):\n",
    "    counter = Counter(s)\n",
    "    q = \"\"\n",
    "    for idx in range(len(s)-1, -1, -1):\n",
    "        char = s[idx] \n",
    "        if counter[char] != 0:\n",
    "            counter[char] = counter[char] - 1\n",
    "            c = counter[char]\n",
    "            char = chr(97 + (ord(char) - 97 + c) % 26)\n",
    "        q += char\n",
    "    return q[::-1]"
   ]
  },
  {
   "cell_type": "code",
   "execution_count": 35,
   "metadata": {},
   "outputs": [
    {
     "data": {
      "text/plain": [
       "'xyzyzazab'"
      ]
     },
     "execution_count": 35,
     "metadata": {},
     "output_type": "execute_result"
    }
   ],
   "source": [
    "s = 'xyzxyzxyz'\n",
    "strTransformation1(s)"
   ]
  },
  {
   "cell_type": "code",
   "execution_count": 9,
   "metadata": {
    "scrolled": true
   },
   "outputs": [
    {
     "name": "stdout",
     "output_type": "stream",
     "text": [
      "CPU times: user 1.55 s, sys: 15.6 ms, total: 1.56 s\n",
      "Wall time: 1.62 s\n"
     ]
    }
   ],
   "source": [
    "%%time\n",
    "# include 1s\n",
    "s = \"b\" * 10000\n",
    "for _ in range(20):\n",
    "    strTransformation1(s)"
   ]
  },
  {
   "cell_type": "code",
   "execution_count": 10,
   "metadata": {},
   "outputs": [
    {
     "name": "stdout",
     "output_type": "stream",
     "text": [
      "CPU times: user 383 ms, sys: 5.52 ms, total: 388 ms\n",
      "Wall time: 398 ms\n"
     ]
    }
   ],
   "source": [
    "%%time\n",
    "# include 1s\n",
    "s = \"b\" * 10000\n",
    "for _ in range(20):\n",
    "    strTransformation2(s)"
   ]
  },
  {
   "cell_type": "code",
   "execution_count": null,
   "metadata": {
    "collapsed": true
   },
   "outputs": [],
   "source": []
  }
 ],
 "metadata": {
  "kernelspec": {
   "display_name": "Python 3",
   "language": "python",
   "name": "python3"
  },
  "language_info": {
   "codemirror_mode": {
    "name": "ipython",
    "version": 3
   },
   "file_extension": ".py",
   "mimetype": "text/x-python",
   "name": "python",
   "nbconvert_exporter": "python",
   "pygments_lexer": "ipython3",
   "version": "3.6.3"
  }
 },
 "nbformat": 4,
 "nbformat_minor": 2
}
