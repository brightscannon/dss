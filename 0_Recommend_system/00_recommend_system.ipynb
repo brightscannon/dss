{
 "cells": [
  {
   "cell_type": "markdown",
   "metadata": {},
   "source": [
    "- 아주 간단한 샘플 데이터 협업 필터링 사용자 기반 알고리즘을 구현\n",
    "    - 유클리디안 디스턴스, 코사인\n",
    "- 캐글에서 영화 평점 데이터로 알고리즘을 구현\n",
    "    - 유사도, 그루핑 갯수 설정"
   ]
  },
  {
   "cell_type": "markdown",
   "metadata": {},
   "source": [
    "- 네이버의 추천시스템\n",
    "- https://m.blog.naver.com/naver_diary/220936643956\n"
   ]
  },
  {
   "cell_type": "code",
   "execution_count": null,
   "metadata": {},
   "outputs": [],
   "source": [
    "# 샘플데이터 만들기 AiRS\n"
   ]
  },
  {
   "cell_type": "code",
   "execution_count": 1,
   "metadata": {},
   "outputs": [],
   "source": [
    "import numpy as np\n",
    "import pandas as pd\n",
    "from scipy import spatial"
   ]
  },
  {
   "cell_type": "code",
   "execution_count": 2,
   "metadata": {},
   "outputs": [
    {
     "data": {
      "text/html": [
       "<div>\n",
       "<style>\n",
       "    .dataframe thead tr:only-child th {\n",
       "        text-align: right;\n",
       "    }\n",
       "\n",
       "    .dataframe thead th {\n",
       "        text-align: left;\n",
       "    }\n",
       "\n",
       "    .dataframe tbody tr th {\n",
       "        vertical-align: top;\n",
       "    }\n",
       "</style>\n",
       "<table border=\"1\" class=\"dataframe\">\n",
       "  <thead>\n",
       "    <tr style=\"text-align: right;\">\n",
       "      <th></th>\n",
       "      <th>article_1</th>\n",
       "      <th>article_2</th>\n",
       "      <th>article_3</th>\n",
       "      <th>article_4</th>\n",
       "      <th>article_5</th>\n",
       "      <th>article_6</th>\n",
       "    </tr>\n",
       "  </thead>\n",
       "  <tbody>\n",
       "    <tr>\n",
       "      <th>user_1</th>\n",
       "      <td>5</td>\n",
       "      <td>3</td>\n",
       "      <td>0</td>\n",
       "      <td>0</td>\n",
       "      <td>2</td>\n",
       "      <td>3</td>\n",
       "    </tr>\n",
       "    <tr>\n",
       "      <th>user_2</th>\n",
       "      <td>2</td>\n",
       "      <td>0</td>\n",
       "      <td>0</td>\n",
       "      <td>1</td>\n",
       "      <td>4</td>\n",
       "      <td>1</td>\n",
       "    </tr>\n",
       "    <tr>\n",
       "      <th>user_3</th>\n",
       "      <td>0</td>\n",
       "      <td>0</td>\n",
       "      <td>5</td>\n",
       "      <td>3</td>\n",
       "      <td>1</td>\n",
       "      <td>2</td>\n",
       "    </tr>\n",
       "    <tr>\n",
       "      <th>user_4</th>\n",
       "      <td>4</td>\n",
       "      <td>0</td>\n",
       "      <td>4</td>\n",
       "      <td>5</td>\n",
       "      <td>0</td>\n",
       "      <td>5</td>\n",
       "    </tr>\n",
       "    <tr>\n",
       "      <th>user_5</th>\n",
       "      <td>0</td>\n",
       "      <td>0</td>\n",
       "      <td>1</td>\n",
       "      <td>2</td>\n",
       "      <td>0</td>\n",
       "      <td>0</td>\n",
       "    </tr>\n",
       "  </tbody>\n",
       "</table>\n",
       "</div>"
      ],
      "text/plain": [
       "        article_1  article_2  article_3  article_4  article_5  article_6\n",
       "user_1          5          3          0          0          2          3\n",
       "user_2          2          0          0          1          4          1\n",
       "user_3          0          0          5          3          1          2\n",
       "user_4          4          0          4          5          0          5\n",
       "user_5          0          0          1          2          0          0"
      ]
     },
     "execution_count": 2,
     "metadata": {},
     "output_type": "execute_result"
    }
   ],
   "source": [
    "\n",
    "# 샘플 데이터에 대한 인덱스와 컬럼을 정의\n",
    "columns = [\"article_1\",\"article_2\",\"article_3\",\"article_4\",\"article_5\",\"article_6\"]\n",
    "index = [\"user_1\", \"user_2\", \"user_3\", \"user_4\", \"user_5\"]\n",
    "\n",
    "# 샘플 데이터에 대한 행렬을 만듦\n",
    "data = np.array([\n",
    "    [5,3,0,0,2,3],\n",
    "    [2,0,0,1,4,1],\n",
    "    [0,0,5,3,1,2],\n",
    "    [4,0,4,5,0,5],\n",
    "    [0,0,1,2,0,0],\n",
    "])\n",
    "\n",
    "# 샘플 데이터 프레임을 만듦\n",
    "sample_df = pd.DataFrame(data, columns=columns, index=index)\n",
    "sample_df"
   ]
  },
  {
   "cell_type": "code",
   "execution_count": 3,
   "metadata": {},
   "outputs": [],
   "source": [
    "def intersect_nonzero(vector_1, vector_2):\n",
    "    \n",
    "    idx = np.intersect1d(vector_1.nonzero(), vector_2.nonzero())\n",
    "    \n",
    "    vector_1 = vector_1[idx]\n",
    "    vector_2 = vector_2[idx]\n",
    "    \n",
    "    return vector_1, vector_2"
   ]
  },
  {
   "cell_type": "code",
   "execution_count": 4,
   "metadata": {},
   "outputs": [
    {
     "data": {
      "text/plain": [
       "(array([5, 2, 3]), array([2, 4, 1]))"
      ]
     },
     "execution_count": 4,
     "metadata": {},
     "output_type": "execute_result"
    }
   ],
   "source": [
    "intersect_nonzero(\n",
    "    sample_df.loc[\"user_1\"].values,\n",
    "    sample_df.loc[\"user_2\"].values\n",
    ")"
   ]
  },
  {
   "cell_type": "code",
   "execution_count": 6,
   "metadata": {},
   "outputs": [
    {
     "data": {
      "text/plain": [
       "(array([], dtype=int32), array([], dtype=int32))"
      ]
     },
     "execution_count": 6,
     "metadata": {},
     "output_type": "execute_result"
    }
   ],
   "source": [
    "intersect_nonzero(\n",
    "    sample_df.loc[\"user_1\"].values,\n",
    "    sample_df.loc[\"user_5\"].values\n",
    ")"
   ]
  },
  {
   "cell_type": "code",
   "execution_count": 8,
   "metadata": {},
   "outputs": [],
   "source": [
    "def euclidean_similarity(vec1,vec2):\n",
    "    \n",
    "    vec1,vec2 = intersect_nonzero(vec1,vec2)\n",
    "    \n",
    "    if not(len(vec1) or len(vec2)):\n",
    "        return None\n",
    "    \n",
    "\n",
    "    return np.linalg.norm(vec1 - vec2)"
   ]
  },
  {
   "cell_type": "code",
   "execution_count": 9,
   "metadata": {},
   "outputs": [
    {
     "name": "stdout",
     "output_type": "stream",
     "text": [
      "4.12310562562\n"
     ]
    }
   ],
   "source": [
    "result = euclidean_similarity(\n",
    "    sample_df.loc[\"user_1\"].values, \n",
    "    sample_df.loc[\"user_2\"].values,\n",
    ")\n",
    "print(result)"
   ]
  },
  {
   "cell_type": "code",
   "execution_count": 10,
   "metadata": {},
   "outputs": [
    {
     "name": "stdout",
     "output_type": "stream",
     "text": [
      "None\n"
     ]
    }
   ],
   "source": [
    "# test code 2\n",
    "result = euclidean_similarity(\n",
    "    sample_df.loc[\"user_1\"].values, \n",
    "    sample_df.loc[\"user_5\"].values,\n",
    ")\n",
    "print(result)"
   ]
  },
  {
   "cell_type": "code",
   "execution_count": 14,
   "metadata": {},
   "outputs": [],
   "source": [
    "def cosine_similarity(v1,v2):\n",
    "    v1, v2 = intersect_nonzero(v1,v2)\n",
    "    \n",
    "    if not (len(v1) or len(v2)):\n",
    "        return -1\n",
    "    return 1- spatial.distance.cosine(v1,v2)"
   ]
  },
  {
   "cell_type": "code",
   "execution_count": 15,
   "metadata": {},
   "outputs": [
    {
     "name": "stdout",
     "output_type": "stream",
     "text": [
      "0.743391941675\n"
     ]
    }
   ],
   "source": [
    "# test code 1\n",
    "result = cosine_similarity(\n",
    "    sample_df.loc[\"user_1\"].values, \n",
    "    sample_df.loc[\"user_2\"].values\n",
    ")\n",
    "print(result)"
   ]
  },
  {
   "cell_type": "code",
   "execution_count": 16,
   "metadata": {},
   "outputs": [
    {
     "name": "stdout",
     "output_type": "stream",
     "text": [
      "-1\n"
     ]
    }
   ],
   "source": [
    "# test code 2\n",
    "result = cosine_similarity(\n",
    "    sample_df.loc[\"user_1\"].values, \n",
    "    sample_df.loc[\"user_5\"].values,\n",
    ")\n",
    "print(result)"
   ]
  },
  {
   "cell_type": "code",
   "execution_count": 20,
   "metadata": {},
   "outputs": [],
   "source": [
    "def similarity_matrix(df, similarity_func=cosine_similarity):\n",
    "    matrix=[]\n",
    "    \n",
    "    for idx1, row1 in df.iterrows():\n",
    "        row=[]\n",
    "        for idx2, row2 in df.iterrows():\n",
    "            row.append(similarity_func(row1.values, row2.values))\n",
    "        matrix.append(row)\n",
    "        \n",
    "    sm_df = pd.DataFrame(matrix, columns=df.index, index=df.index)\n",
    "    \n",
    "    sm_df.fillna(df.max().max(), inplace=True)\n",
    "    \n",
    "    return sm_df"
   ]
  },
  {
   "cell_type": "code",
   "execution_count": 21,
   "metadata": {},
   "outputs": [
    {
     "data": {
      "text/html": [
       "<div>\n",
       "<style>\n",
       "    .dataframe thead tr:only-child th {\n",
       "        text-align: right;\n",
       "    }\n",
       "\n",
       "    .dataframe thead th {\n",
       "        text-align: left;\n",
       "    }\n",
       "\n",
       "    .dataframe tbody tr th {\n",
       "        vertical-align: top;\n",
       "    }\n",
       "</style>\n",
       "<table border=\"1\" class=\"dataframe\">\n",
       "  <thead>\n",
       "    <tr style=\"text-align: right;\">\n",
       "      <th></th>\n",
       "      <th>user_1</th>\n",
       "      <th>user_2</th>\n",
       "      <th>user_3</th>\n",
       "      <th>user_4</th>\n",
       "      <th>user_5</th>\n",
       "    </tr>\n",
       "  </thead>\n",
       "  <tbody>\n",
       "    <tr>\n",
       "      <th>user_1</th>\n",
       "      <td>0.000000</td>\n",
       "      <td>4.123106</td>\n",
       "      <td>1.414214</td>\n",
       "      <td>2.236068</td>\n",
       "      <td>5.000000</td>\n",
       "    </tr>\n",
       "    <tr>\n",
       "      <th>user_2</th>\n",
       "      <td>4.123106</td>\n",
       "      <td>0.000000</td>\n",
       "      <td>3.741657</td>\n",
       "      <td>6.000000</td>\n",
       "      <td>1.000000</td>\n",
       "    </tr>\n",
       "    <tr>\n",
       "      <th>user_3</th>\n",
       "      <td>1.414214</td>\n",
       "      <td>3.741657</td>\n",
       "      <td>0.000000</td>\n",
       "      <td>3.741657</td>\n",
       "      <td>4.123106</td>\n",
       "    </tr>\n",
       "    <tr>\n",
       "      <th>user_4</th>\n",
       "      <td>2.236068</td>\n",
       "      <td>6.000000</td>\n",
       "      <td>3.741657</td>\n",
       "      <td>0.000000</td>\n",
       "      <td>4.242641</td>\n",
       "    </tr>\n",
       "    <tr>\n",
       "      <th>user_5</th>\n",
       "      <td>5.000000</td>\n",
       "      <td>1.000000</td>\n",
       "      <td>4.123106</td>\n",
       "      <td>4.242641</td>\n",
       "      <td>0.000000</td>\n",
       "    </tr>\n",
       "  </tbody>\n",
       "</table>\n",
       "</div>"
      ],
      "text/plain": [
       "          user_1    user_2    user_3    user_4    user_5\n",
       "user_1  0.000000  4.123106  1.414214  2.236068  5.000000\n",
       "user_2  4.123106  0.000000  3.741657  6.000000  1.000000\n",
       "user_3  1.414214  3.741657  0.000000  3.741657  4.123106\n",
       "user_4  2.236068  6.000000  3.741657  0.000000  4.242641\n",
       "user_5  5.000000  1.000000  4.123106  4.242641  0.000000"
      ]
     },
     "execution_count": 21,
     "metadata": {},
     "output_type": "execute_result"
    }
   ],
   "source": [
    "# 유클리디안 거리 유사도로 행렬 구함\n",
    "sm_df = similarity_matrix(sample_df, euclidean_similarity)   \n",
    "sm_df"
   ]
  },
  {
   "cell_type": "code",
   "execution_count": 22,
   "metadata": {},
   "outputs": [
    {
     "data": {
      "text/html": [
       "<div>\n",
       "<style>\n",
       "    .dataframe thead tr:only-child th {\n",
       "        text-align: right;\n",
       "    }\n",
       "\n",
       "    .dataframe thead th {\n",
       "        text-align: left;\n",
       "    }\n",
       "\n",
       "    .dataframe tbody tr th {\n",
       "        vertical-align: top;\n",
       "    }\n",
       "</style>\n",
       "<table border=\"1\" class=\"dataframe\">\n",
       "  <thead>\n",
       "    <tr style=\"text-align: right;\">\n",
       "      <th></th>\n",
       "      <th>user_1</th>\n",
       "      <th>user_2</th>\n",
       "      <th>user_3</th>\n",
       "      <th>user_4</th>\n",
       "      <th>user_5</th>\n",
       "    </tr>\n",
       "  </thead>\n",
       "  <tbody>\n",
       "    <tr>\n",
       "      <th>user_1</th>\n",
       "      <td>1.000000</td>\n",
       "      <td>0.743392</td>\n",
       "      <td>0.992278</td>\n",
       "      <td>0.937425</td>\n",
       "      <td>-1.000000</td>\n",
       "    </tr>\n",
       "    <tr>\n",
       "      <th>user_2</th>\n",
       "      <td>0.743392</td>\n",
       "      <td>1.000000</td>\n",
       "      <td>0.566947</td>\n",
       "      <td>0.904534</td>\n",
       "      <td>1.000000</td>\n",
       "    </tr>\n",
       "    <tr>\n",
       "      <th>user_3</th>\n",
       "      <td>0.992278</td>\n",
       "      <td>0.566947</td>\n",
       "      <td>1.000000</td>\n",
       "      <td>0.898563</td>\n",
       "      <td>0.843661</td>\n",
       "    </tr>\n",
       "    <tr>\n",
       "      <th>user_4</th>\n",
       "      <td>0.937425</td>\n",
       "      <td>0.904534</td>\n",
       "      <td>0.898563</td>\n",
       "      <td>1.000000</td>\n",
       "      <td>0.977802</td>\n",
       "    </tr>\n",
       "    <tr>\n",
       "      <th>user_5</th>\n",
       "      <td>-1.000000</td>\n",
       "      <td>1.000000</td>\n",
       "      <td>0.843661</td>\n",
       "      <td>0.977802</td>\n",
       "      <td>1.000000</td>\n",
       "    </tr>\n",
       "  </tbody>\n",
       "</table>\n",
       "</div>"
      ],
      "text/plain": [
       "          user_1    user_2    user_3    user_4    user_5\n",
       "user_1  1.000000  0.743392  0.992278  0.937425 -1.000000\n",
       "user_2  0.743392  1.000000  0.566947  0.904534  1.000000\n",
       "user_3  0.992278  0.566947  1.000000  0.898563  0.843661\n",
       "user_4  0.937425  0.904534  0.898563  1.000000  0.977802\n",
       "user_5 -1.000000  1.000000  0.843661  0.977802  1.000000"
      ]
     },
     "execution_count": 22,
     "metadata": {},
     "output_type": "execute_result"
    }
   ],
   "source": [
    "# 코사인 유사도로 행렬 구함\n",
    "sm_df = similarity_matrix(sample_df)   \n",
    "sm_df"
   ]
  },
  {
   "cell_type": "code",
   "execution_count": 24,
   "metadata": {},
   "outputs": [],
   "source": [
    "def pred_score(df, sm_df, user,closer_count=2):\n",
    "    user_vec = df.loc[user]\n",
    "    ms_df=sm_df.drop(user)\n",
    "    ms_df=ms_df.sort_values(user,ascending=False)\n",
    "    ms_df=ms_df[:closer_count]\n",
    "    ms_df=df.loc[ms_df.index]\n",
    "    \n",
    "    mean_vec=[]\n",
    "    for idx, column in ms_df.items():\n",
    "        non_zero_count = len(np.nonzero(column.values)[0])\n",
    "        \n",
    "        mean = 0 if non_zero_count == 0 else sum(column.values)/non_zero_count\n",
    "        \n",
    "        mean_vec.append(mean)\n",
    "        \n",
    "    pred_df = pd.DataFrame(columns=df.columns)\n",
    "    pred_df.loc[\"user\"] = df.loc[user]\n",
    "    pred_df.loc[\"pred\"] = mean_vec\n",
    "    \n",
    "    return ms_df, pred_df"
   ]
  },
  {
   "cell_type": "code",
   "execution_count": 25,
   "metadata": {},
   "outputs": [],
   "source": [
    "ms_df, pred_df = pred_score(sample_df, sm_df, \"user_1\")"
   ]
  },
  {
   "cell_type": "code",
   "execution_count": 26,
   "metadata": {},
   "outputs": [
    {
     "data": {
      "text/html": [
       "<div>\n",
       "<style>\n",
       "    .dataframe thead tr:only-child th {\n",
       "        text-align: right;\n",
       "    }\n",
       "\n",
       "    .dataframe thead th {\n",
       "        text-align: left;\n",
       "    }\n",
       "\n",
       "    .dataframe tbody tr th {\n",
       "        vertical-align: top;\n",
       "    }\n",
       "</style>\n",
       "<table border=\"1\" class=\"dataframe\">\n",
       "  <thead>\n",
       "    <tr style=\"text-align: right;\">\n",
       "      <th></th>\n",
       "      <th>article_1</th>\n",
       "      <th>article_2</th>\n",
       "      <th>article_3</th>\n",
       "      <th>article_4</th>\n",
       "      <th>article_5</th>\n",
       "      <th>article_6</th>\n",
       "    </tr>\n",
       "  </thead>\n",
       "  <tbody>\n",
       "    <tr>\n",
       "      <th>user_3</th>\n",
       "      <td>0</td>\n",
       "      <td>0</td>\n",
       "      <td>5</td>\n",
       "      <td>3</td>\n",
       "      <td>1</td>\n",
       "      <td>2</td>\n",
       "    </tr>\n",
       "    <tr>\n",
       "      <th>user_4</th>\n",
       "      <td>4</td>\n",
       "      <td>0</td>\n",
       "      <td>4</td>\n",
       "      <td>5</td>\n",
       "      <td>0</td>\n",
       "      <td>5</td>\n",
       "    </tr>\n",
       "  </tbody>\n",
       "</table>\n",
       "</div>"
      ],
      "text/plain": [
       "        article_1  article_2  article_3  article_4  article_5  article_6\n",
       "user_3          0          0          5          3          1          2\n",
       "user_4          4          0          4          5          0          5"
      ]
     },
     "execution_count": 26,
     "metadata": {},
     "output_type": "execute_result"
    }
   ],
   "source": [
    "ms_df"
   ]
  },
  {
   "cell_type": "code",
   "execution_count": 28,
   "metadata": {},
   "outputs": [
    {
     "data": {
      "text/html": [
       "<div>\n",
       "<style>\n",
       "    .dataframe thead tr:only-child th {\n",
       "        text-align: right;\n",
       "    }\n",
       "\n",
       "    .dataframe thead th {\n",
       "        text-align: left;\n",
       "    }\n",
       "\n",
       "    .dataframe tbody tr th {\n",
       "        vertical-align: top;\n",
       "    }\n",
       "</style>\n",
       "<table border=\"1\" class=\"dataframe\">\n",
       "  <thead>\n",
       "    <tr style=\"text-align: right;\">\n",
       "      <th></th>\n",
       "      <th>article_1</th>\n",
       "      <th>article_2</th>\n",
       "      <th>article_3</th>\n",
       "      <th>article_4</th>\n",
       "      <th>article_5</th>\n",
       "      <th>article_6</th>\n",
       "    </tr>\n",
       "  </thead>\n",
       "  <tbody>\n",
       "    <tr>\n",
       "      <th>user</th>\n",
       "      <td>5</td>\n",
       "      <td>3</td>\n",
       "      <td>0</td>\n",
       "      <td>0</td>\n",
       "      <td>2</td>\n",
       "      <td>3</td>\n",
       "    </tr>\n",
       "    <tr>\n",
       "      <th>pred</th>\n",
       "      <td>4</td>\n",
       "      <td>0</td>\n",
       "      <td>4.5</td>\n",
       "      <td>4</td>\n",
       "      <td>1</td>\n",
       "      <td>3.5</td>\n",
       "    </tr>\n",
       "  </tbody>\n",
       "</table>\n",
       "</div>"
      ],
      "text/plain": [
       "     article_1 article_2 article_3 article_4 article_5 article_6\n",
       "user         5         3         0         0         2         3\n",
       "pred         4         0       4.5         4         1       3.5"
      ]
     },
     "execution_count": 28,
     "metadata": {},
     "output_type": "execute_result"
    }
   ],
   "source": [
    "pred_df"
   ]
  },
  {
   "cell_type": "code",
   "execution_count": 32,
   "metadata": {},
   "outputs": [],
   "source": [
    "# 예측행렬\n",
    "\n",
    "def pred_matrix(df, similarity_func=cosine_similarity):\n",
    "    sm_df = similarity_matrix(df,similarity_func)\n",
    "    \n",
    "    users = df.index\n",
    "    \n",
    "    pred_vecs_1 = []\n",
    "    pred_vecs_2 = []\n",
    "    \n",
    "    for user in users:\n",
    "        ms_df, pred_df = pred_score(df,sm_df, user)\n",
    "        \n",
    "        pred_vecs_1.append(pred_df.loc[\"pred\"].copy())\n",
    "        \n",
    "        idx = pred_df.loc[\"user\"].nonzero()[0]\n",
    "        pred_df.loc[\"pred\"][idx] = 0\n",
    "        \n",
    "        pred_vecs_2.append(pred_df.loc[\"pred\"])\n",
    "        \n",
    "    non_zero_df = pd.DataFrame(pred_vecs_1, columns = df.columns, index = df.index)\n",
    "    is_zero_df = pd.DataFrame(pred_vecs_2, columns = df.columns, index = df.index)\n",
    "    \n",
    "    return non_zero_df, is_zero_df"
   ]
  },
  {
   "cell_type": "code",
   "execution_count": 33,
   "metadata": {},
   "outputs": [],
   "source": [
    "# test code - euclidean_similarity\n",
    "non_zero_df, is_zero_df = pred_matrix(sample_df, euclidean_similarity) "
   ]
  },
  {
   "cell_type": "code",
   "execution_count": 34,
   "metadata": {},
   "outputs": [
    {
     "data": {
      "text/html": [
       "<div>\n",
       "<style>\n",
       "    .dataframe thead tr:only-child th {\n",
       "        text-align: right;\n",
       "    }\n",
       "\n",
       "    .dataframe thead th {\n",
       "        text-align: left;\n",
       "    }\n",
       "\n",
       "    .dataframe tbody tr th {\n",
       "        vertical-align: top;\n",
       "    }\n",
       "</style>\n",
       "<table border=\"1\" class=\"dataframe\">\n",
       "  <thead>\n",
       "    <tr style=\"text-align: right;\">\n",
       "      <th></th>\n",
       "      <th>article_1</th>\n",
       "      <th>article_2</th>\n",
       "      <th>article_3</th>\n",
       "      <th>article_4</th>\n",
       "      <th>article_5</th>\n",
       "      <th>article_6</th>\n",
       "    </tr>\n",
       "  </thead>\n",
       "  <tbody>\n",
       "    <tr>\n",
       "      <th>user_1</th>\n",
       "      <td>2.0</td>\n",
       "      <td>0.0</td>\n",
       "      <td>1.0</td>\n",
       "      <td>1.5</td>\n",
       "      <td>4.0</td>\n",
       "      <td>1.0</td>\n",
       "    </tr>\n",
       "    <tr>\n",
       "      <th>user_2</th>\n",
       "      <td>4.5</td>\n",
       "      <td>3.0</td>\n",
       "      <td>4.0</td>\n",
       "      <td>5.0</td>\n",
       "      <td>2.0</td>\n",
       "      <td>4.0</td>\n",
       "    </tr>\n",
       "    <tr>\n",
       "      <th>user_3</th>\n",
       "      <td>2.0</td>\n",
       "      <td>0.0</td>\n",
       "      <td>1.0</td>\n",
       "      <td>1.5</td>\n",
       "      <td>4.0</td>\n",
       "      <td>1.0</td>\n",
       "    </tr>\n",
       "    <tr>\n",
       "      <th>user_4</th>\n",
       "      <td>2.0</td>\n",
       "      <td>0.0</td>\n",
       "      <td>1.0</td>\n",
       "      <td>1.5</td>\n",
       "      <td>4.0</td>\n",
       "      <td>1.0</td>\n",
       "    </tr>\n",
       "    <tr>\n",
       "      <th>user_5</th>\n",
       "      <td>4.5</td>\n",
       "      <td>3.0</td>\n",
       "      <td>4.0</td>\n",
       "      <td>5.0</td>\n",
       "      <td>2.0</td>\n",
       "      <td>4.0</td>\n",
       "    </tr>\n",
       "  </tbody>\n",
       "</table>\n",
       "</div>"
      ],
      "text/plain": [
       "        article_1  article_2  article_3  article_4  article_5  article_6\n",
       "user_1        2.0        0.0        1.0        1.5        4.0        1.0\n",
       "user_2        4.5        3.0        4.0        5.0        2.0        4.0\n",
       "user_3        2.0        0.0        1.0        1.5        4.0        1.0\n",
       "user_4        2.0        0.0        1.0        1.5        4.0        1.0\n",
       "user_5        4.5        3.0        4.0        5.0        2.0        4.0"
      ]
     },
     "execution_count": 34,
     "metadata": {},
     "output_type": "execute_result"
    }
   ],
   "source": [
    "non_zero_df"
   ]
  },
  {
   "cell_type": "code",
   "execution_count": 35,
   "metadata": {},
   "outputs": [
    {
     "data": {
      "text/html": [
       "<div>\n",
       "<style>\n",
       "    .dataframe thead tr:only-child th {\n",
       "        text-align: right;\n",
       "    }\n",
       "\n",
       "    .dataframe thead th {\n",
       "        text-align: left;\n",
       "    }\n",
       "\n",
       "    .dataframe tbody tr th {\n",
       "        vertical-align: top;\n",
       "    }\n",
       "</style>\n",
       "<table border=\"1\" class=\"dataframe\">\n",
       "  <thead>\n",
       "    <tr style=\"text-align: right;\">\n",
       "      <th></th>\n",
       "      <th>article_1</th>\n",
       "      <th>article_2</th>\n",
       "      <th>article_3</th>\n",
       "      <th>article_4</th>\n",
       "      <th>article_5</th>\n",
       "      <th>article_6</th>\n",
       "    </tr>\n",
       "  </thead>\n",
       "  <tbody>\n",
       "    <tr>\n",
       "      <th>user_1</th>\n",
       "      <td>0.0</td>\n",
       "      <td>0.0</td>\n",
       "      <td>1.0</td>\n",
       "      <td>1.5</td>\n",
       "      <td>0.0</td>\n",
       "      <td>0.0</td>\n",
       "    </tr>\n",
       "    <tr>\n",
       "      <th>user_2</th>\n",
       "      <td>0.0</td>\n",
       "      <td>3.0</td>\n",
       "      <td>4.0</td>\n",
       "      <td>0.0</td>\n",
       "      <td>0.0</td>\n",
       "      <td>0.0</td>\n",
       "    </tr>\n",
       "    <tr>\n",
       "      <th>user_3</th>\n",
       "      <td>2.0</td>\n",
       "      <td>0.0</td>\n",
       "      <td>0.0</td>\n",
       "      <td>0.0</td>\n",
       "      <td>0.0</td>\n",
       "      <td>0.0</td>\n",
       "    </tr>\n",
       "    <tr>\n",
       "      <th>user_4</th>\n",
       "      <td>0.0</td>\n",
       "      <td>0.0</td>\n",
       "      <td>0.0</td>\n",
       "      <td>0.0</td>\n",
       "      <td>4.0</td>\n",
       "      <td>0.0</td>\n",
       "    </tr>\n",
       "    <tr>\n",
       "      <th>user_5</th>\n",
       "      <td>4.5</td>\n",
       "      <td>3.0</td>\n",
       "      <td>0.0</td>\n",
       "      <td>0.0</td>\n",
       "      <td>2.0</td>\n",
       "      <td>4.0</td>\n",
       "    </tr>\n",
       "  </tbody>\n",
       "</table>\n",
       "</div>"
      ],
      "text/plain": [
       "        article_1  article_2  article_3  article_4  article_5  article_6\n",
       "user_1        0.0        0.0        1.0        1.5        0.0        0.0\n",
       "user_2        0.0        3.0        4.0        0.0        0.0        0.0\n",
       "user_3        2.0        0.0        0.0        0.0        0.0        0.0\n",
       "user_4        0.0        0.0        0.0        0.0        4.0        0.0\n",
       "user_5        4.5        3.0        0.0        0.0        2.0        4.0"
      ]
     },
     "execution_count": 35,
     "metadata": {},
     "output_type": "execute_result"
    }
   ],
   "source": [
    "is_zero_df"
   ]
  },
  {
   "cell_type": "code",
   "execution_count": 36,
   "metadata": {},
   "outputs": [],
   "source": [
    "# test code - cosine_similarity\n",
    "non_zero_df, is_zero_df = pred_matrix(sample_df) "
   ]
  },
  {
   "cell_type": "code",
   "execution_count": 37,
   "metadata": {},
   "outputs": [
    {
     "data": {
      "text/html": [
       "<div>\n",
       "<style>\n",
       "    .dataframe thead tr:only-child th {\n",
       "        text-align: right;\n",
       "    }\n",
       "\n",
       "    .dataframe thead th {\n",
       "        text-align: left;\n",
       "    }\n",
       "\n",
       "    .dataframe tbody tr th {\n",
       "        vertical-align: top;\n",
       "    }\n",
       "</style>\n",
       "<table border=\"1\" class=\"dataframe\">\n",
       "  <thead>\n",
       "    <tr style=\"text-align: right;\">\n",
       "      <th></th>\n",
       "      <th>article_1</th>\n",
       "      <th>article_2</th>\n",
       "      <th>article_3</th>\n",
       "      <th>article_4</th>\n",
       "      <th>article_5</th>\n",
       "      <th>article_6</th>\n",
       "    </tr>\n",
       "  </thead>\n",
       "  <tbody>\n",
       "    <tr>\n",
       "      <th>user_1</th>\n",
       "      <td>4.0</td>\n",
       "      <td>0.0</td>\n",
       "      <td>4.5</td>\n",
       "      <td>4.0</td>\n",
       "      <td>1.0</td>\n",
       "      <td>3.5</td>\n",
       "    </tr>\n",
       "    <tr>\n",
       "      <th>user_2</th>\n",
       "      <td>4.0</td>\n",
       "      <td>0.0</td>\n",
       "      <td>2.5</td>\n",
       "      <td>3.5</td>\n",
       "      <td>0.0</td>\n",
       "      <td>5.0</td>\n",
       "    </tr>\n",
       "    <tr>\n",
       "      <th>user_3</th>\n",
       "      <td>4.5</td>\n",
       "      <td>3.0</td>\n",
       "      <td>4.0</td>\n",
       "      <td>5.0</td>\n",
       "      <td>2.0</td>\n",
       "      <td>4.0</td>\n",
       "    </tr>\n",
       "    <tr>\n",
       "      <th>user_4</th>\n",
       "      <td>5.0</td>\n",
       "      <td>3.0</td>\n",
       "      <td>1.0</td>\n",
       "      <td>2.0</td>\n",
       "      <td>2.0</td>\n",
       "      <td>3.0</td>\n",
       "    </tr>\n",
       "    <tr>\n",
       "      <th>user_5</th>\n",
       "      <td>3.0</td>\n",
       "      <td>0.0</td>\n",
       "      <td>4.0</td>\n",
       "      <td>3.0</td>\n",
       "      <td>4.0</td>\n",
       "      <td>3.0</td>\n",
       "    </tr>\n",
       "  </tbody>\n",
       "</table>\n",
       "</div>"
      ],
      "text/plain": [
       "        article_1  article_2  article_3  article_4  article_5  article_6\n",
       "user_1        4.0        0.0        4.5        4.0        1.0        3.5\n",
       "user_2        4.0        0.0        2.5        3.5        0.0        5.0\n",
       "user_3        4.5        3.0        4.0        5.0        2.0        4.0\n",
       "user_4        5.0        3.0        1.0        2.0        2.0        3.0\n",
       "user_5        3.0        0.0        4.0        3.0        4.0        3.0"
      ]
     },
     "execution_count": 37,
     "metadata": {},
     "output_type": "execute_result"
    }
   ],
   "source": [
    "non_zero_df"
   ]
  },
  {
   "cell_type": "code",
   "execution_count": 38,
   "metadata": {},
   "outputs": [
    {
     "data": {
      "text/html": [
       "<div>\n",
       "<style>\n",
       "    .dataframe thead tr:only-child th {\n",
       "        text-align: right;\n",
       "    }\n",
       "\n",
       "    .dataframe thead th {\n",
       "        text-align: left;\n",
       "    }\n",
       "\n",
       "    .dataframe tbody tr th {\n",
       "        vertical-align: top;\n",
       "    }\n",
       "</style>\n",
       "<table border=\"1\" class=\"dataframe\">\n",
       "  <thead>\n",
       "    <tr style=\"text-align: right;\">\n",
       "      <th></th>\n",
       "      <th>article_1</th>\n",
       "      <th>article_2</th>\n",
       "      <th>article_3</th>\n",
       "      <th>article_4</th>\n",
       "      <th>article_5</th>\n",
       "      <th>article_6</th>\n",
       "    </tr>\n",
       "  </thead>\n",
       "  <tbody>\n",
       "    <tr>\n",
       "      <th>user_1</th>\n",
       "      <td>0.0</td>\n",
       "      <td>0.0</td>\n",
       "      <td>4.5</td>\n",
       "      <td>4.0</td>\n",
       "      <td>0.0</td>\n",
       "      <td>0.0</td>\n",
       "    </tr>\n",
       "    <tr>\n",
       "      <th>user_2</th>\n",
       "      <td>0.0</td>\n",
       "      <td>0.0</td>\n",
       "      <td>2.5</td>\n",
       "      <td>0.0</td>\n",
       "      <td>0.0</td>\n",
       "      <td>0.0</td>\n",
       "    </tr>\n",
       "    <tr>\n",
       "      <th>user_3</th>\n",
       "      <td>4.5</td>\n",
       "      <td>3.0</td>\n",
       "      <td>0.0</td>\n",
       "      <td>0.0</td>\n",
       "      <td>0.0</td>\n",
       "      <td>0.0</td>\n",
       "    </tr>\n",
       "    <tr>\n",
       "      <th>user_4</th>\n",
       "      <td>0.0</td>\n",
       "      <td>3.0</td>\n",
       "      <td>0.0</td>\n",
       "      <td>0.0</td>\n",
       "      <td>2.0</td>\n",
       "      <td>0.0</td>\n",
       "    </tr>\n",
       "    <tr>\n",
       "      <th>user_5</th>\n",
       "      <td>3.0</td>\n",
       "      <td>0.0</td>\n",
       "      <td>0.0</td>\n",
       "      <td>0.0</td>\n",
       "      <td>4.0</td>\n",
       "      <td>3.0</td>\n",
       "    </tr>\n",
       "  </tbody>\n",
       "</table>\n",
       "</div>"
      ],
      "text/plain": [
       "        article_1  article_2  article_3  article_4  article_5  article_6\n",
       "user_1        0.0        0.0        4.5        4.0        0.0        0.0\n",
       "user_2        0.0        0.0        2.5        0.0        0.0        0.0\n",
       "user_3        4.5        3.0        0.0        0.0        0.0        0.0\n",
       "user_4        0.0        3.0        0.0        0.0        2.0        0.0\n",
       "user_5        3.0        0.0        0.0        0.0        4.0        3.0"
      ]
     },
     "execution_count": 38,
     "metadata": {},
     "output_type": "execute_result"
    }
   ],
   "source": [
    "is_zero_df"
   ]
  },
  {
   "cell_type": "code",
   "execution_count": 39,
   "metadata": {},
   "outputs": [],
   "source": [
    "def recommand_result(target):\n",
    "    idx = is_zero_df.loc[target].sort_values(ascending=False)>0\n",
    "    \n",
    "    return list(idx[idx==True].index)"
   ]
  },
  {
   "cell_type": "code",
   "execution_count": 40,
   "metadata": {},
   "outputs": [
    {
     "data": {
      "text/plain": [
       "['article_5', 'article_6', 'article_1']"
      ]
     },
     "execution_count": 40,
     "metadata": {},
     "output_type": "execute_result"
    }
   ],
   "source": [
    "recommand_result(sample_df.index[4])"
   ]
  },
  {
   "cell_type": "code",
   "execution_count": 41,
   "metadata": {},
   "outputs": [
    {
     "name": "stdout",
     "output_type": "stream",
     "text": [
      "user_1 ['article_3', 'article_4']\n",
      "user_2 ['article_3']\n",
      "user_3 ['article_1', 'article_2']\n",
      "user_4 ['article_2', 'article_5']\n",
      "user_5 ['article_5', 'article_6', 'article_1']\n"
     ]
    }
   ],
   "source": [
    "for user in sample_df.index:\n",
    "    print(user, recommand_result(user))\n",
    "    "
   ]
  },
  {
   "cell_type": "code",
   "execution_count": 42,
   "metadata": {},
   "outputs": [],
   "source": [
    "def remove_zero_datas(value, pred):\n",
    "    idx = value.nonzero()[0]\n",
    "    value, pred = np.array(value)[idx], np.array(pred)[idx]\n",
    "    \n",
    "    return value, pred, idx"
   ]
  },
  {
   "cell_type": "code",
   "execution_count": 43,
   "metadata": {},
   "outputs": [
    {
     "data": {
      "text/plain": [
       "2.8125"
      ]
     },
     "execution_count": 43,
     "metadata": {},
     "output_type": "execute_result"
    }
   ],
   "source": [
    "def mse(value, pred):\n",
    "    value, pred, idx = remove_zero_datas(value, pred)\n",
    "    \n",
    "    return sum((value - pred)**2)/len(idx)\n",
    "\n",
    "mse(pred_df.loc[\"user\"], pred_df.loc[\"pred\"])"
   ]
  },
  {
   "cell_type": "code",
   "execution_count": 44,
   "metadata": {},
   "outputs": [
    {
     "data": {
      "text/plain": [
       "1.6770509831248424"
      ]
     },
     "execution_count": 44,
     "metadata": {},
     "output_type": "execute_result"
    }
   ],
   "source": [
    "def rmse(value, pred):\n",
    "    value, pred, idx = remove_zero_datas(value, pred)\n",
    "    \n",
    "    return np.sqrt(sum((value-pred)**2)/len(idx))\n",
    "\n",
    "rmse(pred_df.loc[\"user\"], pred_df.loc[\"pred\"])\n"
   ]
  },
  {
   "cell_type": "code",
   "execution_count": 51,
   "metadata": {},
   "outputs": [
    {
     "data": {
      "text/plain": [
       "1.375"
      ]
     },
     "execution_count": 51,
     "metadata": {},
     "output_type": "execute_result"
    }
   ],
   "source": [
    "def mae(value, pred):\n",
    "    value, pred, idx = remove_zero_datas(value, pred)\n",
    "    \n",
    "    return sum(np.absolute(value - pred)/len(idx))\n",
    "\n",
    "mae(pred_df.loc[\"user\"], pred_df.loc[\"pred\"])"
   ]
  },
  {
   "cell_type": "code",
   "execution_count": 52,
   "metadata": {},
   "outputs": [],
   "source": [
    "def evaluate(df, closer_count=2, similarity_func=cosine_similarity):\n",
    "    users=df.index\n",
    "    evaluate_results={}\n",
    "    \n",
    "    sm_df=similarity_matrix(df, similarity_func)\n",
    "    \n",
    "    algorithms = [mse,rmse, mae]\n",
    "    \n",
    "    for algorithm in algorithms:\n",
    "        evaluate_list = []\n",
    "        for user in users:\n",
    "            ms_df, pred_df = pred_score(df, sm_df, user, closer_count)\n",
    "            evaluate_value = algorithm(pred_df.loc[\"user\"], pred_df.loc[\"pred\"])\n",
    "            evaluate_list.append(evaluate_value)\n",
    "            \n",
    "        evaluate_results[algorithm.__name__]=sum(evaluate_list)/len(users)\n",
    "        \n",
    "    return evaluate_results"
   ]
  },
  {
   "cell_type": "code",
   "execution_count": 53,
   "metadata": {},
   "outputs": [
    {
     "data": {
      "text/plain": [
       "{'mse': 7.85, 'rmse': 2.6371561507692038, 'mae': 2.35}"
      ]
     },
     "execution_count": 53,
     "metadata": {},
     "output_type": "execute_result"
    }
   ],
   "source": [
    "# test code 1\n",
    "# closer_count : 1, similarity : cosine\n",
    "evaluate(sample_df, 1)"
   ]
  },
  {
   "cell_type": "code",
   "execution_count": 54,
   "metadata": {},
   "outputs": [
    {
     "data": {
      "text/plain": [
       "{'mse': 5.325, 'rmse': 2.2284347104730364, 'mae': 2.05}"
      ]
     },
     "execution_count": 54,
     "metadata": {},
     "output_type": "execute_result"
    }
   ],
   "source": [
    "# test code 2\n",
    "# closer_count : 2, similarity : cosine\n",
    "evaluate(sample_df, 2)"
   ]
  },
  {
   "cell_type": "code",
   "execution_count": 55,
   "metadata": {},
   "outputs": [
    {
     "data": {
      "text/plain": [
       "{'mse': 9.15, 'rmse': 2.913055312224881, 'mae': 2.75}"
      ]
     },
     "execution_count": 55,
     "metadata": {},
     "output_type": "execute_result"
    }
   ],
   "source": [
    "# test code 3\n",
    "# closer_count : 1, similarity : euclidean\n",
    "evaluate(sample_df, 1, euclidean_similarity)"
   ]
  },
  {
   "cell_type": "code",
   "execution_count": 56,
   "metadata": {},
   "outputs": [
    {
     "data": {
      "text/plain": [
       "{'mse': 8.3375, 'rmse': 2.8773879752811631, 'mae': 2.775}"
      ]
     },
     "execution_count": 56,
     "metadata": {},
     "output_type": "execute_result"
    }
   ],
   "source": [
    "# test code 4\n",
    "# closer_count : 2, similarity : euclidean\n",
    "evaluate(sample_df, 2, euclidean_similarity)"
   ]
  },
  {
   "cell_type": "code",
   "execution_count": null,
   "metadata": {},
   "outputs": [],
   "source": []
  }
 ],
 "metadata": {
  "kernelspec": {
   "display_name": "Python 3",
   "language": "python",
   "name": "python3"
  },
  "language_info": {
   "codemirror_mode": {
    "name": "ipython",
    "version": 3
   },
   "file_extension": ".py",
   "mimetype": "text/x-python",
   "name": "python",
   "nbconvert_exporter": "python",
   "pygments_lexer": "ipython3",
   "version": "3.6.3"
  }
 },
 "nbformat": 4,
 "nbformat_minor": 2
}
