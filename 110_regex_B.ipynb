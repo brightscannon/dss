{
 "cells": [
  {
   "cell_type": "markdown",
   "metadata": {},
   "source": [
    "## 정규표현식 - regex\n",
    "\n",
    "- 특정 패턴으로 문자열을 처리할때 사용되는 문법입니다.\n",
    "\n",
    "- 정규표현식 함수\n",
    "    - match : 문자열을 가장 앞에서부터 일치하는 패턴을 찾는 함수\n",
    "    - search : 문자열에서 가장 첫번째로 일치하는 패턴을 찾는 함수\n",
    "    - ★findall : 패턴과 일치하는 문자열을 모두 찾는 함수\n",
    "    - split : 문자열을 특정 패턴으로 나누는 함수\n",
    "    - sub : 문자열을 특정 패턴에 맞게 대체하는 함수\n",
    "\n",
    "- 패턴 - pattern\n",
    "    - "
   ]
  },
  {
   "cell_type": "code",
   "execution_count": 1,
   "metadata": {},
   "outputs": [],
   "source": [
    "#먼저 re를 받아야 정규표현식 사용 가능\n",
    "import re"
   ]
  },
  {
   "cell_type": "code",
   "execution_count": 29,
   "metadata": {},
   "outputs": [],
   "source": [
    "s = \"fast campus datascience fighting. datascience fighting. 1234 fast campus fighting.\""
   ]
  },
  {
   "cell_type": "markdown",
   "metadata": {},
   "source": [
    "### 1. match"
   ]
  },
  {
   "cell_type": "code",
   "execution_count": 3,
   "metadata": {},
   "outputs": [
    {
     "data": {
      "text/plain": [
       "<_sre.SRE_Match object; span=(0, 4), match='fast'>"
      ]
     },
     "execution_count": 3,
     "metadata": {},
     "output_type": "execute_result"
    }
   ],
   "source": [
    "#문자열의 가장 앞에서부터 일치되는 문자열 찾기\n",
    "re.match(\"fast\",s) # (\"패턴\",문자열)"
   ]
  },
  {
   "cell_type": "code",
   "execution_count": 10,
   "metadata": {},
   "outputs": [
    {
     "name": "stdout",
     "output_type": "stream",
     "text": [
      "None\n"
     ]
    }
   ],
   "source": [
    "result = re.match(\"campus\",s) # (\"패턴\",문자열)\n",
    "print(result)"
   ]
  },
  {
   "cell_type": "markdown",
   "metadata": {},
   "source": [
    "### 2. search"
   ]
  },
  {
   "cell_type": "code",
   "execution_count": 13,
   "metadata": {},
   "outputs": [
    {
     "data": {
      "text/plain": [
       "<_sre.SRE_Match object; span=(0, 4), match='fast'>"
      ]
     },
     "execution_count": 13,
     "metadata": {},
     "output_type": "execute_result"
    }
   ],
   "source": [
    "#문자열에서 패턴에 가장 첫번째로 일치되는 문자열을 찾는겁입니다.\n",
    "re.search(\"fast\",s)"
   ]
  },
  {
   "cell_type": "code",
   "execution_count": 16,
   "metadata": {},
   "outputs": [
    {
     "data": {
      "text/plain": [
       "<_sre.SRE_Match object; span=(5, 11), match='campus'>"
      ]
     },
     "execution_count": 16,
     "metadata": {},
     "output_type": "execute_result"
    }
   ],
   "source": [
    "re.search(\"campus\",s)"
   ]
  },
  {
   "cell_type": "markdown",
   "metadata": {},
   "source": [
    "### 3. findall"
   ]
  },
  {
   "cell_type": "code",
   "execution_count": 19,
   "metadata": {},
   "outputs": [
    {
     "data": {
      "text/plain": [
       "['fast', 'fast']"
      ]
     },
     "execution_count": 19,
     "metadata": {},
     "output_type": "execute_result"
    }
   ],
   "source": [
    "# 일치하는 모든 패턴을 찾아서 리스트로 리턴해줍니다.\n",
    "re.findall(\"fast\",s) #일정문자찾기"
   ]
  },
  {
   "cell_type": "markdown",
   "metadata": {},
   "source": [
    "### 4.split - 문자나누기"
   ]
  },
  {
   "cell_type": "code",
   "execution_count": 25,
   "metadata": {},
   "outputs": [
    {
     "data": {
      "text/plain": [
       "['fast ', ' datascience fighting. datascience fighting. fast ', ' fighting.']"
      ]
     },
     "execution_count": 25,
     "metadata": {},
     "output_type": "execute_result"
    }
   ],
   "source": [
    "#문자열을 특정 패턴으로 나누는 함수.\n",
    "re.split(\"campus\",s)"
   ]
  },
  {
   "cell_type": "markdown",
   "metadata": {},
   "source": [
    "### 5. sub - 문자치환하기\n"
   ]
  },
  {
   "cell_type": "code",
   "execution_count": 26,
   "metadata": {},
   "outputs": [],
   "source": [
    "# 일치하는 패턴을 찾아서 바꾸고자아는 패턴으로 문자열을 변경해줍니다"
   ]
  },
  {
   "cell_type": "code",
   "execution_count": 27,
   "metadata": {},
   "outputs": [
    {
     "data": {
      "text/plain": [
       "'slow campus datascience fighting. datascience fighting. slow campus fighting.'"
      ]
     },
     "execution_count": 27,
     "metadata": {},
     "output_type": "execute_result"
    }
   ],
   "source": [
    "re.sub(\"fast\",\"slow\",s)"
   ]
  },
  {
   "cell_type": "markdown",
   "metadata": {},
   "source": [
    "### 6.패턴 - pattern\n",
    "- 문자 : 숫자, 문자등을 구분해주는 패턴\n",
    "- 지정자 : 숫자 몇개, 특정 숫자나 문자의 범위 등을 제한해주는 패턴"
   ]
  },
  {
   "cell_type": "code",
   "execution_count": 30,
   "metadata": {},
   "outputs": [],
   "source": [
    "# 문자 패턴\n",
    "# \\d(숫자), \\D(비숫자)\n",
    "# \\w(숫자,문자,_), \\W(숫자,문자,_ 를 제외한 패턴)\n",
    "# \\s(공백문자), \\S(비공백문자)"
   ]
  },
  {
   "cell_type": "code",
   "execution_count": 31,
   "metadata": {},
   "outputs": [
    {
     "data": {
      "text/plain": [
       "['1', '2', '3', '4']"
      ]
     },
     "execution_count": 31,
     "metadata": {},
     "output_type": "execute_result"
    }
   ],
   "source": [
    "re.findall(\"\\d\",s)"
   ]
  },
  {
   "cell_type": "code",
   "execution_count": 32,
   "metadata": {},
   "outputs": [
    {
     "data": {
      "text/plain": [
       "['12', '34']"
      ]
     },
     "execution_count": 32,
     "metadata": {},
     "output_type": "execute_result"
    }
   ],
   "source": [
    "re.findall(\"\\d{2}\",s) #대괄호에 들어있는 숫자만큼 한꺼번에 찾는다"
   ]
  },
  {
   "cell_type": "code",
   "execution_count": 33,
   "metadata": {},
   "outputs": [
    {
     "data": {
      "text/plain": [
       "(100,\n",
       " '0123456789abcdefghijklmnopqrstuvwxyzABCDEFGHIJKLMNOPQRSTUVWXYZ!\"#$%&\\'()*+,-./:;<=>?@[\\\\]^_`{|}~ \\t\\n\\r\\x0b\\x0c')"
      ]
     },
     "execution_count": 33,
     "metadata": {},
     "output_type": "execute_result"
    }
   ],
   "source": [
    "#문자패턴\n",
    "import string\n",
    "pt = string.printable\n",
    "len(pt), pt"
   ]
  },
  {
   "cell_type": "code",
   "execution_count": 37,
   "metadata": {},
   "outputs": [
    {
     "data": {
      "text/plain": [
       "['0', '1', '2', '3', '4', '5', '6', '7', '8', '9']"
      ]
     },
     "execution_count": 37,
     "metadata": {},
     "output_type": "execute_result"
    }
   ],
   "source": [
    "re.findall(\"\\d\",pt)"
   ]
  },
  {
   "cell_type": "code",
   "execution_count": 39,
   "metadata": {},
   "outputs": [
    {
     "data": {
      "text/plain": [
       "'abcdefghijklmnopqrstuvwxyzABCDEFGHIJKLMNOPQRSTUVWXYZ!\"#$%&\\'()*+,-./:;<=>?@[\\\\]^_`{|}~ \\t\\n\\r\\x0b\\x0c'"
      ]
     },
     "execution_count": 39,
     "metadata": {},
     "output_type": "execute_result"
    }
   ],
   "source": [
    "\"\".join(re.findall(\"\\D\",pt))"
   ]
  },
  {
   "cell_type": "code",
   "execution_count": 41,
   "metadata": {},
   "outputs": [
    {
     "data": {
      "text/plain": [
       "'0123456789abcdefghijklmnopqrstuvwxyzABCDEFGHIJKLMNOPQRSTUVWXYZ_'"
      ]
     },
     "execution_count": 41,
     "metadata": {},
     "output_type": "execute_result"
    }
   ],
   "source": [
    "\"\".join(re.findall(\"\\w\",pt))"
   ]
  },
  {
   "cell_type": "code",
   "execution_count": 43,
   "metadata": {},
   "outputs": [
    {
     "data": {
      "text/plain": [
       "'!\"#$%&\\'()*+,-./:;<=>?@[\\\\]^`{|}~ \\t\\n\\r\\x0b\\x0c'"
      ]
     },
     "execution_count": 43,
     "metadata": {},
     "output_type": "execute_result"
    }
   ],
   "source": [
    "\"\".join(re.findall(\"\\W\",pt))"
   ]
  },
  {
   "cell_type": "code",
   "execution_count": 44,
   "metadata": {},
   "outputs": [
    {
     "data": {
      "text/plain": [
       "' \\t\\n\\r\\x0b\\x0c'"
      ]
     },
     "execution_count": 44,
     "metadata": {},
     "output_type": "execute_result"
    }
   ],
   "source": [
    "\"\".join(re.findall(\"\\s\",pt))"
   ]
  },
  {
   "cell_type": "code",
   "execution_count": 45,
   "metadata": {},
   "outputs": [
    {
     "data": {
      "text/plain": [
       "'0123456789abcdefghijklmnopqrstuvwxyzABCDEFGHIJKLMNOPQRSTUVWXYZ!\"#$%&\\'()*+,-./:;<=>?@[\\\\]^_`{|}~'"
      ]
     },
     "execution_count": 45,
     "metadata": {},
     "output_type": "execute_result"
    }
   ],
   "source": [
    "\"\".join(re.findall(\"\\S\",pt))"
   ]
  },
  {
   "cell_type": "markdown",
   "metadata": {},
   "source": [
    "### 지정자 패턴\n",
    "- '[ ]' : 문자를 나타내고 묶어주는 역할을 함\n",
    "- '-' : 범위를 나타내는 역할\n",
    "- '.' : 하나의 문자\n",
    "- '?' : 0또는 1회반복\n",
    "- '*' : 0회이상 반복\n",
    "- '+' : 1회 이상 반복\n",
    "- '{M}' : m회 이상 반복\n",
    "- '{M,N}' : M부터 N회 반복\n",
    "-  '( )' : 그루핑해주는 역할"
   ]
  },
  {
   "cell_type": "code",
   "execution_count": 53,
   "metadata": {},
   "outputs": [
    {
     "data": {
      "text/plain": [
       "'0123456789'"
      ]
     },
     "execution_count": 53,
     "metadata": {},
     "output_type": "execute_result"
    }
   ],
   "source": [
    "#범위\n",
    "result = re.findall(\"[0-9]\", pt)\n",
    "\"\".join(result)"
   ]
  },
  {
   "cell_type": "code",
   "execution_count": 54,
   "metadata": {},
   "outputs": [
    {
     "data": {
      "text/plain": [
       "'34567'"
      ]
     },
     "execution_count": 54,
     "metadata": {},
     "output_type": "execute_result"
    }
   ],
   "source": [
    "result = re.findall(\"[3-7]\", pt)\n",
    "\"\".join(result)"
   ]
  },
  {
   "cell_type": "code",
   "execution_count": 51,
   "metadata": {},
   "outputs": [
    {
     "data": {
      "text/plain": [
       "'abcdefghijklmnopqrstuvwxyz'"
      ]
     },
     "execution_count": 51,
     "metadata": {},
     "output_type": "execute_result"
    }
   ],
   "source": [
    "result = re.findall(\"[a-z]\", pt)\n",
    "\"\".join(result)"
   ]
  },
  {
   "cell_type": "code",
   "execution_count": 55,
   "metadata": {},
   "outputs": [
    {
     "data": {
      "text/plain": [
       "'ABCDEFGHIJKLMNOPQRSTUVWXYZ'"
      ]
     },
     "execution_count": 55,
     "metadata": {},
     "output_type": "execute_result"
    }
   ],
   "source": [
    "result = re.findall(\"[A-Z]\", pt)\n",
    "\"\".join(result)"
   ]
  },
  {
   "cell_type": "code",
   "execution_count": 62,
   "metadata": {},
   "outputs": [
    {
     "data": {
      "text/plain": [
       "'0123456789abcdefghijklmnopqrstuvwxyzABCDEFGHIJKLMNOPQRSTUVWXYZ_'"
      ]
     },
     "execution_count": 62,
     "metadata": {},
     "output_type": "execute_result"
    }
   ],
   "source": [
    "result = re.findall(\"[0-9a-zA-Z_]\", pt)\n",
    "\"\".join(result)"
   ]
  },
  {
   "cell_type": "code",
   "execution_count": 63,
   "metadata": {},
   "outputs": [
    {
     "data": {
      "text/plain": [
       "'0123456789abcdefghijklmnopqrstuvwxyzABCDEFGHIJKLMNOPQRSTUVWXYZ_'"
      ]
     },
     "execution_count": 63,
     "metadata": {},
     "output_type": "execute_result"
    }
   ],
   "source": [
    "result = re.findall(\"\\w\", pt) #위의 코드를 간단하게 \\w로 구현 가능~!!!!\n",
    "\"\".join(result)"
   ]
  },
  {
   "cell_type": "code",
   "execution_count": null,
   "metadata": {},
   "outputs": [],
   "source": []
  },
  {
   "cell_type": "code",
   "execution_count": 72,
   "metadata": {},
   "outputs": [
    {
     "name": "stdout",
     "output_type": "stream",
     "text": [
      "aad []\n",
      "a0b ['a0b']\n",
      "abc []\n",
      "1212aabzsdrgvcd ['aab']\n"
     ]
    }
   ],
   "source": [
    "# . : 아무문자하나\n",
    "ls = [\"aad\",\"a0b\",\"abc\",\"1212aabzsdrgvcd\"]\n",
    "for s in ls:\n",
    "    result = re.findall(\"a.b\",s) # a + 아무문자하나 + b\n",
    "    print(s, result)"
   ]
  },
  {
   "cell_type": "code",
   "execution_count": 79,
   "metadata": {},
   "outputs": [
    {
     "name": "stdout",
     "output_type": "stream",
     "text": [
      "aab ['aab']\n",
      "a3b ['a3b']\n",
      "abc ['ab']\n",
      "1212aabzsdrgvcd ['aab']\n",
      "accb []\n"
     ]
    }
   ],
   "source": [
    "# ? : 0회 또는 1회 반복 (없어도 되고 한번은 있어도 됨)\n",
    "ls = [\"aab\",\"a3b\",\"abc\",\"1212aabzsdrgvcd\",\"accb\"]\n",
    "for s in ls:\n",
    "    result = re.findall(\"a.?b\",s) # a + 아무문자하나가 있어도 되고 없어도 되고 + b\n",
    "    print(s, result)"
   ]
  },
  {
   "cell_type": "code",
   "execution_count": 83,
   "metadata": {},
   "outputs": [
    {
     "name": "stdout",
     "output_type": "stream",
     "text": [
      "aad []\n",
      "a0b ['a0b']\n",
      "abc ['ab']\n",
      "1212aabzsdrgvcd ['aab']\n",
      "aacb ['aacb']\n"
     ]
    }
   ],
   "source": [
    "# * : 뭐 있어도 되고 0회이상 있어도 됨 없어도 되고 있어도 되고 여러개 막 있어도 되고~\n",
    "ls = [\"aad\",\"a0b\",\"abc\",\"1212aabzsdrgvcd\",\"aacb\"]\n",
    "for s in ls:\n",
    "    result = re.findall(\"a.*b\",s)\n",
    "    print(s, result)"
   ]
  },
  {
   "cell_type": "code",
   "execution_count": 84,
   "metadata": {},
   "outputs": [
    {
     "name": "stdout",
     "output_type": "stream",
     "text": [
      "aad []\n",
      "a0b ['a0b']\n",
      "abc []\n",
      "1212aabzsdrgvcd ['aab']\n",
      "aacb ['aacb']\n"
     ]
    }
   ],
   "source": [
    "# + : 무조건 1개는 있어야 된다.\n",
    "ls = [\"aad\",\"a0b\",\"abc\",\"1212aabzsdrgvcd\",\"aacb\"]\n",
    "for s in ls:\n",
    "    result = re.findall(\"a.+b\",s)\n",
    "    print(s, result)"
   ]
  },
  {
   "cell_type": "code",
   "execution_count": 90,
   "metadata": {},
   "outputs": [
    {
     "name": "stdout",
     "output_type": "stream",
     "text": [
      "ab []\n",
      "acb ['acb']\n",
      "acccb ['acccb']\n",
      "acccccb []\n",
      "aaaccb ['accb']\n"
     ]
    }
   ],
   "source": [
    "# {M} : M회 반복\n",
    "# {M,N} : M~N회 사이반복\n",
    "ls = [\"ab\",\"acb\",\"acccb\",\"acccccb\",\"aaaccb\"]\n",
    "for s in ls:\n",
    "    result = re.findall(\"ac{1,3}b\",s) #중간에 c가 1~3개 있는 모든 문자열 찾기\n",
    "    print(s, result)"
   ]
  },
  {
   "cell_type": "markdown",
   "metadata": {},
   "source": [
    "## Example"
   ]
  },
  {
   "cell_type": "code",
   "execution_count": 102,
   "metadata": {},
   "outputs": [
    {
     "data": {
      "text/plain": [
       "['rkghrin1234@gmail.com', '1234uzangoon@naver.com']"
      ]
     },
     "execution_count": 102,
     "metadata": {},
     "output_type": "execute_result"
    }
   ],
   "source": [
    "# 이메일주소 찾기\n",
    "\n",
    "s = \"저의 이메일주소는 rkghrin1234@gmail.com 이고 다른 이메일 주소는 1234uzangoon@naver.com 입니다.\"\n",
    "\n",
    "p = \"\\w+@[0-9a-z]+\\.[0-9a-z]+\"\n",
    "\n",
    "re.findall(p,s)\n"
   ]
  },
  {
   "cell_type": "code",
   "execution_count": 108,
   "metadata": {},
   "outputs": [
    {
     "data": {
      "text/plain": [
       "[('812343', '1055555')]"
      ]
     },
     "execution_count": 108,
     "metadata": {},
     "output_type": "execute_result"
    }
   ],
   "source": [
    "# 주민등록 번호를 group 나눠서 변경한다 (921221-1084234 --> 921221-1******)\n",
    "s = \"저의 주민등록 번호는 812343-1055555 가 아닙니다.\"\n",
    "\n",
    "p = \"([0-9]{6})-([1234][0-9]{6})\"\n",
    "\n",
    "re.findall(p, s)"
   ]
  },
  {
   "cell_type": "code",
   "execution_count": 110,
   "metadata": {},
   "outputs": [
    {
     "data": {
      "text/plain": [
       "'저의 주민등록 번호는 812343-******* 가 아닙니다.'"
      ]
     },
     "execution_count": 110,
     "metadata": {},
     "output_type": "execute_result"
    }
   ],
   "source": [
    "re.sub(p, \"\\g<1>-*******\", s) # <1> 은 그룹으로 나누었던 ([0-9]{6})을 말한다."
   ]
  },
  {
   "cell_type": "code",
   "execution_count": 116,
   "metadata": {},
   "outputs": [
    {
     "data": {
      "text/plain": [
       "['영일공-48삼사구구일사', '01012삼사-구구팔3']"
      ]
     },
     "execution_count": 116,
     "metadata": {},
     "output_type": "execute_result"
    }
   ],
   "source": [
    "# 전화번호 \n",
    "s = \"안녕하세요 저는 ps4를 소지하고 있는 사람입니다. 원하시면 영일공-48삼사구구일사로 연락주시거나\\\n",
    "01012삼사-구구팔3번으로 연락주세요.\"\n",
    "\n",
    "p = \"[0-9영공일이둘삼셋사넷오육칠팔구빵]{3}[-]?[0-9영공일이둘삼셋사넷오육칠팔구빵]{3,4}[-]?[0-9영공일이둘삼셋사넷오육칠팔구빵]{4}\"\n",
    "\n",
    "numbers = re.findall(p,s)\n",
    "numbers"
   ]
  },
  {
   "cell_type": "code",
   "execution_count": 118,
   "metadata": {},
   "outputs": [
    {
     "name": "stdout",
     "output_type": "stream",
     "text": [
      "영일공-48삼사구구일사\n",
      "01012삼사-구구팔3\n"
     ]
    },
    {
     "data": {
      "text/plain": [
       "['01048349914', '01012349983']"
      ]
     },
     "execution_count": 118,
     "metadata": {},
     "output_type": "execute_result"
    }
   ],
   "source": [
    "\n",
    "dic = {\n",
    "    \"영\":0, \"공\":0, \"빵\":0, \"일\":1, \"이\":2, \"둘\":2, \"삼\":3, \"셋\":3, \"사\":4, \"넷\":4,\n",
    "    \"오\":5, \"육\":6, \"칠\":7, \"팔\":8, \"구\":9, \"-\":\"\",\n",
    "}\n",
    "result = []\n",
    "for num in numbers:\n",
    "    print(num)\n",
    "    for idx, value in dic.items():\n",
    "        num = num.replace(idx, str(value))\n",
    "#         print(num)\n",
    "    result.append(num)\n",
    "result"
   ]
  }
 ],
 "metadata": {
  "kernelspec": {
   "display_name": "Python 3",
   "language": "python",
   "name": "python3"
  },
  "language_info": {
   "codemirror_mode": {
    "name": "ipython",
    "version": 3
   },
   "file_extension": ".py",
   "mimetype": "text/x-python",
   "name": "python",
   "nbconvert_exporter": "python",
   "pygments_lexer": "ipython3",
   "version": "3.6.3"
  }
 },
 "nbformat": 4,
 "nbformat_minor": 2
}
