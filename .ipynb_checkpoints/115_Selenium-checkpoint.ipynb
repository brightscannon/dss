{
 "cells": [
  {
   "cell_type": "code",
   "execution_count": 2,
   "metadata": {},
   "outputs": [],
   "source": [
    "from selenium import webdriver"
   ]
  },
  {
   "cell_type": "markdown",
   "metadata": {},
   "source": [
    "# selenium\n",
    "\n",
    "- 브라우저는 최신버전보다 구버전이 더 잘될수도 있다\n",
    "    - 크롬, 오페라, 사파리, 익스플로러 등\n",
    "- https://www.seleniumhq.org/ 도큐먼트 참조해보자\n",
    "\n",
    "- 기본사용법\n",
    "- 파일 업로드 다운로드\n",
    "    - google vision api 웹페이지에서 실습!\n",
    "- 스크래핑\n",
    "    - gmarket 베스트셀러 200아이템 정보 수집\n",
    "    - naver 메일 (본인계정) 데이터 수집\n",
    "- 자동화\n",
    "    - 워드프레스 블로그에 자동으로 댓글을 작성\n",
    "- 이미지 스크린샷\n",
    "    - youtube 페이지로 실습\n",
    "    - pillow : python 이미지 처리 패키지\n",
    "    \n",
    "    \n",
    "    \n",
    "- ★ URL의 쿼리가 깨져서 나오는경우는 url encoder, decoder 구글링해서 하면 됨"
   ]
  },
  {
   "cell_type": "markdown",
   "metadata": {},
   "source": [
    "### 기본사용법"
   ]
  },
  {
   "cell_type": "code",
   "execution_count": null,
   "metadata": {},
   "outputs": [],
   "source": [
    "#브라우져 열기\n",
    "driver = webdriver.Chrome()"
   ]
  },
  {
   "cell_type": "code",
   "execution_count": 19,
   "metadata": {},
   "outputs": [],
   "source": [
    "#페이지 이동\n",
    "driver.get(\"http://naver.com\")"
   ]
  },
  {
   "cell_type": "code",
   "execution_count": 20,
   "metadata": {},
   "outputs": [],
   "source": [
    "#브라우저의 윈도우 사이즈 조절\n",
    "driver.set_window_size(600,800) #(가로,세로)"
   ]
  },
  {
   "cell_type": "code",
   "execution_count": 26,
   "metadata": {},
   "outputs": [],
   "source": [
    "#스크롤 조절 (자바스크립트코드를 이용)\n",
    "script = \"window.scrollTo(50,200);\" #가로,세로\n",
    "driver.execute_script(script)"
   ]
  },
  {
   "cell_type": "code",
   "execution_count": 27,
   "metadata": {},
   "outputs": [
    {
     "data": {
      "text/plain": [
       "'CDwindow-A312BDE58AAB830128399441B3DEC171'"
      ]
     },
     "execution_count": 27,
     "metadata": {},
     "output_type": "execute_result"
    }
   ],
   "source": [
    "#현재 윈도우 객체를 저장\n",
    "main_window = driver.current_window_handle\n",
    "main_window"
   ]
  },
  {
   "cell_type": "code",
   "execution_count": 28,
   "metadata": {},
   "outputs": [],
   "source": [
    "#새로운 윈도우 탭 열기\n",
    "script = \"window.open('http://google.com');\"\n",
    "driver.execute_script(script)"
   ]
  },
  {
   "cell_type": "code",
   "execution_count": 29,
   "metadata": {},
   "outputs": [
    {
     "data": {
      "text/plain": [
       "'CDwindow-A312BDE58AAB830128399441B3DEC171'"
      ]
     },
     "execution_count": 29,
     "metadata": {},
     "output_type": "execute_result"
    }
   ],
   "source": [
    "driver.current_window_handle\n",
    "#주의 : 현재 current_window_handle이 이전탭이므로 현재 열려있는 윈도우가 아닌 이전 윈도우가 동작한다."
   ]
  },
  {
   "cell_type": "code",
   "execution_count": 31,
   "metadata": {},
   "outputs": [
    {
     "data": {
      "text/plain": [
       "['CDwindow-A312BDE58AAB830128399441B3DEC171',\n",
       " 'CDwindow-7E0392515792C4F2ACAD0EA162AE2353']"
      ]
     },
     "execution_count": 31,
     "metadata": {},
     "output_type": "execute_result"
    }
   ],
   "source": [
    "#윈도우 객체 확인 후 핸들 바꿔주기\n",
    "windows = driver.window_handles\n",
    "windows"
   ]
  },
  {
   "cell_type": "code",
   "execution_count": 41,
   "metadata": {},
   "outputs": [],
   "source": [
    "#현재 윈도우 탭 설정\n",
    "driver.switch_to_window(windows[1])"
   ]
  },
  {
   "cell_type": "code",
   "execution_count": 43,
   "metadata": {},
   "outputs": [],
   "source": [
    "#이전것으로 돌아가기\n",
    "driver.switch_to_window(main_window)"
   ]
  },
  {
   "cell_type": "code",
   "execution_count": 49,
   "metadata": {},
   "outputs": [],
   "source": [
    "#페이지 새로고침\n",
    "script = \"location.reload();\"\n",
    "driver.execute_script(script)"
   ]
  },
  {
   "cell_type": "code",
   "execution_count": 57,
   "metadata": {},
   "outputs": [],
   "source": [
    "#알림창 떳을때 대처법1 - alert (닫기버튼)--------------------------------------------\n",
    "script = \"alert('data science');\"\n",
    "driver.execute_script(script)\n"
   ]
  },
  {
   "cell_type": "code",
   "execution_count": 58,
   "metadata": {},
   "outputs": [
    {
     "data": {
      "text/plain": [
       "'data science'"
      ]
     },
     "execution_count": 58,
     "metadata": {},
     "output_type": "execute_result"
    }
   ],
   "source": [
    "alert = driver.switch_to_alert()\n",
    "alert.text"
   ]
  },
  {
   "cell_type": "code",
   "execution_count": 59,
   "metadata": {},
   "outputs": [],
   "source": [
    "alert.accept()"
   ]
  },
  {
   "cell_type": "code",
   "execution_count": 61,
   "metadata": {},
   "outputs": [],
   "source": [
    "#알림창 떳을때 대처법2 - confirm (확인취소버튼)---------------------------------------\n",
    "script = \"confirm('text selenium');\"\n",
    "driver.execute_script(script)"
   ]
  },
  {
   "cell_type": "code",
   "execution_count": 64,
   "metadata": {},
   "outputs": [
    {
     "data": {
      "text/plain": [
       "'text selenium'"
      ]
     },
     "execution_count": 64,
     "metadata": {},
     "output_type": "execute_result"
    }
   ],
   "source": [
    "confirm = driver.switch_to_alert()\n",
    "confirm.text"
   ]
  },
  {
   "cell_type": "code",
   "execution_count": 65,
   "metadata": {},
   "outputs": [],
   "source": [
    "confirm.dismiss() #취소버튼\n",
    "# confirm.accept() #확인버튼"
   ]
  },
  {
   "cell_type": "code",
   "execution_count": 70,
   "metadata": {},
   "outputs": [],
   "source": [
    "# 검색어 입력해보기!-----------------------------------\n",
    "#  ==> input 앨리먼트에 검색어 입력하기!(네이버기준)\n",
    "driver.find_element_by_css_selector('#query').send_keys(\"패스트캠퍼스\")\n"
   ]
  },
  {
   "cell_type": "code",
   "execution_count": 74,
   "metadata": {},
   "outputs": [],
   "source": [
    "#  검색버튼 누르기!\n",
    "driver.find_element_by_css_selector(\".ico_search_submit\").click()"
   ]
  },
  {
   "cell_type": "code",
   "execution_count": 79,
   "metadata": {},
   "outputs": [],
   "source": [
    "#현재윈도우 닫기 \n",
    "driver.close()"
   ]
  },
  {
   "cell_type": "code",
   "execution_count": 82,
   "metadata": {},
   "outputs": [],
   "source": [
    "#브라우저 닫기(꼭 quit로 닫아줘야한다. 안그러면 계속 켜져있다)\n",
    "driver.quit()"
   ]
  },
  {
   "cell_type": "code",
   "execution_count": null,
   "metadata": {},
   "outputs": [],
   "source": []
  },
  {
   "cell_type": "markdown",
   "metadata": {},
   "source": [
    "## 파일 업로드 (구글 비젼 API활용) 및 데이터 크롤링\n",
    "\n",
    "- google vision api 페이지\n",
    "- vision api 페이지로 이동\n",
    "- iframe frame을 수정\n",
    "- 이미지 파일 업로드\n",
    "- 웹데이터와 도큐먼트 데이터를 수집"
   ]
  },
  {
   "cell_type": "code",
   "execution_count": 83,
   "metadata": {},
   "outputs": [],
   "source": [
    "# 구글 비전 api 페이지 이동\n",
    "url = 'https://cloud.google.com/vision/'\n",
    "driver = webdriver.Chrome()\n",
    "driver.get(url)\n",
    "\n",
    "driver.set_window_size(600,800) #(가로,세로)사이즈 조절"
   ]
  },
  {
   "cell_type": "code",
   "execution_count": 84,
   "metadata": {},
   "outputs": [],
   "source": [
    "#iframe 영역으로 frame 변경(iframe 내의 태그는 그냥하면 안되는 경우가 있다)\n",
    "iframe = driver.find_element_by_css_selector(\"#vision_demo_section > iframe\")\n",
    "driver.switch_to_frame(iframe)"
   ]
  },
  {
   "cell_type": "code",
   "execution_count": 85,
   "metadata": {},
   "outputs": [],
   "source": [
    "#메인프레임으로 변경\n",
    "# driver.switch_do_default_content()"
   ]
  },
  {
   "cell_type": "code",
   "execution_count": 88,
   "metadata": {},
   "outputs": [],
   "source": [
    "#파일업로드\n",
    "#파일경로를 쓸때는 절대경로를 입력해야함(/로 디렉토리 사용...)\n",
    "file_path = \"C:/Users/creal/Downloads/dog.png\" #업로드할 파일\n",
    "\n",
    "driver.find_element_by_css_selector(\"#input\").send_keys(file_path)"
   ]
  },
  {
   "cell_type": "code",
   "execution_count": 89,
   "metadata": {},
   "outputs": [],
   "source": [
    "#웹데이터 가져오기\n",
    "driver.find_element_by_css_selector('#webDetection').click()"
   ]
  },
  {
   "cell_type": "code",
   "execution_count": 101,
   "metadata": {},
   "outputs": [
    {
     "name": "stdout",
     "output_type": "stream",
     "text": [
      "French Bulldog 1.28992\n",
      "Boston Terrier 1.27976\n",
      "Bulldog 1.27812\n",
      "Bull Terrier 1.06377\n",
      "Soft-coated Wheaten Terrier 1.00061\n",
      "Puppy 0.97935\n",
      "Border Collie 0.78553\n",
      "Terrier 0.6456\n",
      "Pet 0.6285\n",
      "Brindle 0.5512\n",
      "Dog breed 0.4961\n",
      "Veterinarian 0.4276\n",
      "Breed 0.4201\n",
      "Black Brindle 0.4118\n",
      "Dog 0\n"
     ]
    }
   ],
   "source": [
    "results = driver.find_elements_by_css_selector(\"#card .container > .row\")[:15]\n",
    "#여기서는 여러개 불러오기때문에 elements로 써야한다.\n",
    "for result in results:\n",
    "    print(\n",
    "    result.find_element_by_css_selector(\".name\").text,\n",
    "    result.find_element_by_css_selector(\".score\").text\n",
    "    )\n",
    "    "
   ]
  },
  {
   "cell_type": "code",
   "execution_count": null,
   "metadata": {},
   "outputs": [],
   "source": [
    "#잘했어요~"
   ]
  },
  {
   "cell_type": "code",
   "execution_count": 102,
   "metadata": {},
   "outputs": [],
   "source": [
    "#문자열데이터가져오기\n",
    "driver.find_element_by_css_selector('#fullTextAnnotation').click()"
   ]
  },
  {
   "cell_type": "code",
   "execution_count": 103,
   "metadata": {},
   "outputs": [
    {
     "data": {
      "text/plain": [
       "2"
      ]
     },
     "execution_count": 103,
     "metadata": {},
     "output_type": "execute_result"
    }
   ],
   "source": [
    "fieldsets = driver.find_elements_by_css_selector\\\n",
    "(\".page > .container.style-scope.vs-document > \\\n",
    "fieldset\")\n",
    "len(fieldsets)"
   ]
  },
  {
   "cell_type": "code",
   "execution_count": 117,
   "metadata": {},
   "outputs": [
    {
     "data": {
      "text/plain": [
       "['In the dog house', ' 인기를 잃다 , 면목을 잃다']"
      ]
     },
     "execution_count": 117,
     "metadata": {},
     "output_type": "execute_result"
    }
   ],
   "source": [
    "documents = [] #문장2개가 들어갑니다.\n",
    "\n",
    "for fieldset in fieldsets: #문자열 정리하기!!! 노가다도 필요한법!\n",
    "    words = fieldset.find_elements_by_css_selector(\".container .word\")\n",
    "    word_list = []\n",
    "    for word in words:\n",
    "        word = word.text.replace(\" \",\"\").replace(\"'\",\"\")\n",
    "        word_list.append(word)\n",
    "    documents.append(\" \".join(word_list))\n",
    "documents"
   ]
  },
  {
   "cell_type": "code",
   "execution_count": 118,
   "metadata": {},
   "outputs": [],
   "source": [
    "driver.quit()"
   ]
  },
  {
   "cell_type": "code",
   "execution_count": null,
   "metadata": {},
   "outputs": [],
   "source": [
    "#잘했어요!!!~~~"
   ]
  },
  {
   "cell_type": "markdown",
   "metadata": {},
   "source": [
    "# Gmarket Scraping (스크래핑)\n",
    "\n",
    "- gmarket 베스트 200 데이터 수집\n",
    "- http://corners.gmarket.co.kr/Bestsellers"
   ]
  },
  {
   "cell_type": "code",
   "execution_count": 120,
   "metadata": {},
   "outputs": [],
   "source": [
    "url = 'http://corners.gmarket.co.kr/Bestsellers'\n",
    "driver = webdriver.Chrome()\n",
    "driver.get(url)"
   ]
  },
  {
   "cell_type": "code",
   "execution_count": 152,
   "metadata": {},
   "outputs": [
    {
     "data": {
      "text/html": [
       "<div>\n",
       "<style>\n",
       "    .dataframe thead tr:only-child th {\n",
       "        text-align: right;\n",
       "    }\n",
       "\n",
       "    .dataframe thead th {\n",
       "        text-align: left;\n",
       "    }\n",
       "\n",
       "    .dataframe tbody tr th {\n",
       "        vertical-align: top;\n",
       "    }\n",
       "</style>\n",
       "<table border=\"1\" class=\"dataframe\">\n",
       "  <thead>\n",
       "    <tr style=\"text-align: right;\">\n",
       "      <th></th>\n",
       "      <th>title</th>\n",
       "      <th>o-price</th>\n",
       "      <th>s-price</th>\n",
       "      <th>link</th>\n",
       "    </tr>\n",
       "  </thead>\n",
       "  <tbody>\n",
       "    <tr>\n",
       "      <th>0</th>\n",
       "      <td>더다다/원피스형 롱티/신상/루즈/박시/빅사이즈</td>\n",
       "      <td>19500</td>\n",
       "      <td>5900</td>\n",
       "      <td>http://item.gmarket.co.kr/Item?goodscode=62724...</td>\n",
       "    </tr>\n",
       "    <tr>\n",
       "      <th>1</th>\n",
       "      <td>[아디다스]니짜 CQ2332외 4종 택1 G/ 아디다스</td>\n",
       "      <td>39000</td>\n",
       "      <td>28470</td>\n",
       "      <td>http://item.gmarket.co.kr/Item?goodscode=14301...</td>\n",
       "    </tr>\n",
       "    <tr>\n",
       "      <th>2</th>\n",
       "      <td>[동원샘물미네마인]동원 샘물 2Lx9병x3팩(총 27병) /생수</td>\n",
       "      <td>30000</td>\n",
       "      <td>12900</td>\n",
       "      <td>http://item.gmarket.co.kr/Item?goodscode=63617...</td>\n",
       "    </tr>\n",
       "    <tr>\n",
       "      <th>3</th>\n",
       "      <td>[아망떼]1+1여름베개커버/인견/순면/30x50/40x60/50x70</td>\n",
       "      <td>24000</td>\n",
       "      <td>4900</td>\n",
       "      <td>http://item.gmarket.co.kr/Item?goodscode=41037...</td>\n",
       "    </tr>\n",
       "    <tr>\n",
       "      <th>4</th>\n",
       "      <td>[하기스]2018년형 에어솔솔 썸머 팬티 / 밴드 기저귀 2팩</td>\n",
       "      <td>39900</td>\n",
       "      <td>32900</td>\n",
       "      <td>http://item.gmarket.co.kr/Item?goodscode=14365...</td>\n",
       "    </tr>\n",
       "    <tr>\n",
       "      <th>5</th>\n",
       "      <td>[하림]하림 프로라인 치킨너겟 1kg 2봉+치킨너겟 100g(증정)</td>\n",
       "      <td>20000</td>\n",
       "      <td>12900</td>\n",
       "      <td>http://item.gmarket.co.kr/Item?goodscode=13005...</td>\n",
       "    </tr>\n",
       "    <tr>\n",
       "      <th>6</th>\n",
       "      <td>[동원덴마크우유]동원 인포켓치즈 20g x20개+(저키x8개 or 치즈디퍼즈)</td>\n",
       "      <td>30000</td>\n",
       "      <td>13900</td>\n",
       "      <td>http://item.gmarket.co.kr/Item?goodscode=87359...</td>\n",
       "    </tr>\n",
       "    <tr>\n",
       "      <th>7</th>\n",
       "      <td>유스타일팜 여름신상/빅사이즈/밴딩/데님/스커트</td>\n",
       "      <td>29600</td>\n",
       "      <td>8900</td>\n",
       "      <td>http://item.gmarket.co.kr/Item?goodscode=86949...</td>\n",
       "    </tr>\n",
       "    <tr>\n",
       "      <th>8</th>\n",
       "      <td>CJ 햇반210gx24개/오뚜기밥24개/컵밥10개/컵반</td>\n",
       "      <td>27100</td>\n",
       "      <td>16900</td>\n",
       "      <td>http://item.gmarket.co.kr/Item?goodscode=91202...</td>\n",
       "    </tr>\n",
       "    <tr>\n",
       "      <th>9</th>\n",
       "      <td>나이키 스우시 라운드 반팔 티셔츠</td>\n",
       "      <td>29000</td>\n",
       "      <td>14900</td>\n",
       "      <td>http://item.gmarket.co.kr/Item?goodscode=14298...</td>\n",
       "    </tr>\n",
       "    <tr>\n",
       "      <th>10</th>\n",
       "      <td>자두와 살구의 특별한 만남 신품종 플럼코트 450g</td>\n",
       "      <td>18900</td>\n",
       "      <td>8900</td>\n",
       "      <td>http://item.gmarket.co.kr/Item?goodscode=14299...</td>\n",
       "    </tr>\n",
       "    <tr>\n",
       "      <th>11</th>\n",
       "      <td>티셔츠5장9900 원피스/티셔츠/린넨팬츠 세트</td>\n",
       "      <td>65900</td>\n",
       "      <td>19900</td>\n",
       "      <td>http://item.gmarket.co.kr/Item?goodscode=94765...</td>\n",
       "    </tr>\n",
       "    <tr>\n",
       "      <th>12</th>\n",
       "      <td>대박난박양 빅사이즈 원피스 블라우스 티셔츠 바지</td>\n",
       "      <td>42900</td>\n",
       "      <td>12900</td>\n",
       "      <td>http://item.gmarket.co.kr/Item?goodscode=86088...</td>\n",
       "    </tr>\n",
       "    <tr>\n",
       "      <th>13</th>\n",
       "      <td>샌들 99균일가 플랫샌들 스트랩 웨지 슬리퍼 슬링백</td>\n",
       "      <td>32900</td>\n",
       "      <td>9900</td>\n",
       "      <td>http://item.gmarket.co.kr/Item?goodscode=14098...</td>\n",
       "    </tr>\n",
       "    <tr>\n",
       "      <th>14</th>\n",
       "      <td>[티비제이]TBJ 남녀 여름 티셔츠/팬츠 특가 상품 모음</td>\n",
       "      <td>14900</td>\n",
       "      <td>4500</td>\n",
       "      <td>http://item.gmarket.co.kr/Item?goodscode=14260...</td>\n",
       "    </tr>\n",
       "    <tr>\n",
       "      <th>15</th>\n",
       "      <td>올리(Ollie) 여성 여름 샌들/슬리퍼/에스파듀/통굽</td>\n",
       "      <td>32900</td>\n",
       "      <td>9900</td>\n",
       "      <td>http://item.gmarket.co.kr/Item?goodscode=94895...</td>\n",
       "    </tr>\n",
       "    <tr>\n",
       "      <th>16</th>\n",
       "      <td>3+1 2018년 프롬비 휴대용 선풍기 매직스톰 핸즈프리</td>\n",
       "      <td>24800</td>\n",
       "      <td>19800</td>\n",
       "      <td>http://item.gmarket.co.kr/Item?goodscode=13773...</td>\n",
       "    </tr>\n",
       "    <tr>\n",
       "      <th>17</th>\n",
       "      <td>티메이 원피스 블라우스 스커트 롱원피스</td>\n",
       "      <td>32900</td>\n",
       "      <td>9900</td>\n",
       "      <td>http://item.gmarket.co.kr/Item?goodscode=12802...</td>\n",
       "    </tr>\n",
       "    <tr>\n",
       "      <th>18</th>\n",
       "      <td>[순창](기획)순창 찰고추장1kgx2+450gx2/양념/소스</td>\n",
       "      <td>21400</td>\n",
       "      <td>13900</td>\n",
       "      <td>http://item.gmarket.co.kr/Item?goodscode=12958...</td>\n",
       "    </tr>\n",
       "    <tr>\n",
       "      <th>19</th>\n",
       "      <td>언니드랑 블라우스/원피스/팬츠/스커트/린넨</td>\n",
       "      <td>32900</td>\n",
       "      <td>9900</td>\n",
       "      <td>http://item.gmarket.co.kr/Item?goodscode=11767...</td>\n",
       "    </tr>\n",
       "    <tr>\n",
       "      <th>20</th>\n",
       "      <td>[동원참치]동원 건강한참치 100gx9캔 +마일드 100gx3캔 (총12캔)</td>\n",
       "      <td>23000</td>\n",
       "      <td>11900</td>\n",
       "      <td>http://item.gmarket.co.kr/Item?goodscode=18511...</td>\n",
       "    </tr>\n",
       "    <tr>\n",
       "      <th>21</th>\n",
       "      <td>[카카오프렌즈]카카오 노트8 5 4 S9 S8 G6 아이폰X 7 핸드폰 케이스</td>\n",
       "      <td>20000</td>\n",
       "      <td>9900</td>\n",
       "      <td>http://item.gmarket.co.kr/Item?goodscode=83035...</td>\n",
       "    </tr>\n",
       "    <tr>\n",
       "      <th>22</th>\n",
       "      <td>[영실업]포터리스쿨 도자기스튜디오 LOL서프라이즈 주얼젤리</td>\n",
       "      <td>32900</td>\n",
       "      <td>9900</td>\n",
       "      <td>http://item.gmarket.co.kr/Item?goodscode=85712...</td>\n",
       "    </tr>\n",
       "    <tr>\n",
       "      <th>23</th>\n",
       "      <td>역대급특가/반바지/치마바지/숏팬츠/청바지/SALE</td>\n",
       "      <td>23000</td>\n",
       "      <td>6900</td>\n",
       "      <td>http://item.gmarket.co.kr/Item?goodscode=16375...</td>\n",
       "    </tr>\n",
       "    <tr>\n",
       "      <th>24</th>\n",
       "      <td>재입고 마지막 수량 크록스 특가 50종 택1(G180621)</td>\n",
       "      <td>63000</td>\n",
       "      <td>18900</td>\n",
       "      <td>http://item.gmarket.co.kr/Item?goodscode=75377...</td>\n",
       "    </tr>\n",
       "    <tr>\n",
       "      <th>25</th>\n",
       "      <td>2018 최신판 세이펜 허니북1탄/2탄/송아리 선택구매</td>\n",
       "      <td></td>\n",
       "      <td>53000</td>\n",
       "      <td>http://item.gmarket.co.kr/Item?goodscode=87400...</td>\n",
       "    </tr>\n",
       "    <tr>\n",
       "      <th>26</th>\n",
       "      <td>[미샤]미샤 6월 썸머 페스티벌 전품목 1+1 (6/19~6/23)</td>\n",
       "      <td>75600</td>\n",
       "      <td>37800</td>\n",
       "      <td>http://item.gmarket.co.kr/Item?goodscode=73453...</td>\n",
       "    </tr>\n",
       "    <tr>\n",
       "      <th>27</th>\n",
       "      <td>키즈웰 젤리스트로우 800GX2개</td>\n",
       "      <td>13500</td>\n",
       "      <td>10900</td>\n",
       "      <td>http://item.gmarket.co.kr/Item?goodscode=14295...</td>\n",
       "    </tr>\n",
       "    <tr>\n",
       "      <th>28</th>\n",
       "      <td>항균 여름이불패드 여름이불세트 침대패드 여름침구</td>\n",
       "      <td>36000</td>\n",
       "      <td>6900</td>\n",
       "      <td>http://item.gmarket.co.kr/Item?goodscode=79828...</td>\n",
       "    </tr>\n",
       "    <tr>\n",
       "      <th>29</th>\n",
       "      <td>5900원~아쿠아슈즈 샌들 남성 여성샌들 아쿠아신발</td>\n",
       "      <td>23000</td>\n",
       "      <td>6900</td>\n",
       "      <td>http://item.gmarket.co.kr/Item?goodscode=95974...</td>\n",
       "    </tr>\n",
       "    <tr>\n",
       "      <th>30</th>\n",
       "      <td>(체리빌레)여름신상 예쁜 원피스/하객룩/플라워/린넨</td>\n",
       "      <td>51900</td>\n",
       "      <td>15900</td>\n",
       "      <td>http://item.gmarket.co.kr/Item?goodscode=78724...</td>\n",
       "    </tr>\n",
       "    <tr>\n",
       "      <th>31</th>\n",
       "      <td>린넨 강자 로드블링 신상9900원/원피스/린넨/하객</td>\n",
       "      <td>33000</td>\n",
       "      <td>9900</td>\n",
       "      <td>http://item.gmarket.co.kr/Item?goodscode=93204...</td>\n",
       "    </tr>\n",
       "    <tr>\n",
       "      <th>32</th>\n",
       "      <td>[요즘에]여름신상 역대급특가/반바지/치마/슬랙스/청바지/SALE</td>\n",
       "      <td>32900</td>\n",
       "      <td>9900</td>\n",
       "      <td>http://item.gmarket.co.kr/Item?goodscode=18984...</td>\n",
       "    </tr>\n",
       "    <tr>\n",
       "      <th>33</th>\n",
       "      <td>모니카룸/신상/Best상품/감성데일리룩/캐주얼룩</td>\n",
       "      <td>53000</td>\n",
       "      <td>15900</td>\n",
       "      <td>http://item.gmarket.co.kr/Item?goodscode=99535...</td>\n",
       "    </tr>\n",
       "    <tr>\n",
       "      <th>34</th>\n",
       "      <td>5부 7부 트레이닝 상하의/쿨론원단.남녀커플</td>\n",
       "      <td>19600</td>\n",
       "      <td>5900</td>\n",
       "      <td>http://item.gmarket.co.kr/Item?goodscode=73045...</td>\n",
       "    </tr>\n",
       "    <tr>\n",
       "      <th>35</th>\n",
       "      <td>단하루특가 투투 ~3XL/린넨/슬랙스/반바지</td>\n",
       "      <td>32900</td>\n",
       "      <td>9900</td>\n",
       "      <td>http://item.gmarket.co.kr/Item?goodscode=19755...</td>\n",
       "    </tr>\n",
       "    <tr>\n",
       "      <th>36</th>\n",
       "      <td>[ahc]AHC 내추럴 퍼펙션 프레쉬 선스틱 22gx2개/썬스틱/</td>\n",
       "      <td>61000</td>\n",
       "      <td>17900</td>\n",
       "      <td>http://item.gmarket.co.kr/Item?goodscode=14289...</td>\n",
       "    </tr>\n",
       "    <tr>\n",
       "      <th>37</th>\n",
       "      <td>[순수한면](쿠폰가13900원)순수한면 ZERO 5팩+파우치손거울증정</td>\n",
       "      <td>25000</td>\n",
       "      <td>16900</td>\n",
       "      <td>http://item.gmarket.co.kr/Item?goodscode=14038...</td>\n",
       "    </tr>\n",
       "    <tr>\n",
       "      <th>38</th>\n",
       "      <td>업계를 리드하는 기업 3SK택배박스</td>\n",
       "      <td>34000</td>\n",
       "      <td>29300</td>\n",
       "      <td>http://item.gmarket.co.kr/Item?goodscode=16126...</td>\n",
       "    </tr>\n",
       "    <tr>\n",
       "      <th>39</th>\n",
       "      <td>UV차단 기능성~4XL/여름 쿨레깅스/치마/린넨/밴딩팬츠</td>\n",
       "      <td>19500</td>\n",
       "      <td>5900</td>\n",
       "      <td>http://item.gmarket.co.kr/Item?goodscode=50672...</td>\n",
       "    </tr>\n",
       "  </tbody>\n",
       "</table>\n",
       "</div>"
      ],
      "text/plain": [
       "                                          title o-price s-price  \\\n",
       "0                     더다다/원피스형 롱티/신상/루즈/박시/빅사이즈   19500    5900   \n",
       "1                [아디다스]니짜 CQ2332외 4종 택1 G/ 아디다스   39000   28470   \n",
       "2           [동원샘물미네마인]동원 샘물 2Lx9병x3팩(총 27병) /생수   30000   12900   \n",
       "3        [아망떼]1+1여름베개커버/인견/순면/30x50/40x60/50x70   24000    4900   \n",
       "4            [하기스]2018년형 에어솔솔 썸머 팬티 / 밴드 기저귀 2팩   39900   32900   \n",
       "5         [하림]하림 프로라인 치킨너겟 1kg 2봉+치킨너겟 100g(증정)   20000   12900   \n",
       "6   [동원덴마크우유]동원 인포켓치즈 20g x20개+(저키x8개 or 치즈디퍼즈)   30000   13900   \n",
       "7                     유스타일팜 여름신상/빅사이즈/밴딩/데님/스커트   29600    8900   \n",
       "8                CJ 햇반210gx24개/오뚜기밥24개/컵밥10개/컵반   27100   16900   \n",
       "9                            나이키 스우시 라운드 반팔 티셔츠   29000   14900   \n",
       "10                 자두와 살구의 특별한 만남 신품종 플럼코트 450g   18900    8900   \n",
       "11                    티셔츠5장9900 원피스/티셔츠/린넨팬츠 세트   65900   19900   \n",
       "12                   대박난박양 빅사이즈 원피스 블라우스 티셔츠 바지   42900   12900   \n",
       "13                 샌들 99균일가 플랫샌들 스트랩 웨지 슬리퍼 슬링백   32900    9900   \n",
       "14              [티비제이]TBJ 남녀 여름 티셔츠/팬츠 특가 상품 모음   14900    4500   \n",
       "15               올리(Ollie) 여성 여름 샌들/슬리퍼/에스파듀/통굽   32900    9900   \n",
       "16              3+1 2018년 프롬비 휴대용 선풍기 매직스톰 핸즈프리   24800   19800   \n",
       "17                        티메이 원피스 블라우스 스커트 롱원피스   32900    9900   \n",
       "18            [순창](기획)순창 찰고추장1kgx2+450gx2/양념/소스   21400   13900   \n",
       "19                      언니드랑 블라우스/원피스/팬츠/스커트/린넨   32900    9900   \n",
       "20   [동원참치]동원 건강한참치 100gx9캔 +마일드 100gx3캔 (총12캔)   23000   11900   \n",
       "21  [카카오프렌즈]카카오 노트8 5 4 S9 S8 G6 아이폰X 7 핸드폰 케이스   20000    9900   \n",
       "22             [영실업]포터리스쿨 도자기스튜디오 LOL서프라이즈 주얼젤리   32900    9900   \n",
       "23                  역대급특가/반바지/치마바지/숏팬츠/청바지/SALE   23000    6900   \n",
       "24            재입고 마지막 수량 크록스 특가 50종 택1(G180621)   63000   18900   \n",
       "25               2018 최신판 세이펜 허니북1탄/2탄/송아리 선택구매           53000   \n",
       "26        [미샤]미샤 6월 썸머 페스티벌 전품목 1+1 (6/19~6/23)   75600   37800   \n",
       "27                           키즈웰 젤리스트로우 800GX2개   13500   10900   \n",
       "28                   항균 여름이불패드 여름이불세트 침대패드 여름침구   36000    6900   \n",
       "29                 5900원~아쿠아슈즈 샌들 남성 여성샌들 아쿠아신발   23000    6900   \n",
       "30                 (체리빌레)여름신상 예쁜 원피스/하객룩/플라워/린넨   51900   15900   \n",
       "31                 린넨 강자 로드블링 신상9900원/원피스/린넨/하객   33000    9900   \n",
       "32          [요즘에]여름신상 역대급특가/반바지/치마/슬랙스/청바지/SALE   32900    9900   \n",
       "33                   모니카룸/신상/Best상품/감성데일리룩/캐주얼룩   53000   15900   \n",
       "34                     5부 7부 트레이닝 상하의/쿨론원단.남녀커플   19600    5900   \n",
       "35                     단하루특가 투투 ~3XL/린넨/슬랙스/반바지   32900    9900   \n",
       "36         [ahc]AHC 내추럴 퍼펙션 프레쉬 선스틱 22gx2개/썬스틱/   61000   17900   \n",
       "37       [순수한면](쿠폰가13900원)순수한면 ZERO 5팩+파우치손거울증정   25000   16900   \n",
       "38                          업계를 리드하는 기업 3SK택배박스   34000   29300   \n",
       "39              UV차단 기능성~4XL/여름 쿨레깅스/치마/린넨/밴딩팬츠   19500    5900   \n",
       "\n",
       "                                                 link  \n",
       "0   http://item.gmarket.co.kr/Item?goodscode=62724...  \n",
       "1   http://item.gmarket.co.kr/Item?goodscode=14301...  \n",
       "2   http://item.gmarket.co.kr/Item?goodscode=63617...  \n",
       "3   http://item.gmarket.co.kr/Item?goodscode=41037...  \n",
       "4   http://item.gmarket.co.kr/Item?goodscode=14365...  \n",
       "5   http://item.gmarket.co.kr/Item?goodscode=13005...  \n",
       "6   http://item.gmarket.co.kr/Item?goodscode=87359...  \n",
       "7   http://item.gmarket.co.kr/Item?goodscode=86949...  \n",
       "8   http://item.gmarket.co.kr/Item?goodscode=91202...  \n",
       "9   http://item.gmarket.co.kr/Item?goodscode=14298...  \n",
       "10  http://item.gmarket.co.kr/Item?goodscode=14299...  \n",
       "11  http://item.gmarket.co.kr/Item?goodscode=94765...  \n",
       "12  http://item.gmarket.co.kr/Item?goodscode=86088...  \n",
       "13  http://item.gmarket.co.kr/Item?goodscode=14098...  \n",
       "14  http://item.gmarket.co.kr/Item?goodscode=14260...  \n",
       "15  http://item.gmarket.co.kr/Item?goodscode=94895...  \n",
       "16  http://item.gmarket.co.kr/Item?goodscode=13773...  \n",
       "17  http://item.gmarket.co.kr/Item?goodscode=12802...  \n",
       "18  http://item.gmarket.co.kr/Item?goodscode=12958...  \n",
       "19  http://item.gmarket.co.kr/Item?goodscode=11767...  \n",
       "20  http://item.gmarket.co.kr/Item?goodscode=18511...  \n",
       "21  http://item.gmarket.co.kr/Item?goodscode=83035...  \n",
       "22  http://item.gmarket.co.kr/Item?goodscode=85712...  \n",
       "23  http://item.gmarket.co.kr/Item?goodscode=16375...  \n",
       "24  http://item.gmarket.co.kr/Item?goodscode=75377...  \n",
       "25  http://item.gmarket.co.kr/Item?goodscode=87400...  \n",
       "26  http://item.gmarket.co.kr/Item?goodscode=73453...  \n",
       "27  http://item.gmarket.co.kr/Item?goodscode=14295...  \n",
       "28  http://item.gmarket.co.kr/Item?goodscode=79828...  \n",
       "29  http://item.gmarket.co.kr/Item?goodscode=95974...  \n",
       "30  http://item.gmarket.co.kr/Item?goodscode=78724...  \n",
       "31  http://item.gmarket.co.kr/Item?goodscode=93204...  \n",
       "32  http://item.gmarket.co.kr/Item?goodscode=18984...  \n",
       "33  http://item.gmarket.co.kr/Item?goodscode=99535...  \n",
       "34  http://item.gmarket.co.kr/Item?goodscode=73045...  \n",
       "35  http://item.gmarket.co.kr/Item?goodscode=19755...  \n",
       "36  http://item.gmarket.co.kr/Item?goodscode=14289...  \n",
       "37  http://item.gmarket.co.kr/Item?goodscode=14038...  \n",
       "38  http://item.gmarket.co.kr/Item?goodscode=16126...  \n",
       "39  http://item.gmarket.co.kr/Item?goodscode=50672...  "
      ]
     },
     "execution_count": 152,
     "metadata": {},
     "output_type": "execute_result"
    }
   ],
   "source": [
    "items = driver.find_elements_by_css_selector(\".best-list:nth-child(3) > ul > li\")\n",
    "# len(items) #위치확인\n",
    "\n",
    "dict_list = []\n",
    "\n",
    "for item in items[:40]:\n",
    "    dict_list.append({\n",
    "        'title' : item.find_element_by_css_selector(\".itemname\").text,\n",
    "        'link' : item.find_element_by_css_selector(\".itemname\").get_attribute(\"href\"),  #속성 url가져오기\n",
    "        'o-price' : item.find_element_by_css_selector(\".o-price\").text.replace(\",\",\"\")[:-1], #텍스트 숫자변환\n",
    "        's-price' : item.find_element_by_css_selector(\".s-price\").text.split(\" \")[0].replace(\",\",\"\")[:-1],\n",
    "    })\n",
    "df = pd.DataFrame(dict_list,columns=[\"title\",\"o-price\",\"s-price\",\"link\"])\n",
    "df"
   ]
  },
  {
   "cell_type": "code",
   "execution_count": 153,
   "metadata": {},
   "outputs": [],
   "source": [
    "#빈칸채우기 (o-price의 빈부분 s-price로 채우기)\n",
    "is_nodata = df[\"o-price\"] == \"\"\n",
    "\n",
    "df[\"o-price\"][is_nodata] = df[\"s-price\"][is_nodata]"
   ]
  },
  {
   "cell_type": "code",
   "execution_count": 154,
   "metadata": {},
   "outputs": [
    {
     "data": {
      "text/html": [
       "<div>\n",
       "<style>\n",
       "    .dataframe thead tr:only-child th {\n",
       "        text-align: right;\n",
       "    }\n",
       "\n",
       "    .dataframe thead th {\n",
       "        text-align: left;\n",
       "    }\n",
       "\n",
       "    .dataframe tbody tr th {\n",
       "        vertical-align: top;\n",
       "    }\n",
       "</style>\n",
       "<table border=\"1\" class=\"dataframe\">\n",
       "  <thead>\n",
       "    <tr style=\"text-align: right;\">\n",
       "      <th></th>\n",
       "      <th>title</th>\n",
       "      <th>o-price</th>\n",
       "      <th>s-price</th>\n",
       "      <th>link</th>\n",
       "      <th>discount-rate</th>\n",
       "    </tr>\n",
       "  </thead>\n",
       "  <tbody>\n",
       "    <tr>\n",
       "      <th>0</th>\n",
       "      <td>더다다/원피스형 롱티/신상/루즈/박시/빅사이즈</td>\n",
       "      <td>19500</td>\n",
       "      <td>5900</td>\n",
       "      <td>http://item.gmarket.co.kr/Item?goodscode=62724...</td>\n",
       "      <td>70%</td>\n",
       "    </tr>\n",
       "    <tr>\n",
       "      <th>1</th>\n",
       "      <td>[아디다스]니짜 CQ2332외 4종 택1 G/ 아디다스</td>\n",
       "      <td>39000</td>\n",
       "      <td>28470</td>\n",
       "      <td>http://item.gmarket.co.kr/Item?goodscode=14301...</td>\n",
       "      <td>27%</td>\n",
       "    </tr>\n",
       "    <tr>\n",
       "      <th>2</th>\n",
       "      <td>[동원샘물미네마인]동원 샘물 2Lx9병x3팩(총 27병) /생수</td>\n",
       "      <td>30000</td>\n",
       "      <td>12900</td>\n",
       "      <td>http://item.gmarket.co.kr/Item?goodscode=63617...</td>\n",
       "      <td>57%</td>\n",
       "    </tr>\n",
       "    <tr>\n",
       "      <th>3</th>\n",
       "      <td>[아망떼]1+1여름베개커버/인견/순면/30x50/40x60/50x70</td>\n",
       "      <td>24000</td>\n",
       "      <td>4900</td>\n",
       "      <td>http://item.gmarket.co.kr/Item?goodscode=41037...</td>\n",
       "      <td>80%</td>\n",
       "    </tr>\n",
       "    <tr>\n",
       "      <th>4</th>\n",
       "      <td>[하기스]2018년형 에어솔솔 썸머 팬티 / 밴드 기저귀 2팩</td>\n",
       "      <td>39900</td>\n",
       "      <td>32900</td>\n",
       "      <td>http://item.gmarket.co.kr/Item?goodscode=14365...</td>\n",
       "      <td>18%</td>\n",
       "    </tr>\n",
       "    <tr>\n",
       "      <th>5</th>\n",
       "      <td>[하림]하림 프로라인 치킨너겟 1kg 2봉+치킨너겟 100g(증정)</td>\n",
       "      <td>20000</td>\n",
       "      <td>12900</td>\n",
       "      <td>http://item.gmarket.co.kr/Item?goodscode=13005...</td>\n",
       "      <td>36%</td>\n",
       "    </tr>\n",
       "    <tr>\n",
       "      <th>6</th>\n",
       "      <td>[동원덴마크우유]동원 인포켓치즈 20g x20개+(저키x8개 or 치즈디퍼즈)</td>\n",
       "      <td>30000</td>\n",
       "      <td>13900</td>\n",
       "      <td>http://item.gmarket.co.kr/Item?goodscode=87359...</td>\n",
       "      <td>54%</td>\n",
       "    </tr>\n",
       "    <tr>\n",
       "      <th>7</th>\n",
       "      <td>유스타일팜 여름신상/빅사이즈/밴딩/데님/스커트</td>\n",
       "      <td>29600</td>\n",
       "      <td>8900</td>\n",
       "      <td>http://item.gmarket.co.kr/Item?goodscode=86949...</td>\n",
       "      <td>70%</td>\n",
       "    </tr>\n",
       "    <tr>\n",
       "      <th>8</th>\n",
       "      <td>CJ 햇반210gx24개/오뚜기밥24개/컵밥10개/컵반</td>\n",
       "      <td>27100</td>\n",
       "      <td>16900</td>\n",
       "      <td>http://item.gmarket.co.kr/Item?goodscode=91202...</td>\n",
       "      <td>38%</td>\n",
       "    </tr>\n",
       "    <tr>\n",
       "      <th>9</th>\n",
       "      <td>나이키 스우시 라운드 반팔 티셔츠</td>\n",
       "      <td>29000</td>\n",
       "      <td>14900</td>\n",
       "      <td>http://item.gmarket.co.kr/Item?goodscode=14298...</td>\n",
       "      <td>49%</td>\n",
       "    </tr>\n",
       "    <tr>\n",
       "      <th>10</th>\n",
       "      <td>자두와 살구의 특별한 만남 신품종 플럼코트 450g</td>\n",
       "      <td>18900</td>\n",
       "      <td>8900</td>\n",
       "      <td>http://item.gmarket.co.kr/Item?goodscode=14299...</td>\n",
       "      <td>53%</td>\n",
       "    </tr>\n",
       "    <tr>\n",
       "      <th>11</th>\n",
       "      <td>티셔츠5장9900 원피스/티셔츠/린넨팬츠 세트</td>\n",
       "      <td>65900</td>\n",
       "      <td>19900</td>\n",
       "      <td>http://item.gmarket.co.kr/Item?goodscode=94765...</td>\n",
       "      <td>70%</td>\n",
       "    </tr>\n",
       "    <tr>\n",
       "      <th>12</th>\n",
       "      <td>대박난박양 빅사이즈 원피스 블라우스 티셔츠 바지</td>\n",
       "      <td>42900</td>\n",
       "      <td>12900</td>\n",
       "      <td>http://item.gmarket.co.kr/Item?goodscode=86088...</td>\n",
       "      <td>70%</td>\n",
       "    </tr>\n",
       "    <tr>\n",
       "      <th>13</th>\n",
       "      <td>샌들 99균일가 플랫샌들 스트랩 웨지 슬리퍼 슬링백</td>\n",
       "      <td>32900</td>\n",
       "      <td>9900</td>\n",
       "      <td>http://item.gmarket.co.kr/Item?goodscode=14098...</td>\n",
       "      <td>70%</td>\n",
       "    </tr>\n",
       "    <tr>\n",
       "      <th>14</th>\n",
       "      <td>[티비제이]TBJ 남녀 여름 티셔츠/팬츠 특가 상품 모음</td>\n",
       "      <td>14900</td>\n",
       "      <td>4500</td>\n",
       "      <td>http://item.gmarket.co.kr/Item?goodscode=14260...</td>\n",
       "      <td>70%</td>\n",
       "    </tr>\n",
       "    <tr>\n",
       "      <th>15</th>\n",
       "      <td>올리(Ollie) 여성 여름 샌들/슬리퍼/에스파듀/통굽</td>\n",
       "      <td>32900</td>\n",
       "      <td>9900</td>\n",
       "      <td>http://item.gmarket.co.kr/Item?goodscode=94895...</td>\n",
       "      <td>70%</td>\n",
       "    </tr>\n",
       "    <tr>\n",
       "      <th>16</th>\n",
       "      <td>3+1 2018년 프롬비 휴대용 선풍기 매직스톰 핸즈프리</td>\n",
       "      <td>24800</td>\n",
       "      <td>19800</td>\n",
       "      <td>http://item.gmarket.co.kr/Item?goodscode=13773...</td>\n",
       "      <td>20%</td>\n",
       "    </tr>\n",
       "    <tr>\n",
       "      <th>17</th>\n",
       "      <td>티메이 원피스 블라우스 스커트 롱원피스</td>\n",
       "      <td>32900</td>\n",
       "      <td>9900</td>\n",
       "      <td>http://item.gmarket.co.kr/Item?goodscode=12802...</td>\n",
       "      <td>70%</td>\n",
       "    </tr>\n",
       "    <tr>\n",
       "      <th>18</th>\n",
       "      <td>[순창](기획)순창 찰고추장1kgx2+450gx2/양념/소스</td>\n",
       "      <td>21400</td>\n",
       "      <td>13900</td>\n",
       "      <td>http://item.gmarket.co.kr/Item?goodscode=12958...</td>\n",
       "      <td>35%</td>\n",
       "    </tr>\n",
       "    <tr>\n",
       "      <th>19</th>\n",
       "      <td>언니드랑 블라우스/원피스/팬츠/스커트/린넨</td>\n",
       "      <td>32900</td>\n",
       "      <td>9900</td>\n",
       "      <td>http://item.gmarket.co.kr/Item?goodscode=11767...</td>\n",
       "      <td>70%</td>\n",
       "    </tr>\n",
       "    <tr>\n",
       "      <th>20</th>\n",
       "      <td>[동원참치]동원 건강한참치 100gx9캔 +마일드 100gx3캔 (총12캔)</td>\n",
       "      <td>23000</td>\n",
       "      <td>11900</td>\n",
       "      <td>http://item.gmarket.co.kr/Item?goodscode=18511...</td>\n",
       "      <td>48%</td>\n",
       "    </tr>\n",
       "    <tr>\n",
       "      <th>21</th>\n",
       "      <td>[카카오프렌즈]카카오 노트8 5 4 S9 S8 G6 아이폰X 7 핸드폰 케이스</td>\n",
       "      <td>20000</td>\n",
       "      <td>9900</td>\n",
       "      <td>http://item.gmarket.co.kr/Item?goodscode=83035...</td>\n",
       "      <td>50%</td>\n",
       "    </tr>\n",
       "    <tr>\n",
       "      <th>22</th>\n",
       "      <td>[영실업]포터리스쿨 도자기스튜디오 LOL서프라이즈 주얼젤리</td>\n",
       "      <td>32900</td>\n",
       "      <td>9900</td>\n",
       "      <td>http://item.gmarket.co.kr/Item?goodscode=85712...</td>\n",
       "      <td>70%</td>\n",
       "    </tr>\n",
       "    <tr>\n",
       "      <th>23</th>\n",
       "      <td>역대급특가/반바지/치마바지/숏팬츠/청바지/SALE</td>\n",
       "      <td>23000</td>\n",
       "      <td>6900</td>\n",
       "      <td>http://item.gmarket.co.kr/Item?goodscode=16375...</td>\n",
       "      <td>70%</td>\n",
       "    </tr>\n",
       "    <tr>\n",
       "      <th>24</th>\n",
       "      <td>재입고 마지막 수량 크록스 특가 50종 택1(G180621)</td>\n",
       "      <td>63000</td>\n",
       "      <td>18900</td>\n",
       "      <td>http://item.gmarket.co.kr/Item?goodscode=75377...</td>\n",
       "      <td>70%</td>\n",
       "    </tr>\n",
       "    <tr>\n",
       "      <th>25</th>\n",
       "      <td>2018 최신판 세이펜 허니북1탄/2탄/송아리 선택구매</td>\n",
       "      <td>53000</td>\n",
       "      <td>53000</td>\n",
       "      <td>http://item.gmarket.co.kr/Item?goodscode=87400...</td>\n",
       "      <td>0%</td>\n",
       "    </tr>\n",
       "    <tr>\n",
       "      <th>26</th>\n",
       "      <td>[미샤]미샤 6월 썸머 페스티벌 전품목 1+1 (6/19~6/23)</td>\n",
       "      <td>75600</td>\n",
       "      <td>37800</td>\n",
       "      <td>http://item.gmarket.co.kr/Item?goodscode=73453...</td>\n",
       "      <td>50%</td>\n",
       "    </tr>\n",
       "    <tr>\n",
       "      <th>27</th>\n",
       "      <td>키즈웰 젤리스트로우 800GX2개</td>\n",
       "      <td>13500</td>\n",
       "      <td>10900</td>\n",
       "      <td>http://item.gmarket.co.kr/Item?goodscode=14295...</td>\n",
       "      <td>19%</td>\n",
       "    </tr>\n",
       "    <tr>\n",
       "      <th>28</th>\n",
       "      <td>항균 여름이불패드 여름이불세트 침대패드 여름침구</td>\n",
       "      <td>36000</td>\n",
       "      <td>6900</td>\n",
       "      <td>http://item.gmarket.co.kr/Item?goodscode=79828...</td>\n",
       "      <td>81%</td>\n",
       "    </tr>\n",
       "    <tr>\n",
       "      <th>29</th>\n",
       "      <td>5900원~아쿠아슈즈 샌들 남성 여성샌들 아쿠아신발</td>\n",
       "      <td>23000</td>\n",
       "      <td>6900</td>\n",
       "      <td>http://item.gmarket.co.kr/Item?goodscode=95974...</td>\n",
       "      <td>70%</td>\n",
       "    </tr>\n",
       "    <tr>\n",
       "      <th>30</th>\n",
       "      <td>(체리빌레)여름신상 예쁜 원피스/하객룩/플라워/린넨</td>\n",
       "      <td>51900</td>\n",
       "      <td>15900</td>\n",
       "      <td>http://item.gmarket.co.kr/Item?goodscode=78724...</td>\n",
       "      <td>69%</td>\n",
       "    </tr>\n",
       "    <tr>\n",
       "      <th>31</th>\n",
       "      <td>린넨 강자 로드블링 신상9900원/원피스/린넨/하객</td>\n",
       "      <td>33000</td>\n",
       "      <td>9900</td>\n",
       "      <td>http://item.gmarket.co.kr/Item?goodscode=93204...</td>\n",
       "      <td>70%</td>\n",
       "    </tr>\n",
       "    <tr>\n",
       "      <th>32</th>\n",
       "      <td>[요즘에]여름신상 역대급특가/반바지/치마/슬랙스/청바지/SALE</td>\n",
       "      <td>32900</td>\n",
       "      <td>9900</td>\n",
       "      <td>http://item.gmarket.co.kr/Item?goodscode=18984...</td>\n",
       "      <td>70%</td>\n",
       "    </tr>\n",
       "    <tr>\n",
       "      <th>33</th>\n",
       "      <td>모니카룸/신상/Best상품/감성데일리룩/캐주얼룩</td>\n",
       "      <td>53000</td>\n",
       "      <td>15900</td>\n",
       "      <td>http://item.gmarket.co.kr/Item?goodscode=99535...</td>\n",
       "      <td>70%</td>\n",
       "    </tr>\n",
       "    <tr>\n",
       "      <th>34</th>\n",
       "      <td>5부 7부 트레이닝 상하의/쿨론원단.남녀커플</td>\n",
       "      <td>19600</td>\n",
       "      <td>5900</td>\n",
       "      <td>http://item.gmarket.co.kr/Item?goodscode=73045...</td>\n",
       "      <td>70%</td>\n",
       "    </tr>\n",
       "    <tr>\n",
       "      <th>35</th>\n",
       "      <td>단하루특가 투투 ~3XL/린넨/슬랙스/반바지</td>\n",
       "      <td>32900</td>\n",
       "      <td>9900</td>\n",
       "      <td>http://item.gmarket.co.kr/Item?goodscode=19755...</td>\n",
       "      <td>70%</td>\n",
       "    </tr>\n",
       "    <tr>\n",
       "      <th>36</th>\n",
       "      <td>[ahc]AHC 내추럴 퍼펙션 프레쉬 선스틱 22gx2개/썬스틱/</td>\n",
       "      <td>61000</td>\n",
       "      <td>17900</td>\n",
       "      <td>http://item.gmarket.co.kr/Item?goodscode=14289...</td>\n",
       "      <td>71%</td>\n",
       "    </tr>\n",
       "    <tr>\n",
       "      <th>37</th>\n",
       "      <td>[순수한면](쿠폰가13900원)순수한면 ZERO 5팩+파우치손거울증정</td>\n",
       "      <td>25000</td>\n",
       "      <td>16900</td>\n",
       "      <td>http://item.gmarket.co.kr/Item?goodscode=14038...</td>\n",
       "      <td>32%</td>\n",
       "    </tr>\n",
       "    <tr>\n",
       "      <th>38</th>\n",
       "      <td>업계를 리드하는 기업 3SK택배박스</td>\n",
       "      <td>34000</td>\n",
       "      <td>29300</td>\n",
       "      <td>http://item.gmarket.co.kr/Item?goodscode=16126...</td>\n",
       "      <td>14%</td>\n",
       "    </tr>\n",
       "    <tr>\n",
       "      <th>39</th>\n",
       "      <td>UV차단 기능성~4XL/여름 쿨레깅스/치마/린넨/밴딩팬츠</td>\n",
       "      <td>19500</td>\n",
       "      <td>5900</td>\n",
       "      <td>http://item.gmarket.co.kr/Item?goodscode=50672...</td>\n",
       "      <td>70%</td>\n",
       "    </tr>\n",
       "  </tbody>\n",
       "</table>\n",
       "</div>"
      ],
      "text/plain": [
       "                                          title o-price s-price  \\\n",
       "0                     더다다/원피스형 롱티/신상/루즈/박시/빅사이즈   19500    5900   \n",
       "1                [아디다스]니짜 CQ2332외 4종 택1 G/ 아디다스   39000   28470   \n",
       "2           [동원샘물미네마인]동원 샘물 2Lx9병x3팩(총 27병) /생수   30000   12900   \n",
       "3        [아망떼]1+1여름베개커버/인견/순면/30x50/40x60/50x70   24000    4900   \n",
       "4            [하기스]2018년형 에어솔솔 썸머 팬티 / 밴드 기저귀 2팩   39900   32900   \n",
       "5         [하림]하림 프로라인 치킨너겟 1kg 2봉+치킨너겟 100g(증정)   20000   12900   \n",
       "6   [동원덴마크우유]동원 인포켓치즈 20g x20개+(저키x8개 or 치즈디퍼즈)   30000   13900   \n",
       "7                     유스타일팜 여름신상/빅사이즈/밴딩/데님/스커트   29600    8900   \n",
       "8                CJ 햇반210gx24개/오뚜기밥24개/컵밥10개/컵반   27100   16900   \n",
       "9                            나이키 스우시 라운드 반팔 티셔츠   29000   14900   \n",
       "10                 자두와 살구의 특별한 만남 신품종 플럼코트 450g   18900    8900   \n",
       "11                    티셔츠5장9900 원피스/티셔츠/린넨팬츠 세트   65900   19900   \n",
       "12                   대박난박양 빅사이즈 원피스 블라우스 티셔츠 바지   42900   12900   \n",
       "13                 샌들 99균일가 플랫샌들 스트랩 웨지 슬리퍼 슬링백   32900    9900   \n",
       "14              [티비제이]TBJ 남녀 여름 티셔츠/팬츠 특가 상품 모음   14900    4500   \n",
       "15               올리(Ollie) 여성 여름 샌들/슬리퍼/에스파듀/통굽   32900    9900   \n",
       "16              3+1 2018년 프롬비 휴대용 선풍기 매직스톰 핸즈프리   24800   19800   \n",
       "17                        티메이 원피스 블라우스 스커트 롱원피스   32900    9900   \n",
       "18            [순창](기획)순창 찰고추장1kgx2+450gx2/양념/소스   21400   13900   \n",
       "19                      언니드랑 블라우스/원피스/팬츠/스커트/린넨   32900    9900   \n",
       "20   [동원참치]동원 건강한참치 100gx9캔 +마일드 100gx3캔 (총12캔)   23000   11900   \n",
       "21  [카카오프렌즈]카카오 노트8 5 4 S9 S8 G6 아이폰X 7 핸드폰 케이스   20000    9900   \n",
       "22             [영실업]포터리스쿨 도자기스튜디오 LOL서프라이즈 주얼젤리   32900    9900   \n",
       "23                  역대급특가/반바지/치마바지/숏팬츠/청바지/SALE   23000    6900   \n",
       "24            재입고 마지막 수량 크록스 특가 50종 택1(G180621)   63000   18900   \n",
       "25               2018 최신판 세이펜 허니북1탄/2탄/송아리 선택구매   53000   53000   \n",
       "26        [미샤]미샤 6월 썸머 페스티벌 전품목 1+1 (6/19~6/23)   75600   37800   \n",
       "27                           키즈웰 젤리스트로우 800GX2개   13500   10900   \n",
       "28                   항균 여름이불패드 여름이불세트 침대패드 여름침구   36000    6900   \n",
       "29                 5900원~아쿠아슈즈 샌들 남성 여성샌들 아쿠아신발   23000    6900   \n",
       "30                 (체리빌레)여름신상 예쁜 원피스/하객룩/플라워/린넨   51900   15900   \n",
       "31                 린넨 강자 로드블링 신상9900원/원피스/린넨/하객   33000    9900   \n",
       "32          [요즘에]여름신상 역대급특가/반바지/치마/슬랙스/청바지/SALE   32900    9900   \n",
       "33                   모니카룸/신상/Best상품/감성데일리룩/캐주얼룩   53000   15900   \n",
       "34                     5부 7부 트레이닝 상하의/쿨론원단.남녀커플   19600    5900   \n",
       "35                     단하루특가 투투 ~3XL/린넨/슬랙스/반바지   32900    9900   \n",
       "36         [ahc]AHC 내추럴 퍼펙션 프레쉬 선스틱 22gx2개/썬스틱/   61000   17900   \n",
       "37       [순수한면](쿠폰가13900원)순수한면 ZERO 5팩+파우치손거울증정   25000   16900   \n",
       "38                          업계를 리드하는 기업 3SK택배박스   34000   29300   \n",
       "39              UV차단 기능성~4XL/여름 쿨레깅스/치마/린넨/밴딩팬츠   19500    5900   \n",
       "\n",
       "                                                 link discount-rate  \n",
       "0   http://item.gmarket.co.kr/Item?goodscode=62724...           70%  \n",
       "1   http://item.gmarket.co.kr/Item?goodscode=14301...           27%  \n",
       "2   http://item.gmarket.co.kr/Item?goodscode=63617...           57%  \n",
       "3   http://item.gmarket.co.kr/Item?goodscode=41037...           80%  \n",
       "4   http://item.gmarket.co.kr/Item?goodscode=14365...           18%  \n",
       "5   http://item.gmarket.co.kr/Item?goodscode=13005...           36%  \n",
       "6   http://item.gmarket.co.kr/Item?goodscode=87359...           54%  \n",
       "7   http://item.gmarket.co.kr/Item?goodscode=86949...           70%  \n",
       "8   http://item.gmarket.co.kr/Item?goodscode=91202...           38%  \n",
       "9   http://item.gmarket.co.kr/Item?goodscode=14298...           49%  \n",
       "10  http://item.gmarket.co.kr/Item?goodscode=14299...           53%  \n",
       "11  http://item.gmarket.co.kr/Item?goodscode=94765...           70%  \n",
       "12  http://item.gmarket.co.kr/Item?goodscode=86088...           70%  \n",
       "13  http://item.gmarket.co.kr/Item?goodscode=14098...           70%  \n",
       "14  http://item.gmarket.co.kr/Item?goodscode=14260...           70%  \n",
       "15  http://item.gmarket.co.kr/Item?goodscode=94895...           70%  \n",
       "16  http://item.gmarket.co.kr/Item?goodscode=13773...           20%  \n",
       "17  http://item.gmarket.co.kr/Item?goodscode=12802...           70%  \n",
       "18  http://item.gmarket.co.kr/Item?goodscode=12958...           35%  \n",
       "19  http://item.gmarket.co.kr/Item?goodscode=11767...           70%  \n",
       "20  http://item.gmarket.co.kr/Item?goodscode=18511...           48%  \n",
       "21  http://item.gmarket.co.kr/Item?goodscode=83035...           50%  \n",
       "22  http://item.gmarket.co.kr/Item?goodscode=85712...           70%  \n",
       "23  http://item.gmarket.co.kr/Item?goodscode=16375...           70%  \n",
       "24  http://item.gmarket.co.kr/Item?goodscode=75377...           70%  \n",
       "25  http://item.gmarket.co.kr/Item?goodscode=87400...            0%  \n",
       "26  http://item.gmarket.co.kr/Item?goodscode=73453...           50%  \n",
       "27  http://item.gmarket.co.kr/Item?goodscode=14295...           19%  \n",
       "28  http://item.gmarket.co.kr/Item?goodscode=79828...           81%  \n",
       "29  http://item.gmarket.co.kr/Item?goodscode=95974...           70%  \n",
       "30  http://item.gmarket.co.kr/Item?goodscode=78724...           69%  \n",
       "31  http://item.gmarket.co.kr/Item?goodscode=93204...           70%  \n",
       "32  http://item.gmarket.co.kr/Item?goodscode=18984...           70%  \n",
       "33  http://item.gmarket.co.kr/Item?goodscode=99535...           70%  \n",
       "34  http://item.gmarket.co.kr/Item?goodscode=73045...           70%  \n",
       "35  http://item.gmarket.co.kr/Item?goodscode=19755...           70%  \n",
       "36  http://item.gmarket.co.kr/Item?goodscode=14289...           71%  \n",
       "37  http://item.gmarket.co.kr/Item?goodscode=14038...           32%  \n",
       "38  http://item.gmarket.co.kr/Item?goodscode=16126...           14%  \n",
       "39  http://item.gmarket.co.kr/Item?goodscode=50672...           70%  "
      ]
     },
     "execution_count": 154,
     "metadata": {},
     "output_type": "execute_result"
    }
   ],
   "source": [
    "# 할인율 컬럼을 추가하기 (27%)\n",
    "df['discount-rate'] = \\\n",
    "round((1 - df[\"s-price\"].astype('int') / df[\"o-price\"].astype('int'))*100,0)\n",
    "df['discount-rate'] = df['discount-rate'].astype('int')\n",
    "df['discount-rate'] = df['discount-rate'].astype('str')\n",
    "df['discount-rate'] += \"%\"\n",
    "df"
   ]
  },
  {
   "cell_type": "code",
   "execution_count": 155,
   "metadata": {},
   "outputs": [],
   "source": [
    "driver.quit()"
   ]
  },
  {
   "cell_type": "code",
   "execution_count": null,
   "metadata": {},
   "outputs": [],
   "source": [
    "#잘했어요~!!"
   ]
  },
  {
   "cell_type": "markdown",
   "metadata": {},
   "source": [
    "# 네이버 메일 크롤링\n",
    "- 네이버 페이지로 이동\n",
    "- 아이디 패스워드를 입력\n",
    "- 로그인 버튼 클릭\n",
    "- 메일 페이지로 이동\n",
    "- 메일 페이지에서 메일 데이터를 수집"
   ]
  },
  {
   "cell_type": "code",
   "execution_count": 156,
   "metadata": {},
   "outputs": [],
   "source": [
    "main_url = \"https://naver.com\"\n",
    "mail_url = \"https://mail.naver.com\""
   ]
  },
  {
   "cell_type": "code",
   "execution_count": 157,
   "metadata": {},
   "outputs": [],
   "source": [
    "driver = webdriver.Chrome()\n",
    "driver.get(main_url)"
   ]
  },
  {
   "cell_type": "code",
   "execution_count": 158,
   "metadata": {},
   "outputs": [],
   "source": [
    "driver.find_element_by_css_selector(\"#id\").send_keys(\"uziminigun\")\n",
    "driver.find_element_by_css_selector(\"#pw\").send_keys(\"\")#비밀번호 입력... 노출을 꺼리면 피클화해서 불러오자"
   ]
  },
  {
   "cell_type": "code",
   "execution_count": 167,
   "metadata": {},
   "outputs": [],
   "source": [
    "#로그인 버튼 클릭\n",
    "driver.find_element_by_css_selector('.btn_login > input[type=submit]').click()"
   ]
  },
  {
   "cell_type": "code",
   "execution_count": 168,
   "metadata": {},
   "outputs": [],
   "source": [
    "driver.get(mail_url)"
   ]
  },
  {
   "cell_type": "code",
   "execution_count": 169,
   "metadata": {},
   "outputs": [
    {
     "data": {
      "text/plain": [
       "10"
      ]
     },
     "execution_count": 169,
     "metadata": {},
     "output_type": "execute_result"
    }
   ],
   "source": [
    "mails = driver.find_elements_by_css_selector(\".mailList > li\")\n",
    "len(mails)"
   ]
  },
  {
   "cell_type": "code",
   "execution_count": 171,
   "metadata": {},
   "outputs": [
    {
     "data": {
      "text/html": [
       "<div>\n",
       "<style>\n",
       "    .dataframe thead tr:only-child th {\n",
       "        text-align: right;\n",
       "    }\n",
       "\n",
       "    .dataframe thead th {\n",
       "        text-align: left;\n",
       "    }\n",
       "\n",
       "    .dataframe tbody tr th {\n",
       "        vertical-align: top;\n",
       "    }\n",
       "</style>\n",
       "<table border=\"1\" class=\"dataframe\">\n",
       "  <thead>\n",
       "    <tr style=\"text-align: right;\">\n",
       "      <th></th>\n",
       "      <th>name</th>\n",
       "      <th>title</th>\n",
       "    </tr>\n",
       "  </thead>\n",
       "  <tbody>\n",
       "    <tr>\n",
       "      <th>0</th>\n",
       "      <td>Facebook</td>\n",
       "      <td>친구 추천에 원연정님, 김정아님 외 8이 추가되었습니다</td>\n",
       "    </tr>\n",
       "    <tr>\n",
       "      <th>1</th>\n",
       "      <td>창업신문</td>\n",
       "      <td>(광고) 창업, 시작이 절반의 성공입니다. 성공창업을 위한 무점포1인창업과 창업정보...</td>\n",
       "    </tr>\n",
       "    <tr>\n",
       "      <th>2</th>\n",
       "      <td>에브리존</td>\n",
       "      <td>[터보백신 인포 레터] 2018년6월20일 최신 엔진 업데이트와 보안 이슈를 확인해...</td>\n",
       "    </tr>\n",
       "    <tr>\n",
       "      <th>3</th>\n",
       "      <td>Facebook</td>\n",
       "      <td>Soph David님, 새 알림 64개, 친구 요청 1개가 있습니다</td>\n",
       "    </tr>\n",
       "    <tr>\n",
       "      <th>4</th>\n",
       "      <td>에브리존</td>\n",
       "      <td>[터보백신 인포 레터] 2018년6월19일 최신 엔진 업데이트와 보안 이슈를 확인해...</td>\n",
       "    </tr>\n",
       "    <tr>\n",
       "      <th>5</th>\n",
       "      <td>(사)한국물가정보</td>\n",
       "      <td>[안내] 원가계산프로그램 '웹코스트' 정식오픈 1주년 기념 이벤트!</td>\n",
       "    </tr>\n",
       "    <tr>\n",
       "      <th>6</th>\n",
       "      <td>구두마루</td>\n",
       "      <td>(광고) 월드컵 응원하면 매일매일 만원쿠폰</td>\n",
       "    </tr>\n",
       "    <tr>\n",
       "      <th>7</th>\n",
       "      <td>에브리존</td>\n",
       "      <td>[터보백신 인포 레터] 2018년6월18일 최신 엔진 업데이트와 보안 이슈를 확인해...</td>\n",
       "    </tr>\n",
       "    <tr>\n",
       "      <th>8</th>\n",
       "      <td>Facebook</td>\n",
       "      <td>친구 추천에 김민혁님, 정인혜님 외 8이 추가되었습니다</td>\n",
       "    </tr>\n",
       "    <tr>\n",
       "      <th>9</th>\n",
       "      <td>Facebook</td>\n",
       "      <td>Soph David님, 새 알림 62개, 친구 요청 1개가 있습니다</td>\n",
       "    </tr>\n",
       "  </tbody>\n",
       "</table>\n",
       "</div>"
      ],
      "text/plain": [
       "        name                                              title\n",
       "0   Facebook                     친구 추천에 원연정님, 김정아님 외 8이 추가되었습니다\n",
       "1       창업신문  (광고) 창업, 시작이 절반의 성공입니다. 성공창업을 위한 무점포1인창업과 창업정보...\n",
       "2       에브리존  [터보백신 인포 레터] 2018년6월20일 최신 엔진 업데이트와 보안 이슈를 확인해...\n",
       "3   Facebook              Soph David님, 새 알림 64개, 친구 요청 1개가 있습니다\n",
       "4       에브리존  [터보백신 인포 레터] 2018년6월19일 최신 엔진 업데이트와 보안 이슈를 확인해...\n",
       "5  (사)한국물가정보              [안내] 원가계산프로그램 '웹코스트' 정식오픈 1주년 기념 이벤트!\n",
       "6       구두마루                            (광고) 월드컵 응원하면 매일매일 만원쿠폰\n",
       "7       에브리존  [터보백신 인포 레터] 2018년6월18일 최신 엔진 업데이트와 보안 이슈를 확인해...\n",
       "8   Facebook                     친구 추천에 김민혁님, 정인혜님 외 8이 추가되었습니다\n",
       "9   Facebook              Soph David님, 새 알림 62개, 친구 요청 1개가 있습니다"
      ]
     },
     "execution_count": 171,
     "metadata": {},
     "output_type": "execute_result"
    }
   ],
   "source": [
    "dict_mail = []\n",
    "\n",
    "for mail in mails:\n",
    "    name = mail.find_element_by_css_selector(\".name > a\").text\n",
    "    title = mail.find_element_by_css_selector(\".mail_title\").text\n",
    "    dict_mail.append({\"name\":name,\"title\":title})\n",
    "\n",
    "df = pd.DataFrame(dict_mail)\n",
    "df"
   ]
  },
  {
   "cell_type": "code",
   "execution_count": null,
   "metadata": {},
   "outputs": [],
   "source": [
    "url = 'https://mail.naver.com/?n=1529567866002&v=f#{\"fClass\":\"list\",\"oParameter\":{\"page\":\"'2'\",\"sortField\":\"1\",\"sortType\":\"0\",\"folderSN\":\"0\",\"type\":\"\",\"isUnread\":false}}'"
   ]
  },
  {
   "cell_type": "code",
   "execution_count": 174,
   "metadata": {},
   "outputs": [],
   "source": [
    "driver.quit()"
   ]
  },
  {
   "cell_type": "code",
   "execution_count": 173,
   "metadata": {},
   "outputs": [],
   "source": [
    "#잘했어요~"
   ]
  },
  {
   "cell_type": "markdown",
   "metadata": {},
   "source": [
    "# 자동화 (댓글자동달아보기)\n",
    "\n",
    "- 테스트페이지 https://radajin661456067.wordpress.com/\n",
    "- 2개의 계정, 2개의 메시지, 2개의 게시글에 총 8개의 댓글을 자동으로 작성\n",
    "- 게시물의 링크를 크롤링\n",
    "- 각 게시물로 가서 댓글을 작성\n",
    "    - 댓글 작성 레이어를 클릭\n",
    "    - 댓글작성\n",
    "    - 이메일, 이름추가\n",
    "    - 댓글작성버튼 클릭\n"
   ]
  },
  {
   "cell_type": "code",
   "execution_count": 175,
   "metadata": {},
   "outputs": [],
   "source": [
    "url = 'https://radajin661456067.wordpress.com/'\n",
    "driver = webdriver.Chrome()\n",
    "driver.get(url)"
   ]
  },
  {
   "cell_type": "code",
   "execution_count": 177,
   "metadata": {},
   "outputs": [
    {
     "data": {
      "text/plain": [
       "['https://radajin661456067.wordpress.com/2018/06/21/%ed%85%8c%ec%8a%a4%ed%8a%b8/',\n",
       " 'https://radajin661456067.wordpress.com/2018/06/21/%ec%b2%ab-%eb%b2%88%ec%a7%b8-%eb%b8%94%eb%a1%9c%ea%b7%b8-%ea%b8%80/']"
      ]
     },
     "execution_count": 177,
     "metadata": {},
     "output_type": "execute_result"
    }
   ],
   "source": [
    "#main > article\n",
    "#링크데이터 가져오기\n",
    "links = []\n",
    "articles = driver.find_elements_by_css_selector(\"#main > article\")\n",
    "for article in articles:\n",
    "    links.append(article.find_element_by_css_selector(\".entry-title > a\").get_attribute(\"href\"))\n",
    "    \n",
    "links"
   ]
  },
  {
   "cell_type": "code",
   "execution_count": 178,
   "metadata": {},
   "outputs": [],
   "source": [
    "#링크이동\n",
    "\n",
    "driver.get(links[0])"
   ]
  },
  {
   "cell_type": "code",
   "execution_count": 179,
   "metadata": {},
   "outputs": [],
   "source": [
    "#스크롤 아래로 내리기\n",
    "script = \"window.scrollTo(0,10000);\"\n",
    "driver.execute_script(script)"
   ]
  },
  {
   "cell_type": "code",
   "execution_count": 181,
   "metadata": {},
   "outputs": [],
   "source": [
    "#댓글작성영역 클릭하기\n",
    "driver.find_element_by_css_selector(\"#comment-form-comment\").click()"
   ]
  },
  {
   "cell_type": "code",
   "execution_count": 183,
   "metadata": {},
   "outputs": [],
   "source": [
    "#댓글작성하기\n",
    "driver.find_element_by_css_selector(\"#comment\").send_keys(\"드루킹을 넘는자\")"
   ]
  },
  {
   "cell_type": "code",
   "execution_count": 184,
   "metadata": {},
   "outputs": [],
   "source": [
    "#스크롤 아래로 내리기\n",
    "script = \"window.scrollTo(0,10000);\"\n",
    "driver.execute_script(script)"
   ]
  },
  {
   "cell_type": "code",
   "execution_count": 185,
   "metadata": {},
   "outputs": [],
   "source": [
    "#이메일 이름 입력\n",
    "driver.find_element_by_css_selector(\"#email\").clear()\n",
    "driver.find_element_by_css_selector(\"#email\").send_keys(\"drewking_killer@gmail.com\")\n",
    "driver.find_element_by_css_selector(\"#author\").clear()\n",
    "driver.find_element_by_css_selector(\"#author\").send_keys(\"drewking_killer\")"
   ]
  },
  {
   "cell_type": "code",
   "execution_count": 186,
   "metadata": {},
   "outputs": [],
   "source": [
    "#작성버튼을 클릭\n",
    "driver.find_element_by_css_selector(\"#comment-submit\").click()"
   ]
  },
  {
   "cell_type": "code",
   "execution_count": 187,
   "metadata": {},
   "outputs": [],
   "source": [
    "#그럼 함수를 만들어보자!-----------------------------------\n",
    "import time\n",
    "\n",
    "#드루킹함수\n",
    "def write_comment(driver, link, msg, email, name):\n",
    "    driver.get(link)\n",
    "    script = \"window.scrollTo(0,10000);\"\n",
    "    driver.execute_script(script)\n",
    "    time.sleep(1)\n",
    "    driver.find_element_by_css_selector(\"#comment-form-comment\").click()\n",
    "    driver.find_element_by_css_selector(\"#comment\").send_keys(msg)\n",
    "    driver.execute_script(script)\n",
    "    time.sleep(1)\n",
    "    driver.find_element_by_css_selector(\"#email\").clear()\n",
    "    driver.find_element_by_css_selector(\"#email\").send_keys(email)\n",
    "    time.sleep(1)\n",
    "    driver.find_element_by_css_selector(\"#author\").clear()\n",
    "    driver.find_element_by_css_selector(\"#author\").send_keys(name)\n",
    "    time.sleep(1)\n",
    "    driver.find_element_by_css_selector(\"#comment-submit\").click()"
   ]
  },
  {
   "cell_type": "code",
   "execution_count": 191,
   "metadata": {},
   "outputs": [],
   "source": [
    "users = [\n",
    "    {'name':\"알바1\", \"email\":\"albamon@naver.com\"},\n",
    "    {\"name\":\"알바2\", \"email\":\"creall@naver.com\"}\n",
    "]\n",
    "msgs = [\"저녁곱창\",\"ㅇㅋㄷㅋ\"]"
   ]
  },
  {
   "cell_type": "code",
   "execution_count": 192,
   "metadata": {},
   "outputs": [
    {
     "name": "stdout",
     "output_type": "stream",
     "text": [
      "albamon@naver.com 알바1 저녁곱창 - 성공\n",
      "albamon@naver.com 알바1 저녁곱창 - 성공\n",
      "albamon@naver.com 알바1 ㅇㅋㄷㅋ - 성공\n",
      "albamon@naver.com 알바1 ㅇㅋㄷㅋ - 성공\n",
      "creall@naver.com 알바2 저녁곱창 - 성공\n",
      "creall@naver.com 알바2 저녁곱창 - 성공\n",
      "creall@naver.com 알바2 ㅇㅋㄷㅋ - 성공\n",
      "creall@naver.com 알바2 ㅇㅋㄷㅋ - 성공\n"
     ]
    }
   ],
   "source": [
    "for user in users:\n",
    "    for msg in msgs:\n",
    "        for link in links:\n",
    "            print(user['email'],user['name'],msg, end=\" - \")\n",
    "            try:\n",
    "                write_comment(driver, link, msg, user[\"email\"],user['name'])\n",
    "                print(\"성공\")\n",
    "            except:\n",
    "                print(\"실패\")\n"
   ]
  },
  {
   "cell_type": "code",
   "execution_count": 194,
   "metadata": {},
   "outputs": [],
   "source": [
    "# 잘했어요~ 굿굿"
   ]
  },
  {
   "cell_type": "code",
   "execution_count": 195,
   "metadata": {},
   "outputs": [],
   "source": [
    "## 유튜브 이미지 스크린샷 찍어서 구글비전에 바로 누구인지 찾게하는 시스템 만들어보기(재밌겠다~~)"
   ]
  },
  {
   "cell_type": "code",
   "execution_count": 196,
   "metadata": {},
   "outputs": [],
   "source": [
    "driver.quit()"
   ]
  },
  {
   "cell_type": "markdown",
   "metadata": {},
   "source": [
    "# 이미지 스크린샷!\n",
    "\n",
    "- pillow설치(4.1x버전은 주피터에서 에러발생하니 피할것..) (conda install -c anaconda pillow)"
   ]
  },
  {
   "cell_type": "code",
   "execution_count": 3,
   "metadata": {},
   "outputs": [
    {
     "ename": "ImportError",
     "evalue": "DLL load failed: 지정된 모듈을 찾을 수 없습니다.",
     "output_type": "error",
     "traceback": [
      "\u001b[1;31m---------------------------------------------------------------------------\u001b[0m",
      "\u001b[1;31mImportError\u001b[0m                               Traceback (most recent call last)",
      "\u001b[1;32m<ipython-input-3-6d5b1f3b7e3d>\u001b[0m in \u001b[0;36m<module>\u001b[1;34m()\u001b[0m\n\u001b[1;32m----> 1\u001b[1;33m \u001b[1;32mfrom\u001b[0m \u001b[0mPIL\u001b[0m \u001b[1;32mimport\u001b[0m \u001b[0mImage\u001b[0m \u001b[1;32mas\u001b[0m \u001b[0mpil\u001b[0m\u001b[1;33m\u001b[0m\u001b[0m\n\u001b[0m\u001b[0;32m      2\u001b[0m \u001b[1;32mimport\u001b[0m \u001b[0mtime\u001b[0m\u001b[1;33m\u001b[0m\u001b[0m\n",
      "\u001b[1;32m~\\Anaconda3\\lib\\site-packages\\PIL\\Image.py\u001b[0m in \u001b[0;36m<module>\u001b[1;34m()\u001b[0m\n\u001b[0;32m     58\u001b[0m     \u001b[1;31m# Also note that Image.core is not a publicly documented interface,\u001b[0m\u001b[1;33m\u001b[0m\u001b[1;33m\u001b[0m\u001b[0m\n\u001b[0;32m     59\u001b[0m     \u001b[1;31m# and should be considered private and subject to change.\u001b[0m\u001b[1;33m\u001b[0m\u001b[1;33m\u001b[0m\u001b[0m\n\u001b[1;32m---> 60\u001b[1;33m     \u001b[1;32mfrom\u001b[0m \u001b[1;33m.\u001b[0m \u001b[1;32mimport\u001b[0m \u001b[0m_imaging\u001b[0m \u001b[1;32mas\u001b[0m \u001b[0mcore\u001b[0m\u001b[1;33m\u001b[0m\u001b[0m\n\u001b[0m\u001b[0;32m     61\u001b[0m     \u001b[1;32mif\u001b[0m \u001b[0mPILLOW_VERSION\u001b[0m \u001b[1;33m!=\u001b[0m \u001b[0mgetattr\u001b[0m\u001b[1;33m(\u001b[0m\u001b[0mcore\u001b[0m\u001b[1;33m,\u001b[0m \u001b[1;34m'PILLOW_VERSION'\u001b[0m\u001b[1;33m,\u001b[0m \u001b[1;32mNone\u001b[0m\u001b[1;33m)\u001b[0m\u001b[1;33m:\u001b[0m\u001b[1;33m\u001b[0m\u001b[0m\n\u001b[0;32m     62\u001b[0m         raise ImportError(\"The _imaging extension was built for another \"\n",
      "\u001b[1;31mImportError\u001b[0m: DLL load failed: 지정된 모듈을 찾을 수 없습니다."
     ]
    }
   ],
   "source": [
    "from PIL import Image as pil\n",
    "import time"
   ]
  },
  {
   "cell_type": "code",
   "execution_count": 10,
   "metadata": {},
   "outputs": [],
   "source": [
    "#이미지 스크린샷\n",
    "url = \"https://www.youtube.com/watch?v=UThGcWBIMpU&t=500s\"\n",
    "driver = webdriver.Chrome()\n",
    "driver.get(url)\n",
    "for idx in range(5):\n",
    "    time.sleep(1)\n",
    "    driver.save_screenshot(\"imgs/screenshot\"+str(idx)+\".png\") #스크린샷함수 - 성공하면 true가 뜬다\n",
    "driver.quit()"
   ]
  },
  {
   "cell_type": "code",
   "execution_count": 5,
   "metadata": {},
   "outputs": [],
   "source": [
    "driver.quit()"
   ]
  },
  {
   "cell_type": "code",
   "execution_count": 3,
   "metadata": {},
   "outputs": [
    {
     "ename": "NameError",
     "evalue": "name 'pil' is not defined",
     "output_type": "error",
     "traceback": [
      "\u001b[1;31m---------------------------------------------------------------------------\u001b[0m",
      "\u001b[1;31mNameError\u001b[0m                                 Traceback (most recent call last)",
      "\u001b[1;32m<ipython-input-3-82e1256094ff>\u001b[0m in \u001b[0;36m<module>\u001b[1;34m()\u001b[0m\n\u001b[0;32m      1\u001b[0m \u001b[1;31m#이미지 띄우기\u001b[0m\u001b[1;33m\u001b[0m\u001b[1;33m\u001b[0m\u001b[0m\n\u001b[1;32m----> 2\u001b[1;33m \u001b[0mpil_im\u001b[0m \u001b[1;33m=\u001b[0m \u001b[0mpil\u001b[0m\u001b[1;33m.\u001b[0m\u001b[0mopen\u001b[0m\u001b[1;33m(\u001b[0m\u001b[1;34m\"imgs/screenshot0.png\"\u001b[0m\u001b[1;33m)\u001b[0m\u001b[1;33m\u001b[0m\u001b[0m\n\u001b[0m\u001b[0;32m      3\u001b[0m \u001b[0mprint\u001b[0m\u001b[1;33m(\u001b[0m\u001b[0mpil_im\u001b[0m\u001b[1;33m.\u001b[0m\u001b[0msize\u001b[0m\u001b[1;33m)\u001b[0m \u001b[1;31m#사이즈보기\u001b[0m\u001b[1;33m\u001b[0m\u001b[0m\n\u001b[0;32m      4\u001b[0m \u001b[0mpil_im\u001b[0m\u001b[1;33m\u001b[0m\u001b[0m\n",
      "\u001b[1;31mNameError\u001b[0m: name 'pil' is not defined"
     ]
    }
   ],
   "source": [
    "#이미지 띄우기\n",
    "pil_im = pil.open(\"imgs/screenshot0.png\")\n",
    "print(pil_im.size) #사이즈보기\n",
    "pil_im"
   ]
  },
  {
   "cell_type": "code",
   "execution_count": 4,
   "metadata": {},
   "outputs": [
    {
     "ename": "NameError",
     "evalue": "name 'url' is not defined",
     "output_type": "error",
     "traceback": [
      "\u001b[1;31m---------------------------------------------------------------------------\u001b[0m",
      "\u001b[1;31mNameError\u001b[0m                                 Traceback (most recent call last)",
      "\u001b[1;32m<ipython-input-4-bf6fc472bf1a>\u001b[0m in \u001b[0;36m<module>\u001b[1;34m()\u001b[0m\n\u001b[0;32m      1\u001b[0m \u001b[1;31m# id가 player-container인 엘리먼트의 영역의 위치값 구하기\u001b[0m\u001b[1;33m\u001b[0m\u001b[1;33m\u001b[0m\u001b[0m\n\u001b[0;32m      2\u001b[0m \u001b[0mdriver\u001b[0m \u001b[1;33m=\u001b[0m \u001b[0mwebdriver\u001b[0m\u001b[1;33m.\u001b[0m\u001b[0mChrome\u001b[0m\u001b[1;33m(\u001b[0m\u001b[1;33m)\u001b[0m\u001b[1;33m\u001b[0m\u001b[0m\n\u001b[1;32m----> 3\u001b[1;33m \u001b[0mdriver\u001b[0m\u001b[1;33m.\u001b[0m\u001b[0mget\u001b[0m\u001b[1;33m(\u001b[0m\u001b[0murl\u001b[0m\u001b[1;33m)\u001b[0m\u001b[1;33m\u001b[0m\u001b[0m\n\u001b[0m",
      "\u001b[1;31mNameError\u001b[0m: name 'url' is not defined"
     ]
    }
   ],
   "source": [
    "# id가 player-container인 엘리먼트의 영역의 위치값 구하기\n",
    "driver = webdriver.Chrome()\n",
    "driver.get(url)"
   ]
  },
  {
   "cell_type": "code",
   "execution_count": null,
   "metadata": {},
   "outputs": [],
   "source": [
    "element = driver.find_element_by_css_selector(\"#player-container\")\n",
    "location = element.location\n",
    "size = element.size\n",
    "location, size"
   ]
  },
  {
   "cell_type": "code",
   "execution_count": null,
   "metadata": {},
   "outputs": [],
   "source": [
    "driver.quit()"
   ]
  },
  {
   "cell_type": "code",
   "execution_count": null,
   "metadata": {
    "collapsed": true
   },
   "outputs": [],
   "source": [
    "# top, bottom, left, right\n",
    "# 레티나 디스플레이의 경우 *2를 해줘야함\n",
    "left = location['x']\n",
    "top = location['y'] \n",
    "right = left + size['width']\n",
    "bottom = top + size['height']\n",
    "area = (left, top, right, bottom)\n",
    "area"
   ]
  },
  {
   "cell_type": "code",
   "execution_count": null,
   "metadata": {},
   "outputs": [],
   "source": [
    "pil_im = pil.open(\"imgs/screenshot0.png\")\n",
    "pil_im = pil.crop(area)"
   ]
  },
  {
   "cell_type": "code",
   "execution_count": null,
   "metadata": {},
   "outputs": [],
   "source": [
    "pil_im.save(\"imgs/screenshot_element.png\") #자른파일 저장"
   ]
  },
  {
   "cell_type": "code",
   "execution_count": null,
   "metadata": {},
   "outputs": [],
   "source": [
    "#하단의 재생기능 영역 자르기\n",
    "driver = webdriver.Chrome()\n",
    "driver.get(url)"
   ]
  },
  {
   "cell_type": "code",
   "execution_count": null,
   "metadata": {},
   "outputs": [],
   "source": [
    "#height만 확인\n",
    "element = driver.find_element_by_css_selector(\".ytp-chrome-bottom\")\n",
    "location = element.location\n",
    "size = element.size\n",
    "location, size"
   ]
  },
  {
   "cell_type": "code",
   "execution_count": null,
   "metadata": {},
   "outputs": [],
   "source": [
    "#원래사이즈로딩\n",
    "element = driver.find_element_by_css_selector(\"#player-container\")\n",
    "location = element.location\n",
    "size = element.size\n",
    "location, size"
   ]
  },
  {
   "cell_type": "code",
   "execution_count": null,
   "metadata": {},
   "outputs": [],
   "source": [
    "# top, bottom, left, right\n",
    "# 레티나 디스플레이의 경우 *2를 해줘야함\n",
    "left = location['x']\n",
    "top = location['y'] \n",
    "right = left + size['width']\n",
    "bottom = top + size['height'] -39\n",
    "area = (left, top, right, bottom)\n",
    "area"
   ]
  },
  {
   "cell_type": "code",
   "execution_count": null,
   "metadata": {},
   "outputs": [],
   "source": [
    "pil_im = pil.open(\"imgs/screenshot0.png\")\n",
    "pil_im = pil.crop(area)"
   ]
  }
 ],
 "metadata": {
  "kernelspec": {
   "display_name": "Python 3",
   "language": "python",
   "name": "python3"
  },
  "language_info": {
   "codemirror_mode": {
    "name": "ipython",
    "version": 3
   },
   "file_extension": ".py",
   "mimetype": "text/x-python",
   "name": "python",
   "nbconvert_exporter": "python",
   "pygments_lexer": "ipython3",
   "version": "3.6.3"
  }
 },
 "nbformat": 4,
 "nbformat_minor": 2
}
