{
 "cells": [
  {
   "cell_type": "code",
   "execution_count": 2,
   "metadata": {},
   "outputs": [
    {
     "data": {
      "text/plain": [
       "array([[ 5.1],\n",
       "       [ 3.5],\n",
       "       [ 1.4],\n",
       "       [ 0.2]])"
      ]
     },
     "execution_count": 2,
     "metadata": {},
     "output_type": "execute_result"
    }
   ],
   "source": [
    "x1 = np.array([[5.1], [3.5], [1.4], [0.2]])\n",
    "x1\n"
   ]
  },
  {
   "cell_type": "code",
   "execution_count": 10,
   "metadata": {},
   "outputs": [
    {
     "data": {
      "text/plain": [
       "array([[ 4.9],\n",
       "       [ 3. ],\n",
       "       [ 1.4],\n",
       "       [ 0.2]])"
      ]
     },
     "execution_count": 10,
     "metadata": {},
     "output_type": "execute_result"
    }
   ],
   "source": [
    "#연습문제1\n",
    "\n",
    "x2 = np.array([[4.9], [3], [1.4], [0.2]])\n",
    "x2\n"
   ]
  },
  {
   "cell_type": "code",
   "execution_count": 12,
   "metadata": {},
   "outputs": [],
   "source": [
    "from sklearn.datasets import load_digits\n",
    "\n",
    "digits = load_digits()\n",
    "d0 = digits.images[0]\n",
    "d1 = digits.images[10]\n",
    "d2 = digits.images[1]\n",
    "d3 = digits.images[11]\n",
    "\n",
    "f, ax = plt.subplots(1, 4)\n",
    "ax[0].imshow(d0, interpolation='nearest', cmap=plt.cm.bone_r)\n",
    "ax[0].grid(False)\n",
    "ax[1].imshow(d1, interpolation='nearest', cmap=plt.cm.bone_r)\n",
    "ax[1].grid(False)\n",
    "ax[2].imshow(d2, interpolation='nearest', cmap=plt.cm.bone_r)\n",
    "ax[2].grid(False)\n",
    "ax[3].imshow(d3, interpolation='nearest', cmap=plt.cm.bone_r)\n",
    "ax[3].grid(False)\n",
    "plt.show()"
   ]
  },
  {
   "cell_type": "code",
   "execution_count": null,
   "metadata": {},
   "outputs": [],
   "source": []
  },
  {
   "cell_type": "code",
   "execution_count": null,
   "metadata": {},
   "outputs": [],
   "source": []
  },
  {
   "cell_type": "code",
   "execution_count": null,
   "metadata": {},
   "outputs": [],
   "source": []
  }
 ],
 "metadata": {
  "kernelspec": {
   "display_name": "Python 3",
   "language": "python",
   "name": "python3"
  },
  "language_info": {
   "codemirror_mode": {
    "name": "ipython",
    "version": 3
   },
   "file_extension": ".py",
   "mimetype": "text/x-python",
   "name": "python",
   "nbconvert_exporter": "python",
   "pygments_lexer": "ipython3",
   "version": "3.6.3"
  }
 },
 "nbformat": 4,
 "nbformat_minor": 2
}
