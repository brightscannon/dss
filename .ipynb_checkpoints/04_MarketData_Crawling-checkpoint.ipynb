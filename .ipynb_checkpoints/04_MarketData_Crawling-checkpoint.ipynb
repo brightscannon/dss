{
 "cells": [
  {
   "cell_type": "markdown",
   "metadata": {},
   "source": [
    "# 마켓데이터에대한 질문들은?\n",
    "- 데이터를 얻으려면 비용이 얼마나 발생하는가?\n",
    "- 어디서 어떤 데이터를 얼마나 얻을 수 있나?\n",
    "- 개인정보력 vs 기관정보력 그 차이는?\n",
    "- 해외시장과 외국인이 국내시장에 미치는 영향력은 어느정도인가?\n",
    "- 금융투자에서 거시경제에 대한 이해가 얼마나 필요한가?\n",
    "- 실시간 데이터 혹은 주문 속도는 얼마나 중요할까?"
   ]
  },
  {
   "cell_type": "markdown",
   "metadata": {},
   "source": [
    "# 트레이딩 스타일\n",
    "- 데이터의 실시간성의 중요도, 트레이딩 스타일에 따라서도 다르다\n"
   ]
  },
  {
   "cell_type": "markdown",
   "metadata": {},
   "source": [
    "# 데이터 수집 자동화\n",
    "\n",
    "- 크롤링 : 주기적으로 데이터 가져와서 저장\n",
    "- 데이터 구매 : 해외데이터, 시세데이터, 과거데이터\n",
    "- 증권사 트레이딩 API : 실시간 가격\n",
    "- 구글 알리미 : 이메일\n",
    "- 사설 정보 : 이메일, 문자\n"
   ]
  },
  {
   "cell_type": "markdown",
   "metadata": {},
   "source": [
    "# 저장방법\n",
    "- CSV : 가능한 한 UTF-8인코딩 형태로 저장\n",
    "- RDB : Oracle, MySQL, SQLite\n",
    "- NoSQL : MongoDB"
   ]
  },
  {
   "cell_type": "markdown",
   "metadata": {},
   "source": [
    "# 주요 수집대상\n",
    "\n",
    "- 종목코드 - 전 동목 코드(티커)\n",
    "- 종목 기본정보 - 회사이름, 주소, 대표 등\n",
    "- 재무정보 - 손익계산서, 재무상태표, 현금흐름표\n",
    "- 주가 데이터 - 틱, 초, 분, 일, 주, 월\n",
    "- 비정형 데이터 - 뉴스, SNS텍스트 등"
   ]
  },
  {
   "cell_type": "markdown",
   "metadata": {},
   "source": [
    "# 증권 마켓 데이터 소스 6\n",
    "1. KRX 한국거래소\n",
    "2. 전자공시시스템 DART\n",
    "3. 포탈증권\n",
    "4. 구글 파이낸스\n",
    "5. FRED연방준비은행 경제데이터\n",
    "6. 한국은행 경제통계 시스템"
   ]
  },
  {
   "cell_type": "markdown",
   "metadata": {},
   "source": [
    "# 1. 한국거래소 (KRX)\n",
    "- http://www.krx.co.kr \n",
    "- 일자별 주가: 과거 10년치 이상 전체\n",
    "- 뉴스/공시: 공시 전체, 뉴스(과거 6개월)\n",
    "- 투자자별 거래실적 (일일, 과거 10년치 이상)\n",
    "-  기관외국인동향: 일자별 매수,매도\n",
    "- 금융 시장의 규정, 관련 법규\n",
    "- 기업들의 공시정보\n",
    "- 시장제도 설명\n",
    "- 증권 시장지 (간행물), 통계정보\n",
    "\n",
    "### 한국거래소 - 표준코드 시스템\n",
    "\n",
    "- 표준코드 조회 http://isin.krx.co.kr/srch/srch.do?method=srchList\n",
    "- 기존의 모든 표준코드를 조회 (조회 시작 일 19970101 로, '주권' 설정)\n",
    "- 전체 코드는 8천여건 (상장폐지 종목도 포함)\n",
    "\n"
   ]
  },
  {
   "cell_type": "markdown",
   "metadata": {},
   "source": [
    "# 2. 전자공시시스템\n",
    "\n",
    "1. DART금융감독원\n",
    "    - \"발행정보중심\" \n",
    "    - http://dart.fss.or.kr\n",
    "2. KIND 한국거래소\n",
    "    - \"유통정보중심\" \n",
    "    - http://kind.krx.or.kr\n",
    "    \n"
   ]
  },
  {
   "cell_type": "markdown",
   "metadata": {},
   "source": [
    "# 포탈 증권\n",
    "\n",
    "- 네이버 증권 - 주식 기본, 세부 기업정보, 해외주식, 추천종목, 뉴스, 조건검색, 투자전략 등 \n",
    "- http://finance.naver.com\n",
    "- 주요지수 (코스피, 코스닥, 코스피200) 차트(실시간)\n",
    "- 투자자별 매매동향(외국인, 기관, 프로그램), 외국인 순매수/순매도\n",
    "- 뉴스, 리포트, 투자전략\n",
    "- 조건검색 (필터링) 및 TOP 종목(상하한가, 업종, 테마)\n",
    "- 주요 해외 지수, 시장지표(환률, 금리, 유가, 금 시세, 원자제)\n",
    "- MY금융: 관심종목, 모의투자\n",
    "\n",
    "\n",
    "# 공공기관 오픈 데이터★★★★★★\n",
    "- http://data.go.kr 공공데이터포털\n",
    "- http://kosis.kr 국가통계포털\n",
    "- http://kostat.go.kr 통계청 홈페이지\n"
   ]
  },
  {
   "cell_type": "markdown",
   "metadata": {},
   "source": [
    "# 야후 파이낸스\n",
    "\n",
    "- 세계/미국 등 해외시장\n",
    "- 세계/미국 종목, 가격, 뉴스\n",
    "\n",
    "- 세계 주요 시장\n",
    "    - 한국: KRX (KOSPI, KOSDAQ)\n",
    "    - 미국: NYSE, NASDAQ, AMEX\n",
    "    - 중국: 후강퉁(홍콩-상해, 2014년 11월), 선강퉁(홍콩-심천, 2016년 12월)\n",
    "    - 일본: TSE(도쿄)\n",
    "    - 유럽(영국 LSE, 프랑스 파리거래소, 독일 FWB), 동남아(인도네시아, 태국, 베트남)\n",
    "\n",
    "# FRED2\n",
    "\n",
    "- http://research.stlouisfed.org/fred2\n",
    "- FRED II ( Federal Reserve Economic Data II )\n",
    "- 세인트루이스 연방은행의 통계 사이트\n",
    "- 데이터의 차트를 볼 수 있으며 데이터를 XLS나 TXT형태로 다운로드\n",
    "- 금융 뿐만 아니라 재정, 물가, 고용 등 일반적인 경제 관련 데이터\n",
    "- 압축된 엑셀 파일 (약 14M) FRED 전체 다운로드\n",
    "\n",
    "# FRED2 API 도구\n",
    "- http://api.stlouisfed.org/docs/fred\n",
    "- http://goo.gl/B1YNk FRED 엑셀 애드인\n",
    "- https://github.com/zachwill/fred FRED API Python 구현\n",
    "\n",
    "\n",
    "# 한국은행 경제통계 시스템 ecos\n",
    "\n",
    "- http://ecos.bok.or.kr\n",
    "- 통계, 검색, 금리, 증감률 계산, 생산자, 수출입물가지수및 검색 \n",
    "- 통계공표일정\n",
    "- 테마별 통계\n",
    "- 통계DB정보\n",
    "\n",
    "# 기타 기관\n",
    "\n",
    "### 자본시장통계포털 http://stats.krx.co.kr\n",
    "- 핵심통계(차트)\n",
    "- 주자자별 거래실적\n",
    "- 회원사별 거래 현황\n",
    "- 투자자별 순위 \n",
    "- 공매도 거래 현황\n",
    "\n",
    "### 증권정보포털 http://seibro.or.kr\n",
    "- 통일주권및 통일규격유가증권발행, 명의개서대리, 증권대행, 해외DR\n",
    "- 보호예수물량확인\n",
    "- 주식 → 의무보호예수: 보호예수물가\n",
    "- 기업기본분석정보\n",
    "- 한국예탁결제원, 증권정보 오픈 API http://api.seibro.or.kr\n",
    "\n",
    "### 기획재정보 http://www.mosf.go.kr\n",
    "- 경제정책의 수립\n",
    "- 예산조세 정책의 수립\n",
    "- 사전정보공개 (나라의돈이 어디로가는지)\n",
    "- 주요경제지표\n",
    "- 경제로드맵 EX)국가 초대형 건설, 4대강, 전기차\n",
    "\n",
    "\n",
    "# 사설 기업----\n",
    "\n",
    "### fn가이드\n",
    "\n",
    "- http://fnguide.com\n",
    "- 증권사 기업리포트\n",
    "- 경제연구소 발표자료 원문\n",
    "- 상장기업 실적추정, 투자의견\n",
    "- 지분관련 공시, 지분변동현황\n",
    "- 산업데이터\n",
    "- 제도권에서 가장 많이 이용\n",
    "\n",
    "### equity\n",
    "\n",
    "- http://equity.co.kr\n",
    "- (유료) 월 10만원대\n",
    "- 종목별 기업 리포트\n",
    "- 산업 & 이슈리포트\n",
    "- 종목별 리포트\n",
    "- 종목별 재무정보\n",
    "\n",
    "### 인포스탁\n",
    "\n",
    "- http://infostock.co.kr\n",
    "- 이슈 섹터 스케쥴\n",
    "- 증시뉴스 속보\n",
    "- 테마별 분류\n",
    "- 특징주 분류\n",
    "- 종목 히스토리\n",
    "- 전자공시\n",
    "\n",
    "### 이지피오\n",
    "\n",
    "- http://ezipo.co.kr\n",
    "- 비상장주식 정보\n",
    "- IPO 공모\n",
    "- IR일정 및 자료 \n",
    "- 신규상장일정\n"
   ]
  },
  {
   "cell_type": "code",
   "execution_count": null,
   "metadata": {},
   "outputs": [],
   "source": [
    "# KIND 거래소 공시정보\n",
    "\n",
    "#상장 법인목록 받기 (코드수행하면 다운로드된다)\n",
    "\n",
    "! wget -O \"상장법인목록.xls\" https://www.dropbox.com/s/ag3o1kixsxnmgxd/corps.xls\n"
   ]
  },
  {
   "cell_type": "code",
   "execution_count": null,
   "metadata": {},
   "outputs": [],
   "source": []
  }
 ],
 "metadata": {
  "kernelspec": {
   "display_name": "Python 3",
   "language": "python",
   "name": "python3"
  },
  "language_info": {
   "codemirror_mode": {
    "name": "ipython",
    "version": 3
   },
   "file_extension": ".py",
   "mimetype": "text/x-python",
   "name": "python",
   "nbconvert_exporter": "python",
   "pygments_lexer": "ipython3",
   "version": "3.6.3"
  }
 },
 "nbformat": 4,
 "nbformat_minor": 2
}
