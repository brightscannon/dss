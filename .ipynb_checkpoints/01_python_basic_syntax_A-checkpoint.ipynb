{
 "cells": [
  {
   "cell_type": "markdown",
   "metadata": {},
   "source": [
    "### python 기초문법\n",
    "- 식별자, 변수, 데이터 타입, 데이터 형변환"
   ]
  },
  {
   "cell_type": "markdown",
   "metadata": {},
   "source": [
    "### comment, print\n"
   ]
  },
  {
   "cell_type": "code",
   "execution_count": 2,
   "metadata": {},
   "outputs": [],
   "source": [
    "# this is function\n",
    "def func():\n",
    "    return 100"
   ]
  },
  {
   "cell_type": "code",
   "execution_count": 4,
   "metadata": {},
   "outputs": [
    {
     "name": "stdout",
     "output_type": "stream",
     "text": [
      "data1data2\tdata3"
     ]
    }
   ],
   "source": [
    "#print end\n",
    "print(\"data1\", end=\"\")\n",
    "print(\"data2\", end=\"\\t\")\n",
    "print(\"data3\", end=\"\")"
   ]
  },
  {
   "cell_type": "code",
   "execution_count": 8,
   "metadata": {},
   "outputs": [
    {
     "name": "stdout",
     "output_type": "stream",
     "text": [
      "s,t 2 is data, data2\n"
     ]
    }
   ],
   "source": [
    "#print format1\n",
    "s = \"data\"\n",
    "t = \"data2\"\n",
    "\n",
    "print(\"s,t 2 is {0}, {1}\".format(s, t))"
   ]
  },
  {
   "cell_type": "code",
   "execution_count": 11,
   "metadata": {},
   "outputs": [
    {
     "name": "stdout",
     "output_type": "stream",
     "text": [
      "naming format print : data2, data\n"
     ]
    }
   ],
   "source": [
    "# print format2\n",
    "s = \"data\"\n",
    "t = \"data2\"\n",
    "\n",
    "print(\"naming format print : {name}, {bright}\".format(bright=s, name=t))"
   ]
  },
  {
   "cell_type": "markdown",
   "metadata": {},
   "source": [
    "### 식별자\n",
    "- 변수, 함수, 클래스, 모듈, 패키지 등을 구분하기 위해서 사용되는 이름\n",
    "- 규칙 \n",
    "    - 대소문자를 구분\n",
    "    - 소문자(a~z), 대문자(A~Z), 숫자(0~9), 특수문자(_) (다른 특수문자는 사용 불가)\n",
    "    - 가장앞에 ('_ _')언더바 두개 쓰는건 안된다...(왜 그런지는 알지??)(Hint: '_ _main_ _')\n",
    "    - 가장앞에 숫자는 쓰지마라\n",
    "    - 예약어는 사용 불가함 : def, print 등등\n",
    "    \n",
    "    "
   ]
  },
  {
   "cell_type": "code",
   "execution_count": 14,
   "metadata": {},
   "outputs": [],
   "source": [
    "A = 1\n",
    "a = 2"
   ]
  },
  {
   "cell_type": "code",
   "execution_count": 15,
   "metadata": {},
   "outputs": [
    {
     "data": {
      "text/plain": [
       "(1, 2)"
      ]
     },
     "execution_count": 15,
     "metadata": {},
     "output_type": "execute_result"
    }
   ],
   "source": [
    "A, a"
   ]
  },
  {
   "cell_type": "markdown",
   "metadata": {},
   "source": [
    "### 변수\n",
    "- '='은 대입을 의미함"
   ]
  },
  {
   "cell_type": "code",
   "execution_count": 16,
   "metadata": {},
   "outputs": [
    {
     "data": {
      "text/plain": [
       "(1, 'python')"
      ]
     },
     "execution_count": 16,
     "metadata": {},
     "output_type": "execute_result"
    }
   ],
   "source": [
    "a=1\n",
    "b='python'\n",
    "a,b"
   ]
  },
  {
   "cell_type": "code",
   "execution_count": 17,
   "metadata": {},
   "outputs": [],
   "source": [
    "# 다중할당 - 한줄에 여러개의 변수를 선언해서 값을 넣어줍니다.\n",
    "\n",
    "a,b,c = \"100\",\"1000\",10000\n",
    "\n"
   ]
  },
  {
   "cell_type": "code",
   "execution_count": 24,
   "metadata": {},
   "outputs": [],
   "source": [
    "c = d = e = \"data\""
   ]
  },
  {
   "cell_type": "markdown",
   "metadata": {},
   "source": [
    "### 자료형 - datatype\n",
    "- Number : int, float, complex(복소수)\n",
    "- Boolean : True, False\n",
    "- String\n",
    "- Collection\n",
    "    - List\n",
    "    - Tuple\n",
    "    - Dictionary\n",
    "    - Set"
   ]
  },
  {
   "cell_type": "code",
   "execution_count": 30,
   "metadata": {},
   "outputs": [
    {
     "name": "stdout",
     "output_type": "stream",
     "text": [
      "<class 'int'> <class 'int'> -9993 2384\n"
     ]
    }
   ],
   "source": [
    "# Number - int (파이썬 3.x에 들어서 거의 무한대의 숫자값을 사용 가능)\n",
    "a, b, c, d = 0, 12345, -9993, +2384\n",
    "print(type(a),type(b),c,d)"
   ]
  },
  {
   "cell_type": "code",
   "execution_count": 32,
   "metadata": {},
   "outputs": [
    {
     "name": "stdout",
     "output_type": "stream",
     "text": [
      "<class 'float'> <class 'float'> 0.839 223.42\n"
     ]
    }
   ],
   "source": [
    "# Number - float\n",
    "a,b,c,d = 0.0, 1.2, 0.839, 223.42\n",
    "print(type(a), type(b), c, d)"
   ]
  },
  {
   "cell_type": "code",
   "execution_count": 35,
   "metadata": {},
   "outputs": [
    {
     "name": "stdout",
     "output_type": "stream",
     "text": [
      "<class 'complex'> (2+3j)\n",
      "<class 'complex'> (3-4j)\n"
     ]
    }
   ],
   "source": [
    "# Number - complex\n",
    "a = 2+3j\n",
    "print(type(a),a)\n",
    "b= complex(3, -4)\n",
    "print(type(b),b)"
   ]
  },
  {
   "cell_type": "code",
   "execution_count": 37,
   "metadata": {},
   "outputs": [
    {
     "data": {
      "text/plain": [
       "(2.0, 3.0)"
      ]
     },
     "execution_count": 37,
     "metadata": {},
     "output_type": "execute_result"
    }
   ],
   "source": [
    "a.real, a.imag # type 찍어보면 float으로 변형됨을 알 수 있음"
   ]
  },
  {
   "cell_type": "code",
   "execution_count": 38,
   "metadata": {},
   "outputs": [
    {
     "data": {
      "text/plain": [
       "((5-1j), (18+1j), (-0.24+0.68j))"
      ]
     },
     "execution_count": 38,
     "metadata": {},
     "output_type": "execute_result"
    }
   ],
   "source": [
    "a + b, a*b, a / b"
   ]
  },
  {
   "cell_type": "code",
   "execution_count": 40,
   "metadata": {},
   "outputs": [
    {
     "data": {
      "text/plain": [
       "3.605551275463989"
      ]
     },
     "execution_count": 40,
     "metadata": {},
     "output_type": "execute_result"
    }
   ],
   "source": [
    "abs(a) #절대값함수"
   ]
  },
  {
   "cell_type": "code",
   "execution_count": 43,
   "metadata": {},
   "outputs": [
    {
     "data": {
      "text/plain": [
       "(True, False)"
      ]
     },
     "execution_count": 43,
     "metadata": {},
     "output_type": "execute_result"
    }
   ],
   "source": [
    "# Boolean\n",
    "a, b = True, False #이게다임\n",
    "a,b"
   ]
  },
  {
   "cell_type": "code",
   "execution_count": 50,
   "metadata": {},
   "outputs": [
    {
     "name": "stdout",
     "output_type": "stream",
     "text": [
      " fast campus\n",
      "data science\n",
      "is the best course\n",
      "\n"
     ]
    }
   ],
   "source": [
    "# String\n",
    "a,b = \"data\", 'science \"good\" ' #따옴표를 표현하고 싶다면 저렇게 넣어주면 됨 / 반대로 넣어도 가능함\n",
    "a+\" \"+b\n",
    "c = \"\"\" fast campus\n",
    "data science\n",
    "is the best course\n",
    "\"\"\"\n",
    "print(c)"
   ]
  },
  {
   "cell_type": "code",
   "execution_count": 54,
   "metadata": {},
   "outputs": [
    {
     "data": {
      "text/plain": [
       "'data data data data data '"
      ]
     },
     "execution_count": 54,
     "metadata": {},
     "output_type": "execute_result"
    }
   ],
   "source": [
    "# String - multiple string\n",
    "s = \"data \" * 5\n",
    "s"
   ]
  },
  {
   "cell_type": "code",
   "execution_count": 79,
   "metadata": {},
   "outputs": [
    {
     "data": {
      "text/plain": [
       "'cdefgh'"
      ]
     },
     "execution_count": 79,
     "metadata": {},
     "output_type": "execute_result"
    }
   ],
   "source": [
    "# String - offset (문자 하나하나 넘버링해서 특정문자의 위치 및 문자열을 선택 가능)\n",
    "a = \"abcdefgh\"\n",
    "\n",
    "a[2:len(a)]"
   ]
  },
  {
   "cell_type": "code",
   "execution_count": 81,
   "metadata": {},
   "outputs": [
    {
     "data": {
      "text/plain": [
       "('bc', 'abcd')"
      ]
     },
     "execution_count": 81,
     "metadata": {},
     "output_type": "execute_result"
    }
   ],
   "source": [
    "# 문자열의 범위를 지정해서 문자열 선택 가능\n",
    "a[1:3], a[-8:-4]"
   ]
  },
  {
   "cell_type": "code",
   "execution_count": 99,
   "metadata": {},
   "outputs": [
    {
     "data": {
      "text/plain": [
       "('abcdefgh', 'aceg', 'adg', 'hgfedcba')"
      ]
     },
     "execution_count": 99,
     "metadata": {},
     "output_type": "execute_result"
    }
   ],
   "source": [
    "# step\n",
    "# inverse할때 사용\n",
    "a[::1],a[::2],a[::3],a[::-1]"
   ]
  },
  {
   "cell_type": "markdown",
   "metadata": {},
   "source": [
    "### 문자열 함수"
   ]
  },
  {
   "cell_type": "code",
   "execution_count": 94,
   "metadata": {},
   "outputs": [
    {
     "data": {
      "text/plain": [
       "('HGFEDCBA', 'abcdefgh')"
      ]
     },
     "execution_count": 94,
     "metadata": {},
     "output_type": "execute_result"
    }
   ],
   "source": [
    "# string methods\n",
    "# upper, lower\n",
    "a[::-1].upper(), a.lower()"
   ]
  },
  {
   "cell_type": "code",
   "execution_count": 101,
   "metadata": {},
   "outputs": [
    {
     "data": {
      "text/plain": [
       "2"
      ]
     },
     "execution_count": 101,
     "metadata": {},
     "output_type": "execute_result"
    }
   ],
   "source": [
    "# find ★★★★★★★★★★★★★★★★★\n",
    "\n",
    "a.find(\"cd\") #특정문자나 문자열의 위치를 알랴줌(없으면 -1를 반환)"
   ]
  },
  {
   "cell_type": "code",
   "execution_count": 102,
   "metadata": {},
   "outputs": [
    {
     "data": {
      "text/plain": [
       "(2, 4)"
      ]
     },
     "execution_count": 102,
     "metadata": {},
     "output_type": "execute_result"
    }
   ],
   "source": [
    "# index\n",
    "a.index(\"c\"), a.index(\"efg\") #찾는 문자열이 없으면 에러가 발생"
   ]
  },
  {
   "cell_type": "code",
   "execution_count": 120,
   "metadata": {},
   "outputs": [
    {
     "data": {
      "text/plain": [
       "(3, 2)"
      ]
     },
     "execution_count": 120,
     "metadata": {},
     "output_type": "execute_result"
    }
   ],
   "source": [
    "# count\n",
    "b= \"qwoeriputn;m,b ,.cxzasdfl;kjgpoi[cxzvn,qrjlkhdsa;lsdhjl;b\"\n",
    "\n",
    "b.count('s'), b.count(\"cx\")"
   ]
  },
  {
   "cell_type": "code",
   "execution_count": 111,
   "metadata": {},
   "outputs": [
    {
     "data": {
      "text/plain": [
       "'data science'"
      ]
     },
     "execution_count": 111,
     "metadata": {},
     "output_type": "execute_result"
    }
   ],
   "source": [
    "# strip (양쪽빈칸제거)\n",
    "\n",
    "s = \" data science    \"\n",
    "s.strip()"
   ]
  },
  {
   "cell_type": "code",
   "execution_count": 115,
   "metadata": {},
   "outputs": [
    {
     "data": {
      "text/plain": [
       "'qwoeriputnm,b ,.★WOW★zasdfl;kjgpoi[★WOW★zvn,qrjlkhdsa;lsdhjl;b'"
      ]
     },
     "execution_count": 115,
     "metadata": {},
     "output_type": "execute_result"
    }
   ],
   "source": [
    "# replace\n",
    "\n",
    "b.replace(\"cx\",\"★WOW★\")"
   ]
  },
  {
   "cell_type": "code",
   "execution_count": 121,
   "metadata": {},
   "outputs": [
    {
     "data": {
      "text/plain": [
       "['qwoeriputn', 'm,b ,.cxzasdfl', 'kjgpoi[cxzvn,qrjlkhdsa', 'lsdhjl', 'b']"
      ]
     },
     "execution_count": 121,
     "metadata": {},
     "output_type": "execute_result"
    }
   ],
   "source": [
    "# split ★★★★★★★★★★★★★★★★★★★ (특정문자를 기준으로 자른다. 매우자주 쓰이는 함수)\n",
    "\n",
    "s.strip().split(\" \")\n",
    "\n",
    "b.strip().split(\";\")\n"
   ]
  },
  {
   "cell_type": "markdown",
   "metadata": {},
   "source": [
    "### 컬렉션 (리스트 튜플 딕셔러니 세트)"
   ]
  },
  {
   "cell_type": "code",
   "execution_count": 129,
   "metadata": {},
   "outputs": [
    {
     "name": "stdout",
     "output_type": "stream",
     "text": [
      "[] ['fast', 'campus', 'data', 'science'] [[1, 2], [3, 4]] [1, True, 'fast']\n"
     ]
    }
   ],
   "source": [
    "#리스트 선언\n",
    "\n",
    "ls1 = []\n",
    "ls2 = [\"fast\", \"campus\", \"data\", \"science\"]\n",
    "ls3 = [[1,2],[3,4]]\n",
    "ls4 = [1, True, \"fast\"]\n",
    "\n",
    "print(ls1,ls2,ls3,ls4)"
   ]
  },
  {
   "cell_type": "code",
   "execution_count": 130,
   "metadata": {},
   "outputs": [
    {
     "data": {
      "text/plain": [
       "'data'"
      ]
     },
     "execution_count": 130,
     "metadata": {},
     "output_type": "execute_result"
    }
   ],
   "source": [
    "#List offest\n",
    "\n",
    "ls2[2]"
   ]
  },
  {
   "cell_type": "markdown",
   "metadata": {},
   "source": [
    "### 리스트함수"
   ]
  },
  {
   "cell_type": "code",
   "execution_count": 131,
   "metadata": {},
   "outputs": [
    {
     "data": {
      "text/plain": [
       "['fast', 'campus', 'data', 'science', 'dss8']"
      ]
     },
     "execution_count": 131,
     "metadata": {},
     "output_type": "execute_result"
    }
   ],
   "source": [
    "#list method\n",
    "# append, sort, reverse, index, insert, remove, pop\n",
    "ls_h = [\"fast\", \"campus\", \"data\", \"science\"]\n",
    "\n",
    "ls_h.append(\"dss8\")\n",
    "ls_h"
   ]
  },
  {
   "cell_type": "code",
   "execution_count": 134,
   "metadata": {},
   "outputs": [
    {
     "data": {
      "text/plain": [
       "['campus', 'data', 'dss8', 'fast', 'science']"
      ]
     },
     "execution_count": 134,
     "metadata": {},
     "output_type": "execute_result"
    }
   ],
   "source": [
    "ls_h.sort()\n",
    "ls_h"
   ]
  },
  {
   "cell_type": "code",
   "execution_count": null,
   "metadata": {},
   "outputs": [],
   "source": []
  }
 ],
 "metadata": {
  "kernelspec": {
   "display_name": "Python 3",
   "language": "python",
   "name": "python3"
  },
  "language_info": {
   "codemirror_mode": {
    "name": "ipython",
    "version": 3
   },
   "file_extension": ".py",
   "mimetype": "text/x-python",
   "name": "python",
   "nbconvert_exporter": "python",
   "pygments_lexer": "ipython3",
   "version": "3.6.3"
  }
 },
 "nbformat": 4,
 "nbformat_minor": 2
}
