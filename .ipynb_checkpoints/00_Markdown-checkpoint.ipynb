{
 "cells": [
  {
   "cell_type": "markdown",
   "metadata": {},
   "source": [
    "자주 사용되는 기능\n",
    "\n",
    "file => download as => python.py(파일로 다운로드)\n",
    "\n",
    "kernel => interrupt (무한루프 등 오류를 잡아낼때 사용)\n",
    "       => restart\n",
    "       => restart & runall (이것은 실행순서를 다시 1부터 보고 싶을때 유용함)\n",
    "       \n",
    "특징 = shift+tab을 함수명 뒤에서 누르면 함수의 설명이 나옴\n",
    "    = 자동완성기능은 tab으로 사용 가능함\n",
    "    = esc로 command모드로 전환 가능\n",
    "    = shift+enter, cntr+enter, alt+enter로 다양한 줄바꿈 및 실행기능 사용 가능\n",
    "\n",
    "# 글자크기조정을 '#'의 갯수로 사용가능\n",
    "## 이렇게\n",
    "### 저렇게\n",
    "#### 요렇게\n",
    "##### 이탤릭체\n"
   ]
  },
  {
   "cell_type": "markdown",
   "metadata": {},
   "source": [
    ">인용문구를 쓰고싶다면 어떻게 했는지 함 보자"
   ]
  },
  {
   "cell_type": "markdown",
   "metadata": {},
   "source": [
    "> 이렇게\n",
    ">> 한번더 고"
   ]
  },
  {
   "cell_type": "markdown",
   "metadata": {},
   "source": [
    "### function\n",
    "- data\n",
    "- scence\n",
    "- dss\n",
    "    - dss 7\n",
    "    - dss 8\n",
    "    * 이렇게도 가능"
   ]
  },
  {
   "cell_type": "markdown",
   "metadata": {},
   "source": [
    "### code block\n",
    "\n",
    "\n",
    "- test\n",
    "*code 그대로 표시가능\n",
    "\n",
    "\n",
    "'- test'\n",
    "\n",
    "#-자를 보고싶다면 써라\n",
    "\n",
    "\n",
    "가로선긋기\n",
    "\n",
    "---\n",
    "\n",
    "\n",
    "[Go Fastcampus!](http://www.fastcampus.co.kr/)"
   ]
  },
  {
   "cell_type": "markdown",
   "metadata": {},
   "source": [
    "## magic command\n",
    "\n",
    "쉘 내에서 사용할 수 있도록 제공하는 기능\n",
    "\n",
    "%(command) : 한줄을 매직커멘드로 사용할때 사용\n",
    "\n",
    "%%(command) : 여러줄을 매직커맨드로 사용할때 사용\n",
    "\n",
    "%(command)? : 뒤에 ?를 붙이면 키웨드에대한 상세설명이 나옴\n",
    "\n",
    "종류\n",
    "- pwd 현재위치\n",
    "- ls 현재 디렉토리 파일조회\n",
    "- whos 현재 정의된 변수 확인\n",
    "- reset 현재 정의된 변수 삭제\n",
    "- time 실행시간을 알랴줌(1줄만...) 여러줄 시간재려면 %%time으로 사용\n",
    "- timeit 평균실행시간을 얄랴줌 오~\n",
    "- writefile 내용을 파일로 작성\n",
    "- magic 각 키워드의 상세 도움말\n",
    "- lsmagic magic 키워드 출력\n",
    "- run 파이썬 파일 코드 실행\n",
    "- history 사용한명령들 출력\n",
    "- matplot inline : matplot을 내부에서 실행할 수 있도록 함"
   ]
  },
  {
   "cell_type": "code",
   "execution_count": 15,
   "metadata": {},
   "outputs": [
    {
     "name": "stdout",
     "output_type": "stream",
     "text": [
      "Once deleted, variables cannot be recovered. Proceed (y/[n])? y\n"
     ]
    }
   ],
   "source": [
    "%reset"
   ]
  },
  {
   "cell_type": "code",
   "execution_count": 16,
   "metadata": {},
   "outputs": [
    {
     "name": "stdout",
     "output_type": "stream",
     "text": [
      "Interactive namespace is empty.\n"
     ]
    }
   ],
   "source": [
    "%whos"
   ]
  },
  {
   "cell_type": "code",
   "execution_count": 24,
   "metadata": {},
   "outputs": [
    {
     "name": "stdout",
     "output_type": "stream",
     "text": [
      "1.09 ms ± 48.1 µs per loop (mean ± std. dev. of 7 runs, 1000 loops each)\n"
     ]
    }
   ],
   "source": [
    "%%timeit\n",
    "ls = []\n",
    "for idx in range(10000):\n",
    "    ls.append(idx)"
   ]
  },
  {
   "cell_type": "code",
   "execution_count": 25,
   "metadata": {},
   "outputs": [
    {
     "name": "stdout",
     "output_type": "stream",
     "text": [
      "Writing test.py\n"
     ]
    }
   ],
   "source": [
    "%%writefile test.py\n",
    "def test():\n",
    "    return 100"
   ]
  },
  {
   "cell_type": "code",
   "execution_count": null,
   "metadata": {},
   "outputs": [],
   "source": []
  },
  {
   "cell_type": "code",
   "execution_count": 1,
   "metadata": {},
   "outputs": [],
   "source": [
    "a = 0\n",
    "while(1):\n",
    "    a += 1\n",
    "    if a == 100:\n",
    "        break"
   ]
  },
  {
   "cell_type": "code",
   "execution_count": 2,
   "metadata": {
    "scrolled": false
   },
   "outputs": [
    {
     "name": "stdout",
     "output_type": "stream",
     "text": [
      "[[1, 2, 3, 4, 5, 6, 7, 8, 9], [2, 4, 6, 8, 10, 12, 14, 16, 18], [3, 6, 9, 12, 15, 18, 21, 24, 27], [4, 8, 12, 16, 20, 24, 28, 32, 36], [5, 10, 15, 20, 25, 30, 35, 40, 45], [6, 12, 18, 24, 30, 36, 42, 48, 54], [7, 14, 21, 28, 35, 42, 49, 56, 63], [8, 16, 24, 32, 40, 48, 56, 64, 72]]\n"
     ]
    }
   ],
   "source": [
    "k = []\n",
    "k = [[i*j for i in range(1,10)] for j in range(1,9)]\n",
    "print(k)"
   ]
  },
  {
   "cell_type": "code",
   "execution_count": 3,
   "metadata": {},
   "outputs": [],
   "source": [
    "def test():\n",
    "    \"this is test function\"\n",
    "    return 100"
   ]
  },
  {
   "cell_type": "code",
   "execution_count": 4,
   "metadata": {},
   "outputs": [
    {
     "name": "stdout",
     "output_type": "stream",
     "text": [
      "100\n"
     ]
    }
   ],
   "source": [
    "a = test()\n",
    "print(a)"
   ]
  },
  {
   "cell_type": "code",
   "execution_count": 5,
   "metadata": {},
   "outputs": [],
   "source": [
    "k = test()\n"
   ]
  }
 ],
 "metadata": {
  "kernelspec": {
   "display_name": "Python 3",
   "language": "python",
   "name": "python3"
  },
  "language_info": {
   "codemirror_mode": {
    "name": "ipython",
    "version": 3
   },
   "file_extension": ".py",
   "mimetype": "text/x-python",
   "name": "python",
   "nbconvert_exporter": "python",
   "pygments_lexer": "ipython3",
   "version": "3.6.3"
  }
 },
 "nbformat": 4,
 "nbformat_minor": 2
}
