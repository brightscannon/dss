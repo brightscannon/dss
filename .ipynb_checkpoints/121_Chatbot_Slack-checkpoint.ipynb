{
 "cells": [
  {
   "cell_type": "code",
   "execution_count": 1,
   "metadata": {},
   "outputs": [],
   "source": [
    "# 개인정보보호법에 의해 2가지 정보의 조합으로 특정인을 알아낼 수 있으면 위배됨\n",
    "\n",
    "# https의 사용이유\n",
    "\n",
    "\n",
    "# sudo apt-get install -y make build-essential libssl-dev zlib1g-dev libbz2-dev libreadline-dev libsqlite3-dev wget curl llvm libncurses5-dev libncursesw5-dev\n",
    "\n",
    "\n",
    "# sudo apt-get install python-pip nginx\n",
    "# nginx를 시작하고 127.0.0.1:8000 ip를 외부 ip로 매핑(5000으로 바뀌어있을수도 있으니 확인해라)\n",
    "# ------------------------------------------------------------------------------------------------\n",
    "# $ sudo /etc/init.d/nginx start\n",
    "# $ sudo rm /etc/nginx/sites-enabled/default\n",
    "# $ sudo touch /etc/nginx/sites-available/flask_settings\n",
    "# $ sudo ln -s /etc/nginx/sites-available/flask_settings /etc/nginx/sites-enabled/flask_settings\n",
    "# $ sudo vi /etc/nginx/sites-enabled/flask_settings #<---이걸로 외부로 연결하는 포트넘버를 확인할 수 있다.\n"
   ]
  },
  {
   "cell_type": "code",
   "execution_count": null,
   "metadata": {},
   "outputs": [],
   "source": [
    "#무료도메인 freenom 무료도메인 연결하기위해 먼저 만들어놓기"
   ]
  },
  {
   "cell_type": "code",
   "execution_count": null,
   "metadata": {},
   "outputs": [],
   "source": []
  },
  {
   "cell_type": "code",
   "execution_count": null,
   "metadata": {},
   "outputs": [],
   "source": []
  },
  {
   "cell_type": "code",
   "execution_count": null,
   "metadata": {},
   "outputs": [],
   "source": []
  },
  {
   "cell_type": "code",
   "execution_count": null,
   "metadata": {},
   "outputs": [],
   "source": []
  }
 ],
 "metadata": {
  "kernelspec": {
   "display_name": "Python 3",
   "language": "python",
   "name": "python3"
  },
  "language_info": {
   "codemirror_mode": {
    "name": "ipython",
    "version": 3
   },
   "file_extension": ".py",
   "mimetype": "text/x-python",
   "name": "python",
   "nbconvert_exporter": "python",
   "pygments_lexer": "ipython3",
   "version": "3.6.3"
  }
 },
 "nbformat": 4,
 "nbformat_minor": 2
}
