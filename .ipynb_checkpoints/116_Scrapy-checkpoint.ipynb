{
 "cells": [
  {
   "cell_type": "markdown",
   "metadata": {},
   "source": [
    "### scrapy\n",
    "\n",
    "- xpath 기본문법\n",
    "- xpath 실습\n",
    "    - scrapy shell(ipython), jupyter notebook\n",
    "    - 네이버 키워드 데이터 수집\n",
    "    - 다음 키워드 데이터 수집\n",
    "    - gmarket 베스트 상품 데이터 수집\n",
    "- scrapy project\n",
    ">- scrapy - 파일 디렉토리 구조 및 각 파일에 대한 설명\n",
    ">- crawler - 네이버 영화 최신작 및 각각의 링크, 리뷰 크롤링 후 저장\n"
   ]
  },
  {
   "cell_type": "code",
   "execution_count": 1,
   "metadata": {},
   "outputs": [],
   "source": [
    "import scrapy"
   ]
  },
  {
   "cell_type": "markdown",
   "metadata": {},
   "source": [
    "#### xpath 문법\n",
    "- 네이버 영화 제목 xpath - `//*[@id=\"content\"]/div[1]/div[2]/div[1]/h3/a[1]`\n",
    "- `//` : 가장 상위 엘리먼트\n",
    "- `*` : css celector 하위 엘리먼트를 선택할때 \"div a\"와 같습니다. 모든 하위 엘리먼드를 검색\n",
    "- `[@<key>=<value>]` : @ 속성값 attribute를 의미\n",
    "    - `[@id=\"content\"]` : id가 content인 엘리먼트를 선택\n",
    "- `/` : css seletor에서 ` > `와 같다. 1단계 아래 하위 엘리먼트를 검색\n",
    "- div : element 이름\n",
    "- `[<number>]` : number 번째의 엘리먼트를 선택 (0부터 시작이 아니라 1부터 시작)\n",
    "- `not` : `not(조건)`, `not(@class=\"test\")` - class test가 아닌 엘리먼트를 선택\n",
    "- `.`:현재 앨리먼트를 의미"
   ]
  },
  {
   "cell_type": "markdown",
   "metadata": {},
   "source": [
    "##### 원래는~ scrapy shell 을 이용\n",
    "- `$ scrapy shell \"<url>\"`\n",
    "- 네이버 실시간 검색어\n",
    "- 다음 실시감검색어\n",
    "- gmarket 베스트아이템\n",
    "\n",
    "#### jupyter notebook에서 사용시"
   ]
  },
  {
   "cell_type": "code",
   "execution_count": 2,
   "metadata": {},
   "outputs": [],
   "source": [
    "# 원래는 $ scrapy shell \"http://naver.com\"\n",
    "# git bash창에서 가능\n",
    "\n",
    "import requests\n",
    "from scrapy.http import TextResponse\n",
    "\n",
    "req = requests.get(\"https://www.naver.com\")\n",
    "\n",
    "response = TextResponse(req.url, body=req.text, encoding=\"utf-8\")"
   ]
  },
  {
   "cell_type": "code",
   "execution_count": 9,
   "metadata": {},
   "outputs": [
    {
     "data": {
      "text/plain": [
       "[<Selector xpath='//*[@id=\"PM_ID_ct\"]/div[1]/div[2]/div[2]/div[1]/div/ul/li[1]/a/span[2]' data='<span class=\"ah_k\">대구 수돗물</span>'>]"
      ]
     },
     "execution_count": 9,
     "metadata": {},
     "output_type": "execute_result"
    }
   ],
   "source": [
    "#네이버 실시간 검색어 1위 객체선택\n",
    "response.xpath('//*[@id=\"PM_ID_ct\"]/div[1]/div[2]/div[2]/div[1]/div/ul/li[1]/a/span[2]')"
   ]
  },
  {
   "cell_type": "code",
   "execution_count": 10,
   "metadata": {},
   "outputs": [
    {
     "data": {
      "text/plain": [
       "[<Selector xpath='//*[@id=\"PM_ID_ct\"]/div[1]/div[2]/div[2]/div[1]/div/ul/li/a/span[2]' data='<span class=\"ah_k\">대구 수돗물</span>'>,\n",
       " <Selector xpath='//*[@id=\"PM_ID_ct\"]/div[1]/div[2]/div[2]/div[1]/div/ul/li/a/span[2]' data='<span class=\"ah_k\">조정석</span>'>,\n",
       " <Selector xpath='//*[@id=\"PM_ID_ct\"]/div[1]/div[2]/div[2]/div[1]/div/ul/li/a/span[2]' data='<span class=\"ah_k\">거미</span>'>,\n",
       " <Selector xpath='//*[@id=\"PM_ID_ct\"]/div[1]/div[2]/div[2]/div[1]/div/ul/li/a/span[2]' data='<span class=\"ah_k\">오나라</span>'>,\n",
       " <Selector xpath='//*[@id=\"PM_ID_ct\"]/div[1]/div[2]/div[2]/div[1]/div/ul/li/a/span[2]' data='<span class=\"ah_k\">아르헨티나 크로아티아</span>'>,\n",
       " <Selector xpath='//*[@id=\"PM_ID_ct\"]/div[1]/div[2]/div[2]/div[1]/div/ul/li/a/span[2]' data='<span class=\"ah_k\">월드컵 조별순위</span>'>,\n",
       " <Selector xpath='//*[@id=\"PM_ID_ct\"]/div[1]/div[2]/div[2]/div[1]/div/ul/li/a/span[2]' data='<span class=\"ah_k\">진서연</span>'>,\n",
       " <Selector xpath='//*[@id=\"PM_ID_ct\"]/div[1]/div[2]/div[2]/div[1]/div/ul/li/a/span[2]' data='<span class=\"ah_k\">밥블레스유</span>'>,\n",
       " <Selector xpath='//*[@id=\"PM_ID_ct\"]/div[1]/div[2]/div[2]/div[1]/div/ul/li/a/span[2]' data='<span class=\"ah_k\">아르헨티나 크로아티아 하이라이트</sp'>,\n",
       " <Selector xpath='//*[@id=\"PM_ID_ct\"]/div[1]/div[2]/div[2]/div[1]/div/ul/li/a/span[2]' data='<span class=\"ah_k\">아르헨티나</span>'>,\n",
       " <Selector xpath='//*[@id=\"PM_ID_ct\"]/div[1]/div[2]/div[2]/div[1]/div/ul/li/a/span[2]' data='<span class=\"ah_k\">모드리치</span>'>,\n",
       " <Selector xpath='//*[@id=\"PM_ID_ct\"]/div[1]/div[2]/div[2]/div[1]/div/ul/li/a/span[2]' data='<span class=\"ah_k\">오나라 남자친구</span>'>,\n",
       " <Selector xpath='//*[@id=\"PM_ID_ct\"]/div[1]/div[2]/div[2]/div[1]/div/ul/li/a/span[2]' data='<span class=\"ah_k\">이장희</span>'>,\n",
       " <Selector xpath='//*[@id=\"PM_ID_ct\"]/div[1]/div[2]/div[2]/div[1]/div/ul/li/a/span[2]' data='<span class=\"ah_k\">브라질 코스타리카</span>'>,\n",
       " <Selector xpath='//*[@id=\"PM_ID_ct\"]/div[1]/div[2]/div[2]/div[1]/div/ul/li/a/span[2]' data='<span class=\"ah_k\">아이디어주방도구</span>'>,\n",
       " <Selector xpath='//*[@id=\"PM_ID_ct\"]/div[1]/div[2]/div[2]/div[1]/div/ul/li/a/span[2]' data='<span class=\"ah_k\">진에어</span>'>,\n",
       " <Selector xpath='//*[@id=\"PM_ID_ct\"]/div[1]/div[2]/div[2]/div[1]/div/ul/li/a/span[2]' data='<span class=\"ah_k\">크로아티아</span>'>,\n",
       " <Selector xpath='//*[@id=\"PM_ID_ct\"]/div[1]/div[2]/div[2]/div[1]/div/ul/li/a/span[2]' data='<span class=\"ah_k\">오나라 나이</span>'>,\n",
       " <Selector xpath='//*[@id=\"PM_ID_ct\"]/div[1]/div[2]/div[2]/div[1]/div/ul/li/a/span[2]' data='<span class=\"ah_k\">와일드</span>'>,\n",
       " <Selector xpath='//*[@id=\"PM_ID_ct\"]/div[1]/div[2]/div[2]/div[1]/div/ul/li/a/span[2]' data='<span class=\"ah_k\">mbc 기분좋은날</span>'>]"
      ]
     },
     "execution_count": 10,
     "metadata": {},
     "output_type": "execute_result"
    }
   ],
   "source": [
    "#네이버 실시간 검색어 상위 20개 선택\n",
    "response.xpath('//*[@id=\"PM_ID_ct\"]/div[1]/div[2]/div[2]/div[1]/div/ul/li/a/span[2]')"
   ]
  },
  {
   "cell_type": "code",
   "execution_count": 13,
   "metadata": {},
   "outputs": [
    {
     "data": {
      "text/plain": [
       "['대구 수돗물',\n",
       " '조정석',\n",
       " '거미',\n",
       " '오나라',\n",
       " '아르헨티나 크로아티아',\n",
       " '월드컵 조별순위',\n",
       " '진서연',\n",
       " '밥블레스유',\n",
       " '아르헨티나 크로아티아 하이라이트',\n",
       " '아르헨티나',\n",
       " '모드리치',\n",
       " '오나라 남자친구',\n",
       " '이장희',\n",
       " '브라질 코스타리카',\n",
       " '아이디어주방도구',\n",
       " '진에어',\n",
       " '크로아티아',\n",
       " '오나라 나이',\n",
       " '와일드',\n",
       " 'mbc 기분좋은날']"
      ]
     },
     "execution_count": 13,
     "metadata": {},
     "output_type": "execute_result"
    }
   ],
   "source": [
    "#네이버 실시간 검색어 20개중 문자열만 선택\n",
    "response.xpath(\\\n",
    "'//*[@id=\"PM_ID_ct\"]/div[1]/div[2]/div[2]/div[1]/div/ul/li/a/span[2]/text()').extract()"
   ]
  },
  {
   "cell_type": "code",
   "execution_count": 32,
   "metadata": {},
   "outputs": [
    {
     "data": {
      "text/plain": [
       "['거미',\n",
       " '조정석',\n",
       " '대구 수돗물',\n",
       " '진에어',\n",
       " '포천 천주호',\n",
       " '개그 아이돌',\n",
       " '크로아티아',\n",
       " '릴리',\n",
       " '아르헨티나',\n",
       " '큐넷']"
      ]
     },
     "execution_count": 32,
     "metadata": {},
     "output_type": "execute_result"
    }
   ],
   "source": [
    "#다음에서 검색어순위 가져오기\n",
    "req = requests.get(\"https://www.daum.net\")\n",
    "\n",
    "response = TextResponse(req.url, body=req.text, encoding=\"utf-8\")\n",
    "\n",
    "response.xpath(\\\n",
    "'//*[@id=\"mArticle\"]/div[2]/div[2]/div[2]/div[1]/ol/li/div/div[1]/span[2]/a/text()').extract()"
   ]
  },
  {
   "cell_type": "code",
   "execution_count": 37,
   "metadata": {},
   "outputs": [],
   "source": [
    "#gmarket에서 베스트셀링순위 가져오기\n",
    "req = requests.get(\"http://corners.gmarket.co.kr/Bestsellers\")\n",
    "\n",
    "response = TextResponse(req.url, body=req.text, encoding=\"utf-8\")"
   ]
  },
  {
   "cell_type": "code",
   "execution_count": 40,
   "metadata": {},
   "outputs": [
    {
     "data": {
      "text/plain": [
       "['[빕스](빕스) 평일 런치 샐러드바1인',\n",
       " '[빕스](빕스) 평일 디너/주말 샐러드바1인',\n",
       " '모스트맘 쿨하게가즈아~ 냉감 쿨세트/원피스/파자마',\n",
       " '[크리넥스]크리넥스 마이비데리필 46매10팩/물티슈/화장지/휴지',\n",
       " '+여름 반팔티+ 빅사이즈77-99 롱/루즈핏/스트라이프',\n",
       " '사은품 여름모자/여름가방/아동/리본햇/라탄백',\n",
       " '데일리콤마 디퓨저 본품 100ml 1+1+1+1 /신향 출시',\n",
       " '스위스밀리터리/페이크삭스/덧신/스니커즈/최대10족',\n",
       " '1+1 여름 신상품 워싱스프레드(Q)',\n",
       " '[월드컵]월드컵 성인 키즈 인기 운동화/슬리퍼']"
      ]
     },
     "execution_count": 40,
     "metadata": {},
     "output_type": "execute_result"
    }
   ],
   "source": [
    "response.xpath('//*[@id=\"gBestWrap\"]/div/div[3]/div[2]/ul/li/a/text()').extract()[:10]"
   ]
  },
  {
   "cell_type": "code",
   "execution_count": 42,
   "metadata": {},
   "outputs": [
    {
     "data": {
      "text/plain": [
       "(50,\n",
       " ['[빕스](빕스) 평일 런치 샐러드바1인',\n",
       "  '+여름 반팔티+ 빅사이즈77-99 롱/루즈핏/스트라이프',\n",
       "  '1+1 여름 신상품 워싱스프레드(Q)',\n",
       "  '[앤디애플]아동복/상하복/반바지/원피스/치마/레깅스/반팔',\n",
       "  '[홈닥터]저주파마사지기 홈닥터 HD SYK-2018 저주파안마기'])"
      ]
     },
     "execution_count": 42,
     "metadata": {},
     "output_type": "execute_result"
    }
   ],
   "source": [
    "#li앨리먼트에서 class가 first인 데이터만 가져오기   [@class=\"first\"]\n",
    "titles = response.xpath('//*[@id=\"gBestWrap\"]/div/div[3]/div[2]/ul/li[@class=\"first\"]/a/text()').extract()\n",
    "len(titles),titles[:5]"
   ]
  },
  {
   "cell_type": "code",
   "execution_count": 43,
   "metadata": {},
   "outputs": [
    {
     "data": {
      "text/plain": [
       "(150,\n",
       " ['[빕스](빕스) 평일 디너/주말 샐러드바1인',\n",
       "  '모스트맘 쿨하게가즈아~ 냉감 쿨세트/원피스/파자마',\n",
       "  '[크리넥스]크리넥스 마이비데리필 46매10팩/물티슈/화장지/휴지',\n",
       "  '사은품 여름모자/여름가방/아동/리본햇/라탄백',\n",
       "  '데일리콤마 디퓨저 본품 100ml 1+1+1+1 /신향 출시'])"
      ]
     },
     "execution_count": 43,
     "metadata": {},
     "output_type": "execute_result"
    }
   ],
   "source": [
    "#li앨리먼트에서 class가 first인 데이터만 빼고가져오기    [not(@class=\"first\")]\n",
    "titles = response.xpath('//*[@id=\"gBestWrap\"]/div/div[3]/div[2]/ul/li[not(@class=\"first\")]/a/text()').extract()\n",
    "len(titles),titles[:5]"
   ]
  },
  {
   "cell_type": "markdown",
   "metadata": {},
   "source": [
    "### scrapy Project-------------------------------------------------------------------\n",
    "- 프로젝트 생성\n",
    "    - `$ scrapy start project <프로젝트명>`\n",
    "- 프로젝트 파일 설명\n",
    "- 네이버 영화에서 현재 상영중인 영화의 제목과 누적관객수 데이터를 크롤링\n",
    "\n",
    "```\n",
    "crawler\n",
    "ㅣㅏ-init.py\n",
    "ㅣㅏ-items.py\n",
    "ㅣㅏ-middlewares.py\n",
    "ㅣㅏ-pipelines.py\n",
    "ㅣㅏ-settings.py\n",
    "ㅣㅏ-spiders / init.py\n",
    "```\n",
    "\n",
    "- crawler 디렉토리 : 프로젝트 디렉토리\n",
    "- spiders 디렉토리 : 크롤링 실행할 클래스와 함수가 모여있는 디렉토리\n",
    "- items.py : 크롤링을 할때 가져오는 데이터를 정의하는 클래스 (MVC - Model)\n",
    "- pipeline.py : 여러개의 링크에서 데이터를 가져올때 실행하는 함수가 정의되어 있는 클래스\n",
    "    - save, csv의 명령을 받음?\n",
    "- settings.py : 스크래핑을 할때 정책과 같은 설정을 할 수 있는 파일입니다.\n",
    "    - 예를들어 robots.txt의 정책을 따를지 말지를 설정할 수 있습니다.\n",
    "    \n",
    "    \n",
    "- 작업순서\n",
    "        - url --> links 들 크롤링 ---> items.py의 내용을 이용해서 obj파일을 만듬. --> pipelines.py로 보내서 파일저장\n",
    "\n",
    "- 네이버 영화에서 현재 상영중인 영화의 제목과 누적 관객수 데이터를 크롤링\n"
   ]
  },
  {
   "cell_type": "code",
   "execution_count": 52,
   "metadata": {},
   "outputs": [
    {
     "data": {
      "text/plain": [
       "'탐정: 리턴즈'"
      ]
     },
     "execution_count": 52,
     "metadata": {},
     "output_type": "execute_result"
    }
   ],
   "source": [
    "#네이버에서 검색어순위 가져오기 - 아톰에서 직접 작성했음 (여기 내용은 확인작업)\n",
    "req = requests.get(\"https://movie.naver.com/movie/bi/mi/basic.nhn?code=159892\")\n",
    "\n",
    "response = TextResponse(req.url, body=req.text, encoding=\"utf-8\")\n",
    "\n",
    "response.xpath('//*[@id=\"content\"]/div[1]/div[2]/div[1]/h3/a[1]/text()').extract()[0]\n"
   ]
  },
  {
   "cell_type": "code",
   "execution_count": 53,
   "metadata": {},
   "outputs": [
    {
     "data": {
      "text/plain": [
       "'1,405,591명'"
      ]
     },
     "execution_count": 53,
     "metadata": {},
     "output_type": "execute_result"
    }
   ],
   "source": [
    "response.xpath('//*[@id=\"content\"]/div[1]/div[2]/div[1]/dl/dd[5]/div/p[2]/text()').extract()[0]"
   ]
  },
  {
   "cell_type": "code",
   "execution_count": null,
   "metadata": {},
   "outputs": [],
   "source": [
    "# 프로젝트 디렉토리로 이동후 아래 명령을 배쉬에서 실행\n",
    "# scrapy crawl NaverMovie (먼저 setting에 가서 robots.txt를 무시하도록 함...)\n",
    "\n",
    "# csv파일 작성\n",
    "# scrapy crawler NaverMovie -o movie.csv"
   ]
  },
  {
   "cell_type": "code",
   "execution_count": null,
   "metadata": {},
   "outputs": [],
   "source": [
    "#yield----------------------------------------------------------------------\n",
    "#제너레이터 개념"
   ]
  },
  {
   "cell_type": "code",
   "execution_count": 73,
   "metadata": {},
   "outputs": [],
   "source": [
    "def numbers():\n",
    "    return [0,1,2]"
   ]
  },
  {
   "cell_type": "code",
   "execution_count": 74,
   "metadata": {},
   "outputs": [
    {
     "data": {
      "text/plain": [
       "[0, 1, 2]"
      ]
     },
     "execution_count": 74,
     "metadata": {},
     "output_type": "execute_result"
    }
   ],
   "source": [
    "n = numbers()\n",
    "n"
   ]
  },
  {
   "cell_type": "code",
   "execution_count": 76,
   "metadata": {},
   "outputs": [],
   "source": [
    "def numbers():\n",
    "    yield 1\n",
    "    yield 2\n",
    "    yield 3"
   ]
  },
  {
   "cell_type": "code",
   "execution_count": 77,
   "metadata": {},
   "outputs": [
    {
     "data": {
      "text/plain": [
       "<generator object numbers at 0x000002739734C938>"
      ]
     },
     "execution_count": 77,
     "metadata": {},
     "output_type": "execute_result"
    }
   ],
   "source": [
    "n = numbers()\n",
    "n"
   ]
  },
  {
   "cell_type": "code",
   "execution_count": 78,
   "metadata": {},
   "outputs": [
    {
     "data": {
      "text/plain": [
       "1"
      ]
     },
     "execution_count": 78,
     "metadata": {},
     "output_type": "execute_result"
    }
   ],
   "source": [
    "n.__next__()"
   ]
  },
  {
   "cell_type": "code",
   "execution_count": 79,
   "metadata": {},
   "outputs": [
    {
     "data": {
      "text/plain": [
       "2"
      ]
     },
     "execution_count": 79,
     "metadata": {},
     "output_type": "execute_result"
    }
   ],
   "source": [
    "n.__next__()"
   ]
  },
  {
   "cell_type": "code",
   "execution_count": 80,
   "metadata": {},
   "outputs": [
    {
     "data": {
      "text/plain": [
       "3"
      ]
     },
     "execution_count": 80,
     "metadata": {},
     "output_type": "execute_result"
    }
   ],
   "source": [
    "n.__next__()"
   ]
  },
  {
   "cell_type": "code",
   "execution_count": 81,
   "metadata": {},
   "outputs": [
    {
     "ename": "StopIteration",
     "evalue": "",
     "output_type": "error",
     "traceback": [
      "\u001b[1;31m---------------------------------------------------------------------------\u001b[0m",
      "\u001b[1;31mStopIteration\u001b[0m                             Traceback (most recent call last)",
      "\u001b[1;32m<ipython-input-81-30ea26b276c5>\u001b[0m in \u001b[0;36m<module>\u001b[1;34m()\u001b[0m\n\u001b[1;32m----> 1\u001b[1;33m \u001b[0mn\u001b[0m\u001b[1;33m.\u001b[0m\u001b[0m__next__\u001b[0m\u001b[1;33m(\u001b[0m\u001b[1;33m)\u001b[0m\u001b[1;33m\u001b[0m\u001b[0m\n\u001b[0m",
      "\u001b[1;31mStopIteration\u001b[0m: "
     ]
    }
   ],
   "source": [
    "n.__next__()"
   ]
  },
  {
   "cell_type": "code",
   "execution_count": null,
   "metadata": {},
   "outputs": [],
   "source": [
    "# import CSV의 작동법\n",
    "\n",
    "# import csv\n",
    "\n",
    "# csvwriter = csv.writer(open(\"NaverMovie.csv\",\"w\"))\n",
    "# csvwriter.writerow([\"title\",\"count\"])\n",
    "\n"
   ]
  }
 ],
 "metadata": {
  "kernelspec": {
   "display_name": "Python 3",
   "language": "python",
   "name": "python3"
  },
  "language_info": {
   "codemirror_mode": {
    "name": "ipython",
    "version": 3
   },
   "file_extension": ".py",
   "mimetype": "text/x-python",
   "name": "python",
   "nbconvert_exporter": "python",
   "pygments_lexer": "ipython3",
   "version": "3.6.3"
  }
 },
 "nbformat": 4,
 "nbformat_minor": 2
}
