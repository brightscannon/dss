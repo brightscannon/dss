{
 "cells": [
  {
   "cell_type": "markdown",
   "metadata": {},
   "source": [
    "# 제너레이터(generator/yield)\n",
    "\n",
    "- yield의 리턴값이 generator object\n",
    "- yield는 generator 생성을 하고 generator는 next()함수를 가지고있음\n",
    "\n",
    "- 이걸 사용하는 이유 : 대용량의 리스트를 사용시 메모리사용량을 절약할 수 있는 좋은 방법이 된다"
   ]
  },
  {
   "cell_type": "code",
   "execution_count": 10,
   "metadata": {},
   "outputs": [
    {
     "name": "stdout",
     "output_type": "stream",
     "text": [
      "<generator object generatorEx at 0x00000270281C2DB0>\n",
      "<generator object generatorEx at 0x00000270281C2DB0>\n",
      "0\n",
      "1\n",
      "4\n",
      "9\n"
     ]
    },
    {
     "ename": "StopIteration",
     "evalue": "",
     "output_type": "error",
     "traceback": [
      "\u001b[1;31m---------------------------------------------------------------------------\u001b[0m",
      "\u001b[1;31mStopIteration\u001b[0m                             Traceback (most recent call last)",
      "\u001b[1;32m<ipython-input-10-04e1df22c702>\u001b[0m in \u001b[0;36m<module>\u001b[1;34m()\u001b[0m\n\u001b[0;32m     13\u001b[0m \u001b[0mprint\u001b[0m\u001b[1;33m(\u001b[0m\u001b[0mnext\u001b[0m\u001b[1;33m(\u001b[0m\u001b[0mgen\u001b[0m\u001b[1;33m)\u001b[0m\u001b[1;33m)\u001b[0m\u001b[1;33m\u001b[0m\u001b[0m\n\u001b[0;32m     14\u001b[0m \u001b[0mprint\u001b[0m\u001b[1;33m(\u001b[0m\u001b[0mnext\u001b[0m\u001b[1;33m(\u001b[0m\u001b[0mgen\u001b[0m\u001b[1;33m)\u001b[0m\u001b[1;33m)\u001b[0m\u001b[1;33m\u001b[0m\u001b[0m\n\u001b[1;32m---> 15\u001b[1;33m \u001b[0mprint\u001b[0m\u001b[1;33m(\u001b[0m\u001b[0mnext\u001b[0m\u001b[1;33m(\u001b[0m\u001b[0mgen\u001b[0m\u001b[1;33m)\u001b[0m\u001b[1;33m)\u001b[0m \u001b[1;31m#발생기의 횟수를 4로 정해놓아서 5번째에서 에러발생함\u001b[0m\u001b[1;33m\u001b[0m\u001b[0m\n\u001b[0m",
      "\u001b[1;31mStopIteration\u001b[0m: "
     ]
    }
   ],
   "source": [
    "def generatorEx(n):\n",
    "    for i in range(n):\n",
    "        yield i ** 2\n",
    "        \n",
    "print(generatorEx(4))\n",
    "\n",
    "gen = generatorEx(4)\n",
    "\n",
    "print(gen)\n",
    "\n",
    "print(next(gen))\n",
    "print(next(gen))\n",
    "print(next(gen))\n",
    "print(next(gen))\n",
    "print(next(gen)) #발생기의 횟수를 4로 정해놓아서 5번째에서 에러발생함"
   ]
  },
  {
   "cell_type": "code",
   "execution_count": 15,
   "metadata": {},
   "outputs": [
    {
     "name": "stdout",
     "output_type": "stream",
     "text": [
      "<generator object countdown at 0x00000270281E23B8>\n",
      "3\n",
      "2\n",
      "1\n"
     ]
    }
   ],
   "source": [
    "def countdown(n):\n",
    "    while n>0:\n",
    "        yield n\n",
    "        n-=1\n",
    "    print(\"end\")\n",
    "cnt = countdown(3)\n",
    "\n",
    "print(cnt)\n",
    "\n",
    "print(next(cnt))\n",
    "print(next(cnt))\n",
    "print(next(cnt))"
   ]
  },
  {
   "cell_type": "code",
   "execution_count": 16,
   "metadata": {},
   "outputs": [
    {
     "name": "stdout",
     "output_type": "stream",
     "text": [
      "0\n",
      "1\n",
      "4\n",
      "9\n",
      "16\n"
     ]
    }
   ],
   "source": [
    "def generatorEx(n):\n",
    "    for i in range(n):\n",
    "        yield i ** 2\n",
    "\n",
    "for i in generatorEx(5):\n",
    "    print(i)"
   ]
  },
  {
   "cell_type": "markdown",
   "metadata": {},
   "source": [
    "## Collections.deque를 이용한 큐 설정방법 및 검색어찾기\n",
    "- deque를 이용해서 고정크기의 큐를 생성하기(maxlen =n)"
   ]
  },
  {
   "cell_type": "code",
   "execution_count": 21,
   "metadata": {},
   "outputs": [
    {
     "name": "stdout",
     "output_type": "stream",
     "text": [
      "deque(['aa', 'bb', 'cc', 'dd'], maxlen=4)\n",
      "deque(['bb', 'cc', 'dd', 'ee'], maxlen=4)\n"
     ]
    }
   ],
   "source": [
    "from collections import deque\n",
    "\n",
    "dQ = deque(maxlen=4) #고정길이 4의 큐를 생성\n",
    "dQ.append('aa')\n",
    "dQ.append('bb')\n",
    "dQ.append('cc')\n",
    "dQ.append('dd')\n",
    "print(dQ)\n",
    "\n",
    "dQ.append('ee') # 크기가 4인 큐에 자료가 하나 더 들어가면 먼저 들어갔던 aa가 삭제됨\n",
    "print(dQ)\n"
   ]
  },
  {
   "cell_type": "code",
   "execution_count": 35,
   "metadata": {},
   "outputs": [
    {
     "name": "stdout",
     "output_type": "stream",
     "text": [
      "<generator object search_word at 0x00000270281C2CA8>\n",
      "('좋은아침~~\\n', deque(['wow\\n', 'goood morning~!\\n', '좋은하루입니다.\\n', '굿모닝\\n'], maxlen=4))\n",
      "('어이 아주 좋은아침이야\\n', deque(['goood morning~!\\n', '좋은하루입니다.\\n', '굿모닝\\n', '좋은아침~~\\n'], maxlen=4))\n",
      "('아침이 참 좋네\\n', deque(['핳핳핳핳\\n', '하루하루하루하\\n', '굿굿모모닝니\\n', '구웃모오니잉굿모닝\\n'], maxlen=4))\n",
      "('아침햇살 맛있음\\n', deque(['하루하루하루하\\n', '굿굿모모닝니\\n', '구웃모오니잉굿모닝\\n', '아침이 참 좋네\\n'], maxlen=4))\n",
      "------------------------------\n",
      "wow\n",
      "\n",
      "goood morning~!\n",
      "\n",
      "좋은하루입니다.\n",
      "\n",
      "굿모닝\n",
      "\n",
      "좋은아침~~\n",
      "\n",
      "==========\n",
      "goood morning~!\n",
      "\n",
      "좋은하루입니다.\n",
      "\n",
      "굿모닝\n",
      "\n",
      "좋은아침~~\n",
      "\n",
      "어이 아주 좋은아침이야\n",
      "\n",
      "==========\n",
      "핳핳핳핳\n",
      "\n",
      "하루하루하루하\n",
      "\n",
      "굿굿모모닝니\n",
      "\n",
      "구웃모오니잉굿모닝\n",
      "\n",
      "아침이 참 좋네\n",
      "\n",
      "==========\n",
      "하루하루하루하\n",
      "\n",
      "굿굿모모닝니\n",
      "\n",
      "구웃모오니잉굿모닝\n",
      "\n",
      "아침이 참 좋네\n",
      "\n",
      "아침햇살 맛있음\n",
      "\n",
      "==========\n"
     ]
    }
   ],
   "source": [
    "#제너레이터 활용하여 검색어찾기~~!\n",
    "\n",
    "def search_word(lines, find_word, history):\n",
    "    previous_lines = deque(maxlen = history)\n",
    "    for readline in lines:\n",
    "        if find_word in readline:\n",
    "            yield readline, previous_lines\n",
    "        previous_lines.append(readline)\n",
    "\n",
    "with open('text2.txt',encoding = \"utf-8\") as f:\n",
    "    fword = search_word(f, \"아침\", 4)\n",
    "    print(fword)\n",
    "    print(next(fword))\n",
    "    print(next(fword))\n",
    "    print(next(fword))\n",
    "    print(next(fword))\n",
    "    \n",
    "print(\"------------------------------\")\n",
    "if __name__ == '__main__':\n",
    "    with open('text2.txt',encoding = \"utf-8\") as f:\n",
    "        for fline, prevTexts in search_word(f,\"아침\",4):\n",
    "            for preline in prevTexts:\n",
    "                print(preline)\n",
    "            print(fline)\n",
    "            print(\"=\"*10)"
   ]
  }
 ],
 "metadata": {
  "kernelspec": {
   "display_name": "Python 3",
   "language": "python",
   "name": "python3"
  },
  "language_info": {
   "codemirror_mode": {
    "name": "ipython",
    "version": 3
   },
   "file_extension": ".py",
   "mimetype": "text/x-python",
   "name": "python",
   "nbconvert_exporter": "python",
   "pygments_lexer": "ipython3",
   "version": "3.6.3"
  }
 },
 "nbformat": 4,
 "nbformat_minor": 2
}
