{
 "cells": [
  {
   "cell_type": "markdown",
   "metadata": {},
   "source": [
    "# 1. Weapon\n",
    "\n",
    "    \"채점기준 : 키감, 자판방식, 키배열, 자판사이즈, 가격, 무게/휴대성, 크기, 반응속도, 터치패드\"\n",
    "\n",
    "### 1. [Microsoft All-in-One Media Keyboard ★★★★](https://search.shopping.naver.com/detail/detail.nhn?nv_mid=7803015400&cat_id=50002932&frm=NVSHATC&query=%EB%AF%B8%EB%94%94%EC%96%B4+%EC%98%AC%EC%9D%B8%EC%9B%90)\n",
    "![](http://www.icbanq.com/data/ICBShop/shop_img_m/c340_m.jpg)\n",
    "    - ((저자가 사용해본 키보드))\n",
    "    - good : 키감, 펜타그래프, 미디어버튼 커스터마이징 가능, 터치패드 쓸만함, 가격 착함\n",
    "    - error : 키보드 화살표키 누르다가 터치패드 실수로 터치할 레이아웃임\n",
    "    - bad : 키배열(home, end키 없음, Fn/한영/한자키 위치가 썩.., 자판사이즈가 풀키보드에 비해 키1칸정도가 좁아서 적응기간필요) Fn키 동작방식이 맘에안듬, 키보드 반응속도가 매우 빠르지는 않음\n",
    "    \n",
    "    - 티비나 미디어를 쓸때 사용하라고 만든 키보드. TV앞에 있어야 할 놈 치고는 잘만들었다. 가벼우며, 크기도 적당해서 휴대성도 우수. 의외로 키감도 좋다. 터치패드가 있어서 타이핑시 마우스까지 손이 갈 필요없이 오른손목만 조금 움직이면 된다. 저렴해서 가성비가 매우 좋은편이다. \n",
    "    \n",
    "    - ==== 무기로 치자면 SMG정도?\n",
    "\n",
    "\n",
    "\n",
    "\n",
    "\n",
    "### 2. [Microsoft Designer Bluetooth Desktop ★★★★](https://search.shopping.naver.com/detail/detail.nhn?nv_mid=10541672582&cat_id=50001594&frm=NVSHATC&query=%EB%94%94%EC%9E%90%EC%9D%B4%EB%84%88+%EB%B8%94%EB%A3%A8%ED%88%AC%EC%8A%A4+%EB%8D%B0%EC%8A%A4%ED%81%AC%ED%83%91)\n",
    "![](http://www.noteforum.co.kr/trash/5iewc6ysyd6.jpg)\n",
    "    - ((작성자가 다음에 무조건 사서 사용해볼 키보드))\n",
    "    - good : 키감, 펜타그래프, 키배열, 슬림, 디자인\n",
    "    - error : 아직 모름\n",
    "    - bad : 터치패드까지 있다면... 마우스는 디자인만 좋고 그닥...\n",
    "\n",
    "    - 키감은 아주 좋은편. 심지어 이게 내 앞에 있으면 사람자체가 스마트해보인다. 디자인만으로도 합격점을 주고싶은 키보드 마우스 세트. 가격은 저렴하지는 않고 그냥 준수한편이며, 키배열도 조금만 적응하면 될 정도로 아주 합리적인 배열을 갖추었다. 휴대보다는 데스크탑에서 사용하면 아주 완벽할듯. 휴대성이 나쁘지도 않다. 아주 가볍고 슬림하기때문. \n",
    "    \n",
    "    - ==== 무기로 치자면 M4A1정도?\n",
    "    \n",
    "    \n",
    "### 이외에도 로지텍, 콜세라, 컴스, 아이노트 등 브랜드가 많으니 참고.\n",
    "\n",
    "### 아 그리고 접히는 폴더블 키보드는... \n",
    "### (무기로 치면... 폴더블 키보드는 권총류다. 휴대성만 좋다)"
   ]
  },
  {
   "cell_type": "code",
   "execution_count": null,
   "metadata": {},
   "outputs": [],
   "source": [
    "# 무기 골랐으면 이제 슬슬 타자를 치면서 프로그램 워리어가 되도록 타이핑 속도를 늘려보자."
   ]
  },
  {
   "cell_type": "code",
   "execution_count": null,
   "metadata": {},
   "outputs": [],
   "source": [
    "%matplotlib inline\n",
    "#주피터노트북에서 라인 아래에 보여지도록 설정\n",
    "\n",
    "%config InlineBackend.figure_formats = {'png','retina'} \n",
    "#png 이미지 압축기술설정, retina 그래프 해상도 2배 높히기"
   ]
  },
  {
   "cell_type": "markdown",
   "metadata": {},
   "source": [
    "# 2. Training code (easy)\n",
    "\n",
    "- 빠른 코딩은 곧 생각하는것을 바로 코드로 옮길 수 있음을 의미한다. 기본기를 다지자"
   ]
  },
  {
   "cell_type": "code",
   "execution_count": null,
   "metadata": {},
   "outputs": [],
   "source": [
    "#1단계 복합문\n",
    "\n",
    "import numpy as np\n",
    "import pandas as pd\n",
    "import matplotlib\n",
    "import matplotlib.pyplot as plt\n",
    "\n",
    "\n",
    "temp = 0\n",
    "s = 0\n",
    "e = 10\n",
    "ls1 = []\n",
    "ls2 = []\n",
    "\n",
    "count =0\n",
    "for idx in range(s,e):\n",
    "    for j in range(0,idx):\n",
    "        ls1.append(idx)\n",
    "        ls2.append(j)\n",
    "        count += 1\n",
    "        \n",
    "lsA = [i for i in range(5,250)]\n",
    "\n",
    "M = np.array([[2,3,4],[5,6,7],[8,9,10]])\n",
    "\n",
    "Mdot = np.dot(M.T,M)\n",
    "\n",
    "print(Mdot)\n",
    "\n",
    "\n",
    "data1 = pd.DataFrame(columns=[\"ID\",\"Spec\"])\n",
    "\n",
    "raw_csv = pd.read_csv('train.csv')\n",
    "\n",
    "titanic = pd.DataFrame(raw_csv)\n",
    "\n",
    "df1 = titanic.groupby([\"Sex\",\"Pclass\"]).sum()[\"Survived\"].reset_index(name = \"Saved\")\n",
    "\n",
    "print(df1)\n",
    "\n",
    "df2 = df1.pivot(\"Pclass\",\"Sex\",\"Saved\")\n"
   ]
  },
  {
   "cell_type": "code",
   "execution_count": null,
   "metadata": {},
   "outputs": [],
   "source": [
    "#import 문 및 선언문\n",
    "import numpy as np\n",
    "import pandas as pd\n",
    "import matplotlib\n",
    "import matplotlib.pyplot as plt\n",
    "import os\n",
    "import random\n",
    "import time\n",
    "import threading\n",
    "import requests\n"
   ]
  },
  {
   "cell_type": "code",
   "execution_count": null,
   "metadata": {},
   "outputs": [],
   "source": [
    "# 기본변수명 모음-----------------------\n",
    "ls = []\n",
    "i,j,k = 0,0,0\n",
    "x,y,z = 0,0,0\n",
    "idx = 0\n",
    "data = {\"name\":\"bright\",\"age\":\"30\"}\n",
    "count = 0\n",
    "count += 1\n",
    "cnt = count\n",
    "total = 0\n",
    "for i in range(0,10):\n",
    "    total += i \n",
    "\n",
    "lsA = [[i*j for i in range(10)]for j in range(10)]\n",
    "\n",
    "total = sum([sum(row) for row in lsA])\n",
    "\n",
    "temp = 10\n",
    "\n",
    "df1 = pd.DataFrame(lsA)\n",
    "na1 = np.array(lsA)\n",
    "\n",
    "\n",
    "print(total)\n",
    "\n",
    "\n",
    "\n",
    "#define function 연습-----------------\n",
    "\n",
    "def funcA(num):\n",
    "    return num**2\n",
    "\n",
    "#for문 연습----------------------------\n",
    "n=10\n",
    "for i in range(0,n):\n",
    "    for j in range(0,i):\n",
    "        print(i,\",\",j,end=\"\")\n",
    "        \n",
    "#while문 연습---------------------------\n",
    "a=0\n",
    "while a>0:\n",
    "    a += 1\n",
    "    if a >= 10: break\n",
    "        \n",
    "#if문 연습------------------------------\n",
    "if a == 11:\n",
    "    print(\"a1\")\n",
    "elif a == 10:\n",
    "    print(\"a2\")\n",
    "else :\n",
    "    print(\"a3\")\n",
    "    \n",
    "# input print ------------------------\n",
    "temp = int(input(\"숫자를 입력하시오 : \"))\n",
    "print(temp,\"을 입력하셨습니다.\")"
   ]
  },
  {
   "cell_type": "markdown",
   "metadata": {},
   "source": [
    "# 3. Training real code (intermidiate)\n",
    "- 키보드 기호 쓸때 키보드 보고 치는거 다 안다.[] () \" \" , . ? ! : ; - _ + = \\ / 이런거도 연습해라"
   ]
  },
  {
   "cell_type": "code",
   "execution_count": null,
   "metadata": {},
   "outputs": [],
   "source": [
    "#크롤링예제\n",
    "\n",
    "import requests\n",
    "from bs4 import BeautifulSoup\n",
    "r = requests.get(\"https://www.google.co.kr/seㅇarch?q=삼성전자\")\n",
    "\n",
    "soup = BeautifulSoup(r.content, 'lxml')\n",
    "res_stat = soup.find(id='resultStats').text\n",
    "\n",
    "print(res_stat)\n",
    "\n",
    "code = '005930'\n",
    "url = 'http://companyinfo.stock.naver.com/v1/company/c1010001.aspx?cmp_cd='+code\n",
    "\n",
    "r = requests.get(url)\n",
    "soup = BeautifulSoup(r.text,\"lxml\")\n",
    "td = soup.find('td', {'class':'cmp-table-cell td0101'})\n",
    "print(\"----------\\n\",td,\"\\n----------\")\n",
    "\n",
    "print(td.find('span',{\"class\":'name'}).text)\n",
    "\n",
    "anchors = td.find_all('a', {'class':'cEm'})\n",
    "print(anchors[0]['href'])\n",
    "print(anchors[1]['title'])\n",
    "\n",
    "dts = td.find_all('dt',{\"class\":\"line-left\"})\n",
    "print(dts[0].text)\n",
    "print(dts[1].text)\n",
    "print(dts[2].text)"
   ]
  },
  {
   "cell_type": "code",
   "execution_count": null,
   "metadata": {},
   "outputs": [],
   "source": [
    "#네이버 실시간 급상승 크롤링\n",
    "import re\n",
    "import requests\n",
    "\n",
    "html_text= requests.get('http://naver.com').text\n",
    "re.findall('<span class=\"ah_k\">(.*?)</span>', html_text)[:20]"
   ]
  },
  {
   "cell_type": "markdown",
   "metadata": {},
   "source": [
    "# 4. Training instantly coding situation (hardcore)\n",
    "- 숫자칠때 안보고 쳐라. 왠만하면 특수문자도 손에 익혀두면 코딩이 매우 빨라진다."
   ]
  },
  {
   "cell_type": "code",
   "execution_count": null,
   "metadata": {},
   "outputs": [],
   "source": []
  },
  {
   "cell_type": "markdown",
   "metadata": {},
   "source": [
    "# 5. Training python master (extremly hard)\n",
    "- 노가다가 필요할때도 있을것이다. 복붙보다도 빠른 속도를 자랑해보거라."
   ]
  }
 ],
 "metadata": {
  "kernelspec": {
   "display_name": "Python 3",
   "language": "python",
   "name": "python3"
  },
  "language_info": {
   "codemirror_mode": {
    "name": "ipython",
    "version": 3
   },
   "file_extension": ".py",
   "mimetype": "text/x-python",
   "name": "python",
   "nbconvert_exporter": "python",
   "pygments_lexer": "ipython3",
   "version": "3.6.3"
  }
 },
 "nbformat": 4,
 "nbformat_minor": 2
}
