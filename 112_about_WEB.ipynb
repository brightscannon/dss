{
 "cells": [
  {
   "cell_type": "markdown",
   "metadata": {},
   "source": [
    "# Index\n",
    "\n",
    "- server & Client Architecture\n",
    "- URL\n",
    "- Get & Post\n",
    "- Internet\n",
    "- OSI 7 Layer\n",
    "- cookie & session & cache\n",
    "- Web Status Code\n",
    "- Web Language & Framework\n",
    "- Spider & Bot & Scraping & Crawling"
   ]
  },
  {
   "cell_type": "markdown",
   "metadata": {},
   "source": [
    "# Server & Client Architeture\n",
    "\n",
    "- client\n",
    "    - 브라우저를 통해 서버에 데이터를 요청\n",
    "- Server\n",
    "    - Client가 데이터를 요청하면 요청에 따라 데이터를 전송\n"
   ]
  },
  {
   "cell_type": "markdown",
   "metadata": {},
   "source": [
    "# URL\n",
    "\n",
    "- Uniform REsource Locator\n",
    "- http://news.naver.com:80/main/read.nhn?\n",
    "  mode=LSD&mid=shm&sid1=105&oid=001&aid=0009847211#da_727145 뜯어보자\n",
    "    - https:// - Protocol\n",
    "    - news - Sub Domain\n",
    "    - naver.com - Domain\n",
    "    - 80-port\n",
    "    - /main/ -path\n",
    "    - read.nhn - page\n",
    "    - ?mode=LSD&mid=shm&sid1=105&oid=001&aid=0009847211 - query\n",
    "    - #da_727145 - fragment"
   ]
  },
  {
   "cell_type": "markdown",
   "metadata": {},
   "source": [
    "# Get & Post\n",
    "\n",
    "- Get\n",
    "    - Url에 데이터가 포함된다 -> 데이터가 노출됨\n",
    "    - 길이에 제한이 있다.\n",
    "\n",
    "- Post\n",
    "    -Body에 데이터가 포함된다. -> 데이터가 숨겨짐\n",
    "    "
   ]
  },
  {
   "cell_type": "markdown",
   "metadata": {},
   "source": [
    "# Internet\n",
    "\n",
    "- 인터넷이란?\n",
    "    - 인터넷은 컴퓨터로 연결하여 TCP/IP 라는 통신 프로토콜을 이용해 정보를 주고받는 컴퓨터 네트워크\n",
    "\n",
    "- 우리는 인터넷을 어떻게 사용하고 있을까?\n",
    "    - 해저케이블을 이용하여 전세계 서버에 접속하여 인터넷을 사용하고 있다.\n",
    "\n",
    "- 무선인터넷\n",
    "    - 선이 아니라 주파수를 매체로 사용한다.\n",
    "    - 우리가 사용하는 단말기만 무선이다.\n",
    "    \n"
   ]
  },
  {
   "cell_type": "markdown",
   "metadata": {},
   "source": [
    "# OSI 7 Layer\n",
    "\n",
    "- Open Source Interconnection Reference Model\n",
    "    - 국제 표준화기구(ISO)에서 개발한 모델로, 컴퓨터 네트워크 프로토콜 디자인과 통신을 계층으로 나누어 설명한 것이다.\n",
    "\n",
    "- 하위 계층으로 갈수록 페이로드가 증가"
   ]
  },
  {
   "cell_type": "markdown",
   "metadata": {},
   "source": [
    "# Cookie & Session & Cache\n",
    "\n",
    "- Cookie\n",
    "    - Client에 저장하는 문자열 데이터로 도메인 별로 따로 저장\n",
    "    - 로그인 정보, 내가 봤던 상품정보, 팝업 다시보지않음 등\n",
    "    - 하나의 클라이언트에 300개, 도메인당 20개, 쿠키 하나당 4Kbyte\n",
    "   \n",
    "- Session\n",
    "    - Server에 저장하는 객체 데이터, 브라우저와 연결시 Session ID 생성\n",
    "    - Session ID를 Cookie에 저장함으로 로그인 연결을 유지\n",
    "    - 같은 브라우져로 같은 서버에 접속하면 Session ID가 같음\n",
    "    - 로그인 연결 정보, 원하는 객체 데이터\n",
    "- Cache\n",
    "    - Client나 Server의 메모리에 저장하여 빠르게 데이터를 가져오는 목적의 저장소"
   ]
  },
  {
   "cell_type": "markdown",
   "metadata": {},
   "source": [
    "# HTTP Status Code\n",
    "\n",
    "- 서버와 클라이언트가 데이터를 주고 받으면 주고 받은 결과로 상태코드를 확인할 수 있다.\n",
    "- 2xx - success\n",
    "- 3xx - redirection(browser cache)\n",
    "- 4xx - request error\n",
    "- 5xx - server error\n",
    "- http 상태 코드에 대한 정보는 아래 링크 참조\n",
    "- http://bit.ly/2nlZM8L"
   ]
  },
  {
   "cell_type": "markdown",
   "metadata": {},
   "source": [
    "# Web Language & Framework\n",
    "\n",
    "- Client\n",
    "    - HTML\n",
    "    - CSS - less, sass\n",
    "    - Javascript - vue.js, react.js, angelar.js, backborn.js\n",
    "- Server\n",
    "    - Python - Django, Flask\n",
    "    - Java - spring\n",
    "    - Ruby - Rails\n",
    "    - Javascript - Nodejs(Express)\n",
    "    - Scala - Play"
   ]
  },
  {
   "cell_type": "markdown",
   "metadata": {},
   "source": [
    "# Scraping & Crawling & Spider & Bot\n",
    "\n",
    "- Scraping\n",
    "    - 데이터를 수집하는 작업\n",
    "- Crawling\n",
    "    - 여러페이지의 특정 데이터들을 수집하고 분류하는 작업\n",
    "- Spider or Web crawler\n",
    "    - 웹 데이터를 수집하는 소프트웨어\n",
    "- Bot\n",
    "    - 인터넷 상에서 자동화된 작업을 실행하는 소프트웨어"
   ]
  }
 ],
 "metadata": {
  "kernelspec": {
   "display_name": "Python 3",
   "language": "python",
   "name": "python3"
  },
  "language_info": {
   "codemirror_mode": {
    "name": "ipython",
    "version": 3
   },
   "file_extension": ".py",
   "mimetype": "text/x-python",
   "name": "python",
   "nbconvert_exporter": "python",
   "pygments_lexer": "ipython3",
   "version": "3.6.3"
  }
 },
 "nbformat": 4,
 "nbformat_minor": 2
}
