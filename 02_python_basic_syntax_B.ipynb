{
 "cells": [
  {
   "cell_type": "markdown",
   "metadata": {},
   "source": [
    "형변환, if문 for문 while문 등등"
   ]
  },
  {
   "cell_type": "markdown",
   "metadata": {},
   "source": [
    "### 데이터 형변환\n",
    "- 변수의 데이터 타입을 변경하는것\n",
    "- 데이터의 값과 변경하려는 데이터의 타입에 따라서 변경이 불가능할 수 있음.\n",
    "- 조건문 작성시 데이터가 있으면 True 없으면 False로 자동적 변환하여 적용함. "
   ]
  },
  {
   "cell_type": "code",
   "execution_count": 5,
   "metadata": {},
   "outputs": [
    {
     "data": {
      "text/plain": [
       "int"
      ]
     },
     "execution_count": 5,
     "metadata": {},
     "output_type": "execute_result"
    }
   ],
   "source": [
    "a = \"1\"\n",
    "type(int(a))"
   ]
  },
  {
   "cell_type": "code",
   "execution_count": 8,
   "metadata": {},
   "outputs": [
    {
     "data": {
      "text/plain": [
       "(False, True)"
      ]
     },
     "execution_count": 8,
     "metadata": {},
     "output_type": "execute_result"
    }
   ],
   "source": [
    "#Boolean 데이터 타입으로 형변환 (!중요)\n",
    "\n",
    "bool(\"\") ,bool(\"bright\")\n"
   ]
  },
  {
   "cell_type": "code",
   "execution_count": 11,
   "metadata": {},
   "outputs": [
    {
     "data": {
      "text/plain": [
       "(True, False, True, True)"
      ]
     },
     "execution_count": 11,
     "metadata": {},
     "output_type": "execute_result"
    }
   ],
   "source": [
    "bool(-1), bool(0), bool(1), bool(3)"
   ]
  },
  {
   "cell_type": "code",
   "execution_count": 13,
   "metadata": {},
   "outputs": [
    {
     "data": {
      "text/plain": [
       "(False, True)"
      ]
     },
     "execution_count": 13,
     "metadata": {},
     "output_type": "execute_result"
    }
   ],
   "source": [
    "bool([]), bool([1,2,3,4])"
   ]
  },
  {
   "cell_type": "code",
   "execution_count": 19,
   "metadata": {},
   "outputs": [
    {
     "name": "stdout",
     "output_type": "stream",
     "text": [
      "dss8_S2\n"
     ]
    }
   ],
   "source": [
    "s1, s2 = \"\", \"dss8\"\n",
    "if s1:\n",
    "    print(\"dss8_S1\")\n",
    "if s2:\n",
    "    print(\"dss8_S2\")"
   ]
  },
  {
   "cell_type": "code",
   "execution_count": 23,
   "metadata": {},
   "outputs": [
    {
     "name": "stdout",
     "output_type": "stream",
     "text": [
      "['1', '2', '3', '4']\n"
     ]
    }
   ],
   "source": [
    "s = \"1234\"\n",
    "s = list(s)\n",
    "print(s)"
   ]
  },
  {
   "cell_type": "markdown",
   "metadata": {},
   "source": [
    "#### ★★튜플과 딕셔너리의 형변환★★★★★★\n"
   ]
  },
  {
   "cell_type": "code",
   "execution_count": 30,
   "metadata": {},
   "outputs": [
    {
     "data": {
      "text/plain": [
       "{1: 'one', 'A': 'two'}"
      ]
     },
     "execution_count": 30,
     "metadata": {},
     "output_type": "execute_result"
    }
   ],
   "source": [
    "#튜플 -> 딕셔너리 : 튜플데이터가 (key, value)형대로 선언되어야 한다.\n",
    "\n",
    "t = ((1,\"one\"),(\"A\",\"two\"))\n",
    "dict(t)"
   ]
  },
  {
   "cell_type": "code",
   "execution_count": 36,
   "metadata": {},
   "outputs": [
    {
     "name": "stdout",
     "output_type": "stream",
     "text": [
      "(1, 'A')\n",
      "((1, 'one'), ('A', 'two'))\n"
     ]
    }
   ],
   "source": [
    "#딕셔너리 -> 튜플\n",
    "\n",
    "d = {1:\"one\",\"A\":\"two\"}\n",
    "print(tuple(d)) # 키값만 가져오게됨\n",
    "print(tuple(d.items()))# 키와 값을 모두 가져오게됨"
   ]
  },
  {
   "cell_type": "markdown",
   "metadata": {},
   "source": [
    "### 연산자\n",
    "- 산술연산자, 비교연산자, 할당(대입)연산자, 비트연산자, 논리연산자, 맴버연산자, 식별연산자"
   ]
  },
  {
   "cell_type": "code",
   "execution_count": 37,
   "metadata": {},
   "outputs": [
    {
     "name": "stdout",
     "output_type": "stream",
     "text": [
      "6\n",
      "-2\n",
      "1.6666666666666667\n",
      "15\n"
     ]
    }
   ],
   "source": [
    "# 산술연산자 : +, -, /, *, //(몫), %(나머지), **(제곱)\n",
    "print(2+4)\n",
    "print(2-4)\n",
    "print(5/3)\n",
    "print(5*3)\n"
   ]
  },
  {
   "cell_type": "code",
   "execution_count": 48,
   "metadata": {},
   "outputs": [
    {
     "name": "stdout",
     "output_type": "stream",
     "text": [
      "1\n",
      "4\n",
      "81\n",
      "1.4142135623730951\n"
     ]
    }
   ],
   "source": [
    "print(9//5)\n",
    "print(9%5)\n",
    "print(3**4)\n",
    "print(2**0.5) #<-----이것은 루트연산★★★★★"
   ]
  },
  {
   "cell_type": "code",
   "execution_count": 56,
   "metadata": {},
   "outputs": [
    {
     "name": "stdout",
     "output_type": "stream",
     "text": [
      "False\n",
      "True\n",
      "True\n",
      "False\n"
     ]
    }
   ],
   "source": [
    "#비교연산자 : a == b, a != b, >, <, >=, <=\n",
    "a, b, c = 10, 20, 10\n",
    "print(a==b)\n",
    "print(a!=b)\n",
    "print(a<b)\n",
    "print(a>b)"
   ]
  },
  {
   "cell_type": "code",
   "execution_count": 61,
   "metadata": {},
   "outputs": [
    {
     "name": "stdout",
     "output_type": "stream",
     "text": [
      "5\n"
     ]
    }
   ],
   "source": [
    "#할당(대입)연산자 : =, +=, -=, /=, *=, //=, %=, **=\n",
    "\n",
    "a = 5\n",
    "\n",
    "a %= 10\n",
    "\n",
    "print(a)"
   ]
  },
  {
   "cell_type": "code",
   "execution_count": 2,
   "metadata": {},
   "outputs": [
    {
     "name": "stdout",
     "output_type": "stream",
     "text": [
      "1 0b1\n",
      "7 0b111\n",
      "6 0b110\n",
      "-4 -0b100\n",
      "12 0b1100\n",
      "1 0b1\n"
     ]
    }
   ],
   "source": [
    "#비트연산자 : &, |, ^, ~, <<, >> (비트연산자는 계산이 조금 더 빠른편, 극한의 최적화에서(만) 사용해보자)\n",
    "\n",
    "a=3 # 011\n",
    "b=5 # 101\n",
    "\n",
    "print(a & b, bin(a & b))\n",
    "print(a | b, bin(a | b))\n",
    "print(a ^ b, bin(a ^ b))\n",
    "print(~a, bin(~a)) #보수라고 한다. ... -4, -3, -2, -1 0 | 1, 2, 3, (1과 0사이의 기준으로 양쪽을 대칭해서 보는 수) \n",
    "print(a<<2, bin(a<<2))# * 2**n #2진수 숫자를 왼쪽 방향으로 쉬프팅, 빈칸은 0을 채워서 해결\n",
    "print(b>>2, bin(b>>2))# // 2**n #2진수 숫자를 오른쪽 방향으로 쉬프팅, 없어지는 숫자는 지워서 해결"
   ]
  },
  {
   "cell_type": "code",
   "execution_count": null,
   "metadata": {},
   "outputs": [],
   "source": [
    "#논리연산자 : and, or, not"
   ]
  },
  {
   "cell_type": "code",
   "execution_count": null,
   "metadata": {},
   "outputs": [],
   "source": []
  },
  {
   "cell_type": "code",
   "execution_count": null,
   "metadata": {},
   "outputs": [],
   "source": []
  }
 ],
 "metadata": {
  "kernelspec": {
   "display_name": "Python 3",
   "language": "python",
   "name": "python3"
  },
  "language_info": {
   "codemirror_mode": {
    "name": "ipython",
    "version": 3
   },
   "file_extension": ".py",
   "mimetype": "text/x-python",
   "name": "python",
   "nbconvert_exporter": "python",
   "pygments_lexer": "ipython3",
   "version": "3.6.3"
  }
 },
 "nbformat": 4,
 "nbformat_minor": 2
}
